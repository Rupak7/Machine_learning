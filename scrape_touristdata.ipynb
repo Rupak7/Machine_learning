{
  "nbformat": 4,
  "nbformat_minor": 0,
  "metadata": {
    "colab": {
      "name": "scrape_touristdata.ipynb",
      "version": "0.3.2",
      "provenance": [],
      "include_colab_link": true
    },
    "kernelspec": {
      "name": "python3",
      "display_name": "Python 3"
    },
    "accelerator": "GPU"
  },
  "cells": [
    {
      "cell_type": "markdown",
      "metadata": {
        "id": "view-in-github",
        "colab_type": "text"
      },
      "source": [
        "<a href=\"https://colab.research.google.com/github/priyanshgupta1998/Machine_learning/blob/master/scrape_touristdata.ipynb\" target=\"_parent\"><img src=\"https://colab.research.google.com/assets/colab-badge.svg\" alt=\"Open In Colab\"/></a>"
      ]
    },
    {
      "cell_type": "code",
      "metadata": {
        "id": "JQbITFrQN4I9",
        "colab_type": "code",
        "colab": {}
      },
      "source": [
        ""
      ],
      "execution_count": 0,
      "outputs": []
    },
    {
      "cell_type": "code",
      "metadata": {
        "id": "KIMwZLgpN42E",
        "colab_type": "code",
        "colab": {}
      },
      "source": [
        "from bs4 import BeautifulSoup\n",
        "from requests import get\n",
        "from csv import writer\n",
        "\n",
        "url = 'https://www.holidify.com/places/shimla/sightseeing-and-things-to-do.html'\n",
        "\n",
        "\n",
        "r = get(url)\n",
        "soup = BeautifulSoup(r.text, 'lxml')\n",
        "\n",
        "\n",
        "# get all tables\n",
        "tables = soup.find_all('table')"
      ],
      "execution_count": 0,
      "outputs": []
    },
    {
      "cell_type": "code",
      "metadata": {
        "id": "gdUxMXxyN46n",
        "colab_type": "code",
        "colab": {
          "base_uri": "https://localhost:8080/",
          "height": 34
        },
        "outputId": "b6de8448-4769-45eb-825d-9100ac54ba51"
      },
      "source": [
        "from urllib.request import urlopen as ureq\n",
        "from bs4 import BeautifulSoup\n",
        "import requests\n",
        "url = 'https://www.holidify.com/places/shimla/sightseeing-and-things-to-do.html'\n",
        "page = requests.get(url)\n",
        "html = BeautifulSoup(page.content,'html.parser')\n",
        "div1 = html.findAll(\"a\",{\"class\":\"holidify-color readMore btn btn-primary\"})\n",
        "len(div1)"
      ],
      "execution_count": 7,
      "outputs": [
        {
          "output_type": "execute_result",
          "data": {
            "text/plain": [
              "42"
            ]
          },
          "metadata": {
            "tags": []
          },
          "execution_count": 7
        }
      ]
    },
    {
      "cell_type": "code",
      "metadata": {
        "id": "7d7jdEITN5Ab",
        "colab_type": "code",
        "colab": {
          "base_uri": "https://localhost:8080/",
          "height": 122
        },
        "outputId": "c1858be4-6046-4a0b-8a6c-868b92bc4c53"
      },
      "source": [
        "div1[:5]"
      ],
      "execution_count": 12,
      "outputs": [
        {
          "output_type": "execute_result",
          "data": {
            "text/plain": [
              "[<a class=\"holidify-color readMore btn btn-primary\" onclick='openLink(\"https://www.holidify.com/places/shimla/mall-road-sightseeing-3502.html\")' title=\"Mall Road, Shimla\">Read More</a>,\n",
              " <a class=\"holidify-color readMore btn btn-primary\" onclick='openLink(\"https://www.holidify.com/places/shimla/kalka-shimla-toy-train-sightseeing-3512.html\")' title=\"Kalka Shimla Toy Train\">Read More</a>,\n",
              " <a class=\"holidify-color readMore btn btn-primary\" onclick='openLink(\"https://www.holidify.com/places/shimla/ridge-sightseeing-3506.html\")' title=\"The Ridge\">Read More</a>,\n",
              " <a class=\"holidify-color readMore btn btn-primary\" onclick='openLink(\"https://www.holidify.com/places/shimla/cafe-simla-times-sightseeing-1253808.html\")' title=\"Cafe Simla Times\">Read More</a>,\n",
              " <a class=\"holidify-color readMore btn btn-primary\" onclick='openLink(\"https://www.holidify.com/places/kufri/\")' title=\"Kufri\">Read More</a>]"
            ]
          },
          "metadata": {
            "tags": []
          },
          "execution_count": 12
        }
      ]
    },
    {
      "cell_type": "code",
      "metadata": {
        "id": "6u0cOQEFN5HT",
        "colab_type": "code",
        "colab": {}
      },
      "source": [
        "places = []\n",
        "for i in div1:\n",
        "    places.append((i.get('onclick')).split('\"')[1])\n",
        "    \n",
        "for link in places:\n",
        "    url = link\n",
        "    page = requests.get(url)\n",
        "    html = BeautifulSoup(page.content,'html.parser')\n",
        "    div1 = html.findAll(\"a\",{\"class\":\"col-md-6 col-xs-12 \"})"
      ],
      "execution_count": 0,
      "outputs": []
    },
    {
      "cell_type": "markdown",
      "metadata": {
        "id": "E65eKG5IjmBs",
        "colab_type": "text"
      },
      "source": [
        "\n",
        "\n",
        "---\n",
        "\n",
        "\n",
        "\n",
        "---\n",
        "\n",
        "\n",
        "\n",
        "---\n",
        "\n",
        "\n",
        "\n",
        "---\n",
        "\n",
        "\n",
        "\n",
        "---\n",
        "\n",
        "\n",
        "\n",
        "---\n",
        "\n"
      ]
    },
    {
      "cell_type": "code",
      "metadata": {
        "id": "59apCgImN5Rx",
        "colab_type": "code",
        "colab": {
          "base_uri": "https://localhost:8080/",
          "height": 1000
        },
        "outputId": "bad0aa70-fb43-48a4-e414-63f74fc97936"
      },
      "source": [
        "places = []\n",
        "url =\"https://www.holidify.com\"\n",
        "l = len(url)\n",
        "page = requests.get(url)\n",
        "html = BeautifulSoup(page.content,'html.parser')\n",
        "div2 = html.findAll(\"a\")\n",
        "len(div2)\n",
        "for i in div2:\n",
        "    link = str(i.get('href'))\n",
        "    #print(link)\n",
        "    if(link[0]=='/'):\n",
        "        s=url  + link \n",
        "        if ('https://www.holidify.com/places/' or 'https://www.holidify.com/state/' or 'https://www.holidify.com/country/' in s):\n",
        "            places.append(s)\n",
        "    if ('https://www.holidify.com/places/' or 'https://www.holidify.com/state/' or 'https://www.holidify.com/country/' in link):\n",
        "        places.append(link)\n",
        "        \n",
        "places"
      ],
      "execution_count": 66,
      "outputs": [
        {
          "output_type": "execute_result",
          "data": {
            "text/plain": [
              "['None',\n",
              " '#',\n",
              " 'https://www.holidify.com/',\n",
              " '/',\n",
              " 'https://www.holidify.com/weekend-getaways/from-delhi.html',\n",
              " '/weekend-getaways/from-delhi.html',\n",
              " 'https://www.holidify.com/weekend-getaways/from-mumbai.html',\n",
              " '/weekend-getaways/from-mumbai.html',\n",
              " 'https://www.holidify.com/weekend-getaways/from-bangalore.html',\n",
              " '/weekend-getaways/from-bangalore.html',\n",
              " 'https://www.holidify.com/weekend-getaways/from-kolkata.html',\n",
              " '/weekend-getaways/from-kolkata.html',\n",
              " 'https://www.holidify.com/weekend-getaways/from-chennai.html',\n",
              " '/weekend-getaways/from-chennai.html',\n",
              " 'https://www.holidify.com/weekend-getaways/from-hyderabad.html',\n",
              " '/weekend-getaways/from-hyderabad.html',\n",
              " 'https://www.holidify.com/weekend-getaways/from-ahmedabad.html',\n",
              " '/weekend-getaways/from-ahmedabad.html',\n",
              " 'https://www.holidify.com/weekend-getaways/from-pune.html',\n",
              " '/weekend-getaways/from-pune.html',\n",
              " 'https://www.holidify.com/collections/best-beaches-in-india',\n",
              " '/collections/best-beaches-in-india',\n",
              " 'https://www.holidify.com/collections/hill-stations-of-india',\n",
              " '/collections/hill-stations-of-india',\n",
              " 'https://www.holidify.com/collections/national-parks-in-india',\n",
              " '/collections/national-parks-in-india',\n",
              " 'https://www.holidify.com/blog/best-road-trip-india/',\n",
              " 'https://www.holidify.com/blog/honeymoon-places-india/',\n",
              " 'https://www.holidify.com/collections/historical-places-in-india',\n",
              " '/collections/historical-places-in-india',\n",
              " 'https://www.holidify.com/places/singapore/sightseeing-and-things-to-do.html',\n",
              " '/places/singapore/sightseeing-and-things-to-do.html',\n",
              " 'https://www.holidify.com/country/uae/places-to-visit.html',\n",
              " '/country/uae/places-to-visit.html',\n",
              " 'https://www.holidify.com/country/oman/places-to-visit.html',\n",
              " '/country/oman/places-to-visit.html',\n",
              " 'https://www.holidify.com/country/thailand/places-to-visit.html',\n",
              " '/country/thailand/places-to-visit.html',\n",
              " 'https://www.holidify.com/country/nepal/places-to-visit.html',\n",
              " '/country/nepal/places-to-visit.html',\n",
              " 'https://www.holidify.com/country/vietnam/places-to-visit.html',\n",
              " '/country/vietnam/places-to-visit.html',\n",
              " 'https://www.holidify.com/places/seychelles/sightseeing-and-things-to-do.html',\n",
              " '/places/seychelles/sightseeing-and-things-to-do.html',\n",
              " 'https://www.holidify.com/places/mauritius/sightseeing-and-things-to-do.html',\n",
              " '/places/mauritius/sightseeing-and-things-to-do.html',\n",
              " 'https://www.holidify.com/country/india/places-to-visit.html',\n",
              " '/country/india/places-to-visit.html',\n",
              " 'https://www.holidify.com/collections/',\n",
              " '/collections/',\n",
              " 'https://www.holidify.com/blog/',\n",
              " '/blog/',\n",
              " 'https://www.holidify.com/packages/',\n",
              " '/packages/',\n",
              " 'https://www.holidify.com/hotels/',\n",
              " '/hotels/',\n",
              " 'None',\n",
              " 'None',\n",
              " 'https://play.google.com/store/apps/details?id=com.holidify.andorid.app.holidify&referrer=utm_source%3Ddesktop%26utm_medium%3Dmiddle_section%26utm_campaign%3Dlanding_page',\n",
              " 'https://www.holidify.com/',\n",
              " '/',\n",
              " 'https://www.holidify.com/explore/',\n",
              " '/explore/',\n",
              " 'https://www.holidify.com/collections/',\n",
              " '/collections/',\n",
              " 'None',\n",
              " 'https://www.holidify.com/places/almora/',\n",
              " 'https://www.holidify.com/places/amarnath/',\n",
              " 'https://www.holidify.com/places/lonavala/',\n",
              " 'https://www.holidify.com/places/srinagar/',\n",
              " 'https://www.holidify.com/places/delhi/waste-to-wonder-park-sightseeing-1254585.html',\n",
              " 'https://www.holidify.com/collections/best-places-to-visit-in-july-in-india',\n",
              " 'https://www.holidify.com/pages/mangoes-in-india-1438.html',\n",
              " 'https://www.holidify.com/places/amarnath/amarnath-yatra-sightseeing-4047.html',\n",
              " '#',\n",
              " '#',\n",
              " '#',\n",
              " '#',\n",
              " '#',\n",
              " '#',\n",
              " '#',\n",
              " '#',\n",
              " '#',\n",
              " '#',\n",
              " '#',\n",
              " '#',\n",
              " '#',\n",
              " '#',\n",
              " '#',\n",
              " '#',\n",
              " '#',\n",
              " '#',\n",
              " 'https://www.holidify.com/places/netarhat/',\n",
              " '/places/netarhat/',\n",
              " 'https://www.holidify.com/places/spiti/',\n",
              " '/places/spiti/',\n",
              " 'https://www.holidify.com/places/ladakh/',\n",
              " '/places/ladakh/',\n",
              " 'https://www.holidify.com/places/bageshwar/',\n",
              " '/places/bageshwar/',\n",
              " 'https://www.holidify.com/places/mount-abu/',\n",
              " '/places/mount-abu/',\n",
              " 'https://www.holidify.com/places/hazaribagh/',\n",
              " '/places/hazaribagh/',\n",
              " 'https://www.holidify.com/places/ranchi/',\n",
              " '/places/ranchi/',\n",
              " 'https://www.holidify.com/weekend-getaways/from-kolkata.html',\n",
              " 'https://www.holidify.com/weekend-getaways',\n",
              " '/weekend-getaways',\n",
              " 'https://www.holidify.com/weekend-getaways/from-bangalore.html',\n",
              " '/weekend-getaways/from-bangalore.html',\n",
              " 'https://www.holidify.com/weekend-getaways/from-delhi.html',\n",
              " '/weekend-getaways/from-delhi.html',\n",
              " 'https://www.holidify.com/weekend-getaways/from-mumbai.html',\n",
              " '/weekend-getaways/from-mumbai.html',\n",
              " 'https://www.holidify.com/weekend-getaways/from-chennai.html',\n",
              " '/weekend-getaways/from-chennai.html',\n",
              " 'https://www.holidify.com/weekend-getaways/from-hyderabad.html',\n",
              " '/weekend-getaways/from-hyderabad.html',\n",
              " 'https://www.holidify.com/weekend-getaways/from-pune.html',\n",
              " '/weekend-getaways/from-pune.html',\n",
              " 'https://www.holidify.com/weekend-getaways/from-kolkata.html',\n",
              " '/weekend-getaways/from-kolkata.html',\n",
              " 'https://www.holidify.com/blog/places-to-visit-in-july-in-india/',\n",
              " '/blog/places-to-visit-in-july-in-india/',\n",
              " 'https://www.holidify.com/blog/best-places-to-visit-in-india-in-august/',\n",
              " '/blog/best-places-to-visit-in-india-in-august/',\n",
              " 'https://www.holidify.com/blog/places-to-visit-in-september-in-india/',\n",
              " '/blog/places-to-visit-in-september-in-india/',\n",
              " 'https://www.holidify.com/blog/featured-destinations-this-october/',\n",
              " '/blog/featured-destinations-this-october/',\n",
              " 'https://www.holidify.com/blog/best-places-november-india/',\n",
              " '/blog/best-places-november-india/',\n",
              " 'https://www.holidify.com/blog/places-to-visit-in-india-in-december/',\n",
              " '/blog/places-to-visit-in-india-in-december/',\n",
              " 'https://www.holidify.com/collections/best-places-to-visit-in-july-in-india',\n",
              " 'https://www.holidify.com/collections/places-to-visit-in-north-east-india',\n",
              " 'https://www.holidify.com/collections/hill-stations-of-india',\n",
              " 'https://www.holidify.com/pages/bangalore-nightlife-227.html',\n",
              " 'https://www.holidify.com/pages/best-beer-in-india-619.html',\n",
              " 'https://www.holidify.com/pages/e-visa-countries-762.html',\n",
              " '/pages/e-visa-countries-762.html',\n",
              " 'https://www.holidify.com/pages/haunted-places-in-delhi-1330.html',\n",
              " 'https://www.holidify.com/places/manali/packages.html',\n",
              " '/places/manali/packages.html',\n",
              " 'https://www.holidify.com/places/ladakh/packages.html',\n",
              " '/places/ladakh/packages.html',\n",
              " 'https://www.holidify.com/places/gangtok/packages.html',\n",
              " '/places/gangtok/packages.html',\n",
              " 'https://www.holidify.com/places/darjeeling/packages.html',\n",
              " '/places/darjeeling/packages.html',\n",
              " 'https://www.holidify.com/places/andaman-nicobar-islands/packages.html',\n",
              " '/places/andaman-nicobar-islands/packages.html',\n",
              " 'https://www.holidify.com/places/dalhousie/packages.html',\n",
              " '/places/dalhousie/packages.html',\n",
              " 'https://www.holidify.com/places/munnar/packages.html',\n",
              " '/places/munnar/packages.html',\n",
              " 'https://www.holidify.com/state/sikkim/packages.html',\n",
              " '/state/sikkim/packages.html',\n",
              " 'https://www.holidify.com/places/phuket/packages.html',\n",
              " '/places/phuket/packages.html',\n",
              " 'https://www.holidify.com/state/rajasthan/packages.html',\n",
              " '/state/rajasthan/packages.html',\n",
              " 'https://www.holidify.com/country/thailand/',\n",
              " '/country/thailand/',\n",
              " 'https://www.holidify.com/country/india/',\n",
              " '/country/india/',\n",
              " 'https://www.holidify.com/country/vietnam/',\n",
              " '/country/vietnam/',\n",
              " 'https://www.holidify.com/places/singapore/',\n",
              " '/places/singapore/',\n",
              " 'https://www.holidify.com/country/bhutan/',\n",
              " '/country/bhutan/',\n",
              " 'https://www.holidify.com/country/uae/',\n",
              " '/country/uae/',\n",
              " 'https://www.holidify.com/collections/places-to-visit-in-indonesia/',\n",
              " '/collections/places-to-visit-in-indonesia/',\n",
              " 'https://www.holidify.com/collections/category/beaches',\n",
              " '/collections/category/beaches',\n",
              " 'https://www.holidify.com/collections/category/hill-stations',\n",
              " '/collections/category/hill-stations',\n",
              " 'https://www.holidify.com/pages/world-heritage-sites-in-india-1629.html',\n",
              " '/pages/world-heritage-sites-in-india-1629.html',\n",
              " 'https://www.holidify.com/collections/category/religious',\n",
              " '/collections/category/religious',\n",
              " 'https://www.holidify.com/collections/category/adventure',\n",
              " '/collections/category/adventure',\n",
              " '#',\n",
              " '#',\n",
              " '#',\n",
              " '#',\n",
              " '#',\n",
              " '#',\n",
              " '#',\n",
              " '#',\n",
              " '#',\n",
              " '#',\n",
              " '#',\n",
              " '#',\n",
              " '#',\n",
              " '#',\n",
              " '#',\n",
              " '#',\n",
              " '#',\n",
              " '#',\n",
              " 'https://www.holidify.com/pages/long-weekend-calendar-2019-2776.html',\n",
              " '/pages/long-weekend-calendar-2019-2776.html',\n",
              " 'https://www.holidify.com/pages/indigo-flights-start-at-999-2754.html',\n",
              " '/pages/indigo-flights-start-at-999-2754.html',\n",
              " 'https://www.holidify.com/pages/sudha-mahalingam-6-passports-65-countries-2772.html',\n",
              " '/pages/sudha-mahalingam-6-passports-65-countries-2772.html',\n",
              " 'https://www.holidify.com/pages/lord-ram-statue-in-ayodhya-2765.html',\n",
              " '/pages/lord-ram-statue-in-ayodhya-2765.html',\n",
              " 'https://www.holidify.com/pages/camping-ban-in-spiti-near-chandratal-lake-2759.html',\n",
              " '/pages/camping-ban-in-spiti-near-chandratal-lake-2759.html',\n",
              " 'https://www.holidify.com/pages/yellow-weather-in-himachal-pradesh-2764.html',\n",
              " '/pages/yellow-weather-in-himachal-pradesh-2764.html',\n",
              " 'whatsapp://send?text=https://www.holidify.com/?utm_source=shareBtn&utm_medium=whatsapp&utm_campaign=popup',\n",
              " 'https://www.facebook.com/sharer.php?u=https://www.holidify.com/?utm_source=shareBtn&utm_medium=fb&utm_campaign=popup',\n",
              " 'https://twitter.com/intent/tweet?url=https://www.holidify.com/?utm_source=shareBtn&utm_medium=twitter&utm_campaign=popup',\n",
              " 'https://www.facebook.com/dialog/send?app_id=358096707635831&link=https://www.holidify.com/?utm_source=shareBtn&utm_medium=messenger&utm_campaign=popup&redirect_uri=https://www.domain.com/',\n",
              " 'fb-messenger://share/?link=https://www.holidify.com/?utm_source=shareBtn&utm_medium=messenger&utm_campaign=popup&app_id=358096707635831',\n",
              " 'None',\n",
              " 'https://www.holidify.com/cdn-cgi/l/email-protection#1d226e687f77787e6920543d6a7c736978793d6472683d69723d6e78783d6975746e3d6e7469783b7c706d267f727964205e75787e763d7268693d7c6a786e7270783d6d717c7e783d72733d5572717479747b643c3d7569696d6e2732326a6a6a337572717479747b64337e72703222686970426e72686f7e78206e757c6f785f69733b686970427078797468702070786e6e78737a786f3b686970427e7c706d7c747a73207b727269786f3b7c6d6d427479202e28252d242b2a2d2a2b2e28252e2c',\n",
              " '/cdn-cgi/l/email-protection#1d226e687f77787e6920543d6a7c736978793d6472683d69723d6e78783d6975746e3d6e7469783b7c706d267f727964205e75787e763d7268693d7c6a786e7270783d6d717c7e783d72733d5572717479747b643c3d7569696d6e2732326a6a6a337572717479747b64337e72703222686970426e72686f7e78206e757c6f785f69733b686970427078797468702070786e6e78737a786f3b686970427e7c706d7c747a73207b727269786f3b7c6d6d427479202e28252d242b2a2d2a2b2e28252e2c',\n",
              " '#',\n",
              " '#',\n",
              " 'None',\n",
              " 'None']"
            ]
          },
          "metadata": {
            "tags": []
          },
          "execution_count": 66
        }
      ]
    },
    {
      "cell_type": "code",
      "metadata": {
        "id": "jziOcVt0N5Qg",
        "colab_type": "code",
        "colab": {}
      },
      "source": [
        ""
      ],
      "execution_count": 0,
      "outputs": []
    },
    {
      "cell_type": "code",
      "metadata": {
        "id": "kZoLToPoN5PD",
        "colab_type": "code",
        "colab": {
          "base_uri": "https://localhost:8080/",
          "height": 34
        },
        "outputId": "deb62b22-12b0-4df6-dcf1-2c9ab20a2948"
      },
      "source": [
        "\n",
        "url = \"https://www.holidify.com/places/manali/packages.html\"\n",
        "page = requests.get(url)\n",
        "html = BeautifulSoup(page.content,'html.parser')\n",
        "div3 = html.findAll(\"a\",{\"class\":\"paginationDigits\"})\n",
        "print(len(div3))\n",
        "for i in div3:\n",
        "    link = \"https://www.holidify.com\" + str(i.get('href'))\n",
        "    p = requests.get(link)\n",
        "    h =  BeautifulSoup(p.content,'html.parser')\n",
        "    div4 = h.find_all(\"a\",{\"class\":\"holidify-color readMore btn btn-primary\"})\n",
        "    print(len(div4))\n",
        "    print(div4)\n",
        "    \n",
        "    \n",
        "\n"
      ],
      "execution_count": 62,
      "outputs": [
        {
          "output_type": "stream",
          "text": [
            "0\n"
          ],
          "name": "stdout"
        }
      ]
    },
    {
      "cell_type": "markdown",
      "metadata": {
        "id": "9WPYZqSlvQgz",
        "colab_type": "text"
      },
      "source": [
        "\n",
        "\n",
        "---\n",
        "\n",
        "\n",
        "\n",
        "---\n",
        "\n",
        "\n",
        "\n",
        "---\n",
        "\n",
        "\n",
        "\n",
        "---\n",
        "\n",
        "\n",
        "\n",
        "---\n",
        "\n",
        "\n",
        "\n",
        "---\n",
        "\n",
        "#For INDIA"
      ]
    },
    {
      "cell_type": "code",
      "metadata": {
        "id": "10ok_ZfWN5Nj",
        "colab_type": "code",
        "colab": {}
      },
      "source": [
        ""
      ],
      "execution_count": 0,
      "outputs": []
    },
    {
      "cell_type": "code",
      "metadata": {
        "id": "-3_Oi-r_N5Lf",
        "colab_type": "code",
        "colab": {}
      },
      "source": [
        ""
      ],
      "execution_count": 0,
      "outputs": []
    },
    {
      "cell_type": "code",
      "metadata": {
        "id": "klWE1MPEN5Ju",
        "colab_type": "code",
        "colab": {}
      },
      "source": [
        ""
      ],
      "execution_count": 0,
      "outputs": []
    },
    {
      "cell_type": "code",
      "metadata": {
        "id": "iFSoSRsIN5FY",
        "colab_type": "code",
        "colab": {}
      },
      "source": [
        ""
      ],
      "execution_count": 0,
      "outputs": []
    },
    {
      "cell_type": "code",
      "metadata": {
        "id": "m8XZzIEYN4-9",
        "colab_type": "code",
        "colab": {}
      },
      "source": [
        ""
      ],
      "execution_count": 0,
      "outputs": []
    },
    {
      "cell_type": "code",
      "metadata": {
        "id": "e04drRqIN40n",
        "colab_type": "code",
        "colab": {}
      },
      "source": [
        ""
      ],
      "execution_count": 0,
      "outputs": []
    }
  ]
}