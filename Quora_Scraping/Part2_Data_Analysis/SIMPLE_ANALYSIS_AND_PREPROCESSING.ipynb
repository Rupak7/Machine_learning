{
  "nbformat": 4,
  "nbformat_minor": 0,
  "metadata": {
    "colab": {
      "name": "Copy of TensorFlow with GPU",
      "provenance": [],
      "collapsed_sections": [],
      "machine_shape": "hm",
      "include_colab_link": true
    },
    "kernelspec": {
      "name": "python3",
      "display_name": "Python 3"
    },
    "accelerator": "GPU"
  },
  "cells": [
    {
      "cell_type": "markdown",
      "metadata": {
        "id": "view-in-github",
        "colab_type": "text"
      },
      "source": [
        "<a href=\"https://colab.research.google.com/github/priyanshgupta1998/Machine_learning/blob/master/Quora_Scraping/Part2_Data_Analysis/SIMPLE_ANALYSIS_AND_PREPROCESSING.ipynb\" target=\"_parent\"><img src=\"https://colab.research.google.com/assets/colab-badge.svg\" alt=\"Open In Colab\"/></a>"
      ]
    },
    {
      "cell_type": "code",
      "metadata": {
        "id": "pxfrUZ1I8Z7U",
        "colab_type": "code",
        "colab": {}
      },
      "source": [
        "import pandas as pd\n",
        "import numpy as np"
      ],
      "execution_count": 0,
      "outputs": []
    },
    {
      "cell_type": "markdown",
      "metadata": {
        "id": "b400f9JILPHd",
        "colab_type": "text"
      },
      "source": [
        "#Mount dataset from google drive"
      ]
    },
    {
      "cell_type": "code",
      "metadata": {
        "id": "rGbCKtEu8rWt",
        "colab_type": "code",
        "colab": {
          "base_uri": "https://localhost:8080/",
          "height": 122
        },
        "outputId": "5991511c-2e76-4d36-f6d6-9c9d826dfdb3"
      },
      "source": [
        "from google.colab import drive\n",
        "drive.mount('/content/drive')"
      ],
      "execution_count": 4,
      "outputs": [
        {
          "output_type": "stream",
          "text": [
            "Go to this URL in a browser: https://accounts.google.com/o/oauth2/auth?client_id=947318989803-6bn6qk8qdgf4n4g3pfee6491hc0brc4i.apps.googleusercontent.com&redirect_uri=urn%3Aietf%3Awg%3Aoauth%3A2.0%3Aoob&scope=email%20https%3A%2F%2Fwww.googleapis.com%2Fauth%2Fdocs.test%20https%3A%2F%2Fwww.googleapis.com%2Fauth%2Fdrive%20https%3A%2F%2Fwww.googleapis.com%2Fauth%2Fdrive.photos.readonly%20https%3A%2F%2Fwww.googleapis.com%2Fauth%2Fpeopleapi.readonly&response_type=code\n",
            "\n",
            "Enter your authorization code:\n",
            "··········\n",
            "Mounted at /content/drive\n"
          ],
          "name": "stdout"
        }
      ]
    },
    {
      "cell_type": "code",
      "metadata": {
        "id": "Wlmv-SZ6_n1C",
        "colab_type": "code",
        "colab": {}
      },
      "source": [
        "data  = pd.read_csv('/content/drive/My Drive/Data_WhareHouse/Quora_Questions_Scraping.csv')"
      ],
      "execution_count": 0,
      "outputs": []
    },
    {
      "cell_type": "code",
      "metadata": {
        "id": "UnFuTeN58aCD",
        "colab_type": "code",
        "colab": {
          "base_uri": "https://localhost:8080/",
          "height": 476
        },
        "outputId": "96607ef8-2417-403a-d5ac-277e948e213c"
      },
      "source": [
        "df = data.copy()\n",
        "print(df.shape)\n",
        "df.head()"
      ],
      "execution_count": 55,
      "outputs": [
        {
          "output_type": "stream",
          "text": [
            "(877, 9)\n"
          ],
          "name": "stdout"
        },
        {
          "output_type": "execute_result",
          "data": {
            "text/html": [
              "<div>\n",
              "<style scoped>\n",
              "    .dataframe tbody tr th:only-of-type {\n",
              "        vertical-align: middle;\n",
              "    }\n",
              "\n",
              "    .dataframe tbody tr th {\n",
              "        vertical-align: top;\n",
              "    }\n",
              "\n",
              "    .dataframe thead th {\n",
              "        text-align: right;\n",
              "    }\n",
              "</style>\n",
              "<table border=\"1\" class=\"dataframe\">\n",
              "  <thead>\n",
              "    <tr style=\"text-align: right;\">\n",
              "      <th></th>\n",
              "      <th>Question</th>\n",
              "      <th>Number_of_Answer</th>\n",
              "      <th>User_name</th>\n",
              "      <th>User_Profile</th>\n",
              "      <th>Answer</th>\n",
              "      <th>Number_of_Views</th>\n",
              "      <th>Number_of_Upvotes</th>\n",
              "      <th>Date_Of_Answer</th>\n",
              "      <th>Question_link</th>\n",
              "    </tr>\n",
              "  </thead>\n",
              "  <tbody>\n",
              "    <tr>\n",
              "      <th>0</th>\n",
              "      <td>How good are titan watches compared to other g...</td>\n",
              "      <td>10</td>\n",
              "      <td>Siddharth Gopinath</td>\n",
              "      <td>, A watch collector and lover</td>\n",
              "      <td>As a collector and lover of watches, I've fou...</td>\n",
              "      <td>11.4k views</td>\n",
              "      <td>View 10 Upvoters</td>\n",
              "      <td>Answered Oct 27, 2016</td>\n",
              "      <td>https://www.quora.com/How-good-are-titan-watch...</td>\n",
              "    </tr>\n",
              "    <tr>\n",
              "      <th>1</th>\n",
              "      <td>How good are titan watches compared to other g...</td>\n",
              "      <td>10</td>\n",
              "      <td>?</td>\n",
              "      <td>?</td>\n",
              "      <td></td>\n",
              "      <td>?</td>\n",
              "      <td>?</td>\n",
              "      <td>?</td>\n",
              "      <td>https://www.quora.com/How-good-are-titan-watch...</td>\n",
              "    </tr>\n",
              "    <tr>\n",
              "      <th>2</th>\n",
              "      <td>How good are titan watches compared to other g...</td>\n",
              "      <td>10</td>\n",
              "      <td>Tanmoy Barman</td>\n",
              "      <td>, Corporate enthusiast</td>\n",
              "      <td>Titan Company Limited (earlier known as Titan...</td>\n",
              "      <td>?</td>\n",
              "      <td>?</td>\n",
              "      <td>Answered Oct 26, 2016</td>\n",
              "      <td>https://www.quora.com/How-good-are-titan-watch...</td>\n",
              "    </tr>\n",
              "    <tr>\n",
              "      <th>3</th>\n",
              "      <td>How good are titan watches compared to other g...</td>\n",
              "      <td>10</td>\n",
              "      <td>?</td>\n",
              "      <td>?</td>\n",
              "      <td></td>\n",
              "      <td>?</td>\n",
              "      <td>?</td>\n",
              "      <td>?</td>\n",
              "      <td>https://www.quora.com/How-good-are-titan-watch...</td>\n",
              "    </tr>\n",
              "    <tr>\n",
              "      <th>4</th>\n",
              "      <td>How good are titan watches compared to other g...</td>\n",
              "      <td>10</td>\n",
              "      <td>Hussein Faruque Aly</td>\n",
              "      <td>, studied at University of Geneva</td>\n",
              "      <td>I have just bought a Titan Watch on a trip to...</td>\n",
              "      <td>9.3k views</td>\n",
              "      <td>View 29 Upvoters</td>\n",
              "      <td>Answered Aug 26, 2017</td>\n",
              "      <td>https://www.quora.com/How-good-are-titan-watch...</td>\n",
              "    </tr>\n",
              "  </tbody>\n",
              "</table>\n",
              "</div>"
            ],
            "text/plain": [
              "                                            Question  ...                                      Question_link\n",
              "0  How good are titan watches compared to other g...  ...  https://www.quora.com/How-good-are-titan-watch...\n",
              "1  How good are titan watches compared to other g...  ...  https://www.quora.com/How-good-are-titan-watch...\n",
              "2  How good are titan watches compared to other g...  ...  https://www.quora.com/How-good-are-titan-watch...\n",
              "3  How good are titan watches compared to other g...  ...  https://www.quora.com/How-good-are-titan-watch...\n",
              "4  How good are titan watches compared to other g...  ...  https://www.quora.com/How-good-are-titan-watch...\n",
              "\n",
              "[5 rows x 9 columns]"
            ]
          },
          "metadata": {
            "tags": []
          },
          "execution_count": 55
        }
      ]
    },
    {
      "cell_type": "markdown",
      "metadata": {
        "id": "IYjfcgejBY8M",
        "colab_type": "text"
      },
      "source": [
        "#Remove Redundant data (Entire row)"
      ]
    },
    {
      "cell_type": "code",
      "metadata": {
        "id": "QWnw64mH_i78",
        "colab_type": "code",
        "colab": {
          "base_uri": "https://localhost:8080/",
          "height": 527
        },
        "outputId": "df988fde-d5d3-46f7-a8f5-94739020297a"
      },
      "source": [
        "print(df[df['Date_Of_Answer']=='?'].shape)\n",
        "print(\"Total Number of Redundant Data : \", len(df[df['Date_Of_Answer']=='?']))\n",
        "df = df[df['Date_Of_Answer']!='?']\n",
        "print(df.shape)\n",
        "df.head()"
      ],
      "execution_count": 56,
      "outputs": [
        {
          "output_type": "stream",
          "text": [
            "(304, 9)\n",
            "Total Number of Redundant Data :  304\n",
            "(573, 9)\n"
          ],
          "name": "stdout"
        },
        {
          "output_type": "execute_result",
          "data": {
            "text/html": [
              "<div>\n",
              "<style scoped>\n",
              "    .dataframe tbody tr th:only-of-type {\n",
              "        vertical-align: middle;\n",
              "    }\n",
              "\n",
              "    .dataframe tbody tr th {\n",
              "        vertical-align: top;\n",
              "    }\n",
              "\n",
              "    .dataframe thead th {\n",
              "        text-align: right;\n",
              "    }\n",
              "</style>\n",
              "<table border=\"1\" class=\"dataframe\">\n",
              "  <thead>\n",
              "    <tr style=\"text-align: right;\">\n",
              "      <th></th>\n",
              "      <th>Question</th>\n",
              "      <th>Number_of_Answer</th>\n",
              "      <th>User_name</th>\n",
              "      <th>User_Profile</th>\n",
              "      <th>Answer</th>\n",
              "      <th>Number_of_Views</th>\n",
              "      <th>Number_of_Upvotes</th>\n",
              "      <th>Date_Of_Answer</th>\n",
              "      <th>Question_link</th>\n",
              "    </tr>\n",
              "  </thead>\n",
              "  <tbody>\n",
              "    <tr>\n",
              "      <th>0</th>\n",
              "      <td>How good are titan watches compared to other g...</td>\n",
              "      <td>10</td>\n",
              "      <td>Siddharth Gopinath</td>\n",
              "      <td>, A watch collector and lover</td>\n",
              "      <td>As a collector and lover of watches, I've fou...</td>\n",
              "      <td>11.4k views</td>\n",
              "      <td>View 10 Upvoters</td>\n",
              "      <td>Answered Oct 27, 2016</td>\n",
              "      <td>https://www.quora.com/How-good-are-titan-watch...</td>\n",
              "    </tr>\n",
              "    <tr>\n",
              "      <th>2</th>\n",
              "      <td>How good are titan watches compared to other g...</td>\n",
              "      <td>10</td>\n",
              "      <td>Tanmoy Barman</td>\n",
              "      <td>, Corporate enthusiast</td>\n",
              "      <td>Titan Company Limited (earlier known as Titan...</td>\n",
              "      <td>?</td>\n",
              "      <td>?</td>\n",
              "      <td>Answered Oct 26, 2016</td>\n",
              "      <td>https://www.quora.com/How-good-are-titan-watch...</td>\n",
              "    </tr>\n",
              "    <tr>\n",
              "      <th>4</th>\n",
              "      <td>How good are titan watches compared to other g...</td>\n",
              "      <td>10</td>\n",
              "      <td>Hussein Faruque Aly</td>\n",
              "      <td>, studied at University of Geneva</td>\n",
              "      <td>I have just bought a Titan Watch on a trip to...</td>\n",
              "      <td>9.3k views</td>\n",
              "      <td>View 29 Upvoters</td>\n",
              "      <td>Answered Aug 26, 2017</td>\n",
              "      <td>https://www.quora.com/How-good-are-titan-watch...</td>\n",
              "    </tr>\n",
              "    <tr>\n",
              "      <th>5</th>\n",
              "      <td>How good are titan watches compared to other g...</td>\n",
              "      <td>10</td>\n",
              "      <td>Shrey Shah</td>\n",
              "      <td>, BTech from Vidyalankar Institute of Technolo...</td>\n",
              "      <td>Titan watches are one of a kind.With the comp...</td>\n",
              "      <td>?</td>\n",
              "      <td>?</td>\n",
              "      <td>Answered Aug 6, 2017</td>\n",
              "      <td>https://www.quora.com/How-good-are-titan-watch...</td>\n",
              "    </tr>\n",
              "    <tr>\n",
              "      <th>7</th>\n",
              "      <td>How good are titan watches compared to other g...</td>\n",
              "      <td>10</td>\n",
              "      <td>Reshma Kumari</td>\n",
              "      <td>?</td>\n",
              "      <td>Over the period of time titan watches created...</td>\n",
              "      <td>?</td>\n",
              "      <td>?</td>\n",
              "      <td>Answered Jun 20, 2017</td>\n",
              "      <td>https://www.quora.com/How-good-are-titan-watch...</td>\n",
              "    </tr>\n",
              "  </tbody>\n",
              "</table>\n",
              "</div>"
            ],
            "text/plain": [
              "                                            Question  ...                                      Question_link\n",
              "0  How good are titan watches compared to other g...  ...  https://www.quora.com/How-good-are-titan-watch...\n",
              "2  How good are titan watches compared to other g...  ...  https://www.quora.com/How-good-are-titan-watch...\n",
              "4  How good are titan watches compared to other g...  ...  https://www.quora.com/How-good-are-titan-watch...\n",
              "5  How good are titan watches compared to other g...  ...  https://www.quora.com/How-good-are-titan-watch...\n",
              "7  How good are titan watches compared to other g...  ...  https://www.quora.com/How-good-are-titan-watch...\n",
              "\n",
              "[5 rows x 9 columns]"
            ]
          },
          "metadata": {
            "tags": []
          },
          "execution_count": 56
        }
      ]
    },
    {
      "cell_type": "markdown",
      "metadata": {
        "id": "zI60PxNUBUi2",
        "colab_type": "text"
      },
      "source": [
        "#Find Anonymous persons"
      ]
    },
    {
      "cell_type": "code",
      "metadata": {
        "id": "mr0rtZZw9FR3",
        "colab_type": "code",
        "colab": {
          "base_uri": "https://localhost:8080/",
          "height": 397
        },
        "outputId": "626246ea-989e-4606-bfc1-42625be77ce9"
      },
      "source": [
        "print(df[df['User_name']=='?'].shape)\n",
        "print(\"Number of Anonymous Persons on Quora : \" ,len(df[df['User_name']=='?']) )\n",
        "# liss = []\n",
        "# for i in range(len(df[df['User_name']=='?'])):\n",
        "#   liss.append('Anonymous')\n",
        "df['User_name'] = df['User_name'].replace(to_replace ='?',value ='Anonymous') \n",
        "print(df.shape)\n",
        "df[4:7]"
      ],
      "execution_count": 57,
      "outputs": [
        {
          "output_type": "stream",
          "text": [
            "(25, 9)\n",
            "Number of Anonymous Persons on Quora :  25\n",
            "(573, 9)\n"
          ],
          "name": "stdout"
        },
        {
          "output_type": "execute_result",
          "data": {
            "text/html": [
              "<div>\n",
              "<style scoped>\n",
              "    .dataframe tbody tr th:only-of-type {\n",
              "        vertical-align: middle;\n",
              "    }\n",
              "\n",
              "    .dataframe tbody tr th {\n",
              "        vertical-align: top;\n",
              "    }\n",
              "\n",
              "    .dataframe thead th {\n",
              "        text-align: right;\n",
              "    }\n",
              "</style>\n",
              "<table border=\"1\" class=\"dataframe\">\n",
              "  <thead>\n",
              "    <tr style=\"text-align: right;\">\n",
              "      <th></th>\n",
              "      <th>Question</th>\n",
              "      <th>Number_of_Answer</th>\n",
              "      <th>User_name</th>\n",
              "      <th>User_Profile</th>\n",
              "      <th>Answer</th>\n",
              "      <th>Number_of_Views</th>\n",
              "      <th>Number_of_Upvotes</th>\n",
              "      <th>Date_Of_Answer</th>\n",
              "      <th>Question_link</th>\n",
              "    </tr>\n",
              "  </thead>\n",
              "  <tbody>\n",
              "    <tr>\n",
              "      <th>7</th>\n",
              "      <td>How good are titan watches compared to other g...</td>\n",
              "      <td>10</td>\n",
              "      <td>Reshma Kumari</td>\n",
              "      <td>?</td>\n",
              "      <td>Over the period of time titan watches created...</td>\n",
              "      <td>?</td>\n",
              "      <td>?</td>\n",
              "      <td>Answered Jun 20, 2017</td>\n",
              "      <td>https://www.quora.com/How-good-are-titan-watch...</td>\n",
              "    </tr>\n",
              "    <tr>\n",
              "      <th>9</th>\n",
              "      <td>How good are titan watches compared to other g...</td>\n",
              "      <td>10</td>\n",
              "      <td>Anonymous</td>\n",
              "      <td>?</td>\n",
              "      <td>Titan watches are very good but don't appeal ...</td>\n",
              "      <td>3.7k views</td>\n",
              "      <td>View 1 Upvoter</td>\n",
              "      <td>Answered May 31, 2018</td>\n",
              "      <td>https://www.quora.com/How-good-are-titan-watch...</td>\n",
              "    </tr>\n",
              "    <tr>\n",
              "      <th>10</th>\n",
              "      <td>How good are titan watches compared to other g...</td>\n",
              "      <td>10</td>\n",
              "      <td>KareesmaDas</td>\n",
              "      <td>, Fashion Jewelry, Beauty &amp; Lifestyle Blogger</td>\n",
              "      <td>I’d love to Compare Titan Octane vs Casio Edi...</td>\n",
              "      <td>1k views</td>\n",
              "      <td>?</td>\n",
              "      <td>Answered Apr 25, 2019</td>\n",
              "      <td>https://www.quora.com/How-good-are-titan-watch...</td>\n",
              "    </tr>\n",
              "  </tbody>\n",
              "</table>\n",
              "</div>"
            ],
            "text/plain": [
              "                                             Question  ...                                      Question_link\n",
              "7   How good are titan watches compared to other g...  ...  https://www.quora.com/How-good-are-titan-watch...\n",
              "9   How good are titan watches compared to other g...  ...  https://www.quora.com/How-good-are-titan-watch...\n",
              "10  How good are titan watches compared to other g...  ...  https://www.quora.com/How-good-are-titan-watch...\n",
              "\n",
              "[3 rows x 9 columns]"
            ]
          },
          "metadata": {
            "tags": []
          },
          "execution_count": 57
        }
      ]
    },
    {
      "cell_type": "markdown",
      "metadata": {
        "id": "R2l71X5HIdeg",
        "colab_type": "text"
      },
      "source": [
        "#Search Number of Unseen Answers on Quora"
      ]
    },
    {
      "cell_type": "code",
      "metadata": {
        "id": "Iqx7m3be9FOb",
        "colab_type": "code",
        "colab": {
          "base_uri": "https://localhost:8080/",
          "height": 397
        },
        "outputId": "4e015a7b-3cc3-4820-eb78-05f9fde4e787"
      },
      "source": [
        "print(df[df['Number_of_Views']=='?'].shape)\n",
        "print(\"Number of Unseen Answers on Quora : \" ,len(df[df['Number_of_Views']=='?']) )\n",
        "\n",
        "df['Number_of_Views'] = df['Number_of_Views'].replace(to_replace ='?',value ='0k views') \n",
        "print(df.shape)\n",
        "df[4:7]"
      ],
      "execution_count": 59,
      "outputs": [
        {
          "output_type": "stream",
          "text": [
            "(264, 9)\n",
            "Number of Unseen Answers on Quora :  264\n",
            "(573, 9)\n"
          ],
          "name": "stdout"
        },
        {
          "output_type": "execute_result",
          "data": {
            "text/html": [
              "<div>\n",
              "<style scoped>\n",
              "    .dataframe tbody tr th:only-of-type {\n",
              "        vertical-align: middle;\n",
              "    }\n",
              "\n",
              "    .dataframe tbody tr th {\n",
              "        vertical-align: top;\n",
              "    }\n",
              "\n",
              "    .dataframe thead th {\n",
              "        text-align: right;\n",
              "    }\n",
              "</style>\n",
              "<table border=\"1\" class=\"dataframe\">\n",
              "  <thead>\n",
              "    <tr style=\"text-align: right;\">\n",
              "      <th></th>\n",
              "      <th>Question</th>\n",
              "      <th>Number_of_Answer</th>\n",
              "      <th>User_name</th>\n",
              "      <th>User_Profile</th>\n",
              "      <th>Answer</th>\n",
              "      <th>Number_of_Views</th>\n",
              "      <th>Number_of_Upvotes</th>\n",
              "      <th>Date_Of_Answer</th>\n",
              "      <th>Question_link</th>\n",
              "    </tr>\n",
              "  </thead>\n",
              "  <tbody>\n",
              "    <tr>\n",
              "      <th>7</th>\n",
              "      <td>How good are titan watches compared to other g...</td>\n",
              "      <td>10</td>\n",
              "      <td>Reshma Kumari</td>\n",
              "      <td>?</td>\n",
              "      <td>Over the period of time titan watches created...</td>\n",
              "      <td>0k views</td>\n",
              "      <td>?</td>\n",
              "      <td>Answered Jun 20, 2017</td>\n",
              "      <td>https://www.quora.com/How-good-are-titan-watch...</td>\n",
              "    </tr>\n",
              "    <tr>\n",
              "      <th>9</th>\n",
              "      <td>How good are titan watches compared to other g...</td>\n",
              "      <td>10</td>\n",
              "      <td>Anonymous</td>\n",
              "      <td>?</td>\n",
              "      <td>Titan watches are very good but don't appeal ...</td>\n",
              "      <td>3.7k views</td>\n",
              "      <td>View 1 Upvoter</td>\n",
              "      <td>Answered May 31, 2018</td>\n",
              "      <td>https://www.quora.com/How-good-are-titan-watch...</td>\n",
              "    </tr>\n",
              "    <tr>\n",
              "      <th>10</th>\n",
              "      <td>How good are titan watches compared to other g...</td>\n",
              "      <td>10</td>\n",
              "      <td>KareesmaDas</td>\n",
              "      <td>, Fashion Jewelry, Beauty &amp; Lifestyle Blogger</td>\n",
              "      <td>I’d love to Compare Titan Octane vs Casio Edi...</td>\n",
              "      <td>1k views</td>\n",
              "      <td>?</td>\n",
              "      <td>Answered Apr 25, 2019</td>\n",
              "      <td>https://www.quora.com/How-good-are-titan-watch...</td>\n",
              "    </tr>\n",
              "  </tbody>\n",
              "</table>\n",
              "</div>"
            ],
            "text/plain": [
              "                                             Question  ...                                      Question_link\n",
              "7   How good are titan watches compared to other g...  ...  https://www.quora.com/How-good-are-titan-watch...\n",
              "9   How good are titan watches compared to other g...  ...  https://www.quora.com/How-good-are-titan-watch...\n",
              "10  How good are titan watches compared to other g...  ...  https://www.quora.com/How-good-are-titan-watch...\n",
              "\n",
              "[3 rows x 9 columns]"
            ]
          },
          "metadata": {
            "tags": []
          },
          "execution_count": 59
        }
      ]
    },
    {
      "cell_type": "code",
      "metadata": {
        "id": "ivi73Hl-9FMp",
        "colab_type": "code",
        "colab": {
          "base_uri": "https://localhost:8080/",
          "height": 397
        },
        "outputId": "98b36509-efbb-4e8a-fb11-fa0af936d996"
      },
      "source": [
        "print(df[df['Number_of_Upvotes']=='?'].shape)\n",
        "print(\"Number of Answers on Quora having 0 Upvotes : \" ,len(df[df['Number_of_Upvotes']=='?']) )\n",
        "\n",
        "df['Number_of_Upvotes'] = df['Number_of_Upvotes'].replace(to_replace ='?',value ='View 0 Upvoter') \n",
        "print(df.shape)\n",
        "df[4:7]"
      ],
      "execution_count": 60,
      "outputs": [
        {
          "output_type": "stream",
          "text": [
            "(357, 9)\n",
            "Number of Answers on Quora having 0 Upvotes :  357\n",
            "(573, 9)\n"
          ],
          "name": "stdout"
        },
        {
          "output_type": "execute_result",
          "data": {
            "text/html": [
              "<div>\n",
              "<style scoped>\n",
              "    .dataframe tbody tr th:only-of-type {\n",
              "        vertical-align: middle;\n",
              "    }\n",
              "\n",
              "    .dataframe tbody tr th {\n",
              "        vertical-align: top;\n",
              "    }\n",
              "\n",
              "    .dataframe thead th {\n",
              "        text-align: right;\n",
              "    }\n",
              "</style>\n",
              "<table border=\"1\" class=\"dataframe\">\n",
              "  <thead>\n",
              "    <tr style=\"text-align: right;\">\n",
              "      <th></th>\n",
              "      <th>Question</th>\n",
              "      <th>Number_of_Answer</th>\n",
              "      <th>User_name</th>\n",
              "      <th>User_Profile</th>\n",
              "      <th>Answer</th>\n",
              "      <th>Number_of_Views</th>\n",
              "      <th>Number_of_Upvotes</th>\n",
              "      <th>Date_Of_Answer</th>\n",
              "      <th>Question_link</th>\n",
              "    </tr>\n",
              "  </thead>\n",
              "  <tbody>\n",
              "    <tr>\n",
              "      <th>7</th>\n",
              "      <td>How good are titan watches compared to other g...</td>\n",
              "      <td>10</td>\n",
              "      <td>Reshma Kumari</td>\n",
              "      <td>?</td>\n",
              "      <td>Over the period of time titan watches created...</td>\n",
              "      <td>0k views</td>\n",
              "      <td>View 0 Upvoter</td>\n",
              "      <td>Answered Jun 20, 2017</td>\n",
              "      <td>https://www.quora.com/How-good-are-titan-watch...</td>\n",
              "    </tr>\n",
              "    <tr>\n",
              "      <th>9</th>\n",
              "      <td>How good are titan watches compared to other g...</td>\n",
              "      <td>10</td>\n",
              "      <td>Anonymous</td>\n",
              "      <td>?</td>\n",
              "      <td>Titan watches are very good but don't appeal ...</td>\n",
              "      <td>3.7k views</td>\n",
              "      <td>View 1 Upvoter</td>\n",
              "      <td>Answered May 31, 2018</td>\n",
              "      <td>https://www.quora.com/How-good-are-titan-watch...</td>\n",
              "    </tr>\n",
              "    <tr>\n",
              "      <th>10</th>\n",
              "      <td>How good are titan watches compared to other g...</td>\n",
              "      <td>10</td>\n",
              "      <td>KareesmaDas</td>\n",
              "      <td>, Fashion Jewelry, Beauty &amp; Lifestyle Blogger</td>\n",
              "      <td>I’d love to Compare Titan Octane vs Casio Edi...</td>\n",
              "      <td>1k views</td>\n",
              "      <td>View 0 Upvoter</td>\n",
              "      <td>Answered Apr 25, 2019</td>\n",
              "      <td>https://www.quora.com/How-good-are-titan-watch...</td>\n",
              "    </tr>\n",
              "  </tbody>\n",
              "</table>\n",
              "</div>"
            ],
            "text/plain": [
              "                                             Question  ...                                      Question_link\n",
              "7   How good are titan watches compared to other g...  ...  https://www.quora.com/How-good-are-titan-watch...\n",
              "9   How good are titan watches compared to other g...  ...  https://www.quora.com/How-good-are-titan-watch...\n",
              "10  How good are titan watches compared to other g...  ...  https://www.quora.com/How-good-are-titan-watch...\n",
              "\n",
              "[3 rows x 9 columns]"
            ]
          },
          "metadata": {
            "tags": []
          },
          "execution_count": 60
        }
      ]
    },
    {
      "cell_type": "markdown",
      "metadata": {
        "id": "lzCjXw2qJnuq",
        "colab_type": "text"
      },
      "source": [
        "#Replace all '?' with np.nan in order to find the number of null values in the dataset"
      ]
    },
    {
      "cell_type": "code",
      "metadata": {
        "id": "D04iqXyvJXNe",
        "colab_type": "code",
        "colab": {
          "base_uri": "https://localhost:8080/",
          "height": 363
        },
        "outputId": "9f7afcf5-a394-4337-d1e7-019c65563b65"
      },
      "source": [
        "df = df.replace(to_replace ='?',value =np.nan) \n",
        "print(df.shape)\n",
        "df[4:7]"
      ],
      "execution_count": 62,
      "outputs": [
        {
          "output_type": "stream",
          "text": [
            "(573, 9)\n"
          ],
          "name": "stdout"
        },
        {
          "output_type": "execute_result",
          "data": {
            "text/html": [
              "<div>\n",
              "<style scoped>\n",
              "    .dataframe tbody tr th:only-of-type {\n",
              "        vertical-align: middle;\n",
              "    }\n",
              "\n",
              "    .dataframe tbody tr th {\n",
              "        vertical-align: top;\n",
              "    }\n",
              "\n",
              "    .dataframe thead th {\n",
              "        text-align: right;\n",
              "    }\n",
              "</style>\n",
              "<table border=\"1\" class=\"dataframe\">\n",
              "  <thead>\n",
              "    <tr style=\"text-align: right;\">\n",
              "      <th></th>\n",
              "      <th>Question</th>\n",
              "      <th>Number_of_Answer</th>\n",
              "      <th>User_name</th>\n",
              "      <th>User_Profile</th>\n",
              "      <th>Answer</th>\n",
              "      <th>Number_of_Views</th>\n",
              "      <th>Number_of_Upvotes</th>\n",
              "      <th>Date_Of_Answer</th>\n",
              "      <th>Question_link</th>\n",
              "    </tr>\n",
              "  </thead>\n",
              "  <tbody>\n",
              "    <tr>\n",
              "      <th>7</th>\n",
              "      <td>How good are titan watches compared to other g...</td>\n",
              "      <td>10</td>\n",
              "      <td>Reshma Kumari</td>\n",
              "      <td>NaN</td>\n",
              "      <td>Over the period of time titan watches created...</td>\n",
              "      <td>0k views</td>\n",
              "      <td>View 0 Upvoter</td>\n",
              "      <td>Answered Jun 20, 2017</td>\n",
              "      <td>https://www.quora.com/How-good-are-titan-watch...</td>\n",
              "    </tr>\n",
              "    <tr>\n",
              "      <th>9</th>\n",
              "      <td>How good are titan watches compared to other g...</td>\n",
              "      <td>10</td>\n",
              "      <td>Anonymous</td>\n",
              "      <td>NaN</td>\n",
              "      <td>Titan watches are very good but don't appeal ...</td>\n",
              "      <td>3.7k views</td>\n",
              "      <td>View 1 Upvoter</td>\n",
              "      <td>Answered May 31, 2018</td>\n",
              "      <td>https://www.quora.com/How-good-are-titan-watch...</td>\n",
              "    </tr>\n",
              "    <tr>\n",
              "      <th>10</th>\n",
              "      <td>How good are titan watches compared to other g...</td>\n",
              "      <td>10</td>\n",
              "      <td>KareesmaDas</td>\n",
              "      <td>, Fashion Jewelry, Beauty &amp; Lifestyle Blogger</td>\n",
              "      <td>I’d love to Compare Titan Octane vs Casio Edi...</td>\n",
              "      <td>1k views</td>\n",
              "      <td>View 0 Upvoter</td>\n",
              "      <td>Answered Apr 25, 2019</td>\n",
              "      <td>https://www.quora.com/How-good-are-titan-watch...</td>\n",
              "    </tr>\n",
              "  </tbody>\n",
              "</table>\n",
              "</div>"
            ],
            "text/plain": [
              "                                             Question  ...                                      Question_link\n",
              "7   How good are titan watches compared to other g...  ...  https://www.quora.com/How-good-are-titan-watch...\n",
              "9   How good are titan watches compared to other g...  ...  https://www.quora.com/How-good-are-titan-watch...\n",
              "10  How good are titan watches compared to other g...  ...  https://www.quora.com/How-good-are-titan-watch...\n",
              "\n",
              "[3 rows x 9 columns]"
            ]
          },
          "metadata": {
            "tags": []
          },
          "execution_count": 62
        }
      ]
    },
    {
      "cell_type": "code",
      "metadata": {
        "id": "JbQiuvuJ9FLE",
        "colab_type": "code",
        "colab": {
          "base_uri": "https://localhost:8080/",
          "height": 255
        },
        "outputId": "1ba40a12-8a55-4b80-9135-4549296f67cb"
      },
      "source": [
        "df.info()"
      ],
      "execution_count": 64,
      "outputs": [
        {
          "output_type": "stream",
          "text": [
            "<class 'pandas.core.frame.DataFrame'>\n",
            "Int64Index: 573 entries, 0 to 876\n",
            "Data columns (total 9 columns):\n",
            "Question             573 non-null object\n",
            "Number_of_Answer     573 non-null int64\n",
            "User_name            573 non-null object\n",
            "User_Profile         458 non-null object\n",
            "Answer               573 non-null object\n",
            "Number_of_Views      573 non-null object\n",
            "Number_of_Upvotes    573 non-null object\n",
            "Date_Of_Answer       573 non-null object\n",
            "Question_link        573 non-null object\n",
            "dtypes: int64(1), object(8)\n",
            "memory usage: 44.8+ KB\n"
          ],
          "name": "stdout"
        }
      ]
    },
    {
      "cell_type": "markdown",
      "metadata": {
        "id": "DLPZTawrKXdH",
        "colab_type": "text"
      },
      "source": [
        "#Save dataset in .csv format"
      ]
    },
    {
      "cell_type": "code",
      "metadata": {
        "id": "QIc16otxKWj_",
        "colab_type": "code",
        "colab": {}
      },
      "source": [
        "df.to_csv('/content/drive/My Drive/Data_WhareHouse/Structured_data.csv' , index =False)"
      ],
      "execution_count": 0,
      "outputs": []
    },
    {
      "cell_type": "markdown",
      "metadata": {
        "id": "r8zpi-3xKDnb",
        "colab_type": "text"
      },
      "source": [
        "#Now move on to the Quora Answers for Preprocessing Using NLP"
      ]
    },
    {
      "cell_type": "code",
      "metadata": {
        "id": "Ij2QYkBbLr9b",
        "colab_type": "code",
        "colab": {}
      },
      "source": [
        "import pandas as pd\n",
        "#Again load data from google drive\n",
        "data = pd.read_csv('/content/drive/My Drive/Data_WhareHouse/Structured_data.csv')"
      ],
      "execution_count": 0,
      "outputs": []
    },
    {
      "cell_type": "code",
      "metadata": {
        "id": "EoPUSauyMHxP",
        "colab_type": "code",
        "colab": {
          "base_uri": "https://localhost:8080/",
          "height": 493
        },
        "outputId": "e8a50fa1-eeb1-4610-a6ba-aa553f2c5f04"
      },
      "source": [
        "df= data.copy()\n",
        "print(df.shape)\n",
        "df.head()"
      ],
      "execution_count": 6,
      "outputs": [
        {
          "output_type": "stream",
          "text": [
            "(573, 9)\n"
          ],
          "name": "stdout"
        },
        {
          "output_type": "execute_result",
          "data": {
            "text/html": [
              "<div>\n",
              "<style scoped>\n",
              "    .dataframe tbody tr th:only-of-type {\n",
              "        vertical-align: middle;\n",
              "    }\n",
              "\n",
              "    .dataframe tbody tr th {\n",
              "        vertical-align: top;\n",
              "    }\n",
              "\n",
              "    .dataframe thead th {\n",
              "        text-align: right;\n",
              "    }\n",
              "</style>\n",
              "<table border=\"1\" class=\"dataframe\">\n",
              "  <thead>\n",
              "    <tr style=\"text-align: right;\">\n",
              "      <th></th>\n",
              "      <th>Question</th>\n",
              "      <th>Number_of_Answer</th>\n",
              "      <th>User_name</th>\n",
              "      <th>User_Profile</th>\n",
              "      <th>Answer</th>\n",
              "      <th>Number_of_Views</th>\n",
              "      <th>Number_of_Upvotes</th>\n",
              "      <th>Date_Of_Answer</th>\n",
              "      <th>Question_link</th>\n",
              "    </tr>\n",
              "  </thead>\n",
              "  <tbody>\n",
              "    <tr>\n",
              "      <th>0</th>\n",
              "      <td>How good are titan watches compared to other g...</td>\n",
              "      <td>10</td>\n",
              "      <td>Siddharth Gopinath</td>\n",
              "      <td>, A watch collector and lover</td>\n",
              "      <td>As a collector and lover of watches, I've fou...</td>\n",
              "      <td>11.4k views</td>\n",
              "      <td>View 10 Upvoters</td>\n",
              "      <td>Answered Oct 27, 2016</td>\n",
              "      <td>https://www.quora.com/How-good-are-titan-watch...</td>\n",
              "    </tr>\n",
              "    <tr>\n",
              "      <th>1</th>\n",
              "      <td>How good are titan watches compared to other g...</td>\n",
              "      <td>10</td>\n",
              "      <td>Tanmoy Barman</td>\n",
              "      <td>, Corporate enthusiast</td>\n",
              "      <td>Titan Company Limited (earlier known as Titan...</td>\n",
              "      <td>0k views</td>\n",
              "      <td>View 0 Upvoter</td>\n",
              "      <td>Answered Oct 26, 2016</td>\n",
              "      <td>https://www.quora.com/How-good-are-titan-watch...</td>\n",
              "    </tr>\n",
              "    <tr>\n",
              "      <th>2</th>\n",
              "      <td>How good are titan watches compared to other g...</td>\n",
              "      <td>10</td>\n",
              "      <td>Hussein Faruque Aly</td>\n",
              "      <td>, studied at University of Geneva</td>\n",
              "      <td>I have just bought a Titan Watch on a trip to...</td>\n",
              "      <td>9.3k views</td>\n",
              "      <td>View 29 Upvoters</td>\n",
              "      <td>Answered Aug 26, 2017</td>\n",
              "      <td>https://www.quora.com/How-good-are-titan-watch...</td>\n",
              "    </tr>\n",
              "    <tr>\n",
              "      <th>3</th>\n",
              "      <td>How good are titan watches compared to other g...</td>\n",
              "      <td>10</td>\n",
              "      <td>Shrey Shah</td>\n",
              "      <td>, BTech from Vidyalankar Institute of Technolo...</td>\n",
              "      <td>Titan watches are one of a kind.With the comp...</td>\n",
              "      <td>0k views</td>\n",
              "      <td>View 0 Upvoter</td>\n",
              "      <td>Answered Aug 6, 2017</td>\n",
              "      <td>https://www.quora.com/How-good-are-titan-watch...</td>\n",
              "    </tr>\n",
              "    <tr>\n",
              "      <th>4</th>\n",
              "      <td>How good are titan watches compared to other g...</td>\n",
              "      <td>10</td>\n",
              "      <td>Reshma Kumari</td>\n",
              "      <td>NaN</td>\n",
              "      <td>Over the period of time titan watches created...</td>\n",
              "      <td>0k views</td>\n",
              "      <td>View 0 Upvoter</td>\n",
              "      <td>Answered Jun 20, 2017</td>\n",
              "      <td>https://www.quora.com/How-good-are-titan-watch...</td>\n",
              "    </tr>\n",
              "  </tbody>\n",
              "</table>\n",
              "</div>"
            ],
            "text/plain": [
              "                                            Question  ...                                      Question_link\n",
              "0  How good are titan watches compared to other g...  ...  https://www.quora.com/How-good-are-titan-watch...\n",
              "1  How good are titan watches compared to other g...  ...  https://www.quora.com/How-good-are-titan-watch...\n",
              "2  How good are titan watches compared to other g...  ...  https://www.quora.com/How-good-are-titan-watch...\n",
              "3  How good are titan watches compared to other g...  ...  https://www.quora.com/How-good-are-titan-watch...\n",
              "4  How good are titan watches compared to other g...  ...  https://www.quora.com/How-good-are-titan-watch...\n",
              "\n",
              "[5 rows x 9 columns]"
            ]
          },
          "metadata": {
            "tags": []
          },
          "execution_count": 6
        }
      ]
    },
    {
      "cell_type": "code",
      "metadata": {
        "id": "Kv7o_jP09FJP",
        "colab_type": "code",
        "colab": {}
      },
      "source": [
        "import time\n",
        "k=0\n",
        "doc=[]\n",
        "for i in range(1,23):\n",
        "  l= 25*i\n",
        "  doc+=list(df['Answer'][k:l])\n",
        "  k = l\n",
        "  time.sleep(5)\n",
        "  "
      ],
      "execution_count": 0,
      "outputs": []
    },
    {
      "cell_type": "code",
      "metadata": {
        "id": "kc1eqd9BPbwf",
        "colab_type": "code",
        "colab": {}
      },
      "source": [
        "doc += list(df['Answer'][550:574])"
      ],
      "execution_count": 0,
      "outputs": []
    },
    {
      "cell_type": "code",
      "metadata": {
        "id": "1ibUUCi39FHZ",
        "colab_type": "code",
        "colab": {
          "base_uri": "https://localhost:8080/",
          "height": 139
        },
        "outputId": "60c3c105-7049-428f-8794-6854cdd84187"
      },
      "source": [
        "print(len(doc))\n",
        "doc[:5]"
      ],
      "execution_count": 19,
      "outputs": [
        {
          "output_type": "stream",
          "text": [
            "573\n"
          ],
          "name": "stdout"
        },
        {
          "output_type": "execute_result",
          "data": {
            "text/plain": [
              "[\" As a collector and lover of watches, I've found that Titan watches are fantastic pieces. I find that they compete with the likes of Citizen and even Tissot. As a collector and lover of watches, I've found that Titan watches are fantastic pieces. I find that they compete with the likes of Citizen and even Tissot.They make great watches that are durable and last for a long period of time. Their designs are good and they cater to people with different price ranges. As a collector and lover of watches, I've found that Titan watches are fantastic pieces. I find that they compete with the likes of Citizen and even Tissot. As a collector and lover of watches, I've found that Titan watches are fantastic pieces. I find that they compete with the likes of Citizen and even Tissot.They make great watches that are durable and last for a long period of time. Their designs are good and they cater to people with different price ranges.They have now achieved a reach of epic proportion . You can but them and service them everywhere. As a collector and lover of watches, I've found that Titan watches are fantastic pieces. I find that they compete with the likes of Citizen and even Tissot. As a collector and lover of watches, I've found that Titan watches are fantastic pieces. I find that they compete with the likes of Citizen and even Tissot.They make great watches that are durable and last for a long period of time. Their designs are good and they cater to people with different price ranges. As a collector and lover of watches, I've found that Titan watches are fantastic pieces. I find that they compete with the likes of Citizen and even Tissot. As a collector and lover of watches, I've found that Titan watches are fantastic pieces. I find that they compete with the likes of Citizen and even Tissot.They make great watches that are durable and last for a long period of time. Their designs are good and they cater to people with different price ranges.They have now achieved a reach of epic proportion . You can but them and service them everywhere.\",\n",
              " ' Titan Company Limited (earlier known as Titan Industries Limited) is a joint venture between the Tata Group and the Tamil Nadu Industrial Development Corporation (TIDCO) which commenced operations in 1984 under the name Titan Watches Limited. Titan has diversified into other consumer products including jewellery with Tanishq, eyewear with Titan Eyeplus, fragrances with Skinn, helmets with Fastrack. Today, Titan Company is Tata Group’s largest consumer company, and India’s leading producer and retailer of watches, jewellery, and eyewear. Titan Company Limited (earlier known as Titan Industries Limited) is a joint venture between the Tata Group and the Tamil Nadu Industrial Development Corporation (TIDCO) which commenced operations in 1984 under the name Titan Watches Limited. Titan has diversified into other consumer products including jewellery with Tanishq, eyewear with Titan Eyeplus, fragrances with Skinn, helmets with Fastrack. Today, Titan Company is Tata Group’s largest consumer company, and India’s leading producer and retailer of watches, jewellery, and eyewear.Titan is a very good brand as per the world standard. O... Titan Company Limited (earlier known as Titan Industries Limited) is a joint venture between the Tata Group and the Tamil Nadu Industrial Development Corporation (TIDCO) which commenced operations in 1984 under the name Titan Watches Limited. Titan has diversified into other consumer products including jewellery with Tanishq, eyewear with Titan Eyeplus, fragrances with Skinn, helmets with Fastrack. Today, Titan Company is Tata Group’s largest consumer company, and India’s leading producer and retailer of watches, jewellery, and eyewear. Titan Company Limited (earlier known as Titan Industries Limited) is a joint venture between the Tata Group and the Tamil Nadu Industrial Development Corporation (TIDCO) which commenced operations in 1984 under the name Titan Watches Limited. Titan has diversified into other consumer products including jewellery with Tanishq, eyewear with Titan Eyeplus, fragrances with Skinn, helmets with Fastrack. Today, Titan Company is Tata Group’s largest consumer company, and India’s leading producer and retailer of watches, jewellery, and eyewear.Titan is a very good brand as per the world standard. O...',\n",
              " ' I have just bought a Titan Watch on a trip to India. I always wanted to buy a Titan watch in India, because of its impressive history, and also because I had heard that it employs uneducated and handicap people as staff members, and provides them education. This is great. I bought a beautiful time piece, that rivals any world brand on design and looks, for a fraction of the price. Bought in Delhi, which is always a good souvenir of a good trip.In a period of about 15 days it delayed 1 sec, which shows that this is a good movement. Very happy to have bought it. Love India. Love my Titan. I have just bought a Titan Watch on a trip to India. I always wanted to buy a Titan watch in India, because of its impressive history, and also because I had heard that it employs uneducated and handicap people as staff members, and provides them education. This is great. I bought a beautiful time piece, that rivals any world brand on design and looks, for a fraction of the price. Bought in Delhi, which is always a good souvenir of a good trip.In a period of about 15 days it delayed 1 sec, which shows that this is a good movement. Very happy to have bought it. Love India. Love my Titan.',\n",
              " ' Titan watches are one of a kind.With the company establishing a powerful base in India,Titan watches have been a major provider of timepieces in the Indian subcontinent.They have a ,not very old,but a good and fortunate legacy of fine watch making.But it still lacks compared to other Global Brands,cause as the name suggests these Brands are global in nature thus have a wider network of buyers and hence they cater to such large size.Comparatively,Titan has just started the new Chronograph Series while they were usually into Quartz movement.Titan watches have a simple movement as they are mor... Titan watches are one of a kind.With the company establishing a powerful base in India,Titan watches have been a major provider of timepieces in the Indian subcontinent.They have a ,not very old,but a good and fortunate legacy of fine watch making.But it still lacks compared to other Global Brands,cause as the name suggests these Brands are global in nature thus have a wider network of buyers and hence they cater to such large size.Comparatively,Titan has just started the new Chronograph Series while they were usually into Quartz movement.Titan watches have a simple movement as they are mor...',\n",
              " ' Over the period of time titan watches created a very good reputation , that titan name is enough for reputation. And definitely titan watches are good enough in comparison to other global brand that they achieved this name. Over the period of time titan watches created a very good reputation , that titan name is enough for reputation. And definitely titan watches are good enough in comparison to other global brand that they achieved this name.About Titan watches : Titan Company Limited (earlier known as Titan Industries Limited) is a joint venture between the Tata Group and the Tamil Nadu Industrial Development Corporation (TIDCO) which commenced operations in 1984 under the name Titan Watches Limited. Over the period of time titan watches created a very good reputation , that titan name is enough for reputation. And definitely titan watches are good enough in comparison to other global brand that they achieved this name. Over the period of time titan watches created a very good reputation , that titan name is enough for reputation. And definitely titan watches are good enough in comparison to other global brand that they achieved this name.About Titan watches : Titan Company Limited (earlier known as Titan Industries Limited) is a joint venture between the Tata Group and the Tamil Nadu Industrial Development Corporation (TIDCO) which commenced operations in 1984 under the name Titan Watches Limited.Titan has diversified into other consumer products also . But in watches titan offers various brands including... Over the period of time titan watches created a very good reputation , that titan name is enough for reputation. And definitely titan watches are good enough in comparison to other global brand that they achieved this name. Over the period of time titan watches created a very good reputation , that titan name is enough for reputation. And definitely titan watches are good enough in comparison to other global brand that they achieved this name.About Titan watches : Titan Company Limited (earlier known as Titan Industries Limited) is a joint venture between the Tata Group and the Tamil Nadu Industrial Development Corporation (TIDCO) which commenced operations in 1984 under the name Titan Watches Limited. Over the period of time titan watches created a very good reputation , that titan name is enough for reputation. And definitely titan watches are good enough in comparison to other global brand that they achieved this name. Over the period of time titan watches created a very good reputation , that titan name is enough for reputation. And definitely titan watches are good enough in comparison to other global brand that they achieved this name.About Titan watches : Titan Company Limited (earlier known as Titan Industries Limited) is a joint venture between the Tata Group and the Tamil Nadu Industrial Development Corporation (TIDCO) which commenced operations in 1984 under the name Titan Watches Limited.Titan has diversified into other consumer products also . But in watches titan offers various brands including...']"
            ]
          },
          "metadata": {
            "tags": []
          },
          "execution_count": 19
        }
      ]
    },
    {
      "cell_type": "code",
      "metadata": {
        "id": "7eqp9kWKQu9N",
        "colab_type": "code",
        "colab": {
          "base_uri": "https://localhost:8080/",
          "height": 102
        },
        "outputId": "58e45391-a6be-4bad-db5c-5263195a3ec5"
      },
      "source": [
        "import nltk\n",
        "nltk.download('stopwords')\n",
        "nltk.download('punkt')"
      ],
      "execution_count": 21,
      "outputs": [
        {
          "output_type": "stream",
          "text": [
            "[nltk_data] Downloading package stopwords to /root/nltk_data...\n",
            "[nltk_data]   Unzipping corpora/stopwords.zip.\n",
            "[nltk_data] Downloading package punkt to /root/nltk_data...\n",
            "[nltk_data]   Unzipping tokenizers/punkt.zip.\n"
          ],
          "name": "stdout"
        },
        {
          "output_type": "execute_result",
          "data": {
            "text/plain": [
              "True"
            ]
          },
          "metadata": {
            "tags": []
          },
          "execution_count": 21
        }
      ]
    },
    {
      "cell_type": "code",
      "metadata": {
        "id": "M2wjUAkG9FFa",
        "colab_type": "code",
        "colab": {
          "base_uri": "https://localhost:8080/",
          "height": 51
        },
        "outputId": "76325182-e30c-41b2-f447-b37d6d7e11c2"
      },
      "source": [
        "import nltk\n",
        "from nltk.corpus import stopwords\n",
        "from nltk.tokenize import word_tokenize \n",
        "stop_words = list(set(stopwords.words('english')))\n",
        "print(\"Number of stopwords in English : \", len(stop_words))\n",
        "print(stop_words[:10])"
      ],
      "execution_count": 28,
      "outputs": [
        {
          "output_type": "stream",
          "text": [
            "Number of stopwords in English :  179\n",
            "['it', 'who', 'in', 'been', 'of', 'over', 's', 'hadn', \"hadn't\", 'to']\n"
          ],
          "name": "stdout"
        }
      ]
    },
    {
      "cell_type": "code",
      "metadata": {
        "id": "qkOH9vwz9FD7",
        "colab_type": "code",
        "colab": {}
      },
      "source": [
        "# tokens of words  \n",
        "tokens = []\n",
        "for i in range(len(doc)):\n",
        "  tokens.append(word_tokenize(doc[i]))"
      ],
      "execution_count": 0,
      "outputs": []
    },
    {
      "cell_type": "code",
      "metadata": {
        "id": "3ks5ld9y9FCC",
        "colab_type": "code",
        "colab": {
          "base_uri": "https://localhost:8080/",
          "height": 139
        },
        "outputId": "a70b47d9-4d3d-42fa-e907-34ec466d1b17"
      },
      "source": [
        "print(len(tokens))\n",
        "print(tokens[0])\n",
        "print(tokens[1])\n",
        "print(tokens[2])\n",
        "print(tokens[3])\n",
        "print(tokens[4])\n"
      ],
      "execution_count": 36,
      "outputs": [
        {
          "output_type": "stream",
          "text": [
            "573\n",
            "['As', 'a', 'collector', 'and', 'lover', 'of', 'watches', ',', 'I', \"'ve\", 'found', 'that', 'Titan', 'watches', 'are', 'fantastic', 'pieces', '.', 'I', 'find', 'that', 'they', 'compete', 'with', 'the', 'likes', 'of', 'Citizen', 'and', 'even', 'Tissot', '.', 'As', 'a', 'collector', 'and', 'lover', 'of', 'watches', ',', 'I', \"'ve\", 'found', 'that', 'Titan', 'watches', 'are', 'fantastic', 'pieces', '.', 'I', 'find', 'that', 'they', 'compete', 'with', 'the', 'likes', 'of', 'Citizen', 'and', 'even', 'Tissot.They', 'make', 'great', 'watches', 'that', 'are', 'durable', 'and', 'last', 'for', 'a', 'long', 'period', 'of', 'time', '.', 'Their', 'designs', 'are', 'good', 'and', 'they', 'cater', 'to', 'people', 'with', 'different', 'price', 'ranges', '.', 'As', 'a', 'collector', 'and', 'lover', 'of', 'watches', ',', 'I', \"'ve\", 'found', 'that', 'Titan', 'watches', 'are', 'fantastic', 'pieces', '.', 'I', 'find', 'that', 'they', 'compete', 'with', 'the', 'likes', 'of', 'Citizen', 'and', 'even', 'Tissot', '.', 'As', 'a', 'collector', 'and', 'lover', 'of', 'watches', ',', 'I', \"'ve\", 'found', 'that', 'Titan', 'watches', 'are', 'fantastic', 'pieces', '.', 'I', 'find', 'that', 'they', 'compete', 'with', 'the', 'likes', 'of', 'Citizen', 'and', 'even', 'Tissot.They', 'make', 'great', 'watches', 'that', 'are', 'durable', 'and', 'last', 'for', 'a', 'long', 'period', 'of', 'time', '.', 'Their', 'designs', 'are', 'good', 'and', 'they', 'cater', 'to', 'people', 'with', 'different', 'price', 'ranges.They', 'have', 'now', 'achieved', 'a', 'reach', 'of', 'epic', 'proportion', '.', 'You', 'can', 'but', 'them', 'and', 'service', 'them', 'everywhere', '.', 'As', 'a', 'collector', 'and', 'lover', 'of', 'watches', ',', 'I', \"'ve\", 'found', 'that', 'Titan', 'watches', 'are', 'fantastic', 'pieces', '.', 'I', 'find', 'that', 'they', 'compete', 'with', 'the', 'likes', 'of', 'Citizen', 'and', 'even', 'Tissot', '.', 'As', 'a', 'collector', 'and', 'lover', 'of', 'watches', ',', 'I', \"'ve\", 'found', 'that', 'Titan', 'watches', 'are', 'fantastic', 'pieces', '.', 'I', 'find', 'that', 'they', 'compete', 'with', 'the', 'likes', 'of', 'Citizen', 'and', 'even', 'Tissot.They', 'make', 'great', 'watches', 'that', 'are', 'durable', 'and', 'last', 'for', 'a', 'long', 'period', 'of', 'time', '.', 'Their', 'designs', 'are', 'good', 'and', 'they', 'cater', 'to', 'people', 'with', 'different', 'price', 'ranges', '.', 'As', 'a', 'collector', 'and', 'lover', 'of', 'watches', ',', 'I', \"'ve\", 'found', 'that', 'Titan', 'watches', 'are', 'fantastic', 'pieces', '.', 'I', 'find', 'that', 'they', 'compete', 'with', 'the', 'likes', 'of', 'Citizen', 'and', 'even', 'Tissot', '.', 'As', 'a', 'collector', 'and', 'lover', 'of', 'watches', ',', 'I', \"'ve\", 'found', 'that', 'Titan', 'watches', 'are', 'fantastic', 'pieces', '.', 'I', 'find', 'that', 'they', 'compete', 'with', 'the', 'likes', 'of', 'Citizen', 'and', 'even', 'Tissot.They', 'make', 'great', 'watches', 'that', 'are', 'durable', 'and', 'last', 'for', 'a', 'long', 'period', 'of', 'time', '.', 'Their', 'designs', 'are', 'good', 'and', 'they', 'cater', 'to', 'people', 'with', 'different', 'price', 'ranges.They', 'have', 'now', 'achieved', 'a', 'reach', 'of', 'epic', 'proportion', '.', 'You', 'can', 'but', 'them', 'and', 'service', 'them', 'everywhere', '.']\n",
            "['Titan', 'Company', 'Limited', '(', 'earlier', 'known', 'as', 'Titan', 'Industries', 'Limited', ')', 'is', 'a', 'joint', 'venture', 'between', 'the', 'Tata', 'Group', 'and', 'the', 'Tamil', 'Nadu', 'Industrial', 'Development', 'Corporation', '(', 'TIDCO', ')', 'which', 'commenced', 'operations', 'in', '1984', 'under', 'the', 'name', 'Titan', 'Watches', 'Limited', '.', 'Titan', 'has', 'diversified', 'into', 'other', 'consumer', 'products', 'including', 'jewellery', 'with', 'Tanishq', ',', 'eyewear', 'with', 'Titan', 'Eyeplus', ',', 'fragrances', 'with', 'Skinn', ',', 'helmets', 'with', 'Fastrack', '.', 'Today', ',', 'Titan', 'Company', 'is', 'Tata', 'Group', '’', 's', 'largest', 'consumer', 'company', ',', 'and', 'India', '’', 's', 'leading', 'producer', 'and', 'retailer', 'of', 'watches', ',', 'jewellery', ',', 'and', 'eyewear', '.', 'Titan', 'Company', 'Limited', '(', 'earlier', 'known', 'as', 'Titan', 'Industries', 'Limited', ')', 'is', 'a', 'joint', 'venture', 'between', 'the', 'Tata', 'Group', 'and', 'the', 'Tamil', 'Nadu', 'Industrial', 'Development', 'Corporation', '(', 'TIDCO', ')', 'which', 'commenced', 'operations', 'in', '1984', 'under', 'the', 'name', 'Titan', 'Watches', 'Limited', '.', 'Titan', 'has', 'diversified', 'into', 'other', 'consumer', 'products', 'including', 'jewellery', 'with', 'Tanishq', ',', 'eyewear', 'with', 'Titan', 'Eyeplus', ',', 'fragrances', 'with', 'Skinn', ',', 'helmets', 'with', 'Fastrack', '.', 'Today', ',', 'Titan', 'Company', 'is', 'Tata', 'Group', '’', 's', 'largest', 'consumer', 'company', ',', 'and', 'India', '’', 's', 'leading', 'producer', 'and', 'retailer', 'of', 'watches', ',', 'jewellery', ',', 'and', 'eyewear.Titan', 'is', 'a', 'very', 'good', 'brand', 'as', 'per', 'the', 'world', 'standard', '.', 'O', '...', 'Titan', 'Company', 'Limited', '(', 'earlier', 'known', 'as', 'Titan', 'Industries', 'Limited', ')', 'is', 'a', 'joint', 'venture', 'between', 'the', 'Tata', 'Group', 'and', 'the', 'Tamil', 'Nadu', 'Industrial', 'Development', 'Corporation', '(', 'TIDCO', ')', 'which', 'commenced', 'operations', 'in', '1984', 'under', 'the', 'name', 'Titan', 'Watches', 'Limited', '.', 'Titan', 'has', 'diversified', 'into', 'other', 'consumer', 'products', 'including', 'jewellery', 'with', 'Tanishq', ',', 'eyewear', 'with', 'Titan', 'Eyeplus', ',', 'fragrances', 'with', 'Skinn', ',', 'helmets', 'with', 'Fastrack', '.', 'Today', ',', 'Titan', 'Company', 'is', 'Tata', 'Group', '’', 's', 'largest', 'consumer', 'company', ',', 'and', 'India', '’', 's', 'leading', 'producer', 'and', 'retailer', 'of', 'watches', ',', 'jewellery', ',', 'and', 'eyewear', '.', 'Titan', 'Company', 'Limited', '(', 'earlier', 'known', 'as', 'Titan', 'Industries', 'Limited', ')', 'is', 'a', 'joint', 'venture', 'between', 'the', 'Tata', 'Group', 'and', 'the', 'Tamil', 'Nadu', 'Industrial', 'Development', 'Corporation', '(', 'TIDCO', ')', 'which', 'commenced', 'operations', 'in', '1984', 'under', 'the', 'name', 'Titan', 'Watches', 'Limited', '.', 'Titan', 'has', 'diversified', 'into', 'other', 'consumer', 'products', 'including', 'jewellery', 'with', 'Tanishq', ',', 'eyewear', 'with', 'Titan', 'Eyeplus', ',', 'fragrances', 'with', 'Skinn', ',', 'helmets', 'with', 'Fastrack', '.', 'Today', ',', 'Titan', 'Company', 'is', 'Tata', 'Group', '’', 's', 'largest', 'consumer', 'company', ',', 'and', 'India', '’', 's', 'leading', 'producer', 'and', 'retailer', 'of', 'watches', ',', 'jewellery', ',', 'and', 'eyewear.Titan', 'is', 'a', 'very', 'good', 'brand', 'as', 'per', 'the', 'world', 'standard', '.', 'O', '...']\n",
            "['I', 'have', 'just', 'bought', 'a', 'Titan', 'Watch', 'on', 'a', 'trip', 'to', 'India', '.', 'I', 'always', 'wanted', 'to', 'buy', 'a', 'Titan', 'watch', 'in', 'India', ',', 'because', 'of', 'its', 'impressive', 'history', ',', 'and', 'also', 'because', 'I', 'had', 'heard', 'that', 'it', 'employs', 'uneducated', 'and', 'handicap', 'people', 'as', 'staff', 'members', ',', 'and', 'provides', 'them', 'education', '.', 'This', 'is', 'great', '.', 'I', 'bought', 'a', 'beautiful', 'time', 'piece', ',', 'that', 'rivals', 'any', 'world', 'brand', 'on', 'design', 'and', 'looks', ',', 'for', 'a', 'fraction', 'of', 'the', 'price', '.', 'Bought', 'in', 'Delhi', ',', 'which', 'is', 'always', 'a', 'good', 'souvenir', 'of', 'a', 'good', 'trip.In', 'a', 'period', 'of', 'about', '15', 'days', 'it', 'delayed', '1', 'sec', ',', 'which', 'shows', 'that', 'this', 'is', 'a', 'good', 'movement', '.', 'Very', 'happy', 'to', 'have', 'bought', 'it', '.', 'Love', 'India', '.', 'Love', 'my', 'Titan', '.', 'I', 'have', 'just', 'bought', 'a', 'Titan', 'Watch', 'on', 'a', 'trip', 'to', 'India', '.', 'I', 'always', 'wanted', 'to', 'buy', 'a', 'Titan', 'watch', 'in', 'India', ',', 'because', 'of', 'its', 'impressive', 'history', ',', 'and', 'also', 'because', 'I', 'had', 'heard', 'that', 'it', 'employs', 'uneducated', 'and', 'handicap', 'people', 'as', 'staff', 'members', ',', 'and', 'provides', 'them', 'education', '.', 'This', 'is', 'great', '.', 'I', 'bought', 'a', 'beautiful', 'time', 'piece', ',', 'that', 'rivals', 'any', 'world', 'brand', 'on', 'design', 'and', 'looks', ',', 'for', 'a', 'fraction', 'of', 'the', 'price', '.', 'Bought', 'in', 'Delhi', ',', 'which', 'is', 'always', 'a', 'good', 'souvenir', 'of', 'a', 'good', 'trip.In', 'a', 'period', 'of', 'about', '15', 'days', 'it', 'delayed', '1', 'sec', ',', 'which', 'shows', 'that', 'this', 'is', 'a', 'good', 'movement', '.', 'Very', 'happy', 'to', 'have', 'bought', 'it', '.', 'Love', 'India', '.', 'Love', 'my', 'Titan', '.']\n",
            "['Titan', 'watches', 'are', 'one', 'of', 'a', 'kind.With', 'the', 'company', 'establishing', 'a', 'powerful', 'base', 'in', 'India', ',', 'Titan', 'watches', 'have', 'been', 'a', 'major', 'provider', 'of', 'timepieces', 'in', 'the', 'Indian', 'subcontinent.They', 'have', 'a', ',', 'not', 'very', 'old', ',', 'but', 'a', 'good', 'and', 'fortunate', 'legacy', 'of', 'fine', 'watch', 'making.But', 'it', 'still', 'lacks', 'compared', 'to', 'other', 'Global', 'Brands', ',', 'cause', 'as', 'the', 'name', 'suggests', 'these', 'Brands', 'are', 'global', 'in', 'nature', 'thus', 'have', 'a', 'wider', 'network', 'of', 'buyers', 'and', 'hence', 'they', 'cater', 'to', 'such', 'large', 'size.Comparatively', ',', 'Titan', 'has', 'just', 'started', 'the', 'new', 'Chronograph', 'Series', 'while', 'they', 'were', 'usually', 'into', 'Quartz', 'movement.Titan', 'watches', 'have', 'a', 'simple', 'movement', 'as', 'they', 'are', 'mor', '...', 'Titan', 'watches', 'are', 'one', 'of', 'a', 'kind.With', 'the', 'company', 'establishing', 'a', 'powerful', 'base', 'in', 'India', ',', 'Titan', 'watches', 'have', 'been', 'a', 'major', 'provider', 'of', 'timepieces', 'in', 'the', 'Indian', 'subcontinent.They', 'have', 'a', ',', 'not', 'very', 'old', ',', 'but', 'a', 'good', 'and', 'fortunate', 'legacy', 'of', 'fine', 'watch', 'making.But', 'it', 'still', 'lacks', 'compared', 'to', 'other', 'Global', 'Brands', ',', 'cause', 'as', 'the', 'name', 'suggests', 'these', 'Brands', 'are', 'global', 'in', 'nature', 'thus', 'have', 'a', 'wider', 'network', 'of', 'buyers', 'and', 'hence', 'they', 'cater', 'to', 'such', 'large', 'size.Comparatively', ',', 'Titan', 'has', 'just', 'started', 'the', 'new', 'Chronograph', 'Series', 'while', 'they', 'were', 'usually', 'into', 'Quartz', 'movement.Titan', 'watches', 'have', 'a', 'simple', 'movement', 'as', 'they', 'are', 'mor', '...']\n",
            "['Over', 'the', 'period', 'of', 'time', 'titan', 'watches', 'created', 'a', 'very', 'good', 'reputation', ',', 'that', 'titan', 'name', 'is', 'enough', 'for', 'reputation', '.', 'And', 'definitely', 'titan', 'watches', 'are', 'good', 'enough', 'in', 'comparison', 'to', 'other', 'global', 'brand', 'that', 'they', 'achieved', 'this', 'name', '.', 'Over', 'the', 'period', 'of', 'time', 'titan', 'watches', 'created', 'a', 'very', 'good', 'reputation', ',', 'that', 'titan', 'name', 'is', 'enough', 'for', 'reputation', '.', 'And', 'definitely', 'titan', 'watches', 'are', 'good', 'enough', 'in', 'comparison', 'to', 'other', 'global', 'brand', 'that', 'they', 'achieved', 'this', 'name.About', 'Titan', 'watches', ':', 'Titan', 'Company', 'Limited', '(', 'earlier', 'known', 'as', 'Titan', 'Industries', 'Limited', ')', 'is', 'a', 'joint', 'venture', 'between', 'the', 'Tata', 'Group', 'and', 'the', 'Tamil', 'Nadu', 'Industrial', 'Development', 'Corporation', '(', 'TIDCO', ')', 'which', 'commenced', 'operations', 'in', '1984', 'under', 'the', 'name', 'Titan', 'Watches', 'Limited', '.', 'Over', 'the', 'period', 'of', 'time', 'titan', 'watches', 'created', 'a', 'very', 'good', 'reputation', ',', 'that', 'titan', 'name', 'is', 'enough', 'for', 'reputation', '.', 'And', 'definitely', 'titan', 'watches', 'are', 'good', 'enough', 'in', 'comparison', 'to', 'other', 'global', 'brand', 'that', 'they', 'achieved', 'this', 'name', '.', 'Over', 'the', 'period', 'of', 'time', 'titan', 'watches', 'created', 'a', 'very', 'good', 'reputation', ',', 'that', 'titan', 'name', 'is', 'enough', 'for', 'reputation', '.', 'And', 'definitely', 'titan', 'watches', 'are', 'good', 'enough', 'in', 'comparison', 'to', 'other', 'global', 'brand', 'that', 'they', 'achieved', 'this', 'name.About', 'Titan', 'watches', ':', 'Titan', 'Company', 'Limited', '(', 'earlier', 'known', 'as', 'Titan', 'Industries', 'Limited', ')', 'is', 'a', 'joint', 'venture', 'between', 'the', 'Tata', 'Group', 'and', 'the', 'Tamil', 'Nadu', 'Industrial', 'Development', 'Corporation', '(', 'TIDCO', ')', 'which', 'commenced', 'operations', 'in', '1984', 'under', 'the', 'name', 'Titan', 'Watches', 'Limited.Titan', 'has', 'diversified', 'into', 'other', 'consumer', 'products', 'also', '.', 'But', 'in', 'watches', 'titan', 'offers', 'various', 'brands', 'including', '...', 'Over', 'the', 'period', 'of', 'time', 'titan', 'watches', 'created', 'a', 'very', 'good', 'reputation', ',', 'that', 'titan', 'name', 'is', 'enough', 'for', 'reputation', '.', 'And', 'definitely', 'titan', 'watches', 'are', 'good', 'enough', 'in', 'comparison', 'to', 'other', 'global', 'brand', 'that', 'they', 'achieved', 'this', 'name', '.', 'Over', 'the', 'period', 'of', 'time', 'titan', 'watches', 'created', 'a', 'very', 'good', 'reputation', ',', 'that', 'titan', 'name', 'is', 'enough', 'for', 'reputation', '.', 'And', 'definitely', 'titan', 'watches', 'are', 'good', 'enough', 'in', 'comparison', 'to', 'other', 'global', 'brand', 'that', 'they', 'achieved', 'this', 'name.About', 'Titan', 'watches', ':', 'Titan', 'Company', 'Limited', '(', 'earlier', 'known', 'as', 'Titan', 'Industries', 'Limited', ')', 'is', 'a', 'joint', 'venture', 'between', 'the', 'Tata', 'Group', 'and', 'the', 'Tamil', 'Nadu', 'Industrial', 'Development', 'Corporation', '(', 'TIDCO', ')', 'which', 'commenced', 'operations', 'in', '1984', 'under', 'the', 'name', 'Titan', 'Watches', 'Limited', '.', 'Over', 'the', 'period', 'of', 'time', 'titan', 'watches', 'created', 'a', 'very', 'good', 'reputation', ',', 'that', 'titan', 'name', 'is', 'enough', 'for', 'reputation', '.', 'And', 'definitely', 'titan', 'watches', 'are', 'good', 'enough', 'in', 'comparison', 'to', 'other', 'global', 'brand', 'that', 'they', 'achieved', 'this', 'name', '.', 'Over', 'the', 'period', 'of', 'time', 'titan', 'watches', 'created', 'a', 'very', 'good', 'reputation', ',', 'that', 'titan', 'name', 'is', 'enough', 'for', 'reputation', '.', 'And', 'definitely', 'titan', 'watches', 'are', 'good', 'enough', 'in', 'comparison', 'to', 'other', 'global', 'brand', 'that', 'they', 'achieved', 'this', 'name.About', 'Titan', 'watches', ':', 'Titan', 'Company', 'Limited', '(', 'earlier', 'known', 'as', 'Titan', 'Industries', 'Limited', ')', 'is', 'a', 'joint', 'venture', 'between', 'the', 'Tata', 'Group', 'and', 'the', 'Tamil', 'Nadu', 'Industrial', 'Development', 'Corporation', '(', 'TIDCO', ')', 'which', 'commenced', 'operations', 'in', '1984', 'under', 'the', 'name', 'Titan', 'Watches', 'Limited.Titan', 'has', 'diversified', 'into', 'other', 'consumer', 'products', 'also', '.', 'But', 'in', 'watches', 'titan', 'offers', 'various', 'brands', 'including', '...']\n"
          ],
          "name": "stdout"
        }
      ]
    },
    {
      "cell_type": "code",
      "metadata": {
        "id": "I0P5pkJa9FAc",
        "colab_type": "code",
        "colab": {}
      },
      "source": [
        "# k=0\n",
        "# for i in range(0,115):  # leave last 4 rows\n",
        "#   l = 5*i\n",
        "#   dk = pd.DataFrame()\n",
        "#   dk['Tokens'] =tokens[k:l]\n",
        "#   dk.to_csv('/content/drive/My Drive/Data_WhareHouse/Tokens/token_{}.csv'.format(i) , index =False)\n",
        "#   k=l"
      ],
      "execution_count": 0,
      "outputs": []
    },
    {
      "cell_type": "markdown",
      "metadata": {
        "id": "MAyTttEHhttR",
        "colab_type": "text"
      },
      "source": [
        "# ++++++++++++++++++++++++  END   ++++++++++++++++++++"
      ]
    },
    {
      "cell_type": "code",
      "metadata": {
        "id": "wDe_MF6X9E-n",
        "colab_type": "code",
        "colab": {}
      },
      "source": [
        ""
      ],
      "execution_count": 0,
      "outputs": []
    },
    {
      "cell_type": "code",
      "metadata": {
        "id": "-OLkLff09E8r",
        "colab_type": "code",
        "colab": {}
      },
      "source": [
        ""
      ],
      "execution_count": 0,
      "outputs": []
    },
    {
      "cell_type": "code",
      "metadata": {
        "id": "D3p6_WZf9E6l",
        "colab_type": "code",
        "colab": {}
      },
      "source": [
        ""
      ],
      "execution_count": 0,
      "outputs": []
    },
    {
      "cell_type": "code",
      "metadata": {
        "id": "2-IPEZtq9E4c",
        "colab_type": "code",
        "colab": {}
      },
      "source": [
        ""
      ],
      "execution_count": 0,
      "outputs": []
    },
    {
      "cell_type": "code",
      "metadata": {
        "id": "zST_dlqn9E2N",
        "colab_type": "code",
        "colab": {}
      },
      "source": [
        ""
      ],
      "execution_count": 0,
      "outputs": []
    },
    {
      "cell_type": "code",
      "metadata": {
        "id": "UoiM8zUY8aF0",
        "colab_type": "code",
        "colab": {}
      },
      "source": [
        ""
      ],
      "execution_count": 0,
      "outputs": []
    },
    {
      "cell_type": "code",
      "metadata": {
        "id": "hPj47UYF8aO-",
        "colab_type": "code",
        "colab": {}
      },
      "source": [
        ""
      ],
      "execution_count": 0,
      "outputs": []
    },
    {
      "cell_type": "code",
      "metadata": {
        "id": "wql6VDch8aS6",
        "colab_type": "code",
        "colab": {}
      },
      "source": [
        ""
      ],
      "execution_count": 0,
      "outputs": []
    },
    {
      "cell_type": "code",
      "metadata": {
        "id": "IDVeDhbD8cyx",
        "colab_type": "code",
        "colab": {}
      },
      "source": [
        ""
      ],
      "execution_count": 0,
      "outputs": []
    },
    {
      "cell_type": "code",
      "metadata": {
        "id": "-d2g1QJF8c3A",
        "colab_type": "code",
        "colab": {}
      },
      "source": [
        ""
      ],
      "execution_count": 0,
      "outputs": []
    },
    {
      "cell_type": "code",
      "metadata": {
        "id": "BTUVQJjj8c-H",
        "colab_type": "code",
        "colab": {}
      },
      "source": [
        ""
      ],
      "execution_count": 0,
      "outputs": []
    },
    {
      "cell_type": "code",
      "metadata": {
        "id": "1ag_Jq5h8dKq",
        "colab_type": "code",
        "colab": {}
      },
      "source": [
        ""
      ],
      "execution_count": 0,
      "outputs": []
    },
    {
      "cell_type": "code",
      "metadata": {
        "id": "Uu7rrDFZ8dJc",
        "colab_type": "code",
        "colab": {}
      },
      "source": [
        ""
      ],
      "execution_count": 0,
      "outputs": []
    },
    {
      "cell_type": "code",
      "metadata": {
        "id": "_aP-Bsgg8dH3",
        "colab_type": "code",
        "colab": {}
      },
      "source": [
        ""
      ],
      "execution_count": 0,
      "outputs": []
    },
    {
      "cell_type": "code",
      "metadata": {
        "id": "ODOxmMBZ8dGh",
        "colab_type": "code",
        "colab": {}
      },
      "source": [
        ""
      ],
      "execution_count": 0,
      "outputs": []
    },
    {
      "cell_type": "code",
      "metadata": {
        "id": "rV9jHsU28dE7",
        "colab_type": "code",
        "colab": {}
      },
      "source": [
        ""
      ],
      "execution_count": 0,
      "outputs": []
    },
    {
      "cell_type": "code",
      "metadata": {
        "id": "GSZg1X1e8dDQ",
        "colab_type": "code",
        "colab": {}
      },
      "source": [
        ""
      ],
      "execution_count": 0,
      "outputs": []
    },
    {
      "cell_type": "code",
      "metadata": {
        "id": "ozxzb25-8dAq",
        "colab_type": "code",
        "colab": {}
      },
      "source": [
        ""
      ],
      "execution_count": 0,
      "outputs": []
    },
    {
      "cell_type": "code",
      "metadata": {
        "id": "hFOGuMF78c8e",
        "colab_type": "code",
        "colab": {}
      },
      "source": [
        ""
      ],
      "execution_count": 0,
      "outputs": []
    },
    {
      "cell_type": "code",
      "metadata": {
        "id": "gQkfrPmv8aM2",
        "colab_type": "code",
        "colab": {}
      },
      "source": [
        ""
      ],
      "execution_count": 0,
      "outputs": []
    },
    {
      "cell_type": "code",
      "metadata": {
        "id": "h56bCuwEhjt8",
        "colab_type": "code",
        "colab": {}
      },
      "source": [
        ""
      ],
      "execution_count": 0,
      "outputs": []
    },
    {
      "cell_type": "code",
      "metadata": {
        "id": "m_D1T3nUhjqx",
        "colab_type": "code",
        "colab": {}
      },
      "source": [
        ""
      ],
      "execution_count": 0,
      "outputs": []
    },
    {
      "cell_type": "code",
      "metadata": {
        "id": "M3LxrF1Bhjno",
        "colab_type": "code",
        "colab": {}
      },
      "source": [
        ""
      ],
      "execution_count": 0,
      "outputs": []
    },
    {
      "cell_type": "markdown",
      "metadata": {
        "id": "JgrKxbGmhkTb",
        "colab_type": "text"
      },
      "source": [
        "#END .......\n",
        "\n",
        "\n",
        "#OTHER WORK"
      ]
    },
    {
      "cell_type": "markdown",
      "metadata": {
        "id": "OAaGGNrUE4D-",
        "colab_type": "text"
      },
      "source": [
        "#Repalce a value from a column in dataset using map() function"
      ]
    },
    {
      "cell_type": "code",
      "metadata": {
        "id": "zUIZPiI18aKF",
        "colab_type": "code",
        "colab": {
          "base_uri": "https://localhost:8080/",
          "height": 328
        },
        "outputId": "6946300f-e885-49fc-ec00-b7451498cf6c"
      },
      "source": [
        "df1 = pd.DataFrame()\n",
        "liss= ['male' , 'female' , 'male' , 'male' , 'male' , 'female' , 'male' , 'female' , 'female']\n",
        "df1['Gender'] = liss\n",
        "df1"
      ],
      "execution_count": 46,
      "outputs": [
        {
          "output_type": "execute_result",
          "data": {
            "text/html": [
              "<div>\n",
              "<style scoped>\n",
              "    .dataframe tbody tr th:only-of-type {\n",
              "        vertical-align: middle;\n",
              "    }\n",
              "\n",
              "    .dataframe tbody tr th {\n",
              "        vertical-align: top;\n",
              "    }\n",
              "\n",
              "    .dataframe thead th {\n",
              "        text-align: right;\n",
              "    }\n",
              "</style>\n",
              "<table border=\"1\" class=\"dataframe\">\n",
              "  <thead>\n",
              "    <tr style=\"text-align: right;\">\n",
              "      <th></th>\n",
              "      <th>Gender</th>\n",
              "    </tr>\n",
              "  </thead>\n",
              "  <tbody>\n",
              "    <tr>\n",
              "      <th>0</th>\n",
              "      <td>male</td>\n",
              "    </tr>\n",
              "    <tr>\n",
              "      <th>1</th>\n",
              "      <td>female</td>\n",
              "    </tr>\n",
              "    <tr>\n",
              "      <th>2</th>\n",
              "      <td>male</td>\n",
              "    </tr>\n",
              "    <tr>\n",
              "      <th>3</th>\n",
              "      <td>male</td>\n",
              "    </tr>\n",
              "    <tr>\n",
              "      <th>4</th>\n",
              "      <td>male</td>\n",
              "    </tr>\n",
              "    <tr>\n",
              "      <th>5</th>\n",
              "      <td>female</td>\n",
              "    </tr>\n",
              "    <tr>\n",
              "      <th>6</th>\n",
              "      <td>male</td>\n",
              "    </tr>\n",
              "    <tr>\n",
              "      <th>7</th>\n",
              "      <td>female</td>\n",
              "    </tr>\n",
              "    <tr>\n",
              "      <th>8</th>\n",
              "      <td>female</td>\n",
              "    </tr>\n",
              "  </tbody>\n",
              "</table>\n",
              "</div>"
            ],
            "text/plain": [
              "   Gender\n",
              "0    male\n",
              "1  female\n",
              "2    male\n",
              "3    male\n",
              "4    male\n",
              "5  female\n",
              "6    male\n",
              "7  female\n",
              "8  female"
            ]
          },
          "metadata": {
            "tags": []
          },
          "execution_count": 46
        }
      ]
    },
    {
      "cell_type": "code",
      "metadata": {
        "id": "Iy4tETs58Z_d",
        "colab_type": "code",
        "colab": {
          "base_uri": "https://localhost:8080/",
          "height": 328
        },
        "outputId": "092063da-ee0e-4012-b5d6-b5fa4e6b4e8f"
      },
      "source": [
        "df1['replace_value'] = df1['Gender'].map({'male': 1, 'female':2 })\n",
        "df1"
      ],
      "execution_count": 47,
      "outputs": [
        {
          "output_type": "execute_result",
          "data": {
            "text/html": [
              "<div>\n",
              "<style scoped>\n",
              "    .dataframe tbody tr th:only-of-type {\n",
              "        vertical-align: middle;\n",
              "    }\n",
              "\n",
              "    .dataframe tbody tr th {\n",
              "        vertical-align: top;\n",
              "    }\n",
              "\n",
              "    .dataframe thead th {\n",
              "        text-align: right;\n",
              "    }\n",
              "</style>\n",
              "<table border=\"1\" class=\"dataframe\">\n",
              "  <thead>\n",
              "    <tr style=\"text-align: right;\">\n",
              "      <th></th>\n",
              "      <th>Gender</th>\n",
              "      <th>replace_value</th>\n",
              "    </tr>\n",
              "  </thead>\n",
              "  <tbody>\n",
              "    <tr>\n",
              "      <th>0</th>\n",
              "      <td>male</td>\n",
              "      <td>1</td>\n",
              "    </tr>\n",
              "    <tr>\n",
              "      <th>1</th>\n",
              "      <td>female</td>\n",
              "      <td>2</td>\n",
              "    </tr>\n",
              "    <tr>\n",
              "      <th>2</th>\n",
              "      <td>male</td>\n",
              "      <td>1</td>\n",
              "    </tr>\n",
              "    <tr>\n",
              "      <th>3</th>\n",
              "      <td>male</td>\n",
              "      <td>1</td>\n",
              "    </tr>\n",
              "    <tr>\n",
              "      <th>4</th>\n",
              "      <td>male</td>\n",
              "      <td>1</td>\n",
              "    </tr>\n",
              "    <tr>\n",
              "      <th>5</th>\n",
              "      <td>female</td>\n",
              "      <td>2</td>\n",
              "    </tr>\n",
              "    <tr>\n",
              "      <th>6</th>\n",
              "      <td>male</td>\n",
              "      <td>1</td>\n",
              "    </tr>\n",
              "    <tr>\n",
              "      <th>7</th>\n",
              "      <td>female</td>\n",
              "      <td>2</td>\n",
              "    </tr>\n",
              "    <tr>\n",
              "      <th>8</th>\n",
              "      <td>female</td>\n",
              "      <td>2</td>\n",
              "    </tr>\n",
              "  </tbody>\n",
              "</table>\n",
              "</div>"
            ],
            "text/plain": [
              "   Gender  replace_value\n",
              "0    male              1\n",
              "1  female              2\n",
              "2    male              1\n",
              "3    male              1\n",
              "4    male              1\n",
              "5  female              2\n",
              "6    male              1\n",
              "7  female              2\n",
              "8  female              2"
            ]
          },
          "metadata": {
            "tags": []
          },
          "execution_count": 47
        }
      ]
    },
    {
      "cell_type": "code",
      "metadata": {
        "id": "93OIpph_Fxas",
        "colab_type": "code",
        "colab": {
          "base_uri": "https://localhost:8080/",
          "height": 328
        },
        "outputId": "15a9cdb6-c7cf-4494-f377-7cf03e766d1d"
      },
      "source": [
        "df1['replace_value'] = df1['Gender'].map({'male': 1 })\n",
        "df1"
      ],
      "execution_count": 48,
      "outputs": [
        {
          "output_type": "execute_result",
          "data": {
            "text/html": [
              "<div>\n",
              "<style scoped>\n",
              "    .dataframe tbody tr th:only-of-type {\n",
              "        vertical-align: middle;\n",
              "    }\n",
              "\n",
              "    .dataframe tbody tr th {\n",
              "        vertical-align: top;\n",
              "    }\n",
              "\n",
              "    .dataframe thead th {\n",
              "        text-align: right;\n",
              "    }\n",
              "</style>\n",
              "<table border=\"1\" class=\"dataframe\">\n",
              "  <thead>\n",
              "    <tr style=\"text-align: right;\">\n",
              "      <th></th>\n",
              "      <th>Gender</th>\n",
              "      <th>replace_value</th>\n",
              "    </tr>\n",
              "  </thead>\n",
              "  <tbody>\n",
              "    <tr>\n",
              "      <th>0</th>\n",
              "      <td>male</td>\n",
              "      <td>1.0</td>\n",
              "    </tr>\n",
              "    <tr>\n",
              "      <th>1</th>\n",
              "      <td>female</td>\n",
              "      <td>NaN</td>\n",
              "    </tr>\n",
              "    <tr>\n",
              "      <th>2</th>\n",
              "      <td>male</td>\n",
              "      <td>1.0</td>\n",
              "    </tr>\n",
              "    <tr>\n",
              "      <th>3</th>\n",
              "      <td>male</td>\n",
              "      <td>1.0</td>\n",
              "    </tr>\n",
              "    <tr>\n",
              "      <th>4</th>\n",
              "      <td>male</td>\n",
              "      <td>1.0</td>\n",
              "    </tr>\n",
              "    <tr>\n",
              "      <th>5</th>\n",
              "      <td>female</td>\n",
              "      <td>NaN</td>\n",
              "    </tr>\n",
              "    <tr>\n",
              "      <th>6</th>\n",
              "      <td>male</td>\n",
              "      <td>1.0</td>\n",
              "    </tr>\n",
              "    <tr>\n",
              "      <th>7</th>\n",
              "      <td>female</td>\n",
              "      <td>NaN</td>\n",
              "    </tr>\n",
              "    <tr>\n",
              "      <th>8</th>\n",
              "      <td>female</td>\n",
              "      <td>NaN</td>\n",
              "    </tr>\n",
              "  </tbody>\n",
              "</table>\n",
              "</div>"
            ],
            "text/plain": [
              "   Gender  replace_value\n",
              "0    male            1.0\n",
              "1  female            NaN\n",
              "2    male            1.0\n",
              "3    male            1.0\n",
              "4    male            1.0\n",
              "5  female            NaN\n",
              "6    male            1.0\n",
              "7  female            NaN\n",
              "8  female            NaN"
            ]
          },
          "metadata": {
            "tags": []
          },
          "execution_count": 48
        }
      ]
    },
    {
      "cell_type": "markdown",
      "metadata": {
        "id": "TeamaBJUFzs-",
        "colab_type": "text"
      },
      "source": [
        "`From above implementation we can clearly see that map() function replaces the whole column with another values , if we don't select the values for some mappings in column then it sets it's value as Null by default.`"
      ]
    },
    {
      "cell_type": "markdown",
      "metadata": {
        "id": "IdGBziQoGgbw",
        "colab_type": "text"
      },
      "source": [
        "#Let's try another replace() function that takes two parameters as argument"
      ]
    },
    {
      "cell_type": "code",
      "metadata": {
        "id": "2kEv5HC4GtpS",
        "colab_type": "code",
        "colab": {
          "base_uri": "https://localhost:8080/",
          "height": 328
        },
        "outputId": "2734f7f9-80f0-4cba-da4f-d863ef171250"
      },
      "source": [
        "df1 = pd.DataFrame()\n",
        "liss= ['male' , 'female' , 'male' , 'male' , 'male' , 'female' , 'male' , 'female' , 'female']\n",
        "df1['Gender'] = liss\n",
        "df1"
      ],
      "execution_count": 49,
      "outputs": [
        {
          "output_type": "execute_result",
          "data": {
            "text/html": [
              "<div>\n",
              "<style scoped>\n",
              "    .dataframe tbody tr th:only-of-type {\n",
              "        vertical-align: middle;\n",
              "    }\n",
              "\n",
              "    .dataframe tbody tr th {\n",
              "        vertical-align: top;\n",
              "    }\n",
              "\n",
              "    .dataframe thead th {\n",
              "        text-align: right;\n",
              "    }\n",
              "</style>\n",
              "<table border=\"1\" class=\"dataframe\">\n",
              "  <thead>\n",
              "    <tr style=\"text-align: right;\">\n",
              "      <th></th>\n",
              "      <th>Gender</th>\n",
              "    </tr>\n",
              "  </thead>\n",
              "  <tbody>\n",
              "    <tr>\n",
              "      <th>0</th>\n",
              "      <td>male</td>\n",
              "    </tr>\n",
              "    <tr>\n",
              "      <th>1</th>\n",
              "      <td>female</td>\n",
              "    </tr>\n",
              "    <tr>\n",
              "      <th>2</th>\n",
              "      <td>male</td>\n",
              "    </tr>\n",
              "    <tr>\n",
              "      <th>3</th>\n",
              "      <td>male</td>\n",
              "    </tr>\n",
              "    <tr>\n",
              "      <th>4</th>\n",
              "      <td>male</td>\n",
              "    </tr>\n",
              "    <tr>\n",
              "      <th>5</th>\n",
              "      <td>female</td>\n",
              "    </tr>\n",
              "    <tr>\n",
              "      <th>6</th>\n",
              "      <td>male</td>\n",
              "    </tr>\n",
              "    <tr>\n",
              "      <th>7</th>\n",
              "      <td>female</td>\n",
              "    </tr>\n",
              "    <tr>\n",
              "      <th>8</th>\n",
              "      <td>female</td>\n",
              "    </tr>\n",
              "  </tbody>\n",
              "</table>\n",
              "</div>"
            ],
            "text/plain": [
              "   Gender\n",
              "0    male\n",
              "1  female\n",
              "2    male\n",
              "3    male\n",
              "4    male\n",
              "5  female\n",
              "6    male\n",
              "7  female\n",
              "8  female"
            ]
          },
          "metadata": {
            "tags": []
          },
          "execution_count": 49
        }
      ]
    },
    {
      "cell_type": "code",
      "metadata": {
        "id": "7avME_OvGUg2",
        "colab_type": "code",
        "colab": {
          "base_uri": "https://localhost:8080/",
          "height": 328
        },
        "outputId": "f1ab7848-a293-48bb-88c2-a128ca150b1b"
      },
      "source": [
        "df1['Gender'] = df1['Gender'].replace('male', 1)\n",
        "df1"
      ],
      "execution_count": 54,
      "outputs": [
        {
          "output_type": "execute_result",
          "data": {
            "text/html": [
              "<div>\n",
              "<style scoped>\n",
              "    .dataframe tbody tr th:only-of-type {\n",
              "        vertical-align: middle;\n",
              "    }\n",
              "\n",
              "    .dataframe tbody tr th {\n",
              "        vertical-align: top;\n",
              "    }\n",
              "\n",
              "    .dataframe thead th {\n",
              "        text-align: right;\n",
              "    }\n",
              "</style>\n",
              "<table border=\"1\" class=\"dataframe\">\n",
              "  <thead>\n",
              "    <tr style=\"text-align: right;\">\n",
              "      <th></th>\n",
              "      <th>Gender</th>\n",
              "    </tr>\n",
              "  </thead>\n",
              "  <tbody>\n",
              "    <tr>\n",
              "      <th>0</th>\n",
              "      <td>1</td>\n",
              "    </tr>\n",
              "    <tr>\n",
              "      <th>1</th>\n",
              "      <td>female</td>\n",
              "    </tr>\n",
              "    <tr>\n",
              "      <th>2</th>\n",
              "      <td>1</td>\n",
              "    </tr>\n",
              "    <tr>\n",
              "      <th>3</th>\n",
              "      <td>1</td>\n",
              "    </tr>\n",
              "    <tr>\n",
              "      <th>4</th>\n",
              "      <td>1</td>\n",
              "    </tr>\n",
              "    <tr>\n",
              "      <th>5</th>\n",
              "      <td>female</td>\n",
              "    </tr>\n",
              "    <tr>\n",
              "      <th>6</th>\n",
              "      <td>1</td>\n",
              "    </tr>\n",
              "    <tr>\n",
              "      <th>7</th>\n",
              "      <td>female</td>\n",
              "    </tr>\n",
              "    <tr>\n",
              "      <th>8</th>\n",
              "      <td>female</td>\n",
              "    </tr>\n",
              "  </tbody>\n",
              "</table>\n",
              "</div>"
            ],
            "text/plain": [
              "   Gender\n",
              "0       1\n",
              "1  female\n",
              "2       1\n",
              "3       1\n",
              "4       1\n",
              "5  female\n",
              "6       1\n",
              "7  female\n",
              "8  female"
            ]
          },
          "metadata": {
            "tags": []
          },
          "execution_count": 54
        }
      ]
    },
    {
      "cell_type": "code",
      "metadata": {
        "id": "JYaSW0RqGUfK",
        "colab_type": "code",
        "colab": {}
      },
      "source": [
        ""
      ],
      "execution_count": 0,
      "outputs": []
    },
    {
      "cell_type": "code",
      "metadata": {
        "id": "DjGzoNoRGUdM",
        "colab_type": "code",
        "colab": {}
      },
      "source": [
        ""
      ],
      "execution_count": 0,
      "outputs": []
    },
    {
      "cell_type": "code",
      "metadata": {
        "id": "XFRfuzaoGUbJ",
        "colab_type": "code",
        "colab": {}
      },
      "source": [
        ""
      ],
      "execution_count": 0,
      "outputs": []
    },
    {
      "cell_type": "code",
      "metadata": {
        "id": "zdu-3P9pGUZM",
        "colab_type": "code",
        "colab": {}
      },
      "source": [
        ""
      ],
      "execution_count": 0,
      "outputs": []
    },
    {
      "cell_type": "code",
      "metadata": {
        "id": "98J7G2OtGUXD",
        "colab_type": "code",
        "colab": {}
      },
      "source": [
        ""
      ],
      "execution_count": 0,
      "outputs": []
    },
    {
      "cell_type": "code",
      "metadata": {
        "id": "MqpllzsiGUUq",
        "colab_type": "code",
        "colab": {}
      },
      "source": [
        ""
      ],
      "execution_count": 0,
      "outputs": []
    }
  ]
}