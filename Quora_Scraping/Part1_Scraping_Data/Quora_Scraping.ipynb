{
  "nbformat": 4,
  "nbformat_minor": 0,
  "metadata": {
    "colab": {
      "name": "Part1_Quora_Scraping.ipynb",
      "provenance": [],
      "collapsed_sections": [],
      "include_colab_link": true
    },
    "kernelspec": {
      "name": "python3",
      "display_name": "Python 3"
    },
    "accelerator": "GPU"
  },
  "cells": [
    {
      "cell_type": "markdown",
      "metadata": {
        "id": "view-in-github",
        "colab_type": "text"
      },
      "source": [
        "<a href=\"https://colab.research.google.com/github/priyanshgupta1998/Machine_learning/blob/master/Quora_Scraping/Part1_Scraping_Data/Quora_Scraping.ipynb\" target=\"_parent\"><img src=\"https://colab.research.google.com/assets/colab-badge.svg\" alt=\"Open In Colab\"/></a>"
      ]
    },
    {
      "cell_type": "code",
      "metadata": {
        "id": "ay0PGrkEqLis",
        "colab_type": "code",
        "colab": {}
      },
      "source": [
        ""
      ],
      "execution_count": 0,
      "outputs": []
    },
    {
      "cell_type": "code",
      "metadata": {
        "id": "MErVAkHroLTr",
        "colab_type": "code",
        "colab": {}
      },
      "source": [
        "# import pandas as pd\n",
        "# from urllib.request import urlopen\n",
        "# from bs4 import BeautifulSoup"
      ],
      "execution_count": 0,
      "outputs": []
    },
    {
      "cell_type": "code",
      "metadata": {
        "id": "DXB2J5NmqB5D",
        "colab_type": "code",
        "colab": {}
      },
      "source": [
        "# url = \"https://www.google.com/search?q=titan+watches+quora+site:www.quora.com&client=ms-android-xiaomi&prmd=imnv&sxsrf=ACYBGNS1ycXj7ojWUEc5BzNpwOeGr9555w:1568619197468&sa=X&ved=2ahUKEwjY7LXw6dTkAhWJxMQBHXd9DB0QrQIoBDAAegQIAxAK&biw=360&bih=615#ip=1\"\n",
        "\n",
        "# html = urlopen(url)"
      ],
      "execution_count": 0,
      "outputs": []
    },
    {
      "cell_type": "code",
      "metadata": {
        "colab_type": "code",
        "id": "4WNdzyPCgzJt",
        "colab": {}
      },
      "source": [
        "# from urllib.parse import urlencode, urlparse, parse_qs\n",
        "\n",
        "# from lxml.html import fromstring\n",
        "# from requests import get\n",
        "\n",
        "# raw = get(url)\n",
        "# raw = get(url).text\n",
        "# raw\n",
        "\n",
        "# page = fromstring(raw)\n",
        "# page\n",
        "\n",
        "# list(page)"
      ],
      "execution_count": 0,
      "outputs": []
    },
    {
      "cell_type": "markdown",
      "metadata": {
        "id": "2Qs2nGxatDGg",
        "colab_type": "text"
      },
      "source": [
        "\n",
        "\n",
        "---\n",
        "\n",
        "\n",
        "\n",
        "---\n",
        "\n",
        "\n",
        "\n",
        "---\n",
        "\n",
        "\n",
        "\n",
        "---\n",
        "\n"
      ]
    },
    {
      "cell_type": "code",
      "metadata": {
        "id": "KCH9IL33oLgx",
        "colab_type": "code",
        "colab": {}
      },
      "source": [
        "# url = \"https://www.google.com/search?q=titan+watches+quora+site:www.quora.com&client=ms-android-xiaomi&prmd=imnv&sxsrf=ACYBGNS1ycXj7ojWUEc5BzNpwOeGr9555w:1568619197468&sa=X&ved=2ahUKEwjY7LXw6dTkAhWJxMQBHXd9DB0QrQIoBDAAegQIAxAK&biw=360&bih=615#ip=1\"\n",
        "\n",
        "\n",
        "# from urllib.request import urlopen as ureq\n",
        "# from bs4 import BeautifulSoup\n",
        "# import requests\n",
        "# page = requests.get(url)\n",
        "# html = BeautifulSoup(page.content,'html.parser')\n",
        "# html"
      ],
      "execution_count": 0,
      "outputs": []
    },
    {
      "cell_type": "code",
      "metadata": {
        "id": "8eF6pZtvoLfR",
        "colab_type": "code",
        "colab": {}
      },
      "source": [
        "# div1 = html.findAll(\"a\")"
      ],
      "execution_count": 0,
      "outputs": []
    },
    {
      "cell_type": "code",
      "metadata": {
        "id": "LSsFk5-goLdx",
        "colab_type": "code",
        "outputId": "a5c24cb2-bd6e-4d1d-87bc-2a4b29da568e",
        "colab": {
          "base_uri": "https://localhost:8080/",
          "height": 187
        }
      },
      "source": [
        "# for link in div1:\n",
        "#   if('/url?q=' in link.get('href')):\n",
        "#     if('https://www.quora.com/' in link.get('href').split('/url?q=')[1].split('&sa=')[0]):\n",
        "#       print(link.get('href').split('/url?q=')[1].split('&sa=')[0])"
      ],
      "execution_count": 0,
      "outputs": [
        {
          "output_type": "stream",
          "text": [
            "https://www.quora.com/How-good-are-titan-watches-compared-to-other-global-brands\n",
            "https://www.quora.com/What-is-your-opinion-on-Titan-watches\n",
            "https://www.quora.com/Why-are-Titan-watches-so-expensive\n",
            "https://www.quora.com/Which-watch-brand-should-I-go-for-Titan-Fossil-or-Casio\n",
            "https://www.quora.com/How-is-the-quality-of-Sonata-s-watches-Is-it-as-good-as-Titan-s-watches\n",
            "https://www.quora.com/How-popular-are-Titan-Watches-outside-India\n",
            "https://www.quora.com/Is-it-worth-buying-a-Fossil-wrist-watch-instead-of-Titan-Timex-or-Sonata-and-why\n",
            "https://www.quora.com/Which-are-the-best-models-of-Titan-watches-for-men\n",
            "https://www.quora.com/Which-watch-brand-makes-durable-and-long-life-watches-Titan-Maxima-or-Casio\n",
            "https://www.quora.com/Which-watch-is-better-Titan-or-Casio\n"
          ],
          "name": "stdout"
        }
      ]
    },
    {
      "cell_type": "markdown",
      "metadata": {
        "id": "Pclcpwp987Ms",
        "colab_type": "text"
      },
      "source": [
        "\n",
        "\n",
        "---\n",
        "\n",
        "\n",
        "\n",
        "---\n",
        "\n",
        "\n",
        "\n",
        "---\n",
        "\n",
        "\n",
        "\n",
        "---\n",
        "\n",
        "\n",
        "\n",
        "---\n",
        "\n",
        "#finally we are goona scrape 150 Google Queries for watch Searching on Quora "
      ]
    },
    {
      "cell_type": "code",
      "metadata": {
        "id": "EFc3qfHvoLb0",
        "colab_type": "code",
        "outputId": "59936955-23a9-4e53-8fc6-a780885535d5",
        "colab": {
          "base_uri": "https://localhost:8080/",
          "height": 306
        }
      },
      "source": [
        "link ='https://www.google.com/search?q=titan+watches+quora+site:www.quora.com&client=ms-android-xiaomi&biw=360&bih=615&sxsrf=ACYBGNQS6NzTZhe1c4WSZCqqSuZxxZUzqg:1570278410182&ei=CoyYXczXCo2e9QOBqqzIBQ&start=0&sa=N&ved=0ahUKEwjMhNn2joXlAhUNT30KHQEVC1kQ8tMDCKgB'\n",
        "\n",
        "links= []\n",
        "k = link.split('&start=0')\n",
        "for i in range(15):   #I've taken 15 Google pages here \n",
        "  links.append(k[0]+'&start='+str(i*10)+k[1])\n",
        "\n",
        "print(len(links))\n",
        "from urllib.request import urlopen as ureq\n",
        "from bs4 import BeautifulSoup\n",
        "import requests\n",
        "total =[]\n",
        "for link in links:\n",
        "  page = requests.get(link)\n",
        "  html = BeautifulSoup(page.content,'html.parser')\n",
        "  div1 = html.findAll(\"a\")\n",
        "  for link in div1:\n",
        "    if('/url?q=' in link.get('href')):\n",
        "      if('https://www.quora.com/' in link.get('href').split('/url?q=')[1].split('&sa=')[0]):\n",
        "        total.append(link.get('href').split('/url?q=')[1].split('&sa=')[0])\n",
        "        \n",
        "print(len(total))\n",
        "total[:15]"
      ],
      "execution_count": 1,
      "outputs": [
        {
          "output_type": "stream",
          "text": [
            "15\n",
            "150\n"
          ],
          "name": "stdout"
        },
        {
          "output_type": "execute_result",
          "data": {
            "text/plain": [
              "['https://www.quora.com/How-good-are-titan-watches-compared-to-other-global-brands',\n",
              " 'https://www.quora.com/What-is-your-opinion-on-Titan-watches',\n",
              " 'https://www.quora.com/Why-are-Titan-watches-so-expensive',\n",
              " 'https://www.quora.com/Which-watch-brand-should-I-go-for-Titan-Fossil-or-Casio',\n",
              " 'https://www.quora.com/How-is-the-quality-of-Sonata-s-watches-Is-it-as-good-as-Titan-s-watches',\n",
              " 'https://www.quora.com/How-popular-are-Titan-Watches-outside-India',\n",
              " 'https://www.quora.com/Is-it-worth-buying-a-Fossil-wrist-watch-instead-of-Titan-Timex-or-Sonata-and-why',\n",
              " 'https://www.quora.com/Which-are-the-best-models-of-Titan-watches-for-men',\n",
              " 'https://www.quora.com/Which-watch-brand-makes-durable-and-long-life-watches-Titan-Maxima-or-Casio',\n",
              " 'https://www.quora.com/Which-watch-is-better-Titan-or-Casio',\n",
              " 'https://www.quora.com/Which-one-is-best-Titan-or-Fastrack',\n",
              " 'https://www.quora.com/Why-are-Titan-watches-coveted-among-collectors',\n",
              " 'https://www.quora.com/For-how-many-years-will-a-Titan-watch-work-properly',\n",
              " 'https://www.quora.com/What-do-Titan-watches-look-like',\n",
              " 'https://www.quora.com/Which-is-the-best-to-buy-Titan-or-Timex']"
            ]
          },
          "metadata": {
            "tags": []
          },
          "execution_count": 1
        }
      ]
    },
    {
      "cell_type": "code",
      "metadata": {
        "id": "UgFC8J31yBgd",
        "colab_type": "code",
        "outputId": "ff14661c-c017-41ab-cf82-20cf84e35440",
        "colab": {
          "base_uri": "https://localhost:8080/",
          "height": 34
        }
      },
      "source": [
        "len(set(total))    # So we can say all the links are completely different"
      ],
      "execution_count": 0,
      "outputs": [
        {
          "output_type": "execute_result",
          "data": {
            "text/plain": [
              "150"
            ]
          },
          "metadata": {
            "tags": []
          },
          "execution_count": 93
        }
      ]
    },
    {
      "cell_type": "markdown",
      "metadata": {
        "id": "7SlpsK4xBanz",
        "colab_type": "text"
      },
      "source": [
        "#Save all the links in csv file"
      ]
    },
    {
      "cell_type": "code",
      "metadata": {
        "id": "gOcy_avXAAr5",
        "colab_type": "code",
        "colab": {}
      },
      "source": [
        "import pandas as pd\n",
        "df= pd.DataFrame()\n",
        "df['150_quora_Links'] = total\n",
        "df.to_csv('Links_file.csv' , index =False)"
      ],
      "execution_count": 0,
      "outputs": []
    },
    {
      "cell_type": "markdown",
      "metadata": {
        "id": "gM0LUYpvBhBg",
        "colab_type": "text"
      },
      "source": [
        "#Now take start taking all the links one by one in order to scrape"
      ]
    },
    {
      "cell_type": "code",
      "metadata": {
        "id": "l8DlP7maRo9x",
        "colab_type": "code",
        "colab": {}
      },
      "source": [
        "# from urllib.request import urlopen as ureq\n",
        "# from bs4 import BeautifulSoup\n",
        "# import requests\n",
        "# link = 'https://www.quora.com/How-good-are-titan-watches-compared-to-other-global-brands'\n",
        "# page = requests.get(link)\n",
        "# html = BeautifulSoup(page.content,'html.parser')\n",
        "# div1 = html.findAll('div',{'class':'pagedlist_item'})\n",
        "# # print(div1[0].findAll('a' , {'class':'user'}))\n",
        "# print(len(div1))\n",
        "# # print(div1[0].prettify())"
      ],
      "execution_count": 0,
      "outputs": []
    },
    {
      "cell_type": "code",
      "metadata": {
        "id": "NWglHxxCyBm1",
        "colab_type": "code",
        "colab": {}
      },
      "source": [
        "# from urllib.request import urlopen as ureq\n",
        "# from bs4 import BeautifulSoup\n",
        "# import requests\n",
        "# for link in total[:5]:\n",
        "#   page = requests.get(link)\n",
        "#   html = BeautifulSoup(page.content,'html.parser')\n",
        "#   div1 = html.findAll('div',{'class':'pagedlist_item'})\n",
        "#   for i in range(len(div1)):\n",
        "#     if(len(div1[i].text)>0): \n",
        "#       #ReadingContentFooter AnswerFooter ContentFooter\n",
        "#       #AnswerFooter ContentFooter ReadingContentFooter\n",
        "#       #AnswerFooter ReadingContentFooter ContentFooter\n",
        "#       if(len(div1[i].findAll('a' , {'class':'user'}))>0):\n",
        "#         print(div1[i].findAll('a' , {'class':'user'})[0].text)\n",
        "#       else:\n",
        "#         print(\"^^^^^^^^^^^^^^^^^^^^^^^^^^^^^^^^^^^^^^\")\n",
        "#       view1 = div1[i].findAll('div' , {'class':'AnswerFooter ContentFooter ReadingContentFooter'})\n",
        "#       view2 = div1[i].findAll('div' , {'class':'AnswerFooter ReadingContentFooter ContentFooter'})\n",
        "#       view3 = div1[i].findAll('div' , {'class':'ReadingContentFooter AnswerFooter ContentFooter'})\n",
        "#       if(len(view1)==0):\n",
        "#         if(len(view2)==0):\n",
        "#           if(len(view3)>0):\n",
        "#             st=view3[0].text\n",
        "#         else:\n",
        "#           st=view2[0].text\n",
        "#       else:\n",
        "#         st=view1[0].text\n",
        "#       if('views' in st):\n",
        "#         print(st.split('·')[0])\n",
        "#       if('voter' in st):\n",
        "#         print(st.split('·')[1])\n",
        "#       print(\"+++++++++++++++++++++++++++++++++++++++++++++++++++++++++++++++++++++++++++++++++++++\\n\")\n",
        "#     else:\n",
        "#       print(\"+++++++++++++++++++++++++++++++++++++++++GO ERROR ++++++++++++++++++++++++++++++++++++++++++++\\n\")\n",
        "#   print(\"***************************************Next CHnage***********************\\n\")"
      ],
      "execution_count": 0,
      "outputs": []
    },
    {
      "cell_type": "markdown",
      "metadata": {
        "id": "M6rjlDeANWPy",
        "colab_type": "text"
      },
      "source": [
        "#ALL data about First 150 Relevant Questions to Watches on Quora.com\n",
        "\n",
        "#Scrape first 5 appearing Questions for this search"
      ]
    },
    {
      "cell_type": "code",
      "metadata": {
        "id": "FqoUYENYPN3g",
        "colab_type": "code",
        "colab": {
          "base_uri": "https://localhost:8080/",
          "height": 102
        },
        "outputId": "54308936-56db-44fb-81f0-2dbd1833e257"
      },
      "source": [
        "import pandas as pd\n",
        "links = pd.read_csv('Links_file.csv')\n",
        "total = list(links['150_quora_Links'])\n",
        "total[:5]"
      ],
      "execution_count": 1,
      "outputs": [
        {
          "output_type": "execute_result",
          "data": {
            "text/plain": [
              "['https://www.quora.com/How-good-are-titan-watches-compared-to-other-global-brands',\n",
              " 'https://www.quora.com/What-is-your-opinion-on-Titan-watches',\n",
              " 'https://www.quora.com/Why-are-Titan-watches-so-expensive',\n",
              " 'https://www.quora.com/Which-watch-brand-should-I-go-for-Titan-Fossil-or-Casio',\n",
              " 'https://www.quora.com/How-is-the-quality-of-Sonata-s-watches-Is-it-as-good-as-Titan-s-watches']"
            ]
          },
          "metadata": {
            "tags": []
          },
          "execution_count": 1
        }
      ]
    },
    {
      "cell_type": "markdown",
      "metadata": {
        "id": "GnbnmRkDieZo",
        "colab_type": "text"
      },
      "source": [
        "#I'm removing 20 Google Queries .because I don't have Enough RAM . and these 20 Quesies (below) are taking too much RAM to scrape the data"
      ]
    },
    {
      "cell_type": "code",
      "metadata": {
        "id": "eM8Ps6oasQJS",
        "colab_type": "code",
        "colab": {
          "base_uri": "https://localhost:8080/",
          "height": 34
        },
        "outputId": "f6b6a0f3-a993-4e2b-e19a-d26902e43453"
      },
      "source": [
        "joker = total\n",
        "del joker[38]\n",
        "del joker[40]\n",
        "del joker[43]\n",
        "del joker[43]\n",
        "del joker[62]\n",
        "del joker[79]\n",
        "del joker[79]\n",
        "del joker[82]\n",
        "del joker[89]\n",
        "del joker[95]\n",
        "del joker[118]\n",
        "del joker[126]\n",
        "del joker[136]\n",
        "del joker[82]\n",
        "del joker[97]\n",
        "del joker[98]\n",
        "del joker[108]\n",
        "del joker[108]\n",
        "del joker[127]\n",
        "del joker[62]\n",
        "print(len(joker))"
      ],
      "execution_count": 2,
      "outputs": [
        {
          "output_type": "stream",
          "text": [
            "130\n"
          ],
          "name": "stdout"
        }
      ]
    },
    {
      "cell_type": "markdown",
      "metadata": {
        "id": "h-7taPD1i69g",
        "colab_type": "text"
      },
      "source": [
        "#So i'm taking only 130 Google Queries"
      ]
    },
    {
      "cell_type": "markdown",
      "metadata": {
        "id": "nId1DKoRjDzk",
        "colab_type": "text"
      },
      "source": [
        "#Let's Scrape the data Manually using Beautiful Soup Library"
      ]
    },
    {
      "cell_type": "code",
      "metadata": {
        "id": "N5nt6j5f24-j",
        "colab_type": "code",
        "colab": {
          "base_uri": "https://localhost:8080/",
          "height": 1000
        },
        "outputId": "4941ceb0-1510-4d08-b5ba-6f718387c89d"
      },
      "source": [
        "import time\n",
        "from urllib.request import urlopen as ureq\n",
        "from bs4 import BeautifulSoup\n",
        "import requests\n",
        "user = []\n",
        "background = []\n",
        "Answer = []\n",
        "date = []\n",
        "urlss = []\n",
        "question = []\n",
        "num_of_ans = []\n",
        "viewers =[]\n",
        "updates = []\n",
        "for link in joker:\n",
        "  page = requests.get(link)\n",
        "  html = BeautifulSoup(page.content,'html.parser')\n",
        "  ques = html.findAll('h1')\n",
        "  ans =html.findAll('div',{'class':'QuestionPageAnswerHeader'})\n",
        "  li= int(ans[0].text.split('Answ')[0])\n",
        "  div1 = html.findAll('div',{'class':'pagedlist_item'})\n",
        "  print(joker.index(link) , link , len(div1))\n",
        "  for i in range(len(div1)):\n",
        "    if(len(div1[i].text)>0):\n",
        "      urlss.append(link)\n",
        "      question.append(ques[0].text)\n",
        "      num_of_ans.append(li)\n",
        "      if(len(div1[i].findAll('a' , {'class':'user'}))>0):\n",
        "        user.append(div1[i].findAll('a' , {'class':'user'})[0].text)\n",
        "      else:\n",
        "        user.append('?')\n",
        "      st =''  \n",
        "      view1 = div1[i].findAll('div' , {'class':'AnswerFooter ContentFooter ReadingContentFooter'})\n",
        "      view2 = div1[i].findAll('div' , {'class':'AnswerFooter ReadingContentFooter ContentFooter'})\n",
        "      view3 = div1[i].findAll('div' , {'class':'ReadingContentFooter AnswerFooter ContentFooter'})\n",
        "      if(len(view1)==0):\n",
        "        if(len(view2)==0):\n",
        "          if(len(view3)>0):\n",
        "            st=view3[0].text\n",
        "        else:\n",
        "          st=view2[0].text\n",
        "      else:\n",
        "        st=view1[0].text\n",
        "\n",
        "      if('views' in st):\n",
        "        viewers.append(st.split('·')[0])\n",
        "      else:\n",
        "        viewers.append('?')\n",
        "      if('voter' in st):\n",
        "        updates.append(st.split('·')[1])\n",
        "      else:\n",
        "        updates.append('?')\n",
        "        \n",
        "        \n",
        "      if(len(div1[i].findAll('span' , {'class':'NameCredential'}))>0):\n",
        "        background.append(div1[i].findAll('span' , {'class':'NameCredential'})[0].text)\n",
        "      else:\n",
        "        background.append('?')\n",
        "\n",
        "      #print(div1[i].findAll('span' , {'class':'bold_num'}))\n",
        "      s = ' '\n",
        "      k = div1[i].findAll('p',{'class':\"ui_qtext_para u-ltr u-text-align--start\"})  #Answer of the asked question\n",
        "      for j in range(len(k)):\n",
        "        s+= k[j].text \n",
        "        s+=s\n",
        "      Answer.append(s)\n",
        "\n",
        "      if(len(div1[i].findAll('a' , {'class':'answer_permalink'}))>0):\n",
        "        date.append(div1[i].findAll('a' , {'class':'answer_permalink'})[0].text)\n",
        "      else:\n",
        "        date.append('?')\n",
        "#       if(len(div1[i].findAll('div' , {'id':'wNtBhqKo28'}))>0):\n",
        "#         print(div1[i].findAll('div' , {'id':'wNtBhqKo28'})[0].text)\n",
        "#       else:\n",
        "#         print(\"^^^^^^^^^^^^^^^^^^^^^^^^^^^^^^^^^^^^^^\")\n",
        "#       print(\"+++++++++++++++++++++++++++++++++++++++++++++++++++++++++++++++++++++++++++++++++++++\\n\")\n",
        "#     else:\n",
        "#       print(\"+++++++++++++++++++++++++++++++++++++++++GO ERROR ++++++++++++++++++++++++++++++++++++++++++++\\n\")\n",
        "#   print(\"***************************************Next CHnage***********************\\n\")"
      ],
      "execution_count": 5,
      "outputs": [
        {
          "output_type": "stream",
          "text": [
            "0 https://www.quora.com/How-good-are-titan-watches-compared-to-other-global-brands 20\n",
            "1 https://www.quora.com/What-is-your-opinion-on-Titan-watches 9\n",
            "2 https://www.quora.com/Why-are-Titan-watches-so-expensive 7\n",
            "3 https://www.quora.com/Which-watch-brand-should-I-go-for-Titan-Fossil-or-Casio 20\n",
            "4 https://www.quora.com/How-is-the-quality-of-Sonata-s-watches-Is-it-as-good-as-Titan-s-watches 7\n",
            "5 https://www.quora.com/How-popular-are-Titan-Watches-outside-India 4\n",
            "6 https://www.quora.com/Is-it-worth-buying-a-Fossil-wrist-watch-instead-of-Titan-Timex-or-Sonata-and-why 14\n",
            "7 https://www.quora.com/Which-are-the-best-models-of-Titan-watches-for-men 9\n",
            "8 https://www.quora.com/Which-watch-brand-makes-durable-and-long-life-watches-Titan-Maxima-or-Casio 18\n",
            "9 https://www.quora.com/Which-watch-is-better-Titan-or-Casio 11\n",
            "10 https://www.quora.com/Why-are-Titan-watches-coveted-among-collectors 4\n",
            "11 https://www.quora.com/Which-one-is-best-Titan-or-Fastrack 7\n",
            "12 https://www.quora.com/For-how-many-years-will-a-Titan-watch-work-properly 11\n",
            "13 https://www.quora.com/What-do-Titan-watches-look-like 4\n",
            "14 https://www.quora.com/Which-is-the-best-to-buy-Titan-or-Timex 14\n",
            "15 https://www.quora.com/Is-Maxima-a-good-watch-brand 20\n",
            "16 https://www.quora.com/Should-I-buy-the-Titan-We-watch 7\n",
            "17 https://www.quora.com/Does-FasTrack-watches-are-better-than-Titan 4\n",
            "18 https://www.quora.com/Which-is-better-to-gift-to-my-dad-a-Titan-watch-or-a-Fastrack-watch 14\n",
            "19 https://www.quora.com/Which-is-the-best-watch-brand-Casio-Edifice-or-Titan-Octane 9\n",
            "20 https://www.quora.com/Is-Giordano-a-good-brand-to-buy-a-watch-Is-spending-around-Rs-9-000-worth-it-for-this-brand 16\n",
            "21 https://www.quora.com/What-makes-the-quality-of-a-Titan-watch-better-than-other-Indian-watch-brands 4\n",
            "22 https://www.quora.com/Which-is-the-best-website-to-buy-Titan-women-watches-with-a-great-discount 7\n",
            "23 https://www.quora.com/Which-are-the-top-brands-of-watches-in-India 20\n",
            "24 https://www.quora.com/Is-Titan-watch-fall-under-luxury-watch-category 4\n",
            "25 https://www.quora.com/Which-Indian-company-makes-more-durable-watches-Timex-or-Sonata-by-Titan 7\n",
            "26 https://www.quora.com/Which-Titan-watch-under-Rs-3000-is-the-best 7\n",
            "27 https://www.quora.com/Which-brand-is-better-between-FasTrack-and-Timex 11\n",
            "28 https://www.quora.com/Why-are-Fastrack-watches-very-costly 14\n",
            "29 https://www.quora.com/Have-you-bought-a-watch-online-from-Titan-E-store-How-was-the-experience-Should-I-go-for-it 4\n",
            "30 https://www.quora.com/How-would-you-rate-Casio-watch-as-compared-to-Titan-Timex 14\n",
            "31 https://www.quora.com/Where-can-I-get-more-information-about-Fastrack-and-Titan-watches-so-that-I-can-buy-a-watch 4\n",
            "32 https://www.quora.com/How-good-are-Fastrack-watches 11\n",
            "33 https://www.quora.com/What-kind-of-movement-is-used-in-Titan-s-automatic-watches 4\n",
            "34 https://www.quora.com/Which-model-is-my-Titan-watch 4\n",
            "35 https://www.quora.com/What-are-the-best-watches-in-Fastrack 9\n",
            "36 https://www.quora.com/Are-TCS-employees-very-disappointed-with-the-gift-of-the-Titan-watch-as-the-50th-anniversary-gift 20\n",
            "37 https://www.quora.com/Which-one-is-a-better-option-a-high-end-Titan-watch-or-a-basic-Tissot-Longines-watch 4\n",
            "38 https://www.quora.com/Can-we-ask-Titan-Sonata-to-remake-a-specific-model-watch 4\n",
            "39 https://www.quora.com/Why-is-titan-not-producing-mechanical-watches-any-more 9\n",
            "40 https://www.quora.com/Does-the-Indian-watch-company-Titan-have-luxury-watches-in-the-price-league-of-a-Rolex 9\n",
            "41 https://www.quora.com/Which-is-the-best-watch-that-Fastrack-has-in-stock 11\n",
            "42 https://www.quora.com/Are-Fastrack-womens-watches-suitable-for-office-use 7\n",
            "43 https://www.quora.com/How-do-I-check-the-authenticity-of-a-Titan-watch 16\n",
            "44 https://www.quora.com/How-can-I-determine-whether-a-Titan-watch-is-original-or-not 4\n",
            "45 https://www.quora.com/Is-Fastrack-a-brand-of-Titan 4\n",
            "46 https://www.quora.com/Which-is-the-most-stylish-fastrack-watches-below-2500-rupees 16\n",
            "47 https://www.quora.com/Are-Titan-watches-on-Snapdeal-real-or-first-copy 14\n",
            "48 https://www.quora.com/What-is-the-Best-website-to-buy-watches-in-india 20\n",
            "49 https://www.quora.com/Can-we-buy-Titan-watches-from-Titan-online-shopping 7\n",
            "50 https://www.quora.com/What-are-the-best-watch-brands-for-women-under-%25E2%2582%25B93000 4\n",
            "51 https://www.quora.com/What-are-Indian-brands-for-wrist-watches 11\n",
            "52 https://www.quora.com/How-can-you-differentiate-among-the-parent-brand-Titan-and-sub-brands-Fastrack-and-Sonata-wristwatches 4\n",
            "53 https://www.quora.com/Which-is-the-best-brand-watch-under-2k-in-India 11\n",
            "54 https://www.quora.com/What-are-best-wrist-watches-for-women 20\n",
            "55 https://www.quora.com/Can-you-please-suggest-a-good-quality-wrist-watch-for-men-in-range-of-10-000-Rs-Is-it-worth-money-to-buy-expensive-watch 20\n",
            "56 https://www.quora.com/Are-Daniel-Klein-watches-reliable-and-durable 20\n",
            "57 https://www.quora.com/How-can-we-find-original-Fastrack-watches 16\n",
            "58 https://www.quora.com/Which-is-the-best-watch-to-buy-online-under-Rs-1500 20\n",
            "59 https://www.quora.com/Which-are-the-best-watches-available-up-to-Rs-2-000 7\n",
            "60 https://www.quora.com/Which-is-the-best-wristwatch-under-3000-INR 20\n",
            "61 https://www.quora.com/What-are-the-disadvantages-of-having-a-Titan-watch 4\n",
            "62 https://www.quora.com/What-is-a-good-titan-watch-under-75-for-men-preferably-able-to-be-worn-day-to-day-and-at-semi-formal-events 9\n",
            "63 https://www.quora.com/Is-Q-Q-a-good-watch-brand 11\n",
            "64 https://www.quora.com/What-are-the-top-10-watch-brands 20\n",
            "65 https://www.quora.com/Is-Casio-is-a-good-brand-to-buy-a-watch 20\n",
            "66 https://www.quora.com/What-are-the-best-wrist-watches-for-men-available-in-India-for-Rs-2000-3000 20\n",
            "67 https://www.quora.com/What-is-the-price-range-for-fastrack-watches 7\n",
            "68 https://www.quora.com/What-were-the-brands-of-watches-available-before-Titan 4\n",
            "69 https://www.quora.com/What-are-some-good-brands-of-watches-below-3k 9\n",
            "70 https://www.quora.com/What-type-of-motors-are-used-in-a-Titan-watch 4\n",
            "71 https://www.quora.com/Is-it-safe-to-buy-Casio-watches-from-Snapdeal-Because-Snapdeal-is-not-the-authorized-seller-of-Casio-but-also-it-offers-huge-discounts 14\n",
            "72 https://www.quora.com/What-are-the-best-watches-for-men-under-Rs-5000 20\n",
            "73 https://www.quora.com/What-is-the-best-quality-reasonably-priced-watch-brand 20\n",
            "74 https://www.quora.com/What-is-the-cheapest-and-best-watch-in-India 20\n",
            "75 https://www.quora.com/How-do-I-set-the-time-in-a-Titan-NE2480SM03-Analog-Womens-Watch 4\n",
            "76 https://www.quora.com/Are-Fastrack-watches-overrated 9\n",
            "77 https://www.quora.com/Fossil-or-tommy-Which-is-the-better-brand-of-these-two-for-watches-men 18\n",
            "78 https://www.quora.com/What-was-your-reaction-after-getting-Titan-watch-as-a-gift-from-TCS-for-silver-jubilee 9\n",
            "79 https://www.quora.com/Where-can-I-buy-Titan-vintage-watches 9\n",
            "80 https://www.quora.com/Why-didnt-my-Fastrack-watch-work-properly 4\n",
            "81 https://www.quora.com/How-can-I-change-the-date-and-time-on-my-Titan-HTSE-watch 4\n",
            "82 https://www.quora.com/I-have-titan-watch-and-mineral-glass-with-some-scratches-How-can-I-remove-the-scratches-from-the-mineral-glass 9\n",
            "83 https://www.quora.com/How-do-I-charge-a-Titan-HTSE-watch 7\n",
            "84 https://www.quora.com/Is-it-safe-to-buy-fastrack-watch-from-Paytm-They-are-giving-35-cashback-So-I-am-confused 11\n",
            "85 https://www.quora.com/Are-Orient-watches-good 20\n",
            "86 https://www.quora.com/Is-police-a-good-watch-brand 14\n",
            "87 https://www.quora.com/How-do-I-claim-the-warranty-of-an-online-purchased-fastrack-Watch-from-Snapdeal 16\n",
            "88 https://www.quora.com/What-are-the-best-watches-under-rs-10000-in-India 20\n",
            "89 https://www.quora.com/Is-gio-collection-a-good-brand-for-watches 20\n",
            "90 https://www.quora.com/I-was-thinking-of-buying-a-GShock-watch-from-Snapdeal-and-then-I-saw-the-official-authorized-list-of-casio-and-Snapdeal-was-not-there-Are-they-selling-fake-watches-and-making-people-fool 20\n",
            "91 https://www.quora.com/Is-it-legal-for-Titan-watches-to-adapt-part-of-Mozarts-25th-Symphony-for-its-advertisement-tune 7\n",
            "92 https://www.quora.com/Are-Fossil-watches-worth-the-prices 20\n",
            "93 https://www.quora.com/Is-Titan-Edge-still-the-worlds-slimmest-wristwatch 9\n",
            "94 https://www.quora.com/Which-watch-should-be-bought-for-my-son-TITAN-or-some-other-brand 4\n",
            "95 https://www.quora.com/Are-fossil-watches-on-Snapdeal-original-or-not 9\n",
            "96 https://www.quora.com/Does-Fastrack-belong-to-Sonata 7\n",
            "97 https://www.quora.com/Why-did-Titan-start-manufacturing-automatic-and-mechanical-watches-in-the-quartz-era 4\n",
            "98 https://www.quora.com/Is-it-necessary-to-watch-all-seasons-of-Attack-of-Titan 11\n",
            "99 https://www.quora.com/Can-I-reject-titan-watch-gift-from-TCS-what-issues-I-will-face 14\n",
            "100 https://www.quora.com/What-kind-of-watches-are-good-to-gift-a-woman 16\n",
            "101 https://www.quora.com/Which-is-the-better-watch-Fossil-or-Casio 14\n",
            "102 https://www.quora.com/The-belt-of-my-Fastrack-belt-is-broken-Where-can-I-get-the-belt-for-my-watch-online 4\n",
            "103 https://www.quora.com/Which-is-the-best-ladies-watch-brand-in-India 18\n",
            "104 https://www.quora.com/Are-the-watches-sold-on-E-commerce-websites-Myntra-Flipkart-etc-genuine-and-not-1st-copies 20\n",
            "105 https://www.quora.com/What-is-the-difference-between-ordinary-and-luxury-watches 7\n",
            "106 https://www.quora.com/Has-anyone-brought-Titan-HTSE-how-would-you-rate-the-watch 9\n",
            "107 https://www.quora.com/How-is-the-experience-of-using-first-copy-watches 16\n",
            "108 https://www.quora.com/Which-brand-of-a-watch-should-I-choose-Fossil-or-Diesel 20\n",
            "109 https://www.quora.com/Which-Titan-mens-watch-is-shown-in-a-recent-advertisement-that-has-bluish-dial-and-strap 4\n",
            "110 https://www.quora.com/How-do-you-clean-a-Titan-NF9322SL03MJ-octane-watch-without-damaging-it 7\n",
            "111 https://www.quora.com/How-good-are-Festina-watches 14\n",
            "112 https://www.quora.com/Where-can-I-purchase-nice-couple-watches 20\n",
            "113 https://www.quora.com/Which-is-a-better-watch-brand-Fossil-Guess-ESPRIT-DKNY-or-Alba-by-Seiko 20\n",
            "114 https://www.quora.com/What-watches-do-Indian-women-generally-wear-1 14\n",
            "115 https://www.quora.com/What-are-the-best-women-watches-in-India 11\n",
            "116 https://www.quora.com/Which-is-the-best-watch-brand-for-chronograph-watches-among-these 9\n",
            "117 https://www.quora.com/Is-it-a-best-time-to-buy-Titan-shares 20\n",
            "118 https://www.quora.com/What-are-the-best-watch-brands-for-men-under-%25E2%2582%25B93000 16\n",
            "119 https://www.quora.com/How-do-I-fix-the-date-on-my-analog-watch-It-always-shows-the-last-day-of-the-month-wrong-e-g-April-has-30-days-but-my-watch-has-to-also-show-the-31st-Is-there-any-way-the-watch-can-automatically-adjust-itself-according-to-the-month 20\n",
            "120 https://www.quora.com/Is-Armani-Exchange-or-Fossil-a-better-brand-for-watches 11\n",
            "121 https://www.quora.com/What-does-a-small-dial-inside-a-wrist-watch-indicate 11\n",
            "122 https://www.quora.com/Which-fast-track-watch-is-the-best-choice-under-1500-rupees 4\n",
            "123 https://www.quora.com/What-is-Gopal-Kavalireddi-s-view-about-Titan-s-stock-for-long-term-investment 7\n",
            "124 https://www.quora.com/Are-Fogg-watches-good 14\n",
            "125 https://www.quora.com/What-are-best-brands-for-watches-in-online-shopping 16\n",
            "126 https://www.quora.com/Are-Fossil-watches-a-good-brand 20\n",
            "127 https://www.quora.com/I-want-to-gift-a-watch-to-my-mom-and-dad-for-their-anniversary-My-budget-is-Rs-3000-for-each-Which-one-is-the-best-analog-watch-in-this-price-range 7\n",
            "128 https://www.quora.com/How-can-I-take-care-of-my-Titan-steel-watch-so-that-it-will-look-new-and-classic-for-3-4-years 4\n",
            "129 https://www.quora.com/Is-timex-a-good-brand 18\n"
          ],
          "name": "stdout"
        }
      ]
    },
    {
      "cell_type": "markdown",
      "metadata": {
        "id": "JLCYGmFbjRQw",
        "colab_type": "text"
      },
      "source": [
        "#create a pandas dataframe and store all the data in a .csv file format"
      ]
    },
    {
      "cell_type": "code",
      "metadata": {
        "id": "NK2gKNlB246k",
        "colab_type": "code",
        "colab": {}
      },
      "source": [
        "import pandas as pd\n",
        "df = pd.DataFrame()\n",
        "df['Question'] = question\n",
        "df['Number_of_Answer'] = num_of_ans\n",
        "df['User_name'] = user\n",
        "df['User_Profile'] = background\n",
        "df['Answer'] = Answer\n",
        "df['Number_of_Views'] = viewers\n",
        "df['Number_of_Upvotes'] = updates\n",
        "df['Date_Of_Answer'] =date\n",
        "df['Question_link'] = urlss\n"
      ],
      "execution_count": 0,
      "outputs": []
    },
    {
      "cell_type": "code",
      "metadata": {
        "id": "fwzjWa_f635z",
        "colab_type": "code",
        "colab": {
          "base_uri": "https://localhost:8080/",
          "height": 476
        },
        "outputId": "7e45b43e-8b04-4e56-b8c4-89190efe6c03"
      },
      "source": [
        "print(df.shape)\n",
        "df.head()"
      ],
      "execution_count": 9,
      "outputs": [
        {
          "output_type": "stream",
          "text": [
            "(877, 9)\n"
          ],
          "name": "stdout"
        },
        {
          "output_type": "execute_result",
          "data": {
            "text/html": [
              "<div>\n",
              "<style scoped>\n",
              "    .dataframe tbody tr th:only-of-type {\n",
              "        vertical-align: middle;\n",
              "    }\n",
              "\n",
              "    .dataframe tbody tr th {\n",
              "        vertical-align: top;\n",
              "    }\n",
              "\n",
              "    .dataframe thead th {\n",
              "        text-align: right;\n",
              "    }\n",
              "</style>\n",
              "<table border=\"1\" class=\"dataframe\">\n",
              "  <thead>\n",
              "    <tr style=\"text-align: right;\">\n",
              "      <th></th>\n",
              "      <th>Question</th>\n",
              "      <th>Number_of_Answer</th>\n",
              "      <th>User_name</th>\n",
              "      <th>User_Profile</th>\n",
              "      <th>Answer</th>\n",
              "      <th>Number_of_Views</th>\n",
              "      <th>Number_of_Upvotes</th>\n",
              "      <th>Date_Of_Answer</th>\n",
              "      <th>Question_link</th>\n",
              "    </tr>\n",
              "  </thead>\n",
              "  <tbody>\n",
              "    <tr>\n",
              "      <th>0</th>\n",
              "      <td>How good are titan watches compared to other g...</td>\n",
              "      <td>10</td>\n",
              "      <td>Siddharth Gopinath</td>\n",
              "      <td>, A watch collector and lover</td>\n",
              "      <td>As a collector and lover of watches, I've fou...</td>\n",
              "      <td>11.4k views</td>\n",
              "      <td>View 10 Upvoters</td>\n",
              "      <td>Answered Oct 27, 2016</td>\n",
              "      <td>https://www.quora.com/How-good-are-titan-watch...</td>\n",
              "    </tr>\n",
              "    <tr>\n",
              "      <th>1</th>\n",
              "      <td>How good are titan watches compared to other g...</td>\n",
              "      <td>10</td>\n",
              "      <td>?</td>\n",
              "      <td>?</td>\n",
              "      <td></td>\n",
              "      <td>?</td>\n",
              "      <td>?</td>\n",
              "      <td>?</td>\n",
              "      <td>https://www.quora.com/How-good-are-titan-watch...</td>\n",
              "    </tr>\n",
              "    <tr>\n",
              "      <th>2</th>\n",
              "      <td>How good are titan watches compared to other g...</td>\n",
              "      <td>10</td>\n",
              "      <td>Tanmoy Barman</td>\n",
              "      <td>, Corporate enthusiast</td>\n",
              "      <td>Titan Company Limited (earlier known as Titan...</td>\n",
              "      <td>?</td>\n",
              "      <td>?</td>\n",
              "      <td>Answered Oct 26, 2016</td>\n",
              "      <td>https://www.quora.com/How-good-are-titan-watch...</td>\n",
              "    </tr>\n",
              "    <tr>\n",
              "      <th>3</th>\n",
              "      <td>How good are titan watches compared to other g...</td>\n",
              "      <td>10</td>\n",
              "      <td>?</td>\n",
              "      <td>?</td>\n",
              "      <td></td>\n",
              "      <td>?</td>\n",
              "      <td>?</td>\n",
              "      <td>?</td>\n",
              "      <td>https://www.quora.com/How-good-are-titan-watch...</td>\n",
              "    </tr>\n",
              "    <tr>\n",
              "      <th>4</th>\n",
              "      <td>How good are titan watches compared to other g...</td>\n",
              "      <td>10</td>\n",
              "      <td>Hussein Faruque Aly</td>\n",
              "      <td>, studied at University of Geneva</td>\n",
              "      <td>I have just bought a Titan Watch on a trip to...</td>\n",
              "      <td>9.3k views</td>\n",
              "      <td>View 29 Upvoters</td>\n",
              "      <td>Answered Aug 26, 2017</td>\n",
              "      <td>https://www.quora.com/How-good-are-titan-watch...</td>\n",
              "    </tr>\n",
              "  </tbody>\n",
              "</table>\n",
              "</div>"
            ],
            "text/plain": [
              "                                            Question  ...                                      Question_link\n",
              "0  How good are titan watches compared to other g...  ...  https://www.quora.com/How-good-are-titan-watch...\n",
              "1  How good are titan watches compared to other g...  ...  https://www.quora.com/How-good-are-titan-watch...\n",
              "2  How good are titan watches compared to other g...  ...  https://www.quora.com/How-good-are-titan-watch...\n",
              "3  How good are titan watches compared to other g...  ...  https://www.quora.com/How-good-are-titan-watch...\n",
              "4  How good are titan watches compared to other g...  ...  https://www.quora.com/How-good-are-titan-watch...\n",
              "\n",
              "[5 rows x 9 columns]"
            ]
          },
          "metadata": {
            "tags": []
          },
          "execution_count": 9
        }
      ]
    },
    {
      "cell_type": "code",
      "metadata": {
        "id": "2WkYcFW3242m",
        "colab_type": "code",
        "colab": {}
      },
      "source": [
        "df.to_csv('Quora_Questions_Scraping.csv',index=False)"
      ],
      "execution_count": 0,
      "outputs": []
    },
    {
      "cell_type": "markdown",
      "metadata": {
        "id": "ZqDbc9Wzjhb_",
        "colab_type": "text"
      },
      "source": [
        "#From above details ,we can clearly see we have 130 Questions along with total 877 Answers."
      ]
    },
    {
      "cell_type": "code",
      "metadata": {
        "id": "GI0cTxn_j79U",
        "colab_type": "code",
        "colab": {}
      },
      "source": [
        ""
      ],
      "execution_count": 0,
      "outputs": []
    },
    {
      "cell_type": "code",
      "metadata": {
        "id": "i1R9JITKj75S",
        "colab_type": "code",
        "colab": {}
      },
      "source": [
        ""
      ],
      "execution_count": 0,
      "outputs": []
    },
    {
      "cell_type": "markdown",
      "metadata": {
        "id": "QBlbLANnkZkj",
        "colab_type": "text"
      },
      "source": [
        "#END"
      ]
    },
    {
      "cell_type": "markdown",
      "metadata": {
        "id": "eY0cVl5x26LW",
        "colab_type": "text"
      },
      "source": [
        "\n",
        "\n",
        "---\n",
        "\n",
        "---\n",
        "\n",
        "\n",
        "\n",
        "---\n",
        "\n",
        "\n",
        "\n",
        "---\n",
        "\n",
        "\n",
        "\n",
        "---\n",
        "\n",
        "\n",
        "\n",
        "---\n",
        "\n",
        "\n",
        "\n",
        "---\n",
        "\n",
        "\n",
        "\n",
        "\n",
        "\n",
        "---\n",
        "\n",
        "\n",
        "\n",
        "---\n",
        "\n",
        "\n",
        "\n",
        "---\n",
        "\n"
      ]
    },
    {
      "cell_type": "code",
      "metadata": {
        "id": "bWVugX-B_og7",
        "colab_type": "code",
        "colab": {}
      },
      "source": [
        "# import time\n",
        "# from urllib.request import urlopen as ureq\n",
        "# from bs4 import BeautifulSoup\n",
        "# import requests\n",
        "# user = []\n",
        "# background = []\n",
        "# Answer = []\n",
        "# date = []\n",
        "# urlss = []\n",
        "# question = []\n",
        "# num_of_ans = []\n",
        "# viewers =[]\n",
        "# updates = []\n",
        "# for link in joker[:70]:\n",
        "#   page = requests.get(link)\n",
        "#   html = BeautifulSoup(page.content,'html.parser')\n",
        "#   ques = html.findAll('h1')\n",
        "#   ans =html.findAll('div',{'class':'QuestionPageAnswerHeader'})\n",
        "#   li= int(ans[0].text.split('Answ')[0])\n",
        "#   div1 = html.findAll('div',{'class':'pagedlist_item'})\n",
        "#   print(joker.index(link) , link , len(div1))\n",
        "#   for i in range(len(div1)):\n",
        "#     if(len(div1[i].text)>0):\n",
        "#       urlss.append(link)\n",
        "#       question.append(ques[0].text)\n",
        "#       num_of_ans.append(li)\n",
        "#       if(len(div1[i].findAll('a' , {'class':'user'}))>0):\n",
        "#         user.append(div1[i].findAll('a' , {'class':'user'})[0].text)\n",
        "#       else:\n",
        "#         user.append('?')\n",
        "#       st =''  \n",
        "#       view1 = div1[i].findAll('div' , {'class':'AnswerFooter ContentFooter ReadingContentFooter'})\n",
        "#       view2 = div1[i].findAll('div' , {'class':'AnswerFooter ReadingContentFooter ContentFooter'})\n",
        "#       view3 = div1[i].findAll('div' , {'class':'ReadingContentFooter AnswerFooter ContentFooter'})\n",
        "#       if(len(view1)==0):\n",
        "#         if(len(view2)==0):\n",
        "#           if(len(view3)>0):\n",
        "#             st=view3[0].text\n",
        "#         else:\n",
        "#           st=view2[0].text\n",
        "#       else:\n",
        "#         st=view1[0].text\n",
        "\n",
        "#       if('views' in st):\n",
        "#         viewers.append(st.split('·')[0])\n",
        "#       else:\n",
        "#         viewers.append('?')\n",
        "#       if('voter' in st):\n",
        "#         updates.append(st.split('·')[1])\n",
        "#       else:\n",
        "#         updates.append('?')\n",
        "        \n",
        "        \n",
        "#       if(len(div1[i].findAll('span' , {'class':'NameCredential'}))>0):\n",
        "#         background.append(div1[i].findAll('span' , {'class':'NameCredential'})[0].text)\n",
        "#       else:\n",
        "#         background.append('?')\n",
        "\n",
        "#       #print(div1[i].findAll('span' , {'class':'bold_num'}))\n",
        "#       s = ' '\n",
        "#       k = div1[i].findAll('p',{'class':\"ui_qtext_para u-ltr u-text-align--start\"})  #Answer of the asked question\n",
        "#       for j in range(len(k)):\n",
        "#         s+= k[j].text \n",
        "#         s+=s\n",
        "#       Answer.append(s)\n",
        "\n",
        "#       if(len(div1[i].findAll('a' , {'class':'answer_permalink'}))>0):\n",
        "#         date.append(div1[i].findAll('a' , {'class':'answer_permalink'})[0].text)\n",
        "#       else:\n",
        "#         date.append('?')\n",
        "# #       if(len(div1[i].findAll('div' , {'id':'wNtBhqKo28'}))>0):\n",
        "# #         print(div1[i].findAll('div' , {'id':'wNtBhqKo28'})[0].text)\n",
        "# #       else:\n",
        "# #         print(\"^^^^^^^^^^^^^^^^^^^^^^^^^^^^^^^^^^^^^^\")\n",
        "# #       print(\"+++++++++++++++++++++++++++++++++++++++++++++++++++++++++++++++++++++++++++++++++++++\\n\")\n",
        "# #     else:\n",
        "# #       print(\"+++++++++++++++++++++++++++++++++++++++++GO ERROR ++++++++++++++++++++++++++++++++++++++++++++\\n\")\n",
        "# #   print(\"***************************************Next CHnage***********************\\n\")"
      ],
      "execution_count": 0,
      "outputs": []
    },
    {
      "cell_type": "code",
      "metadata": {
        "id": "Wkr-Ozs__RXS",
        "colab_type": "code",
        "colab": {}
      },
      "source": [
        "# import pandas as pd\n",
        "# df = pd.DataFrame()\n",
        "# df['Question'] = question\n",
        "# df['Number_of_Answer'] = num_of_ans\n",
        "# df['User_name'] = user\n",
        "# df['User_Profile'] = background\n",
        "# df['Answer'] = Answer\n",
        "# df['Number_of_Views'] = viewers\n",
        "# df['Number_of_Upvotes'] = updates\n",
        "# df['Date_Of_Answer'] =date\n",
        "# df['Question_link'] = urlss"
      ],
      "execution_count": 0,
      "outputs": []
    },
    {
      "cell_type": "code",
      "metadata": {
        "id": "gML2t_DMm6qM",
        "colab_type": "code",
        "colab": {}
      },
      "source": [
        "# print(df.shape)\n",
        "# df.head()"
      ],
      "execution_count": 0,
      "outputs": []
    },
    {
      "cell_type": "code",
      "metadata": {
        "id": "CeKAk-Qo7PlJ",
        "colab_type": "code",
        "colab": {}
      },
      "source": [
        "# df.to_csv('QuoraScrape_SPLIT_1.csv',index=False)"
      ],
      "execution_count": 0,
      "outputs": []
    },
    {
      "cell_type": "code",
      "metadata": {
        "id": "fIZnyIwczCaW",
        "colab_type": "code",
        "colab": {}
      },
      "source": [
        "# print(div1[2].findAll('a' , {'class':'user'}))\n",
        "# print(div1[0].findAll('span' , {'class':'NameCredential'})[0].text)\n",
        "# print(div1[0].findAll('span' , {'class':'bold_num'}))\n",
        "# k = div1[0].findAll('p',{'class':\"ui_qtext_para u-ltr u-text-align--start\"})  #Answer of the asked question\n",
        "# for i in range(len(k)):\n",
        "#   print(k[i].text, end=' ')\n",
        "# print('')\n",
        "# print(div1[0].findAll('a' , {'class':'answer_permalink'})[0].text)\n",
        "# print(div1[0].findAll('div' , {'id':'wNtBhqKo28'})[0].text)"
      ],
      "execution_count": 0,
      "outputs": []
    },
    {
      "cell_type": "code",
      "metadata": {
        "id": "g3A97h2MzCSq",
        "colab_type": "code",
        "colab": {}
      },
      "source": [
        "# from scrapy import Selector\n",
        "# import requests\n",
        "# url = 'https://www.quora.com/How-good-are-titan-watches-compared-to-other-global-brands'\n",
        "# html = requests.get(url).content\n",
        "# sel = Selector( text =html )\n",
        "# ass = sel.css( 'div.pagedlist_item' ).extract()\n",
        "# print(len(ass))\n",
        "# # print(len(sel.xpath('//div[@class=\"pagedlist_item\"]') ))\n",
        "# # sel.xpath('//div[@class=\"pagedlist_item\"]')[0].extract()"
      ],
      "execution_count": 0,
      "outputs": []
    },
    {
      "cell_type": "code",
      "metadata": {
        "id": "fXDLjRdikXrL",
        "colab_type": "code",
        "colab": {}
      },
      "source": [
        ""
      ],
      "execution_count": 0,
      "outputs": []
    },
    {
      "cell_type": "code",
      "metadata": {
        "id": "YOx1q5AzkXoX",
        "colab_type": "code",
        "colab": {}
      },
      "source": [
        ""
      ],
      "execution_count": 0,
      "outputs": []
    },
    {
      "cell_type": "code",
      "metadata": {
        "id": "efbD8mKtkXlp",
        "colab_type": "code",
        "colab": {}
      },
      "source": [
        ""
      ],
      "execution_count": 0,
      "outputs": []
    },
    {
      "cell_type": "code",
      "metadata": {
        "id": "ngSEoZfhkXi5",
        "colab_type": "code",
        "colab": {}
      },
      "source": [
        ""
      ],
      "execution_count": 0,
      "outputs": []
    },
    {
      "cell_type": "code",
      "metadata": {
        "id": "MoN38awSkXfp",
        "colab_type": "code",
        "colab": {}
      },
      "source": [
        ""
      ],
      "execution_count": 0,
      "outputs": []
    }
  ]
}