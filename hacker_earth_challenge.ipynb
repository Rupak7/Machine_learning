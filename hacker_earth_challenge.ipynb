{
  "nbformat": 4,
  "nbformat_minor": 0,
  "metadata": {
    "colab": {
      "name": "Welcome To Colaboratory",
      "version": "0.3.2",
      "provenance": [],
      "collapsed_sections": [],
      "include_colab_link": true
    },
    "kernelspec": {
      "name": "python3",
      "display_name": "Python 3"
    },
    "accelerator": "GPU"
  },
  "cells": [
    {
      "cell_type": "markdown",
      "metadata": {
        "id": "view-in-github",
        "colab_type": "text"
      },
      "source": [
        "<a href=\"https://colab.research.google.com/github/priyanshgupta1998/Machine_learning/blob/master/hacker_earth_challenge.ipynb\" target=\"_parent\"><img src=\"https://colab.research.google.com/assets/colab-badge.svg\" alt=\"Open In Colab\"/></a>"
      ]
    },
    {
      "cell_type": "code",
      "metadata": {
        "id": "jTv5vCXagrs0",
        "colab_type": "code",
        "colab": {
          "base_uri": "https://localhost:8080/",
          "height": 51
        },
        "outputId": "deb8485a-7707-4990-d418-616ba08575a4"
      },
      "source": [
        "# Program to extract number of \n",
        "# columns in Python \n",
        "import xlrd \n",
        "\n",
        "loc = (\"/content/Rule book for the five datapoints.xlsx\") \n",
        "\n",
        "wb = xlrd.open_workbook(loc) \n",
        "sheet = wb.sheet_by_index(0) \n",
        "\n",
        "# For row 0 and column 0 \n",
        "sheet.cell_value(0, 0) \n",
        "\n",
        "# Extracting number of columns \n",
        "print(sheet.ncols) \n",
        "print(sheet.nrows)"
      ],
      "execution_count": 2,
      "outputs": [
        {
          "output_type": "stream",
          "text": [
            "15\n",
            "6\n"
          ],
          "name": "stdout"
        }
      ]
    },
    {
      "cell_type": "code",
      "metadata": {
        "id": "h4CnPlkCgruk",
        "colab_type": "code",
        "colab": {}
      },
      "source": [
        "for i in range(sheet.nrows): \n",
        "    for j in range(sheet.ncols):\n",
        "        print(sheet.cell_value(i, j)) \n",
        "    print(\"=---==\")"
      ],
      "execution_count": 0,
      "outputs": []
    },
    {
      "cell_type": "code",
      "metadata": {
        "id": "4IRP65q1grzS",
        "colab_type": "code",
        "colab": {
          "base_uri": "https://localhost:8080/",
          "height": 326
        },
        "outputId": "2f584df7-9e04-403d-a954-d8e726615d74"
      },
      "source": [
        "import pandas as pd\n",
        "df = pd.read_csv(\"/content/Results2394dca.csv\")\n",
        "df.head()"
      ],
      "execution_count": 10,
      "outputs": [
        {
          "output_type": "execute_result",
          "data": {
            "text/html": [
              "<div>\n",
              "<style scoped>\n",
              "    .dataframe tbody tr th:only-of-type {\n",
              "        vertical-align: middle;\n",
              "    }\n",
              "\n",
              "    .dataframe tbody tr th {\n",
              "        vertical-align: top;\n",
              "    }\n",
              "\n",
              "    .dataframe thead th {\n",
              "        text-align: right;\n",
              "    }\n",
              "</style>\n",
              "<table border=\"1\" class=\"dataframe\">\n",
              "  <thead>\n",
              "    <tr style=\"text-align: right;\">\n",
              "      <th></th>\n",
              "      <th>For Lookup</th>\n",
              "      <th>Year</th>\n",
              "      <th>Credit\n",
              "Name</th>\n",
              "      <th>State</th>\n",
              "      <th>Security\n",
              "ID</th>\n",
              "      <th>Org\n",
              "ID</th>\n",
              "      <th>FYE</th>\n",
              "      <th>Accounting Basis</th>\n",
              "      <th>Pension Plan 1 Name</th>\n",
              "      <th>Pension Plan 1 Measurement Date</th>\n",
              "      <th>Pension Plan 1 Total Pension Liability</th>\n",
              "      <th>Balance Sheet Cash</th>\n",
              "      <th>Pension Plan 2 Name</th>\n",
              "      <th>Pension Plan 2 Measurement Date</th>\n",
              "      <th>Pension Plan 2 Total Pension Liability</th>\n",
              "    </tr>\n",
              "  </thead>\n",
              "  <tbody>\n",
              "    <tr>\n",
              "      <th>0</th>\n",
              "      <td>1013737_2016</td>\n",
              "      <td>2016</td>\n",
              "      <td>Jeannette</td>\n",
              "      <td>PA</td>\n",
              "      <td>1013737</td>\n",
              "      <td>8612</td>\n",
              "      <td>31/12/2016</td>\n",
              "      <td>NaN</td>\n",
              "      <td>NaN</td>\n",
              "      <td>NaN</td>\n",
              "      <td>NaN</td>\n",
              "      <td>NaN</td>\n",
              "      <td>NaN</td>\n",
              "      <td>NaN</td>\n",
              "      <td>NaN</td>\n",
              "    </tr>\n",
              "    <tr>\n",
              "      <th>1</th>\n",
              "      <td>1028564_2016</td>\n",
              "      <td>2016</td>\n",
              "      <td>Dickinson</td>\n",
              "      <td>ND</td>\n",
              "      <td>1028564</td>\n",
              "      <td>12020</td>\n",
              "      <td>31/12/2016</td>\n",
              "      <td>NaN</td>\n",
              "      <td>NaN</td>\n",
              "      <td>NaN</td>\n",
              "      <td>NaN</td>\n",
              "      <td>NaN</td>\n",
              "      <td>NaN</td>\n",
              "      <td>NaN</td>\n",
              "      <td>NaN</td>\n",
              "    </tr>\n",
              "    <tr>\n",
              "      <th>2</th>\n",
              "      <td>711506_2016</td>\n",
              "      <td>2016</td>\n",
              "      <td>Rawlins County</td>\n",
              "      <td>KS</td>\n",
              "      <td>711506</td>\n",
              "      <td>494151</td>\n",
              "      <td>31/12/2016</td>\n",
              "      <td>NaN</td>\n",
              "      <td>NaN</td>\n",
              "      <td>NaN</td>\n",
              "      <td>NaN</td>\n",
              "      <td>NaN</td>\n",
              "      <td>NaN</td>\n",
              "      <td>NaN</td>\n",
              "      <td>NaN</td>\n",
              "    </tr>\n",
              "    <tr>\n",
              "      <th>3</th>\n",
              "      <td>702336_2016</td>\n",
              "      <td>2016</td>\n",
              "      <td>Stone County</td>\n",
              "      <td>MO</td>\n",
              "      <td>702336</td>\n",
              "      <td>326056</td>\n",
              "      <td>31/12/2016</td>\n",
              "      <td>NaN</td>\n",
              "      <td>NaN</td>\n",
              "      <td>NaN</td>\n",
              "      <td>NaN</td>\n",
              "      <td>NaN</td>\n",
              "      <td>NaN</td>\n",
              "      <td>NaN</td>\n",
              "      <td>NaN</td>\n",
              "    </tr>\n",
              "    <tr>\n",
              "      <th>4</th>\n",
              "      <td>1029684_2017</td>\n",
              "      <td>2017</td>\n",
              "      <td>Anchorage</td>\n",
              "      <td>AK</td>\n",
              "      <td>1029684</td>\n",
              "      <td>27613</td>\n",
              "      <td>31/12/2017</td>\n",
              "      <td>NaN</td>\n",
              "      <td>NaN</td>\n",
              "      <td>NaN</td>\n",
              "      <td>NaN</td>\n",
              "      <td>NaN</td>\n",
              "      <td>NaN</td>\n",
              "      <td>NaN</td>\n",
              "      <td>NaN</td>\n",
              "    </tr>\n",
              "  </tbody>\n",
              "</table>\n",
              "</div>"
            ],
            "text/plain": [
              "     For Lookup  ...  Pension Plan 2 Total Pension Liability\n",
              "0  1013737_2016  ...                                     NaN\n",
              "1  1028564_2016  ...                                     NaN\n",
              "2   711506_2016  ...                                     NaN\n",
              "3   702336_2016  ...                                     NaN\n",
              "4  1029684_2017  ...                                     NaN\n",
              "\n",
              "[5 rows x 15 columns]"
            ]
          },
          "metadata": {
            "tags": []
          },
          "execution_count": 10
        }
      ]
    },
    {
      "cell_type": "code",
      "metadata": {
        "id": "cjCgSZI4gr8D",
        "colab_type": "code",
        "colab": {}
      },
      "source": [
        "!pip install -q kaggle\n",
        "!mkdir -p ~/.kaggle\n",
        "!cp kaggle.json ~/.kaggle/\n",
        "# This permissions change avoids a warning on Kaggle tool startup.\n",
        "!chmod 600 ~/.kaggle/kaggle.json"
      ],
      "execution_count": 0,
      "outputs": []
    },
    {
      "cell_type": "code",
      "metadata": {
        "id": "lLMB1TTygsBd",
        "colab_type": "code",
        "colab": {
          "base_uri": "https://localhost:8080/",
          "height": 68
        },
        "outputId": "aa3a35a3-89b2-4a80-fd4a-4975da7938c9"
      },
      "source": [
        "!kaggle datasets download -d priyansh98/extract-accounting-information-using-nlp"
      ],
      "execution_count": 15,
      "outputs": [
        {
          "output_type": "stream",
          "text": [
            "Downloading extract-accounting-information-using-nlp.zip to /content\n",
            "100% 1.57G/1.58G [00:18<00:00, 40.3MB/s]\n",
            "100% 1.58G/1.58G [00:18<00:00, 91.6MB/s]\n"
          ],
          "name": "stdout"
        }
      ]
    },
    {
      "cell_type": "code",
      "metadata": {
        "id": "_i7CryJvgr_M",
        "colab_type": "code",
        "colab": {
          "base_uri": "https://localhost:8080/",
          "height": 102
        },
        "outputId": "79dbad83-675e-4289-b57f-152692463833"
      },
      "source": [
        "!ls"
      ],
      "execution_count": 16,
      "outputs": [
        {
          "output_type": "stream",
          "text": [
            " extract-accounting-information-using-nlp.zip\n",
            " kaggle.json\n",
            " Results2394dca.csv\n",
            "'Rule book for the five datapoints.xlsx'\n",
            " sample_data\n"
          ],
          "name": "stdout"
        }
      ]
    },
    {
      "cell_type": "code",
      "metadata": {
        "id": "QvYjW3Taw8Jj",
        "colab_type": "code",
        "colab": {}
      },
      "source": [
        "!unzip extract-accounting-information-using-nlp.zip"
      ],
      "execution_count": 0,
      "outputs": []
    },
    {
      "cell_type": "code",
      "metadata": {
        "id": "yHgGz5Qdw8PF",
        "colab_type": "code",
        "colab": {
          "base_uri": "https://localhost:8080/",
          "height": 119
        },
        "outputId": "7b319064-9042-4888-f3eb-1f504e89aba1"
      },
      "source": [
        "!ls"
      ],
      "execution_count": 18,
      "outputs": [
        {
          "output_type": "stream",
          "text": [
            "'Crisil Challenge Data'\n",
            " extract-accounting-information-using-nlp.zip\n",
            " kaggle.json\n",
            " Results2394dca.csv\n",
            "'Rule book for the five datapoints.xlsx'\n",
            " sample_data\n"
          ],
          "name": "stdout"
        }
      ]
    },
    {
      "cell_type": "code",
      "metadata": {
        "id": "_phzMX0lw9dm",
        "colab_type": "code",
        "colab": {}
      },
      "source": [
        ""
      ],
      "execution_count": 0,
      "outputs": []
    },
    {
      "cell_type": "code",
      "metadata": {
        "id": "diGuQQ9Rw9bn",
        "colab_type": "code",
        "colab": {}
      },
      "source": [
        ""
      ],
      "execution_count": 0,
      "outputs": []
    },
    {
      "cell_type": "code",
      "metadata": {
        "id": "-DEI-1LEw9Zv",
        "colab_type": "code",
        "colab": {}
      },
      "source": [
        ""
      ],
      "execution_count": 0,
      "outputs": []
    },
    {
      "cell_type": "code",
      "metadata": {
        "id": "Ml_pjGhXw9X3",
        "colab_type": "code",
        "colab": {}
      },
      "source": [
        ""
      ],
      "execution_count": 0,
      "outputs": []
    },
    {
      "cell_type": "code",
      "metadata": {
        "id": "pIlLm-Pcw9Ui",
        "colab_type": "code",
        "colab": {}
      },
      "source": [
        ""
      ],
      "execution_count": 0,
      "outputs": []
    },
    {
      "cell_type": "code",
      "metadata": {
        "id": "B89QYo5Hw9Sw",
        "colab_type": "code",
        "colab": {}
      },
      "source": [
        ""
      ],
      "execution_count": 0,
      "outputs": []
    },
    {
      "cell_type": "code",
      "metadata": {
        "id": "Wt2qTCrOw9Qx",
        "colab_type": "code",
        "colab": {}
      },
      "source": [
        ""
      ],
      "execution_count": 0,
      "outputs": []
    },
    {
      "cell_type": "code",
      "metadata": {
        "id": "PvHbUD4Sw8GN",
        "colab_type": "code",
        "colab": {}
      },
      "source": [
        ""
      ],
      "execution_count": 0,
      "outputs": []
    },
    {
      "cell_type": "code",
      "metadata": {
        "id": "-xZWmyltw8D5",
        "colab_type": "code",
        "colab": {}
      },
      "source": [
        ""
      ],
      "execution_count": 0,
      "outputs": []
    },
    {
      "cell_type": "code",
      "metadata": {
        "id": "e8h5PsCkw8AQ",
        "colab_type": "code",
        "colab": {}
      },
      "source": [
        ""
      ],
      "execution_count": 0,
      "outputs": []
    }
  ]
}