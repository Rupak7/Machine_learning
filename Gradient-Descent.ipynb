{
  "nbformat": 4,
  "nbformat_minor": 0,
  "metadata": {
    "colab": {
      "name": "TensorFlow with GPU",
      "provenance": [],
      "collapsed_sections": [],
      "toc_visible": true,
      "include_colab_link": true
    },
    "kernelspec": {
      "display_name": "Python 3",
      "name": "python3"
    }
  },
  "cells": [
    {
      "cell_type": "markdown",
      "metadata": {
        "id": "view-in-github",
        "colab_type": "text"
      },
      "source": [
        "<a href=\"https://colab.research.google.com/github/priyanshgupta1998/Machine_learning/blob/master/Gradient-Descent.ipynb\" target=\"_parent\"><img src=\"https://colab.research.google.com/assets/colab-badge.svg\" alt=\"Open In Colab\"/></a>"
      ]
    },
    {
      "cell_type": "code",
      "metadata": {
        "id": "09-P-UR5OA6n",
        "colab_type": "code",
        "colab": {}
      },
      "source": [
        "from matplotlib import pyplot as plt\n",
        "import numpy as np\n",
        "\n",
        " "
      ],
      "execution_count": 0,
      "outputs": []
    },
    {
      "cell_type": "code",
      "metadata": {
        "id": "EqUHuDsvOA-7",
        "colab_type": "code",
        "colab": {
          "base_uri": "https://localhost:8080/",
          "height": 34
        },
        "outputId": "535cf958-9aa8-4035-9468-e45c4e479fb4"
      },
      "source": [
        "x_ = np.arange(10)\n",
        "print(x_)\n",
        "\n"
      ],
      "execution_count": 2,
      "outputs": [
        {
          "output_type": "stream",
          "text": [
            "[0 1 2 3 4 5 6 7 8 9]\n"
          ],
          "name": "stdout"
        }
      ]
    },
    {
      "cell_type": "code",
      "metadata": {
        "id": "n87wKjmtOBBt",
        "colab_type": "code",
        "colab": {
          "base_uri": "https://localhost:8080/",
          "height": 34
        },
        "outputId": "3faee5f9-3801-44e4-9d26-28315c6543f3"
      },
      "source": [
        "def lossFn(x):\n",
        "\treturn (x-5)**2\n",
        "loss = lossFn(x_)\n",
        "loss "
      ],
      "execution_count": 3,
      "outputs": [
        {
          "output_type": "execute_result",
          "data": {
            "text/plain": [
              "array([25, 16,  9,  4,  1,  0,  1,  4,  9, 16])"
            ]
          },
          "metadata": {
            "tags": []
          },
          "execution_count": 3
        }
      ]
    },
    {
      "cell_type": "markdown",
      "metadata": {
        "id": "pAn8biViPY7j",
        "colab_type": "text"
      },
      "source": [
        "#Slow gradient Descent function \n",
        "\n",
        "Depends on the 'learning rate' or 'step size'"
      ]
    },
    {
      "cell_type": "code",
      "metadata": {
        "id": "kPWVmd4sOA82",
        "colab_type": "code",
        "colab": {
          "base_uri": "https://localhost:8080/",
          "height": 874
        },
        "outputId": "3cf91c2b-9e0f-476d-ea66-1d4becf71d9b"
      },
      "source": [
        "\n",
        "plt.style.use(\"seaborn\")\n",
        "def gradDescent():\n",
        "  x = 0\n",
        "  learning_rate = 0.01\n",
        "  print(x)\n",
        "  plt.plot(loss)\n",
        "\n",
        "  # let's take 30 epochs\n",
        "  for i in range(30):\n",
        "    grad = 2*(x-5)    # for parabola (x-5)**2  \n",
        "    x= x - (learning_rate*grad)\n",
        "    l = lossFn(x)\n",
        "    print(\"x : %.3f Loss : %.3f \" %(x,l))\n",
        "    plt.scatter(x,l)\n",
        "    \n",
        "    \n",
        "gradDescent()"
      ],
      "execution_count": 22,
      "outputs": [
        {
          "output_type": "stream",
          "text": [
            "0\n",
            "x : 0.100 Loss : 24.010 \n",
            "x : 0.198 Loss : 23.059 \n",
            "x : 0.294 Loss : 22.146 \n",
            "x : 0.388 Loss : 21.269 \n",
            "x : 0.480 Loss : 20.427 \n",
            "x : 0.571 Loss : 19.618 \n",
            "x : 0.659 Loss : 18.841 \n",
            "x : 0.746 Loss : 18.095 \n",
            "x : 0.831 Loss : 17.378 \n",
            "x : 0.915 Loss : 16.690 \n",
            "x : 0.996 Loss : 16.029 \n",
            "x : 1.076 Loss : 15.395 \n",
            "x : 1.155 Loss : 14.785 \n",
            "x : 1.232 Loss : 14.199 \n",
            "x : 1.307 Loss : 13.637 \n",
            "x : 1.381 Loss : 13.097 \n",
            "x : 1.453 Loss : 12.578 \n",
            "x : 1.524 Loss : 12.080 \n",
            "x : 1.594 Loss : 11.602 \n",
            "x : 1.662 Loss : 11.143 \n",
            "x : 1.729 Loss : 10.701 \n",
            "x : 1.794 Loss : 10.277 \n",
            "x : 1.858 Loss : 9.871 \n",
            "x : 1.921 Loss : 9.480 \n",
            "x : 1.983 Loss : 9.104 \n",
            "x : 2.043 Loss : 8.744 \n",
            "x : 2.102 Loss : 8.397 \n",
            "x : 2.160 Loss : 8.065 \n",
            "x : 2.217 Loss : 7.746 \n",
            "x : 2.273 Loss : 7.439 \n"
          ],
          "name": "stdout"
        },
        {
          "output_type": "display_data",
          "data": {
            "image/png": "[encoded data removed]",
            "text/plain": [
              "<Figure size 576x396 with 1 Axes>"
            ]
          },
          "metadata": {
            "tags": []
          }
        }
      ]
    },
    {
      "cell_type": "markdown",
      "metadata": {
        "id": "4ey9oX50PgE9",
        "colab_type": "text"
      },
      "source": [
        "#Bit Faster Gradient Descent function"
      ]
    },
    {
      "cell_type": "code",
      "metadata": {
        "id": "iZW2pwiROZrC",
        "colab_type": "code",
        "colab": {
          "base_uri": "https://localhost:8080/",
          "height": 874
        },
        "outputId": "093ed1c5-cd8a-4cb6-9d74-2ce2f0067b41"
      },
      "source": [
        "\n",
        "plt.style.use(\"seaborn\")\n",
        "def gradDescent():\n",
        "  x = 0\n",
        "  learning_rate = 0.1\n",
        "  print(x)\n",
        "  plt.plot(loss)\n",
        "\n",
        "  # let's take 30 epochs\n",
        "  for i in range(30):\n",
        "    grad = 2*(x-5)    # for parabola (x-5)**2  \n",
        "    x= x - (learning_rate*grad)\n",
        "    l = lossFn(x)\n",
        "    print(\"x : %.3f Loss : %.3f \" %(x,l))\n",
        "    plt.scatter(x,l)\n",
        "    \n",
        "    \n",
        "gradDescent()"
      ],
      "execution_count": 23,
      "outputs": [
        {
          "output_type": "stream",
          "text": [
            "0\n",
            "x : 1.000 Loss : 16.000 \n",
            "x : 1.800 Loss : 10.240 \n",
            "x : 2.440 Loss : 6.554 \n",
            "x : 2.952 Loss : 4.194 \n",
            "x : 3.362 Loss : 2.684 \n",
            "x : 3.689 Loss : 1.718 \n",
            "x : 3.951 Loss : 1.100 \n",
            "x : 4.161 Loss : 0.704 \n",
            "x : 4.329 Loss : 0.450 \n",
            "x : 4.463 Loss : 0.288 \n",
            "x : 4.571 Loss : 0.184 \n",
            "x : 4.656 Loss : 0.118 \n",
            "x : 4.725 Loss : 0.076 \n",
            "x : 4.780 Loss : 0.048 \n",
            "x : 4.824 Loss : 0.031 \n",
            "x : 4.859 Loss : 0.020 \n",
            "x : 4.887 Loss : 0.013 \n",
            "x : 4.910 Loss : 0.008 \n",
            "x : 4.928 Loss : 0.005 \n",
            "x : 4.942 Loss : 0.003 \n",
            "x : 4.954 Loss : 0.002 \n",
            "x : 4.963 Loss : 0.001 \n",
            "x : 4.970 Loss : 0.001 \n",
            "x : 4.976 Loss : 0.001 \n",
            "x : 4.981 Loss : 0.000 \n",
            "x : 4.985 Loss : 0.000 \n",
            "x : 4.988 Loss : 0.000 \n",
            "x : 4.990 Loss : 0.000 \n",
            "x : 4.992 Loss : 0.000 \n",
            "x : 4.994 Loss : 0.000 \n"
          ],
          "name": "stdout"
        },
        {
          "output_type": "display_data",
          "data": {
            "image/png": "[encoded data removed]",
            "text/plain": [
              "<Figure size 576x396 with 1 Axes>"
            ]
          },
          "metadata": {
            "tags": []
          }
        }
      ]
    },
    {
      "cell_type": "code",
      "metadata": {
        "id": "nms-tgRHOZuJ",
        "colab_type": "code",
        "colab": {}
      },
      "source": [
        "\n"
      ],
      "execution_count": 0,
      "outputs": []
    }
  ]
}