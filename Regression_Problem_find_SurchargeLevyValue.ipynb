{
  "nbformat": 4,
  "nbformat_minor": 0,
  "metadata": {
    "colab": {
      "name": "Untitled1.ipynb",
      "version": "0.3.2",
      "provenance": [],
      "include_colab_link": true
    },
    "kernelspec": {
      "name": "python3",
      "display_name": "Python 3"
    },
    "accelerator": "GPU"
  },
  "cells": [
    {
      "cell_type": "markdown",
      "metadata": {
        "id": "view-in-github",
        "colab_type": "text"
      },
      "source": [
        "<a href=\"https://colab.research.google.com/github/priyanshgupta1998/Machine_learning/blob/master/Untitled1.ipynb\" target=\"_parent\"><img src=\"https://colab.research.google.com/assets/colab-badge.svg\" alt=\"Open In Colab\"/></a>"
      ]
    },
    {
      "cell_type": "code",
      "metadata": {
        "id": "NqZRzfifchyn",
        "colab_type": "code",
        "outputId": "32e80ba8-151c-4b88-f347-fa87a23eee99",
        "colab": {
          "base_uri": "https://localhost:8080/",
          "height": 34
        }
      },
      "source": [
        "cd /home"
      ],
      "execution_count": 1,
      "outputs": [
        {
          "output_type": "stream",
          "text": [
            "/home\n"
          ],
          "name": "stdout"
        }
      ]
    },
    {
      "cell_type": "code",
      "metadata": {
        "id": "7PWLMu7Ub1Bu",
        "colab_type": "code",
        "outputId": "06477646-8968-4190-ff9e-d5fbe9818af5",
        "colab": {
          "base_uri": "https://localhost:8080/",
          "height": 289
        }
      },
      "source": [
        "\n",
        "from xlrd import open_workbook\n",
        "import csv\n",
        "wb = open_workbook('problem_statement.xlsx')\n",
        "for i in range(wb.nsheets):\n",
        "    sheet = wb.sheet_by_index(i)\n",
        "    print(sheet.name)\n",
        "    with open(\"%s.csv\" %(sheet.name.replace(\" \",\"\")), \"w\") as file:\n",
        "        writer = csv.writer(file, delimiter = \",\")\n",
        "        print(sheet, sheet.name, sheet.ncols, sheet.nrows)\n",
        "        header = [cell.value for cell in sheet.row(0)]\n",
        "        writer.writerow(header)\n",
        "        for row_idx in range(1, sheet.nrows):\n",
        "            row = [int(cell.value) if isinstance(cell.value, float) else cell.value\n",
        "                   for cell in sheet.row(row_idx)]\n",
        "            writer.writerow(row)"
      ],
      "execution_count": 2,
      "outputs": [
        {
          "output_type": "stream",
          "text": [
            "Problem Statement\n",
            "<xlrd.sheet.Sheet object at 0x7f53bf939588> Problem Statement 1 25\n",
            "Credit_card_fraud_linear_1\n",
            "<xlrd.sheet.Sheet object at 0x7f53bf9395c0> Credit_card_fraud_linear_1 8 2663\n",
            "Credit_card_fraud (2)\n",
            "<xlrd.sheet.Sheet object at 0x7f53bf9395f8> Credit_card_fraud (2) 18 2663\n",
            "Credit_card_fraud_linear_2\n",
            "<xlrd.sheet.Sheet object at 0x7f53bf939630> Credit_card_fraud_linear_2 8 2663\n",
            "Credit_card_fraud_linear_3\n",
            "<xlrd.sheet.Sheet object at 0x7f53bf939668> Credit_card_fraud_linear_3 8 2663\n",
            "Credit_card_fraud_linear_4\n",
            "<xlrd.sheet.Sheet object at 0x7f53bf9396a0> Credit_card_fraud_linear_4 8 2663\n",
            "Credit_card_fraud_linear_5\n",
            "<xlrd.sheet.Sheet object at 0x7f53bf9396d8> Credit_card_fraud_linear_5 8 2663\n",
            "Credit_card_fraud_linear_6\n",
            "<xlrd.sheet.Sheet object at 0x7f53bf939710> Credit_card_fraud_linear_6 8 2663\n"
          ],
          "name": "stdout"
        }
      ]
    },
    {
      "cell_type": "code",
      "metadata": {
        "id": "XzwHzrZUcWNa",
        "colab_type": "code",
        "colab": {}
      },
      "source": [
        "import pandas as pd\n",
        "import numpy as np"
      ],
      "execution_count": 0,
      "outputs": []
    },
    {
      "cell_type": "markdown",
      "metadata": {
        "id": "Jg0_XTFRLzGL",
        "colab_type": "text"
      },
      "source": [
        "#Now take 5th data for training purpose"
      ]
    },
    {
      "cell_type": "code",
      "metadata": {
        "id": "Bhng-FaicWY7",
        "colab_type": "code",
        "outputId": "576b3500-8f1e-47da-e565-59efc0952af3",
        "colab": {
          "base_uri": "https://localhost:8080/",
          "height": 376
        }
      },
      "source": [
        "df = pd.read_csv('Credit_card_fraud_linear_5.csv')\n",
        "print(df.shape)\n",
        "df.head(10)"
      ],
      "execution_count": 102,
      "outputs": [
        {
          "output_type": "stream",
          "text": [
            "(2662, 8)\n"
          ],
          "name": "stdout"
        },
        {
          "output_type": "execute_result",
          "data": {
            "text/html": [
              "<div>\n",
              "<style scoped>\n",
              "    .dataframe tbody tr th:only-of-type {\n",
              "        vertical-align: middle;\n",
              "    }\n",
              "\n",
              "    .dataframe tbody tr th {\n",
              "        vertical-align: top;\n",
              "    }\n",
              "\n",
              "    .dataframe thead th {\n",
              "        text-align: right;\n",
              "    }\n",
              "</style>\n",
              "<table border=\"1\" class=\"dataframe\">\n",
              "  <thead>\n",
              "    <tr style=\"text-align: right;\">\n",
              "      <th></th>\n",
              "      <th>Customer_Type</th>\n",
              "      <th>$_Spent_per_day</th>\n",
              "      <th>#_of_transactions_per_day</th>\n",
              "      <th>$_credited_per_day</th>\n",
              "      <th>Day</th>\n",
              "      <th>Month</th>\n",
              "      <th>Year</th>\n",
              "      <th>$_Surcharge_Levied</th>\n",
              "    </tr>\n",
              "  </thead>\n",
              "  <tbody>\n",
              "    <tr>\n",
              "      <th>0</th>\n",
              "      <td>Coral</td>\n",
              "      <td>59</td>\n",
              "      <td>9</td>\n",
              "      <td>291</td>\n",
              "      <td>29</td>\n",
              "      <td>8</td>\n",
              "      <td>2019</td>\n",
              "      <td>-35</td>\n",
              "    </tr>\n",
              "    <tr>\n",
              "      <th>1</th>\n",
              "      <td>Coral</td>\n",
              "      <td>37</td>\n",
              "      <td>11</td>\n",
              "      <td>197</td>\n",
              "      <td>13</td>\n",
              "      <td>2</td>\n",
              "      <td>2017</td>\n",
              "      <td>-22</td>\n",
              "    </tr>\n",
              "    <tr>\n",
              "      <th>2</th>\n",
              "      <td>Coral</td>\n",
              "      <td>158</td>\n",
              "      <td>9</td>\n",
              "      <td>144</td>\n",
              "      <td>24</td>\n",
              "      <td>1</td>\n",
              "      <td>2019</td>\n",
              "      <td>-10</td>\n",
              "    </tr>\n",
              "    <tr>\n",
              "      <th>3</th>\n",
              "      <td>Coral</td>\n",
              "      <td>50</td>\n",
              "      <td>3</td>\n",
              "      <td>432</td>\n",
              "      <td>31</td>\n",
              "      <td>8</td>\n",
              "      <td>2017</td>\n",
              "      <td>-62</td>\n",
              "    </tr>\n",
              "    <tr>\n",
              "      <th>4</th>\n",
              "      <td>Coral</td>\n",
              "      <td>50</td>\n",
              "      <td>9</td>\n",
              "      <td>169</td>\n",
              "      <td>24</td>\n",
              "      <td>8</td>\n",
              "      <td>2019</td>\n",
              "      <td>-22</td>\n",
              "    </tr>\n",
              "    <tr>\n",
              "      <th>5</th>\n",
              "      <td>Coral</td>\n",
              "      <td>130</td>\n",
              "      <td>10</td>\n",
              "      <td>479</td>\n",
              "      <td>26</td>\n",
              "      <td>5</td>\n",
              "      <td>2018</td>\n",
              "      <td>-57</td>\n",
              "    </tr>\n",
              "    <tr>\n",
              "      <th>6</th>\n",
              "      <td>Coral</td>\n",
              "      <td>136</td>\n",
              "      <td>10</td>\n",
              "      <td>232</td>\n",
              "      <td>12</td>\n",
              "      <td>12</td>\n",
              "      <td>2018</td>\n",
              "      <td>-22</td>\n",
              "    </tr>\n",
              "    <tr>\n",
              "      <th>7</th>\n",
              "      <td>Coral</td>\n",
              "      <td>130</td>\n",
              "      <td>14</td>\n",
              "      <td>477</td>\n",
              "      <td>11</td>\n",
              "      <td>1</td>\n",
              "      <td>2017</td>\n",
              "      <td>-53</td>\n",
              "    </tr>\n",
              "    <tr>\n",
              "      <th>8</th>\n",
              "      <td>Coral</td>\n",
              "      <td>191</td>\n",
              "      <td>0</td>\n",
              "      <td>436</td>\n",
              "      <td>26</td>\n",
              "      <td>3</td>\n",
              "      <td>2019</td>\n",
              "      <td>-46</td>\n",
              "    </tr>\n",
              "    <tr>\n",
              "      <th>9</th>\n",
              "      <td>Coral</td>\n",
              "      <td>45</td>\n",
              "      <td>5</td>\n",
              "      <td>398</td>\n",
              "      <td>22</td>\n",
              "      <td>7</td>\n",
              "      <td>2018</td>\n",
              "      <td>-47</td>\n",
              "    </tr>\n",
              "  </tbody>\n",
              "</table>\n",
              "</div>"
            ],
            "text/plain": [
              "  Customer_Type  $_Spent_per_day  ...  Year  $_Surcharge_Levied\n",
              "0         Coral               59  ...  2019                 -35\n",
              "1         Coral               37  ...  2017                 -22\n",
              "2         Coral              158  ...  2019                 -10\n",
              "3         Coral               50  ...  2017                 -62\n",
              "4         Coral               50  ...  2019                 -22\n",
              "5         Coral              130  ...  2018                 -57\n",
              "6         Coral              136  ...  2018                 -22\n",
              "7         Coral              130  ...  2017                 -53\n",
              "8         Coral              191  ...  2019                 -46\n",
              "9         Coral               45  ...  2018                 -47\n",
              "\n",
              "[10 rows x 8 columns]"
            ]
          },
          "metadata": {
            "tags": []
          },
          "execution_count": 102
        }
      ]
    },
    {
      "cell_type": "code",
      "metadata": {
        "id": "L-41mzUCcWgj",
        "colab_type": "code",
        "outputId": "bc9340dc-074b-4d70-92f3-09f3db9501e8",
        "colab": {
          "base_uri": "https://localhost:8080/",
          "height": 297
        }
      },
      "source": [
        "df.describe()"
      ],
      "execution_count": 5,
      "outputs": [
        {
          "output_type": "execute_result",
          "data": {
            "text/html": [
              "<div>\n",
              "<style scoped>\n",
              "    .dataframe tbody tr th:only-of-type {\n",
              "        vertical-align: middle;\n",
              "    }\n",
              "\n",
              "    .dataframe tbody tr th {\n",
              "        vertical-align: top;\n",
              "    }\n",
              "\n",
              "    .dataframe thead th {\n",
              "        text-align: right;\n",
              "    }\n",
              "</style>\n",
              "<table border=\"1\" class=\"dataframe\">\n",
              "  <thead>\n",
              "    <tr style=\"text-align: right;\">\n",
              "      <th></th>\n",
              "      <th>$_Spent_per_day</th>\n",
              "      <th>#_of_transactions_per_day</th>\n",
              "      <th>$_credited_per_day</th>\n",
              "      <th>Day</th>\n",
              "      <th>Month</th>\n",
              "      <th>Year</th>\n",
              "      <th>$_Surcharge_Levied</th>\n",
              "    </tr>\n",
              "  </thead>\n",
              "  <tbody>\n",
              "    <tr>\n",
              "      <th>count</th>\n",
              "      <td>2662.000000</td>\n",
              "      <td>2662.000000</td>\n",
              "      <td>2662.000000</td>\n",
              "      <td>2662.000000</td>\n",
              "      <td>2662.000000</td>\n",
              "      <td>2662.000000</td>\n",
              "      <td>2662.000000</td>\n",
              "    </tr>\n",
              "    <tr>\n",
              "      <th>mean</th>\n",
              "      <td>338.233283</td>\n",
              "      <td>18.413599</td>\n",
              "      <td>344.187453</td>\n",
              "      <td>15.955297</td>\n",
              "      <td>6.576634</td>\n",
              "      <td>2017.584523</td>\n",
              "      <td>-29.872652</td>\n",
              "    </tr>\n",
              "    <tr>\n",
              "      <th>std</th>\n",
              "      <td>238.113807</td>\n",
              "      <td>11.365567</td>\n",
              "      <td>201.315075</td>\n",
              "      <td>9.006359</td>\n",
              "      <td>3.487556</td>\n",
              "      <td>1.102163</td>\n",
              "      <td>24.909787</td>\n",
              "    </tr>\n",
              "    <tr>\n",
              "      <th>min</th>\n",
              "      <td>2.000000</td>\n",
              "      <td>0.000000</td>\n",
              "      <td>0.000000</td>\n",
              "      <td>1.000000</td>\n",
              "      <td>1.000000</td>\n",
              "      <td>2016.000000</td>\n",
              "      <td>-182.000000</td>\n",
              "    </tr>\n",
              "    <tr>\n",
              "      <th>25%</th>\n",
              "      <td>159.000000</td>\n",
              "      <td>10.000000</td>\n",
              "      <td>201.000000</td>\n",
              "      <td>8.000000</td>\n",
              "      <td>3.000000</td>\n",
              "      <td>2017.000000</td>\n",
              "      <td>-46.000000</td>\n",
              "    </tr>\n",
              "    <tr>\n",
              "      <th>50%</th>\n",
              "      <td>289.000000</td>\n",
              "      <td>16.000000</td>\n",
              "      <td>334.500000</td>\n",
              "      <td>16.000000</td>\n",
              "      <td>7.000000</td>\n",
              "      <td>2018.000000</td>\n",
              "      <td>-29.000000</td>\n",
              "    </tr>\n",
              "    <tr>\n",
              "      <th>75%</th>\n",
              "      <td>455.000000</td>\n",
              "      <td>24.000000</td>\n",
              "      <td>458.000000</td>\n",
              "      <td>24.000000</td>\n",
              "      <td>10.000000</td>\n",
              "      <td>2019.000000</td>\n",
              "      <td>-12.000000</td>\n",
              "    </tr>\n",
              "    <tr>\n",
              "      <th>max</th>\n",
              "      <td>1237.000000</td>\n",
              "      <td>59.000000</td>\n",
              "      <td>1614.000000</td>\n",
              "      <td>31.000000</td>\n",
              "      <td>12.000000</td>\n",
              "      <td>2019.000000</td>\n",
              "      <td>31.000000</td>\n",
              "    </tr>\n",
              "  </tbody>\n",
              "</table>\n",
              "</div>"
            ],
            "text/plain": [
              "       $_Spent_per_day  ...  $_Surcharge_Levied\n",
              "count      2662.000000  ...         2662.000000\n",
              "mean        338.233283  ...          -29.872652\n",
              "std         238.113807  ...           24.909787\n",
              "min           2.000000  ...         -182.000000\n",
              "25%         159.000000  ...          -46.000000\n",
              "50%         289.000000  ...          -29.000000\n",
              "75%         455.000000  ...          -12.000000\n",
              "max        1237.000000  ...           31.000000\n",
              "\n",
              "[8 rows x 7 columns]"
            ]
          },
          "metadata": {
            "tags": []
          },
          "execution_count": 5
        }
      ]
    },
    {
      "cell_type": "code",
      "metadata": {
        "id": "HJ34HtUSJvrB",
        "colab_type": "code",
        "colab": {}
      },
      "source": [
        "list(df['$_Surcharge_Levied'])"
      ],
      "execution_count": 0,
      "outputs": []
    },
    {
      "cell_type": "code",
      "metadata": {
        "id": "p9qqCTA9cWcj",
        "colab_type": "code",
        "outputId": "fa20530e-8d4d-4db3-a9b7-ec7930cc48ad",
        "colab": {
          "base_uri": "https://localhost:8080/",
          "height": 170
        }
      },
      "source": [
        "df.isnull().sum()"
      ],
      "execution_count": 6,
      "outputs": [
        {
          "output_type": "execute_result",
          "data": {
            "text/plain": [
              "Customer_Type                0\n",
              "$_Spent_per_day              0\n",
              "#_of_transactions_per_day    0\n",
              "$_credited_per_day           0\n",
              "Day                          0\n",
              "Month                        0\n",
              "Year                         0\n",
              "$_Surcharge_Levied           0\n",
              "dtype: int64"
            ]
          },
          "metadata": {
            "tags": []
          },
          "execution_count": 6
        }
      ]
    },
    {
      "cell_type": "code",
      "metadata": {
        "id": "U-1wrpTgcWXw",
        "colab_type": "code",
        "outputId": "d8105b3f-10da-45ef-9adf-07df528b9ae3",
        "colab": {
          "base_uri": "https://localhost:8080/",
          "height": 34
        }
      },
      "source": [
        "df['Customer_Type'].unique()"
      ],
      "execution_count": 7,
      "outputs": [
        {
          "output_type": "execute_result",
          "data": {
            "text/plain": [
              "array(['Coral', 'Diamond', 'Family', 'Ruby', 'Sapphire'], dtype=object)"
            ]
          },
          "metadata": {
            "tags": []
          },
          "execution_count": 7
        }
      ]
    },
    {
      "cell_type": "code",
      "metadata": {
        "id": "Sw6oQTVQcWWj",
        "colab_type": "code",
        "outputId": "cf5e3fba-0e3f-4c09-95b6-0906a980a63b",
        "colab": {
          "base_uri": "https://localhost:8080/",
          "height": 204
        }
      },
      "source": [
        "pd.get_dummies(df['Customer_Type']).head()"
      ],
      "execution_count": 8,
      "outputs": [
        {
          "output_type": "execute_result",
          "data": {
            "text/html": [
              "<div>\n",
              "<style scoped>\n",
              "    .dataframe tbody tr th:only-of-type {\n",
              "        vertical-align: middle;\n",
              "    }\n",
              "\n",
              "    .dataframe tbody tr th {\n",
              "        vertical-align: top;\n",
              "    }\n",
              "\n",
              "    .dataframe thead th {\n",
              "        text-align: right;\n",
              "    }\n",
              "</style>\n",
              "<table border=\"1\" class=\"dataframe\">\n",
              "  <thead>\n",
              "    <tr style=\"text-align: right;\">\n",
              "      <th></th>\n",
              "      <th>Coral</th>\n",
              "      <th>Diamond</th>\n",
              "      <th>Family</th>\n",
              "      <th>Ruby</th>\n",
              "      <th>Sapphire</th>\n",
              "    </tr>\n",
              "  </thead>\n",
              "  <tbody>\n",
              "    <tr>\n",
              "      <th>0</th>\n",
              "      <td>1</td>\n",
              "      <td>0</td>\n",
              "      <td>0</td>\n",
              "      <td>0</td>\n",
              "      <td>0</td>\n",
              "    </tr>\n",
              "    <tr>\n",
              "      <th>1</th>\n",
              "      <td>1</td>\n",
              "      <td>0</td>\n",
              "      <td>0</td>\n",
              "      <td>0</td>\n",
              "      <td>0</td>\n",
              "    </tr>\n",
              "    <tr>\n",
              "      <th>2</th>\n",
              "      <td>1</td>\n",
              "      <td>0</td>\n",
              "      <td>0</td>\n",
              "      <td>0</td>\n",
              "      <td>0</td>\n",
              "    </tr>\n",
              "    <tr>\n",
              "      <th>3</th>\n",
              "      <td>1</td>\n",
              "      <td>0</td>\n",
              "      <td>0</td>\n",
              "      <td>0</td>\n",
              "      <td>0</td>\n",
              "    </tr>\n",
              "    <tr>\n",
              "      <th>4</th>\n",
              "      <td>1</td>\n",
              "      <td>0</td>\n",
              "      <td>0</td>\n",
              "      <td>0</td>\n",
              "      <td>0</td>\n",
              "    </tr>\n",
              "  </tbody>\n",
              "</table>\n",
              "</div>"
            ],
            "text/plain": [
              "   Coral  Diamond  Family  Ruby  Sapphire\n",
              "0      1        0       0     0         0\n",
              "1      1        0       0     0         0\n",
              "2      1        0       0     0         0\n",
              "3      1        0       0     0         0\n",
              "4      1        0       0     0         0"
            ]
          },
          "metadata": {
            "tags": []
          },
          "execution_count": 8
        }
      ]
    },
    {
      "cell_type": "code",
      "metadata": {
        "id": "T0LizAdjcWVP",
        "colab_type": "code",
        "outputId": "3bbddf28-9e45-431c-bbf8-4348624cd44b",
        "colab": {
          "base_uri": "https://localhost:8080/",
          "height": 224
        }
      },
      "source": [
        "df = pd.get_dummies(df, columns=['Customer_Type'])\n",
        "df.head()"
      ],
      "execution_count": 9,
      "outputs": [
        {
          "output_type": "execute_result",
          "data": {
            "text/html": [
              "<div>\n",
              "<style scoped>\n",
              "    .dataframe tbody tr th:only-of-type {\n",
              "        vertical-align: middle;\n",
              "    }\n",
              "\n",
              "    .dataframe tbody tr th {\n",
              "        vertical-align: top;\n",
              "    }\n",
              "\n",
              "    .dataframe thead th {\n",
              "        text-align: right;\n",
              "    }\n",
              "</style>\n",
              "<table border=\"1\" class=\"dataframe\">\n",
              "  <thead>\n",
              "    <tr style=\"text-align: right;\">\n",
              "      <th></th>\n",
              "      <th>$_Spent_per_day</th>\n",
              "      <th>#_of_transactions_per_day</th>\n",
              "      <th>$_credited_per_day</th>\n",
              "      <th>Day</th>\n",
              "      <th>Month</th>\n",
              "      <th>Year</th>\n",
              "      <th>$_Surcharge_Levied</th>\n",
              "      <th>Customer_Type_Coral</th>\n",
              "      <th>Customer_Type_Diamond</th>\n",
              "      <th>Customer_Type_Family</th>\n",
              "      <th>Customer_Type_Ruby</th>\n",
              "      <th>Customer_Type_Sapphire</th>\n",
              "    </tr>\n",
              "  </thead>\n",
              "  <tbody>\n",
              "    <tr>\n",
              "      <th>0</th>\n",
              "      <td>59</td>\n",
              "      <td>9</td>\n",
              "      <td>291</td>\n",
              "      <td>29</td>\n",
              "      <td>8</td>\n",
              "      <td>2019</td>\n",
              "      <td>-35</td>\n",
              "      <td>1</td>\n",
              "      <td>0</td>\n",
              "      <td>0</td>\n",
              "      <td>0</td>\n",
              "      <td>0</td>\n",
              "    </tr>\n",
              "    <tr>\n",
              "      <th>1</th>\n",
              "      <td>37</td>\n",
              "      <td>11</td>\n",
              "      <td>197</td>\n",
              "      <td>13</td>\n",
              "      <td>2</td>\n",
              "      <td>2017</td>\n",
              "      <td>-22</td>\n",
              "      <td>1</td>\n",
              "      <td>0</td>\n",
              "      <td>0</td>\n",
              "      <td>0</td>\n",
              "      <td>0</td>\n",
              "    </tr>\n",
              "    <tr>\n",
              "      <th>2</th>\n",
              "      <td>158</td>\n",
              "      <td>9</td>\n",
              "      <td>144</td>\n",
              "      <td>24</td>\n",
              "      <td>1</td>\n",
              "      <td>2019</td>\n",
              "      <td>-10</td>\n",
              "      <td>1</td>\n",
              "      <td>0</td>\n",
              "      <td>0</td>\n",
              "      <td>0</td>\n",
              "      <td>0</td>\n",
              "    </tr>\n",
              "    <tr>\n",
              "      <th>3</th>\n",
              "      <td>50</td>\n",
              "      <td>3</td>\n",
              "      <td>432</td>\n",
              "      <td>31</td>\n",
              "      <td>8</td>\n",
              "      <td>2017</td>\n",
              "      <td>-62</td>\n",
              "      <td>1</td>\n",
              "      <td>0</td>\n",
              "      <td>0</td>\n",
              "      <td>0</td>\n",
              "      <td>0</td>\n",
              "    </tr>\n",
              "    <tr>\n",
              "      <th>4</th>\n",
              "      <td>50</td>\n",
              "      <td>9</td>\n",
              "      <td>169</td>\n",
              "      <td>24</td>\n",
              "      <td>8</td>\n",
              "      <td>2019</td>\n",
              "      <td>-22</td>\n",
              "      <td>1</td>\n",
              "      <td>0</td>\n",
              "      <td>0</td>\n",
              "      <td>0</td>\n",
              "      <td>0</td>\n",
              "    </tr>\n",
              "  </tbody>\n",
              "</table>\n",
              "</div>"
            ],
            "text/plain": [
              "   $_Spent_per_day  ...  Customer_Type_Sapphire\n",
              "0               59  ...                       0\n",
              "1               37  ...                       0\n",
              "2              158  ...                       0\n",
              "3               50  ...                       0\n",
              "4               50  ...                       0\n",
              "\n",
              "[5 rows x 12 columns]"
            ]
          },
          "metadata": {
            "tags": []
          },
          "execution_count": 9
        }
      ]
    },
    {
      "cell_type": "code",
      "metadata": {
        "id": "DQX7tfiCcWT3",
        "colab_type": "code",
        "outputId": "8f40f06b-662b-46ca-930d-190a24adb1ff",
        "colab": {
          "base_uri": "https://localhost:8080/",
          "height": 51
        }
      },
      "source": [
        "print(df.shape)\n",
        "print(df.ndim)  "
      ],
      "execution_count": 10,
      "outputs": [
        {
          "output_type": "stream",
          "text": [
            "(2662, 12)\n",
            "2\n"
          ],
          "name": "stdout"
        }
      ]
    },
    {
      "cell_type": "code",
      "metadata": {
        "id": "Q0dJvpHduXVZ",
        "colab_type": "code",
        "outputId": "76299248-42b0-4a82-91f3-c8a10e88223c",
        "colab": {
          "base_uri": "https://localhost:8080/",
          "height": 306
        }
      },
      "source": [
        "df.info()"
      ],
      "execution_count": 11,
      "outputs": [
        {
          "output_type": "stream",
          "text": [
            "<class 'pandas.core.frame.DataFrame'>\n",
            "RangeIndex: 2662 entries, 0 to 2661\n",
            "Data columns (total 12 columns):\n",
            "$_Spent_per_day              2662 non-null int64\n",
            "#_of_transactions_per_day    2662 non-null int64\n",
            "$_credited_per_day           2662 non-null int64\n",
            "Day                          2662 non-null int64\n",
            "Month                        2662 non-null int64\n",
            "Year                         2662 non-null int64\n",
            "$_Surcharge_Levied           2662 non-null int64\n",
            "Customer_Type_Coral          2662 non-null uint8\n",
            "Customer_Type_Diamond        2662 non-null uint8\n",
            "Customer_Type_Family         2662 non-null uint8\n",
            "Customer_Type_Ruby           2662 non-null uint8\n",
            "Customer_Type_Sapphire       2662 non-null uint8\n",
            "dtypes: int64(7), uint8(5)\n",
            "memory usage: 158.7 KB\n"
          ],
          "name": "stdout"
        }
      ]
    },
    {
      "cell_type": "code",
      "metadata": {
        "id": "C0Niyu4tcWSO",
        "colab_type": "code",
        "outputId": "2d8d89ab-fb60-48e9-e37f-521080c26d41",
        "colab": {
          "base_uri": "https://localhost:8080/",
          "height": 241
        }
      },
      "source": [
        "X  = df.drop('$_Surcharge_Levied', axis=1)\n",
        "print(X.shape)\n",
        "X.head()"
      ],
      "execution_count": 12,
      "outputs": [
        {
          "output_type": "stream",
          "text": [
            "(2662, 11)\n"
          ],
          "name": "stdout"
        },
        {
          "output_type": "execute_result",
          "data": {
            "text/html": [
              "<div>\n",
              "<style scoped>\n",
              "    .dataframe tbody tr th:only-of-type {\n",
              "        vertical-align: middle;\n",
              "    }\n",
              "\n",
              "    .dataframe tbody tr th {\n",
              "        vertical-align: top;\n",
              "    }\n",
              "\n",
              "    .dataframe thead th {\n",
              "        text-align: right;\n",
              "    }\n",
              "</style>\n",
              "<table border=\"1\" class=\"dataframe\">\n",
              "  <thead>\n",
              "    <tr style=\"text-align: right;\">\n",
              "      <th></th>\n",
              "      <th>$_Spent_per_day</th>\n",
              "      <th>#_of_transactions_per_day</th>\n",
              "      <th>$_credited_per_day</th>\n",
              "      <th>Day</th>\n",
              "      <th>Month</th>\n",
              "      <th>Year</th>\n",
              "      <th>Customer_Type_Coral</th>\n",
              "      <th>Customer_Type_Diamond</th>\n",
              "      <th>Customer_Type_Family</th>\n",
              "      <th>Customer_Type_Ruby</th>\n",
              "      <th>Customer_Type_Sapphire</th>\n",
              "    </tr>\n",
              "  </thead>\n",
              "  <tbody>\n",
              "    <tr>\n",
              "      <th>0</th>\n",
              "      <td>59</td>\n",
              "      <td>9</td>\n",
              "      <td>291</td>\n",
              "      <td>29</td>\n",
              "      <td>8</td>\n",
              "      <td>2019</td>\n",
              "      <td>1</td>\n",
              "      <td>0</td>\n",
              "      <td>0</td>\n",
              "      <td>0</td>\n",
              "      <td>0</td>\n",
              "    </tr>\n",
              "    <tr>\n",
              "      <th>1</th>\n",
              "      <td>37</td>\n",
              "      <td>11</td>\n",
              "      <td>197</td>\n",
              "      <td>13</td>\n",
              "      <td>2</td>\n",
              "      <td>2017</td>\n",
              "      <td>1</td>\n",
              "      <td>0</td>\n",
              "      <td>0</td>\n",
              "      <td>0</td>\n",
              "      <td>0</td>\n",
              "    </tr>\n",
              "    <tr>\n",
              "      <th>2</th>\n",
              "      <td>158</td>\n",
              "      <td>9</td>\n",
              "      <td>144</td>\n",
              "      <td>24</td>\n",
              "      <td>1</td>\n",
              "      <td>2019</td>\n",
              "      <td>1</td>\n",
              "      <td>0</td>\n",
              "      <td>0</td>\n",
              "      <td>0</td>\n",
              "      <td>0</td>\n",
              "    </tr>\n",
              "    <tr>\n",
              "      <th>3</th>\n",
              "      <td>50</td>\n",
              "      <td>3</td>\n",
              "      <td>432</td>\n",
              "      <td>31</td>\n",
              "      <td>8</td>\n",
              "      <td>2017</td>\n",
              "      <td>1</td>\n",
              "      <td>0</td>\n",
              "      <td>0</td>\n",
              "      <td>0</td>\n",
              "      <td>0</td>\n",
              "    </tr>\n",
              "    <tr>\n",
              "      <th>4</th>\n",
              "      <td>50</td>\n",
              "      <td>9</td>\n",
              "      <td>169</td>\n",
              "      <td>24</td>\n",
              "      <td>8</td>\n",
              "      <td>2019</td>\n",
              "      <td>1</td>\n",
              "      <td>0</td>\n",
              "      <td>0</td>\n",
              "      <td>0</td>\n",
              "      <td>0</td>\n",
              "    </tr>\n",
              "  </tbody>\n",
              "</table>\n",
              "</div>"
            ],
            "text/plain": [
              "   $_Spent_per_day  ...  Customer_Type_Sapphire\n",
              "0               59  ...                       0\n",
              "1               37  ...                       0\n",
              "2              158  ...                       0\n",
              "3               50  ...                       0\n",
              "4               50  ...                       0\n",
              "\n",
              "[5 rows x 11 columns]"
            ]
          },
          "metadata": {
            "tags": []
          },
          "execution_count": 12
        }
      ]
    },
    {
      "cell_type": "code",
      "metadata": {
        "id": "Q0NK8_lOtenA",
        "colab_type": "code",
        "colab": {}
      },
      "source": [
        ""
      ],
      "execution_count": 0,
      "outputs": []
    },
    {
      "cell_type": "code",
      "metadata": {
        "id": "AyDisIektIMi",
        "colab_type": "code",
        "outputId": "90c9f5ac-eada-4a15-ccbc-cf9710b9fc53",
        "colab": {
          "base_uri": "https://localhost:8080/",
          "height": 136
        }
      },
      "source": [
        "Y = df['$_Surcharge_Levied']\n",
        "print(Y.shape)\n",
        "Y.head()"
      ],
      "execution_count": 13,
      "outputs": [
        {
          "output_type": "stream",
          "text": [
            "(2662,)\n"
          ],
          "name": "stdout"
        },
        {
          "output_type": "execute_result",
          "data": {
            "text/plain": [
              "0   -35\n",
              "1   -22\n",
              "2   -10\n",
              "3   -62\n",
              "4   -22\n",
              "Name: $_Surcharge_Levied, dtype: int64"
            ]
          },
          "metadata": {
            "tags": []
          },
          "execution_count": 13
        }
      ]
    },
    {
      "cell_type": "code",
      "metadata": {
        "id": "XJCU8_c1wDPQ",
        "colab_type": "code",
        "colab": {}
      },
      "source": [
        "from sklearn.model_selection import train_test_split\n",
        "X_train, X_test, y_train, y_test = train_test_split(X, Y, test_size=0.33, random_state=42)"
      ],
      "execution_count": 0,
      "outputs": []
    },
    {
      "cell_type": "code",
      "metadata": {
        "id": "IbKR3VH2AZVz",
        "colab_type": "code",
        "colab": {
          "base_uri": "https://localhost:8080/",
          "height": 136
        },
        "outputId": "0f37831b-7750-40ac-d2ae-3e9b2479bd2d"
      },
      "source": [
        "\n",
        "from sklearn import preprocessing\n",
        "y_train_norm = preprocessing.normalize(np.array(y_train).reshape(-1, 1))\n",
        "y_train_norm[:10]"
      ],
      "execution_count": 56,
      "outputs": [
        {
          "output_type": "execute_result",
          "data": {
            "text/plain": [
              "array([[-1.],\n",
              "       [ 1.],\n",
              "       [-1.],\n",
              "       ...,\n",
              "       [-1.],\n",
              "       [-1.],\n",
              "       [-1.]])"
            ]
          },
          "metadata": {
            "tags": []
          },
          "execution_count": 56
        }
      ]
    },
    {
      "cell_type": "code",
      "metadata": {
        "id": "oki5lShn_EeI",
        "colab_type": "code",
        "colab": {
          "base_uri": "https://localhost:8080/",
          "height": 187
        },
        "outputId": "cc0fcc44-7cc1-4b80-8caf-389c6b359328"
      },
      "source": [
        "\n",
        "from sklearn import preprocessing\n",
        "y_norm = preprocessing.normalize(np.array(y_test).reshape(-1, 1))\n",
        "y_norm[:10]"
      ],
      "execution_count": 52,
      "outputs": [
        {
          "output_type": "execute_result",
          "data": {
            "text/plain": [
              "array([[-1.],\n",
              "       [-1.],\n",
              "       [-1.],\n",
              "       [-1.],\n",
              "       [-1.],\n",
              "       [-1.],\n",
              "       [-1.],\n",
              "       [-1.],\n",
              "       [-1.],\n",
              "       [-1.]])"
            ]
          },
          "metadata": {
            "tags": []
          },
          "execution_count": 52
        }
      ]
    },
    {
      "cell_type": "code",
      "metadata": {
        "id": "o2pENJpQcWKe",
        "colab_type": "code",
        "colab": {}
      },
      "source": [
        "import os\n",
        "import pandas as pd\n",
        "from pandas import DataFrame,Series\n",
        "from sklearn import tree\n",
        "import matplotlib\n",
        "import numpy as np\n",
        "import matplotlib.pyplot as plt\n",
        "from sklearn import svm\n",
        "from sklearn.preprocessing import StandardScaler\n",
        "import statsmodels.formula.api as smf\n",
        "import statsmodels.api as sm\n",
        "from mpl_toolkits.mplot3d import Axes3D\n",
        "import seaborn as sns\n",
        "from sklearn import neighbors\n",
        "from sklearn import linear_model\n",
        "%matplotlib inline"
      ],
      "execution_count": 0,
      "outputs": []
    },
    {
      "cell_type": "code",
      "metadata": {
        "id": "56TtNNbWvApg",
        "colab_type": "code",
        "outputId": "68be7a84-b2a0-4d80-8cd4-0147fa936348",
        "colab": {
          "base_uri": "https://localhost:8080/",
          "height": 102
        }
      },
      "source": [
        "dec = tree.DecisionTreeRegressor(max_depth=1)\n",
        "dec.fit(X_train, y_train)\n"
      ],
      "execution_count": 90,
      "outputs": [
        {
          "output_type": "execute_result",
          "data": {
            "text/plain": [
              "DecisionTreeRegressor(criterion='mse', max_depth=1, max_features=None,\n",
              "                      max_leaf_nodes=None, min_impurity_decrease=0.0,\n",
              "                      min_impurity_split=None, min_samples_leaf=1,\n",
              "                      min_samples_split=2, min_weight_fraction_leaf=0.0,\n",
              "                      presort=False, random_state=None, splitter='best')"
            ]
          },
          "metadata": {
            "tags": []
          },
          "execution_count": 90
        }
      ]
    },
    {
      "cell_type": "markdown",
      "metadata": {
        "id": "S8lBCLsu3nDw",
        "colab_type": "text"
      },
      "source": [
        "**although the smaller the RMSE, the better result/accuracy**\n",
        "\n",
        "\n"
      ]
    },
    {
      "cell_type": "code",
      "metadata": {
        "id": "N66oAOHVxb9n",
        "colab_type": "code",
        "outputId": "5fbb21b3-c21b-4e55-d4f1-5ff3e4a69de0",
        "colab": {
          "base_uri": "https://localhost:8080/",
          "height": 51
        }
      },
      "source": [
        "from sklearn import metrics \n",
        "dec_pred = dec.predict(X_test)\n",
        "print(metrics.mean_squared_error(y_test , dec_pred))\n",
        "print(metrics.r2_score(y_test , dec_pred))"
      ],
      "execution_count": 91,
      "outputs": [
        {
          "output_type": "stream",
          "text": [
            "321.8177174538784\n",
            "0.51195413376089\n"
          ],
          "name": "stdout"
        }
      ]
    },
    {
      "cell_type": "code",
      "metadata": {
        "id": "5tDGmDtcvAnR",
        "colab_type": "code",
        "colab": {
          "base_uri": "https://localhost:8080/",
          "height": 34
        },
        "outputId": "682e4161-baf1-4362-c54b-be0a0b3b1ee0"
      },
      "source": [
        "# fit a model\n",
        "lm = linear_model.LinearRegression()\n",
        "li = lm.fit(X_train, y_train)\n",
        "li_pred = li.predict(X_test)\n",
        "print(metrics.mean_squared_error(y_test , li_pred))"
      ],
      "execution_count": 89,
      "outputs": [
        {
          "output_type": "stream",
          "text": [
            "10.123911228117391\n"
          ],
          "name": "stdout"
        }
      ]
    },
    {
      "cell_type": "code",
      "metadata": {
        "id": "rZMRzDAP-vpN",
        "colab_type": "code",
        "colab": {}
      },
      "source": [
        ""
      ],
      "execution_count": 0,
      "outputs": []
    },
    {
      "cell_type": "code",
      "metadata": {
        "id": "biVbPrmCvAi9",
        "colab_type": "code",
        "colab": {
          "base_uri": "https://localhost:8080/",
          "height": 88
        },
        "outputId": "de6edaeb-f2a9-4001-9680-e30b4cdc4e3e"
      },
      "source": [
        "from sklearn.ensemble import RandomForestRegressor\n",
        "reg = RandomForestRegressor()\n",
        "reg.fit(X_train,y_train)\n",
        "ran_pred = reg.predict(X_test)\n",
        "print(metrics.mean_squared_error(y_test , ran_pred))"
      ],
      "execution_count": 84,
      "outputs": [
        {
          "output_type": "stream",
          "text": [
            "16.741615472127418\n"
          ],
          "name": "stdout"
        },
        {
          "output_type": "stream",
          "text": [
            "/usr/local/lib/python3.6/dist-packages/sklearn/ensemble/forest.py:245: FutureWarning: The default value of n_estimators will change from 10 in version 0.20 to 100 in 0.22.\n",
            "  \"10 in version 0.20 to 100 in 0.22.\", FutureWarning)\n"
          ],
          "name": "stderr"
        }
      ]
    },
    {
      "cell_type": "code",
      "metadata": {
        "id": "xFoQn4jWBQvP",
        "colab_type": "code",
        "colab": {}
      },
      "source": [
        ""
      ],
      "execution_count": 0,
      "outputs": []
    },
    {
      "cell_type": "code",
      "metadata": {
        "id": "Id6s2j0GvAes",
        "colab_type": "code",
        "colab": {
          "base_uri": "https://localhost:8080/",
          "height": 85
        },
        "outputId": "ecb81f19-5c9a-465a-a0cf-a21bda59a444"
      },
      "source": [
        "import xgboost as xgb\n",
        "from sklearn.metrics import mean_squared_error\n",
        "xg_reg = xgb.XGBRegressor(objective ='reg:linear', colsample_bytree = 0.3, learning_rate = 0.1, max_depth = 5, alpha = 10, n_estimators = 10)\n",
        "xg_reg.fit(X_train,y_train)\n",
        "xgb_preds = xg_reg.predict(X_test)\n",
        "print(metrics.mean_squared_error(y_test , xgb_preds))"
      ],
      "execution_count": 88,
      "outputs": [
        {
          "output_type": "stream",
          "text": [
            "[14:22:16] WARNING: /workspace/src/objective/regression_obj.cu:152: reg:linear is now deprecated in favor of reg:squarederror.\n",
            "569.8759932584971\n"
          ],
          "name": "stdout"
        },
        {
          "output_type": "stream",
          "text": [
            "/usr/local/lib/python3.6/dist-packages/xgboost/core.py:587: FutureWarning: Series.base is deprecated and will be removed in a future version\n",
            "  if getattr(data, 'base', None) is not None and \\\n"
          ],
          "name": "stderr"
        }
      ]
    },
    {
      "cell_type": "code",
      "metadata": {
        "id": "BjUZkiy6vAcc",
        "colab_type": "code",
        "colab": {
          "base_uri": "https://localhost:8080/",
          "height": 85
        },
        "outputId": "d6ac86ae-1ea3-4b25-bc15-3ade30fe0c48"
      },
      "source": [
        "from xlrd import open_workbook\n",
        "import csv\n",
        "wb = open_workbook('Prediction_data.xlsx')\n",
        "for i in range(wb.nsheets):\n",
        "    sheet = wb.sheet_by_index(i)\n",
        "    print(sheet.name)\n",
        "    with open(\"%s.csv\" %(sheet.name.replace(\" \",\"\")), \"w\") as file:\n",
        "        writer = csv.writer(file, delimiter = \",\")\n",
        "        print(sheet, sheet.name, sheet.ncols, sheet.nrows)\n",
        "        header = [cell.value for cell in sheet.row(0)]\n",
        "        writer.writerow(header)\n",
        "        for row_idx in range(1, sheet.nrows):\n",
        "            row = [int(cell.value) if isinstance(cell.value, float) else cell.value\n",
        "                   for cell in sheet.row(row_idx)]\n",
        "            writer.writerow(row)"
      ],
      "execution_count": 32,
      "outputs": [
        {
          "output_type": "stream",
          "text": [
            "Prediction_Data\n",
            "<xlrd.sheet.Sheet object at 0x7f5398a84da0> Prediction_Data 8 271\n",
            "Credit_card_fraud (2)\n",
            "<xlrd.sheet.Sheet object at 0x7f5398a84dd8> Credit_card_fraud (2) 18 2663\n"
          ],
          "name": "stdout"
        }
      ]
    },
    {
      "cell_type": "code",
      "metadata": {
        "id": "a3BQGn6SvAZu",
        "colab_type": "code",
        "colab": {
          "base_uri": "https://localhost:8080/",
          "height": 376
        },
        "outputId": "2d1ba655-62b9-4e05-a1ac-3c2f42d85794"
      },
      "source": [
        "test_df = pd.read_csv('Prediction_Data.csv')\n",
        "print(test_df.shape)\n",
        "test_df.head(10)"
      ],
      "execution_count": 80,
      "outputs": [
        {
          "output_type": "stream",
          "text": [
            "(270, 8)\n"
          ],
          "name": "stdout"
        },
        {
          "output_type": "execute_result",
          "data": {
            "text/html": [
              "<div>\n",
              "<style scoped>\n",
              "    .dataframe tbody tr th:only-of-type {\n",
              "        vertical-align: middle;\n",
              "    }\n",
              "\n",
              "    .dataframe tbody tr th {\n",
              "        vertical-align: top;\n",
              "    }\n",
              "\n",
              "    .dataframe thead th {\n",
              "        text-align: right;\n",
              "    }\n",
              "</style>\n",
              "<table border=\"1\" class=\"dataframe\">\n",
              "  <thead>\n",
              "    <tr style=\"text-align: right;\">\n",
              "      <th></th>\n",
              "      <th>Customer_Type</th>\n",
              "      <th>$_Spent_per_day</th>\n",
              "      <th>#_of_transactions_per_day</th>\n",
              "      <th>$_credited_per_day</th>\n",
              "      <th>Day</th>\n",
              "      <th>Month</th>\n",
              "      <th>Year</th>\n",
              "      <th>$_Surcharge_Levied</th>\n",
              "    </tr>\n",
              "  </thead>\n",
              "  <tbody>\n",
              "    <tr>\n",
              "      <th>0</th>\n",
              "      <td>Coral</td>\n",
              "      <td>75</td>\n",
              "      <td>5</td>\n",
              "      <td>66</td>\n",
              "      <td>4</td>\n",
              "      <td>8</td>\n",
              "      <td>2019</td>\n",
              "      <td>NaN</td>\n",
              "    </tr>\n",
              "    <tr>\n",
              "      <th>1</th>\n",
              "      <td>Coral</td>\n",
              "      <td>38</td>\n",
              "      <td>6</td>\n",
              "      <td>22</td>\n",
              "      <td>30</td>\n",
              "      <td>9</td>\n",
              "      <td>2019</td>\n",
              "      <td>NaN</td>\n",
              "    </tr>\n",
              "    <tr>\n",
              "      <th>2</th>\n",
              "      <td>Coral</td>\n",
              "      <td>139</td>\n",
              "      <td>4</td>\n",
              "      <td>39</td>\n",
              "      <td>26</td>\n",
              "      <td>7</td>\n",
              "      <td>2019</td>\n",
              "      <td>NaN</td>\n",
              "    </tr>\n",
              "    <tr>\n",
              "      <th>3</th>\n",
              "      <td>Coral</td>\n",
              "      <td>46</td>\n",
              "      <td>1</td>\n",
              "      <td>56</td>\n",
              "      <td>24</td>\n",
              "      <td>7</td>\n",
              "      <td>2019</td>\n",
              "      <td>NaN</td>\n",
              "    </tr>\n",
              "    <tr>\n",
              "      <th>4</th>\n",
              "      <td>Coral</td>\n",
              "      <td>43</td>\n",
              "      <td>5</td>\n",
              "      <td>24</td>\n",
              "      <td>10</td>\n",
              "      <td>9</td>\n",
              "      <td>2019</td>\n",
              "      <td>NaN</td>\n",
              "    </tr>\n",
              "    <tr>\n",
              "      <th>5</th>\n",
              "      <td>Coral</td>\n",
              "      <td>113</td>\n",
              "      <td>7</td>\n",
              "      <td>92</td>\n",
              "      <td>29</td>\n",
              "      <td>6</td>\n",
              "      <td>2019</td>\n",
              "      <td>NaN</td>\n",
              "    </tr>\n",
              "    <tr>\n",
              "      <th>6</th>\n",
              "      <td>Coral</td>\n",
              "      <td>123</td>\n",
              "      <td>3</td>\n",
              "      <td>45</td>\n",
              "      <td>31</td>\n",
              "      <td>8</td>\n",
              "      <td>2019</td>\n",
              "      <td>NaN</td>\n",
              "    </tr>\n",
              "    <tr>\n",
              "      <th>7</th>\n",
              "      <td>Coral</td>\n",
              "      <td>132</td>\n",
              "      <td>8</td>\n",
              "      <td>23</td>\n",
              "      <td>10</td>\n",
              "      <td>7</td>\n",
              "      <td>2019</td>\n",
              "      <td>NaN</td>\n",
              "    </tr>\n",
              "    <tr>\n",
              "      <th>8</th>\n",
              "      <td>Coral</td>\n",
              "      <td>158</td>\n",
              "      <td>2</td>\n",
              "      <td>48</td>\n",
              "      <td>19</td>\n",
              "      <td>9</td>\n",
              "      <td>2019</td>\n",
              "      <td>NaN</td>\n",
              "    </tr>\n",
              "    <tr>\n",
              "      <th>9</th>\n",
              "      <td>Coral</td>\n",
              "      <td>25</td>\n",
              "      <td>6</td>\n",
              "      <td>3</td>\n",
              "      <td>30</td>\n",
              "      <td>7</td>\n",
              "      <td>2019</td>\n",
              "      <td>NaN</td>\n",
              "    </tr>\n",
              "  </tbody>\n",
              "</table>\n",
              "</div>"
            ],
            "text/plain": [
              "  Customer_Type  $_Spent_per_day  ...  Year  $_Surcharge_Levied\n",
              "0         Coral               75  ...  2019                 NaN\n",
              "1         Coral               38  ...  2019                 NaN\n",
              "2         Coral              139  ...  2019                 NaN\n",
              "3         Coral               46  ...  2019                 NaN\n",
              "4         Coral               43  ...  2019                 NaN\n",
              "5         Coral              113  ...  2019                 NaN\n",
              "6         Coral              123  ...  2019                 NaN\n",
              "7         Coral              132  ...  2019                 NaN\n",
              "8         Coral              158  ...  2019                 NaN\n",
              "9         Coral               25  ...  2019                 NaN\n",
              "\n",
              "[10 rows x 8 columns]"
            ]
          },
          "metadata": {
            "tags": []
          },
          "execution_count": 80
        }
      ]
    },
    {
      "cell_type": "code",
      "metadata": {
        "id": "b0Ni_B00vAWm",
        "colab_type": "code",
        "colab": {
          "base_uri": "https://localhost:8080/",
          "height": 238
        },
        "outputId": "108bd3eb-cf5b-4f78-d25d-7c17355c2d71"
      },
      "source": [
        "test_df.info()"
      ],
      "execution_count": 35,
      "outputs": [
        {
          "output_type": "stream",
          "text": [
            "<class 'pandas.core.frame.DataFrame'>\n",
            "RangeIndex: 270 entries, 0 to 269\n",
            "Data columns (total 8 columns):\n",
            "Customer_Type                270 non-null object\n",
            "$_Spent_per_day              270 non-null int64\n",
            "#_of_transactions_per_day    270 non-null int64\n",
            "$_credited_per_day           270 non-null int64\n",
            "Day                          270 non-null int64\n",
            "Month                        270 non-null int64\n",
            "Year                         270 non-null int64\n",
            "$_Surcharge_Levied           0 non-null float64\n",
            "dtypes: float64(1), int64(6), object(1)\n",
            "memory usage: 17.0+ KB\n"
          ],
          "name": "stdout"
        }
      ]
    },
    {
      "cell_type": "code",
      "metadata": {
        "id": "QF4wuDx_vATu",
        "colab_type": "code",
        "colab": {
          "base_uri": "https://localhost:8080/",
          "height": 224
        },
        "outputId": "351bb8be-70d9-4596-bccd-3c640a0a9330"
      },
      "source": [
        "test_df = pd.get_dummies(test_df, columns=['Customer_Type'])\n",
        "test_df.head()"
      ],
      "execution_count": 36,
      "outputs": [
        {
          "output_type": "execute_result",
          "data": {
            "text/html": [
              "<div>\n",
              "<style scoped>\n",
              "    .dataframe tbody tr th:only-of-type {\n",
              "        vertical-align: middle;\n",
              "    }\n",
              "\n",
              "    .dataframe tbody tr th {\n",
              "        vertical-align: top;\n",
              "    }\n",
              "\n",
              "    .dataframe thead th {\n",
              "        text-align: right;\n",
              "    }\n",
              "</style>\n",
              "<table border=\"1\" class=\"dataframe\">\n",
              "  <thead>\n",
              "    <tr style=\"text-align: right;\">\n",
              "      <th></th>\n",
              "      <th>$_Spent_per_day</th>\n",
              "      <th>#_of_transactions_per_day</th>\n",
              "      <th>$_credited_per_day</th>\n",
              "      <th>Day</th>\n",
              "      <th>Month</th>\n",
              "      <th>Year</th>\n",
              "      <th>$_Surcharge_Levied</th>\n",
              "      <th>Customer_Type_Coral</th>\n",
              "      <th>Customer_Type_Diamond</th>\n",
              "      <th>Customer_Type_Family</th>\n",
              "      <th>Customer_Type_Ruby</th>\n",
              "      <th>Customer_Type_Sapphire</th>\n",
              "    </tr>\n",
              "  </thead>\n",
              "  <tbody>\n",
              "    <tr>\n",
              "      <th>0</th>\n",
              "      <td>75</td>\n",
              "      <td>5</td>\n",
              "      <td>66</td>\n",
              "      <td>4</td>\n",
              "      <td>8</td>\n",
              "      <td>2019</td>\n",
              "      <td>NaN</td>\n",
              "      <td>1</td>\n",
              "      <td>0</td>\n",
              "      <td>0</td>\n",
              "      <td>0</td>\n",
              "      <td>0</td>\n",
              "    </tr>\n",
              "    <tr>\n",
              "      <th>1</th>\n",
              "      <td>38</td>\n",
              "      <td>6</td>\n",
              "      <td>22</td>\n",
              "      <td>30</td>\n",
              "      <td>9</td>\n",
              "      <td>2019</td>\n",
              "      <td>NaN</td>\n",
              "      <td>1</td>\n",
              "      <td>0</td>\n",
              "      <td>0</td>\n",
              "      <td>0</td>\n",
              "      <td>0</td>\n",
              "    </tr>\n",
              "    <tr>\n",
              "      <th>2</th>\n",
              "      <td>139</td>\n",
              "      <td>4</td>\n",
              "      <td>39</td>\n",
              "      <td>26</td>\n",
              "      <td>7</td>\n",
              "      <td>2019</td>\n",
              "      <td>NaN</td>\n",
              "      <td>1</td>\n",
              "      <td>0</td>\n",
              "      <td>0</td>\n",
              "      <td>0</td>\n",
              "      <td>0</td>\n",
              "    </tr>\n",
              "    <tr>\n",
              "      <th>3</th>\n",
              "      <td>46</td>\n",
              "      <td>1</td>\n",
              "      <td>56</td>\n",
              "      <td>24</td>\n",
              "      <td>7</td>\n",
              "      <td>2019</td>\n",
              "      <td>NaN</td>\n",
              "      <td>1</td>\n",
              "      <td>0</td>\n",
              "      <td>0</td>\n",
              "      <td>0</td>\n",
              "      <td>0</td>\n",
              "    </tr>\n",
              "    <tr>\n",
              "      <th>4</th>\n",
              "      <td>43</td>\n",
              "      <td>5</td>\n",
              "      <td>24</td>\n",
              "      <td>10</td>\n",
              "      <td>9</td>\n",
              "      <td>2019</td>\n",
              "      <td>NaN</td>\n",
              "      <td>1</td>\n",
              "      <td>0</td>\n",
              "      <td>0</td>\n",
              "      <td>0</td>\n",
              "      <td>0</td>\n",
              "    </tr>\n",
              "  </tbody>\n",
              "</table>\n",
              "</div>"
            ],
            "text/plain": [
              "   $_Spent_per_day  ...  Customer_Type_Sapphire\n",
              "0               75  ...                       0\n",
              "1               38  ...                       0\n",
              "2              139  ...                       0\n",
              "3               46  ...                       0\n",
              "4               43  ...                       0\n",
              "\n",
              "[5 rows x 12 columns]"
            ]
          },
          "metadata": {
            "tags": []
          },
          "execution_count": 36
        }
      ]
    },
    {
      "cell_type": "code",
      "metadata": {
        "id": "-yaAU77vvAQn",
        "colab_type": "code",
        "colab": {
          "base_uri": "https://localhost:8080/",
          "height": 34
        },
        "outputId": "9a363a8e-b19b-4e3c-8ceb-395ecc95ff48"
      },
      "source": [
        "print(test_df.shape)"
      ],
      "execution_count": 37,
      "outputs": [
        {
          "output_type": "stream",
          "text": [
            "(270, 12)\n"
          ],
          "name": "stdout"
        }
      ]
    },
    {
      "cell_type": "code",
      "metadata": {
        "id": "xLR-06kzvANk",
        "colab_type": "code",
        "colab": {
          "base_uri": "https://localhost:8080/",
          "height": 241
        },
        "outputId": "fe5f702d-4d18-41b9-9719-57d15cceaa45"
      },
      "source": [
        "X_dftest  = test_df.drop('$_Surcharge_Levied', axis=1)\n",
        "print(X_dftest.shape)\n",
        "X_dftest.head()"
      ],
      "execution_count": 38,
      "outputs": [
        {
          "output_type": "stream",
          "text": [
            "(270, 11)\n"
          ],
          "name": "stdout"
        },
        {
          "output_type": "execute_result",
          "data": {
            "text/html": [
              "<div>\n",
              "<style scoped>\n",
              "    .dataframe tbody tr th:only-of-type {\n",
              "        vertical-align: middle;\n",
              "    }\n",
              "\n",
              "    .dataframe tbody tr th {\n",
              "        vertical-align: top;\n",
              "    }\n",
              "\n",
              "    .dataframe thead th {\n",
              "        text-align: right;\n",
              "    }\n",
              "</style>\n",
              "<table border=\"1\" class=\"dataframe\">\n",
              "  <thead>\n",
              "    <tr style=\"text-align: right;\">\n",
              "      <th></th>\n",
              "      <th>$_Spent_per_day</th>\n",
              "      <th>#_of_transactions_per_day</th>\n",
              "      <th>$_credited_per_day</th>\n",
              "      <th>Day</th>\n",
              "      <th>Month</th>\n",
              "      <th>Year</th>\n",
              "      <th>Customer_Type_Coral</th>\n",
              "      <th>Customer_Type_Diamond</th>\n",
              "      <th>Customer_Type_Family</th>\n",
              "      <th>Customer_Type_Ruby</th>\n",
              "      <th>Customer_Type_Sapphire</th>\n",
              "    </tr>\n",
              "  </thead>\n",
              "  <tbody>\n",
              "    <tr>\n",
              "      <th>0</th>\n",
              "      <td>75</td>\n",
              "      <td>5</td>\n",
              "      <td>66</td>\n",
              "      <td>4</td>\n",
              "      <td>8</td>\n",
              "      <td>2019</td>\n",
              "      <td>1</td>\n",
              "      <td>0</td>\n",
              "      <td>0</td>\n",
              "      <td>0</td>\n",
              "      <td>0</td>\n",
              "    </tr>\n",
              "    <tr>\n",
              "      <th>1</th>\n",
              "      <td>38</td>\n",
              "      <td>6</td>\n",
              "      <td>22</td>\n",
              "      <td>30</td>\n",
              "      <td>9</td>\n",
              "      <td>2019</td>\n",
              "      <td>1</td>\n",
              "      <td>0</td>\n",
              "      <td>0</td>\n",
              "      <td>0</td>\n",
              "      <td>0</td>\n",
              "    </tr>\n",
              "    <tr>\n",
              "      <th>2</th>\n",
              "      <td>139</td>\n",
              "      <td>4</td>\n",
              "      <td>39</td>\n",
              "      <td>26</td>\n",
              "      <td>7</td>\n",
              "      <td>2019</td>\n",
              "      <td>1</td>\n",
              "      <td>0</td>\n",
              "      <td>0</td>\n",
              "      <td>0</td>\n",
              "      <td>0</td>\n",
              "    </tr>\n",
              "    <tr>\n",
              "      <th>3</th>\n",
              "      <td>46</td>\n",
              "      <td>1</td>\n",
              "      <td>56</td>\n",
              "      <td>24</td>\n",
              "      <td>7</td>\n",
              "      <td>2019</td>\n",
              "      <td>1</td>\n",
              "      <td>0</td>\n",
              "      <td>0</td>\n",
              "      <td>0</td>\n",
              "      <td>0</td>\n",
              "    </tr>\n",
              "    <tr>\n",
              "      <th>4</th>\n",
              "      <td>43</td>\n",
              "      <td>5</td>\n",
              "      <td>24</td>\n",
              "      <td>10</td>\n",
              "      <td>9</td>\n",
              "      <td>2019</td>\n",
              "      <td>1</td>\n",
              "      <td>0</td>\n",
              "      <td>0</td>\n",
              "      <td>0</td>\n",
              "      <td>0</td>\n",
              "    </tr>\n",
              "  </tbody>\n",
              "</table>\n",
              "</div>"
            ],
            "text/plain": [
              "   $_Spent_per_day  ...  Customer_Type_Sapphire\n",
              "0               75  ...                       0\n",
              "1               38  ...                       0\n",
              "2              139  ...                       0\n",
              "3               46  ...                       0\n",
              "4               43  ...                       0\n",
              "\n",
              "[5 rows x 11 columns]"
            ]
          },
          "metadata": {
            "tags": []
          },
          "execution_count": 38
        }
      ]
    },
    {
      "cell_type": "code",
      "metadata": {
        "id": "1V2ir-vGB1mF",
        "colab_type": "code",
        "colab": {
          "base_uri": "https://localhost:8080/",
          "height": 187
        },
        "outputId": "cd57f10e-8d08-4d09-92bf-ba447e0d3b4b"
      },
      "source": [
        "\n",
        "from sklearn import preprocessing\n",
        "y_out = preprocessing.normalize(np.array(Y).reshape(-1, 1))\n",
        "y_out[:10]"
      ],
      "execution_count": 66,
      "outputs": [
        {
          "output_type": "execute_result",
          "data": {
            "text/plain": [
              "array([[-1.],\n",
              "       [-1.],\n",
              "       [-1.],\n",
              "       [-1.],\n",
              "       [-1.],\n",
              "       [-1.],\n",
              "       [-1.],\n",
              "       [-1.],\n",
              "       [-1.],\n",
              "       [-1.]])"
            ]
          },
          "metadata": {
            "tags": []
          },
          "execution_count": 66
        }
      ]
    },
    {
      "cell_type": "markdown",
      "metadata": {
        "id": "LRfXMeS9CS4T",
        "colab_type": "text"
      },
      "source": [
        "**E+01 means moving the decimal point one digit to the right, E+00 means leaving the decimal point where it is, and E–01 means moving the decimal point one digit to the left.**"
      ]
    },
    {
      "cell_type": "code",
      "metadata": {
        "id": "kwr-P5-57kV9",
        "colab_type": "code",
        "colab": {}
      },
      "source": [
        "print(Output.shape)\n",
        "Output"
      ],
      "execution_count": 0,
      "outputs": []
    },
    {
      "cell_type": "code",
      "metadata": {
        "id": "we3H87bW7kaS",
        "colab_type": "code",
        "colab": {}
      },
      "source": [
        "leived_val = list(output)"
      ],
      "execution_count": 0,
      "outputs": []
    },
    {
      "cell_type": "code",
      "metadata": {
        "id": "AE0j0PUyFcuU",
        "colab_type": "code",
        "colab": {}
      },
      "source": [
        "# dec_out , random_out, output, Output"
      ],
      "execution_count": 0,
      "outputs": []
    },
    {
      "cell_type": "code",
      "metadata": {
        "id": "KNGV6MCjFcsF",
        "colab_type": "code",
        "colab": {
          "base_uri": "https://localhost:8080/",
          "height": 297
        },
        "outputId": "cb2caeea-b85a-4bf7-bcd6-a0128e092556"
      },
      "source": [
        "new = pd.DataFrame(list(Output))\n",
        "new.describe()\n"
      ],
      "execution_count": 108,
      "outputs": [
        {
          "output_type": "execute_result",
          "data": {
            "text/html": [
              "<div>\n",
              "<style scoped>\n",
              "    .dataframe tbody tr th:only-of-type {\n",
              "        vertical-align: middle;\n",
              "    }\n",
              "\n",
              "    .dataframe tbody tr th {\n",
              "        vertical-align: top;\n",
              "    }\n",
              "\n",
              "    .dataframe thead th {\n",
              "        text-align: right;\n",
              "    }\n",
              "</style>\n",
              "<table border=\"1\" class=\"dataframe\">\n",
              "  <thead>\n",
              "    <tr style=\"text-align: right;\">\n",
              "      <th></th>\n",
              "      <th>0</th>\n",
              "    </tr>\n",
              "  </thead>\n",
              "  <tbody>\n",
              "    <tr>\n",
              "      <th>count</th>\n",
              "      <td>270.000000</td>\n",
              "    </tr>\n",
              "    <tr>\n",
              "      <th>mean</th>\n",
              "      <td>0.344815</td>\n",
              "    </tr>\n",
              "    <tr>\n",
              "      <th>std</th>\n",
              "      <td>0.749592</td>\n",
              "    </tr>\n",
              "    <tr>\n",
              "      <th>min</th>\n",
              "      <td>-1.000000</td>\n",
              "    </tr>\n",
              "    <tr>\n",
              "      <th>25%</th>\n",
              "      <td>-0.175000</td>\n",
              "    </tr>\n",
              "    <tr>\n",
              "      <th>50%</th>\n",
              "      <td>0.700000</td>\n",
              "    </tr>\n",
              "    <tr>\n",
              "      <th>75%</th>\n",
              "      <td>1.000000</td>\n",
              "    </tr>\n",
              "    <tr>\n",
              "      <th>max</th>\n",
              "      <td>1.000000</td>\n",
              "    </tr>\n",
              "  </tbody>\n",
              "</table>\n",
              "</div>"
            ],
            "text/plain": [
              "                0\n",
              "count  270.000000\n",
              "mean     0.344815\n",
              "std      0.749592\n",
              "min     -1.000000\n",
              "25%     -0.175000\n",
              "50%      0.700000\n",
              "75%      1.000000\n",
              "max      1.000000"
            ]
          },
          "metadata": {
            "tags": []
          },
          "execution_count": 108
        }
      ]
    },
    {
      "cell_type": "code",
      "metadata": {
        "id": "Xd8ifBcGFcpW",
        "colab_type": "code",
        "colab": {
          "base_uri": "https://localhost:8080/",
          "height": 359
        },
        "outputId": "bfea4702-50c3-45c6-ec91-cb5d8f4ede6b"
      },
      "source": [
        "mean = 0.344815\n",
        "std = 0.749592\n",
        "n= []\n",
        "for i in list(Output):\n",
        "  n.append(((i-mean)/std)*100)\n",
        "new['1'] = n\n",
        "new.head(10)"
      ],
      "execution_count": 107,
      "outputs": [
        {
          "output_type": "execute_result",
          "data": {
            "text/html": [
              "<div>\n",
              "<style scoped>\n",
              "    .dataframe tbody tr th:only-of-type {\n",
              "        vertical-align: middle;\n",
              "    }\n",
              "\n",
              "    .dataframe tbody tr th {\n",
              "        vertical-align: top;\n",
              "    }\n",
              "\n",
              "    .dataframe thead th {\n",
              "        text-align: right;\n",
              "    }\n",
              "</style>\n",
              "<table border=\"1\" class=\"dataframe\">\n",
              "  <thead>\n",
              "    <tr style=\"text-align: right;\">\n",
              "      <th></th>\n",
              "      <th>0</th>\n",
              "      <th>1</th>\n",
              "    </tr>\n",
              "  </thead>\n",
              "  <tbody>\n",
              "    <tr>\n",
              "      <th>0</th>\n",
              "      <td>-0.9</td>\n",
              "      <td>-166.065673</td>\n",
              "    </tr>\n",
              "    <tr>\n",
              "      <th>1</th>\n",
              "      <td>0.5</td>\n",
              "      <td>20.702596</td>\n",
              "    </tr>\n",
              "    <tr>\n",
              "      <th>2</th>\n",
              "      <td>-0.2</td>\n",
              "      <td>-72.681539</td>\n",
              "    </tr>\n",
              "    <tr>\n",
              "      <th>3</th>\n",
              "      <td>-0.9</td>\n",
              "      <td>-166.065673</td>\n",
              "    </tr>\n",
              "    <tr>\n",
              "      <th>4</th>\n",
              "      <td>0.5</td>\n",
              "      <td>20.702596</td>\n",
              "    </tr>\n",
              "    <tr>\n",
              "      <th>5</th>\n",
              "      <td>-1.0</td>\n",
              "      <td>-179.406264</td>\n",
              "    </tr>\n",
              "    <tr>\n",
              "      <th>6</th>\n",
              "      <td>-0.2</td>\n",
              "      <td>-72.681539</td>\n",
              "    </tr>\n",
              "    <tr>\n",
              "      <th>7</th>\n",
              "      <td>0.8</td>\n",
              "      <td>60.724367</td>\n",
              "    </tr>\n",
              "    <tr>\n",
              "      <th>8</th>\n",
              "      <td>0.2</td>\n",
              "      <td>-19.319176</td>\n",
              "    </tr>\n",
              "    <tr>\n",
              "      <th>9</th>\n",
              "      <td>0.4</td>\n",
              "      <td>7.362005</td>\n",
              "    </tr>\n",
              "  </tbody>\n",
              "</table>\n",
              "</div>"
            ],
            "text/plain": [
              "     0           1\n",
              "0 -0.9 -166.065673\n",
              "1  0.5   20.702596\n",
              "2 -0.2  -72.681539\n",
              "3 -0.9 -166.065673\n",
              "4  0.5   20.702596\n",
              "5 -1.0 -179.406264\n",
              "6 -0.2  -72.681539\n",
              "7  0.8   60.724367\n",
              "8  0.2  -19.319176\n",
              "9  0.4    7.362005"
            ]
          },
          "metadata": {
            "tags": []
          },
          "execution_count": 107
        }
      ]
    },
    {
      "cell_type": "code",
      "metadata": {
        "id": "dlY14nAUFcl_",
        "colab_type": "code",
        "colab": {}
      },
      "source": [
        ""
      ],
      "execution_count": 0,
      "outputs": []
    },
    {
      "cell_type": "code",
      "metadata": {
        "id": "5oh1fsjtFcjW",
        "colab_type": "code",
        "colab": {}
      },
      "source": [
        ""
      ],
      "execution_count": 0,
      "outputs": []
    },
    {
      "cell_type": "code",
      "metadata": {
        "id": "gvE1Wvx77k7o",
        "colab_type": "code",
        "colab": {
          "base_uri": "https://localhost:8080/",
          "height": 376
        },
        "outputId": "cfc56207-cb56-4e6e-82b9-6de06fe6675b"
      },
      "source": [
        "leived_val = list(output)\n",
        "test_df['$_Surcharge_Levied'] = leived_val\n",
        "print(test_df.shape)\n",
        "test_df.head(10)\n",
        "test_df.to_csv('prediction_output.csv' , index = False)"
      ],
      "execution_count": 81,
      "outputs": [
        {
          "output_type": "stream",
          "text": [
            "(270, 8)\n"
          ],
          "name": "stdout"
        },
        {
          "output_type": "execute_result",
          "data": {
            "text/html": [
              "<div>\n",
              "<style scoped>\n",
              "    .dataframe tbody tr th:only-of-type {\n",
              "        vertical-align: middle;\n",
              "    }\n",
              "\n",
              "    .dataframe tbody tr th {\n",
              "        vertical-align: top;\n",
              "    }\n",
              "\n",
              "    .dataframe thead th {\n",
              "        text-align: right;\n",
              "    }\n",
              "</style>\n",
              "<table border=\"1\" class=\"dataframe\">\n",
              "  <thead>\n",
              "    <tr style=\"text-align: right;\">\n",
              "      <th></th>\n",
              "      <th>Customer_Type</th>\n",
              "      <th>$_Spent_per_day</th>\n",
              "      <th>#_of_transactions_per_day</th>\n",
              "      <th>$_credited_per_day</th>\n",
              "      <th>Day</th>\n",
              "      <th>Month</th>\n",
              "      <th>Year</th>\n",
              "      <th>$_Surcharge_Levied</th>\n",
              "    </tr>\n",
              "  </thead>\n",
              "  <tbody>\n",
              "    <tr>\n",
              "      <th>0</th>\n",
              "      <td>Coral</td>\n",
              "      <td>75</td>\n",
              "      <td>5</td>\n",
              "      <td>66</td>\n",
              "      <td>4</td>\n",
              "      <td>8</td>\n",
              "      <td>2019</td>\n",
              "      <td>-4.694708</td>\n",
              "    </tr>\n",
              "    <tr>\n",
              "      <th>1</th>\n",
              "      <td>Coral</td>\n",
              "      <td>38</td>\n",
              "      <td>6</td>\n",
              "      <td>22</td>\n",
              "      <td>30</td>\n",
              "      <td>9</td>\n",
              "      <td>2019</td>\n",
              "      <td>-0.044147</td>\n",
              "    </tr>\n",
              "    <tr>\n",
              "      <th>2</th>\n",
              "      <td>Coral</td>\n",
              "      <td>139</td>\n",
              "      <td>4</td>\n",
              "      <td>39</td>\n",
              "      <td>26</td>\n",
              "      <td>7</td>\n",
              "      <td>2019</td>\n",
              "      <td>2.027745</td>\n",
              "    </tr>\n",
              "    <tr>\n",
              "      <th>3</th>\n",
              "      <td>Coral</td>\n",
              "      <td>46</td>\n",
              "      <td>1</td>\n",
              "      <td>56</td>\n",
              "      <td>24</td>\n",
              "      <td>7</td>\n",
              "      <td>2019</td>\n",
              "      <td>-4.673445</td>\n",
              "    </tr>\n",
              "    <tr>\n",
              "      <th>4</th>\n",
              "      <td>Coral</td>\n",
              "      <td>43</td>\n",
              "      <td>5</td>\n",
              "      <td>24</td>\n",
              "      <td>10</td>\n",
              "      <td>9</td>\n",
              "      <td>2019</td>\n",
              "      <td>-0.381894</td>\n",
              "    </tr>\n",
              "    <tr>\n",
              "      <th>5</th>\n",
              "      <td>Coral</td>\n",
              "      <td>113</td>\n",
              "      <td>7</td>\n",
              "      <td>92</td>\n",
              "      <td>29</td>\n",
              "      <td>6</td>\n",
              "      <td>2019</td>\n",
              "      <td>-6.082844</td>\n",
              "    </tr>\n",
              "    <tr>\n",
              "      <th>6</th>\n",
              "      <td>Coral</td>\n",
              "      <td>123</td>\n",
              "      <td>3</td>\n",
              "      <td>45</td>\n",
              "      <td>31</td>\n",
              "      <td>8</td>\n",
              "      <td>2019</td>\n",
              "      <td>0.480528</td>\n",
              "    </tr>\n",
              "    <tr>\n",
              "      <th>7</th>\n",
              "      <td>Coral</td>\n",
              "      <td>132</td>\n",
              "      <td>8</td>\n",
              "      <td>23</td>\n",
              "      <td>10</td>\n",
              "      <td>7</td>\n",
              "      <td>2019</td>\n",
              "      <td>3.962320</td>\n",
              "    </tr>\n",
              "    <tr>\n",
              "      <th>8</th>\n",
              "      <td>Coral</td>\n",
              "      <td>158</td>\n",
              "      <td>2</td>\n",
              "      <td>48</td>\n",
              "      <td>19</td>\n",
              "      <td>9</td>\n",
              "      <td>2019</td>\n",
              "      <td>1.439361</td>\n",
              "    </tr>\n",
              "    <tr>\n",
              "      <th>9</th>\n",
              "      <td>Coral</td>\n",
              "      <td>25</td>\n",
              "      <td>6</td>\n",
              "      <td>3</td>\n",
              "      <td>30</td>\n",
              "      <td>7</td>\n",
              "      <td>2019</td>\n",
              "      <td>1.958150</td>\n",
              "    </tr>\n",
              "  </tbody>\n",
              "</table>\n",
              "</div>"
            ],
            "text/plain": [
              "  Customer_Type  $_Spent_per_day  ...  Year  $_Surcharge_Levied\n",
              "0         Coral               75  ...  2019           -4.694708\n",
              "1         Coral               38  ...  2019           -0.044147\n",
              "2         Coral              139  ...  2019            2.027745\n",
              "3         Coral               46  ...  2019           -4.673445\n",
              "4         Coral               43  ...  2019           -0.381894\n",
              "5         Coral              113  ...  2019           -6.082844\n",
              "6         Coral              123  ...  2019            0.480528\n",
              "7         Coral              132  ...  2019            3.962320\n",
              "8         Coral              158  ...  2019            1.439361\n",
              "9         Coral               25  ...  2019            1.958150\n",
              "\n",
              "[10 rows x 8 columns]"
            ]
          },
          "metadata": {
            "tags": []
          },
          "execution_count": 81
        }
      ]
    },
    {
      "cell_type": "code",
      "metadata": {
        "id": "DyZ9WP3y7k_V",
        "colab_type": "code",
        "colab": {}
      },
      "source": [
        ""
      ],
      "execution_count": 0,
      "outputs": []
    },
    {
      "cell_type": "code",
      "metadata": {
        "id": "rVQMBLXJ7kTF",
        "colab_type": "code",
        "colab": {}
      },
      "source": [
        ""
      ],
      "execution_count": 0,
      "outputs": []
    },
    {
      "cell_type": "code",
      "metadata": {
        "id": "beUkjuDx7kQ0",
        "colab_type": "code",
        "colab": {}
      },
      "source": [
        ""
      ],
      "execution_count": 0,
      "outputs": []
    },
    {
      "cell_type": "code",
      "metadata": {
        "id": "cUEYSrIx7kN_",
        "colab_type": "code",
        "colab": {}
      },
      "source": [
        ""
      ],
      "execution_count": 0,
      "outputs": []
    },
    {
      "cell_type": "code",
      "metadata": {
        "id": "LibCj47m7kL-",
        "colab_type": "code",
        "colab": {}
      },
      "source": [
        ""
      ],
      "execution_count": 0,
      "outputs": []
    },
    {
      "cell_type": "code",
      "metadata": {
        "id": "e0XJZue-7kJz",
        "colab_type": "code",
        "colab": {}
      },
      "source": [
        ""
      ],
      "execution_count": 0,
      "outputs": []
    },
    {
      "cell_type": "code",
      "metadata": {
        "id": "Bbgs-K2I7kHD",
        "colab_type": "code",
        "colab": {}
      },
      "source": [
        ""
      ],
      "execution_count": 0,
      "outputs": []
    }
  ]
}
