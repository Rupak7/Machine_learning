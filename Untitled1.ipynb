{
  "nbformat": 4,
  "nbformat_minor": 0,
  "metadata": {
    "colab": {
      "name": "Untitled1.ipynb",
      "version": "0.3.2",
      "provenance": [],
      "include_colab_link": true
    },
    "kernelspec": {
      "name": "python3",
      "display_name": "Python 3"
    },
    "accelerator": "GPU"
  },
  "cells": [
    {
      "cell_type": "markdown",
      "metadata": {
        "id": "view-in-github",
        "colab_type": "text"
      },
      "source": [
        "<a href=\"https://colab.research.google.com/github/priyanshgupta1998/Machine_learning/blob/master/Untitled1.ipynb\" target=\"_parent\"><img src=\"https://colab.research.google.com/assets/colab-badge.svg\" alt=\"Open In Colab\"/></a>"
      ]
    },
    {
      "cell_type": "code",
      "metadata": {
        "id": "NqZRzfifchyn",
        "colab_type": "code",
        "colab": {
          "base_uri": "https://localhost:8080/",
          "height": 34
        },
        "outputId": "79f4219b-7c04-44f1-ffaf-d14a9b3d6ade"
      },
      "source": [
        "cd /home"
      ],
      "execution_count": 12,
      "outputs": [
        {
          "output_type": "stream",
          "text": [
            "/home\n"
          ],
          "name": "stdout"
        }
      ]
    },
    {
      "cell_type": "code",
      "metadata": {
        "id": "7PWLMu7Ub1Bu",
        "colab_type": "code",
        "colab": {
          "base_uri": "https://localhost:8080/",
          "height": 289
        },
        "outputId": "7ec69d3f-ab3c-4043-b8e9-5e2a4e326e06"
      },
      "source": [
        "\n",
        "from xlrd import open_workbook\n",
        "import csv\n",
        "wb = open_workbook('problem_statement.xlsx')\n",
        "for i in range(wb.nsheets):\n",
        "    sheet = wb.sheet_by_index(i)\n",
        "    print(sheet.name)\n",
        "    with open(\"%s.csv\" %(sheet.name.replace(\" \",\"\")), \"w\") as file:\n",
        "        writer = csv.writer(file, delimiter = \",\")\n",
        "        print(sheet, sheet.name, sheet.ncols, sheet.nrows)\n",
        "        header = [cell.value for cell in sheet.row(0)]\n",
        "        writer.writerow(header)\n",
        "        for row_idx in range(1, sheet.nrows):\n",
        "            row = [int(cell.value) if isinstance(cell.value, float) else cell.value\n",
        "                   for cell in sheet.row(row_idx)]\n",
        "            writer.writerow(row)"
      ],
      "execution_count": 13,
      "outputs": [
        {
          "output_type": "stream",
          "text": [
            "Problem Statement\n",
            "<xlrd.sheet.Sheet object at 0x7fafeee1c828> Problem Statement 1 25\n",
            "Credit_card_fraud_linear_1\n",
            "<xlrd.sheet.Sheet object at 0x7fafeee1c860> Credit_card_fraud_linear_1 8 2663\n",
            "Credit_card_fraud (2)\n",
            "<xlrd.sheet.Sheet object at 0x7fafeee1c898> Credit_card_fraud (2) 18 2663\n",
            "Credit_card_fraud_linear_2\n",
            "<xlrd.sheet.Sheet object at 0x7fafeee1c8d0> Credit_card_fraud_linear_2 8 2663\n",
            "Credit_card_fraud_linear_3\n",
            "<xlrd.sheet.Sheet object at 0x7fafeee1c908> Credit_card_fraud_linear_3 8 2663\n",
            "Credit_card_fraud_linear_4\n",
            "<xlrd.sheet.Sheet object at 0x7fafeee1c940> Credit_card_fraud_linear_4 8 2663\n",
            "Credit_card_fraud_linear_5\n",
            "<xlrd.sheet.Sheet object at 0x7fafeee1c978> Credit_card_fraud_linear_5 8 2663\n",
            "Credit_card_fraud_linear_6\n",
            "<xlrd.sheet.Sheet object at 0x7fafeee1c9b0> Credit_card_fraud_linear_6 8 2663\n"
          ],
          "name": "stdout"
        }
      ]
    },
    {
      "cell_type": "code",
      "metadata": {
        "id": "XzwHzrZUcWNa",
        "colab_type": "code",
        "colab": {}
      },
      "source": [
        "import pandas as pd\n",
        "import numpy as np"
      ],
      "execution_count": 0,
      "outputs": []
    },
    {
      "cell_type": "code",
      "metadata": {
        "id": "Bhng-FaicWY7",
        "colab_type": "code",
        "colab": {
          "base_uri": "https://localhost:8080/",
          "height": 376
        },
        "outputId": "e3ae65f0-01f1-475a-accc-6309a74dcb57"
      },
      "source": [
        "df = pd.read_csv('Credit_card_fraud_linear_5.csv')\n",
        "print(df.shape)\n",
        "df.head(10)"
      ],
      "execution_count": 15,
      "outputs": [
        {
          "output_type": "stream",
          "text": [
            "(2662, 8)\n"
          ],
          "name": "stdout"
        },
        {
          "output_type": "execute_result",
          "data": {
            "text/html": [
              "<div>\n",
              "<style scoped>\n",
              "    .dataframe tbody tr th:only-of-type {\n",
              "        vertical-align: middle;\n",
              "    }\n",
              "\n",
              "    .dataframe tbody tr th {\n",
              "        vertical-align: top;\n",
              "    }\n",
              "\n",
              "    .dataframe thead th {\n",
              "        text-align: right;\n",
              "    }\n",
              "</style>\n",
              "<table border=\"1\" class=\"dataframe\">\n",
              "  <thead>\n",
              "    <tr style=\"text-align: right;\">\n",
              "      <th></th>\n",
              "      <th>Customer_Type</th>\n",
              "      <th>$_Spent_per_day</th>\n",
              "      <th>#_of_transactions_per_day</th>\n",
              "      <th>$_credited_per_day</th>\n",
              "      <th>Day</th>\n",
              "      <th>Month</th>\n",
              "      <th>Year</th>\n",
              "      <th>$_Surcharge_Levied</th>\n",
              "    </tr>\n",
              "  </thead>\n",
              "  <tbody>\n",
              "    <tr>\n",
              "      <th>0</th>\n",
              "      <td>Coral</td>\n",
              "      <td>59</td>\n",
              "      <td>9</td>\n",
              "      <td>291</td>\n",
              "      <td>29</td>\n",
              "      <td>8</td>\n",
              "      <td>2019</td>\n",
              "      <td>-35</td>\n",
              "    </tr>\n",
              "    <tr>\n",
              "      <th>1</th>\n",
              "      <td>Coral</td>\n",
              "      <td>37</td>\n",
              "      <td>11</td>\n",
              "      <td>197</td>\n",
              "      <td>13</td>\n",
              "      <td>2</td>\n",
              "      <td>2017</td>\n",
              "      <td>-22</td>\n",
              "    </tr>\n",
              "    <tr>\n",
              "      <th>2</th>\n",
              "      <td>Coral</td>\n",
              "      <td>158</td>\n",
              "      <td>9</td>\n",
              "      <td>144</td>\n",
              "      <td>24</td>\n",
              "      <td>1</td>\n",
              "      <td>2019</td>\n",
              "      <td>-10</td>\n",
              "    </tr>\n",
              "    <tr>\n",
              "      <th>3</th>\n",
              "      <td>Coral</td>\n",
              "      <td>50</td>\n",
              "      <td>3</td>\n",
              "      <td>432</td>\n",
              "      <td>31</td>\n",
              "      <td>8</td>\n",
              "      <td>2017</td>\n",
              "      <td>-62</td>\n",
              "    </tr>\n",
              "    <tr>\n",
              "      <th>4</th>\n",
              "      <td>Coral</td>\n",
              "      <td>50</td>\n",
              "      <td>9</td>\n",
              "      <td>169</td>\n",
              "      <td>24</td>\n",
              "      <td>8</td>\n",
              "      <td>2019</td>\n",
              "      <td>-22</td>\n",
              "    </tr>\n",
              "    <tr>\n",
              "      <th>5</th>\n",
              "      <td>Coral</td>\n",
              "      <td>130</td>\n",
              "      <td>10</td>\n",
              "      <td>479</td>\n",
              "      <td>26</td>\n",
              "      <td>5</td>\n",
              "      <td>2018</td>\n",
              "      <td>-57</td>\n",
              "    </tr>\n",
              "    <tr>\n",
              "      <th>6</th>\n",
              "      <td>Coral</td>\n",
              "      <td>136</td>\n",
              "      <td>10</td>\n",
              "      <td>232</td>\n",
              "      <td>12</td>\n",
              "      <td>12</td>\n",
              "      <td>2018</td>\n",
              "      <td>-22</td>\n",
              "    </tr>\n",
              "    <tr>\n",
              "      <th>7</th>\n",
              "      <td>Coral</td>\n",
              "      <td>130</td>\n",
              "      <td>14</td>\n",
              "      <td>477</td>\n",
              "      <td>11</td>\n",
              "      <td>1</td>\n",
              "      <td>2017</td>\n",
              "      <td>-53</td>\n",
              "    </tr>\n",
              "    <tr>\n",
              "      <th>8</th>\n",
              "      <td>Coral</td>\n",
              "      <td>191</td>\n",
              "      <td>0</td>\n",
              "      <td>436</td>\n",
              "      <td>26</td>\n",
              "      <td>3</td>\n",
              "      <td>2019</td>\n",
              "      <td>-46</td>\n",
              "    </tr>\n",
              "    <tr>\n",
              "      <th>9</th>\n",
              "      <td>Coral</td>\n",
              "      <td>45</td>\n",
              "      <td>5</td>\n",
              "      <td>398</td>\n",
              "      <td>22</td>\n",
              "      <td>7</td>\n",
              "      <td>2018</td>\n",
              "      <td>-47</td>\n",
              "    </tr>\n",
              "  </tbody>\n",
              "</table>\n",
              "</div>"
            ],
            "text/plain": [
              "  Customer_Type  $_Spent_per_day  ...  Year  $_Surcharge_Levied\n",
              "0         Coral               59  ...  2019                 -35\n",
              "1         Coral               37  ...  2017                 -22\n",
              "2         Coral              158  ...  2019                 -10\n",
              "3         Coral               50  ...  2017                 -62\n",
              "4         Coral               50  ...  2019                 -22\n",
              "5         Coral              130  ...  2018                 -57\n",
              "6         Coral              136  ...  2018                 -22\n",
              "7         Coral              130  ...  2017                 -53\n",
              "8         Coral              191  ...  2019                 -46\n",
              "9         Coral               45  ...  2018                 -47\n",
              "\n",
              "[10 rows x 8 columns]"
            ]
          },
          "metadata": {
            "tags": []
          },
          "execution_count": 15
        }
      ]
    },
    {
      "cell_type": "code",
      "metadata": {
        "id": "L-41mzUCcWgj",
        "colab_type": "code",
        "colab": {
          "base_uri": "https://localhost:8080/",
          "height": 297
        },
        "outputId": "dce1703c-6079-4d84-e103-061c79df7fd3"
      },
      "source": [
        "df.describe()"
      ],
      "execution_count": 16,
      "outputs": [
        {
          "output_type": "execute_result",
          "data": {
            "text/html": [
              "<div>\n",
              "<style scoped>\n",
              "    .dataframe tbody tr th:only-of-type {\n",
              "        vertical-align: middle;\n",
              "    }\n",
              "\n",
              "    .dataframe tbody tr th {\n",
              "        vertical-align: top;\n",
              "    }\n",
              "\n",
              "    .dataframe thead th {\n",
              "        text-align: right;\n",
              "    }\n",
              "</style>\n",
              "<table border=\"1\" class=\"dataframe\">\n",
              "  <thead>\n",
              "    <tr style=\"text-align: right;\">\n",
              "      <th></th>\n",
              "      <th>$_Spent_per_day</th>\n",
              "      <th>#_of_transactions_per_day</th>\n",
              "      <th>$_credited_per_day</th>\n",
              "      <th>Day</th>\n",
              "      <th>Month</th>\n",
              "      <th>Year</th>\n",
              "      <th>$_Surcharge_Levied</th>\n",
              "    </tr>\n",
              "  </thead>\n",
              "  <tbody>\n",
              "    <tr>\n",
              "      <th>count</th>\n",
              "      <td>2662.000000</td>\n",
              "      <td>2662.000000</td>\n",
              "      <td>2662.000000</td>\n",
              "      <td>2662.000000</td>\n",
              "      <td>2662.000000</td>\n",
              "      <td>2662.000000</td>\n",
              "      <td>2662.000000</td>\n",
              "    </tr>\n",
              "    <tr>\n",
              "      <th>mean</th>\n",
              "      <td>338.233283</td>\n",
              "      <td>18.413599</td>\n",
              "      <td>344.187453</td>\n",
              "      <td>15.955297</td>\n",
              "      <td>6.576634</td>\n",
              "      <td>2017.584523</td>\n",
              "      <td>-29.872652</td>\n",
              "    </tr>\n",
              "    <tr>\n",
              "      <th>std</th>\n",
              "      <td>238.113807</td>\n",
              "      <td>11.365567</td>\n",
              "      <td>201.315075</td>\n",
              "      <td>9.006359</td>\n",
              "      <td>3.487556</td>\n",
              "      <td>1.102163</td>\n",
              "      <td>24.909787</td>\n",
              "    </tr>\n",
              "    <tr>\n",
              "      <th>min</th>\n",
              "      <td>2.000000</td>\n",
              "      <td>0.000000</td>\n",
              "      <td>0.000000</td>\n",
              "      <td>1.000000</td>\n",
              "      <td>1.000000</td>\n",
              "      <td>2016.000000</td>\n",
              "      <td>-182.000000</td>\n",
              "    </tr>\n",
              "    <tr>\n",
              "      <th>25%</th>\n",
              "      <td>159.000000</td>\n",
              "      <td>10.000000</td>\n",
              "      <td>201.000000</td>\n",
              "      <td>8.000000</td>\n",
              "      <td>3.000000</td>\n",
              "      <td>2017.000000</td>\n",
              "      <td>-46.000000</td>\n",
              "    </tr>\n",
              "    <tr>\n",
              "      <th>50%</th>\n",
              "      <td>289.000000</td>\n",
              "      <td>16.000000</td>\n",
              "      <td>334.500000</td>\n",
              "      <td>16.000000</td>\n",
              "      <td>7.000000</td>\n",
              "      <td>2018.000000</td>\n",
              "      <td>-29.000000</td>\n",
              "    </tr>\n",
              "    <tr>\n",
              "      <th>75%</th>\n",
              "      <td>455.000000</td>\n",
              "      <td>24.000000</td>\n",
              "      <td>458.000000</td>\n",
              "      <td>24.000000</td>\n",
              "      <td>10.000000</td>\n",
              "      <td>2019.000000</td>\n",
              "      <td>-12.000000</td>\n",
              "    </tr>\n",
              "    <tr>\n",
              "      <th>max</th>\n",
              "      <td>1237.000000</td>\n",
              "      <td>59.000000</td>\n",
              "      <td>1614.000000</td>\n",
              "      <td>31.000000</td>\n",
              "      <td>12.000000</td>\n",
              "      <td>2019.000000</td>\n",
              "      <td>31.000000</td>\n",
              "    </tr>\n",
              "  </tbody>\n",
              "</table>\n",
              "</div>"
            ],
            "text/plain": [
              "       $_Spent_per_day  ...  $_Surcharge_Levied\n",
              "count      2662.000000  ...         2662.000000\n",
              "mean        338.233283  ...          -29.872652\n",
              "std         238.113807  ...           24.909787\n",
              "min           2.000000  ...         -182.000000\n",
              "25%         159.000000  ...          -46.000000\n",
              "50%         289.000000  ...          -29.000000\n",
              "75%         455.000000  ...          -12.000000\n",
              "max        1237.000000  ...           31.000000\n",
              "\n",
              "[8 rows x 7 columns]"
            ]
          },
          "metadata": {
            "tags": []
          },
          "execution_count": 16
        }
      ]
    },
    {
      "cell_type": "code",
      "metadata": {
        "id": "p9qqCTA9cWcj",
        "colab_type": "code",
        "colab": {
          "base_uri": "https://localhost:8080/",
          "height": 170
        },
        "outputId": "9dcc7047-4f2a-4dd2-eec4-dbd30236809b"
      },
      "source": [
        "df.isnull().sum()"
      ],
      "execution_count": 17,
      "outputs": [
        {
          "output_type": "execute_result",
          "data": {
            "text/plain": [
              "Customer_Type                0\n",
              "$_Spent_per_day              0\n",
              "#_of_transactions_per_day    0\n",
              "$_credited_per_day           0\n",
              "Day                          0\n",
              "Month                        0\n",
              "Year                         0\n",
              "$_Surcharge_Levied           0\n",
              "dtype: int64"
            ]
          },
          "metadata": {
            "tags": []
          },
          "execution_count": 17
        }
      ]
    },
    {
      "cell_type": "code",
      "metadata": {
        "id": "U-1wrpTgcWXw",
        "colab_type": "code",
        "colab": {
          "base_uri": "https://localhost:8080/",
          "height": 34
        },
        "outputId": "ef7ecdbc-1a2d-471c-897f-4e74ae1c7989"
      },
      "source": [
        "df['Customer_Type'].unique()"
      ],
      "execution_count": 18,
      "outputs": [
        {
          "output_type": "execute_result",
          "data": {
            "text/plain": [
              "array(['Coral', 'Diamond', 'Family', 'Ruby', 'Sapphire'], dtype=object)"
            ]
          },
          "metadata": {
            "tags": []
          },
          "execution_count": 18
        }
      ]
    },
    {
      "cell_type": "code",
      "metadata": {
        "id": "Sw6oQTVQcWWj",
        "colab_type": "code",
        "colab": {
          "base_uri": "https://localhost:8080/",
          "height": 204
        },
        "outputId": "8f203a4e-2d3f-41ef-eb37-1b57f8e65e75"
      },
      "source": [
        "pd.get_dummies(df['Customer_Type']).head()"
      ],
      "execution_count": 19,
      "outputs": [
        {
          "output_type": "execute_result",
          "data": {
            "text/html": [
              "<div>\n",
              "<style scoped>\n",
              "    .dataframe tbody tr th:only-of-type {\n",
              "        vertical-align: middle;\n",
              "    }\n",
              "\n",
              "    .dataframe tbody tr th {\n",
              "        vertical-align: top;\n",
              "    }\n",
              "\n",
              "    .dataframe thead th {\n",
              "        text-align: right;\n",
              "    }\n",
              "</style>\n",
              "<table border=\"1\" class=\"dataframe\">\n",
              "  <thead>\n",
              "    <tr style=\"text-align: right;\">\n",
              "      <th></th>\n",
              "      <th>Coral</th>\n",
              "      <th>Diamond</th>\n",
              "      <th>Family</th>\n",
              "      <th>Ruby</th>\n",
              "      <th>Sapphire</th>\n",
              "    </tr>\n",
              "  </thead>\n",
              "  <tbody>\n",
              "    <tr>\n",
              "      <th>0</th>\n",
              "      <td>1</td>\n",
              "      <td>0</td>\n",
              "      <td>0</td>\n",
              "      <td>0</td>\n",
              "      <td>0</td>\n",
              "    </tr>\n",
              "    <tr>\n",
              "      <th>1</th>\n",
              "      <td>1</td>\n",
              "      <td>0</td>\n",
              "      <td>0</td>\n",
              "      <td>0</td>\n",
              "      <td>0</td>\n",
              "    </tr>\n",
              "    <tr>\n",
              "      <th>2</th>\n",
              "      <td>1</td>\n",
              "      <td>0</td>\n",
              "      <td>0</td>\n",
              "      <td>0</td>\n",
              "      <td>0</td>\n",
              "    </tr>\n",
              "    <tr>\n",
              "      <th>3</th>\n",
              "      <td>1</td>\n",
              "      <td>0</td>\n",
              "      <td>0</td>\n",
              "      <td>0</td>\n",
              "      <td>0</td>\n",
              "    </tr>\n",
              "    <tr>\n",
              "      <th>4</th>\n",
              "      <td>1</td>\n",
              "      <td>0</td>\n",
              "      <td>0</td>\n",
              "      <td>0</td>\n",
              "      <td>0</td>\n",
              "    </tr>\n",
              "  </tbody>\n",
              "</table>\n",
              "</div>"
            ],
            "text/plain": [
              "   Coral  Diamond  Family  Ruby  Sapphire\n",
              "0      1        0       0     0         0\n",
              "1      1        0       0     0         0\n",
              "2      1        0       0     0         0\n",
              "3      1        0       0     0         0\n",
              "4      1        0       0     0         0"
            ]
          },
          "metadata": {
            "tags": []
          },
          "execution_count": 19
        }
      ]
    },
    {
      "cell_type": "code",
      "metadata": {
        "id": "T0LizAdjcWVP",
        "colab_type": "code",
        "colab": {
          "base_uri": "https://localhost:8080/",
          "height": 224
        },
        "outputId": "dafd9c76-f416-4daf-812c-09eb02358a53"
      },
      "source": [
        "df = pd.get_dummies(df, columns=['Customer_Type'])\n",
        "df.head()"
      ],
      "execution_count": 20,
      "outputs": [
        {
          "output_type": "execute_result",
          "data": {
            "text/html": [
              "<div>\n",
              "<style scoped>\n",
              "    .dataframe tbody tr th:only-of-type {\n",
              "        vertical-align: middle;\n",
              "    }\n",
              "\n",
              "    .dataframe tbody tr th {\n",
              "        vertical-align: top;\n",
              "    }\n",
              "\n",
              "    .dataframe thead th {\n",
              "        text-align: right;\n",
              "    }\n",
              "</style>\n",
              "<table border=\"1\" class=\"dataframe\">\n",
              "  <thead>\n",
              "    <tr style=\"text-align: right;\">\n",
              "      <th></th>\n",
              "      <th>$_Spent_per_day</th>\n",
              "      <th>#_of_transactions_per_day</th>\n",
              "      <th>$_credited_per_day</th>\n",
              "      <th>Day</th>\n",
              "      <th>Month</th>\n",
              "      <th>Year</th>\n",
              "      <th>$_Surcharge_Levied</th>\n",
              "      <th>Customer_Type_Coral</th>\n",
              "      <th>Customer_Type_Diamond</th>\n",
              "      <th>Customer_Type_Family</th>\n",
              "      <th>Customer_Type_Ruby</th>\n",
              "      <th>Customer_Type_Sapphire</th>\n",
              "    </tr>\n",
              "  </thead>\n",
              "  <tbody>\n",
              "    <tr>\n",
              "      <th>0</th>\n",
              "      <td>59</td>\n",
              "      <td>9</td>\n",
              "      <td>291</td>\n",
              "      <td>29</td>\n",
              "      <td>8</td>\n",
              "      <td>2019</td>\n",
              "      <td>-35</td>\n",
              "      <td>1</td>\n",
              "      <td>0</td>\n",
              "      <td>0</td>\n",
              "      <td>0</td>\n",
              "      <td>0</td>\n",
              "    </tr>\n",
              "    <tr>\n",
              "      <th>1</th>\n",
              "      <td>37</td>\n",
              "      <td>11</td>\n",
              "      <td>197</td>\n",
              "      <td>13</td>\n",
              "      <td>2</td>\n",
              "      <td>2017</td>\n",
              "      <td>-22</td>\n",
              "      <td>1</td>\n",
              "      <td>0</td>\n",
              "      <td>0</td>\n",
              "      <td>0</td>\n",
              "      <td>0</td>\n",
              "    </tr>\n",
              "    <tr>\n",
              "      <th>2</th>\n",
              "      <td>158</td>\n",
              "      <td>9</td>\n",
              "      <td>144</td>\n",
              "      <td>24</td>\n",
              "      <td>1</td>\n",
              "      <td>2019</td>\n",
              "      <td>-10</td>\n",
              "      <td>1</td>\n",
              "      <td>0</td>\n",
              "      <td>0</td>\n",
              "      <td>0</td>\n",
              "      <td>0</td>\n",
              "    </tr>\n",
              "    <tr>\n",
              "      <th>3</th>\n",
              "      <td>50</td>\n",
              "      <td>3</td>\n",
              "      <td>432</td>\n",
              "      <td>31</td>\n",
              "      <td>8</td>\n",
              "      <td>2017</td>\n",
              "      <td>-62</td>\n",
              "      <td>1</td>\n",
              "      <td>0</td>\n",
              "      <td>0</td>\n",
              "      <td>0</td>\n",
              "      <td>0</td>\n",
              "    </tr>\n",
              "    <tr>\n",
              "      <th>4</th>\n",
              "      <td>50</td>\n",
              "      <td>9</td>\n",
              "      <td>169</td>\n",
              "      <td>24</td>\n",
              "      <td>8</td>\n",
              "      <td>2019</td>\n",
              "      <td>-22</td>\n",
              "      <td>1</td>\n",
              "      <td>0</td>\n",
              "      <td>0</td>\n",
              "      <td>0</td>\n",
              "      <td>0</td>\n",
              "    </tr>\n",
              "  </tbody>\n",
              "</table>\n",
              "</div>"
            ],
            "text/plain": [
              "   $_Spent_per_day  ...  Customer_Type_Sapphire\n",
              "0               59  ...                       0\n",
              "1               37  ...                       0\n",
              "2              158  ...                       0\n",
              "3               50  ...                       0\n",
              "4               50  ...                       0\n",
              "\n",
              "[5 rows x 12 columns]"
            ]
          },
          "metadata": {
            "tags": []
          },
          "execution_count": 20
        }
      ]
    },
    {
      "cell_type": "code",
      "metadata": {
        "id": "DQX7tfiCcWT3",
        "colab_type": "code",
        "colab": {
          "base_uri": "https://localhost:8080/",
          "height": 51
        },
        "outputId": "ad9512af-9fff-43cd-c469-4d3498336426"
      },
      "source": [
        "print(df.shape)\n",
        "print(df.ndim)  "
      ],
      "execution_count": 21,
      "outputs": [
        {
          "output_type": "stream",
          "text": [
            "(2662, 12)\n",
            "2\n"
          ],
          "name": "stdout"
        }
      ]
    },
    {
      "cell_type": "code",
      "metadata": {
        "id": "Q0dJvpHduXVZ",
        "colab_type": "code",
        "colab": {
          "base_uri": "https://localhost:8080/",
          "height": 306
        },
        "outputId": "84390b12-8ed5-4892-8d29-b47f111fd69d"
      },
      "source": [
        "df.info()"
      ],
      "execution_count": 22,
      "outputs": [
        {
          "output_type": "stream",
          "text": [
            "<class 'pandas.core.frame.DataFrame'>\n",
            "RangeIndex: 2662 entries, 0 to 2661\n",
            "Data columns (total 12 columns):\n",
            "$_Spent_per_day              2662 non-null int64\n",
            "#_of_transactions_per_day    2662 non-null int64\n",
            "$_credited_per_day           2662 non-null int64\n",
            "Day                          2662 non-null int64\n",
            "Month                        2662 non-null int64\n",
            "Year                         2662 non-null int64\n",
            "$_Surcharge_Levied           2662 non-null int64\n",
            "Customer_Type_Coral          2662 non-null uint8\n",
            "Customer_Type_Diamond        2662 non-null uint8\n",
            "Customer_Type_Family         2662 non-null uint8\n",
            "Customer_Type_Ruby           2662 non-null uint8\n",
            "Customer_Type_Sapphire       2662 non-null uint8\n",
            "dtypes: int64(7), uint8(5)\n",
            "memory usage: 158.7 KB\n"
          ],
          "name": "stdout"
        }
      ]
    },
    {
      "cell_type": "code",
      "metadata": {
        "id": "C0Niyu4tcWSO",
        "colab_type": "code",
        "colab": {
          "base_uri": "https://localhost:8080/",
          "height": 241
        },
        "outputId": "95c33e0f-d6b6-4515-d9f3-810fba9846d4"
      },
      "source": [
        "X  = df.drop('$_Surcharge_Levied', axis=1)\n",
        "print(X.shape)\n",
        "X.head()"
      ],
      "execution_count": 23,
      "outputs": [
        {
          "output_type": "stream",
          "text": [
            "(2662, 11)\n"
          ],
          "name": "stdout"
        },
        {
          "output_type": "execute_result",
          "data": {
            "text/html": [
              "<div>\n",
              "<style scoped>\n",
              "    .dataframe tbody tr th:only-of-type {\n",
              "        vertical-align: middle;\n",
              "    }\n",
              "\n",
              "    .dataframe tbody tr th {\n",
              "        vertical-align: top;\n",
              "    }\n",
              "\n",
              "    .dataframe thead th {\n",
              "        text-align: right;\n",
              "    }\n",
              "</style>\n",
              "<table border=\"1\" class=\"dataframe\">\n",
              "  <thead>\n",
              "    <tr style=\"text-align: right;\">\n",
              "      <th></th>\n",
              "      <th>$_Spent_per_day</th>\n",
              "      <th>#_of_transactions_per_day</th>\n",
              "      <th>$_credited_per_day</th>\n",
              "      <th>Day</th>\n",
              "      <th>Month</th>\n",
              "      <th>Year</th>\n",
              "      <th>Customer_Type_Coral</th>\n",
              "      <th>Customer_Type_Diamond</th>\n",
              "      <th>Customer_Type_Family</th>\n",
              "      <th>Customer_Type_Ruby</th>\n",
              "      <th>Customer_Type_Sapphire</th>\n",
              "    </tr>\n",
              "  </thead>\n",
              "  <tbody>\n",
              "    <tr>\n",
              "      <th>0</th>\n",
              "      <td>59</td>\n",
              "      <td>9</td>\n",
              "      <td>291</td>\n",
              "      <td>29</td>\n",
              "      <td>8</td>\n",
              "      <td>2019</td>\n",
              "      <td>1</td>\n",
              "      <td>0</td>\n",
              "      <td>0</td>\n",
              "      <td>0</td>\n",
              "      <td>0</td>\n",
              "    </tr>\n",
              "    <tr>\n",
              "      <th>1</th>\n",
              "      <td>37</td>\n",
              "      <td>11</td>\n",
              "      <td>197</td>\n",
              "      <td>13</td>\n",
              "      <td>2</td>\n",
              "      <td>2017</td>\n",
              "      <td>1</td>\n",
              "      <td>0</td>\n",
              "      <td>0</td>\n",
              "      <td>0</td>\n",
              "      <td>0</td>\n",
              "    </tr>\n",
              "    <tr>\n",
              "      <th>2</th>\n",
              "      <td>158</td>\n",
              "      <td>9</td>\n",
              "      <td>144</td>\n",
              "      <td>24</td>\n",
              "      <td>1</td>\n",
              "      <td>2019</td>\n",
              "      <td>1</td>\n",
              "      <td>0</td>\n",
              "      <td>0</td>\n",
              "      <td>0</td>\n",
              "      <td>0</td>\n",
              "    </tr>\n",
              "    <tr>\n",
              "      <th>3</th>\n",
              "      <td>50</td>\n",
              "      <td>3</td>\n",
              "      <td>432</td>\n",
              "      <td>31</td>\n",
              "      <td>8</td>\n",
              "      <td>2017</td>\n",
              "      <td>1</td>\n",
              "      <td>0</td>\n",
              "      <td>0</td>\n",
              "      <td>0</td>\n",
              "      <td>0</td>\n",
              "    </tr>\n",
              "    <tr>\n",
              "      <th>4</th>\n",
              "      <td>50</td>\n",
              "      <td>9</td>\n",
              "      <td>169</td>\n",
              "      <td>24</td>\n",
              "      <td>8</td>\n",
              "      <td>2019</td>\n",
              "      <td>1</td>\n",
              "      <td>0</td>\n",
              "      <td>0</td>\n",
              "      <td>0</td>\n",
              "      <td>0</td>\n",
              "    </tr>\n",
              "  </tbody>\n",
              "</table>\n",
              "</div>"
            ],
            "text/plain": [
              "   $_Spent_per_day  ...  Customer_Type_Sapphire\n",
              "0               59  ...                       0\n",
              "1               37  ...                       0\n",
              "2              158  ...                       0\n",
              "3               50  ...                       0\n",
              "4               50  ...                       0\n",
              "\n",
              "[5 rows x 11 columns]"
            ]
          },
          "metadata": {
            "tags": []
          },
          "execution_count": 23
        }
      ]
    },
    {
      "cell_type": "code",
      "metadata": {
        "id": "Q0NK8_lOtenA",
        "colab_type": "code",
        "colab": {}
      },
      "source": [
        ""
      ],
      "execution_count": 0,
      "outputs": []
    },
    {
      "cell_type": "code",
      "metadata": {
        "id": "AyDisIektIMi",
        "colab_type": "code",
        "colab": {
          "base_uri": "https://localhost:8080/",
          "height": 136
        },
        "outputId": "d4acc053-c716-4570-e93c-f413b1bfd9de"
      },
      "source": [
        "Y = df['$_Surcharge_Levied']\n",
        "print(Y.shape)\n",
        "Y.head()"
      ],
      "execution_count": 24,
      "outputs": [
        {
          "output_type": "stream",
          "text": [
            "(2662,)\n"
          ],
          "name": "stdout"
        },
        {
          "output_type": "execute_result",
          "data": {
            "text/plain": [
              "0   -35\n",
              "1   -22\n",
              "2   -10\n",
              "3   -62\n",
              "4   -22\n",
              "Name: $_Surcharge_Levied, dtype: int64"
            ]
          },
          "metadata": {
            "tags": []
          },
          "execution_count": 24
        }
      ]
    },
    {
      "cell_type": "code",
      "metadata": {
        "id": "XJCU8_c1wDPQ",
        "colab_type": "code",
        "colab": {}
      },
      "source": [
        "from sklearn.model_selection import train_test_split\n",
        "X_train, X_test, y_train, y_test = train_test_split(X, Y, test_size=0.33, random_state=42)"
      ],
      "execution_count": 0,
      "outputs": []
    },
    {
      "cell_type": "code",
      "metadata": {
        "id": "o2pENJpQcWKe",
        "colab_type": "code",
        "colab": {}
      },
      "source": [
        "import os\n",
        "import pandas as pd\n",
        "from pandas import DataFrame,Series\n",
        "from sklearn import tree\n",
        "import matplotlib\n",
        "import numpy as np\n",
        "import matplotlib.pyplot as plt\n",
        "from sklearn import svm\n",
        "from sklearn.preprocessing import StandardScaler\n",
        "import statsmodels.formula.api as smf\n",
        "import statsmodels.api as sm\n",
        "from mpl_toolkits.mplot3d import Axes3D\n",
        "import seaborn as sns\n",
        "from sklearn import neighbors\n",
        "from sklearn import linear_model\n",
        "%matplotlib inline"
      ],
      "execution_count": 0,
      "outputs": []
    },
    {
      "cell_type": "code",
      "metadata": {
        "id": "56TtNNbWvApg",
        "colab_type": "code",
        "colab": {
          "base_uri": "https://localhost:8080/"
        },
        "outputId": "1a88b7a7-6c1e-43f3-8fac-a8215be34dbb"
      },
      "source": [
        "dec = tree.DecisionTreeRegressor(max_depth=1)\n",
        "dec.fit(X_train, y_train)\n"
      ],
      "execution_count": 33,
      "outputs": [
        {
          "output_type": "execute_result",
          "data": {
            "text/plain": [
              "DecisionTreeRegressor(criterion='mse', max_depth=1, max_features=None,\n",
              "                      max_leaf_nodes=None, min_impurity_decrease=0.0,\n",
              "                      min_impurity_split=None, min_samples_leaf=1,\n",
              "                      min_samples_split=2, min_weight_fraction_leaf=0.0,\n",
              "                      presort=False, random_state=None, splitter='best')"
            ]
          },
          "metadata": {
            "tags": []
          },
          "execution_count": 33
        }
      ]
    },
    {
      "cell_type": "code",
      "metadata": {
        "id": "N66oAOHVxb9n",
        "colab_type": "code",
        "colab": {
          "base_uri": "https://localhost:8080/"
        },
        "outputId": "e57de4f6-5536-4324-ace7-db67965e8b24"
      },
      "source": [
        "from sklearn import metrics \n",
        "dec_pred = dec.predict(X_test)"
      ],
      "execution_count": 32,
      "outputs": [
        {
          "output_type": "stream",
          "text": [
            "321.8177174538784\n",
            "0.51195413376089\n"
          ],
          "name": "stdout"
        }
      ]
    },
    {
      "cell_type": "code",
      "metadata": {
        "id": "5tDGmDtcvAnR",
        "colab_type": "code",
        "colab": {}
      },
      "source": [
        "print(metrics.mean_squared_error(y_test , dec_pred))\n",
        "print(metrics.r2_score(y_test , dec_pred))"
      ],
      "execution_count": 0,
      "outputs": []
    },
    {
      "cell_type": "code",
      "metadata": {
        "id": "biVbPrmCvAi9",
        "colab_type": "code",
        "colab": {}
      },
      "source": [
        ""
      ],
      "execution_count": 0,
      "outputs": []
    },
    {
      "cell_type": "code",
      "metadata": {
        "id": "Id6s2j0GvAes",
        "colab_type": "code",
        "colab": {}
      },
      "source": [
        "# fit a model\n",
        "lm = linear_model.LinearRegression()\n",
        "model = lm.fit(X_train, y_train)\n",
        "predictions = lm.predict(X_test)"
      ],
      "execution_count": 0,
      "outputs": []
    },
    {
      "cell_type": "code",
      "metadata": {
        "id": "BjUZkiy6vAcc",
        "colab_type": "code",
        "colab": {}
      },
      "source": [
        ""
      ],
      "execution_count": 0,
      "outputs": []
    },
    {
      "cell_type": "code",
      "metadata": {
        "id": "a3BQGn6SvAZu",
        "colab_type": "code",
        "colab": {}
      },
      "source": [
        ""
      ],
      "execution_count": 0,
      "outputs": []
    },
    {
      "cell_type": "code",
      "metadata": {
        "id": "b0Ni_B00vAWm",
        "colab_type": "code",
        "colab": {}
      },
      "source": [
        ""
      ],
      "execution_count": 0,
      "outputs": []
    },
    {
      "cell_type": "code",
      "metadata": {
        "id": "QF4wuDx_vATu",
        "colab_type": "code",
        "colab": {}
      },
      "source": [
        ""
      ],
      "execution_count": 0,
      "outputs": []
    },
    {
      "cell_type": "code",
      "metadata": {
        "id": "-yaAU77vvAQn",
        "colab_type": "code",
        "colab": {}
      },
      "source": [
        ""
      ],
      "execution_count": 0,
      "outputs": []
    },
    {
      "cell_type": "code",
      "metadata": {
        "id": "xLR-06kzvANk",
        "colab_type": "code",
        "colab": {}
      },
      "source": [
        ""
      ],
      "execution_count": 0,
      "outputs": []
    },
    {
      "cell_type": "code",
      "metadata": {
        "id": "YHP8kEArvAH4",
        "colab_type": "code",
        "colab": {}
      },
      "source": [
        ""
      ],
      "execution_count": 0,
      "outputs": []
    }
  ]
}