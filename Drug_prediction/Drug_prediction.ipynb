{
  "nbformat": 4,
  "nbformat_minor": 0,
  "metadata": {
    "colab": {
      "name": "data processing.ipynb",
      "version": "0.3.2",
      "provenance": [],
      "private_outputs": true
    },
    "language_info": {
      "codemirror_mode": {
        "name": "ipython",
        "version": 3
      },
      "file_extension": ".py",
      "mimetype": "text/x-python",
      "name": "python",
      "nbconvert_exporter": "python",
      "pygments_lexer": "ipython3",
      "version": "3.6.5"
    },
    "kernelspec": {
      "name": "python3",
      "display_name": "Python 3"
    },
    "accelerator": "GPU"
  },
  "cells": [
    {
      "metadata": {
        "id": "XNRtE_8qsdx2",
        "colab_type": "code",
        "colab": {}
      },
      "cell_type": "code",
      "source": [
        "import pandas as pd\n",
        "import numpy as np\n",
        "import matplotlib.pyplot as plt"
      ],
      "execution_count": 0,
      "outputs": []
    },
    {
      "metadata": {
        "id": "Nt51Kxjbsdx8",
        "colab_type": "code",
        "colab": {}
      },
      "cell_type": "code",
      "source": [
        "train= pd.read_csv('/home/train_file.csv').copy()\n",
        "test= pd.read_csv('/home/test_file.csv').copy()"
      ],
      "execution_count": 0,
      "outputs": []
    },
    {
      "metadata": {
        "id": "KMPmp775sdyA",
        "colab_type": "code",
        "colab": {
          "base_uri": "https://localhost:8080/",
          "height": 315
        },
        "outputId": "a6dccc12-7830-4872-c96d-c92b9abc3ecd"
      },
      "cell_type": "code",
      "source": [
        "print(train.shape)\n",
        "train.head(3)"
      ],
      "execution_count": 7,
      "outputs": [
        {
          "output_type": "stream",
          "text": [
            "(55399, 17)\n"
          ],
          "name": "stdout"
        },
        {
          "output_type": "execute_result",
          "data": {
            "text/html": [
              "<div>\n",
              "<style scoped>\n",
              "    .dataframe tbody tr th:only-of-type {\n",
              "        vertical-align: middle;\n",
              "    }\n",
              "\n",
              "    .dataframe tbody tr th {\n",
              "        vertical-align: top;\n",
              "    }\n",
              "\n",
              "    .dataframe thead th {\n",
              "        text-align: right;\n",
              "    }\n",
              "</style>\n",
              "<table border=\"1\" class=\"dataframe\">\n",
              "  <thead>\n",
              "    <tr style=\"text-align: right;\">\n",
              "      <th></th>\n",
              "      <th>Patient_ID</th>\n",
              "      <th>YEAR</th>\n",
              "      <th>LocationDesc</th>\n",
              "      <th>Subtopic</th>\n",
              "      <th>Greater_Risk_Question</th>\n",
              "      <th>Description</th>\n",
              "      <th>Sample_Size</th>\n",
              "      <th>Sex</th>\n",
              "      <th>Race</th>\n",
              "      <th>Grade</th>\n",
              "      <th>GeoLocation</th>\n",
              "      <th>QuestionCode</th>\n",
              "      <th>StratID1</th>\n",
              "      <th>StratID2</th>\n",
              "      <th>StratID3</th>\n",
              "      <th>StratificationType</th>\n",
              "      <th>Greater_Risk_Probability</th>\n",
              "    </tr>\n",
              "  </thead>\n",
              "  <tbody>\n",
              "    <tr>\n",
              "      <th>0</th>\n",
              "      <td>1</td>\n",
              "      <td>1995</td>\n",
              "      <td>Houston, TX</td>\n",
              "      <td>1</td>\n",
              "      <td>Ever used cocaine</td>\n",
              "      <td>any form of cocaine, such as powder, crack, or...</td>\n",
              "      <td>335.0</td>\n",
              "      <td>Female</td>\n",
              "      <td>Hispanic or Latino</td>\n",
              "      <td>4</td>\n",
              "      <td>(29.760427, -95.369803)</td>\n",
              "      <td>H49</td>\n",
              "      <td>1</td>\n",
              "      <td>4</td>\n",
              "      <td>0</td>\n",
              "      <td>Local</td>\n",
              "      <td>7.4793</td>\n",
              "    </tr>\n",
              "    <tr>\n",
              "      <th>1</th>\n",
              "      <td>2</td>\n",
              "      <td>1997</td>\n",
              "      <td>Houston, TX</td>\n",
              "      <td>0</td>\n",
              "      <td>Currently drank alcohol</td>\n",
              "      <td>at least one drink of alcohol, on at least 1 d...</td>\n",
              "      <td>382.0</td>\n",
              "      <td>Total</td>\n",
              "      <td>Black or African American</td>\n",
              "      <td>4</td>\n",
              "      <td>(29.760427, -95.369803)</td>\n",
              "      <td>H42</td>\n",
              "      <td>0</td>\n",
              "      <td>3</td>\n",
              "      <td>0</td>\n",
              "      <td>Local</td>\n",
              "      <td>49.6852</td>\n",
              "    </tr>\n",
              "    <tr>\n",
              "      <th>2</th>\n",
              "      <td>3</td>\n",
              "      <td>1993</td>\n",
              "      <td>Nevada</td>\n",
              "      <td>0</td>\n",
              "      <td>Had their first drink of alcohol before age 13...</td>\n",
              "      <td>other than a few sips</td>\n",
              "      <td>196.0</td>\n",
              "      <td>Female</td>\n",
              "      <td>White</td>\n",
              "      <td>0</td>\n",
              "      <td>(39.493240390000494, -117.07184056399967)</td>\n",
              "      <td>H41</td>\n",
              "      <td>1</td>\n",
              "      <td>6</td>\n",
              "      <td>2</td>\n",
              "      <td>State</td>\n",
              "      <td>47.8132</td>\n",
              "    </tr>\n",
              "  </tbody>\n",
              "</table>\n",
              "</div>"
            ],
            "text/plain": [
              "   Patient_ID  YEAR LocationDesc  Subtopic  \\\n",
              "0           1  1995  Houston, TX         1   \n",
              "1           2  1997  Houston, TX         0   \n",
              "2           3  1993       Nevada         0   \n",
              "\n",
              "                               Greater_Risk_Question  \\\n",
              "0                                  Ever used cocaine   \n",
              "1                            Currently drank alcohol   \n",
              "2  Had their first drink of alcohol before age 13...   \n",
              "\n",
              "                                         Description  Sample_Size     Sex  \\\n",
              "0  any form of cocaine, such as powder, crack, or...        335.0  Female   \n",
              "1  at least one drink of alcohol, on at least 1 d...        382.0   Total   \n",
              "2                              other than a few sips        196.0  Female   \n",
              "\n",
              "                        Race  Grade  \\\n",
              "0         Hispanic or Latino      4   \n",
              "1  Black or African American      4   \n",
              "2                      White      0   \n",
              "\n",
              "                                 GeoLocation QuestionCode  StratID1  StratID2  \\\n",
              "0                    (29.760427, -95.369803)          H49         1         4   \n",
              "1                    (29.760427, -95.369803)          H42         0         3   \n",
              "2  (39.493240390000494, -117.07184056399967)          H41         1         6   \n",
              "\n",
              "   StratID3 StratificationType  Greater_Risk_Probability  \n",
              "0         0              Local                    7.4793  \n",
              "1         0              Local                   49.6852  \n",
              "2         2              State                   47.8132  "
            ]
          },
          "metadata": {
            "tags": []
          },
          "execution_count": 7
        }
      ]
    },
    {
      "metadata": {
        "id": "HpJM0IM-H_ie",
        "colab_type": "code",
        "colab": {}
      },
      "cell_type": "code",
      "source": [
        "test.shape"
      ],
      "execution_count": 0,
      "outputs": []
    },
    {
      "metadata": {
        "id": "16Mh5QHnsdyJ",
        "colab_type": "code",
        "colab": {
          "base_uri": "https://localhost:8080/",
          "height": 102
        },
        "outputId": "a17fd75a-d7e5-45d3-cd5f-899cbf48c479"
      },
      "cell_type": "code",
      "source": [
        "train.columns"
      ],
      "execution_count": 9,
      "outputs": [
        {
          "output_type": "execute_result",
          "data": {
            "text/plain": [
              "Index(['Patient_ID', 'YEAR', 'LocationDesc', 'Subtopic',\n",
              "       'Greater_Risk_Question', 'Description', 'Sample_Size', 'Sex', 'Race',\n",
              "       'Grade', 'GeoLocation', 'QuestionCode', 'StratID1', 'StratID2',\n",
              "       'StratID3', 'StratificationType', 'Greater_Risk_Probability'],\n",
              "      dtype='object')"
            ]
          },
          "metadata": {
            "tags": []
          },
          "execution_count": 9
        }
      ]
    },
    {
      "metadata": {
        "id": "IJDlnK1TsdyV",
        "colab_type": "code",
        "colab": {
          "base_uri": "https://localhost:8080/",
          "height": 391
        },
        "outputId": "38c07284-0918-4659-cfe0-707bc108c7bf"
      },
      "cell_type": "code",
      "source": [
        "train.info()"
      ],
      "execution_count": 10,
      "outputs": [
        {
          "output_type": "stream",
          "text": [
            "<class 'pandas.core.frame.DataFrame'>\n",
            "RangeIndex: 55399 entries, 0 to 55398\n",
            "Data columns (total 17 columns):\n",
            "Patient_ID                  55399 non-null int64\n",
            "YEAR                        55399 non-null int64\n",
            "LocationDesc                55399 non-null object\n",
            "Subtopic                    55399 non-null int64\n",
            "Greater_Risk_Question       55399 non-null object\n",
            "Description                 55399 non-null object\n",
            "Sample_Size                 55399 non-null float64\n",
            "Sex                         55399 non-null object\n",
            "Race                        55399 non-null object\n",
            "Grade                       55399 non-null int64\n",
            "GeoLocation                 52098 non-null object\n",
            "QuestionCode                55399 non-null object\n",
            "StratID1                    55399 non-null int64\n",
            "StratID2                    55399 non-null int64\n",
            "StratID3                    55399 non-null int64\n",
            "StratificationType          55399 non-null object\n",
            "Greater_Risk_Probability    55399 non-null float64\n",
            "dtypes: float64(2), int64(7), object(8)\n",
            "memory usage: 7.2+ MB\n"
          ],
          "name": "stdout"
        }
      ]
    },
    {
      "metadata": {
        "id": "q8PjNUCYsdya",
        "colab_type": "code",
        "colab": {
          "base_uri": "https://localhost:8080/",
          "height": 323
        },
        "outputId": "a538ea9c-9edd-4c9d-b999-63f2776becfe"
      },
      "cell_type": "code",
      "source": [
        "train.isna().sum()"
      ],
      "execution_count": 11,
      "outputs": [
        {
          "output_type": "execute_result",
          "data": {
            "text/plain": [
              "Patient_ID                     0\n",
              "YEAR                           0\n",
              "LocationDesc                   0\n",
              "Subtopic                       0\n",
              "Greater_Risk_Question          0\n",
              "Description                    0\n",
              "Sample_Size                    0\n",
              "Sex                            0\n",
              "Race                           0\n",
              "Grade                          0\n",
              "GeoLocation                 3301\n",
              "QuestionCode                   0\n",
              "StratID1                       0\n",
              "StratID2                       0\n",
              "StratID3                       0\n",
              "StratificationType             0\n",
              "Greater_Risk_Probability       0\n",
              "dtype: int64"
            ]
          },
          "metadata": {
            "tags": []
          },
          "execution_count": 11
        }
      ]
    },
    {
      "metadata": {
        "id": "b6tfgj5Dsdyd",
        "colab_type": "code",
        "colab": {
          "base_uri": "https://localhost:8080/",
          "height": 306
        },
        "outputId": "df4c7cd4-f4be-422f-dfa1-718398efcfc8"
      },
      "cell_type": "code",
      "source": [
        "test.isna().sum()/len(test)"
      ],
      "execution_count": 12,
      "outputs": [
        {
          "output_type": "execute_result",
          "data": {
            "text/plain": [
              "Patient_ID               0.000000\n",
              "YEAR                     0.000000\n",
              "LocationDesc             0.000000\n",
              "Subtopic                 0.000000\n",
              "Greater_Risk_Question    0.000000\n",
              "Description              0.000000\n",
              "Sample_Size              0.000000\n",
              "Sex                      0.000000\n",
              "Race                     0.000000\n",
              "Grade                    0.000000\n",
              "GeoLocation              0.058675\n",
              "QuestionCode             0.000000\n",
              "StratID1                 0.000000\n",
              "StratID2                 0.000000\n",
              "StratID3                 0.000000\n",
              "StratificationType       0.000000\n",
              "dtype: float64"
            ]
          },
          "metadata": {
            "tags": []
          },
          "execution_count": 12
        }
      ]
    },
    {
      "metadata": {
        "id": "SQjrd840sdyi",
        "colab_type": "code",
        "colab": {
          "base_uri": "https://localhost:8080/",
          "height": 298
        },
        "outputId": "c208000f-346e-4379-8340-11d931e0b4ff"
      },
      "cell_type": "code",
      "source": [
        "train['sample']=1\n",
        "test['sample']=0\n",
        "train.head(3)"
      ],
      "execution_count": 13,
      "outputs": [
        {
          "output_type": "execute_result",
          "data": {
            "text/html": [
              "<div>\n",
              "<style scoped>\n",
              "    .dataframe tbody tr th:only-of-type {\n",
              "        vertical-align: middle;\n",
              "    }\n",
              "\n",
              "    .dataframe tbody tr th {\n",
              "        vertical-align: top;\n",
              "    }\n",
              "\n",
              "    .dataframe thead th {\n",
              "        text-align: right;\n",
              "    }\n",
              "</style>\n",
              "<table border=\"1\" class=\"dataframe\">\n",
              "  <thead>\n",
              "    <tr style=\"text-align: right;\">\n",
              "      <th></th>\n",
              "      <th>Patient_ID</th>\n",
              "      <th>YEAR</th>\n",
              "      <th>LocationDesc</th>\n",
              "      <th>Subtopic</th>\n",
              "      <th>Greater_Risk_Question</th>\n",
              "      <th>Description</th>\n",
              "      <th>Sample_Size</th>\n",
              "      <th>Sex</th>\n",
              "      <th>Race</th>\n",
              "      <th>Grade</th>\n",
              "      <th>GeoLocation</th>\n",
              "      <th>QuestionCode</th>\n",
              "      <th>StratID1</th>\n",
              "      <th>StratID2</th>\n",
              "      <th>StratID3</th>\n",
              "      <th>StratificationType</th>\n",
              "      <th>Greater_Risk_Probability</th>\n",
              "      <th>sample</th>\n",
              "    </tr>\n",
              "  </thead>\n",
              "  <tbody>\n",
              "    <tr>\n",
              "      <th>0</th>\n",
              "      <td>1</td>\n",
              "      <td>1995</td>\n",
              "      <td>Houston, TX</td>\n",
              "      <td>1</td>\n",
              "      <td>Ever used cocaine</td>\n",
              "      <td>any form of cocaine, such as powder, crack, or...</td>\n",
              "      <td>335.0</td>\n",
              "      <td>Female</td>\n",
              "      <td>Hispanic or Latino</td>\n",
              "      <td>4</td>\n",
              "      <td>(29.760427, -95.369803)</td>\n",
              "      <td>H49</td>\n",
              "      <td>1</td>\n",
              "      <td>4</td>\n",
              "      <td>0</td>\n",
              "      <td>Local</td>\n",
              "      <td>7.4793</td>\n",
              "      <td>1</td>\n",
              "    </tr>\n",
              "    <tr>\n",
              "      <th>1</th>\n",
              "      <td>2</td>\n",
              "      <td>1997</td>\n",
              "      <td>Houston, TX</td>\n",
              "      <td>0</td>\n",
              "      <td>Currently drank alcohol</td>\n",
              "      <td>at least one drink of alcohol, on at least 1 d...</td>\n",
              "      <td>382.0</td>\n",
              "      <td>Total</td>\n",
              "      <td>Black or African American</td>\n",
              "      <td>4</td>\n",
              "      <td>(29.760427, -95.369803)</td>\n",
              "      <td>H42</td>\n",
              "      <td>0</td>\n",
              "      <td>3</td>\n",
              "      <td>0</td>\n",
              "      <td>Local</td>\n",
              "      <td>49.6852</td>\n",
              "      <td>1</td>\n",
              "    </tr>\n",
              "    <tr>\n",
              "      <th>2</th>\n",
              "      <td>3</td>\n",
              "      <td>1993</td>\n",
              "      <td>Nevada</td>\n",
              "      <td>0</td>\n",
              "      <td>Had their first drink of alcohol before age 13...</td>\n",
              "      <td>other than a few sips</td>\n",
              "      <td>196.0</td>\n",
              "      <td>Female</td>\n",
              "      <td>White</td>\n",
              "      <td>0</td>\n",
              "      <td>(39.493240390000494, -117.07184056399967)</td>\n",
              "      <td>H41</td>\n",
              "      <td>1</td>\n",
              "      <td>6</td>\n",
              "      <td>2</td>\n",
              "      <td>State</td>\n",
              "      <td>47.8132</td>\n",
              "      <td>1</td>\n",
              "    </tr>\n",
              "  </tbody>\n",
              "</table>\n",
              "</div>"
            ],
            "text/plain": [
              "   Patient_ID  YEAR LocationDesc  Subtopic  \\\n",
              "0           1  1995  Houston, TX         1   \n",
              "1           2  1997  Houston, TX         0   \n",
              "2           3  1993       Nevada         0   \n",
              "\n",
              "                               Greater_Risk_Question  \\\n",
              "0                                  Ever used cocaine   \n",
              "1                            Currently drank alcohol   \n",
              "2  Had their first drink of alcohol before age 13...   \n",
              "\n",
              "                                         Description  Sample_Size     Sex  \\\n",
              "0  any form of cocaine, such as powder, crack, or...        335.0  Female   \n",
              "1  at least one drink of alcohol, on at least 1 d...        382.0   Total   \n",
              "2                              other than a few sips        196.0  Female   \n",
              "\n",
              "                        Race  Grade  \\\n",
              "0         Hispanic or Latino      4   \n",
              "1  Black or African American      4   \n",
              "2                      White      0   \n",
              "\n",
              "                                 GeoLocation QuestionCode  StratID1  StratID2  \\\n",
              "0                    (29.760427, -95.369803)          H49         1         4   \n",
              "1                    (29.760427, -95.369803)          H42         0         3   \n",
              "2  (39.493240390000494, -117.07184056399967)          H41         1         6   \n",
              "\n",
              "   StratID3 StratificationType  Greater_Risk_Probability  sample  \n",
              "0         0              Local                    7.4793       1  \n",
              "1         0              Local                   49.6852       1  \n",
              "2         2              State                   47.8132       1  "
            ]
          },
          "metadata": {
            "tags": []
          },
          "execution_count": 13
        }
      ]
    },
    {
      "metadata": {
        "id": "jRj-csEnsdyl",
        "colab_type": "code",
        "colab": {
          "base_uri": "https://localhost:8080/",
          "height": 173
        },
        "outputId": "9cb5039f-b5d8-40a1-a6c8-85f865266204"
      },
      "cell_type": "code",
      "source": [
        "df=pd.concat([train,test])"
      ],
      "execution_count": 14,
      "outputs": [
        {
          "output_type": "stream",
          "text": [
            "/usr/local/lib/python3.6/dist-packages/ipykernel_launcher.py:1: FutureWarning: Sorting because non-concatenation axis is not aligned. A future version\n",
            "of pandas will change to not sort by default.\n",
            "\n",
            "To accept the future behavior, pass 'sort=False'.\n",
            "\n",
            "To retain the current behavior and silence the warning, pass 'sort=True'.\n",
            "\n",
            "  \"\"\"Entry point for launching an IPython kernel.\n"
          ],
          "name": "stderr"
        }
      ]
    },
    {
      "metadata": {
        "id": "6HzZH6bK2yks",
        "colab_type": "code",
        "colab": {}
      },
      "cell_type": "code",
      "source": [
        "print(df.shape)\n",
        "df.head(3)"
      ],
      "execution_count": 0,
      "outputs": []
    },
    {
      "metadata": {
        "id": "PdWKxbZPsdyp",
        "colab_type": "code",
        "colab": {}
      },
      "cell_type": "code",
      "source": [
        "df.reset_index(inplace=True,drop=True)    # chnages which has been done must be permanent"
      ],
      "execution_count": 0,
      "outputs": []
    },
    {
      "metadata": {
        "id": "ImBgy2tgsdys",
        "colab_type": "code",
        "colab": {
          "base_uri": "https://localhost:8080/",
          "height": 315
        },
        "outputId": "e0a14be2-d8b3-42fe-f63e-d706bd367252"
      },
      "cell_type": "code",
      "source": [
        "print(df.shape)\n",
        "df.head(3)"
      ],
      "execution_count": 17,
      "outputs": [
        {
          "output_type": "stream",
          "text": [
            "(92331, 18)\n"
          ],
          "name": "stdout"
        },
        {
          "output_type": "execute_result",
          "data": {
            "text/html": [
              "<div>\n",
              "<style scoped>\n",
              "    .dataframe tbody tr th:only-of-type {\n",
              "        vertical-align: middle;\n",
              "    }\n",
              "\n",
              "    .dataframe tbody tr th {\n",
              "        vertical-align: top;\n",
              "    }\n",
              "\n",
              "    .dataframe thead th {\n",
              "        text-align: right;\n",
              "    }\n",
              "</style>\n",
              "<table border=\"1\" class=\"dataframe\">\n",
              "  <thead>\n",
              "    <tr style=\"text-align: right;\">\n",
              "      <th></th>\n",
              "      <th>Description</th>\n",
              "      <th>GeoLocation</th>\n",
              "      <th>Grade</th>\n",
              "      <th>Greater_Risk_Probability</th>\n",
              "      <th>Greater_Risk_Question</th>\n",
              "      <th>LocationDesc</th>\n",
              "      <th>Patient_ID</th>\n",
              "      <th>QuestionCode</th>\n",
              "      <th>Race</th>\n",
              "      <th>Sample_Size</th>\n",
              "      <th>Sex</th>\n",
              "      <th>StratID1</th>\n",
              "      <th>StratID2</th>\n",
              "      <th>StratID3</th>\n",
              "      <th>StratificationType</th>\n",
              "      <th>Subtopic</th>\n",
              "      <th>YEAR</th>\n",
              "      <th>sample</th>\n",
              "    </tr>\n",
              "  </thead>\n",
              "  <tbody>\n",
              "    <tr>\n",
              "      <th>0</th>\n",
              "      <td>any form of cocaine, such as powder, crack, or...</td>\n",
              "      <td>(29.760427, -95.369803)</td>\n",
              "      <td>4</td>\n",
              "      <td>7.4793</td>\n",
              "      <td>Ever used cocaine</td>\n",
              "      <td>Houston, TX</td>\n",
              "      <td>1</td>\n",
              "      <td>H49</td>\n",
              "      <td>Hispanic or Latino</td>\n",
              "      <td>335.0</td>\n",
              "      <td>Female</td>\n",
              "      <td>1</td>\n",
              "      <td>4</td>\n",
              "      <td>0</td>\n",
              "      <td>Local</td>\n",
              "      <td>1</td>\n",
              "      <td>1995</td>\n",
              "      <td>1</td>\n",
              "    </tr>\n",
              "    <tr>\n",
              "      <th>1</th>\n",
              "      <td>at least one drink of alcohol, on at least 1 d...</td>\n",
              "      <td>(29.760427, -95.369803)</td>\n",
              "      <td>4</td>\n",
              "      <td>49.6852</td>\n",
              "      <td>Currently drank alcohol</td>\n",
              "      <td>Houston, TX</td>\n",
              "      <td>2</td>\n",
              "      <td>H42</td>\n",
              "      <td>Black or African American</td>\n",
              "      <td>382.0</td>\n",
              "      <td>Total</td>\n",
              "      <td>0</td>\n",
              "      <td>3</td>\n",
              "      <td>0</td>\n",
              "      <td>Local</td>\n",
              "      <td>0</td>\n",
              "      <td>1997</td>\n",
              "      <td>1</td>\n",
              "    </tr>\n",
              "    <tr>\n",
              "      <th>2</th>\n",
              "      <td>other than a few sips</td>\n",
              "      <td>(39.493240390000494, -117.07184056399967)</td>\n",
              "      <td>0</td>\n",
              "      <td>47.8132</td>\n",
              "      <td>Had their first drink of alcohol before age 13...</td>\n",
              "      <td>Nevada</td>\n",
              "      <td>3</td>\n",
              "      <td>H41</td>\n",
              "      <td>White</td>\n",
              "      <td>196.0</td>\n",
              "      <td>Female</td>\n",
              "      <td>1</td>\n",
              "      <td>6</td>\n",
              "      <td>2</td>\n",
              "      <td>State</td>\n",
              "      <td>0</td>\n",
              "      <td>1993</td>\n",
              "      <td>1</td>\n",
              "    </tr>\n",
              "  </tbody>\n",
              "</table>\n",
              "</div>"
            ],
            "text/plain": [
              "                                         Description  \\\n",
              "0  any form of cocaine, such as powder, crack, or...   \n",
              "1  at least one drink of alcohol, on at least 1 d...   \n",
              "2                              other than a few sips   \n",
              "\n",
              "                                 GeoLocation  Grade  Greater_Risk_Probability  \\\n",
              "0                    (29.760427, -95.369803)      4                    7.4793   \n",
              "1                    (29.760427, -95.369803)      4                   49.6852   \n",
              "2  (39.493240390000494, -117.07184056399967)      0                   47.8132   \n",
              "\n",
              "                               Greater_Risk_Question LocationDesc  Patient_ID  \\\n",
              "0                                  Ever used cocaine  Houston, TX           1   \n",
              "1                            Currently drank alcohol  Houston, TX           2   \n",
              "2  Had their first drink of alcohol before age 13...       Nevada           3   \n",
              "\n",
              "  QuestionCode                       Race  Sample_Size     Sex  StratID1  \\\n",
              "0          H49         Hispanic or Latino        335.0  Female         1   \n",
              "1          H42  Black or African American        382.0   Total         0   \n",
              "2          H41                      White        196.0  Female         1   \n",
              "\n",
              "   StratID2  StratID3 StratificationType  Subtopic  YEAR  sample  \n",
              "0         4         0              Local         1  1995       1  \n",
              "1         3         0              Local         0  1997       1  \n",
              "2         6         2              State         0  1993       1  "
            ]
          },
          "metadata": {
            "tags": []
          },
          "execution_count": 17
        }
      ]
    },
    {
      "metadata": {
        "id": "PMH-62k4sdyx",
        "colab_type": "code",
        "colab": {
          "base_uri": "https://localhost:8080/",
          "height": 374
        },
        "outputId": "8a460f22-e77c-45ed-f9d7-28bb4ea33b13"
      },
      "cell_type": "code",
      "source": [
        "df['Greater_Risk_Question'].value_counts()   # give the unique one questions"
      ],
      "execution_count": 18,
      "outputs": [
        {
          "output_type": "execute_result",
          "data": {
            "text/plain": [
              "Currently used marijuana                                                                                                     7364\n",
              "Tried marijuana for the first time before age 13 years                                                                       7141\n",
              "Had their first drink of alcohol before age 13 years                                                                         7076\n",
              "Currently drank alcohol                                                                                                      6990\n",
              "Ever used cocaine                                                                                                            6824\n",
              "Were offered, sold, or given an illegal drug on school property                                                              6514\n",
              "Ever used marijuana                                                                                                          6263\n",
              "Ever injected any illegal drug                                                                                               5916\n",
              "Ever used inhalants                                                                                                          5798\n",
              "Ever took steroids without a doctor's prescription                                                                           5760\n",
              "Ever drank alcohol                                                                                                           5610\n",
              "Ever used methamphetamines                                                                                                   5542\n",
              "Ever used heroin                                                                                                             5519\n",
              "Ever used ecstasy                                                                                                            4469\n",
              "Usually got the alcohol they drank by someone giving it to them                                                              1451\n",
              "Reported 10 or more as the largest number of drinks they had in a row                                                        1376\n",
              "Ever used synthetic marijuana                                                                                                1177\n",
              "Reported current binge drinking                                                                                               729\n",
              "Ever took prescription pain medicine without a doctor's prescription or differently than how a doctor told them to use it     643\n",
              "Ever used hallucinogenic drugs                                                                                                169\n",
              "Name: Greater_Risk_Question, dtype: int64"
            ]
          },
          "metadata": {
            "tags": []
          },
          "execution_count": 18
        }
      ]
    },
    {
      "metadata": {
        "id": "mRANapbUsdy3",
        "colab_type": "code",
        "colab": {
          "base_uri": "https://localhost:8080/",
          "height": 136
        },
        "outputId": "d48d77ed-0193-4c34-f2f2-974254b4dd76"
      },
      "cell_type": "code",
      "source": [
        "df[df['GeoLocation'].isna()].LocationDesc.value_counts()"
      ],
      "execution_count": 19,
      "outputs": [
        {
          "output_type": "execute_result",
          "data": {
            "text/plain": [
              "United States        3732\n",
              "Navajo                899\n",
              "New Orleans, LA       460\n",
              "Shelby County, TN     152\n",
              "Cherokee Nation       135\n",
              "Nez Perce              90\n",
              "Name: LocationDesc, dtype: int64"
            ]
          },
          "metadata": {
            "tags": []
          },
          "execution_count": 19
        }
      ]
    },
    {
      "metadata": {
        "id": "76j7vsrbsdy9",
        "colab_type": "code",
        "colab": {
          "base_uri": "https://localhost:8080/",
          "height": 34
        },
        "outputId": "cd8d9498-1d61-46bb-e712-a1efc360ca63"
      },
      "cell_type": "code",
      "source": [
        "df[df['LocationDesc']=='United States'].GeoLocation.value_counts()"
      ],
      "execution_count": 20,
      "outputs": [
        {
          "output_type": "execute_result",
          "data": {
            "text/plain": [
              "Series([], Name: GeoLocation, dtype: int64)"
            ]
          },
          "metadata": {
            "tags": []
          },
          "execution_count": 20
        }
      ]
    },
    {
      "metadata": {
        "id": "F4XMTrhKsdzC",
        "colab_type": "code",
        "colab": {}
      },
      "cell_type": "code",
      "source": [
        "n=df[df['LocationDesc']=='United States'].index\n",
        "for i in n:\n",
        "    df.loc[i, 'GeoLocation']='(39.7837304, -100.4458825)'"
      ],
      "execution_count": 0,
      "outputs": []
    },
    {
      "metadata": {
        "id": "6AbFfVCzsdzF",
        "colab_type": "code",
        "colab": {}
      },
      "cell_type": "code",
      "source": [
        "n=df[df['LocationDesc']=='Navajo'].index\n",
        "for i in n:\n",
        "    df.loc[i, 'GeoLocation']='(35.1819775, -110.3549451)'"
      ],
      "execution_count": 0,
      "outputs": []
    },
    {
      "metadata": {
        "id": "DznPPkl5sdzO",
        "colab_type": "code",
        "colab": {}
      },
      "cell_type": "code",
      "source": [
        "n=df[df['LocationDesc']=='New Orleans, LA'].index\n",
        "for i in n:\n",
        "    df.loc[i, 'GeoLocation']='(29.9499323, -90.0701156)'"
      ],
      "execution_count": 0,
      "outputs": []
    },
    {
      "metadata": {
        "id": "XKv4xce3sdzS",
        "colab_type": "code",
        "colab": {}
      },
      "cell_type": "code",
      "source": [
        "n=df[df['LocationDesc']=='Shelby County, TN'].index\n",
        "for i in n:\n",
        "    df.loc[i, 'GeoLocation']='(35.1782557, -89.8739775)'"
      ],
      "execution_count": 0,
      "outputs": []
    },
    {
      "metadata": {
        "id": "Tmo3qaAjsdzV",
        "colab_type": "code",
        "colab": {}
      },
      "cell_type": "code",
      "source": [
        "n=df[df['LocationDesc']=='Cherokee Nation'].index\n",
        "for i in n:\n",
        "    df.loc[i, 'GeoLocation']='(36.1342565, -94.9477014208174)'"
      ],
      "execution_count": 0,
      "outputs": []
    },
    {
      "metadata": {
        "id": "kuPni2qesdzY",
        "colab_type": "code",
        "colab": {}
      },
      "cell_type": "code",
      "source": [
        "n=df[df['LocationDesc']=='Nez Perce'].index\n",
        "for i in n:\n",
        "    df.loc[i, 'GeoLocation']='(46.3959861, -116.8072307)'"
      ],
      "execution_count": 0,
      "outputs": []
    },
    {
      "metadata": {
        "id": "shWaioGt6YEF",
        "colab_type": "code",
        "colab": {}
      },
      "cell_type": "code",
      "source": [
        "df[df['GeoLocation'].isna()].LocationDesc.value_counts()"
      ],
      "execution_count": 0,
      "outputs": []
    },
    {
      "metadata": {
        "id": "bPwfK-_jsdzd",
        "colab_type": "code",
        "colab": {
          "base_uri": "https://localhost:8080/",
          "height": 340
        },
        "outputId": "2d51224a-9b80-4165-9591-d8501d4062c1"
      },
      "cell_type": "code",
      "source": [
        "df.isna().sum()"
      ],
      "execution_count": 28,
      "outputs": [
        {
          "output_type": "execute_result",
          "data": {
            "text/plain": [
              "Description                     0\n",
              "GeoLocation                     0\n",
              "Grade                           0\n",
              "Greater_Risk_Probability    36932\n",
              "Greater_Risk_Question           0\n",
              "LocationDesc                    0\n",
              "Patient_ID                      0\n",
              "QuestionCode                    0\n",
              "Race                            0\n",
              "Sample_Size                     0\n",
              "Sex                             0\n",
              "StratID1                        0\n",
              "StratID2                        0\n",
              "StratID3                        0\n",
              "StratificationType              0\n",
              "Subtopic                        0\n",
              "YEAR                            0\n",
              "sample                          0\n",
              "dtype: int64"
            ]
          },
          "metadata": {
            "tags": []
          },
          "execution_count": 28
        }
      ]
    },
    {
      "metadata": {
        "id": "I5VHXgDosdzi",
        "colab_type": "code",
        "colab": {
          "base_uri": "https://localhost:8080/",
          "height": 374
        },
        "outputId": "6193b22a-9b7e-4e4e-fe39-ba4cbece3b70"
      },
      "cell_type": "code",
      "source": [
        "df['Greater_Risk_Question'].value_counts()"
      ],
      "execution_count": 29,
      "outputs": [
        {
          "output_type": "execute_result",
          "data": {
            "text/plain": [
              "Currently used marijuana                                                                                                     7364\n",
              "Tried marijuana for the first time before age 13 years                                                                       7141\n",
              "Had their first drink of alcohol before age 13 years                                                                         7076\n",
              "Currently drank alcohol                                                                                                      6990\n",
              "Ever used cocaine                                                                                                            6824\n",
              "Were offered, sold, or given an illegal drug on school property                                                              6514\n",
              "Ever used marijuana                                                                                                          6263\n",
              "Ever injected any illegal drug                                                                                               5916\n",
              "Ever used inhalants                                                                                                          5798\n",
              "Ever took steroids without a doctor's prescription                                                                           5760\n",
              "Ever drank alcohol                                                                                                           5610\n",
              "Ever used methamphetamines                                                                                                   5542\n",
              "Ever used heroin                                                                                                             5519\n",
              "Ever used ecstasy                                                                                                            4469\n",
              "Usually got the alcohol they drank by someone giving it to them                                                              1451\n",
              "Reported 10 or more as the largest number of drinks they had in a row                                                        1376\n",
              "Ever used synthetic marijuana                                                                                                1177\n",
              "Reported current binge drinking                                                                                               729\n",
              "Ever took prescription pain medicine without a doctor's prescription or differently than how a doctor told them to use it     643\n",
              "Ever used hallucinogenic drugs                                                                                                169\n",
              "Name: Greater_Risk_Question, dtype: int64"
            ]
          },
          "metadata": {
            "tags": []
          },
          "execution_count": 29
        }
      ]
    },
    {
      "metadata": {
        "id": "CKlCjdznsdzl",
        "colab_type": "code",
        "colab": {
          "base_uri": "https://localhost:8080/",
          "height": 119
        },
        "outputId": "43033db8-785f-499f-c1b8-5b2f8ee86794"
      },
      "cell_type": "code",
      "source": [
        "df['Grade'].value_counts()"
      ],
      "execution_count": 30,
      "outputs": [
        {
          "output_type": "execute_result",
          "data": {
            "text/plain": [
              "4    27516\n",
              "3    17208\n",
              "0    17060\n",
              "1    16072\n",
              "2    14475\n",
              "Name: Grade, dtype: int64"
            ]
          },
          "metadata": {
            "tags": []
          },
          "execution_count": 30
        }
      ]
    },
    {
      "metadata": {
        "id": "x4BuCH2Bsdzp",
        "colab_type": "code",
        "colab": {
          "base_uri": "https://localhost:8080/",
          "height": 374
        },
        "outputId": "799a4a9b-8a1a-4bc2-9d39-ddb46fd9fcde"
      },
      "cell_type": "code",
      "source": [
        "df['QuestionCode'].value_counts()"
      ],
      "execution_count": 31,
      "outputs": [
        {
          "output_type": "execute_result",
          "data": {
            "text/plain": [
              "H48             7364\n",
              "H47             7141\n",
              "H41             7076\n",
              "H42             6990\n",
              "H49             6824\n",
              "H58             6514\n",
              "H46             6263\n",
              "H57             5916\n",
              "H50             5798\n",
              "H55             5760\n",
              "H40             5610\n",
              "H52             5542\n",
              "H51             5519\n",
              "H53             4469\n",
              "H43             1451\n",
              "H45             1376\n",
              "H54             1177\n",
              "H44              729\n",
              "H56              643\n",
              "QNHALLUCDRUG     169\n",
              "Name: QuestionCode, dtype: int64"
            ]
          },
          "metadata": {
            "tags": []
          },
          "execution_count": 31
        }
      ]
    },
    {
      "metadata": {
        "id": "ZlxBGACysdzu",
        "colab_type": "code",
        "colab": {
          "base_uri": "https://localhost:8080/",
          "height": 170
        },
        "outputId": "ab3a2e09-f657-44b1-f564-08f3f1b9dd67"
      },
      "cell_type": "code",
      "source": [
        "df['Race'].value_counts()"
      ],
      "execution_count": 32,
      "outputs": [
        {
          "output_type": "execute_result",
          "data": {
            "text/plain": [
              "Total                                        37023\n",
              "White                                        22585\n",
              "Hispanic or Latino                           12986\n",
              "Black or African American                    11797\n",
              "Asian                                         3389\n",
              "Multiple Race                                 1852\n",
              "Native Hawaiian or Other Pacific Islander     1606\n",
              "American Indian or Alaska Native              1093\n",
              "Name: Race, dtype: int64"
            ]
          },
          "metadata": {
            "tags": []
          },
          "execution_count": 32
        }
      ]
    },
    {
      "metadata": {
        "id": "RIHK9EYPsdzz",
        "colab_type": "code",
        "colab": {
          "base_uri": "https://localhost:8080/",
          "height": 85
        },
        "outputId": "130bf816-6644-4c8e-fed8-91501c20b765"
      },
      "cell_type": "code",
      "source": [
        "df['Sex'].value_counts()"
      ],
      "execution_count": 33,
      "outputs": [
        {
          "output_type": "execute_result",
          "data": {
            "text/plain": [
              "Total     36845\n",
              "Female    28376\n",
              "Male      27110\n",
              "Name: Sex, dtype: int64"
            ]
          },
          "metadata": {
            "tags": []
          },
          "execution_count": 33
        }
      ]
    },
    {
      "metadata": {
        "id": "CJF2xh87sdz3",
        "colab_type": "code",
        "colab": {
          "base_uri": "https://localhost:8080/",
          "height": 85
        },
        "outputId": "39421eba-4454-4b31-df36-5e9aa23b8fbd"
      },
      "cell_type": "code",
      "source": [
        "df['StratID1'].value_counts()"
      ],
      "execution_count": 34,
      "outputs": [
        {
          "output_type": "execute_result",
          "data": {
            "text/plain": [
              "0    36845\n",
              "1    28376\n",
              "2    27110\n",
              "Name: StratID1, dtype: int64"
            ]
          },
          "metadata": {
            "tags": []
          },
          "execution_count": 34
        }
      ]
    },
    {
      "metadata": {
        "id": "E9tGtHMIsdz8",
        "colab_type": "code",
        "colab": {
          "base_uri": "https://localhost:8080/",
          "height": 119
        },
        "outputId": "76db8fac-5d8e-4b61-d122-3d1cbe8dc693"
      },
      "cell_type": "code",
      "source": [
        "df['StratificationType'].value_counts()"
      ],
      "execution_count": 35,
      "outputs": [
        {
          "output_type": "execute_result",
          "data": {
            "text/plain": [
              "State        53149\n",
              "Local        30098\n",
              "Territory     4228\n",
              "National      3732\n",
              "Other         1124\n",
              "Name: StratificationType, dtype: int64"
            ]
          },
          "metadata": {
            "tags": []
          },
          "execution_count": 35
        }
      ]
    },
    {
      "metadata": {
        "id": "TOOy27vvsd0A",
        "colab_type": "code",
        "colab": {
          "base_uri": "https://localhost:8080/",
          "height": 68
        },
        "outputId": "cba06374-7043-462a-9bcd-4b0659a945b3"
      },
      "cell_type": "code",
      "source": [
        "df['Subtopic'].value_counts()"
      ],
      "execution_count": 36,
      "outputs": [
        {
          "output_type": "execute_result",
          "data": {
            "text/plain": [
              "1    69099\n",
              "0    23232\n",
              "Name: Subtopic, dtype: int64"
            ]
          },
          "metadata": {
            "tags": []
          },
          "execution_count": 36
        }
      ]
    },
    {
      "metadata": {
        "id": "tvdISxcMsd0D",
        "colab_type": "code",
        "colab": {
          "base_uri": "https://localhost:8080/",
          "height": 272
        },
        "outputId": "7ba2d111-7384-44a4-b324-d187bfc5dccf"
      },
      "cell_type": "code",
      "source": [
        "df['YEAR'].value_counts()"
      ],
      "execution_count": 37,
      "outputs": [
        {
          "output_type": "execute_result",
          "data": {
            "text/plain": [
              "2017    11355\n",
              "2015     9418\n",
              "2007     9395\n",
              "2011     9298\n",
              "2013     9211\n",
              "2009     8948\n",
              "2005     8482\n",
              "2003     6735\n",
              "2001     4503\n",
              "1999     4195\n",
              "1997     4065\n",
              "1995     3199\n",
              "1993     2327\n",
              "1991     1200\n",
              "Name: YEAR, dtype: int64"
            ]
          },
          "metadata": {
            "tags": []
          },
          "execution_count": 37
        }
      ]
    },
    {
      "metadata": {
        "id": "TJxrMsOMsd0I",
        "colab_type": "code",
        "colab": {}
      },
      "cell_type": "code",
      "source": [
        "data = df.copy()"
      ],
      "execution_count": 0,
      "outputs": []
    },
    {
      "metadata": {
        "id": "c1Hk9qlKsd0M",
        "colab_type": "code",
        "colab": {
          "base_uri": "https://localhost:8080/",
          "height": 34
        },
        "outputId": "c1a25670-3ba0-4db4-ca7e-cd9e614af3c8"
      },
      "cell_type": "code",
      "source": [
        "data.shape"
      ],
      "execution_count": 39,
      "outputs": [
        {
          "output_type": "execute_result",
          "data": {
            "text/plain": [
              "(92331, 18)"
            ]
          },
          "metadata": {
            "tags": []
          },
          "execution_count": 39
        }
      ]
    },
    {
      "metadata": {
        "id": "6tb3wd1B7J6T",
        "colab_type": "code",
        "colab": {}
      },
      "cell_type": "code",
      "source": [
        "jk = '(29.9499323, -90.0701156)'\n",
        "jk = jk[1:]\n",
        "print(jk)"
      ],
      "execution_count": 0,
      "outputs": []
    },
    {
      "metadata": {
        "id": "DFRxn4To7pab",
        "colab_type": "code",
        "colab": {}
      },
      "cell_type": "code",
      "source": [
        "jk = '(29.9499323, -90.0701156)'\n",
        "jk = jk[1:]\n",
        "print(jk.split(','))"
      ],
      "execution_count": 0,
      "outputs": []
    },
    {
      "metadata": {
        "id": "L_2Bn-vjsd0Q",
        "colab_type": "code",
        "colab": {}
      },
      "cell_type": "code",
      "source": [
        "def location(x):\n",
        "    x=x[1:-1]\n",
        "    return x.split(',')"
      ],
      "execution_count": 0,
      "outputs": []
    },
    {
      "metadata": {
        "id": "pBbVw8TCsd0T",
        "colab_type": "code",
        "colab": {}
      },
      "cell_type": "code",
      "source": [
        "GeoLocation=data.GeoLocation.apply(location)"
      ],
      "execution_count": 0,
      "outputs": []
    },
    {
      "metadata": {
        "id": "8kBkVVsO717L",
        "colab_type": "code",
        "colab": {}
      },
      "cell_type": "code",
      "source": [
        "data.head(3)"
      ],
      "execution_count": 0,
      "outputs": []
    },
    {
      "metadata": {
        "id": "q4M0fdhZ8dAO",
        "colab_type": "code",
        "colab": {}
      },
      "cell_type": "code",
      "source": [
        "GeoLocation.values.tolist()[:5]"
      ],
      "execution_count": 0,
      "outputs": []
    },
    {
      "metadata": {
        "id": "OcSBo5Cisd0W",
        "colab_type": "code",
        "colab": {
          "base_uri": "https://localhost:8080/",
          "height": 142
        },
        "outputId": "42890ac9-512a-481a-f702-538a464e433c"
      },
      "cell_type": "code",
      "source": [
        "pd.DataFrame(GeoLocation.values.tolist(),columns=['latitute','longitude']).head(3)"
      ],
      "execution_count": 46,
      "outputs": [
        {
          "output_type": "execute_result",
          "data": {
            "text/html": [
              "<div>\n",
              "<style scoped>\n",
              "    .dataframe tbody tr th:only-of-type {\n",
              "        vertical-align: middle;\n",
              "    }\n",
              "\n",
              "    .dataframe tbody tr th {\n",
              "        vertical-align: top;\n",
              "    }\n",
              "\n",
              "    .dataframe thead th {\n",
              "        text-align: right;\n",
              "    }\n",
              "</style>\n",
              "<table border=\"1\" class=\"dataframe\">\n",
              "  <thead>\n",
              "    <tr style=\"text-align: right;\">\n",
              "      <th></th>\n",
              "      <th>latitute</th>\n",
              "      <th>longitude</th>\n",
              "    </tr>\n",
              "  </thead>\n",
              "  <tbody>\n",
              "    <tr>\n",
              "      <th>0</th>\n",
              "      <td>29.760427</td>\n",
              "      <td>-95.369803</td>\n",
              "    </tr>\n",
              "    <tr>\n",
              "      <th>1</th>\n",
              "      <td>29.760427</td>\n",
              "      <td>-95.369803</td>\n",
              "    </tr>\n",
              "    <tr>\n",
              "      <th>2</th>\n",
              "      <td>39.493240390000494</td>\n",
              "      <td>-117.07184056399967</td>\n",
              "    </tr>\n",
              "  </tbody>\n",
              "</table>\n",
              "</div>"
            ],
            "text/plain": [
              "             latitute             longitude\n",
              "0           29.760427            -95.369803\n",
              "1           29.760427            -95.369803\n",
              "2  39.493240390000494   -117.07184056399967"
            ]
          },
          "metadata": {
            "tags": []
          },
          "execution_count": 46
        }
      ]
    },
    {
      "metadata": {
        "id": "-GyJQhfz8SJr",
        "colab_type": "code",
        "colab": {}
      },
      "cell_type": "code",
      "source": [
        "print(data.shape)\n",
        "data.head(3)"
      ],
      "execution_count": 0,
      "outputs": []
    },
    {
      "metadata": {
        "id": "RS3iVirlsd0a",
        "colab_type": "code",
        "colab": {
          "base_uri": "https://localhost:8080/",
          "height": 142
        },
        "outputId": "5c946e6b-ff0e-4b12-91b0-c885d405d111"
      },
      "cell_type": "code",
      "source": [
        "pd.get_dummies(data.StratificationType).head(3)"
      ],
      "execution_count": 48,
      "outputs": [
        {
          "output_type": "execute_result",
          "data": {
            "text/html": [
              "<div>\n",
              "<style scoped>\n",
              "    .dataframe tbody tr th:only-of-type {\n",
              "        vertical-align: middle;\n",
              "    }\n",
              "\n",
              "    .dataframe tbody tr th {\n",
              "        vertical-align: top;\n",
              "    }\n",
              "\n",
              "    .dataframe thead th {\n",
              "        text-align: right;\n",
              "    }\n",
              "</style>\n",
              "<table border=\"1\" class=\"dataframe\">\n",
              "  <thead>\n",
              "    <tr style=\"text-align: right;\">\n",
              "      <th></th>\n",
              "      <th>Local</th>\n",
              "      <th>National</th>\n",
              "      <th>Other</th>\n",
              "      <th>State</th>\n",
              "      <th>Territory</th>\n",
              "    </tr>\n",
              "  </thead>\n",
              "  <tbody>\n",
              "    <tr>\n",
              "      <th>0</th>\n",
              "      <td>1</td>\n",
              "      <td>0</td>\n",
              "      <td>0</td>\n",
              "      <td>0</td>\n",
              "      <td>0</td>\n",
              "    </tr>\n",
              "    <tr>\n",
              "      <th>1</th>\n",
              "      <td>1</td>\n",
              "      <td>0</td>\n",
              "      <td>0</td>\n",
              "      <td>0</td>\n",
              "      <td>0</td>\n",
              "    </tr>\n",
              "    <tr>\n",
              "      <th>2</th>\n",
              "      <td>0</td>\n",
              "      <td>0</td>\n",
              "      <td>0</td>\n",
              "      <td>1</td>\n",
              "      <td>0</td>\n",
              "    </tr>\n",
              "  </tbody>\n",
              "</table>\n",
              "</div>"
            ],
            "text/plain": [
              "   Local  National  Other  State  Territory\n",
              "0      1         0      0      0          0\n",
              "1      1         0      0      0          0\n",
              "2      0         0      0      1          0"
            ]
          },
          "metadata": {
            "tags": []
          },
          "execution_count": 48
        }
      ]
    },
    {
      "metadata": {
        "id": "pL2TNMecsd0f",
        "colab_type": "code",
        "colab": {}
      },
      "cell_type": "code",
      "source": [
        "data = pd.concat([data,pd.get_dummies(data.Greater_Risk_Question),pd.get_dummies(data.QuestionCode),pd.get_dummies(data.Race),pd.get_dummies(data.Sex),pd.get_dummies(data.StratificationType),pd.DataFrame(GeoLocation.tolist(),columns=['latitute','longitude'])],axis=1)"
      ],
      "execution_count": 0,
      "outputs": []
    },
    {
      "metadata": {
        "id": "4Ei1XrG79jdr",
        "colab_type": "code",
        "colab": {}
      },
      "cell_type": "code",
      "source": [
        "print(data.shape)\n",
        "data.head(3)"
      ],
      "execution_count": 0,
      "outputs": []
    },
    {
      "metadata": {
        "id": "QGoBCBAPsd0s",
        "colab_type": "code",
        "colab": {}
      },
      "cell_type": "code",
      "source": [
        "data=data.select_dtypes(exclude='object')"
      ],
      "execution_count": 0,
      "outputs": []
    },
    {
      "metadata": {
        "id": "l0vc1zW3sd02",
        "colab_type": "code",
        "colab": {
          "base_uri": "https://localhost:8080/",
          "height": 208
        },
        "outputId": "4c33ea71-c2f8-4d82-f817-3dcdd4fc7b1f"
      },
      "cell_type": "code",
      "source": [
        "print(data.shape)\n",
        "data.head(3)"
      ],
      "execution_count": 52,
      "outputs": [
        {
          "output_type": "stream",
          "text": [
            "(92331, 66)\n"
          ],
          "name": "stdout"
        },
        {
          "output_type": "execute_result",
          "data": {
            "text/html": [
              "<div>\n",
              "<style scoped>\n",
              "    .dataframe tbody tr th:only-of-type {\n",
              "        vertical-align: middle;\n",
              "    }\n",
              "\n",
              "    .dataframe tbody tr th {\n",
              "        vertical-align: top;\n",
              "    }\n",
              "\n",
              "    .dataframe thead th {\n",
              "        text-align: right;\n",
              "    }\n",
              "</style>\n",
              "<table border=\"1\" class=\"dataframe\">\n",
              "  <thead>\n",
              "    <tr style=\"text-align: right;\">\n",
              "      <th></th>\n",
              "      <th>Grade</th>\n",
              "      <th>Greater_Risk_Probability</th>\n",
              "      <th>Patient_ID</th>\n",
              "      <th>Sample_Size</th>\n",
              "      <th>StratID1</th>\n",
              "      <th>StratID2</th>\n",
              "      <th>StratID3</th>\n",
              "      <th>Subtopic</th>\n",
              "      <th>YEAR</th>\n",
              "      <th>sample</th>\n",
              "      <th>...</th>\n",
              "      <th>Total</th>\n",
              "      <th>White</th>\n",
              "      <th>Female</th>\n",
              "      <th>Male</th>\n",
              "      <th>Total</th>\n",
              "      <th>Local</th>\n",
              "      <th>National</th>\n",
              "      <th>Other</th>\n",
              "      <th>State</th>\n",
              "      <th>Territory</th>\n",
              "    </tr>\n",
              "  </thead>\n",
              "  <tbody>\n",
              "    <tr>\n",
              "      <th>0</th>\n",
              "      <td>4</td>\n",
              "      <td>7.4793</td>\n",
              "      <td>1</td>\n",
              "      <td>335.0</td>\n",
              "      <td>1</td>\n",
              "      <td>4</td>\n",
              "      <td>0</td>\n",
              "      <td>1</td>\n",
              "      <td>1995</td>\n",
              "      <td>1</td>\n",
              "      <td>...</td>\n",
              "      <td>0</td>\n",
              "      <td>0</td>\n",
              "      <td>1</td>\n",
              "      <td>0</td>\n",
              "      <td>0</td>\n",
              "      <td>1</td>\n",
              "      <td>0</td>\n",
              "      <td>0</td>\n",
              "      <td>0</td>\n",
              "      <td>0</td>\n",
              "    </tr>\n",
              "    <tr>\n",
              "      <th>1</th>\n",
              "      <td>4</td>\n",
              "      <td>49.6852</td>\n",
              "      <td>2</td>\n",
              "      <td>382.0</td>\n",
              "      <td>0</td>\n",
              "      <td>3</td>\n",
              "      <td>0</td>\n",
              "      <td>0</td>\n",
              "      <td>1997</td>\n",
              "      <td>1</td>\n",
              "      <td>...</td>\n",
              "      <td>0</td>\n",
              "      <td>0</td>\n",
              "      <td>0</td>\n",
              "      <td>0</td>\n",
              "      <td>1</td>\n",
              "      <td>1</td>\n",
              "      <td>0</td>\n",
              "      <td>0</td>\n",
              "      <td>0</td>\n",
              "      <td>0</td>\n",
              "    </tr>\n",
              "    <tr>\n",
              "      <th>2</th>\n",
              "      <td>0</td>\n",
              "      <td>47.8132</td>\n",
              "      <td>3</td>\n",
              "      <td>196.0</td>\n",
              "      <td>1</td>\n",
              "      <td>6</td>\n",
              "      <td>2</td>\n",
              "      <td>0</td>\n",
              "      <td>1993</td>\n",
              "      <td>1</td>\n",
              "      <td>...</td>\n",
              "      <td>0</td>\n",
              "      <td>1</td>\n",
              "      <td>1</td>\n",
              "      <td>0</td>\n",
              "      <td>0</td>\n",
              "      <td>0</td>\n",
              "      <td>0</td>\n",
              "      <td>0</td>\n",
              "      <td>1</td>\n",
              "      <td>0</td>\n",
              "    </tr>\n",
              "  </tbody>\n",
              "</table>\n",
              "<p>3 rows × 66 columns</p>\n",
              "</div>"
            ],
            "text/plain": [
              "   Grade  Greater_Risk_Probability  Patient_ID  Sample_Size  StratID1  \\\n",
              "0      4                    7.4793           1        335.0         1   \n",
              "1      4                   49.6852           2        382.0         0   \n",
              "2      0                   47.8132           3        196.0         1   \n",
              "\n",
              "   StratID2  StratID3  Subtopic  YEAR  sample    ...      Total  White  \\\n",
              "0         4         0         1  1995       1    ...          0      0   \n",
              "1         3         0         0  1997       1    ...          0      0   \n",
              "2         6         2         0  1993       1    ...          0      1   \n",
              "\n",
              "   Female  Male  Total  Local  National  Other  State  Territory  \n",
              "0       1     0      0      1         0      0      0          0  \n",
              "1       0     0      1      1         0      0      0          0  \n",
              "2       1     0      0      0         0      0      1          0  \n",
              "\n",
              "[3 rows x 66 columns]"
            ]
          },
          "metadata": {
            "tags": []
          },
          "execution_count": 52
        }
      ]
    },
    {
      "metadata": {
        "id": "u7k7gY-qBaZH",
        "colab_type": "code",
        "colab": {}
      },
      "cell_type": "code",
      "source": [
        ""
      ],
      "execution_count": 0,
      "outputs": []
    },
    {
      "metadata": {
        "id": "mmcX-YkEsd1L",
        "colab_type": "code",
        "colab": {}
      },
      "cell_type": "code",
      "source": [
        "train=data[data['sample']==1]\n",
        "test=data[data['sample']==0]\n",
        "test.reset_index(inplace=True,drop=True)\n",
        "train=train.drop(['sample'],axis=1)\n",
        "test=test.drop(['sample','Greater_Risk_Probability'],axis=1)"
      ],
      "execution_count": 0,
      "outputs": []
    },
    {
      "metadata": {
        "id": "HmjMSgDQ-eQE",
        "colab_type": "code",
        "colab": {}
      },
      "cell_type": "code",
      "source": [
        "print(train.shape , test.shape)"
      ],
      "execution_count": 0,
      "outputs": []
    },
    {
      "metadata": {
        "id": "70Ze-gh1_NJ4",
        "colab_type": "code",
        "colab": {}
      },
      "cell_type": "code",
      "source": [
        "train.head(3)"
      ],
      "execution_count": 0,
      "outputs": []
    },
    {
      "metadata": {
        "id": "zHAxDOwlsd1O",
        "colab_type": "code",
        "colab": {}
      },
      "cell_type": "code",
      "source": [
        "train_y=train['Greater_Risk_Probability']\n",
        "train_x=train.drop(['Greater_Risk_Probability'],axis=1)"
      ],
      "execution_count": 0,
      "outputs": []
    },
    {
      "metadata": {
        "id": "lWPHedrwsd1S",
        "colab_type": "code",
        "colab": {
          "base_uri": "https://localhost:8080/",
          "height": 85
        },
        "outputId": "8e12135a-de8d-4b34-e9ee-a3165ecfdca7"
      },
      "cell_type": "code",
      "source": [
        "train_y.head(3)"
      ],
      "execution_count": 57,
      "outputs": [
        {
          "output_type": "execute_result",
          "data": {
            "text/plain": [
              "0     7.4793\n",
              "1    49.6852\n",
              "2    47.8132\n",
              "Name: Greater_Risk_Probability, dtype: float64"
            ]
          },
          "metadata": {
            "tags": []
          },
          "execution_count": 57
        }
      ]
    },
    {
      "metadata": {
        "id": "8hCJn1mqsd1Z",
        "colab_type": "code",
        "colab": {}
      },
      "cell_type": "code",
      "source": [
        "from sklearn import tree\n",
        "clf = tree.DecisionTreeRegressor()\n",
        "clf = clf.fit(train_x, train_y)"
      ],
      "execution_count": 0,
      "outputs": []
    },
    {
      "metadata": {
        "id": "Q0U9NHmZsd1b",
        "colab_type": "code",
        "colab": {}
      },
      "cell_type": "code",
      "source": [
        "pred=clf.predict(test)"
      ],
      "execution_count": 0,
      "outputs": []
    },
    {
      "metadata": {
        "id": "sWzn_WGg-1w8",
        "colab_type": "code",
        "colab": {}
      },
      "cell_type": "code",
      "source": [
        "pred"
      ],
      "execution_count": 0,
      "outputs": []
    },
    {
      "metadata": {
        "id": "ql1Yig4-sd1g",
        "colab_type": "code",
        "colab": {}
      },
      "cell_type": "code",
      "source": [
        "sub=pd.DataFrame()\n",
        "sub['Patient_ID']=test['Patient_ID']\n",
        "sub['Greater_Risk_Probability']=pred"
      ],
      "execution_count": 0,
      "outputs": []
    },
    {
      "metadata": {
        "id": "t9lCdbPLsd1m",
        "colab_type": "code",
        "colab": {
          "base_uri": "https://localhost:8080/",
          "height": 142
        },
        "outputId": "baf6ef06-dc9c-448d-b2c4-64a5b585060f"
      },
      "cell_type": "code",
      "source": [
        "sub.head(3)"
      ],
      "execution_count": 62,
      "outputs": [
        {
          "output_type": "execute_result",
          "data": {
            "text/html": [
              "<div>\n",
              "<style scoped>\n",
              "    .dataframe tbody tr th:only-of-type {\n",
              "        vertical-align: middle;\n",
              "    }\n",
              "\n",
              "    .dataframe tbody tr th {\n",
              "        vertical-align: top;\n",
              "    }\n",
              "\n",
              "    .dataframe thead th {\n",
              "        text-align: right;\n",
              "    }\n",
              "</style>\n",
              "<table border=\"1\" class=\"dataframe\">\n",
              "  <thead>\n",
              "    <tr style=\"text-align: right;\">\n",
              "      <th></th>\n",
              "      <th>Patient_ID</th>\n",
              "      <th>Greater_Risk_Probability</th>\n",
              "    </tr>\n",
              "  </thead>\n",
              "  <tbody>\n",
              "    <tr>\n",
              "      <th>0</th>\n",
              "      <td>55400</td>\n",
              "      <td>38.2699</td>\n",
              "    </tr>\n",
              "    <tr>\n",
              "      <th>1</th>\n",
              "      <td>55401</td>\n",
              "      <td>35.5500</td>\n",
              "    </tr>\n",
              "    <tr>\n",
              "      <th>2</th>\n",
              "      <td>55402</td>\n",
              "      <td>56.8783</td>\n",
              "    </tr>\n",
              "  </tbody>\n",
              "</table>\n",
              "</div>"
            ],
            "text/plain": [
              "   Patient_ID  Greater_Risk_Probability\n",
              "0       55400                   38.2699\n",
              "1       55401                   35.5500\n",
              "2       55402                   56.8783"
            ]
          },
          "metadata": {
            "tags": []
          },
          "execution_count": 62
        }
      ]
    },
    {
      "metadata": {
        "id": "7_6sKL8asd1r",
        "colab_type": "code",
        "colab": {}
      },
      "cell_type": "code",
      "source": [
        "sub.to_csv('/home/submit.csv',index=False)"
      ],
      "execution_count": 0,
      "outputs": []
    },
    {
      "metadata": {
        "id": "Psq0zRCmsd1t",
        "colab_type": "code",
        "colab": {}
      },
      "cell_type": "code",
      "source": [
        ""
      ],
      "execution_count": 0,
      "outputs": []
    }
  ]
}