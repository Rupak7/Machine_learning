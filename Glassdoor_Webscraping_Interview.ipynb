{
  "nbformat": 4,
  "nbformat_minor": 0,
  "metadata": {
    "colab": {
      "name": "TensorFlow_with_GPU (6).ipynb",
      "version": "0.3.2",
      "provenance": [],
      "collapsed_sections": [],
      "include_colab_link": true
    },
    "kernelspec": {
      "name": "python3",
      "display_name": "Python 3"
    },
    "accelerator": "GPU"
  },
  "cells": [
    {
      "cell_type": "markdown",
      "metadata": {
        "id": "view-in-github",
        "colab_type": "text"
      },
      "source": [
        "<a href=\"https://colab.research.google.com/github/priyanshgupta1998/Machine_learning/blob/master/Glassdoor_Webscraping_Interview.ipynb\" target=\"_parent\"><img src=\"https://colab.research.google.com/assets/colab-badge.svg\" alt=\"Open In Colab\"/></a>"
      ]
    },
    {
      "cell_type": "code",
      "metadata": {
        "id": "Dk_83niUCxgD",
        "colab_type": "code",
        "colab": {}
      },
      "source": [
        ""
      ],
      "execution_count": 0,
      "outputs": []
    },
    {
      "cell_type": "code",
      "metadata": {
        "id": "jp6CFWAXCxkc",
        "colab_type": "code",
        "colab": {}
      },
      "source": [
        ""
      ],
      "execution_count": 0,
      "outputs": []
    },
    {
      "cell_type": "code",
      "metadata": {
        "id": "Gbi0WtKEqGh5",
        "colab_type": "code",
        "colab": {}
      },
      "source": [
        ""
      ],
      "execution_count": 0,
      "outputs": []
    },
    {
      "cell_type": "code",
      "metadata": {
        "id": "43sv-mdgEnR7",
        "colab_type": "code",
        "colab": {}
      },
      "source": [
        ""
      ],
      "execution_count": 0,
      "outputs": []
    },
    {
      "cell_type": "code",
      "metadata": {
        "id": "ukiHJFqLEng5",
        "colab_type": "code",
        "colab": {}
      },
      "source": [
        "!pip install unicodecsv\n",
        "!pip install cssselect"
      ],
      "execution_count": 0,
      "outputs": []
    },
    {
      "cell_type": "code",
      "metadata": {
        "id": "PnML1k07Enkg",
        "colab_type": "code",
        "outputId": "96fd52a1-016f-4486-b144-565f5d62b189",
        "colab": {
          "base_uri": "https://localhost:8080/",
          "height": 623
        }
      },
      "source": [
        "import cssselect\n",
        "from lxml import html, etree\n",
        "import requests\n",
        "import re\n",
        "import os\n",
        "import sys\n",
        "import unicodecsv as csv\n",
        "import argparse\n",
        "import json\n",
        "\n",
        "def parse(keyword):\n",
        "    headers = {\t'accept': 'text/html,application/xhtml+xml,application/xml;q=0.9,image/webp,*/*;q=0.8',\n",
        "\t\t\t\t'accept-encoding': 'gzip, deflate, sdch, br',\n",
        "\t\t\t\t'accept-language': 'en-GB,en-US;q=0.8,en;q=0.6',\n",
        "\t\t\t\t'referer': 'https://www.glassdoor.com/',\n",
        "\t\t\t\t'upgrade-insecure-requests': '1',\n",
        "\t\t\t\t'user-agent': 'Mozilla/5.0 (X11; Linux x86_64) AppleWebKit/537.36 (KHTML, like Gecko) Ubuntu Chromium/51.0.2704.79 Chrome/51.0.2704.79 Safari/537.36',\n",
        "\t\t\t\t'Cache-Control': 'no-cache',\n",
        "\t\t\t\t'Connection': 'keep-alive'\n",
        "\t}\n",
        "    location_headers = {\n",
        "\t\t'accept': 'text/html,application/xhtml+xml,application/xml;q=0.9,image/webp,*/*;q=0.01',\n",
        "\t\t'accept-encoding': 'gzip, deflate, sdch, br',\n",
        "\t\t'accept-language': 'en-GB,en-US;q=0.8,en;q=0.6',\n",
        "\t\t'referer': 'https://www.glassdoor.com/',\n",
        "\t\t'upgrade-insecure-requests': '1',\n",
        "\t\t'user-agent': 'Mozilla/5.0 (X11; Linux x86_64) AppleWebKit/537.36 (KHTML, like Gecko) Ubuntu Chromium/51.0.2704.79 Chrome/51.0.2704.79 Safari/537.36',\n",
        "\t\t'Cache-Control': 'no-cache',\n",
        "\t\t'Connection': 'keep-alive'}\n",
        "    data = {\"term\": \"India\",\n",
        "        \"maxLocationsToReturn\": 10}\n",
        "    location_url = \"https://www.glassdoor.co.in/findPopularLocationAjax.htm?\"\n",
        "    location_response = requests.post(location_url, headers=location_headers, data=data).json()\n",
        "    place_id = location_response[0]['locationId']\n",
        "    print(place_id , location_response)\n",
        "    job_litsting_url = 'https://www.glassdoor.co.in/Interview/india-interview-questions-SRCH_IL.0,5_IN115_KSIE.htm'\n",
        "    data = {\n",
        "        'clickSource': 'searchBtn',\n",
        "        'sc.keyword': keyword,\n",
        "        'locT': 'C',\n",
        "        'locId': place_id,\n",
        "        'jobType': ''\n",
        "    }\n",
        "    job_listings = []\n",
        "    if place_id:\n",
        "        response = requests.post(job_litsting_url, headers=headers, data=data)\n",
        "        parser = html.fromstring(response.text)\n",
        "        print(parser)\n",
        "        XPATH_ALL_Inter = '//div[@class=\"interviewEmployerList\"]'\n",
        "\n",
        "        listings = parser.xpath(XPATH_ALL_Inter)\n",
        "        for t in listings[0]:\n",
        "            print(t.text_content())\n",
        "            \n",
        "            \n",
        "        XPATH_ALL_para = '//p[@class=\"tightVert padBotSm \"]'\n",
        "        listings = parser.xpath(XPATH_ALL_para)\n",
        "        print(listings)\n",
        "        links = []\n",
        "        company=[]\n",
        "        for i in range(len(listings)):\n",
        "            for t in listings[i]:\n",
        "                company.append(t.text_content().split('Interviews')[0])\n",
        "                links.append(t.get('href'))\n",
        "        links_=[]\n",
        "        for i in links:\n",
        "            links_.append('https://www.glassdoor.co.in' + i)\n",
        "            \n",
        "        li = []\n",
        "        for i in links_:\n",
        "            li.append(i.split('-India')[0] + '-Interview-RVW')\n",
        "    return links_ , company\n",
        "            \n",
        "\n",
        "\n",
        "if __name__ == \"__main__\":\n",
        "    links_ ,company= parse(\"\")\n",
        "    \n",
        "company , links_\n"
      ],
      "execution_count": 33,
      "outputs": [
        {
          "output_type": "stream",
          "text": [
            "115 [{'compoundId': 'N115', 'countryName': 'India', 'id': 'N115', 'label': 'India', 'locationId': 115, 'locationType': 'N', 'longName': 'India', 'realId': 115}]\n",
            "<Element html at 0x7fba9cb82d68>\n",
            " Tata Consultancy Services Interviews in India www.tcs.com /  HQ: Mumbai, IN 6,615 Interviews in India (of 7,983) 2.7 Average\n",
            " Infosys Interviews in India www.infosys.com /  HQ: Bengaluru, IN 6,152 Interviews in India (of 7,633) 2.6 Average\n",
            " Accenture Interviews in India www.accenture.com /  HQ: Kronberg im Taunus 4,888 Interviews in India (of 11,976) 2.6 Easy\n",
            " Cognizant Technology Solutions Interviews in India www.cognizant.com /  HQ: Teaneck, NJ 4,734 Interviews in India (of 6,210) 2.7 Average\n",
            " Wipro Interviews in India www.wipro.com /  HQ: Bengaluru, IN 3,550 Interviews in India (of 4,331) 2.8 Average\n",
            " Capgemini Interviews in India www.capgemini.com /  HQ: Paris, FR 2,982 Interviews in India (of 4,305) 2.8 Average\n",
            " Amazon Interviews in India www.amazon.jobs /  HQ: Seattle, WA 2,944 Interviews in India (of 19,863) 3.1 Average\n",
            " Intelligraphics Logo Intelligraphics Interviews in India www.intelligraphics.com /  HQ: Austin, TX 2 Interviews in India (of 4) 3.0 Average\n",
            " IBM Interviews in India www.ibm.com /  HQ: Armonk, NY 2,321 Interviews in India (of 8,296) 2.8 Average\n",
            " Deloitte Interviews in India www.deloitte.com /  HQ: New York, NY 2,213 Interviews in India (of 10,884) 3.0 Average\n",
            "[<Element p at 0x7fba9cb82688>, <Element p at 0x7fba9cb11458>, <Element p at 0x7fba9cb11048>, <Element p at 0x7fba9cb11548>, <Element p at 0x7fba9cb115e8>, <Element p at 0x7fba9cb11728>, <Element p at 0x7fba9cb11cc8>, <Element p at 0x7fba9cb118b8>, <Element p at 0x7fba9ca619f8>, <Element p at 0x7fba9ca61818>]\n"
          ],
          "name": "stdout"
        },
        {
          "output_type": "execute_result",
          "data": {
            "text/plain": [
              "([' Tata Consultancy Services ',\n",
              "  ' Infosys ',\n",
              "  ' Accenture ',\n",
              "  ' Cognizant Technology Solutions ',\n",
              "  ' Wipro ',\n",
              "  ' Capgemini ',\n",
              "  ' Amazon ',\n",
              "  ' Intelligraphics ',\n",
              "  ' IBM ',\n",
              "  ' Deloitte '],\n",
              " ['https://www.glassdoor.co.in/Interview/Tata-Consultancy-Services-India-Interview-Questions-EI_IE13461.0,25_IL.26,31_IN115.htm',\n",
              "  'https://www.glassdoor.co.in/Interview/Infosys-India-Interview-Questions-EI_IE7927.0,7_IL.8,13_IN115.htm',\n",
              "  'https://www.glassdoor.co.in/Interview/Accenture-India-Interview-Questions-EI_IE4138.0,9_IL.10,15_IN115.htm',\n",
              "  'https://www.glassdoor.co.in/Interview/Cognizant-Technology-Solutions-India-Interview-Questions-EI_IE8014.0,30_IL.31,36_IN115.htm',\n",
              "  'https://www.glassdoor.co.in/Interview/Wipro-India-Interview-Questions-EI_IE9936.0,5_IL.6,11_IN115.htm',\n",
              "  'https://www.glassdoor.co.in/Interview/Capgemini-India-Interview-Questions-EI_IE3803.0,9_IL.10,15_IN115.htm',\n",
              "  'https://www.glassdoor.co.in/Interview/Amazon-India-Interview-Questions-EI_IE6036.0,6_IL.7,12_IN115.htm',\n",
              "  'https://www.glassdoor.co.in/Interview/Intelligraphics-India-Interview-Questions-EI_IE269413.0,15_IL.16,21_IN115.htm',\n",
              "  'https://www.glassdoor.co.in/Interview/IBM-India-Interview-Questions-EI_IE354.0,3_IL.4,9_IN115.htm',\n",
              "  'https://www.glassdoor.co.in/Interview/Deloitte-India-Interview-Questions-EI_IE2763.0,8_IL.9,14_IN115.htm'])"
            ]
          },
          "metadata": {
            "tags": []
          },
          "execution_count": 33
        }
      ]
    },
    {
      "cell_type": "code",
      "metadata": {
        "id": "Of_Mu-H0CIYm",
        "colab_type": "code",
        "colab": {}
      },
      "source": [
        ""
      ],
      "execution_count": 0,
      "outputs": []
    },
    {
      "cell_type": "markdown",
      "metadata": {
        "id": "pe0_GpzXC1eJ",
        "colab_type": "text"
      },
      "source": [
        "https://stackoverflow.com/questions/6131089/python-lxml-beautiful-soup-to-find-all-links-on-a-web-page"
      ]
    },
    {
      "cell_type": "code",
      "metadata": {
        "id": "jqUPdqh1UukE",
        "colab_type": "code",
        "colab": {}
      },
      "source": [
        "from lxml.cssselect import CSSSelector\n",
        "import lxml\n",
        "from lxml import html, etree\n",
        "import requests\n",
        "import re\n",
        "import os\n",
        "import sys\n",
        "import unicodecsv as csv\n",
        "import argparse\n",
        "import json\n",
        "total_exp =[]\n",
        "m=0\n",
        "dataframe = pd.DataFrame()\n",
        "for ll in links_:\n",
        "    def parse(keyword):\n",
        "        headers = {\t'accept': 'text/html,application/xhtml+xml,application/xml;q=0.9,image/webp,*/*;q=0.8',\n",
        "                    'accept-encoding': 'gzip, deflate, sdch, br',\n",
        "                    'accept-language': 'en-GB,en-US;q=0.8,en;q=0.6',\n",
        "                    'referer': 'https://www.glassdoor.com/',\n",
        "                    'upgrade-insecure-requests': '1',\n",
        "                    'user-agent': 'Mozilla/5.0 (X11; Linux x86_64) AppleWebKit/537.36 (KHTML, like Gecko) Ubuntu Chromium/51.0.2704.79 Chrome/51.0.2704.79 Safari/537.36',\n",
        "                    'Cache-Control': 'no-cache',\n",
        "                    'Connection': 'keep-alive'\n",
        "        }\n",
        "        location_headers = {\n",
        "            'accept': 'text/html,application/xhtml+xml,application/xml;q=0.9,image/webp,*/*;q=0.01',\n",
        "            'accept-encoding': 'gzip, deflate, sdch, br',\n",
        "            'accept-language': 'en-GB,en-US;q=0.8,en;q=0.6',\n",
        "            'referer': 'https://www.glassdoor.com/',\n",
        "            'upgrade-insecure-requests': '1',\n",
        "            'user-agent': 'Mozilla/5.0 (X11; Linux x86_64) AppleWebKit/537.36 (KHTML, like Gecko) Ubuntu Chromium/51.0.2704.79 Chrome/51.0.2704.79 Safari/537.36',\n",
        "            'Cache-Control': 'no-cache',\n",
        "            'Connection': 'keep-alive'}\n",
        "        data = {\"term\": \"India\",\n",
        "            \"maxLocationsToReturn\": 10}\n",
        "        location_url = \"https://www.glassdoor.co.in/findPopularLocationAjax.htm?\"\n",
        "        location_response = requests.post(location_url, headers=location_headers, data=data).json()\n",
        "        place_id = location_response[0]['locationId']\n",
        "        #print(place_id , location_response)\n",
        "        job_litsting_url =ll\n",
        "        data = {\n",
        "            'clickSource': 'searchBtn',\n",
        "            'sc.keyword': keyword,\n",
        "            'locT': 'C',\n",
        "            'locId': place_id,\n",
        "            'jobType': ''\n",
        "        }\n",
        "        job_listings = []\n",
        "        if place_id:\n",
        "            response = requests.post(job_litsting_url, headers=headers, data=data)\n",
        "            parser = html.fromstring(response.text)\n",
        "            #print(parser)\n",
        "            XPATH_ALL_JOB = '//li[@class=\" empReview cf \"]'\n",
        "            listings = parser.xpath(XPATH_ALL_JOB)\n",
        "            #print(listings)\n",
        "            year = []\n",
        "            experience = []\n",
        "            level =[]\n",
        "            content = []\n",
        "            post = []\n",
        "            place = []\n",
        "            for t in listings:\n",
        "                if(len(t.text_content())>100):\n",
        "                    #print(t.text_content())\n",
        "                    year.append('-'.join(t.text_content().split()[:3]))\n",
        "                    exp = t.text_content().split('Offer')[1].split('Experience')[0]\n",
        "                    if exp in ['Positive ' ,'Neutral ' ,'Negative ']:\n",
        "                        experience.append(exp +'Experience')\n",
        "                    else:\n",
        "                        experience.append('NULL')\n",
        "                    lev = t.text_content().split('Offer')[1].split('Interview')[0].split()\n",
        "                    #print(lev)\n",
        "                    if(len(lev)>1):\n",
        "                        level.append(lev[1].split('Experience')[1])\n",
        "                    elif(len(lev)>0):\n",
        "                        level.append(lev[0])\n",
        "                    else:\n",
        "                        level.append('NULL')\n",
        "\n",
        "                    con = t.text_content().split('Application')\n",
        "                    if(len(con)>1):\n",
        "                        content.append(con[1].split('Interview Questions')[0])\n",
        "                    else:\n",
        "                        content.append('NULL')\n",
        "                    post.append(t.text_content().split('Interview Anonymous')[0].split('\\xa0')[1])\n",
        "                    plac = '-'.join(t.text_content().split('Interview Anonymous')[1].split('in')[1].split()[0:2])\n",
        "                    for k in ['Accepted' ,'No','Decl']:\n",
        "                        plac_ = plac.split(k)\n",
        "                        if(len(plac_)>1):\n",
        "                            break\n",
        "                    if(plac_[0]!=plac):\n",
        "                        place.append(plac_[0])\n",
        "                    else:\n",
        "                        place.append('NULL')\n",
        "                    #print(t.text_content().split('Application'))\n",
        "                    #print(t.text_content().split(' Anonymous ')[0])\n",
        "                    #company_name = '//div[@class=\"condensed showHH\"]'\n",
        "            content_link =[]\n",
        "            experience_id = []\n",
        "            dom =  lxml.html.fromstring(response.text)\n",
        "            selAnchor = CSSSelector('a')\n",
        "            foundElements = selAnchor(dom)\n",
        "            lj = [e.get('href') for e in foundElements]\n",
        "            for i in lj:\n",
        "                if(li[m] in str(i)):\n",
        "                    content_link.append(i)\n",
        "                    experience_id.append(str(i).split('-')[-1].split('.')[0])\n",
        "    #         comp = parser.xpath(company_name)\n",
        "    #         #print(comp)\n",
        "    #         company = []\n",
        "    #         for t in comp[0]:\n",
        "    #             for i in range(10):\n",
        "    #                 company.append(t.text_content().split(' ')[0])\n",
        "        return year , experience , level , content ,place , post,content_link ,experience_id\n",
        "\n",
        "\n",
        "\n",
        "    if __name__ == \"__main__\":\n",
        "        year , experience , level , content ,place , post,content_link ,experience_id = parse(\"\")\n",
        "        print(year)\n",
        "        total_exp.append(experience_id)\n",
        "        df = pd.DataFrame()\n",
        "        comp =[]\n",
        "        for i in range(10):\n",
        "            comp.append(company[m])\n",
        "        df['Experience_Id'] = experience_id\n",
        "        df['Company_Name'] = comp\n",
        "        df['Interview_Year '] = year\n",
        "        df['Post'] = post\n",
        "        df['Level'] =level\n",
        "        df['Interview_Experience'] = experience\n",
        "        df['Content'] = content\n",
        "        df['Location_Name'] = place\n",
        "        df['Content_link'] = content_link\n",
        "        dataframe = pd.concat([dataframe ,df ] ,ignore_index=True)\n",
        "    m+=1\n",
        "print(dataframe.shape)\n",
        "dataframe.head()"
      ],
      "execution_count": 0,
      "outputs": []
    },
    {
      "cell_type": "code",
      "metadata": {
        "id": "hWdlHIeIUug9",
        "colab_type": "code",
        "colab": {}
      },
      "source": [
        "\n",
        "m=0\n",
        "question = []\n",
        "for ll in links_:\n",
        "    def parse(keyword):\n",
        "        headers = {\t'accept': 'text/html,application/xhtml+xml,application/xml;q=0.9,image/webp,*/*;q=0.8',\n",
        "                    'accept-encoding': 'gzip, deflate, sdch, br',\n",
        "                    'accept-language': 'en-GB,en-US;q=0.8,en;q=0.6',\n",
        "                    'referer': 'https://www.glassdoor.com/',\n",
        "                    'upgrade-insecure-requests': '1',\n",
        "                    'user-agent': 'Mozilla/5.0 (X11; Linux x86_64) AppleWebKit/537.36 (KHTML, like Gecko) Ubuntu Chromium/51.0.2704.79 Chrome/51.0.2704.79 Safari/537.36',\n",
        "                    'Cache-Control': 'no-cache',\n",
        "                    'Connection': 'keep-alive'\n",
        "        }\n",
        "        location_headers = {\n",
        "            'accept': 'text/html,application/xhtml+xml,application/xml;q=0.9,image/webp,*/*;q=0.01',\n",
        "            'accept-encoding': 'gzip, deflate, sdch, br',\n",
        "            'accept-language': 'en-GB,en-US;q=0.8,en;q=0.6',\n",
        "            'referer': 'https://www.glassdoor.com/',\n",
        "            'upgrade-insecure-requests': '1',\n",
        "            'user-agent': 'Mozilla/5.0 (X11; Linux x86_64) AppleWebKit/537.36 (KHTML, like Gecko) Ubuntu Chromium/51.0.2704.79 Chrome/51.0.2704.79 Safari/537.36',\n",
        "            'Cache-Control': 'no-cache',\n",
        "            'Connection': 'keep-alive'}\n",
        "        data = {\"term\": \"India\",\n",
        "            \"maxLocationsToReturn\": 10}\n",
        "        location_url = \"https://www.glassdoor.co.in/findPopularLocationAjax.htm?\"\n",
        "        location_response = requests.post(location_url, headers=location_headers, data=data).json()\n",
        "        place_id = location_response[0]['locationId']\n",
        "        #print(place_id , location_response)\n",
        "        job_litsting_url =ll\n",
        "        data = {\n",
        "            'clickSource': 'searchBtn',\n",
        "            'sc.keyword': keyword,\n",
        "            'locT': 'C',\n",
        "            'locId': place_id,\n",
        "            'jobType': ''\n",
        "        }\n",
        "        job_listings = []\n",
        "        if place_id:\n",
        "            response = requests.post(job_litsting_url, headers=headers, data=data)\n",
        "            parser = html.fromstring(response.text)\n",
        "            #print(parser)\n",
        "            XPATH_ALL_JOB = '//li[@class=\" empReview cf \"]'\n",
        "            listings = parser.xpath(XPATH_ALL_JOB)\n",
        "            #print(listings)\n",
        "            quest =[]\n",
        "            for t in listings:\n",
        "                \n",
        "                if(len(t.text_content())>100):\n",
        "                    op = t.text_content().split('Interview Questions')\n",
        "                    \n",
        "                    if(len(op)>1):\n",
        "                        step1 = op[1].split('Answer')[0]\n",
        "                        step1 = step1.strip().replace(';', '?')\n",
        "                        step1 = step1.strip().replace('.', '?')\n",
        "                        liss = step1.split('?')\n",
        "                        new_liss = []\n",
        "                        for i in liss:\n",
        "                            j=i.split('\\xa0')[0]\n",
        "                            if(len(j)>4):\n",
        "                                new_liss.append(j)\n",
        "                        quest.append(new_liss)\n",
        "                    else:\n",
        "                        quest.append(['NULL'])\n",
        "        return quest \n",
        "\n",
        "\n",
        "\n",
        "    if __name__ == \"__main__\":\n",
        "        quest = parse(\"\")\n",
        "        print(len(quest) , quest)\n",
        "        question.append(quest)\n",
        "        \n",
        "ids=[]\n",
        "questions=[]\n",
        "for i in range(10):\n",
        "    for j in range(10):\n",
        "        #print(total_exp[i][j] , question[i][j])\n",
        "        if(len(question[i][j])>1):\n",
        "            for k in range(len(question[i][j])):\n",
        "                #print(total_exp[i][j] , question[i][j][k])\n",
        "                ids.append(total_exp[i][j])\n",
        "                questions.append(question[i][j][k]+ '?')\n",
        "                \n",
        "                \n",
        "        else:\n",
        "            #print(total_exp[i][j] , question[i][j][0])\n",
        "            ids.append(total_exp[i][j])\n",
        "            if(question[i][j][0] !='NULL'):\n",
        "                questions.append(question[i][j][0] +'?')\n",
        "            else:\n",
        "                questions.append(question[i][j][0])\n",
        "df = pd.DataFrame()\n",
        "df['Experience_Id'] = ids\n",
        "df['Questions'] = questions\n",
        "print(df.shape)\n",
        "df.head(20)\n"
      ],
      "execution_count": 0,
      "outputs": []
    },
    {
      "cell_type": "code",
      "metadata": {
        "id": "AkvBVA8xUuc9",
        "colab_type": "code",
        "colab": {}
      },
      "source": [
        "df.to_csv('Question.csv' , index=False)\n",
        "dataframe.to_csv('Interview_list.csv' , index=False)"
      ],
      "execution_count": 0,
      "outputs": []
    },
    {
      "cell_type": "code",
      "metadata": {
        "id": "vtXMZjDyUuXw",
        "colab_type": "code",
        "colab": {}
      },
      "source": [
        ""
      ],
      "execution_count": 0,
      "outputs": []
    },
    {
      "cell_type": "code",
      "metadata": {
        "id": "SSz1Wp3tUuTZ",
        "colab_type": "code",
        "colab": {}
      },
      "source": [
        ""
      ],
      "execution_count": 0,
      "outputs": []
    },
    {
      "cell_type": "code",
      "metadata": {
        "id": "IGa5zCvbrsSU",
        "colab_type": "code",
        "colab": {}
      },
      "source": [
        ""
      ],
      "execution_count": 0,
      "outputs": []
    },
    {
      "cell_type": "code",
      "metadata": {
        "id": "eCCBnw7zorYz",
        "colab_type": "code",
        "colab": {}
      },
      "source": [
        ""
      ],
      "execution_count": 0,
      "outputs": []
    },
    {
      "cell_type": "code",
      "metadata": {
        "id": "7AfyJRZHorUn",
        "colab_type": "code",
        "colab": {}
      },
      "source": [
        ""
      ],
      "execution_count": 0,
      "outputs": []
    },
    {
      "cell_type": "code",
      "metadata": {
        "id": "ED2-S9FporM8",
        "colab_type": "code",
        "colab": {}
      },
      "source": [
        ""
      ],
      "execution_count": 0,
      "outputs": []
    },
    {
      "cell_type": "code",
      "metadata": {
        "id": "XxzdMQDBorIi",
        "colab_type": "code",
        "colab": {}
      },
      "source": [
        ""
      ],
      "execution_count": 0,
      "outputs": []
    },
    {
      "cell_type": "code",
      "metadata": {
        "id": "tWWjocrdorC2",
        "colab_type": "code",
        "colab": {}
      },
      "source": [
        ""
      ],
      "execution_count": 0,
      "outputs": []
    },
    {
      "cell_type": "code",
      "metadata": {
        "id": "XkjjchCOZve3",
        "colab_type": "code",
        "colab": {}
      },
      "source": [
        ""
      ],
      "execution_count": 0,
      "outputs": []
    },
    {
      "cell_type": "code",
      "metadata": {
        "id": "y9LDa-xYYTZF",
        "colab_type": "code",
        "colab": {}
      },
      "source": [
        ""
      ],
      "execution_count": 0,
      "outputs": []
    },
    {
      "cell_type": "code",
      "metadata": {
        "id": "6qqPObN-aATs",
        "colab_type": "code",
        "colab": {}
      },
      "source": [
        ""
      ],
      "execution_count": 0,
      "outputs": []
    },
    {
      "cell_type": "code",
      "metadata": {
        "id": "KiiR0RhmaAOg",
        "colab_type": "code",
        "colab": {}
      },
      "source": [
        ""
      ],
      "execution_count": 0,
      "outputs": []
    },
    {
      "cell_type": "code",
      "metadata": {
        "id": "-Ux6bNB7aAJ4",
        "colab_type": "code",
        "colab": {}
      },
      "source": [
        ""
      ],
      "execution_count": 0,
      "outputs": []
    },
    {
      "cell_type": "code",
      "metadata": {
        "id": "bIvrr1s-aAFt",
        "colab_type": "code",
        "colab": {}
      },
      "source": [
        ""
      ],
      "execution_count": 0,
      "outputs": []
    },
    {
      "cell_type": "code",
      "metadata": {
        "id": "Ve2Eqrz7aABA",
        "colab_type": "code",
        "colab": {}
      },
      "source": [
        ""
      ],
      "execution_count": 0,
      "outputs": []
    },
    {
      "cell_type": "code",
      "metadata": {
        "id": "sqv6a33fZ_7G",
        "colab_type": "code",
        "colab": {}
      },
      "source": [
        ""
      ],
      "execution_count": 0,
      "outputs": []
    },
    {
      "cell_type": "code",
      "metadata": {
        "id": "Z7DyPAIjZvYp",
        "colab_type": "code",
        "colab": {}
      },
      "source": [
        ""
      ],
      "execution_count": 0,
      "outputs": []
    },
    {
      "cell_type": "code",
      "metadata": {
        "id": "giU1Jc8PwAQT",
        "colab_type": "code",
        "colab": {}
      },
      "source": [
        ""
      ],
      "execution_count": 0,
      "outputs": []
    },
    {
      "cell_type": "code",
      "metadata": {
        "id": "PfKLW2k0wALt",
        "colab_type": "code",
        "colab": {}
      },
      "source": [
        ""
      ],
      "execution_count": 0,
      "outputs": []
    },
    {
      "cell_type": "code",
      "metadata": {
        "id": "tVvyE006wAGk",
        "colab_type": "code",
        "colab": {}
      },
      "source": [
        ""
      ],
      "execution_count": 0,
      "outputs": []
    },
    {
      "cell_type": "code",
      "metadata": {
        "id": "7q4abEp_wACD",
        "colab_type": "code",
        "colab": {}
      },
      "source": [
        ""
      ],
      "execution_count": 0,
      "outputs": []
    },
    {
      "cell_type": "code",
      "metadata": {
        "id": "Ry90k1Wdv_8h",
        "colab_type": "code",
        "colab": {}
      },
      "source": [
        ""
      ],
      "execution_count": 0,
      "outputs": []
    },
    {
      "cell_type": "code",
      "metadata": {
        "id": "CEuAEigMv_37",
        "colab_type": "code",
        "colab": {}
      },
      "source": [
        ""
      ],
      "execution_count": 0,
      "outputs": []
    },
    {
      "cell_type": "code",
      "metadata": {
        "id": "Dw5cp92nZvQK",
        "colab_type": "code",
        "colab": {}
      },
      "source": [
        ""
      ],
      "execution_count": 0,
      "outputs": []
    },
    {
      "cell_type": "code",
      "metadata": {
        "id": "oYWD9GZsZvM0",
        "colab_type": "code",
        "colab": {}
      },
      "source": [
        ""
      ],
      "execution_count": 0,
      "outputs": []
    },
    {
      "cell_type": "code",
      "metadata": {
        "id": "hXAMjnlcZvIV",
        "colab_type": "code",
        "colab": {}
      },
      "source": [
        ""
      ],
      "execution_count": 0,
      "outputs": []
    },
    {
      "cell_type": "code",
      "metadata": {
        "id": "JQe3v7UbZvEp",
        "colab_type": "code",
        "colab": {}
      },
      "source": [
        ""
      ],
      "execution_count": 0,
      "outputs": []
    },
    {
      "cell_type": "code",
      "metadata": {
        "id": "8g-JV5kFZvA8",
        "colab_type": "code",
        "colab": {}
      },
      "source": [
        ""
      ],
      "execution_count": 0,
      "outputs": []
    },
    {
      "cell_type": "code",
      "metadata": {
        "id": "_S6rZnGBZu8n",
        "colab_type": "code",
        "colab": {}
      },
      "source": [
        ""
      ],
      "execution_count": 0,
      "outputs": []
    },
    {
      "cell_type": "code",
      "metadata": {
        "id": "nczehJL3Zu4a",
        "colab_type": "code",
        "colab": {}
      },
      "source": [
        ""
      ],
      "execution_count": 0,
      "outputs": []
    },
    {
      "cell_type": "code",
      "metadata": {
        "id": "t-17bhW6Zuza",
        "colab_type": "code",
        "colab": {}
      },
      "source": [
        ""
      ],
      "execution_count": 0,
      "outputs": []
    },
    {
      "cell_type": "code",
      "metadata": {
        "id": "hRtMP8LFZuvN",
        "colab_type": "code",
        "colab": {}
      },
      "source": [
        ""
      ],
      "execution_count": 0,
      "outputs": []
    },
    {
      "cell_type": "code",
      "metadata": {
        "id": "RBQ-c7OqEn6p",
        "colab_type": "code",
        "colab": {}
      },
      "source": [
        ""
      ],
      "execution_count": 0,
      "outputs": []
    },
    {
      "cell_type": "code",
      "metadata": {
        "id": "iMOgBcDFQl0q",
        "colab_type": "code",
        "colab": {}
      },
      "source": [
        ""
      ],
      "execution_count": 0,
      "outputs": []
    },
    {
      "cell_type": "code",
      "metadata": {
        "id": "P01Gog9qQlv1",
        "colab_type": "code",
        "colab": {}
      },
      "source": [
        ""
      ],
      "execution_count": 0,
      "outputs": []
    },
    {
      "cell_type": "code",
      "metadata": {
        "id": "JNjvCTcAQlrs",
        "colab_type": "code",
        "colab": {}
      },
      "source": [
        ""
      ],
      "execution_count": 0,
      "outputs": []
    },
    {
      "cell_type": "code",
      "metadata": {
        "id": "IK7GR29_Qlnj",
        "colab_type": "code",
        "colab": {}
      },
      "source": [
        ""
      ],
      "execution_count": 0,
      "outputs": []
    },
    {
      "cell_type": "code",
      "metadata": {
        "id": "TlYM7RsDQlf7",
        "colab_type": "code",
        "outputId": "19ec5286-6bf0-4a5d-cad4-fa43c2c145d9",
        "colab": {
          "base_uri": "https://localhost:8080/",
          "height": 31
        }
      },
      "source": [
        ""
      ],
      "execution_count": 0,
      "outputs": [
        {
          "output_type": "execute_result",
          "data": {
            "text/html": [
              "<div>\n",
              "<style scoped>\n",
              "    .dataframe tbody tr th:only-of-type {\n",
              "        vertical-align: middle;\n",
              "    }\n",
              "\n",
              "    .dataframe tbody tr th {\n",
              "        vertical-align: top;\n",
              "    }\n",
              "\n",
              "    .dataframe thead th {\n",
              "        text-align: right;\n",
              "    }\n",
              "</style>\n",
              "<table border=\"1\" class=\"dataframe\">\n",
              "  <thead>\n",
              "    <tr style=\"text-align: right;\">\n",
              "      <th></th>\n",
              "    </tr>\n",
              "  </thead>\n",
              "  <tbody>\n",
              "  </tbody>\n",
              "</table>\n",
              "</div>"
            ],
            "text/plain": [
              "Empty DataFrame\n",
              "Columns: []\n",
              "Index: []"
            ]
          },
          "metadata": {
            "tags": []
          },
          "execution_count": 409
        }
      ]
    },
    {
      "cell_type": "code",
      "metadata": {
        "id": "ufwF9zJzQlXr",
        "colab_type": "code",
        "colab": {}
      },
      "source": [
        ""
      ],
      "execution_count": 0,
      "outputs": []
    },
    {
      "cell_type": "code",
      "metadata": {
        "id": "Xw8q9tyJQlTM",
        "colab_type": "code",
        "colab": {}
      },
      "source": [
        ""
      ],
      "execution_count": 0,
      "outputs": []
    },
    {
      "cell_type": "code",
      "metadata": {
        "id": "mQu6I9GyEnw0",
        "colab_type": "code",
        "colab": {}
      },
      "source": [
        ""
      ],
      "execution_count": 0,
      "outputs": []
    },
    {
      "cell_type": "code",
      "metadata": {
        "id": "UOjQhLyqEnrA",
        "colab_type": "code",
        "colab": {}
      },
      "source": [
        ""
      ],
      "execution_count": 0,
      "outputs": []
    },
    {
      "cell_type": "code",
      "metadata": {
        "id": "amra3g7iEnoq",
        "colab_type": "code",
        "colab": {}
      },
      "source": [
        ""
      ],
      "execution_count": 0,
      "outputs": []
    },
    {
      "cell_type": "code",
      "metadata": {
        "id": "_TVfsXqfEneq",
        "colab_type": "code",
        "colab": {}
      },
      "source": [
        ""
      ],
      "execution_count": 0,
      "outputs": []
    },
    {
      "cell_type": "code",
      "metadata": {
        "id": "WixLeS0_EnZ-",
        "colab_type": "code",
        "colab": {}
      },
      "source": [
        ""
      ],
      "execution_count": 0,
      "outputs": []
    },
    {
      "cell_type": "code",
      "metadata": {
        "id": "uIHJu4C4EnX_",
        "colab_type": "code",
        "colab": {}
      },
      "source": [
        ""
      ],
      "execution_count": 0,
      "outputs": []
    },
    {
      "cell_type": "code",
      "metadata": {
        "id": "4Sq0aTuoEnVJ",
        "colab_type": "code",
        "colab": {}
      },
      "source": [
        ""
      ],
      "execution_count": 0,
      "outputs": []
    },
    {
      "cell_type": "code",
      "metadata": {
        "id": "PT21WGSezGuJ",
        "colab_type": "code",
        "colab": {}
      },
      "source": [
        ""
      ],
      "execution_count": 0,
      "outputs": []
    },
    {
      "cell_type": "code",
      "metadata": {
        "id": "_9yftYqd1Ccr",
        "colab_type": "code",
        "colab": {}
      },
      "source": [
        ""
      ],
      "execution_count": 0,
      "outputs": []
    },
    {
      "cell_type": "code",
      "metadata": {
        "id": "Mk9VcknJ1ChN",
        "colab_type": "code",
        "outputId": "b22be62b-b7f3-490b-b1ec-068e262ccd1b",
        "colab": {
          "base_uri": "https://localhost:8080/",
          "height": 34
        }
      },
      "source": [
        ""
      ],
      "execution_count": 0,
      "outputs": [
        {
          "output_type": "execute_result",
          "data": {
            "text/plain": [
              "[]"
            ]
          },
          "metadata": {
            "tags": []
          },
          "execution_count": 414
        }
      ]
    },
    {
      "cell_type": "code",
      "metadata": {
        "id": "eqw4IhFi1Cqy",
        "colab_type": "code",
        "colab": {}
      },
      "source": [
        ""
      ],
      "execution_count": 0,
      "outputs": []
    },
    {
      "cell_type": "code",
      "metadata": {
        "id": "3ALu-4nH1C0Z",
        "colab_type": "code",
        "colab": {}
      },
      "source": [
        ""
      ],
      "execution_count": 0,
      "outputs": []
    },
    {
      "cell_type": "code",
      "metadata": {
        "id": "bLEX69Ls1C5n",
        "colab_type": "code",
        "colab": {}
      },
      "source": [
        ""
      ],
      "execution_count": 0,
      "outputs": []
    },
    {
      "cell_type": "code",
      "metadata": {
        "id": "LTEuYhK01DHT",
        "colab_type": "code",
        "colab": {}
      },
      "source": [
        ""
      ],
      "execution_count": 0,
      "outputs": []
    },
    {
      "cell_type": "code",
      "metadata": {
        "id": "KU0e6Qzn1DDo",
        "colab_type": "code",
        "colab": {}
      },
      "source": [
        ""
      ],
      "execution_count": 0,
      "outputs": []
    },
    {
      "cell_type": "code",
      "metadata": {
        "id": "h4RLvunH1CwF",
        "colab_type": "code",
        "colab": {}
      },
      "source": [
        ""
      ],
      "execution_count": 0,
      "outputs": []
    },
    {
      "cell_type": "code",
      "metadata": {
        "id": "BM6m-YxB1CnO",
        "colab_type": "code",
        "colab": {}
      },
      "source": [
        ""
      ],
      "execution_count": 0,
      "outputs": []
    },
    {
      "cell_type": "code",
      "metadata": {
        "id": "AKhhaa-61CZZ",
        "colab_type": "code",
        "colab": {}
      },
      "source": [
        ""
      ],
      "execution_count": 0,
      "outputs": []
    },
    {
      "cell_type": "code",
      "metadata": {
        "id": "8mtDTVXmzGqq",
        "colab_type": "code",
        "colab": {}
      },
      "source": [
        ""
      ],
      "execution_count": 0,
      "outputs": []
    },
    {
      "cell_type": "code",
      "metadata": {
        "id": "WcAowzgSeVQu",
        "colab_type": "code",
        "colab": {}
      },
      "source": [
        ""
      ],
      "execution_count": 0,
      "outputs": []
    },
    {
      "cell_type": "code",
      "metadata": {
        "id": "q2pyuw5pJ63H",
        "colab_type": "code",
        "colab": {}
      },
      "source": [
        ""
      ],
      "execution_count": 0,
      "outputs": []
    },
    {
      "cell_type": "code",
      "metadata": {
        "id": "J3Jan0ZDGz3y",
        "colab_type": "code",
        "colab": {}
      },
      "source": [
        ""
      ],
      "execution_count": 0,
      "outputs": []
    },
    {
      "cell_type": "code",
      "metadata": {
        "id": "Ku1uSf7M-_6_",
        "colab_type": "code",
        "colab": {}
      },
      "source": [
        ""
      ],
      "execution_count": 0,
      "outputs": []
    },
    {
      "cell_type": "code",
      "metadata": {
        "id": "HrBzkPlKeVMS",
        "colab_type": "code",
        "colab": {}
      },
      "source": [
        ""
      ],
      "execution_count": 0,
      "outputs": []
    },
    {
      "cell_type": "code",
      "metadata": {
        "id": "G0nnG6XYPCAs",
        "colab_type": "code",
        "colab": {}
      },
      "source": [
        ""
      ],
      "execution_count": 0,
      "outputs": []
    }
  ]
}