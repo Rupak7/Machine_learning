{
  "nbformat": 4,
  "nbformat_minor": 0,
  "metadata": {
    "colab": {
      "name": "TensorFlow with GPU",
      "version": "0.3.2",
      "provenance": [],
      "collapsed_sections": [],
      "include_colab_link": true
    },
    "kernelspec": {
      "name": "python3",
      "display_name": "Python 3"
    },
    "accelerator": "GPU"
  },
  "cells": [
    {
      "cell_type": "markdown",
      "metadata": {
        "id": "view-in-github",
        "colab_type": "text"
      },
      "source": [
        "<a href=\"https://colab.research.google.com/github/priyanshgupta1998/Machine_learning/blob/master/keras_vggmodel.ipynb\" target=\"_parent\"><img src=\"https://colab.research.google.com/assets/colab-badge.svg\" alt=\"Open In Colab\"/></a>"
      ]
    },
    {
      "cell_type": "code",
      "metadata": {
        "id": "mUecGm0uuIZy",
        "colab_type": "code",
        "colab": {}
      },
      "source": [
        ""
      ],
      "execution_count": 0,
      "outputs": []
    },
    {
      "cell_type": "code",
      "metadata": {
        "id": "iYmXiUpEuIV3",
        "colab_type": "code",
        "colab": {
          "base_uri": "https://localhost:8080/",
          "height": 122
        },
        "outputId": "93a70a0b-48b8-402f-9b5d-0378eaf7f691"
      },
      "source": [
        "#Mount the drive in the google colab \n",
        "\n",
        "import zipfile\n",
        "from google.colab import drive\n",
        "\n",
        "drive.mount('/content/drive/')\n"
      ],
      "execution_count": 1,
      "outputs": [
        {
          "output_type": "stream",
          "text": [
            "Go to this URL in a browser: https://accounts.google.com/o/oauth2/auth?client_id=947318989803-6bn6qk8qdgf4n4g3pfee6491hc0brc4i.apps.googleusercontent.com&redirect_uri=urn%3Aietf%3Awg%3Aoauth%3A2.0%3Aoob&scope=email%20https%3A%2F%2Fwww.googleapis.com%2Fauth%2Fdocs.test%20https%3A%2F%2Fwww.googleapis.com%2Fauth%2Fdrive%20https%3A%2F%2Fwww.googleapis.com%2Fauth%2Fdrive.photos.readonly%20https%3A%2F%2Fwww.googleapis.com%2Fauth%2Fpeopleapi.readonly&response_type=code\n",
            "\n",
            "Enter your authorization code:\n",
            "··········\n",
            "Mounted at /content/drive/\n"
          ],
          "name": "stdout"
        }
      ]
    },
    {
      "cell_type": "code",
      "metadata": {
        "id": "V8e0fE_wuIUU",
        "colab_type": "code",
        "colab": {}
      },
      "source": [
        "## import libaries\n",
        "import pandas as pd\n",
        "import numpy as np\n",
        "import cv2\n",
        "import os, sys\n",
        "from tqdm import tqdm"
      ],
      "execution_count": 0,
      "outputs": []
    },
    {
      "cell_type": "code",
      "metadata": {
        "id": "u_lfWLvGuIPR",
        "colab_type": "code",
        "colab": {
          "base_uri": "https://localhost:8080/",
          "height": 221
        },
        "outputId": "4ad24950-7e70-48d7-bf09-f3aee9162228"
      },
      "source": [
        "## load data\n",
        "train = pd.read_csv('/content/drive/My Drive/DATASETS/Image_classification_hacker_earth_challenge/train.csv')\n",
        "print(train.shape)\n",
        "train.head()"
      ],
      "execution_count": 3,
      "outputs": [
        {
          "output_type": "stream",
          "text": [
            "(3215, 2)\n"
          ],
          "name": "stdout"
        },
        {
          "output_type": "execute_result",
          "data": {
            "text/html": [
              "<div>\n",
              "<style scoped>\n",
              "    .dataframe tbody tr th:only-of-type {\n",
              "        vertical-align: middle;\n",
              "    }\n",
              "\n",
              "    .dataframe tbody tr th {\n",
              "        vertical-align: top;\n",
              "    }\n",
              "\n",
              "    .dataframe thead th {\n",
              "        text-align: right;\n",
              "    }\n",
              "</style>\n",
              "<table border=\"1\" class=\"dataframe\">\n",
              "  <thead>\n",
              "    <tr style=\"text-align: right;\">\n",
              "      <th></th>\n",
              "      <th>image_id</th>\n",
              "      <th>label</th>\n",
              "    </tr>\n",
              "  </thead>\n",
              "  <tbody>\n",
              "    <tr>\n",
              "      <th>0</th>\n",
              "      <td>train_1a</td>\n",
              "      <td>rice</td>\n",
              "    </tr>\n",
              "    <tr>\n",
              "      <th>1</th>\n",
              "      <td>train_1b</td>\n",
              "      <td>candy</td>\n",
              "    </tr>\n",
              "    <tr>\n",
              "      <th>2</th>\n",
              "      <td>train_1c</td>\n",
              "      <td>jam</td>\n",
              "    </tr>\n",
              "    <tr>\n",
              "      <th>3</th>\n",
              "      <td>train_1d</td>\n",
              "      <td>coffee</td>\n",
              "    </tr>\n",
              "    <tr>\n",
              "      <th>4</th>\n",
              "      <td>train_2a</td>\n",
              "      <td>vinegar</td>\n",
              "    </tr>\n",
              "  </tbody>\n",
              "</table>\n",
              "</div>"
            ],
            "text/plain": [
              "   image_id    label\n",
              "0  train_1a     rice\n",
              "1  train_1b    candy\n",
              "2  train_1c      jam\n",
              "3  train_1d   coffee\n",
              "4  train_2a  vinegar"
            ]
          },
          "metadata": {
            "tags": []
          },
          "execution_count": 3
        }
      ]
    },
    {
      "cell_type": "code",
      "metadata": {
        "id": "34et869XuIMA",
        "colab_type": "code",
        "colab": {
          "base_uri": "https://localhost:8080/",
          "height": 136
        },
        "outputId": "901db936-70c4-462a-f293-9150c49cc288"
      },
      "source": [
        "train.info()"
      ],
      "execution_count": 4,
      "outputs": [
        {
          "output_type": "stream",
          "text": [
            "<class 'pandas.core.frame.DataFrame'>\n",
            "RangeIndex: 3215 entries, 0 to 3214\n",
            "Data columns (total 2 columns):\n",
            "image_id    3215 non-null object\n",
            "label       3215 non-null object\n",
            "dtypes: object(2)\n",
            "memory usage: 50.3+ KB\n"
          ],
          "name": "stdout"
        }
      ]
    },
    {
      "cell_type": "code",
      "metadata": {
        "id": "EBXII7ccuIJ0",
        "colab_type": "code",
        "colab": {}
      },
      "source": [
        ""
      ],
      "execution_count": 0,
      "outputs": []
    },
    {
      "cell_type": "code",
      "metadata": {
        "id": "0CduVDTmuIGy",
        "colab_type": "code",
        "colab": {
          "base_uri": "https://localhost:8080/",
          "height": 221
        },
        "outputId": "6e02b8d8-3f9b-433f-8e63-5bed072ea087"
      },
      "source": [
        "test = pd.read_csv('/content/drive/My Drive/DATASETS/Image_classification_hacker_earth_challenge/test.csv')\n",
        "print(test.shape)\n",
        "test.head()"
      ],
      "execution_count": 5,
      "outputs": [
        {
          "output_type": "stream",
          "text": [
            "(1732, 1)\n"
          ],
          "name": "stdout"
        },
        {
          "output_type": "execute_result",
          "data": {
            "text/html": [
              "<div>\n",
              "<style scoped>\n",
              "    .dataframe tbody tr th:only-of-type {\n",
              "        vertical-align: middle;\n",
              "    }\n",
              "\n",
              "    .dataframe tbody tr th {\n",
              "        vertical-align: top;\n",
              "    }\n",
              "\n",
              "    .dataframe thead th {\n",
              "        text-align: right;\n",
              "    }\n",
              "</style>\n",
              "<table border=\"1\" class=\"dataframe\">\n",
              "  <thead>\n",
              "    <tr style=\"text-align: right;\">\n",
              "      <th></th>\n",
              "      <th>image_id</th>\n",
              "    </tr>\n",
              "  </thead>\n",
              "  <tbody>\n",
              "    <tr>\n",
              "      <th>0</th>\n",
              "      <td>test_1000a</td>\n",
              "    </tr>\n",
              "    <tr>\n",
              "      <th>1</th>\n",
              "      <td>test_1000b</td>\n",
              "    </tr>\n",
              "    <tr>\n",
              "      <th>2</th>\n",
              "      <td>test_1000c</td>\n",
              "    </tr>\n",
              "    <tr>\n",
              "      <th>3</th>\n",
              "      <td>test_1000d</td>\n",
              "    </tr>\n",
              "    <tr>\n",
              "      <th>4</th>\n",
              "      <td>test_1001a</td>\n",
              "    </tr>\n",
              "  </tbody>\n",
              "</table>\n",
              "</div>"
            ],
            "text/plain": [
              "     image_id\n",
              "0  test_1000a\n",
              "1  test_1000b\n",
              "2  test_1000c\n",
              "3  test_1000d\n",
              "4  test_1001a"
            ]
          },
          "metadata": {
            "tags": []
          },
          "execution_count": 5
        }
      ]
    },
    {
      "cell_type": "code",
      "metadata": {
        "id": "0wqX32OluIFA",
        "colab_type": "code",
        "colab": {}
      },
      "source": [
        "# function to read image\n",
        "def read_img(img_path):\n",
        "    img = cv2.imread(img_path, cv2.IMREAD_COLOR)\n",
        "    img = cv2.resize(img, (256,256))\n",
        "    return img"
      ],
      "execution_count": 0,
      "outputs": []
    },
    {
      "cell_type": "code",
      "metadata": {
        "id": "SzJMdI07uIBO",
        "colab_type": "code",
        "colab": {}
      },
      "source": [
        "## set path for images\n",
        "TRAIN_PATH = '/home/train_img/'\n",
        "TEST_PATH = '/home/test_img/'"
      ],
      "execution_count": 0,
      "outputs": []
    },
    {
      "cell_type": "code",
      "metadata": {
        "id": "OEqy7_oevHy5",
        "colab_type": "code",
        "colab": {}
      },
      "source": [
        "\n",
        "# FOR TRAIN DATASET \n",
        "zip_ref = zipfile.ZipFile(\"/content/drive/My Drive/DATASETS/Image_classification_hacker_earth_challenge/train_img.zip\", 'r')\n",
        "zip_ref.extractall(\"/home\")\n",
        "zip_ref.close()"
      ],
      "execution_count": 0,
      "outputs": []
    },
    {
      "cell_type": "code",
      "metadata": {
        "id": "qb1KIcxSvMX8",
        "colab_type": "code",
        "colab": {}
      },
      "source": [
        "\n",
        "# FOR TRAIN DATASET \n",
        "zip_ref = zipfile.ZipFile(\"/content/drive/My Drive/DATASETS/Image_classification_hacker_earth_challenge/test_img.zip\", 'r')\n",
        "zip_ref.extractall(\"/home\")\n",
        "zip_ref.close()"
      ],
      "execution_count": 0,
      "outputs": []
    },
    {
      "cell_type": "code",
      "metadata": {
        "id": "XZ6VtmWRvhLd",
        "colab_type": "code",
        "colab": {
          "base_uri": "https://localhost:8080/",
          "height": 51
        },
        "outputId": "d7d7d42f-629d-4298-d930-78ef9136ef61"
      },
      "source": [
        "train['image_id'].values"
      ],
      "execution_count": 10,
      "outputs": [
        {
          "output_type": "execute_result",
          "data": {
            "text/plain": [
              "array(['train_1a', 'train_1b', 'train_1c', ..., 'train_804a',\n",
              "       'train_804b', 'train_804c'], dtype=object)"
            ]
          },
          "metadata": {
            "tags": []
          },
          "execution_count": 10
        }
      ]
    },
    {
      "cell_type": "code",
      "metadata": {
        "id": "Y-NcpuJ0veTA",
        "colab_type": "code",
        "colab": {
          "base_uri": "https://localhost:8080/",
          "height": 34
        },
        "outputId": "11bef838-bce0-4db8-b01d-dd57c85de673"
      },
      "source": [
        "# load data\n",
        "train_img, test_img = [],[]\n",
        "for img_path in tqdm(train['image_id'].values):\n",
        "    train_img.append(read_img(TRAIN_PATH + img_path + '.png'))"
      ],
      "execution_count": 12,
      "outputs": [
        {
          "output_type": "stream",
          "text": [
            "100%|██████████| 3215/3215 [00:07<00:00, 448.44it/s]\n"
          ],
          "name": "stderr"
        }
      ]
    },
    {
      "cell_type": "code",
      "metadata": {
        "id": "_8TJ-PT7vzN2",
        "colab_type": "code",
        "colab": {
          "base_uri": "https://localhost:8080/",
          "height": 884
        },
        "outputId": "485052d1-a812-4496-9456-d766bda0157a"
      },
      "source": [
        "print(len(train_img))               #TOTAL NO. OF IMAGES IN TRAINING INAGE\n",
        "print(train_img[0].shape)           # SIZE OF ONE INDIVIDUAL IMAGE \n",
        "train_img[0]                        # ARRAY OF IMAGE ONE"
      ],
      "execution_count": 17,
      "outputs": [
        {
          "output_type": "stream",
          "text": [
            "3215\n",
            "(256, 256, 3)\n"
          ],
          "name": "stdout"
        },
        {
          "output_type": "execute_result",
          "data": {
            "text/plain": [
              "array([[[ 85,  68, 182],\n",
              "        [ 90,  68, 184],\n",
              "        [ 90,  73, 186],\n",
              "        ...,\n",
              "        [ 37,  38,  36],\n",
              "        [ 34,  34,  32],\n",
              "        [ 38,  35,  34]],\n",
              "\n",
              "       [[ 90,  72, 187],\n",
              "        [ 91,  72, 186],\n",
              "        [ 91,  75, 187],\n",
              "        ...,\n",
              "        [ 36,  34,  34],\n",
              "        [ 39,  35,  35],\n",
              "        [ 41,  36,  36]],\n",
              "\n",
              "       [[ 88,  72, 188],\n",
              "        [ 90,  73, 188],\n",
              "        [ 91,  73, 186],\n",
              "        ...,\n",
              "        [ 37,  32,  35],\n",
              "        [ 42,  35,  38],\n",
              "        [ 40,  33,  35]],\n",
              "\n",
              "       ...,\n",
              "\n",
              "       [[197, 203, 219],\n",
              "        [193, 199, 214],\n",
              "        [186, 191, 208],\n",
              "        ...,\n",
              "        [ 64,  89, 102],\n",
              "        [ 78, 100, 113],\n",
              "        [ 84, 107, 119]],\n",
              "\n",
              "       [[197, 202, 217],\n",
              "        [190, 196, 211],\n",
              "        [184, 187, 205],\n",
              "        ...,\n",
              "        [ 63,  88, 103],\n",
              "        [ 72,  95, 111],\n",
              "        [ 78, 101, 117]],\n",
              "\n",
              "       [[194, 199, 214],\n",
              "        [188, 193, 207],\n",
              "        [171, 171, 189],\n",
              "        ...,\n",
              "        [ 63,  90, 106],\n",
              "        [ 74,  97, 113],\n",
              "        [ 74,  97, 114]]], dtype=uint8)"
            ]
          },
          "metadata": {
            "tags": []
          },
          "execution_count": 17
        }
      ]
    },
    {
      "cell_type": "code",
      "metadata": {
        "id": "g9Jr-RXvvldF",
        "colab_type": "code",
        "colab": {
          "base_uri": "https://localhost:8080/",
          "height": 51
        },
        "outputId": "e3db193a-a464-4407-8d3c-81270eda3a03"
      },
      "source": [
        "test['image_id'].values"
      ],
      "execution_count": 11,
      "outputs": [
        {
          "output_type": "execute_result",
          "data": {
            "text/plain": [
              "array(['test_1000a', 'test_1000b', 'test_1000c', ..., 'test_1432b',\n",
              "       'test_1432c', 'test_1432d'], dtype=object)"
            ]
          },
          "metadata": {
            "tags": []
          },
          "execution_count": 11
        }
      ]
    },
    {
      "cell_type": "code",
      "metadata": {
        "id": "VV_0_wEMuH-Q",
        "colab_type": "code",
        "colab": {
          "base_uri": "https://localhost:8080/",
          "height": 34
        },
        "outputId": "d3359031-edc5-438d-af55-377daf017cb1"
      },
      "source": [
        "for img_path in tqdm(test['image_id'].values):\n",
        "    test_img.append(read_img(TEST_PATH + img_path + '.png'))"
      ],
      "execution_count": 18,
      "outputs": [
        {
          "output_type": "stream",
          "text": [
            "100%|██████████| 1732/1732 [00:03<00:00, 446.49it/s]\n"
          ],
          "name": "stderr"
        }
      ]
    },
    {
      "cell_type": "code",
      "metadata": {
        "id": "q_b8wQEzuH6o",
        "colab_type": "code",
        "colab": {
          "base_uri": "https://localhost:8080/",
          "height": 884
        },
        "outputId": "e42e0c26-28d4-4d7e-f39e-2474b4ce5ed3"
      },
      "source": [
        "print(len(test_img))               # TOTAL NO. OF IMAGES IN TESTING INAGE\n",
        "print(test_img[0].shape)           # SIZE OF ONE INDIVIDUAL IMAGE \n",
        "test_img[0]                        # ARRAY OF IMAGE ONE"
      ],
      "execution_count": 19,
      "outputs": [
        {
          "output_type": "stream",
          "text": [
            "1732\n",
            "(256, 256, 3)\n"
          ],
          "name": "stdout"
        },
        {
          "output_type": "execute_result",
          "data": {
            "text/plain": [
              "array([[[ 89, 217, 239],\n",
              "        [ 95, 216, 237],\n",
              "        [ 81, 215, 237],\n",
              "        ...,\n",
              "        [191, 208, 217],\n",
              "        [192, 208, 216],\n",
              "        [191, 206, 215]],\n",
              "\n",
              "       [[ 83, 217, 240],\n",
              "        [ 80, 218, 241],\n",
              "        [ 81, 217, 239],\n",
              "        ...,\n",
              "        [193, 211, 221],\n",
              "        [193, 211, 220],\n",
              "        [193, 211, 220]],\n",
              "\n",
              "       [[ 82, 217, 240],\n",
              "        [ 82, 218, 241],\n",
              "        [ 82, 219, 241],\n",
              "        ...,\n",
              "        [187, 208, 219],\n",
              "        [189, 210, 220],\n",
              "        [195, 212, 222]],\n",
              "\n",
              "       ...,\n",
              "\n",
              "       [[178, 183, 198],\n",
              "        [176, 181, 196],\n",
              "        [173, 178, 192],\n",
              "        ...,\n",
              "        [ 61,  60, 140],\n",
              "        [ 63,  59, 137],\n",
              "        [ 58,  55, 130]],\n",
              "\n",
              "       [[180, 185, 200],\n",
              "        [176, 184, 197],\n",
              "        [175, 182, 195],\n",
              "        ...,\n",
              "        [ 58,  60, 140],\n",
              "        [ 58,  56, 135],\n",
              "        [ 59,  56, 133]],\n",
              "\n",
              "       [[179, 184, 199],\n",
              "        [178, 186, 201],\n",
              "        [178, 185, 199],\n",
              "        ...,\n",
              "        [ 56,  60, 140],\n",
              "        [ 59,  57, 137],\n",
              "        [ 56,  53, 131]]], dtype=uint8)"
            ]
          },
          "metadata": {
            "tags": []
          },
          "execution_count": 19
        }
      ]
    },
    {
      "cell_type": "code",
      "metadata": {
        "id": "e9sUDsK_vX6b",
        "colab_type": "code",
        "colab": {}
      },
      "source": [
        "# normalize images\n",
        "x_train = np.array(train_img, np.float32) / 255.\n",
        "x_test = np.array(test_img, np.float32) / 255."
      ],
      "execution_count": 0,
      "outputs": []
    },
    {
      "cell_type": "code",
      "metadata": {
        "id": "qlOrAP9RvX3O",
        "colab_type": "code",
        "colab": {
          "base_uri": "https://localhost:8080/",
          "height": 867
        },
        "outputId": "bd0aa702-2896-4495-f7b2-34c6afaff042"
      },
      "source": [
        "print(x_train.shape)\n",
        "x_train[0]"
      ],
      "execution_count": 22,
      "outputs": [
        {
          "output_type": "stream",
          "text": [
            "(3215, 256, 256, 3)\n"
          ],
          "name": "stdout"
        },
        {
          "output_type": "execute_result",
          "data": {
            "text/plain": [
              "array([[[0.33333334, 0.26666668, 0.7137255 ],\n",
              "        [0.3529412 , 0.26666668, 0.72156864],\n",
              "        [0.3529412 , 0.28627452, 0.7294118 ],\n",
              "        ...,\n",
              "        [0.14509805, 0.14901961, 0.14117648],\n",
              "        [0.13333334, 0.13333334, 0.1254902 ],\n",
              "        [0.14901961, 0.13725491, 0.13333334]],\n",
              "\n",
              "       [[0.3529412 , 0.28235295, 0.73333335],\n",
              "        [0.35686275, 0.28235295, 0.7294118 ],\n",
              "        [0.35686275, 0.29411766, 0.73333335],\n",
              "        ...,\n",
              "        [0.14117648, 0.13333334, 0.13333334],\n",
              "        [0.15294118, 0.13725491, 0.13725491],\n",
              "        [0.16078432, 0.14117648, 0.14117648]],\n",
              "\n",
              "       [[0.34509805, 0.28235295, 0.7372549 ],\n",
              "        [0.3529412 , 0.28627452, 0.7372549 ],\n",
              "        [0.35686275, 0.28627452, 0.7294118 ],\n",
              "        ...,\n",
              "        [0.14509805, 0.1254902 , 0.13725491],\n",
              "        [0.16470589, 0.13725491, 0.14901961],\n",
              "        [0.15686275, 0.12941177, 0.13725491]],\n",
              "\n",
              "       ...,\n",
              "\n",
              "       [[0.77254903, 0.79607844, 0.85882354],\n",
              "        [0.75686276, 0.78039217, 0.8392157 ],\n",
              "        [0.7294118 , 0.7490196 , 0.8156863 ],\n",
              "        ...,\n",
              "        [0.2509804 , 0.34901962, 0.4       ],\n",
              "        [0.30588236, 0.39215687, 0.44313726],\n",
              "        [0.32941177, 0.41960785, 0.46666667]],\n",
              "\n",
              "       [[0.77254903, 0.7921569 , 0.8509804 ],\n",
              "        [0.74509805, 0.76862746, 0.827451  ],\n",
              "        [0.72156864, 0.73333335, 0.8039216 ],\n",
              "        ...,\n",
              "        [0.24705882, 0.34509805, 0.40392157],\n",
              "        [0.28235295, 0.37254903, 0.43529412],\n",
              "        [0.30588236, 0.39607844, 0.45882353]],\n",
              "\n",
              "       [[0.7607843 , 0.78039217, 0.8392157 ],\n",
              "        [0.7372549 , 0.75686276, 0.8117647 ],\n",
              "        [0.67058825, 0.67058825, 0.7411765 ],\n",
              "        ...,\n",
              "        [0.24705882, 0.3529412 , 0.41568628],\n",
              "        [0.2901961 , 0.38039216, 0.44313726],\n",
              "        [0.2901961 , 0.38039216, 0.44705883]]], dtype=float32)"
            ]
          },
          "metadata": {
            "tags": []
          },
          "execution_count": 22
        }
      ]
    },
    {
      "cell_type": "code",
      "metadata": {
        "id": "2_7yhVW8vX0N",
        "colab_type": "code",
        "colab": {
          "base_uri": "https://localhost:8080/",
          "height": 867
        },
        "outputId": "5911da6f-b3d7-4c83-82f4-c9bcb703beeb"
      },
      "source": [
        "print(x_test.shape)\n",
        "x_test[0]"
      ],
      "execution_count": 23,
      "outputs": [
        {
          "output_type": "stream",
          "text": [
            "(1732, 256, 256, 3)\n"
          ],
          "name": "stdout"
        },
        {
          "output_type": "execute_result",
          "data": {
            "text/plain": [
              "array([[[0.34901962, 0.8509804 , 0.9372549 ],\n",
              "        [0.37254903, 0.84705883, 0.92941177],\n",
              "        [0.31764707, 0.84313726, 0.92941177],\n",
              "        ...,\n",
              "        [0.7490196 , 0.8156863 , 0.8509804 ],\n",
              "        [0.7529412 , 0.8156863 , 0.84705883],\n",
              "        [0.7490196 , 0.80784315, 0.84313726]],\n",
              "\n",
              "       [[0.3254902 , 0.8509804 , 0.9411765 ],\n",
              "        [0.3137255 , 0.85490197, 0.94509804],\n",
              "        [0.31764707, 0.8509804 , 0.9372549 ],\n",
              "        ...,\n",
              "        [0.75686276, 0.827451  , 0.8666667 ],\n",
              "        [0.75686276, 0.827451  , 0.8627451 ],\n",
              "        [0.75686276, 0.827451  , 0.8627451 ]],\n",
              "\n",
              "       [[0.32156864, 0.8509804 , 0.9411765 ],\n",
              "        [0.32156864, 0.85490197, 0.94509804],\n",
              "        [0.32156864, 0.85882354, 0.94509804],\n",
              "        ...,\n",
              "        [0.73333335, 0.8156863 , 0.85882354],\n",
              "        [0.7411765 , 0.8235294 , 0.8627451 ],\n",
              "        [0.7647059 , 0.83137256, 0.87058824]],\n",
              "\n",
              "       ...,\n",
              "\n",
              "       [[0.69803923, 0.7176471 , 0.7764706 ],\n",
              "        [0.6901961 , 0.70980394, 0.76862746],\n",
              "        [0.6784314 , 0.69803923, 0.7529412 ],\n",
              "        ...,\n",
              "        [0.23921569, 0.23529412, 0.54901963],\n",
              "        [0.24705882, 0.23137255, 0.5372549 ],\n",
              "        [0.22745098, 0.21568628, 0.50980395]],\n",
              "\n",
              "       [[0.7058824 , 0.7254902 , 0.78431374],\n",
              "        [0.6901961 , 0.72156864, 0.77254903],\n",
              "        [0.6862745 , 0.7137255 , 0.7647059 ],\n",
              "        ...,\n",
              "        [0.22745098, 0.23529412, 0.54901963],\n",
              "        [0.22745098, 0.21960784, 0.5294118 ],\n",
              "        [0.23137255, 0.21960784, 0.52156866]],\n",
              "\n",
              "       [[0.7019608 , 0.72156864, 0.78039217],\n",
              "        [0.69803923, 0.7294118 , 0.7882353 ],\n",
              "        [0.69803923, 0.7254902 , 0.78039217],\n",
              "        ...,\n",
              "        [0.21960784, 0.23529412, 0.54901963],\n",
              "        [0.23137255, 0.22352941, 0.5372549 ],\n",
              "        [0.21960784, 0.20784314, 0.5137255 ]]], dtype=float32)"
            ]
          },
          "metadata": {
            "tags": []
          },
          "execution_count": 23
        }
      ]
    },
    {
      "cell_type": "code",
      "metadata": {
        "id": "fz7cQPNaxjo4",
        "colab_type": "code",
        "colab": {
          "base_uri": "https://localhost:8080/",
          "height": 34
        },
        "outputId": "15a5155c-fc76-44ee-8507-98388e3882c6"
      },
      "source": [
        "label_list = train['label'].tolist()\n",
        "label_list[:5]"
      ],
      "execution_count": 25,
      "outputs": [
        {
          "output_type": "execute_result",
          "data": {
            "text/plain": [
              "['rice', 'candy', 'jam', 'coffee', 'vinegar']"
            ]
          },
          "metadata": {
            "tags": []
          },
          "execution_count": 25
        }
      ]
    },
    {
      "cell_type": "code",
      "metadata": {
        "id": "4FKdBqBAxwJ-",
        "colab_type": "code",
        "colab": {
          "base_uri": "https://localhost:8080/",
          "height": 442
        },
        "outputId": "fd6519b1-d368-40da-cf87-2b4ec4d7c61a"
      },
      "source": [
        "for v,k in enumerate(set(label_list)):\n",
        "    print(v , k)"
      ],
      "execution_count": 26,
      "outputs": [
        {
          "output_type": "stream",
          "text": [
            "0 tomatosauce\n",
            "1 rice\n",
            "2 jam\n",
            "3 milk\n",
            "4 water\n",
            "5 soda\n",
            "6 pasta\n",
            "7 nuts\n",
            "8 chocolate\n",
            "9 tea\n",
            "10 fish\n",
            "11 chips\n",
            "12 honey\n",
            "13 vinegar\n",
            "14 flour\n",
            "15 cereal\n",
            "16 beans\n",
            "17 cake\n",
            "18 corn\n",
            "19 oil\n",
            "20 sugar\n",
            "21 spices\n",
            "22 coffee\n",
            "23 candy\n",
            "24 juice\n"
          ],
          "name": "stdout"
        }
      ]
    },
    {
      "cell_type": "code",
      "metadata": {
        "id": "4lQgcJBQvXwZ",
        "colab_type": "code",
        "colab": {
          "base_uri": "https://localhost:8080/",
          "height": 442
        },
        "outputId": "14959db4-9936-49cc-f8f7-975900c5a41a"
      },
      "source": [
        "# target variable - encoding numeric value\n",
        "\n",
        "Y_train = {k:v+1 for v,k in enumerate(set(label_list))}\n",
        "Y_train"
      ],
      "execution_count": 27,
      "outputs": [
        {
          "output_type": "execute_result",
          "data": {
            "text/plain": [
              "{'beans': 17,\n",
              " 'cake': 18,\n",
              " 'candy': 24,\n",
              " 'cereal': 16,\n",
              " 'chips': 12,\n",
              " 'chocolate': 9,\n",
              " 'coffee': 23,\n",
              " 'corn': 19,\n",
              " 'fish': 11,\n",
              " 'flour': 15,\n",
              " 'honey': 13,\n",
              " 'jam': 3,\n",
              " 'juice': 25,\n",
              " 'milk': 4,\n",
              " 'nuts': 8,\n",
              " 'oil': 20,\n",
              " 'pasta': 7,\n",
              " 'rice': 2,\n",
              " 'soda': 6,\n",
              " 'spices': 22,\n",
              " 'sugar': 21,\n",
              " 'tea': 10,\n",
              " 'tomatosauce': 1,\n",
              " 'vinegar': 14,\n",
              " 'water': 5}"
            ]
          },
          "metadata": {
            "tags": []
          },
          "execution_count": 27
        }
      ]
    },
    {
      "cell_type": "code",
      "metadata": {
        "id": "1fo1VhrlvXtv",
        "colab_type": "code",
        "colab": {
          "base_uri": "https://localhost:8080/",
          "height": 54
        },
        "outputId": "5fa8322e-e1da-482b-942d-6db555732959"
      },
      "source": [
        "y_train = [Y_train[k] for k in label_list]\n",
        "print(y_train)"
      ],
      "execution_count": 33,
      "outputs": [
        {
          "output_type": "stream",
          "text": [
            "[2, 24, 3, 23, 14, 9, 21, 5, 25, 24, 25, 25, 24, 4, 23, 2, 9, 6, 25, 8, 12, 22, 16, 12, 4, 16, 24, 9, 17, 18, 2, 16, 8, 25, 23, 22, 3, 13, 25, 2, 23, 9, 4, 14, 15, 7, 24, 16, 12, 16, 25, 13, 1, 2, 24, 1, 10, 24, 9, 3, 5, 23, 10, 3, 14, 10, 16, 15, 2, 9, 15, 24, 19, 6, 23, 13, 23, 14, 3, 23, 10, 23, 9, 18, 4, 13, 20, 11, 8, 11, 12, 25, 8, 24, 19, 16, 15, 17, 9, 16, 20, 19, 6, 23, 12, 14, 10, 18, 25, 1, 24, 2, 22, 1, 19, 5, 24, 16, 4, 6, 5, 16, 12, 9, 9, 16, 4, 5, 13, 3, 9, 11, 19, 1, 6, 4, 16, 9, 17, 2, 9, 16, 24, 8, 13, 9, 10, 6, 4, 21, 13, 1, 16, 24, 9, 18, 24, 23, 24, 2, 25, 1, 1, 22, 11, 6, 10, 23, 5, 2, 9, 9, 6, 8, 2, 25, 9, 11, 24, 24, 16, 24, 9, 12, 17, 12, 9, 24, 8, 7, 2, 20, 23, 1, 2, 24, 13, 5, 8, 4, 2, 3, 13, 9, 2, 1, 8, 14, 23, 18, 3, 18, 25, 7, 10, 21, 23, 13, 2, 13, 12, 25, 10, 23, 8, 22, 19, 23, 4, 16, 19, 18, 6, 9, 5, 13, 11, 6, 24, 6, 24, 17, 14, 9, 16, 18, 23, 21, 25, 23, 19, 24, 2, 24, 4, 14, 2, 19, 22, 14, 23, 17, 10, 21, 6, 24, 25, 15, 10, 4, 24, 22, 3, 8, 16, 24, 2, 5, 7, 4, 3, 1, 11, 7, 10, 24, 9, 6, 1, 11, 22, 10, 22, 7, 8, 14, 3, 17, 25, 3, 16, 23, 3, 9, 22, 14, 23, 9, 12, 24, 24, 24, 24, 20, 20, 19, 15, 22, 24, 19, 7, 24, 14, 25, 16, 10, 3, 7, 6, 8, 24, 2, 6, 6, 19, 6, 13, 24, 25, 13, 1, 23, 6, 1, 25, 25, 14, 10, 4, 23, 8, 22, 17, 20, 16, 21, 13, 24, 7, 9, 4, 13, 4, 7, 22, 25, 9, 10, 3, 7, 10, 25, 5, 17, 12, 8, 19, 16, 25, 23, 5, 13, 9, 2, 17, 20, 5, 11, 12, 18, 25, 15, 7, 12, 24, 10, 13, 13, 9, 22, 9, 13, 25, 5, 25, 23, 7, 25, 14, 25, 7, 18, 23, 9, 25, 20, 4, 13, 7, 5, 2, 24, 16, 16, 2, 16, 13, 3, 22, 25, 9, 23, 23, 16, 9, 23, 1, 19, 9, 5, 18, 18, 5, 20, 25, 6, 6, 15, 4, 2, 24, 13, 13, 4, 14, 17, 8, 21, 22, 1, 3, 12, 12, 12, 23, 18, 7, 10, 9, 11, 11, 16, 15, 12, 23, 24, 12, 10, 13, 1, 25, 7, 1, 13, 10, 5, 25, 24, 25, 10, 20, 13, 19, 15, 13, 12, 10, 5, 12, 22, 7, 9, 6, 24, 18, 12, 24, 21, 1, 9, 24, 23, 3, 5, 17, 6, 10, 9, 5, 24, 25, 16, 8, 24, 23, 20, 8, 1, 9, 8, 9, 21, 24, 6, 11, 20, 16, 23, 7, 12, 15, 5, 7, 11, 4, 8, 15, 18, 13, 9, 15, 24, 12, 5, 16, 17, 13, 5, 15, 13, 5, 14, 16, 25, 16, 7, 11, 25, 4, 2, 1, 19, 17, 18, 25, 22, 18, 20, 16, 7, 14, 17, 8, 1, 12, 16, 3, 21, 9, 10, 24, 5, 22, 5, 20, 24, 25, 12, 24, 4, 23, 15, 3, 24, 17, 9, 6, 21, 17, 9, 3, 5, 14, 3, 12, 23, 23, 19, 8, 18, 6, 24, 16, 1, 4, 7, 15, 13, 2, 1, 17, 22, 3, 16, 5, 5, 1, 20, 19, 19, 20, 25, 19, 20, 15, 12, 12, 23, 16, 2, 16, 25, 20, 7, 18, 11, 3, 9, 18, 25, 9, 1, 5, 18, 11, 3, 24, 15, 25, 14, 11, 17, 25, 3, 19, 12, 5, 9, 6, 16, 18, 16, 3, 1, 2, 15, 22, 8, 9, 7, 24, 11, 13, 8, 4, 3, 24, 21, 12, 2, 10, 25, 23, 8, 8, 5, 10, 8, 13, 4, 25, 12, 10, 23, 10, 1, 7, 24, 20, 25, 23, 10, 9, 11, 25, 18, 23, 16, 25, 5, 14, 17, 16, 10, 9, 9, 20, 7, 6, 23, 7, 1, 14, 18, 23, 2, 1, 16, 21, 24, 13, 3, 3, 1, 9, 21, 5, 12, 3, 15, 1, 10, 1, 7, 2, 16, 16, 7, 23, 4, 16, 25, 11, 22, 6, 7, 10, 9, 21, 20, 13, 3, 5, 8, 24, 10, 2, 10, 25, 3, 19, 22, 14, 16, 20, 6, 4, 6, 25, 18, 21, 24, 24, 5, 10, 13, 3, 3, 25, 8, 4, 12, 3, 25, 17, 2, 12, 12, 10, 23, 25, 3, 23, 19, 6, 25, 6, 15, 10, 24, 13, 23, 25, 24, 5, 15, 14, 22, 10, 7, 9, 9, 24, 16, 18, 18, 12, 17, 2, 12, 5, 22, 23, 18, 10, 6, 13, 4, 21, 24, 24, 17, 18, 10, 23, 22, 10, 7, 22, 11, 22, 4, 23, 21, 17, 25, 9, 17, 15, 25, 12, 16, 9, 4, 3, 10, 17, 24, 24, 23, 10, 16, 5, 23, 15, 9, 1, 12, 14, 24, 3, 20, 10, 9, 6, 24, 8, 9, 3, 13, 22, 25, 15, 17, 8, 8, 13, 3, 23, 23, 25, 17, 23, 10, 23, 8, 23, 4, 13, 15, 16, 2, 13, 11, 21, 11, 10, 3, 22, 3, 23, 2, 13, 21, 5, 3, 15, 24, 23, 25, 3, 10, 25, 24, 6, 2, 2, 9, 3, 23, 21, 9, 13, 5, 1, 25, 7, 14, 10, 18, 5, 24, 23, 5, 8, 6, 4, 1, 5, 15, 5, 25, 20, 6, 18, 3, 5, 23, 15, 23, 11, 19, 3, 18, 12, 2, 5, 10, 10, 12, 18, 3, 14, 10, 9, 16, 7, 17, 11, 13, 15, 3, 25, 22, 16, 9, 6, 14, 20, 12, 20, 18, 10, 10, 18, 14, 4, 7, 25, 5, 23, 10, 10, 8, 1, 15, 13, 10, 20, 19, 20, 4, 12, 4, 24, 20, 14, 12, 21, 20, 11, 8, 10, 9, 25, 16, 5, 22, 22, 17, 16, 25, 23, 18, 24, 1, 8, 16, 25, 10, 14, 24, 22, 25, 7, 14, 16, 23, 18, 9, 10, 10, 24, 17, 19, 24, 23, 10, 16, 18, 5, 20, 16, 9, 14, 9, 22, 18, 20, 11, 24, 17, 22, 10, 20, 9, 1, 7, 6, 1, 6, 16, 16, 7, 10, 25, 16, 5, 16, 10, 14, 13, 3, 17, 23, 9, 22, 13, 23, 6, 5, 13, 20, 5, 10, 24, 25, 14, 14, 7, 7, 3, 23, 7, 25, 6, 10, 21, 15, 19, 5, 24, 25, 7, 20, 2, 20, 3, 23, 12, 22, 25, 15, 19, 9, 18, 10, 10, 24, 3, 4, 17, 8, 5, 6, 6, 12, 23, 10, 24, 14, 2, 13, 23, 20, 23, 16, 24, 23, 9, 8, 3, 7, 12, 24, 3, 8, 3, 9, 24, 13, 25, 8, 11, 11, 24, 19, 23, 18, 9, 16, 5, 3, 16, 16, 25, 22, 7, 22, 6, 15, 2, 25, 16, 20, 6, 9, 10, 18, 22, 17, 2, 12, 14, 14, 24, 3, 17, 22, 17, 22, 12, 24, 16, 19, 4, 22, 4, 14, 25, 25, 9, 18, 14, 8, 1, 13, 25, 4, 21, 24, 12, 4, 18, 22, 25, 10, 16, 12, 24, 6, 12, 22, 9, 23, 18, 13, 1, 11, 2, 16, 1, 25, 9, 10, 22, 25, 7, 23, 21, 25, 12, 8, 13, 18, 14, 12, 10, 12, 21, 16, 6, 20, 17, 25, 7, 16, 15, 25, 23, 21, 5, 22, 18, 22, 24, 24, 9, 22, 15, 13, 25, 9, 24, 3, 4, 3, 4, 1, 16, 16, 15, 4, 22, 18, 2, 3, 10, 3, 20, 19, 18, 10, 8, 9, 2, 23, 5, 13, 25, 1, 17, 9, 2, 3, 11, 2, 20, 14, 24, 4, 24, 5, 6, 22, 21, 12, 25, 15, 5, 18, 21, 13, 22, 22, 7, 2, 19, 8, 25, 8, 4, 6, 18, 13, 7, 24, 8, 3, 25, 16, 2, 10, 5, 16, 25, 24, 22, 14, 7, 24, 6, 12, 24, 5, 23, 5, 10, 21, 22, 2, 9, 8, 13, 3, 17, 23, 24, 22, 8, 4, 2, 7, 2, 7, 24, 2, 8, 1, 10, 12, 24, 25, 17, 14, 5, 5, 11, 11, 23, 6, 2, 25, 2, 25, 24, 14, 7, 3, 24, 9, 16, 6, 3, 1, 24, 20, 1, 11, 9, 16, 1, 20, 13, 25, 5, 12, 3, 8, 9, 20, 9, 16, 10, 3, 10, 15, 3, 25, 25, 8, 24, 10, 23, 25, 12, 12, 9, 22, 13, 17, 3, 23, 13, 21, 7, 5, 9, 22, 24, 24, 9, 6, 16, 22, 15, 22, 4, 6, 5, 4, 16, 22, 8, 14, 12, 3, 1, 24, 6, 1, 7, 23, 8, 3, 4, 10, 17, 9, 10, 14, 3, 21, 1, 10, 2, 8, 22, 20, 23, 9, 1, 25, 3, 16, 17, 22, 7, 25, 9, 25, 8, 5, 9, 23, 14, 20, 6, 18, 9, 9, 5, 5, 22, 7, 9, 8, 4, 1, 15, 9, 13, 17, 9, 6, 1, 10, 6, 10, 21, 10, 23, 2, 11, 9, 8, 25, 21, 7, 12, 24, 25, 24, 19, 25, 15, 1, 24, 12, 17, 5, 17, 14, 10, 10, 20, 12, 22, 25, 1, 22, 17, 22, 11, 22, 16, 5, 12, 25, 20, 18, 16, 16, 18, 7, 17, 10, 9, 1, 9, 10, 11, 15, 1, 25, 11, 5, 4, 5, 10, 6, 12, 9, 14, 13, 21, 23, 1, 25, 17, 4, 16, 18, 10, 17, 19, 24, 6, 15, 8, 20, 24, 9, 18, 2, 22, 5, 14, 14, 24, 25, 14, 25, 24, 14, 21, 24, 20, 19, 24, 11, 24, 17, 24, 16, 16, 5, 16, 11, 4, 22, 10, 24, 22, 5, 9, 13, 18, 16, 4, 16, 24, 9, 24, 10, 18, 14, 3, 16, 23, 1, 20, 13, 16, 9, 13, 25, 6, 10, 19, 16, 20, 13, 24, 9, 25, 23, 3, 12, 3, 7, 16, 25, 14, 14, 24, 4, 24, 4, 24, 10, 12, 9, 6, 9, 22, 16, 16, 10, 7, 7, 23, 12, 23, 16, 20, 10, 5, 21, 1, 7, 3, 2, 12, 13, 25, 1, 14, 23, 9, 16, 5, 14, 2, 6, 25, 4, 10, 10, 6, 13, 21, 16, 9, 1, 24, 5, 11, 5, 25, 8, 17, 3, 17, 5, 10, 24, 24, 24, 16, 22, 13, 8, 23, 18, 16, 25, 2, 10, 4, 14, 8, 5, 10, 13, 13, 17, 3, 14, 25, 12, 24, 5, 19, 10, 10, 25, 24, 11, 10, 25, 13, 9, 5, 25, 5, 12, 3, 5, 25, 1, 7, 8, 25, 12, 3, 9, 25, 4, 12, 19, 12, 24, 10, 25, 5, 25, 9, 5, 18, 3, 13, 24, 9, 8, 14, 23, 16, 16, 19, 20, 16, 25, 22, 21, 13, 6, 21, 5, 10, 24, 21, 3, 18, 21, 23, 1, 16, 7, 2, 25, 3, 4, 7, 25, 17, 6, 12, 24, 3, 25, 17, 22, 24, 6, 21, 19, 5, 9, 16, 23, 16, 24, 25, 4, 22, 4, 6, 2, 10, 10, 25, 3, 22, 3, 13, 3, 24, 15, 24, 18, 22, 19, 12, 12, 17, 17, 24, 9, 14, 10, 14, 24, 2, 7, 24, 22, 14, 21, 9, 6, 23, 5, 20, 8, 20, 9, 10, 21, 4, 21, 6, 22, 5, 16, 16, 13, 25, 24, 18, 9, 2, 23, 21, 25, 8, 12, 16, 24, 23, 7, 14, 16, 9, 10, 10, 4, 9, 8, 3, 5, 18, 23, 19, 5, 24, 15, 3, 13, 7, 1, 10, 1, 8, 20, 9, 5, 6, 21, 10, 4, 3, 6, 16, 3, 10, 10, 17, 11, 22, 23, 3, 20, 17, 3, 18, 18, 10, 9, 10, 7, 6, 16, 7, 5, 18, 18, 5, 16, 6, 4, 12, 8, 6, 24, 10, 24, 22, 23, 20, 3, 12, 24, 19, 18, 5, 23, 18, 21, 14, 4, 1, 7, 20, 16, 3, 20, 9, 23, 12, 8, 16, 1, 21, 15, 2, 16, 1, 16, 7, 21, 13, 23, 24, 19, 16, 20, 12, 17, 3, 3, 14, 12, 2, 4, 8, 17, 2, 22, 15, 18, 7, 3, 23, 25, 8, 10, 17, 25, 23, 9, 16, 24, 16, 15, 25, 23, 13, 25, 6, 4, 9, 13, 22, 5, 3, 4, 2, 23, 1, 24, 25, 23, 8, 4, 23, 24, 22, 5, 24, 24, 25, 6, 25, 18, 1, 4, 5, 12, 24, 3, 24, 22, 23, 24, 5, 12, 9, 5, 13, 16, 14, 6, 22, 25, 25, 9, 4, 3, 22, 11, 12, 10, 2, 20, 3, 1, 6, 10, 3, 12, 9, 10, 5, 24, 13, 10, 9, 1, 24, 24, 9, 9, 16, 7, 2, 22, 9, 15, 23, 13, 14, 7, 13, 7, 21, 10, 24, 15, 25, 8, 7, 24, 17, 2, 9, 21, 7, 25, 1, 10, 3, 20, 19, 7, 4, 24, 4, 23, 6, 5, 19, 9, 24, 5, 23, 21, 13, 23, 19, 24, 11, 16, 3, 15, 23, 4, 10, 8, 25, 10, 18, 6, 21, 23, 1, 10, 3, 23, 9, 4, 4, 23, 4, 16, 5, 21, 7, 25, 3, 22, 17, 14, 8, 9, 22, 23, 24, 6, 6, 23, 11, 12, 25, 16, 16, 12, 2, 19, 1, 3, 9, 22, 15, 10, 3, 5, 16, 13, 18, 25, 24, 10, 1, 25, 8, 3, 8, 10, 24, 9, 7, 18, 16, 10, 11, 9, 16, 8, 4, 23, 21, 21, 19, 21, 20, 24, 5, 5, 6, 24, 9, 17, 25, 18, 8, 8, 18, 10, 7, 11, 14, 5, 18, 22, 18, 9, 2, 15, 24, 18, 22, 9, 10, 12, 11, 10, 23, 15, 16, 12, 18, 21, 9, 1, 5, 25, 3, 12, 18, 16, 16, 18, 24, 3, 20, 1, 5, 7, 24, 4, 5, 14, 10, 16, 8, 7, 18, 3, 16, 19, 1, 25, 21, 15, 24, 10, 8, 8, 23, 5, 25, 5, 25, 18, 21, 10, 9, 8, 14, 22, 25, 3, 13, 10, 11, 22, 21, 1, 22, 18, 3, 5, 5, 25, 6, 12, 18, 9, 12, 23, 1, 13, 14, 17, 18, 15, 7, 10, 25, 25, 12, 24, 3, 5, 24, 4, 9, 7, 9, 6, 24, 12, 2, 25, 5, 24, 15, 9, 22, 20, 25, 21, 22, 4, 23, 23, 17, 9, 19, 7, 4, 24, 7, 5, 16, 2, 9, 17, 4, 24, 17, 2, 14, 14, 3, 23, 7, 24, 5, 1, 22, 25, 6, 2, 7, 7, 23, 7, 10, 25, 23, 9, 17, 1, 1, 1, 6, 24, 11, 25, 16, 13, 16, 5, 25, 20, 13, 25, 18, 2, 5, 23, 2, 16, 25, 9, 3, 10, 1, 24, 10, 24, 11, 6, 13, 9, 5, 14, 23, 6, 23, 6, 11, 21, 5, 21, 21, 23, 20, 20, 11, 25, 10, 12, 12, 20, 24, 14, 3, 13, 16, 20, 23, 23, 13, 3, 2, 13, 2, 4, 13, 9, 19, 22, 13, 14, 20, 15, 22, 11, 18, 5, 9, 2, 8, 22, 5, 3, 2, 24, 14, 19, 15, 3, 8, 22, 12, 4, 22, 25, 18, 9, 5, 24, 22, 9, 6, 17, 18, 24, 23, 22, 23, 24, 11, 17, 24, 7, 5, 7, 7, 14, 20, 23, 17, 9, 8, 4, 3, 8, 5, 23, 23, 3, 16, 12, 20, 10, 10, 24, 16, 23, 11, 12, 23, 24, 2, 12, 22, 20, 24, 24, 17, 23, 24, 10, 20, 12, 9, 24, 6, 19, 24, 12, 25, 22, 17, 19, 22, 3, 9, 19, 24, 6, 18, 10, 23, 23, 12, 11, 21, 19, 16, 3, 23, 8, 20, 10, 24, 14, 24, 4, 16, 14, 10, 2, 6, 23, 3, 20, 1, 22, 24, 7, 24, 13, 9, 1, 9, 3, 18, 16, 17, 23, 23, 15, 13, 23, 15, 13, 23, 24, 8, 14, 20, 10, 24, 5, 6, 23, 17, 7, 3, 9, 6, 17, 11, 8, 9, 9, 24, 8, 23, 17, 24, 5, 9, 7, 23, 23, 24, 5, 5, 24, 9, 14, 6, 23, 9, 5, 5, 25, 13, 7, 8, 24, 21, 11, 23, 3, 4, 4, 14, 5, 3, 15, 3, 22, 22, 11, 10, 25, 25, 16, 9, 8, 16, 10, 8, 21, 19, 23, 1, 12, 14, 19, 3, 24, 18, 1, 13, 11, 5, 24, 15, 6, 5, 21, 18, 10, 16, 9, 1, 24, 9, 21, 3, 23, 24, 5, 1, 25, 3, 25, 16, 24, 23, 5, 17, 3, 9, 6, 10, 3, 1, 24, 3, 15, 25, 10, 23, 8, 16, 23, 3, 11, 7, 9, 8, 23, 5, 16, 6, 10, 10, 16, 4, 21, 14, 9, 7, 24, 14, 20, 14, 1, 12, 23, 9, 19, 4, 11, 1, 16, 22, 12, 4, 2, 18, 14, 5, 23, 2, 14, 4, 15, 22, 7, 22, 2, 25, 25, 9, 10, 24, 9, 24, 3, 16, 15, 16, 4, 9, 20, 13, 11, 20, 5, 14, 18, 10, 18, 25, 2, 6, 14, 9, 3, 23, 6, 8, 16, 6, 7, 9, 25, 24, 22, 16, 20, 10, 23, 14, 23, 16, 23, 24, 5, 5, 7, 4, 25, 12, 16, 19, 25, 17, 9, 6, 4, 9, 15, 7, 24, 23, 10, 25, 9, 9, 22, 11, 14, 9, 22, 1, 20, 10, 22, 10, 3, 24, 16, 22, 12, 3, 12, 20, 22, 22, 24, 5, 8, 22, 13, 6, 10, 22, 16, 25, 5, 5, 24, 22, 18, 7, 16, 16, 14, 23, 7, 1, 24, 13, 5, 16, 20, 24, 12, 21, 10, 6, 3, 7, 10, 2, 15, 13, 13, 7, 22, 17, 14, 23, 1, 24, 23, 5, 7, 6, 15, 24, 10, 5, 8, 22, 1, 10, 3, 9, 18, 5, 3, 3, 18, 20, 23, 2, 23, 9, 23, 12, 16, 22, 4, 6, 16, 23, 11, 10, 1, 7, 9, 10, 20, 4, 9, 5, 25, 17, 12, 13, 10, 1, 24, 5, 1, 13, 5, 25, 8, 16, 13, 23, 21, 13, 18, 10, 5, 16, 3, 25, 25, 8, 6, 6, 4, 16, 16, 13, 9, 11, 3, 16, 16, 8, 17, 10, 24, 22, 8, 12, 1, 14, 19, 2, 23, 6, 5, 2, 4, 25, 16, 22, 16, 5, 1, 20, 18, 23, 8, 23, 3, 1, 11, 9, 3, 6, 4, 5, 10, 13, 10, 12, 19, 21, 5, 3, 14, 23, 16, 22, 24, 24, 13, 9, 9, 15, 25, 21, 13, 5, 9, 5, 16, 17, 4, 16, 16, 23, 5, 25, 23, 9, 11, 17, 20, 8, 13, 24, 10, 20, 10, 24, 24, 2, 2, 5, 23, 8, 24, 1, 11, 13, 22, 1, 16, 18, 20, 14, 10, 5, 24, 25, 5, 3, 13, 23, 25, 1, 6, 22, 8, 24, 23]\n"
          ],
          "name": "stdout"
        }
      ]
    },
    {
      "cell_type": "code",
      "metadata": {
        "id": "TD5tPDptvXry",
        "colab_type": "code",
        "colab": {
          "base_uri": "https://localhost:8080/",
          "height": 34
        },
        "outputId": "6639ec61-dcfc-4481-8c1a-867f5ff643a5"
      },
      "source": [
        "y_train = np.array(y_train)     # list to array\n",
        "y_train"
      ],
      "execution_count": 34,
      "outputs": [
        {
          "output_type": "execute_result",
          "data": {
            "text/plain": [
              "array([ 2, 24,  3, ...,  8, 24, 23])"
            ]
          },
          "metadata": {
            "tags": []
          },
          "execution_count": 34
        }
      ]
    },
    {
      "cell_type": "markdown",
      "metadata": {
        "id": "S4EVl7NhykUz",
        "colab_type": "text"
      },
      "source": [
        "#Tensorflow - keras"
      ]
    },
    {
      "cell_type": "code",
      "metadata": {
        "id": "uToFE6HnvXpR",
        "colab_type": "code",
        "colab": {
          "base_uri": "https://localhost:8080/",
          "height": 34
        },
        "outputId": "0d6a6c13-2445-49ad-95cd-342ef5ae5d8d"
      },
      "source": [
        "\n",
        "from keras import applications\n",
        "from keras.models import Model\n",
        "from keras import optimizers\n",
        "from keras.models import Sequential\n",
        "from keras.layers import Dense, Dropout, Flatten\n",
        "from keras.layers import Conv2D, MaxPooling2D\n",
        "from keras.layers.normalization import BatchNormalization\n",
        "from keras.metrics import categorical_accuracy\n",
        "from keras.preprocessing.image import ImageDataGenerator\n",
        "from keras.callbacks import EarlyStopping\n",
        "from keras.utils import to_categorical\n",
        "from keras.preprocessing.image import ImageDataGenerator\n",
        "from keras.callbacks import ModelCheckpoint"
      ],
      "execution_count": 35,
      "outputs": [
        {
          "output_type": "stream",
          "text": [
            "Using TensorFlow backend.\n"
          ],
          "name": "stderr"
        }
      ]
    },
    {
      "cell_type": "code",
      "metadata": {
        "id": "DZtyHkD4vXmj",
        "colab_type": "code",
        "colab": {}
      },
      "source": [
        "y_train = to_categorical(y_train)"
      ],
      "execution_count": 0,
      "outputs": []
    },
    {
      "cell_type": "code",
      "metadata": {
        "id": "oIDefTpwvXj-",
        "colab_type": "code",
        "colab": {
          "base_uri": "https://localhost:8080/",
          "height": 122
        },
        "outputId": "13a59cf9-af3f-49e4-c206-e7aa33c070aa"
      },
      "source": [
        "#Transfer learning with Inception V3 \n",
        "base_model = applications.VGG16(weights='imagenet', include_top=False, input_shape=(256, 256, 3))"
      ],
      "execution_count": 37,
      "outputs": [
        {
          "output_type": "stream",
          "text": [
            "WARNING:tensorflow:From /usr/local/lib/python3.6/dist-packages/tensorflow/python/framework/op_def_library.py:263: colocate_with (from tensorflow.python.framework.ops) is deprecated and will be removed in a future version.\n",
            "Instructions for updating:\n",
            "Colocations handled automatically by placer.\n",
            "Downloading data from https://github.com/fchollet/deep-learning-models/releases/download/v0.1/vgg16_weights_tf_dim_ordering_tf_kernels_notop.h5\n",
            "58892288/58889256 [==============================] - 1s 0us/step\n"
          ],
          "name": "stdout"
        }
      ]
    },
    {
      "cell_type": "code",
      "metadata": {
        "id": "TMUKuSvlzGi-",
        "colab_type": "code",
        "colab": {
          "base_uri": "https://localhost:8080/",
          "height": 51
        },
        "outputId": "848c18df-7859-407b-d781-1f6218fb4696"
      },
      "source": [
        "print(base_model)\n",
        "base_model.output_shape"
      ],
      "execution_count": 42,
      "outputs": [
        {
          "output_type": "stream",
          "text": [
            "<keras.engine.training.Model object at 0x7f7969fa1eb8>\n"
          ],
          "name": "stdout"
        },
        {
          "output_type": "execute_result",
          "data": {
            "text/plain": [
              "(None, 8, 8, 512)"
            ]
          },
          "metadata": {
            "tags": []
          },
          "execution_count": 42
        }
      ]
    },
    {
      "cell_type": "code",
      "metadata": {
        "id": "Aa4ALuKczp0B",
        "colab_type": "code",
        "colab": {
          "base_uri": "https://localhost:8080/",
          "height": 34
        },
        "outputId": "d74cc482-f6e6-44e2-adf9-1325df27a4cf"
      },
      "source": [
        "base_model.input"
      ],
      "execution_count": 44,
      "outputs": [
        {
          "output_type": "execute_result",
          "data": {
            "text/plain": [
              "<tf.Tensor 'input_1:0' shape=(?, 256, 256, 3) dtype=float32>"
            ]
          },
          "metadata": {
            "tags": []
          },
          "execution_count": 44
        }
      ]
    },
    {
      "cell_type": "code",
      "metadata": {
        "id": "g-tEI5mozi8n",
        "colab_type": "code",
        "colab": {
          "base_uri": "https://localhost:8080/",
          "height": 34
        },
        "outputId": "065daacc-2ade-4b8e-dab4-3af911b2aa86"
      },
      "source": [
        "base_model.output"
      ],
      "execution_count": 43,
      "outputs": [
        {
          "output_type": "execute_result",
          "data": {
            "text/plain": [
              "<tf.Tensor 'block5_pool/MaxPool:0' shape=(?, 8, 8, 512) dtype=float32>"
            ]
          },
          "metadata": {
            "tags": []
          },
          "execution_count": 43
        }
      ]
    },
    {
      "cell_type": "code",
      "metadata": {
        "id": "8wduXlYYvXe5",
        "colab_type": "code",
        "colab": {
          "base_uri": "https://localhost:8080/",
          "height": 816
        },
        "outputId": "6494fea6-d24e-4f00-d6ad-d65fb096487e"
      },
      "source": [
        "## set model architechture \n",
        "add_model = Sequential()\n",
        "add_model.add(Flatten(input_shape=base_model.output_shape[1:]))\n",
        "\n",
        "add_model.add(Dense(256, activation='relu'))       # hidden layer\n",
        "\n",
        "add_model.add(Dense(y_train.shape[1], activation='softmax'))   #final layer \n",
        "\n",
        "model = Model(inputs=base_model.input, outputs=add_model(base_model.output))\n",
        "\n",
        "model.compile(loss='categorical_crossentropy', optimizer=optimizers.SGD(lr=1e-4, momentum=0.9),metrics=['accuracy'])\n",
        "\n",
        "model.summary()"
      ],
      "execution_count": 38,
      "outputs": [
        {
          "output_type": "stream",
          "text": [
            "_________________________________________________________________\n",
            "Layer (type)                 Output Shape              Param #   \n",
            "=================================================================\n",
            "input_1 (InputLayer)         (None, 256, 256, 3)       0         \n",
            "_________________________________________________________________\n",
            "block1_conv1 (Conv2D)        (None, 256, 256, 64)      1792      \n",
            "_________________________________________________________________\n",
            "block1_conv2 (Conv2D)        (None, 256, 256, 64)      36928     \n",
            "_________________________________________________________________\n",
            "block1_pool (MaxPooling2D)   (None, 128, 128, 64)      0         \n",
            "_________________________________________________________________\n",
            "block2_conv1 (Conv2D)        (None, 128, 128, 128)     73856     \n",
            "_________________________________________________________________\n",
            "block2_conv2 (Conv2D)        (None, 128, 128, 128)     147584    \n",
            "_________________________________________________________________\n",
            "block2_pool (MaxPooling2D)   (None, 64, 64, 128)       0         \n",
            "_________________________________________________________________\n",
            "block3_conv1 (Conv2D)        (None, 64, 64, 256)       295168    \n",
            "_________________________________________________________________\n",
            "block3_conv2 (Conv2D)        (None, 64, 64, 256)       590080    \n",
            "_________________________________________________________________\n",
            "block3_conv3 (Conv2D)        (None, 64, 64, 256)       590080    \n",
            "_________________________________________________________________\n",
            "block3_pool (MaxPooling2D)   (None, 32, 32, 256)       0         \n",
            "_________________________________________________________________\n",
            "block4_conv1 (Conv2D)        (None, 32, 32, 512)       1180160   \n",
            "_________________________________________________________________\n",
            "block4_conv2 (Conv2D)        (None, 32, 32, 512)       2359808   \n",
            "_________________________________________________________________\n",
            "block4_conv3 (Conv2D)        (None, 32, 32, 512)       2359808   \n",
            "_________________________________________________________________\n",
            "block4_pool (MaxPooling2D)   (None, 16, 16, 512)       0         \n",
            "_________________________________________________________________\n",
            "block5_conv1 (Conv2D)        (None, 16, 16, 512)       2359808   \n",
            "_________________________________________________________________\n",
            "block5_conv2 (Conv2D)        (None, 16, 16, 512)       2359808   \n",
            "_________________________________________________________________\n",
            "block5_conv3 (Conv2D)        (None, 16, 16, 512)       2359808   \n",
            "_________________________________________________________________\n",
            "block5_pool (MaxPooling2D)   (None, 8, 8, 512)         0         \n",
            "_________________________________________________________________\n",
            "sequential_1 (Sequential)    (None, 26)                8395546   \n",
            "=================================================================\n",
            "Total params: 23,110,234\n",
            "Trainable params: 23,110,234\n",
            "Non-trainable params: 0\n",
            "_________________________________________________________________\n"
          ],
          "name": "stdout"
        }
      ]
    },
    {
      "cell_type": "code",
      "metadata": {
        "id": "IZf3uminvaC3",
        "colab_type": "code",
        "colab": {}
      },
      "source": [
        "batch_size = 32 # tune it\n",
        "epochs = 5 # increase it\n",
        "\n",
        "train_datagen = ImageDataGenerator(rotation_range=30, \n",
        "                                    width_shift_range=0.1,\n",
        "                                    height_shift_range=0.1, \n",
        "                                    horizontal_flip=True)\n",
        "train_datagen.fit(x_train)"
      ],
      "execution_count": 0,
      "outputs": []
    },
    {
      "cell_type": "code",
      "metadata": {
        "id": "QHFzFXnkvbJy",
        "colab_type": "code",
        "colab": {
          "base_uri": "https://localhost:8080/",
          "height": 292
        },
        "outputId": "91f95397-da85-4d68-9e85-dc699d98eeb2"
      },
      "source": [
        "history = model.fit_generator(\n",
        "    train_datagen.flow(x_train, y_train, batch_size=batch_size),\n",
        "    steps_per_epoch=x_train.shape[0] // batch_size,\n",
        "    epochs=epochs,\n",
        "    callbacks=[ModelCheckpoint('VGG16-transferlearning.model', monitor='val_acc', save_best_only=True)]\n",
        ")"
      ],
      "execution_count": 46,
      "outputs": [
        {
          "output_type": "stream",
          "text": [
            "WARNING:tensorflow:From /usr/local/lib/python3.6/dist-packages/tensorflow/python/ops/math_ops.py:3066: to_int32 (from tensorflow.python.ops.math_ops) is deprecated and will be removed in a future version.\n",
            "Instructions for updating:\n",
            "Use tf.cast instead.\n",
            "Epoch 1/5\n",
            "100/100 [==============================] - 64s 643ms/step - loss: 3.1253 - acc: 0.1147\n",
            "Epoch 2/5\n"
          ],
          "name": "stdout"
        },
        {
          "output_type": "stream",
          "text": [
            "/usr/local/lib/python3.6/dist-packages/keras/callbacks.py:434: RuntimeWarning: Can save best model only with val_acc available, skipping.\n",
            "  'skipping.' % (self.monitor), RuntimeWarning)\n"
          ],
          "name": "stderr"
        },
        {
          "output_type": "stream",
          "text": [
            "100/100 [==============================] - 58s 578ms/step - loss: 2.6565 - acc: 0.2399\n",
            "Epoch 3/5\n",
            "100/100 [==============================] - 55s 553ms/step - loss: 2.1351 - acc: 0.3692\n",
            "Epoch 4/5\n",
            "100/100 [==============================] - 56s 561ms/step - loss: 1.7439 - acc: 0.4762\n",
            "Epoch 5/5\n",
            "100/100 [==============================] - 57s 568ms/step - loss: 1.5126 - acc: 0.5461\n"
          ],
          "name": "stdout"
        }
      ]
    },
    {
      "cell_type": "code",
      "metadata": {
        "id": "5TiawFnWvbGj",
        "colab_type": "code",
        "colab": {}
      },
      "source": [
        "## predict test data\n",
        "predictions = model.predict(x_test)"
      ],
      "execution_count": 0,
      "outputs": []
    },
    {
      "cell_type": "code",
      "metadata": {
        "id": "TM-w6Ram1oTm",
        "colab_type": "code",
        "colab": {
          "base_uri": "https://localhost:8080/",
          "height": 238
        },
        "outputId": "3f7398ce-cd36-4613-dcd2-a128949d0416"
      },
      "source": [
        "predictions"
      ],
      "execution_count": 48,
      "outputs": [
        {
          "output_type": "execute_result",
          "data": {
            "text/plain": [
              "array([[7.3754090e-06, 4.0775109e-03, 3.0974038e-03, ..., 3.2736966e-04,\n",
              "        5.3304690e-01, 2.7033860e-02],\n",
              "       [1.7749027e-05, 1.4530937e-01, 7.8847762e-03, ..., 1.9548709e-02,\n",
              "        3.3004437e-02, 1.3912750e-02],\n",
              "       [2.6473833e-06, 5.3327536e-04, 4.4101478e-05, ..., 7.3449418e-04,\n",
              "        5.9206246e-05, 1.1266309e-03],\n",
              "       ...,\n",
              "       [4.7611707e-06, 7.5286604e-04, 1.9089067e-02, ..., 5.1384527e-02,\n",
              "        1.1131955e-02, 3.4632692e-03],\n",
              "       [1.2830648e-05, 2.0226769e-02, 1.4411493e-02, ..., 1.0449480e-01,\n",
              "        3.3360901e-03, 8.2023250e-04],\n",
              "       [1.3684812e-04, 2.3905775e-01, 6.4317882e-03, ..., 5.3343702e-02,\n",
              "        1.2364411e-03, 8.3878050e-03]], dtype=float32)"
            ]
          },
          "metadata": {
            "tags": []
          },
          "execution_count": 48
        }
      ]
    },
    {
      "cell_type": "code",
      "metadata": {
        "id": "KrQ0NCzA1v0G",
        "colab_type": "code",
        "colab": {
          "base_uri": "https://localhost:8080/",
          "height": 54
        },
        "outputId": "9bde195f-f2f4-40ca-a8c7-d814d990ec25"
      },
      "source": [
        "Y_train.items()"
      ],
      "execution_count": 49,
      "outputs": [
        {
          "output_type": "execute_result",
          "data": {
            "text/plain": [
              "dict_items([('tomatosauce', 1), ('rice', 2), ('jam', 3), ('milk', 4), ('water', 5), ('soda', 6), ('pasta', 7), ('nuts', 8), ('chocolate', 9), ('tea', 10), ('fish', 11), ('chips', 12), ('honey', 13), ('vinegar', 14), ('flour', 15), ('cereal', 16), ('beans', 17), ('cake', 18), ('corn', 19), ('oil', 20), ('sugar', 21), ('spices', 22), ('coffee', 23), ('candy', 24), ('juice', 25)])"
            ]
          },
          "metadata": {
            "tags": []
          },
          "execution_count": 49
        }
      ]
    },
    {
      "cell_type": "code",
      "metadata": {
        "id": "8EMY6KypvbDk",
        "colab_type": "code",
        "colab": {}
      },
      "source": [
        "# get labels\n",
        "predictions = np.argmax(predictions, axis=1)\n",
        "rev_y = {v:k for k,v in Y_train.items()}\n",
        "pred_labels = [rev_y[k] for k in predictions]"
      ],
      "execution_count": 0,
      "outputs": []
    },
    {
      "cell_type": "code",
      "metadata": {
        "id": "y3EBDpat2Kr0",
        "colab_type": "code",
        "colab": {
          "base_uri": "https://localhost:8080/",
          "height": 34
        },
        "outputId": "fe06ffff-ee54-4c14-8078-75578e180160"
      },
      "source": [
        "pred_labels[:5]"
      ],
      "execution_count": 53,
      "outputs": [
        {
          "output_type": "execute_result",
          "data": {
            "text/plain": [
              "['candy', 'honey', 'vinegar', 'water', 'candy']"
            ]
          },
          "metadata": {
            "tags": []
          },
          "execution_count": 53
        }
      ]
    },
    {
      "cell_type": "code",
      "metadata": {
        "id": "qvRYYHBPvbBF",
        "colab_type": "code",
        "colab": {
          "base_uri": "https://localhost:8080/",
          "height": 204
        },
        "outputId": "4bc2756f-6924-4117-dfa6-1c56eda054c1"
      },
      "source": [
        "## make submission\n",
        "sub = pd.DataFrame({'image_id':test.image_id, 'label':pred_labels})\n",
        "sub.head()"
      ],
      "execution_count": 54,
      "outputs": [
        {
          "output_type": "execute_result",
          "data": {
            "text/html": [
              "<div>\n",
              "<style scoped>\n",
              "    .dataframe tbody tr th:only-of-type {\n",
              "        vertical-align: middle;\n",
              "    }\n",
              "\n",
              "    .dataframe tbody tr th {\n",
              "        vertical-align: top;\n",
              "    }\n",
              "\n",
              "    .dataframe thead th {\n",
              "        text-align: right;\n",
              "    }\n",
              "</style>\n",
              "<table border=\"1\" class=\"dataframe\">\n",
              "  <thead>\n",
              "    <tr style=\"text-align: right;\">\n",
              "      <th></th>\n",
              "      <th>image_id</th>\n",
              "      <th>label</th>\n",
              "    </tr>\n",
              "  </thead>\n",
              "  <tbody>\n",
              "    <tr>\n",
              "      <th>0</th>\n",
              "      <td>test_1000a</td>\n",
              "      <td>candy</td>\n",
              "    </tr>\n",
              "    <tr>\n",
              "      <th>1</th>\n",
              "      <td>test_1000b</td>\n",
              "      <td>honey</td>\n",
              "    </tr>\n",
              "    <tr>\n",
              "      <th>2</th>\n",
              "      <td>test_1000c</td>\n",
              "      <td>vinegar</td>\n",
              "    </tr>\n",
              "    <tr>\n",
              "      <th>3</th>\n",
              "      <td>test_1000d</td>\n",
              "      <td>water</td>\n",
              "    </tr>\n",
              "    <tr>\n",
              "      <th>4</th>\n",
              "      <td>test_1001a</td>\n",
              "      <td>candy</td>\n",
              "    </tr>\n",
              "  </tbody>\n",
              "</table>\n",
              "</div>"
            ],
            "text/plain": [
              "     image_id    label\n",
              "0  test_1000a    candy\n",
              "1  test_1000b    honey\n",
              "2  test_1000c  vinegar\n",
              "3  test_1000d    water\n",
              "4  test_1001a    candy"
            ]
          },
          "metadata": {
            "tags": []
          },
          "execution_count": 54
        }
      ]
    },
    {
      "cell_type": "code",
      "metadata": {
        "id": "g__VBlmFvaAR",
        "colab_type": "code",
        "colab": {}
      },
      "source": [
        "sub.to_csv('/home/sub_vgg.csv', index=False) ## ~0.59"
      ],
      "execution_count": 0,
      "outputs": []
    },
    {
      "cell_type": "code",
      "metadata": {
        "id": "6GZsq07ivZ9X",
        "colab_type": "code",
        "colab": {}
      },
      "source": [
        ""
      ],
      "execution_count": 0,
      "outputs": []
    },
    {
      "cell_type": "code",
      "metadata": {
        "id": "xR0IFox_vZ6V",
        "colab_type": "code",
        "colab": {}
      },
      "source": [
        ""
      ],
      "execution_count": 0,
      "outputs": []
    },
    {
      "cell_type": "code",
      "metadata": {
        "id": "GSpAwOEQvZ3o",
        "colab_type": "code",
        "colab": {}
      },
      "source": [
        ""
      ],
      "execution_count": 0,
      "outputs": []
    },
    {
      "cell_type": "code",
      "metadata": {
        "id": "LaXW4ZxZvZ01",
        "colab_type": "code",
        "colab": {}
      },
      "source": [
        ""
      ],
      "execution_count": 0,
      "outputs": []
    },
    {
      "cell_type": "code",
      "metadata": {
        "id": "yRDoi1fGvZxk",
        "colab_type": "code",
        "colab": {}
      },
      "source": [
        ""
      ],
      "execution_count": 0,
      "outputs": []
    },
    {
      "cell_type": "code",
      "metadata": {
        "id": "2NkT4nVgvZqc",
        "colab_type": "code",
        "colab": {}
      },
      "source": [
        ""
      ],
      "execution_count": 0,
      "outputs": []
    },
    {
      "cell_type": "code",
      "metadata": {
        "id": "iVZinpGavZna",
        "colab_type": "code",
        "colab": {}
      },
      "source": [
        ""
      ],
      "execution_count": 0,
      "outputs": []
    },
    {
      "cell_type": "code",
      "metadata": {
        "id": "z1u0vVIcvXZc",
        "colab_type": "code",
        "colab": {}
      },
      "source": [
        ""
      ],
      "execution_count": 0,
      "outputs": []
    },
    {
      "cell_type": "code",
      "metadata": {
        "id": "dnyz0AmVvXK4",
        "colab_type": "code",
        "colab": {}
      },
      "source": [
        ""
      ],
      "execution_count": 0,
      "outputs": []
    },
    {
      "cell_type": "code",
      "metadata": {
        "id": "BwpjZE_UuGI0",
        "colab_type": "code",
        "colab": {}
      },
      "source": [
        "\n"
      ],
      "execution_count": 0,
      "outputs": []
    }
  ]
}