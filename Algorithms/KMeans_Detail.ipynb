{
  "nbformat": 4,
  "nbformat_minor": 0,
  "metadata": {
    "colab": {
      "name": "Welcome_To_Colaboratory.ipynb",
      "provenance": [],
      "collapsed_sections": [],
      "include_colab_link": true
    },
    "kernelspec": {
      "name": "python3",
      "display_name": "Python 3"
    },
    "accelerator": "GPU"
  },
  "cells": [
    {
      "cell_type": "markdown",
      "metadata": {
        "id": "view-in-github",
        "colab_type": "text"
      },
      "source": [
        "<a href=\"https://colab.research.google.com/github/priyanshgupta1998/Machine_learning/blob/master/Algorithms/KMeans_Detail.ipynb\" target=\"_parent\"><img src=\"https://colab.research.google.com/assets/colab-badge.svg\" alt=\"Open In Colab\"/></a>"
      ]
    },
    {
      "cell_type": "code",
      "metadata": {
        "id": "eSlQ97cDwS8J",
        "colab_type": "code",
        "colab": {}
      },
      "source": [
        "import pandas as pd\n",
        "import numpy as np\n",
        "from matplotlib import pyplot as plt\n",
        "import random\n",
        "%matplotlib inline"
      ],
      "execution_count": 0,
      "outputs": []
    },
    {
      "cell_type": "code",
      "metadata": {
        "id": "EwYB8TEgwS_T",
        "colab_type": "code",
        "outputId": "28058622-1d25-48d5-b6f1-2ee3e8ded85b",
        "colab": {
          "base_uri": "https://localhost:8080/",
          "height": 221
        }
      },
      "source": [
        "# create a dataset that consist some random data points \n",
        "\n",
        "df =pd.DataFrame({\n",
        "\t'x' :[12,20,20,18,29,33,24,45,45,52,51,52,55,53,55,61,64,69,72],\n",
        "\t'y' :[39,36,30,52,54,46,55,59,63,70,66,63,58,23,14,8,19,7,24]\n",
        "\t})\n",
        "\n",
        "print(df.shape)\n",
        "df.head()"
      ],
      "execution_count": 17,
      "outputs": [
        {
          "output_type": "stream",
          "text": [
            "(19, 2)\n"
          ],
          "name": "stdout"
        },
        {
          "output_type": "execute_result",
          "data": {
            "text/html": [
              "<div>\n",
              "<style scoped>\n",
              "    .dataframe tbody tr th:only-of-type {\n",
              "        vertical-align: middle;\n",
              "    }\n",
              "\n",
              "    .dataframe tbody tr th {\n",
              "        vertical-align: top;\n",
              "    }\n",
              "\n",
              "    .dataframe thead th {\n",
              "        text-align: right;\n",
              "    }\n",
              "</style>\n",
              "<table border=\"1\" class=\"dataframe\">\n",
              "  <thead>\n",
              "    <tr style=\"text-align: right;\">\n",
              "      <th></th>\n",
              "      <th>x</th>\n",
              "      <th>y</th>\n",
              "    </tr>\n",
              "  </thead>\n",
              "  <tbody>\n",
              "    <tr>\n",
              "      <th>0</th>\n",
              "      <td>12</td>\n",
              "      <td>39</td>\n",
              "    </tr>\n",
              "    <tr>\n",
              "      <th>1</th>\n",
              "      <td>20</td>\n",
              "      <td>36</td>\n",
              "    </tr>\n",
              "    <tr>\n",
              "      <th>2</th>\n",
              "      <td>20</td>\n",
              "      <td>30</td>\n",
              "    </tr>\n",
              "    <tr>\n",
              "      <th>3</th>\n",
              "      <td>18</td>\n",
              "      <td>52</td>\n",
              "    </tr>\n",
              "    <tr>\n",
              "      <th>4</th>\n",
              "      <td>29</td>\n",
              "      <td>54</td>\n",
              "    </tr>\n",
              "  </tbody>\n",
              "</table>\n",
              "</div>"
            ],
            "text/plain": [
              "    x   y\n",
              "0  12  39\n",
              "1  20  36\n",
              "2  20  30\n",
              "3  18  52\n",
              "4  29  54"
            ]
          },
          "metadata": {
            "tags": []
          },
          "execution_count": 17
        }
      ]
    },
    {
      "cell_type": "code",
      "metadata": {
        "id": "AIk_CNhBwTDP",
        "colab_type": "code",
        "outputId": "a329d0bf-0a8f-4800-bd25-182c11f5a0e7",
        "colab": {
          "base_uri": "https://localhost:8080/",
          "height": 323
        }
      },
      "source": [
        "#Draw a scatter plot of all the datapoints that are available in the dataset\n",
        "plt.figure(figsize =(5,5))\n",
        "plt.scatter(df['x'] ,df['y'] , color='k')\n",
        "plt.show()"
      ],
      "execution_count": 18,
      "outputs": [
        {
          "output_type": "display_data",
          "data": {
            "image/png": "[encoded data removed]",
            "text/plain": [
              "<Figure size 360x360 with 1 Axes>"
            ]
          },
          "metadata": {
            "tags": []
          }
        }
      ]
    },
    {
      "cell_type": "code",
      "metadata": {
        "id": "YGltmp7FAsU3",
        "colab_type": "code",
        "outputId": "8e3b8a87-d781-4554-acc8-967c9c0cef21",
        "colab": {
          "base_uri": "https://localhost:8080/",
          "height": 34
        }
      },
      "source": [
        "np.random.seed(200)     #The prupose of using this ....value doesn't changed which has been taken randomly\n",
        "k = 3\n",
        "centroids = {\n",
        "\ti+1: [np.random.randint(0 , 80) , np.random.randint(0,80)]\n",
        "\tfor i in range(k)\n",
        "}\n",
        "centroids\n"
      ],
      "execution_count": 19,
      "outputs": [
        {
          "output_type": "execute_result",
          "data": {
            "text/plain": [
              "{1: [26, 16], 2: [68, 42], 3: [55, 76]}"
            ]
          },
          "metadata": {
            "tags": []
          },
          "execution_count": 19
        }
      ]
    },
    {
      "cell_type": "code",
      "metadata": {
        "id": "1yu5FkEHBY_j",
        "colab_type": "code",
        "outputId": "7f3af8cc-54e3-4578-ca64-975ec816b81f",
        "colab": {
          "base_uri": "https://localhost:8080/",
          "height": 68
        }
      },
      "source": [
        "for i in centroids.keys():\n",
        "  print(centroids[i] , '      ----       ' ,    *centroids[i])"
      ],
      "execution_count": 20,
      "outputs": [
        {
          "output_type": "stream",
          "text": [
            "[26, 16]       ----        26 16\n",
            "[68, 42]       ----        68 42\n",
            "[55, 76]       ----        55 76\n"
          ],
          "name": "stdout"
        }
      ]
    },
    {
      "cell_type": "code",
      "metadata": {
        "id": "K3i8cACjwTFP",
        "colab_type": "code",
        "outputId": "166627fd-56a8-4594-f3c9-55eed904c673",
        "colab": {
          "base_uri": "https://localhost:8080/",
          "height": 324
        }
      },
      "source": [
        "plt.figure(figsize =(5,5))\n",
        "#plt.scatter(df['x'] ,df['y'] , color='k')\n",
        "colmap = {1 : 'r' , 2:'g' , 3:'b'}\n",
        "for i in centroids.keys():\n",
        "\tplt.scatter(*centroids[i] , color = colmap[i])\n",
        "plt.xlim(0,80)\n",
        "plt.ylim(0,80)\n",
        "plt.show()\n",
        "\n"
      ],
      "execution_count": 21,
      "outputs": [
        {
          "output_type": "display_data",
          "data": {
            "image/png": "[encoded data removed]",
            "text/plain": [
              "<Figure size 360x360 with 1 Axes>"
            ]
          },
          "metadata": {
            "tags": []
          }
        }
      ]
    },
    {
      "cell_type": "markdown",
      "metadata": {
        "id": "bdEFlySWBjlh",
        "colab_type": "text"
      },
      "source": [
        "## Putting it all together"
      ]
    },
    {
      "cell_type": "code",
      "metadata": {
        "id": "IiyBk4SywTHB",
        "colab_type": "code",
        "outputId": "6c02cfbe-e456-4817-f77d-aa8c397fafb7",
        "colab": {
          "base_uri": "https://localhost:8080/",
          "height": 324
        }
      },
      "source": [
        "plt.figure(figsize =(5,5))\n",
        "plt.scatter(df['x'] ,df['y'] , color='y')\n",
        "colmap = {1 : 'r' , 2:'g' , 3:'b'}\n",
        "for i in centroids.keys():\n",
        "\tplt.scatter(*centroids[i] , color = colmap[i])\n",
        "plt.xlim(0,80)\n",
        "plt.ylim(0,80)\n",
        "plt.show()\n",
        "\n"
      ],
      "execution_count": 22,
      "outputs": [
        {
          "output_type": "display_data",
          "data": {
            "image/png": "[encoded data removed]",
            "text/plain": [
              "<Figure size 360x360 with 1 Axes>"
            ]
          },
          "metadata": {
            "tags": []
          }
        }
      ]
    },
    {
      "cell_type": "code",
      "metadata": {
        "id": "Kele_DvxwTIp",
        "colab_type": "code",
        "outputId": "ff9f1c84-a893-4cb7-9eee-e5af8b996256",
        "colab": {
          "base_uri": "https://localhost:8080/",
          "height": 34
        }
      },
      "source": [
        "def assignment(df, centroids):\n",
        "  for i in centroids.keys():\n",
        "    #Calculate the euclidean distance between each data point tn the dataste and that  corresponding centroid\n",
        "    df['distance_from_{}'.format(i)] =(\n",
        "        np.sqrt(\n",
        "            (df['x'] - centroids[i][0])**2\n",
        "            + (df['y'] - centroids[i][1])**2\n",
        "        )\n",
        "    )\n",
        "  centroid_distance_cols = ['distance_from_{}'.format(i) for i in centroids.keys()]\n",
        "  print(centroid_distance_cols)\n",
        "  #Pandas is one of those packages and makes importing and analyzing data much easier. \n",
        "  #Pandas dataframe.idxmin() function returns index of first occurrence of minimum over requested axis.\n",
        "  df['closest'] = df.loc[: , centroid_distance_cols].idxmin(axis = 1)   # just see the example below in this notebook at the end.\n",
        "  df['closest'] = df['closest'].map(lambda x: int(x.lstrip('distance_from_')))\n",
        "  df['color'] = df['closest'].map(lambda x: colmap[x])\n",
        "  return df\n",
        "\n",
        "    \n",
        "\n",
        "df= assignment(df, centroids)"
      ],
      "execution_count": 23,
      "outputs": [
        {
          "output_type": "stream",
          "text": [
            "['distance_from_1', 'distance_from_2', 'distance_from_3']\n"
          ],
          "name": "stdout"
        }
      ]
    },
    {
      "cell_type": "code",
      "metadata": {
        "id": "5yqWK9axwTK_",
        "colab_type": "code",
        "outputId": "0ebc3a28-3dc3-43ff-ccff-161d4a8805e2",
        "colab": {
          "base_uri": "https://localhost:8080/",
          "height": 204
        }
      },
      "source": [
        "data = df.copy()\n",
        "data.head()"
      ],
      "execution_count": 24,
      "outputs": [
        {
          "output_type": "execute_result",
          "data": {
            "text/html": [
              "<div>\n",
              "<style scoped>\n",
              "    .dataframe tbody tr th:only-of-type {\n",
              "        vertical-align: middle;\n",
              "    }\n",
              "\n",
              "    .dataframe tbody tr th {\n",
              "        vertical-align: top;\n",
              "    }\n",
              "\n",
              "    .dataframe thead th {\n",
              "        text-align: right;\n",
              "    }\n",
              "</style>\n",
              "<table border=\"1\" class=\"dataframe\">\n",
              "  <thead>\n",
              "    <tr style=\"text-align: right;\">\n",
              "      <th></th>\n",
              "      <th>x</th>\n",
              "      <th>y</th>\n",
              "      <th>distance_from_1</th>\n",
              "      <th>distance_from_2</th>\n",
              "      <th>distance_from_3</th>\n",
              "      <th>closest</th>\n",
              "      <th>color</th>\n",
              "    </tr>\n",
              "  </thead>\n",
              "  <tbody>\n",
              "    <tr>\n",
              "      <th>0</th>\n",
              "      <td>12</td>\n",
              "      <td>39</td>\n",
              "      <td>26.925824</td>\n",
              "      <td>56.080300</td>\n",
              "      <td>56.727418</td>\n",
              "      <td>1</td>\n",
              "      <td>r</td>\n",
              "    </tr>\n",
              "    <tr>\n",
              "      <th>1</th>\n",
              "      <td>20</td>\n",
              "      <td>36</td>\n",
              "      <td>20.880613</td>\n",
              "      <td>48.373546</td>\n",
              "      <td>53.150729</td>\n",
              "      <td>1</td>\n",
              "      <td>r</td>\n",
              "    </tr>\n",
              "    <tr>\n",
              "      <th>2</th>\n",
              "      <td>20</td>\n",
              "      <td>30</td>\n",
              "      <td>15.231546</td>\n",
              "      <td>49.477268</td>\n",
              "      <td>57.801384</td>\n",
              "      <td>1</td>\n",
              "      <td>r</td>\n",
              "    </tr>\n",
              "    <tr>\n",
              "      <th>3</th>\n",
              "      <td>18</td>\n",
              "      <td>52</td>\n",
              "      <td>36.878178</td>\n",
              "      <td>50.990195</td>\n",
              "      <td>44.102154</td>\n",
              "      <td>1</td>\n",
              "      <td>r</td>\n",
              "    </tr>\n",
              "    <tr>\n",
              "      <th>4</th>\n",
              "      <td>29</td>\n",
              "      <td>54</td>\n",
              "      <td>38.118237</td>\n",
              "      <td>40.804412</td>\n",
              "      <td>34.058773</td>\n",
              "      <td>3</td>\n",
              "      <td>b</td>\n",
              "    </tr>\n",
              "  </tbody>\n",
              "</table>\n",
              "</div>"
            ],
            "text/plain": [
              "    x   y  distance_from_1  distance_from_2  distance_from_3  closest color\n",
              "0  12  39        26.925824        56.080300        56.727418        1     r\n",
              "1  20  36        20.880613        48.373546        53.150729        1     r\n",
              "2  20  30        15.231546        49.477268        57.801384        1     r\n",
              "3  18  52        36.878178        50.990195        44.102154        1     r\n",
              "4  29  54        38.118237        40.804412        34.058773        3     b"
            ]
          },
          "metadata": {
            "tags": []
          },
          "execution_count": 24
        }
      ]
    },
    {
      "cell_type": "code",
      "metadata": {
        "id": "8ldIy4OuwTOc",
        "colab_type": "code",
        "outputId": "4d31c388-4ee1-4ef4-ec20-db49e46c188d",
        "colab": {
          "base_uri": "https://localhost:8080/",
          "height": 324
        }
      },
      "source": [
        "plt.figure(figsize =(5,5))\n",
        "plt.scatter(data['x'] ,data['y'] , color=data['color'] , alpha=0.5 , edgecolor ='k')\n",
        "for i in centroids.keys():\n",
        "\tplt.scatter(*centroids[i] , color = colmap[i])\n",
        "plt.xlim(0,80)\n",
        "plt.ylim(0,80)\n",
        "plt.show()\n"
      ],
      "execution_count": 25,
      "outputs": [
        {
          "output_type": "display_data",
          "data": {
            "image/png": "[encoded data removed]",
            "text/plain": [
              "<Figure size 360x360 with 1 Axes>"
            ]
          },
          "metadata": {
            "tags": []
          }
        }
      ]
    },
    {
      "cell_type": "markdown",
      "metadata": {
        "id": "_-HwYPwBTEVV",
        "colab_type": "text"
      },
      "source": [
        "# Now move on to the updated stage"
      ]
    },
    {
      "cell_type": "code",
      "metadata": {
        "id": "YZ4HQORtTCwB",
        "colab_type": "code",
        "outputId": "a2fff356-7f29-4ba1-e6b8-f5271dd5888f",
        "colab": {
          "base_uri": "https://localhost:8080/",
          "height": 51
        }
      },
      "source": [
        "\n",
        "import copy\n",
        "old_centroids = copy.deepcopy(centroids)\n",
        "print(type(old_centroids))\n",
        "old_centroids "
      ],
      "execution_count": 26,
      "outputs": [
        {
          "output_type": "stream",
          "text": [
            "<class 'dict'>\n"
          ],
          "name": "stdout"
        },
        {
          "output_type": "execute_result",
          "data": {
            "text/plain": [
              "{1: [26, 16], 2: [68, 42], 3: [55, 76]}"
            ]
          },
          "metadata": {
            "tags": []
          },
          "execution_count": 26
        }
      ]
    },
    {
      "cell_type": "code",
      "metadata": {
        "id": "_yLyEy3aTS3r",
        "colab_type": "code",
        "outputId": "b9216276-7af2-4b87-94bf-a2f8f7c0a0b9",
        "colab": {
          "base_uri": "https://localhost:8080/",
          "height": 221
        }
      },
      "source": [
        "df = data.copy()\n",
        "print(df.shape)\n",
        "df.head()"
      ],
      "execution_count": 27,
      "outputs": [
        {
          "output_type": "stream",
          "text": [
            "(19, 7)\n"
          ],
          "name": "stdout"
        },
        {
          "output_type": "execute_result",
          "data": {
            "text/html": [
              "<div>\n",
              "<style scoped>\n",
              "    .dataframe tbody tr th:only-of-type {\n",
              "        vertical-align: middle;\n",
              "    }\n",
              "\n",
              "    .dataframe tbody tr th {\n",
              "        vertical-align: top;\n",
              "    }\n",
              "\n",
              "    .dataframe thead th {\n",
              "        text-align: right;\n",
              "    }\n",
              "</style>\n",
              "<table border=\"1\" class=\"dataframe\">\n",
              "  <thead>\n",
              "    <tr style=\"text-align: right;\">\n",
              "      <th></th>\n",
              "      <th>x</th>\n",
              "      <th>y</th>\n",
              "      <th>distance_from_1</th>\n",
              "      <th>distance_from_2</th>\n",
              "      <th>distance_from_3</th>\n",
              "      <th>closest</th>\n",
              "      <th>color</th>\n",
              "    </tr>\n",
              "  </thead>\n",
              "  <tbody>\n",
              "    <tr>\n",
              "      <th>0</th>\n",
              "      <td>12</td>\n",
              "      <td>39</td>\n",
              "      <td>26.925824</td>\n",
              "      <td>56.080300</td>\n",
              "      <td>56.727418</td>\n",
              "      <td>1</td>\n",
              "      <td>r</td>\n",
              "    </tr>\n",
              "    <tr>\n",
              "      <th>1</th>\n",
              "      <td>20</td>\n",
              "      <td>36</td>\n",
              "      <td>20.880613</td>\n",
              "      <td>48.373546</td>\n",
              "      <td>53.150729</td>\n",
              "      <td>1</td>\n",
              "      <td>r</td>\n",
              "    </tr>\n",
              "    <tr>\n",
              "      <th>2</th>\n",
              "      <td>20</td>\n",
              "      <td>30</td>\n",
              "      <td>15.231546</td>\n",
              "      <td>49.477268</td>\n",
              "      <td>57.801384</td>\n",
              "      <td>1</td>\n",
              "      <td>r</td>\n",
              "    </tr>\n",
              "    <tr>\n",
              "      <th>3</th>\n",
              "      <td>18</td>\n",
              "      <td>52</td>\n",
              "      <td>36.878178</td>\n",
              "      <td>50.990195</td>\n",
              "      <td>44.102154</td>\n",
              "      <td>1</td>\n",
              "      <td>r</td>\n",
              "    </tr>\n",
              "    <tr>\n",
              "      <th>4</th>\n",
              "      <td>29</td>\n",
              "      <td>54</td>\n",
              "      <td>38.118237</td>\n",
              "      <td>40.804412</td>\n",
              "      <td>34.058773</td>\n",
              "      <td>3</td>\n",
              "      <td>b</td>\n",
              "    </tr>\n",
              "  </tbody>\n",
              "</table>\n",
              "</div>"
            ],
            "text/plain": [
              "    x   y  distance_from_1  distance_from_2  distance_from_3  closest color\n",
              "0  12  39        26.925824        56.080300        56.727418        1     r\n",
              "1  20  36        20.880613        48.373546        53.150729        1     r\n",
              "2  20  30        15.231546        49.477268        57.801384        1     r\n",
              "3  18  52        36.878178        50.990195        44.102154        1     r\n",
              "4  29  54        38.118237        40.804412        34.058773        3     b"
            ]
          },
          "metadata": {
            "tags": []
          },
          "execution_count": 27
        }
      ]
    },
    {
      "cell_type": "code",
      "metadata": {
        "id": "dlgtLgEtT8WY",
        "colab_type": "code",
        "outputId": "1a3eefa3-1134-4547-b25e-4a8534fe0a8f",
        "colab": {
          "base_uri": "https://localhost:8080/",
          "height": 68
        }
      },
      "source": [
        "#Now calculate the mean of the elements from each cluster and the most acurate data point (accurate centroid of that cluster)\n",
        "def updates(k):\n",
        "\tfor i in centroids.keys():\n",
        "\t\tk[i][0] = np.mean(df[df['closest'] == i]['x'])\n",
        "\t\tk[i][1] = np.mean(df[df['closest'] == i]['y'])\n",
        "\treturn k\n",
        "\n",
        "new_centroids = updates(centroids)\n",
        "new_centroids"
      ],
      "execution_count": 28,
      "outputs": [
        {
          "output_type": "execute_result",
          "data": {
            "text/plain": [
              "{1: [26.333333333333332, 36.166666666666664],\n",
              " 2: [63.8, 16.2],\n",
              " 3: [44.125, 61.0]}"
            ]
          },
          "metadata": {
            "tags": []
          },
          "execution_count": 28
        }
      ]
    },
    {
      "cell_type": "code",
      "metadata": {
        "id": "o-jcdpmgVKE9",
        "colab_type": "code",
        "outputId": "6e86b92b-a891-4089-b435-bcaf982f74f1",
        "colab": {
          "base_uri": "https://localhost:8080/",
          "height": 444
        }
      },
      "source": [
        "plt.figure(figsize=(15,7))\n",
        "\n",
        "plt.subplot(121)\n",
        "plt.scatter(df['x'] , df['y'] , color=df['color'] , alpha=0.5 , edgecolor='k')\n",
        "for i in new_centroids.keys():\n",
        "\tplt.scatter(*new_centroids[i] , color = colmap[i])\n",
        "plt.title('Updated Scatter Plot')\n",
        "\n",
        "plt.subplot(122)\n",
        "plt.scatter(df['x'] , df['y'] , color=df['color'] , alpha=0.5 , edgecolor='k')\n",
        "for i in old_centroids.keys():\n",
        "\tplt.scatter(*old_centroids[i] , color = colmap[i])\n",
        "plt.title('Old Scatter Plot')\n",
        "  \n",
        "  \n",
        "plt.xlim(0,80)\n",
        "plt.ylim(0,80)\n",
        "plt.show()"
      ],
      "execution_count": 29,
      "outputs": [
        {
          "output_type": "display_data",
          "data": {
            "image/png": "[encoded data removed]",
            "text/plain": [
              "<Figure size 1080x504 with 2 Axes>"
            ]
          },
          "metadata": {
            "tags": []
          }
        }
      ]
    },
    {
      "cell_type": "code",
      "metadata": {
        "id": "phyrK-pywTsV",
        "colab_type": "code",
        "outputId": "87c9dac0-6d04-4e15-bfc0-226e86cd89ca",
        "colab": {
          "base_uri": "https://localhost:8080/",
          "height": 324
        }
      },
      "source": [
        "#Measurement of the movement of the centroids in every cluster\n",
        "fig = plt.figure(figsize=(5,5))\n",
        "ax = plt.axes()\n",
        "plt.scatter(df['x'] , df['y'] , color=df['color'] , alpha=0.5 , edgecolor='k')\n",
        "for i in new_centroids.keys():\n",
        "\tplt.scatter(*new_centroids[i] , color = colmap[i])\n",
        "\n",
        "plt.xlim(0,80)\n",
        "plt.ylim(0,80)\n",
        "for i in old_centroids.keys():\n",
        "\told_x = old_centroids[i][0]\n",
        "\told_y = old_centroids[i][1]\n",
        "\tdx = (centroids[i][0] - old_centroids[i][0])*0.75\n",
        "\tdy = (centroids[i][1] - old_centroids[i][1])*0.75\n",
        "\tax.arrow(old_x , old_y , dx,dy , head_width =2 , head_length =3 , fc =colmap[i] , ec=colmap[i])\n",
        "plt.show()"
      ],
      "execution_count": 30,
      "outputs": [
        {
          "output_type": "display_data",
          "data": {
            "image/png": "[encoded data removed]",
            "text/plain": [
              "<Figure size 360x360 with 1 Axes>"
            ]
          },
          "metadata": {
            "tags": []
          }
        }
      ]
    },
    {
      "cell_type": "markdown",
      "metadata": {
        "id": "DymHWCLWZB0t",
        "colab_type": "text"
      },
      "source": [
        "### Now come to the best optimal solution Or get the most accurate centroid in each cluster."
      ]
    },
    {
      "cell_type": "code",
      "metadata": {
        "id": "FiOn3IMNZO5r",
        "colab_type": "code",
        "outputId": "a7130a26-0811-43ef-e198-f4cee3fdfcbe",
        "colab": {
          "base_uri": "https://localhost:8080/",
          "height": 375
        }
      },
      "source": [
        "#This process will continue until we get same mean in both continuous step\n",
        "while(True):\n",
        "  closest_centroids = df['closest'].copy(deep =True)\n",
        "  centroids = updates(centroids)   #Update the centroid point\n",
        "  df = assignment(df,centroids)    # Repeat the same process again such as calculate the new_closest_value and their corresponding color .\n",
        "  if closest_centroids.equals(df['closest']):   #Check if we are getting exact cluster same as previous by checking their Closest value.\n",
        "    break\n",
        "\n",
        "plt.figure(figsize =(5,5))\n",
        "plt.scatter(data['x'] ,data['y'] , color=data['color'] , alpha=0.5 , edgecolor ='k')\n",
        "for i in centroids.keys():\n",
        "\tplt.scatter(*centroids[i] , color = colmap[i])\n",
        "plt.xlim(0,80)\n",
        "plt.ylim(0,80)\n",
        "plt.show()"
      ],
      "execution_count": 31,
      "outputs": [
        {
          "output_type": "stream",
          "text": [
            "['distance_from_1', 'distance_from_2', 'distance_from_3']\n",
            "['distance_from_1', 'distance_from_2', 'distance_from_3']\n",
            "['distance_from_1', 'distance_from_2', 'distance_from_3']\n"
          ],
          "name": "stdout"
        },
        {
          "output_type": "display_data",
          "data": {
            "image/png": "[encoded data removed]",
            "text/plain": [
              "<Figure size 360x360 with 1 Axes>"
            ]
          },
          "metadata": {
            "tags": []
          }
        }
      ]
    },
    {
      "cell_type": "markdown",
      "metadata": {
        "id": "QnfMUH29erUi",
        "colab_type": "text"
      },
      "source": [
        "From the above graph we can see that we are getting best optimal answer after 3 steps .\n",
        "Most accurate centroid point"
      ]
    },
    {
      "cell_type": "code",
      "metadata": {
        "id": "6E67TBN50gUP",
        "colab_type": "code",
        "colab": {
          "base_uri": "https://localhost:8080/",
          "height": 34
        },
        "outputId": "a7b9e5f8-246f-494c-cfce-11580bfd3811"
      },
      "source": [
        "print(centroids) #-------(1)    #Best optimal or accurate Centroid points which using Machine learning Algorithm"
      ],
      "execution_count": 32,
      "outputs": [
        {
          "output_type": "stream",
          "text": [
            "{1: [22.285714285714285, 44.57142857142857], 2: [62.333333333333336, 15.833333333333334], 3: [50.0, 63.166666666666664]}\n"
          ],
          "name": "stdout"
        }
      ]
    },
    {
      "cell_type": "markdown",
      "metadata": {
        "id": "xNi8r5tqYjRt",
        "colab_type": "text"
      },
      "source": [
        "### It's time to bring Machine learnig inbluit K-means Algorithm (from Scikit-learn) into Picture."
      ]
    },
    {
      "cell_type": "code",
      "metadata": {
        "id": "O4cU5oIBwTb4",
        "colab_type": "code",
        "colab": {
          "base_uri": "https://localhost:8080/",
          "height": 68
        },
        "outputId": "f729f85c-75ac-491a-da4c-012b2884348a"
      },
      "source": [
        "df =pd.DataFrame({\n",
        "\t'x' :[12,20,20,18,29,33,24,45,45,52,51,52,55,53,55,61,64,69,72],\n",
        "\t'y' :[39,36,30,52,54,46,55,59,63,70,66,63,58,23,14,8,19,7,24]\n",
        "\t})\n",
        "\n",
        "from sklearn.cluster import KMeans\n",
        "kmeans = KMeans(n_clusters= 3)\n",
        "kmeans.fit(df)  # it will generate label automatically  # These labels are nothing but the classes. each class represents an single centroid."
      ],
      "execution_count": 10,
      "outputs": [
        {
          "output_type": "execute_result",
          "data": {
            "text/plain": [
              "KMeans(algorithm='auto', copy_x=True, init='k-means++', max_iter=300,\n",
              "       n_clusters=3, n_init=10, n_jobs=None, precompute_distances='auto',\n",
              "       random_state=None, tol=0.0001, verbose=0)"
            ]
          },
          "metadata": {
            "tags": []
          },
          "execution_count": 10
        }
      ]
    },
    {
      "cell_type": "code",
      "metadata": {
        "id": "P8-rg-Ney54-",
        "colab_type": "code",
        "colab": {
          "base_uri": "https://localhost:8080/",
          "height": 34
        },
        "outputId": "2a5add54-1043-4f19-b353-aaffc0edabc4"
      },
      "source": [
        "labels = kmeans.predict(df)\n",
        "print(labels)"
      ],
      "execution_count": 11,
      "outputs": [
        {
          "output_type": "stream",
          "text": [
            "[2 2 2 2 2 2 2 1 1 1 1 1 1 0 0 0 0 0 0]\n"
          ],
          "name": "stdout"
        }
      ]
    },
    {
      "cell_type": "code",
      "metadata": {
        "id": "lwPdv0o5bvaH",
        "colab_type": "code",
        "colab": {
          "base_uri": "https://localhost:8080/",
          "height": 68
        },
        "outputId": "f1b99055-7c56-4a91-a924-0c880495f365"
      },
      "source": [
        "centroids = kmeans.cluster_centers_\n",
        "centroids #------(2)   # Getting the most accurate centroid using Kmeans(Machine learning Algorithm) .it is same as centroid which we got wthout using Kmeans"
      ],
      "execution_count": 34,
      "outputs": [
        {
          "output_type": "execute_result",
          "data": {
            "text/plain": [
              "array([[62.33333333, 15.83333333],\n",
              "       [50.        , 63.16666667],\n",
              "       [22.28571429, 44.57142857]])"
            ]
          },
          "metadata": {
            "tags": []
          },
          "execution_count": 34
        }
      ]
    },
    {
      "cell_type": "code",
      "metadata": {
        "id": "PyJgWPXByYDq",
        "colab_type": "code",
        "colab": {
          "base_uri": "https://localhost:8080/",
          "height": 324
        },
        "outputId": "6ac1c335-765c-4ca2-b7dc-cd08d763bc21"
      },
      "source": [
        "\n",
        "fig = plt.figure(figsize=(5,5))\n",
        "colors = list(map(lambda x: colmap[x+1] , labels))\n",
        "plt.scatter(df['x'] , df['y'] ,  color= colors , alpha = 0.5 , edgecolor = 'k')\n",
        "\n",
        "for idx,centroid in enumerate(centroids):\n",
        "\tplt.scatter(*centroid , color=colmap[idx+1])\n",
        "plt.xlim(0,80)\n",
        "plt.ylim(0,80)\n",
        "plt.show()\n"
      ],
      "execution_count": 35,
      "outputs": [
        {
          "output_type": "display_data",
          "data": {
            "image/png": "[encoded data removed]",
            "text/plain": [
              "<Figure size 360x360 with 1 Axes>"
            ]
          },
          "metadata": {
            "tags": []
          }
        }
      ]
    },
    {
      "cell_type": "code",
      "metadata": {
        "id": "yZ6bWTRxyX_M",
        "colab_type": "code",
        "colab": {}
      },
      "source": [
        ""
      ],
      "execution_count": 0,
      "outputs": []
    },
    {
      "cell_type": "code",
      "metadata": {
        "id": "gFqddPP7yX5q",
        "colab_type": "code",
        "colab": {}
      },
      "source": [
        ""
      ],
      "execution_count": 0,
      "outputs": []
    },
    {
      "cell_type": "code",
      "metadata": {
        "id": "20UhjwVryX29",
        "colab_type": "code",
        "colab": {}
      },
      "source": [
        ""
      ],
      "execution_count": 0,
      "outputs": []
    },
    {
      "cell_type": "code",
      "metadata": {
        "id": "NxYZ4t4ryXza",
        "colab_type": "code",
        "colab": {}
      },
      "source": [
        ""
      ],
      "execution_count": 0,
      "outputs": []
    },
    {
      "cell_type": "code",
      "metadata": {
        "id": "msLCgguFyXtb",
        "colab_type": "code",
        "colab": {}
      },
      "source": [
        ""
      ],
      "execution_count": 0,
      "outputs": []
    },
    {
      "cell_type": "code",
      "metadata": {
        "id": "piyY2yJWyXqs",
        "colab_type": "code",
        "colab": {}
      },
      "source": [
        ""
      ],
      "execution_count": 0,
      "outputs": []
    },
    {
      "cell_type": "code",
      "metadata": {
        "id": "o9wcGsni3coH",
        "colab_type": "code",
        "colab": {}
      },
      "source": [
        ""
      ],
      "execution_count": 0,
      "outputs": []
    },
    {
      "cell_type": "code",
      "metadata": {
        "id": "zoqvsAEW3ckj",
        "colab_type": "code",
        "colab": {}
      },
      "source": [
        ""
      ],
      "execution_count": 0,
      "outputs": []
    },
    {
      "cell_type": "markdown",
      "metadata": {
        "id": "PGBrtH-r3dMJ",
        "colab_type": "text"
      },
      "source": [
        "#Other Activity"
      ]
    },
    {
      "cell_type": "markdown",
      "metadata": {
        "id": "ZRS_PMQmMPkM",
        "colab_type": "text"
      },
      "source": [
        "#Pandas idxmin() function \n",
        "`Pandas dataframe.idxmin() function returns index of first occurrence of minimum over requested axis. While finding the index of the minimum value across any index, all NA/null values are excluded.`\n",
        "\n",
        ">> Syntax: DataFrame.idxmin(axis=0, skipna=True)"
      ]
    },
    {
      "cell_type": "code",
      "metadata": {
        "id": "fpS0H_nnwTUr",
        "colab_type": "code",
        "outputId": "d58ab56a-cd4d-4ffd-d8e0-dec426e6c9dc",
        "colab": {
          "base_uri": "https://localhost:8080/",
          "height": 173
        }
      },
      "source": [
        "import pandas as pd  \n",
        "df = pd.DataFrame({\n",
        "                   \"A\":[4, 5, 2, 6], \n",
        "                   \"B\":[11, 2, 5, 8], \n",
        "                   \"C\":[1, 8, 66, 4]\n",
        "                  })\n",
        "df"
      ],
      "execution_count": 0,
      "outputs": [
        {
          "output_type": "execute_result",
          "data": {
            "text/html": [
              "<div>\n",
              "<style scoped>\n",
              "    .dataframe tbody tr th:only-of-type {\n",
              "        vertical-align: middle;\n",
              "    }\n",
              "\n",
              "    .dataframe tbody tr th {\n",
              "        vertical-align: top;\n",
              "    }\n",
              "\n",
              "    .dataframe thead th {\n",
              "        text-align: right;\n",
              "    }\n",
              "</style>\n",
              "<table border=\"1\" class=\"dataframe\">\n",
              "  <thead>\n",
              "    <tr style=\"text-align: right;\">\n",
              "      <th></th>\n",
              "      <th>A</th>\n",
              "      <th>B</th>\n",
              "      <th>C</th>\n",
              "    </tr>\n",
              "  </thead>\n",
              "  <tbody>\n",
              "    <tr>\n",
              "      <th>0</th>\n",
              "      <td>4</td>\n",
              "      <td>11</td>\n",
              "      <td>1</td>\n",
              "    </tr>\n",
              "    <tr>\n",
              "      <th>1</th>\n",
              "      <td>5</td>\n",
              "      <td>2</td>\n",
              "      <td>8</td>\n",
              "    </tr>\n",
              "    <tr>\n",
              "      <th>2</th>\n",
              "      <td>2</td>\n",
              "      <td>5</td>\n",
              "      <td>66</td>\n",
              "    </tr>\n",
              "    <tr>\n",
              "      <th>3</th>\n",
              "      <td>6</td>\n",
              "      <td>8</td>\n",
              "      <td>4</td>\n",
              "    </tr>\n",
              "  </tbody>\n",
              "</table>\n",
              "</div>"
            ],
            "text/plain": [
              "   A   B   C\n",
              "0  4  11   1\n",
              "1  5   2   8\n",
              "2  2   5  66\n",
              "3  6   8   4"
            ]
          },
          "metadata": {
            "tags": []
          },
          "execution_count": 44
        }
      ]
    },
    {
      "cell_type": "code",
      "metadata": {
        "id": "S4UKXlUfM4PT",
        "colab_type": "code",
        "outputId": "f8c6e436-6071-4ab9-e36a-f7212a526216",
        "colab": {
          "base_uri": "https://localhost:8080/",
          "height": 85
        }
      },
      "source": [
        "df.idxmin(axis = 0) "
      ],
      "execution_count": 0,
      "outputs": [
        {
          "output_type": "execute_result",
          "data": {
            "text/plain": [
              "A    2\n",
              "B    1\n",
              "C    0\n",
              "dtype: int64"
            ]
          },
          "metadata": {
            "tags": []
          },
          "execution_count": 45
        }
      ]
    },
    {
      "cell_type": "code",
      "metadata": {
        "id": "VBBEPyR-M4XM",
        "colab_type": "code",
        "outputId": "998490b1-3857-4d7b-ca94-7a5e36ad4875",
        "colab": {
          "base_uri": "https://localhost:8080/",
          "height": 102
        }
      },
      "source": [
        "df.idxmin(axis = 1)  #when it comes to column axis then it returns correspponding column_name instead of returning of index of most minimum value in the axis."
      ],
      "execution_count": 0,
      "outputs": [
        {
          "output_type": "execute_result",
          "data": {
            "text/plain": [
              "0    C\n",
              "1    B\n",
              "2    A\n",
              "3    C\n",
              "dtype: object"
            ]
          },
          "metadata": {
            "tags": []
          },
          "execution_count": 46
        }
      ]
    },
    {
      "cell_type": "code",
      "metadata": {
        "id": "Xn7qk-aEM4fM",
        "colab_type": "code",
        "outputId": "49a829ff-b4f0-496b-eebd-c424e7b833fd",
        "colab": {
          "base_uri": "https://localhost:8080/",
          "height": 102
        }
      },
      "source": [
        "df = pd.DataFrame({\"A\":[4, 5, 2, None],  \n",
        "                   \"B\":[11, 2, None, 8],  \n",
        "                   \"C\":[1, 8, 66, 4]}) \n",
        "  \n",
        "# Skipna = True will skip all the Na values \n",
        "df.idxmin(axis = 1, skipna = True) "
      ],
      "execution_count": 0,
      "outputs": [
        {
          "output_type": "execute_result",
          "data": {
            "text/plain": [
              "0    C\n",
              "1    B\n",
              "2    A\n",
              "3    C\n",
              "dtype: object"
            ]
          },
          "metadata": {
            "tags": []
          },
          "execution_count": 47
        }
      ]
    }
  ]
}