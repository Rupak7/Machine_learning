{
  "nbformat": 4,
  "nbformat_minor": 0,
  "metadata": {
    "colab": {
      "name": "TensorFlow with GPU",
      "provenance": [],
      "collapsed_sections": [],
      "include_colab_link": true
    },
    "kernelspec": {
      "name": "python3",
      "display_name": "Python 3"
    },
    "accelerator": "GPU"
  },
  "cells": [
    {
      "cell_type": "markdown",
      "metadata": {
        "id": "view-in-github",
        "colab_type": "text"
      },
      "source": [
        "<a href=\"https://colab.research.google.com/github/priyanshgupta1998/Machine_learning/blob/master/Kaggle/NLP-chatbot_Processing_for_kaggle_Questions.ipynb\" target=\"_parent\"><img src=\"https://colab.research.google.com/assets/colab-badge.svg\" alt=\"Open In Colab\"/></a>"
      ]
    },
    {
      "cell_type": "markdown",
      "metadata": {
        "id": "FJJE_Wmo6pYL",
        "colab_type": "text"
      },
      "source": [
        "#Question-Answer Dataset\n",
        "Can you use NLP to answer these questions?"
      ]
    },
    {
      "cell_type": "code",
      "metadata": {
        "id": "mF3AFJy96NHS",
        "colab_type": "code",
        "colab": {
          "resources": {
            "http://localhost:8080/nbextensions/google.colab/files.js": {
              "data": "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",
              "ok": true,
              "headers": [
                [
                  "content-type",
                  "application/javascript"
                ]
              ],
              "status": 200,
              "status_text": ""
            }
          },
          "base_uri": "https://localhost:8080/",
          "height": 74
        },
        "outputId": "858802ad-a548-45b1-9b8b-91b766e9c5e8"
      },
      "source": [
        "from google.colab import files\n",
        "files.upload()\n",
        "!pip install -q kaggle\n",
        "!mkdir -p ~/.kaggle\n",
        "!cp kaggle.json ~/.kaggle/\n",
        "!chmod 600 ~/.kaggle/kaggle.json"
      ],
      "execution_count": 2,
      "outputs": [
        {
          "output_type": "display_data",
          "data": {
            "text/html": [
              "\n",
              "     <input type=\"file\" id=\"files-0e1ee253-040c-45b5-bca2-9c982c659919\" name=\"files[]\" multiple disabled />\n",
              "     <output id=\"result-0e1ee253-040c-45b5-bca2-9c982c659919\">\n",
              "      Upload widget is only available when the cell has been executed in the\n",
              "      current browser session. Please rerun this cell to enable.\n",
              "      </output>\n",
              "      <script src=\"/nbextensions/google.colab/files.js\"></script> "
            ],
            "text/plain": [
              "<IPython.core.display.HTML object>"
            ]
          },
          "metadata": {
            "tags": []
          }
        },
        {
          "output_type": "stream",
          "text": [
            "Saving kaggle.json to kaggle.json\n"
          ],
          "name": "stdout"
        }
      ]
    },
    {
      "cell_type": "code",
      "metadata": {
        "id": "k_Tg5SGa6PS0",
        "colab_type": "code",
        "colab": {
          "base_uri": "https://localhost:8080/",
          "height": 68
        },
        "outputId": "d05abc52-00cd-441a-9d83-b72bc2b121d1"
      },
      "source": [
        "!kaggle datasets download -d rtatman/questionanswer-dataset"
      ],
      "execution_count": 3,
      "outputs": [
        {
          "output_type": "stream",
          "text": [
            "Downloading questionanswer-dataset.zip to /content\n",
            "\r  0% 0.00/3.55M [00:00<?, ?B/s]\n",
            "\r100% 3.55M/3.55M [00:00<00:00, 116MB/s]\n"
          ],
          "name": "stdout"
        }
      ]
    },
    {
      "cell_type": "code",
      "metadata": {
        "id": "xd6AXkkw6PPv",
        "colab_type": "code",
        "colab": {}
      },
      "source": [
        "!unzip questionanswer-dataset.zip"
      ],
      "execution_count": 0,
      "outputs": []
    },
    {
      "cell_type": "markdown",
      "metadata": {
        "id": "-X3-3BVTM3fq",
        "colab_type": "text"
      },
      "source": [
        "`Activity: Write a chatbot that, given a question in English, finds a similar question in the Q&A corpus available at Kaggle (https://www.kaggle.com/rtatman/questionanswer-dataset#S08_question_answer_pairs.txt) and the answer.`\n",
        "\n",
        "`The \"question_answer_pairs.txt\" files contain the questions and answers. The columns in this file are as follows:`\n",
        "\n",
        "`ArticleTitle is the name of the Wikipedia article from which the questions and answers initially arose. Question is the question. Answer is the answer. DifficultyFromQuestioner is the difficulty rating prescribed for the question given to the question's author. AnnswererDifficulty is a difficulty rating assigned by the individual who assessed and answered the question, which may differ from the difficulty in field 4. ArticleFile is the file name with the relevant article Questions that were judged as bad were discarded from this dataset.`\n",
        "\n",
        "`There are usually several lines with the same question that appear if these questions have been answered by multiple individuals.`"
      ]
    },
    {
      "cell_type": "code",
      "metadata": {
        "id": "Dvmn7BR86PLw",
        "colab_type": "code",
        "colab": {
          "base_uri": "https://localhost:8080/",
          "height": 68
        },
        "outputId": "dc83456a-221c-41e6-d33b-a0e48d18119d"
      },
      "source": [
        "import nltk\n",
        "import numpy as np\n",
        "import pandas as pd\n",
        "from nltk.tokenize import sent_tokenize\n",
        "\n",
        "import codecs\n",
        "#doc = codecs.open('document','rU','UTF-16') #open for reading with \"universal\" type set\n",
        "#df = pandas.read_csv(doc, sep='\\t')\n",
        "#https://stackoverflow.com/questions/27896214/reading-tab-delimited-file-with-pandas-works-on-windows-but-not-on-mac\n",
        "doc = codecs.open('S08_question_answer_pairs.txt','rU','UTF-8')\n",
        "S08 = pd.read_csv(doc, sep=\"\\t\", header=None, names=[\"ArticleTitle\",\"Question\", \"Answer\",\"DifficultyFromQuestioner\",\"DifficultyFromAnswerer\",\"ArticleFile\"])\n",
        "S08.drop([0] , axis=0, inplace = True)\n",
        "print(S08.shape)\n",
        "\n",
        "doc = codecs.open('S09_question_answer_pairs.txt','rU','UTF-8')\n",
        "S09 = pd.read_csv(doc, sep=\"\\t\", header=None, names=[\"ArticleTitle\",\"Question\", \"Answer\",\"DifficultyFromQuestioner\",\"DifficultyFromAnswerer\",\"ArticleFile\"])\n",
        "S09.drop([0] , axis=0, inplace = True)\n",
        "print(S09.shape)\n",
        "\n",
        "doc = codecs.open('S10_question_answer_pairs.txt','rU','ISO-8859-1')\n",
        "S10 = pd.read_csv(doc, sep=\"\\t\", header=None, names=[\"ArticleTitle\",\"Question\", \"Answer\",\"DifficultyFromQuestioner\",\"DifficultyFromAnswerer\",\"ArticleFile\"])\n",
        "S10.drop([0] , axis=0, inplace = True)\n",
        "print(S10.shape )\n",
        "\n",
        "\n",
        "data  = pd.concat([S08, S09, S10] , ignore_index=True)"
      ],
      "execution_count": 34,
      "outputs": [
        {
          "output_type": "stream",
          "text": [
            "(1715, 6)\n",
            "(825, 6)\n",
            "(1458, 6)\n"
          ],
          "name": "stdout"
        }
      ]
    },
    {
      "cell_type": "code",
      "metadata": {
        "id": "mevBEg8L6PJF",
        "colab_type": "code",
        "colab": {
          "base_uri": "https://localhost:8080/",
          "height": 221
        },
        "outputId": "b2ff007d-43d6-4cbb-d0c1-3af2ccb3ceec"
      },
      "source": [
        "S08_raw = data.copy()\n",
        "print(S08_raw.shape)\n",
        "S08_raw.head()"
      ],
      "execution_count": 35,
      "outputs": [
        {
          "output_type": "stream",
          "text": [
            "(3998, 6)\n"
          ],
          "name": "stdout"
        },
        {
          "output_type": "execute_result",
          "data": {
            "text/html": [
              "<div>\n",
              "<style scoped>\n",
              "    .dataframe tbody tr th:only-of-type {\n",
              "        vertical-align: middle;\n",
              "    }\n",
              "\n",
              "    .dataframe tbody tr th {\n",
              "        vertical-align: top;\n",
              "    }\n",
              "\n",
              "    .dataframe thead th {\n",
              "        text-align: right;\n",
              "    }\n",
              "</style>\n",
              "<table border=\"1\" class=\"dataframe\">\n",
              "  <thead>\n",
              "    <tr style=\"text-align: right;\">\n",
              "      <th></th>\n",
              "      <th>ArticleTitle</th>\n",
              "      <th>Question</th>\n",
              "      <th>Answer</th>\n",
              "      <th>DifficultyFromQuestioner</th>\n",
              "      <th>DifficultyFromAnswerer</th>\n",
              "      <th>ArticleFile</th>\n",
              "    </tr>\n",
              "  </thead>\n",
              "  <tbody>\n",
              "    <tr>\n",
              "      <th>0</th>\n",
              "      <td>Abraham_Lincoln</td>\n",
              "      <td>Was Abraham Lincoln the sixteenth President of...</td>\n",
              "      <td>yes</td>\n",
              "      <td>easy</td>\n",
              "      <td>easy</td>\n",
              "      <td>S08_set3_a4</td>\n",
              "    </tr>\n",
              "    <tr>\n",
              "      <th>1</th>\n",
              "      <td>Abraham_Lincoln</td>\n",
              "      <td>Was Abraham Lincoln the sixteenth President of...</td>\n",
              "      <td>Yes.</td>\n",
              "      <td>easy</td>\n",
              "      <td>easy</td>\n",
              "      <td>S08_set3_a4</td>\n",
              "    </tr>\n",
              "    <tr>\n",
              "      <th>2</th>\n",
              "      <td>Abraham_Lincoln</td>\n",
              "      <td>Did Lincoln sign the National Banking Act of 1...</td>\n",
              "      <td>yes</td>\n",
              "      <td>easy</td>\n",
              "      <td>medium</td>\n",
              "      <td>S08_set3_a4</td>\n",
              "    </tr>\n",
              "    <tr>\n",
              "      <th>3</th>\n",
              "      <td>Abraham_Lincoln</td>\n",
              "      <td>Did Lincoln sign the National Banking Act of 1...</td>\n",
              "      <td>Yes.</td>\n",
              "      <td>easy</td>\n",
              "      <td>easy</td>\n",
              "      <td>S08_set3_a4</td>\n",
              "    </tr>\n",
              "    <tr>\n",
              "      <th>4</th>\n",
              "      <td>Abraham_Lincoln</td>\n",
              "      <td>Did his mother die of pneumonia?</td>\n",
              "      <td>no</td>\n",
              "      <td>easy</td>\n",
              "      <td>medium</td>\n",
              "      <td>S08_set3_a4</td>\n",
              "    </tr>\n",
              "  </tbody>\n",
              "</table>\n",
              "</div>"
            ],
            "text/plain": [
              "      ArticleTitle  ...  ArticleFile\n",
              "0  Abraham_Lincoln  ...  S08_set3_a4\n",
              "1  Abraham_Lincoln  ...  S08_set3_a4\n",
              "2  Abraham_Lincoln  ...  S08_set3_a4\n",
              "3  Abraham_Lincoln  ...  S08_set3_a4\n",
              "4  Abraham_Lincoln  ...  S08_set3_a4\n",
              "\n",
              "[5 rows x 6 columns]"
            ]
          },
          "metadata": {
            "tags": []
          },
          "execution_count": 35
        }
      ]
    },
    {
      "cell_type": "code",
      "metadata": {
        "id": "psXvUrYM6PGq",
        "colab_type": "code",
        "colab": {
          "base_uri": "https://localhost:8080/",
          "height": 34
        },
        "outputId": "a2336ac9-4561-4593-935a-f1da636d7433"
      },
      "source": [
        "S08_cleaned = S08_raw[pd.notnull(S08_raw['Question'])]\n",
        "print(S08_cleaned.shape)  # 37 data had null values"
      ],
      "execution_count": 36,
      "outputs": [
        {
          "output_type": "stream",
          "text": [
            "(3961, 6)\n"
          ],
          "name": "stdout"
        }
      ]
    },
    {
      "cell_type": "code",
      "metadata": {
        "id": "0wDRBjhj6PEe",
        "colab_type": "code",
        "colab": {
          "base_uri": "https://localhost:8080/",
          "height": 34
        },
        "outputId": "79066215-9ddf-4460-dae3-faab6db580b5"
      },
      "source": [
        "S08_cleaned = S08_cleaned.drop_duplicates(subset=['Question'], keep='first', inplace=False)\n",
        "print(S08_cleaned.shape) # find the unique data "
      ],
      "execution_count": 38,
      "outputs": [
        {
          "output_type": "stream",
          "text": [
            "(2456, 6)\n"
          ],
          "name": "stdout"
        }
      ]
    },
    {
      "cell_type": "code",
      "metadata": {
        "id": "vIM7QZS7-N73",
        "colab_type": "code",
        "colab": {
          "base_uri": "https://localhost:8080/",
          "height": 68
        },
        "outputId": "fdfb093d-0624-429e-9966-53af5ea57f6e"
      },
      "source": [
        "import nltk\n",
        "nltk.download('stopwords')"
      ],
      "execution_count": 39,
      "outputs": [
        {
          "output_type": "stream",
          "text": [
            "[nltk_data] Downloading package stopwords to /root/nltk_data...\n",
            "[nltk_data]   Package stopwords is already up-to-date!\n"
          ],
          "name": "stdout"
        },
        {
          "output_type": "execute_result",
          "data": {
            "text/plain": [
              "True"
            ]
          },
          "metadata": {
            "tags": []
          },
          "execution_count": 39
        }
      ]
    },
    {
      "cell_type": "code",
      "metadata": {
        "id": "XcO28uhG6PCD",
        "colab_type": "code",
        "colab": {}
      },
      "source": [
        "from nltk import tokenize\n",
        "import string\n",
        "from string import punctuation\n",
        "\n",
        "stopwords_list = nltk.corpus.stopwords.words('english')\n",
        "tokens = tokenize.WhitespaceTokenizer()\n",
        "question_cleaned = list()\n",
        "for question in S08_cleaned['Question']:  \n",
        "    new_question = list()\n",
        "    word_text = tokens.tokenize(question)\n",
        "    for word in word_text:\n",
        "        if word not in stopwords_list:\n",
        "            #new_question.append(remove_punctuation(word.lower()))\n",
        "            new_question.append(''.join([c for c in word.lower() if c not in punctuation]))\n",
        "    question_cleaned.append(' '.join(new_question))\n",
        "S08_cleaned['Question_Cleaned'] = question_cleaned  "
      ],
      "execution_count": 0,
      "outputs": []
    },
    {
      "cell_type": "code",
      "metadata": {
        "id": "8njlzEpX_5kr",
        "colab_type": "code",
        "colab": {
          "base_uri": "https://localhost:8080/",
          "height": 289
        },
        "outputId": "169762a9-a420-4fca-dd5b-e6effca27046"
      },
      "source": [
        "#remove first row (single row) from the daatset \n",
        "# S08_cleaned.drop([0] , axis=0, inplace = True)\n",
        "print(S08_cleaned.shape)\n",
        "S08_cleaned.head()"
      ],
      "execution_count": 43,
      "outputs": [
        {
          "output_type": "stream",
          "text": [
            "(2456, 7)\n"
          ],
          "name": "stdout"
        },
        {
          "output_type": "execute_result",
          "data": {
            "text/html": [
              "<div>\n",
              "<style scoped>\n",
              "    .dataframe tbody tr th:only-of-type {\n",
              "        vertical-align: middle;\n",
              "    }\n",
              "\n",
              "    .dataframe tbody tr th {\n",
              "        vertical-align: top;\n",
              "    }\n",
              "\n",
              "    .dataframe thead th {\n",
              "        text-align: right;\n",
              "    }\n",
              "</style>\n",
              "<table border=\"1\" class=\"dataframe\">\n",
              "  <thead>\n",
              "    <tr style=\"text-align: right;\">\n",
              "      <th></th>\n",
              "      <th>ArticleTitle</th>\n",
              "      <th>Question</th>\n",
              "      <th>Answer</th>\n",
              "      <th>DifficultyFromQuestioner</th>\n",
              "      <th>DifficultyFromAnswerer</th>\n",
              "      <th>ArticleFile</th>\n",
              "      <th>Question_Cleaned</th>\n",
              "    </tr>\n",
              "  </thead>\n",
              "  <tbody>\n",
              "    <tr>\n",
              "      <th>0</th>\n",
              "      <td>Abraham_Lincoln</td>\n",
              "      <td>Was Abraham Lincoln the sixteenth President of...</td>\n",
              "      <td>yes</td>\n",
              "      <td>easy</td>\n",
              "      <td>easy</td>\n",
              "      <td>S08_set3_a4</td>\n",
              "      <td>was abraham lincoln sixteenth president united...</td>\n",
              "    </tr>\n",
              "    <tr>\n",
              "      <th>2</th>\n",
              "      <td>Abraham_Lincoln</td>\n",
              "      <td>Did Lincoln sign the National Banking Act of 1...</td>\n",
              "      <td>yes</td>\n",
              "      <td>easy</td>\n",
              "      <td>medium</td>\n",
              "      <td>S08_set3_a4</td>\n",
              "      <td>did lincoln sign national banking act 1863</td>\n",
              "    </tr>\n",
              "    <tr>\n",
              "      <th>4</th>\n",
              "      <td>Abraham_Lincoln</td>\n",
              "      <td>Did his mother die of pneumonia?</td>\n",
              "      <td>no</td>\n",
              "      <td>easy</td>\n",
              "      <td>medium</td>\n",
              "      <td>S08_set3_a4</td>\n",
              "      <td>did mother die pneumonia</td>\n",
              "    </tr>\n",
              "    <tr>\n",
              "      <th>6</th>\n",
              "      <td>Abraham_Lincoln</td>\n",
              "      <td>How many long was Lincoln's formal education?</td>\n",
              "      <td>18 months</td>\n",
              "      <td>medium</td>\n",
              "      <td>easy</td>\n",
              "      <td>S08_set3_a4</td>\n",
              "      <td>how many long lincolns formal education</td>\n",
              "    </tr>\n",
              "    <tr>\n",
              "      <th>8</th>\n",
              "      <td>Abraham_Lincoln</td>\n",
              "      <td>When did Lincoln begin his political career?</td>\n",
              "      <td>1832</td>\n",
              "      <td>medium</td>\n",
              "      <td>easy</td>\n",
              "      <td>S08_set3_a4</td>\n",
              "      <td>when lincoln begin political career</td>\n",
              "    </tr>\n",
              "  </tbody>\n",
              "</table>\n",
              "</div>"
            ],
            "text/plain": [
              "      ArticleTitle  ...                                   Question_Cleaned\n",
              "0  Abraham_Lincoln  ...  was abraham lincoln sixteenth president united...\n",
              "2  Abraham_Lincoln  ...         did lincoln sign national banking act 1863\n",
              "4  Abraham_Lincoln  ...                           did mother die pneumonia\n",
              "6  Abraham_Lincoln  ...            how many long lincolns formal education\n",
              "8  Abraham_Lincoln  ...                when lincoln begin political career\n",
              "\n",
              "[5 rows x 7 columns]"
            ]
          },
          "metadata": {
            "tags": []
          },
          "execution_count": 43
        }
      ]
    },
    {
      "cell_type": "code",
      "metadata": {
        "id": "GWE914oy6O_6",
        "colab_type": "code",
        "colab": {
          "base_uri": "https://localhost:8080/",
          "height": 34
        },
        "outputId": "7fea34cf-29d9-4ea0-9802-6b54ea9ec214"
      },
      "source": [
        "from sklearn.feature_extraction.text import TfidfVectorizer\n",
        "tfidf_vectorizer = TfidfVectorizer()\n",
        "tfidf_matrix = tfidf_vectorizer.fit_transform(S08_cleaned['Question_Cleaned'].values)\n",
        "print(tfidf_matrix.shape)"
      ],
      "execution_count": 42,
      "outputs": [
        {
          "output_type": "stream",
          "text": [
            "(2456, 4515)\n"
          ],
          "name": "stdout"
        }
      ]
    },
    {
      "cell_type": "code",
      "metadata": {
        "id": "fsoM_bqM6O9C",
        "colab_type": "code",
        "colab": {
          "base_uri": "https://localhost:8080/",
          "height": 255
        },
        "outputId": "89649d0d-ab2d-4ab7-9f61-144bb13f072d"
      },
      "source": [
        "print(len(tfidf_matrix.data))\n",
        "print(tfidf_matrix[:5].data)\n",
        "print(' ')\n",
        "for i in range(5):\n",
        "  print('Question_{} -->'.format(i) , tfidf_matrix[i].data)"
      ],
      "execution_count": 57,
      "outputs": [
        {
          "output_type": "stream",
          "text": [
            "14850\n",
            "[0.36077749 0.36410492 0.32680186 0.49932743 0.35175516 0.45666948\n",
            " 0.22104563 0.45725985 0.38665718 0.45725985 0.32749177 0.41819577\n",
            " 0.21546002 0.32212032 0.6546307  0.46491318 0.51006502 0.3084608\n",
            " 0.45874557 0.50601272 0.50601272 0.37092409 0.27638978 0.2519499\n",
            " 0.53520568 0.46911708 0.48521158 0.2968246  0.41224861]\n",
            " \n",
            "Question_0 --> [0.36077749 0.36410492 0.32680186 0.49932743 0.35175516 0.45666948\n",
            " 0.22104563]\n",
            "Question_1 --> [0.45725985 0.38665718 0.45725985 0.32749177 0.41819577 0.21546002\n",
            " 0.32212032]\n",
            "Question_2 --> [0.6546307  0.46491318 0.51006502 0.3084608 ]\n",
            "Question_3 --> [0.45874557 0.50601272 0.50601272 0.37092409 0.27638978 0.2519499 ]\n",
            "Question_4 --> [0.53520568 0.46911708 0.48521158 0.2968246  0.41224861]\n"
          ],
          "name": "stdout"
        }
      ]
    },
    {
      "cell_type": "code",
      "metadata": {
        "id": "z1NStkTU6O6v",
        "colab_type": "code",
        "colab": {}
      },
      "source": [
        "from sklearn.metrics.pairwise import cosine_similarity\n",
        "\n",
        "question = \"\"\n",
        "i = 0\n",
        "while question!=\"\\0\":\n",
        "    question = input(\"What is your question?: \")\n",
        "    if question != \"\\0\":\n",
        "        query_vect = tfidf_vectorizer.transform([question])\n",
        "        l = cosine_similarity(query_vect, tfidf_matrix)\n",
        "        print(type(l))\n",
        "        while l.max() < 0.5:\n",
        "            question = input(\"Could you be more specific please? What is your question?: \")\n",
        "            query_vect = tfidf_vectorizer.transform([question])\n",
        "            if question != \"\\0\":\n",
        "                l = cosine_similarity(query_vect, tfidf_matrix)\n",
        "            else:                \n",
        "                break\n",
        "            \n",
        "        if question != \"\\0\":\n",
        "            i = np.where(l == l.max())\n",
        "            #print(S08_cleaned.iloc[(i[1][0])][['Question','Answer']])\n",
        "            print(S08_cleaned.iloc[(i[1][0])][['Answer']])\n",
        "        \n",
        "            \n",
        "print(\"volte sempre, agradeçemos a visita\") "
      ],
      "execution_count": 0,
      "outputs": []
    },
    {
      "cell_type": "code",
      "metadata": {
        "id": "xfhGneDZPnmN",
        "colab_type": "code",
        "colab": {}
      },
      "source": [
        ""
      ],
      "execution_count": 0,
      "outputs": []
    },
    {
      "cell_type": "code",
      "metadata": {
        "id": "pTXJzt7aPnix",
        "colab_type": "code",
        "colab": {}
      },
      "source": [
        ""
      ],
      "execution_count": 0,
      "outputs": []
    },
    {
      "cell_type": "code",
      "metadata": {
        "id": "TzVLqsvVPneq",
        "colab_type": "code",
        "colab": {}
      },
      "source": [
        ""
      ],
      "execution_count": 0,
      "outputs": []
    },
    {
      "cell_type": "code",
      "metadata": {
        "id": "IxAIo9CCPna3",
        "colab_type": "code",
        "colab": {}
      },
      "source": [
        ""
      ],
      "execution_count": 0,
      "outputs": []
    },
    {
      "cell_type": "code",
      "metadata": {
        "id": "aPeNYoqyPnWf",
        "colab_type": "code",
        "colab": {}
      },
      "source": [
        ""
      ],
      "execution_count": 0,
      "outputs": []
    },
    {
      "cell_type": "markdown",
      "metadata": {
        "id": "A1hgb9cPNkIZ",
        "colab_type": "text"
      },
      "source": [
        "\n",
        "\n",
        "---\n",
        "\n",
        "\n",
        "\n",
        "---\n",
        "\n",
        "\n",
        "\n",
        "\n",
        "---\n",
        "\n",
        "\n",
        "\n",
        "---\n",
        "\n",
        "\n",
        "\n",
        "---\n",
        "\n",
        "\n",
        "\n",
        "---\n",
        "\n",
        "\n",
        "\n",
        "---\n",
        "\n",
        "\n",
        "#Solve above problem using another method"
      ]
    },
    {
      "cell_type": "code",
      "metadata": {
        "id": "zl0jd1UUNjro",
        "colab_type": "code",
        "colab": {}
      },
      "source": [
        "import pandas as pd\n",
        "import numpy as np\n",
        "import string\n",
        "df_S08 = pd.read_csv('S08_question_answer_pairs.txt', sep=\"\\t\", header=0)\n",
        "df_S09 = pd.read_csv('S09_question_answer_pairs.txt', sep=\"\\t\", header=0)\n",
        "df_S10 = pd.read_csv('S10_question_answer_pairs.txt', sep=\"\\t\", header=0, encoding = \"ISO-8859-1\")"
      ],
      "execution_count": 0,
      "outputs": []
    },
    {
      "cell_type": "markdown",
      "metadata": {
        "id": "gUGVIyiPN3GG",
        "colab_type": "text"
      },
      "source": [
        "#Data Preprocessing"
      ]
    },
    {
      "cell_type": "code",
      "metadata": {
        "id": "vWF7zxnbNikg",
        "colab_type": "code",
        "colab": {}
      },
      "source": [
        "df_list = ['df_S08','df_S09','df_S10']\n",
        "questions = []\n",
        "answer = []\n",
        "for d in df_list:\n",
        "    d = eval(d)\n",
        "    d['Question'] = d['ArticleTitle'] + \" \" + d['Question'] # concatena nome artigo em pergunta para melhorar referencia\n",
        "    d = d[['Question','Answer']] #remove colunas indesejadas\n",
        "    d = d.dropna() # Remove NaN\n",
        "    d['Answer'] = d['Answer'].str.lower() # deixa tudo minusculo\n",
        "    d['Answer'] = d['Answer'].str.replace('[{}]'.format(string.punctuation), '') # remove pontuacao\n",
        "    d['Answer'] = d['Answer'].str.replace(r'\\\\t', '') #remove qualquer \"\\t\" que existir em respostas\n",
        "    d['Question'] = d['Question'].str.replace(r'_', ' ') #remove qualquer \"_\" que existir em perguntas\n",
        "    d = d.sort_values('Question').drop_duplicates(subset=['Question', 'Answer'], keep='last') #remove dados duplicados\n",
        "    questions = np.append(questions, d['Question'].values) #cria np array de questoes\n",
        "    answer = np.append(answer, d['Answer'].values) #cria np array de respostas"
      ],
      "execution_count": 0,
      "outputs": []
    },
    {
      "cell_type": "markdown",
      "metadata": {
        "id": "m-WtXKceOEZu",
        "colab_type": "text"
      },
      "source": [
        "#Finding the most similar answer"
      ]
    },
    {
      "cell_type": "code",
      "metadata": {
        "id": "E84gRUV7Nihw",
        "colab_type": "code",
        "colab": {}
      },
      "source": [
        "perguntas = tuple(questions)\n",
        "pergunta = [\"Does Arabic language have many words borrowed by European languages?\"]\n",
        "\n",
        "from sklearn.feature_extraction.text import TfidfVectorizer\n",
        "tfidf_vectorizer = TfidfVectorizer()\n",
        "tfidf_matrix = tfidf_vectorizer.fit_transform(perguntas)\n",
        "\n",
        "from sklearn.metrics.pairwise import cosine_similarity\n",
        "query_vect = tfidf_vectorizer.transform(pergunta)\n",
        "similariedade = cosine_similarity(query_vect, tfidf_matrix) # calcula e cria um vetor com os valores de similariedade\n",
        "\n",
        "indice = np.unravel_index(np.argmax(similariedade, axis=None), similariedade.shape) #encontra o indice do valor com maior similariedade\n",
        "\n",
        "print(\"RESPOSTA: {}\".format(answer[indice[1]]))\n",
        "print(\"PERGUNTA ORIGINAL: {}\".format(questions[indice[1]]))"
      ],
      "execution_count": 0,
      "outputs": []
    },
    {
      "cell_type": "markdown",
      "metadata": {
        "id": "4Dn0kyGHOMh4",
        "colab_type": "text"
      },
      "source": [
        "#Let's Check the Question and find most relevant answer"
      ]
    },
    {
      "cell_type": "code",
      "metadata": {
        "id": "1OGq2VFYNifK",
        "colab_type": "code",
        "colab": {}
      },
      "source": [
        "display(df_S09.Question[100])\n",
        "display(df_S09.Answer[100])"
      ],
      "execution_count": 0,
      "outputs": []
    },
    {
      "cell_type": "code",
      "metadata": {
        "id": "clAb4hhRNicP",
        "colab_type": "code",
        "colab": {}
      },
      "source": [
        ""
      ],
      "execution_count": 0,
      "outputs": []
    },
    {
      "cell_type": "code",
      "metadata": {
        "id": "gDdJu0nIPmNg",
        "colab_type": "code",
        "colab": {}
      },
      "source": [
        ""
      ],
      "execution_count": 0,
      "outputs": []
    },
    {
      "cell_type": "code",
      "metadata": {
        "id": "h3xlvuzsPmFc",
        "colab_type": "code",
        "colab": {}
      },
      "source": [
        ""
      ],
      "execution_count": 0,
      "outputs": []
    },
    {
      "cell_type": "markdown",
      "metadata": {
        "id": "EvTbl4tgPiqs",
        "colab_type": "text"
      },
      "source": [
        "\n",
        "\n",
        "\n",
        "---\n",
        "\n",
        "\n",
        "---\n",
        "\n",
        "\n",
        "\n",
        "---\n",
        "\n",
        "\n",
        "\n",
        "---\n",
        "\n",
        "\n",
        "\n",
        "---\n",
        "\n",
        "\n",
        "\n",
        "\n",
        "---\n",
        "\n",
        "\n",
        "\n",
        "---\n",
        "\n",
        "\n",
        "\n",
        "---\n",
        "\n",
        "\n",
        "\n",
        "---\n",
        "\n",
        "\n",
        "#Solve above problem using another method"
      ]
    },
    {
      "cell_type": "code",
      "metadata": {
        "id": "UqN_ZWwpNiWm",
        "colab_type": "code",
        "colab": {
          "base_uri": "https://localhost:8080/",
          "height": 204
        },
        "outputId": "10cd1e7c-3f8c-40bc-dbef-ba2a7f044097"
      },
      "source": [
        "dfS08_question= pd.read_csv('S08_question_answer_pairs.txt',  sep=\"\\t\")\n",
        "#Deleting columns not containing questions\n",
        "dfS08_question.drop(labels=['ArticleTitle', 'DifficultyFromQuestioner', 'DifficultyFromAnswerer', 'ArticleFile', 'Answer'], axis=1, inplace=True)\n",
        "dfS08_question.head()"
      ],
      "execution_count": 82,
      "outputs": [
        {
          "output_type": "execute_result",
          "data": {
            "text/html": [
              "<div>\n",
              "<style scoped>\n",
              "    .dataframe tbody tr th:only-of-type {\n",
              "        vertical-align: middle;\n",
              "    }\n",
              "\n",
              "    .dataframe tbody tr th {\n",
              "        vertical-align: top;\n",
              "    }\n",
              "\n",
              "    .dataframe thead th {\n",
              "        text-align: right;\n",
              "    }\n",
              "</style>\n",
              "<table border=\"1\" class=\"dataframe\">\n",
              "  <thead>\n",
              "    <tr style=\"text-align: right;\">\n",
              "      <th></th>\n",
              "      <th>Question</th>\n",
              "    </tr>\n",
              "  </thead>\n",
              "  <tbody>\n",
              "    <tr>\n",
              "      <th>0</th>\n",
              "      <td>Was Abraham Lincoln the sixteenth President of...</td>\n",
              "    </tr>\n",
              "    <tr>\n",
              "      <th>1</th>\n",
              "      <td>Was Abraham Lincoln the sixteenth President of...</td>\n",
              "    </tr>\n",
              "    <tr>\n",
              "      <th>2</th>\n",
              "      <td>Did Lincoln sign the National Banking Act of 1...</td>\n",
              "    </tr>\n",
              "    <tr>\n",
              "      <th>3</th>\n",
              "      <td>Did Lincoln sign the National Banking Act of 1...</td>\n",
              "    </tr>\n",
              "    <tr>\n",
              "      <th>4</th>\n",
              "      <td>Did his mother die of pneumonia?</td>\n",
              "    </tr>\n",
              "  </tbody>\n",
              "</table>\n",
              "</div>"
            ],
            "text/plain": [
              "                                            Question\n",
              "0  Was Abraham Lincoln the sixteenth President of...\n",
              "1  Was Abraham Lincoln the sixteenth President of...\n",
              "2  Did Lincoln sign the National Banking Act of 1...\n",
              "3  Did Lincoln sign the National Banking Act of 1...\n",
              "4                   Did his mother die of pneumonia?"
            ]
          },
          "metadata": {
            "tags": []
          },
          "execution_count": 82
        }
      ]
    },
    {
      "cell_type": "markdown",
      "metadata": {
        "id": "r5-CLRrXPe6H",
        "colab_type": "text"
      },
      "source": [
        "#Converting Data Frame to txt and then import as text array into Numpy"
      ]
    },
    {
      "cell_type": "code",
      "metadata": {
        "id": "wA4tiNvMNiTL",
        "colab_type": "code",
        "colab": {
          "base_uri": "https://localhost:8080/",
          "height": 54
        },
        "outputId": "7a8a6163-901c-4ddf-bcf6-31d923edb866"
      },
      "source": [
        "import nltk\n",
        "import os\n",
        "import numpy as np\n",
        "from nltk.tokenize import sent_tokenize\n",
        "\n",
        "dfS08_question.to_csv(\"csvfile.txt\", sep=\";\", index=False, header=False)\n",
        "print(os.listdir(\".\"))"
      ],
      "execution_count": 88,
      "outputs": [
        {
          "output_type": "stream",
          "text": [
            "['.config', 'csvfile.txt', 'kaggle.json', 'S08_question_answer_pairs.txt', 'text_data', 'S09_question_answer_pairs.txt', 'text_data_toc.csv', 'S10_question_answer_pairs.txt', 'questionanswer-dataset.zip', 'sample_data']\n"
          ],
          "name": "stdout"
        }
      ]
    },
    {
      "cell_type": "code",
      "metadata": {
        "id": "qdJttsm3NiP7",
        "colab_type": "code",
        "colab": {
          "base_uri": "https://localhost:8080/",
          "height": 119
        },
        "outputId": "70d89abd-bb09-4bca-83a0-a94c62bae929"
      },
      "source": [
        "rawText = np.genfromtxt(\"/content/csvfile.txt\", dtype='str', delimiter=';', usecols=np.arange(0,1))\n",
        "print(rawText.shape)\n",
        "rawText[:5]"
      ],
      "execution_count": 90,
      "outputs": [
        {
          "output_type": "stream",
          "text": [
            "(1715,)\n"
          ],
          "name": "stdout"
        },
        {
          "output_type": "execute_result",
          "data": {
            "text/plain": [
              "array(['Was Abraham Lincoln the sixteenth President of the United States?',\n",
              "       'Was Abraham Lincoln the sixteenth President of the United States?',\n",
              "       'Did Lincoln sign the National Banking Act of 1863?',\n",
              "       'Did Lincoln sign the National Banking Act of 1863?',\n",
              "       'Did his mother die of pneumonia?'], dtype='<U252')"
            ]
          },
          "metadata": {
            "tags": []
          },
          "execution_count": 90
        }
      ]
    },
    {
      "cell_type": "markdown",
      "metadata": {
        "id": "VCoHeuNdQ13o",
        "colab_type": "text"
      },
      "source": [
        "# we will complete it later"
      ]
    },
    {
      "cell_type": "code",
      "metadata": {
        "id": "nWMxpL4UNiJI",
        "colab_type": "code",
        "colab": {}
      },
      "source": [
        ""
      ],
      "execution_count": 0,
      "outputs": []
    },
    {
      "cell_type": "code",
      "metadata": {
        "id": "kRf-f3iWNiF3",
        "colab_type": "code",
        "colab": {}
      },
      "source": [
        ""
      ],
      "execution_count": 0,
      "outputs": []
    },
    {
      "cell_type": "code",
      "metadata": {
        "id": "K2LSjvbjNiCE",
        "colab_type": "code",
        "colab": {}
      },
      "source": [
        ""
      ],
      "execution_count": 0,
      "outputs": []
    },
    {
      "cell_type": "code",
      "metadata": {
        "id": "QdapXXW6Nh-Z",
        "colab_type": "code",
        "colab": {}
      },
      "source": [
        ""
      ],
      "execution_count": 0,
      "outputs": []
    },
    {
      "cell_type": "code",
      "metadata": {
        "id": "-Zo4b7dxNh7G",
        "colab_type": "code",
        "colab": {}
      },
      "source": [
        ""
      ],
      "execution_count": 0,
      "outputs": []
    },
    {
      "cell_type": "code",
      "metadata": {
        "id": "ZpnAkfp56O4Z",
        "colab_type": "code",
        "colab": {}
      },
      "source": [
        ""
      ],
      "execution_count": 0,
      "outputs": []
    },
    {
      "cell_type": "code",
      "metadata": {
        "id": "8K-1DAmW6O1e",
        "colab_type": "code",
        "colab": {}
      },
      "source": [
        ""
      ],
      "execution_count": 0,
      "outputs": []
    },
    {
      "cell_type": "markdown",
      "metadata": {
        "id": "4brk5P_uHYsz",
        "colab_type": "text"
      },
      "source": [
        "#Other \n",
        "NLTK LIBRARY"
      ]
    },
    {
      "cell_type": "markdown",
      "metadata": {
        "id": "2FPN5KpjH4lX",
        "colab_type": "text"
      },
      "source": [
        "`Now let's define a function for scikit-learn tokenization.`"
      ]
    },
    {
      "cell_type": "code",
      "metadata": {
        "id": "UXcywYjX6OwN",
        "colab_type": "code",
        "colab": {}
      },
      "source": [
        "from nltk import pos_tag\n",
        "from nltk.corpus import stopwords\n",
        "from nltk.stem import WordNetLemmatizer\n",
        "from nltk.tokenize import word_tokenize\n",
        "import string\n",
        "from nltk.corpus import wordnet\n",
        "\n",
        "stopwords_list = stopwords.words('english')\n",
        "\n",
        "lemmatizer = WordNetLemmatizer()\n",
        "\n",
        "#And this function will be called by the TfidfVectorizer object.\n",
        "def my_tokenizer(doc):\n",
        "    \n",
        "    words = word_tokenize(doc)\n",
        "    \n",
        "    pos_tags = pos_tag(words)\n",
        "    \n",
        "    non_stopwords = [w for w in pos_tags if not w[0].lower() in stopwords_list]\n",
        "    \n",
        "    non_punctuation = [w for w in non_stopwords if not w[0] in string.punctuation]\n",
        "\n",
        "    lemmas = []\n",
        "    for w in non_punctuation:\n",
        "        if w[1].startswith('J'):\n",
        "            pos = wordnet.ADJ\n",
        "        elif w[1].startswith('V'):\n",
        "            pos = wordnet.VERB\n",
        "        elif w[1].startswith('N'):\n",
        "            pos = wordnet.NOUN\n",
        "        elif w[1].startswith('R'):\n",
        "            pos = wordnet.ADV\n",
        "        else:\n",
        "            pos = wordnet.NOUN\n",
        "        \n",
        "        lemmas.append(lemmatizer.lemmatize(w[0], pos))\n",
        "\n",
        "    return lemmas\n",
        "    "
      ],
      "execution_count": 0,
      "outputs": []
    },
    {
      "cell_type": "code",
      "metadata": {
        "id": "S-fa9e3b6OuB",
        "colab_type": "code",
        "colab": {
          "base_uri": "https://localhost:8080/",
          "height": 221
        },
        "outputId": "69a3dbc0-4bb4-4b58-e5ed-ebc888d22cf4"
      },
      "source": [
        "import nltk\n",
        "import numpy as np\n",
        "from nltk.tokenize import sent_tokenize\n",
        "nltk.download('gutenberg')\n",
        "nltk.download('punkt')\n",
        "hamlet_raw = nltk.corpus.gutenberg.raw('shakespeare-hamlet.txt')\n",
        "\n",
        "sents = sent_tokenize(hamlet_raw)\n",
        "\n",
        "hamlet_np = np.array(sents)\n",
        "\n",
        "print(hamlet_np.shape)\n",
        "\n",
        "from sklearn.feature_extraction.text import TfidfVectorizer\n",
        "nltk.download('averaged_perceptron_tagger')\n",
        "nltk.download('wordnet')\n",
        "tfidf_vectorizer = TfidfVectorizer(tokenizer=my_tokenizer)\n",
        "tfs = tfidf_vectorizer.fit_transform(hamlet_np)\n",
        "print(tfs.shape)"
      ],
      "execution_count": 67,
      "outputs": [
        {
          "output_type": "stream",
          "text": [
            "[nltk_data] Downloading package gutenberg to /root/nltk_data...\n",
            "[nltk_data]   Package gutenberg is already up-to-date!\n",
            "[nltk_data] Downloading package punkt to /root/nltk_data...\n",
            "[nltk_data]   Package punkt is already up-to-date!\n",
            "(2355,)\n",
            "[nltk_data] Downloading package averaged_perceptron_tagger to\n",
            "[nltk_data]     /root/nltk_data...\n",
            "[nltk_data]   Package averaged_perceptron_tagger is already up-to-\n",
            "[nltk_data]       date!\n",
            "[nltk_data] Downloading package wordnet to /root/nltk_data...\n",
            "[nltk_data]   Package wordnet is already up-to-date!\n",
            "(2355, 4305)\n"
          ],
          "name": "stdout"
        }
      ]
    },
    {
      "cell_type": "code",
      "metadata": {
        "id": "-XEtIcxD6Orq",
        "colab_type": "code",
        "colab": {
          "base_uri": "https://localhost:8080/",
          "height": 54
        },
        "outputId": "bf2e37c6-9553-49ab-bc3c-7e077e71e4a8"
      },
      "source": [
        "print([k for k in tfidf_vectorizer.vocabulary_.keys()][:20])"
      ],
      "execution_count": 68,
      "outputs": [
        {
          "output_type": "stream",
          "text": [
            "['tragedie', 'hamlet', 'william', 'shakespeare', '1599', 'actus', 'primus', 'scoena', 'prima', 'enter', 'barnardo', 'francisco', 'two', 'centinels', \"'s\", 'fran', 'nay', 'answer', 'stand', 'vnfold']\n"
          ],
          "name": "stdout"
        }
      ]
    },
    {
      "cell_type": "code",
      "metadata": {
        "id": "ywnkevGa6Opl",
        "colab_type": "code",
        "colab": {
          "base_uri": "https://localhost:8080/",
          "height": 255
        },
        "outputId": "5950d1cd-276e-4a28-8c8f-6e41b14028cc"
      },
      "source": [
        "print(tfs[:50,:50])"
      ],
      "execution_count": 70,
      "outputs": [
        {
          "output_type": "stream",
          "text": [
            "  (0, 17)\t0.4098405429500896\n",
            "  (4, 5)\t1.0\n",
            "  (12, 6)\t0.25569565102708125\n",
            "  (13, 6)\t0.24183188573710981\n",
            "  (22, 5)\t0.5865767987601467\n",
            "  (27, 0)\t0.22677320532838496\n",
            "  (29, 5)\t0.28458175550618814\n",
            "  (37, 0)\t0.23602778459784524\n",
            "  (37, 5)\t0.26402019659267234\n",
            "  (39, 6)\t0.13875455587670746\n",
            "  (40, 13)\t0.35297267044370917\n",
            "  (41, 25)\t0.31475626155215114\n",
            "  (43, 5)\t0.14416024946136125\n",
            "  (46, 5)\t0.32299630350190056\n"
          ],
          "name": "stdout"
        }
      ]
    },
    {
      "cell_type": "markdown",
      "metadata": {
        "id": "K4wjITD4KYox",
        "colab_type": "text"
      },
      "source": [
        "`Optionally, we can get the tf-idf attributes from n-grams by combining the CountVectorizer and TfidfTransformer classes. In our example, let's just use trigrams:`"
      ]
    },
    {
      "cell_type": "code",
      "metadata": {
        "id": "gPbxAabd6OnD",
        "colab_type": "code",
        "colab": {
          "base_uri": "https://localhost:8080/",
          "height": 34
        },
        "outputId": "2c10fbc3-4d94-413c-f108-50c3e7acacdf"
      },
      "source": [
        "from sklearn.feature_extraction.text import CountVectorizer\n",
        "from sklearn.feature_extraction.text import TfidfTransformer\n",
        "\n",
        "count_vect = CountVectorizer(ngram_range=(3,3)) #trigrams\n",
        "\n",
        "n_gram_counts = count_vect.fit_transform(hamlet_np)\n",
        "\n",
        "tfidf_transformer = TfidfTransformer()\n",
        "\n",
        "tfs_ngrams = tfidf_transformer.fit_transform(n_gram_counts)\n",
        "\n",
        "print(tfs_ngrams.shape)"
      ],
      "execution_count": 71,
      "outputs": [
        {
          "output_type": "stream",
          "text": [
            "(2355, 23483)\n"
          ],
          "name": "stdout"
        }
      ]
    },
    {
      "cell_type": "markdown",
      "metadata": {
        "id": "vjfE7QDCKi0Y",
        "colab_type": "text"
      },
      "source": [
        "#Dimensionality reduction\n",
        "`The transformation of the corpus into attributes containing the TF-IDF frequencies will generally result in a very sparse ndarray, ie with many dimensions. However, in addition to making algorithm training longer and more costly (computationally speaking), many of these dimensions are probably unrepresentative or even noisy during training. To solve this problem, we can apply a simple dimensionality reduction technique called Singular Value Decomposition (SVD).`\n",
        "\n",
        "`This technique will transform the vectors of the original matrix, rotating and scaling them, resulting in new representations. The dimensionality reduction is made by keeping only the most representative k dimensions we choose. Another advantage of this technique is that the original dimensions are somewhat \"combined,\" resulting in a new way of representing the combination of terms. In the context of PLN, this technique is known as Latent Semantic Analysis (LSA).`\n"
      ]
    },
    {
      "cell_type": "code",
      "metadata": {
        "id": "B_S_GWx-6Okw",
        "colab_type": "code",
        "colab": {
          "base_uri": "https://localhost:8080/",
          "height": 54
        },
        "outputId": "66ea72a0-8bdd-492a-b5ad-49750a421107"
      },
      "source": [
        "from sklearn.decomposition import TruncatedSVD\n",
        "\n",
        "svd_transformer = TruncatedSVD(n_components=1000)\n",
        "\n",
        "svd_transformer.fit(tfs)\n",
        "\n",
        "print(sorted(svd_transformer.explained_variance_ratio_)[::-1][:30])"
      ],
      "execution_count": 72,
      "outputs": [
        {
          "output_type": "stream",
          "text": [
            "[0.04319143964864231, 0.018619648885290326, 0.015991826821457302, 0.015984996712032823, 0.013744333318751852, 0.01177158023826238, 0.009650213667974963, 0.009516807424959752, 0.009505050204169866, 0.009460542064127395, 0.009317453675253258, 0.00927004256530776, 0.00771140689119979, 0.006983997622746521, 0.006654688885440767, 0.006419528576285735, 0.005885302030105491, 0.005372277900306946, 0.00515817119066351, 0.00493125795647099, 0.004867527112014457, 0.004789736065695093, 0.004462492864893638, 0.004339957865165943, 0.004296902243616561, 0.004160561728405304, 0.004039480646183629, 0.003913733369732403, 0.0038585289997894383, 0.0038298284368150155]\n"
          ],
          "name": "stdout"
        }
      ]
    },
    {
      "cell_type": "markdown",
      "metadata": {
        "id": "ZcwRN6Z1LbDS",
        "colab_type": "text"
      },
      "source": [
        "`Now let's keep the dimensions until the cumulative variance is greater than or equal to 0.50.`"
      ]
    },
    {
      "cell_type": "code",
      "metadata": {
        "id": "aoSFvKOS6OiZ",
        "colab_type": "code",
        "colab": {
          "base_uri": "https://localhost:8080/",
          "height": 34
        },
        "outputId": "638acf41-be1b-4002-e536-eb9f8d4e77ea"
      },
      "source": [
        "cummulative_variance = 0.0\n",
        "k = 0\n",
        "for var in sorted(svd_transformer.explained_variance_ratio_)[::-1]:\n",
        "    cummulative_variance += var\n",
        "    if cummulative_variance >= 0.5:\n",
        "        break\n",
        "    else:\n",
        "        k += 1\n",
        "        \n",
        "print(k)"
      ],
      "execution_count": 73,
      "outputs": [
        {
          "output_type": "stream",
          "text": [
            "143\n"
          ],
          "name": "stdout"
        }
      ]
    },
    {
      "cell_type": "markdown",
      "metadata": {
        "id": "bKCMfqDgLnMD",
        "colab_type": "text"
      },
      "source": [
        "`We transform again, but this time with the number of k components we obtained earlier.`"
      ]
    },
    {
      "cell_type": "code",
      "metadata": {
        "id": "aix-U0On6Ogh",
        "colab_type": "code",
        "colab": {
          "base_uri": "https://localhost:8080/",
          "height": 54
        },
        "outputId": "94c9a7bd-809d-4b38-ab82-f20a174217d8"
      },
      "source": [
        "svd_transformer = TruncatedSVD(n_components=k)\n",
        "svd_data = svd_transformer.fit_transform(tfs)\n",
        "print(sorted(svd_transformer.explained_variance_ratio_)[::-1])"
      ],
      "execution_count": 74,
      "outputs": [
        {
          "output_type": "stream",
          "text": [
            "[0.04319143964849607, 0.01861964888757188, 0.015991826832433435, 0.01598499671092047, 0.013744333326091625, 0.01177158028827747, 0.009650213469195786, 0.009516807243291651, 0.009505050265448222, 0.009460542005755143, 0.00931745368020356, 0.009270042542963708, 0.007711406071217975, 0.006983997677641885, 0.006654689740897062, 0.006419529301423177, 0.005885298834675811, 0.005372276987945273, 0.0051581704075479955, 0.00493125947141876, 0.004867526342691276, 0.004789733790767578, 0.0044624929025246065, 0.0043399473697041885, 0.004296900685370986, 0.004160556529847263, 0.00403947342661859, 0.003913725702760502, 0.0038585073180558947, 0.0038298265648413986, 0.003713634254731037, 0.003663393169366966, 0.0035824742431858313, 0.0035617258103456313, 0.0035351640190848274, 0.0034284355602272405, 0.0033450756885336787, 0.003242946882513592, 0.0032341297071723, 0.0031762222377768588, 0.0031226652600258396, 0.0030422567387544735, 0.002931403643054755, 0.0029182733310599636, 0.00288770944523902, 0.002850356546703936, 0.0028174895916915463, 0.0027992242071582817, 0.0027527216830365493, 0.0027258739521362455, 0.0027165805333102437, 0.0026896173407085955, 0.0026505366576154176, 0.00259643847502891, 0.002580352197692536, 0.0025427237938211475, 0.0025136368996901953, 0.002469400643121164, 0.002455994561777432, 0.0024447280424362513, 0.0024311780278478182, 0.0023818142198800654, 0.0023652180642831154, 0.002321350244820356, 0.0023006765631966245, 0.002275394843593957, 0.0022640014985704786, 0.0022371045325949484, 0.002233720542686765, 0.002222762380059127, 0.0022051835082746913, 0.0021756216313635513, 0.0021685611952199945, 0.002136165774471343, 0.002113624299632259, 0.002086501331334108, 0.002066700163945903, 0.0020387728644126577, 0.0020243822435156494, 0.0019944344917119353, 0.0019814345411953887, 0.0019775162097378615, 0.0019493418435215112, 0.0019356049214829883, 0.001913575067004564, 0.0019071051201451695, 0.0018798478638989483, 0.0018690619585921707, 0.001861945265881941, 0.0018520688346648066, 0.0018319505732646132, 0.0018117835952843773, 0.0017894264494120885, 0.0017701152768889133, 0.001757981232557111, 0.001737346134151908, 0.0017216721819581034, 0.0017033833110413584, 0.0016770521678586884, 0.001657599021401279, 0.0016483606337594115, 0.0016404048432506013, 0.0016273382998013345, 0.0016134981415440541, 0.0015987689025696867, 0.0015744051205924797, 0.0015603719493214217, 0.0015511871836540346, 0.0015295899717588024, 0.0015080857135057475, 0.0014994700488400808, 0.0014874192859309168, 0.0014736165784809292, 0.0014572698402063045, 0.0014521915447418354, 0.001438230862672393, 0.0014240507318758445, 0.0014216121215096392, 0.0014119787879491772, 0.0014040303294216303, 0.0014014451239585518, 0.0013809448757532252, 0.001378730770951217, 0.0013692765284683732, 0.001354753326504706, 0.0013471708146212903, 0.0013218011097682017, 0.0013128960300510932, 0.0013058925267766886, 0.0012962467763015697, 0.0012830144539784111, 0.0012789774341303395, 0.0012658006924604543, 0.0012593080688795399, 0.0012542229020646826, 0.0012383371064862859, 0.0012348781792172949, 0.0012159130044947348, 0.0011958603899551482, 0.0011887465717055018, 0.0011834580188375336, 0.0011647675943860097, 0.001157208877012339]\n"
          ],
          "name": "stdout"
        }
      ]
    },
    {
      "cell_type": "code",
      "metadata": {
        "id": "d-tmOyt56Oel",
        "colab_type": "code",
        "colab": {
          "base_uri": "https://localhost:8080/",
          "height": 34
        },
        "outputId": "782071cb-19f4-4af4-fca5-417716224bed"
      },
      "source": [
        "print(svd_data.shape)"
      ],
      "execution_count": 75,
      "outputs": [
        {
          "output_type": "stream",
          "text": [
            "(2355, 143)\n"
          ],
          "name": "stdout"
        }
      ]
    },
    {
      "cell_type": "markdown",
      "metadata": {
        "id": "qNxK1jrVL2Lt",
        "colab_type": "text"
      },
      "source": [
        "#Cosine Similarity\n",
        "\n",
        "`Since two documents are represented as numeric vectors, it is possible to compare the similarity between documents by calculating the cosine of the angle between these documents - a measure of distance, not amplitude. To do this, simply solve the scalar product equation between the vectors to find the cosine.`    \n",
        "\n",
        "![alt text](http://s0.wp.com/latex.php?latex=++%5Cdisplaystyle++%5Cvec%7Ba%7D+%5Ccdot+%5Cvec%7Bb%7D+%3D+%5C%7C%5Cvec%7Ba%7D%5C%7C%5C%7C%5Cvec%7Bb%7D%5C%7C%5Ccos%7B%5Ctheta%7D+%5C%5C+%5C%5C++%5Ccos%7B%5Ctheta%7D+%3D+%5Cfrac%7B%5Cvec%7Ba%7D+%5Ccdot+%5Cvec%7Bb%7D%7D%7B%5C%7C%5Cvec%7Ba%7D%5C%7C%5C%7C%5Cvec%7Bb%7D%5C%7C%7D++&bg=ffffff&fg=000000&s=0)   \n",
        "\n",
        "\n",
        ">>> ![alt text](http://blog.christianperone.com/wp-content/uploads/2013/09/vector_space.png)"
      ]
    },
    {
      "cell_type": "code",
      "metadata": {
        "id": "jDUDj9lu6Ocw",
        "colab_type": "code",
        "colab": {
          "base_uri": "https://localhost:8080/",
          "height": 34
        },
        "outputId": "ec752d72-341b-4579-cdf5-bf94a7814b62"
      },
      "source": [
        " documents = (\n",
        "    \"The sky is blue\",\n",
        "    \"The sun is bright\",\n",
        "    \"The sun in the sky is bright\",\n",
        "    \"We can see the shining sun, the bright sun\"\n",
        "    )\n",
        "\n",
        "from sklearn.feature_extraction.text import TfidfVectorizer\n",
        "tfidf_vectorizer = TfidfVectorizer()\n",
        "tfidf_matrix = tfidf_vectorizer.fit_transform(documents)\n",
        "print(tfidf_matrix.shape)"
      ],
      "execution_count": 76,
      "outputs": [
        {
          "output_type": "stream",
          "text": [
            "(4, 11)\n"
          ],
          "name": "stdout"
        }
      ]
    },
    {
      "cell_type": "code",
      "metadata": {
        "id": "eJsIkFgE6Oav",
        "colab_type": "code",
        "colab": {
          "base_uri": "https://localhost:8080/",
          "height": 34
        },
        "outputId": "938e774f-ca99-4c62-a4e8-8c33a3126f25"
      },
      "source": [
        "from sklearn.metrics.pairwise import cosine_similarity\n",
        "\n",
        "query_vect = tfidf_vectorizer.transform([\"The sun is red in the sky\"])\n",
        "\n",
        "cosine_similarity(query_vect, tfidf_matrix)"
      ],
      "execution_count": 78,
      "outputs": [
        {
          "output_type": "execute_result",
          "data": {
            "text/plain": [
              "array([[0.55245238, 0.59222761, 0.9467919 , 0.37986898]])"
            ]
          },
          "metadata": {
            "tags": []
          },
          "execution_count": 78
        }
      ]
    },
    {
      "cell_type": "code",
      "metadata": {
        "id": "IxOYrYd76MuR",
        "colab_type": "code",
        "colab": {}
      },
      "source": [
        ""
      ],
      "execution_count": 0,
      "outputs": []
    },
    {
      "cell_type": "code",
      "metadata": {
        "id": "6axXnWyN6Msc",
        "colab_type": "code",
        "colab": {}
      },
      "source": [
        ""
      ],
      "execution_count": 0,
      "outputs": []
    },
    {
      "cell_type": "code",
      "metadata": {
        "id": "RlU6pxDI6Mql",
        "colab_type": "code",
        "colab": {}
      },
      "source": [
        ""
      ],
      "execution_count": 0,
      "outputs": []
    },
    {
      "cell_type": "code",
      "metadata": {
        "id": "Tg7SdP7L6Mo6",
        "colab_type": "code",
        "colab": {}
      },
      "source": [
        ""
      ],
      "execution_count": 0,
      "outputs": []
    },
    {
      "cell_type": "code",
      "metadata": {
        "id": "neo8Bm_v6MnK",
        "colab_type": "code",
        "colab": {}
      },
      "source": [
        ""
      ],
      "execution_count": 0,
      "outputs": []
    },
    {
      "cell_type": "code",
      "metadata": {
        "id": "Q_mz8nGw6Mlc",
        "colab_type": "code",
        "colab": {}
      },
      "source": [
        ""
      ],
      "execution_count": 0,
      "outputs": []
    },
    {
      "cell_type": "code",
      "metadata": {
        "id": "2pOzOOD66Mi8",
        "colab_type": "code",
        "colab": {}
      },
      "source": [
        ""
      ],
      "execution_count": 0,
      "outputs": []
    },
    {
      "cell_type": "code",
      "metadata": {
        "id": "4sNF7Ln26MgU",
        "colab_type": "code",
        "colab": {}
      },
      "source": [
        ""
      ],
      "execution_count": 0,
      "outputs": []
    }
  ]
}