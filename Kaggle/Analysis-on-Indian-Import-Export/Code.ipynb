{
  "nbformat": 4,
  "nbformat_minor": 0,
  "metadata": {
    "colab": {
      "name": "TensorFlow with GPU",
      "provenance": [],
      "collapsed_sections": [],
      "include_colab_link": true
    },
    "kernelspec": {
      "name": "python3",
      "display_name": "Python 3"
    },
    "accelerator": "GPU"
  },
  "cells": [
    {
      "cell_type": "markdown",
      "metadata": {
        "id": "view-in-github",
        "colab_type": "text"
      },
      "source": [
        "<a href=\"https://colab.research.google.com/github/priyanshgupta1998/Machine_learning/blob/master/Kaggle/Analysis-on-Indian-Import-Export/Code.ipynb\" target=\"_parent\"><img src=\"https://colab.research.google.com/assets/colab-badge.svg\" alt=\"Open In Colab\"/></a>"
      ]
    },
    {
      "cell_type": "markdown",
      "metadata": {
        "id": "Jx8hz2tCra7N",
        "colab_type": "text"
      },
      "source": [
        "#Analysis on Indian Import Export"
      ]
    },
    {
      "cell_type": "code",
      "metadata": {
        "id": "TFP6taV4tK2B",
        "colab_type": "code",
        "colab": {}
      },
      "source": [
        "!pip install squarify"
      ],
      "execution_count": 0,
      "outputs": []
    },
    {
      "cell_type": "code",
      "metadata": {
        "id": "4jsTDgO-rWvr",
        "colab_type": "code",
        "colab": {}
      },
      "source": [
        "import numpy as np # linear algebra\n",
        "import pandas as pd # data processing, CSV file I/O (e.g. pd.read_csv)\n",
        "\n",
        "# charts\n",
        "import seaborn as sns \n",
        "import matplotlib.pyplot as plt\n",
        "import squarify #TreeMap\n",
        "\n",
        "# import graph objects as \"go\"\n",
        "\n",
        "import plotly.graph_objs as go\n",
        "\n",
        "\n",
        "%matplotlib inline\n",
        "\n",
        "#ignore warning \n",
        "import warnings\n",
        "warnings.filterwarnings(\"ignore\")\n",
        "\n",
        "# Input data files are available in the \"../input/\" directory.\n",
        "import os\n"
      ],
      "execution_count": 0,
      "outputs": []
    },
    {
      "cell_type": "code",
      "metadata": {
        "id": "CoxkLqZFsVXK",
        "colab_type": "code",
        "colab": {
          "resources": {
            "http://localhost:8080/nbextensions/google.colab/files.js": {
              "data": "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",
              "ok": true,
              "headers": [
                [
                  "content-type",
                  "application/javascript"
                ]
              ],
              "status": 200,
              "status_text": ""
            }
          },
          "base_uri": "https://localhost:8080/",
          "height": 74
        },
        "outputId": "0cd02af0-112a-430e-90c5-9c9993b84c91"
      },
      "source": [
        "from google.colab import files\n",
        "files.upload()\n",
        "!pip install -q kaggle\n",
        "!mkdir -p ~/.kaggle\n",
        "!cp kaggle.json ~/.kaggle/\n",
        "!chmod 600 ~/.kaggle/kaggle.json"
      ],
      "execution_count": 2,
      "outputs": [
        {
          "output_type": "display_data",
          "data": {
            "text/html": [
              "\n",
              "     <input type=\"file\" id=\"files-0c7bf14f-f92b-4b94-a05f-0bae59abdfc2\" name=\"files[]\" multiple disabled />\n",
              "     <output id=\"result-0c7bf14f-f92b-4b94-a05f-0bae59abdfc2\">\n",
              "      Upload widget is only available when the cell has been executed in the\n",
              "      current browser session. Please rerun this cell to enable.\n",
              "      </output>\n",
              "      <script src=\"/nbextensions/google.colab/files.js\"></script> "
            ],
            "text/plain": [
              "<IPython.core.display.HTML object>"
            ]
          },
          "metadata": {
            "tags": []
          }
        },
        {
          "output_type": "stream",
          "text": [
            "Saving kaggle.json to kaggle.json\n"
          ],
          "name": "stdout"
        }
      ]
    },
    {
      "cell_type": "code",
      "metadata": {
        "id": "UR7jZvxPr4gL",
        "colab_type": "code",
        "colab": {
          "base_uri": "https://localhost:8080/",
          "height": 68
        },
        "outputId": "3df45e1b-3987-48ad-bfa4-5fceeacd028e"
      },
      "source": [
        "!kaggle datasets download -d lakshyaag/india-trade-data/kernels"
      ],
      "execution_count": 3,
      "outputs": [
        {
          "output_type": "stream",
          "text": [
            "Downloading india-trade-data.zip to /content\n",
            "\r  0% 0.00/1.43M [00:00<?, ?B/s]\n",
            "\r100% 1.43M/1.43M [00:00<00:00, 100MB/s]\n"
          ],
          "name": "stdout"
        }
      ]
    },
    {
      "cell_type": "code",
      "metadata": {
        "id": "0bWFedHBtATV",
        "colab_type": "code",
        "colab": {
          "base_uri": "https://localhost:8080/",
          "height": 68
        },
        "outputId": "5fd79ceb-e9a3-4e93-a3b8-f0cd72c9a1bb"
      },
      "source": [
        "!unzip india-trade-data.zip"
      ],
      "execution_count": 4,
      "outputs": [
        {
          "output_type": "stream",
          "text": [
            "Archive:  india-trade-data.zip\n",
            "  inflating: 2018-2010_export.csv    \n",
            "  inflating: 2018-2010_import.csv    \n"
          ],
          "name": "stdout"
        }
      ]
    },
    {
      "cell_type": "code",
      "metadata": {
        "id": "Ec7dBZb0slWn",
        "colab_type": "code",
        "colab": {
          "base_uri": "https://localhost:8080/",
          "height": 374
        },
        "outputId": "134835a6-3a10-4deb-f4e8-6745103e3998"
      },
      "source": [
        "for dirname, _, filenames in os.walk('/content'):\n",
        "  for filename in filenames:\n",
        "    print(os.path.join(dirname, filename))"
      ],
      "execution_count": 12,
      "outputs": [
        {
          "output_type": "stream",
          "text": [
            "/content/2018-2010_import.csv\n",
            "/content/kaggle.json\n",
            "/content/2018-2010_export.csv\n",
            "/content/india-trade-data.zip\n",
            "/content/.config/.last_update_check.json\n",
            "/content/.config/config_sentinel\n",
            "/content/.config/active_config\n",
            "/content/.config/gce\n",
            "/content/.config/.metricsUUID\n",
            "/content/.config/logs/2019.08.27/16.17.17.407104.log\n",
            "/content/.config/logs/2019.08.27/16.17.00.530950.log\n",
            "/content/.config/logs/2019.08.27/16.17.21.663235.log\n",
            "/content/.config/logs/2019.08.27/16.17.22.686467.log\n",
            "/content/.config/logs/2019.08.27/16.17.07.367707.log\n",
            "/content/.config/configurations/config_default\n",
            "/content/sample_data/anscombe.json\n",
            "/content/sample_data/README.md\n",
            "/content/sample_data/california_housing_train.csv\n",
            "/content/sample_data/california_housing_test.csv\n",
            "/content/sample_data/mnist_train_small.csv\n",
            "/content/sample_data/mnist_test.csv\n"
          ],
          "name": "stdout"
        }
      ]
    },
    {
      "cell_type": "code",
      "metadata": {
        "id": "-wxMJ7ZarWy_",
        "colab_type": "code",
        "colab": {
          "base_uri": "https://localhost:8080/",
          "height": 34
        },
        "outputId": "527aef1f-5150-4231-ccd0-4dba07c5ac7d"
      },
      "source": [
        "print(os.listdir())"
      ],
      "execution_count": 13,
      "outputs": [
        {
          "output_type": "stream",
          "text": [
            "['.config', '2018-2010_import.csv', 'kaggle.json', '2018-2010_export.csv', 'india-trade-data.zip', 'sample_data']\n"
          ],
          "name": "stdout"
        }
      ]
    },
    {
      "cell_type": "code",
      "metadata": {
        "id": "LTRr-i1ErW4W",
        "colab_type": "code",
        "colab": {
          "base_uri": "https://localhost:8080/",
          "height": 221
        },
        "outputId": "254afe7f-3dd1-4b76-c0cf-97df6bec9ebc"
      },
      "source": [
        "data_import = pd.read_csv(\"2018-2010_import.csv\")\n",
        "print(data_import.shape)\n",
        "data_import.head()\n"
      ],
      "execution_count": 15,
      "outputs": [
        {
          "output_type": "stream",
          "text": [
            "(93095, 5)\n"
          ],
          "name": "stdout"
        },
        {
          "output_type": "execute_result",
          "data": {
            "text/html": [
              "<div>\n",
              "<style scoped>\n",
              "    .dataframe tbody tr th:only-of-type {\n",
              "        vertical-align: middle;\n",
              "    }\n",
              "\n",
              "    .dataframe tbody tr th {\n",
              "        vertical-align: top;\n",
              "    }\n",
              "\n",
              "    .dataframe thead th {\n",
              "        text-align: right;\n",
              "    }\n",
              "</style>\n",
              "<table border=\"1\" class=\"dataframe\">\n",
              "  <thead>\n",
              "    <tr style=\"text-align: right;\">\n",
              "      <th></th>\n",
              "      <th>HSCode</th>\n",
              "      <th>Commodity</th>\n",
              "      <th>value</th>\n",
              "      <th>country</th>\n",
              "      <th>year</th>\n",
              "    </tr>\n",
              "  </thead>\n",
              "  <tbody>\n",
              "    <tr>\n",
              "      <th>0</th>\n",
              "      <td>5</td>\n",
              "      <td>PRODUCTS OF ANIMAL ORIGIN, NOT ELSEWHERE SPECI...</td>\n",
              "      <td>0.00</td>\n",
              "      <td>AFGHANISTAN TIS</td>\n",
              "      <td>2018</td>\n",
              "    </tr>\n",
              "    <tr>\n",
              "      <th>1</th>\n",
              "      <td>7</td>\n",
              "      <td>EDIBLE VEGETABLES AND CERTAIN ROOTS AND TUBERS.</td>\n",
              "      <td>12.38</td>\n",
              "      <td>AFGHANISTAN TIS</td>\n",
              "      <td>2018</td>\n",
              "    </tr>\n",
              "    <tr>\n",
              "      <th>2</th>\n",
              "      <td>8</td>\n",
              "      <td>EDIBLE FRUIT AND NUTS; PEEL OR CITRUS FRUIT OR...</td>\n",
              "      <td>268.60</td>\n",
              "      <td>AFGHANISTAN TIS</td>\n",
              "      <td>2018</td>\n",
              "    </tr>\n",
              "    <tr>\n",
              "      <th>3</th>\n",
              "      <td>9</td>\n",
              "      <td>COFFEE, TEA, MATE AND SPICES.</td>\n",
              "      <td>35.48</td>\n",
              "      <td>AFGHANISTAN TIS</td>\n",
              "      <td>2018</td>\n",
              "    </tr>\n",
              "    <tr>\n",
              "      <th>4</th>\n",
              "      <td>11</td>\n",
              "      <td>PRODUCTS OF THE MILLING INDUSTRY; MALT; STARCH...</td>\n",
              "      <td>NaN</td>\n",
              "      <td>AFGHANISTAN TIS</td>\n",
              "      <td>2018</td>\n",
              "    </tr>\n",
              "  </tbody>\n",
              "</table>\n",
              "</div>"
            ],
            "text/plain": [
              "   HSCode  ...  year\n",
              "0       5  ...  2018\n",
              "1       7  ...  2018\n",
              "2       8  ...  2018\n",
              "3       9  ...  2018\n",
              "4      11  ...  2018\n",
              "\n",
              "[5 rows x 5 columns]"
            ]
          },
          "metadata": {
            "tags": []
          },
          "execution_count": 15
        }
      ]
    },
    {
      "cell_type": "markdown",
      "metadata": {
        "id": "MLZMWjyAuEEh",
        "colab_type": "text"
      },
      "source": [
        "HSCode - HS stands for Harmonized System. It was developed by the WCO (World Customs Organization) as a multipurpose international product nomenclature that describes the type of good that is shipped HS Code Structure\n",
        "\n",
        "The HS code can be described as follows:\n",
        "\n",
        "It is a six-digit identification code. It has 5000 commodity groups. Those groups have 99 chapters. Those chapters have 21 sections. It’s arranged in a legal and logical structure. Well-defined rules support it to realize uniform classification worldwide.\n",
        "\n",
        "the HSCode in column is 99 chapters"
      ]
    },
    {
      "cell_type": "code",
      "metadata": {
        "id": "fMB6mbrurW7d",
        "colab_type": "code",
        "colab": {
          "base_uri": "https://localhost:8080/",
          "height": 221
        },
        "outputId": "53636c6b-c9d1-4c25-cef7-1b81a42011e4"
      },
      "source": [
        "data_export = pd.read_csv(\"2018-2010_export.csv\")\n",
        "print(data_export .shape)\n",
        "data_export .head()"
      ],
      "execution_count": 16,
      "outputs": [
        {
          "output_type": "stream",
          "text": [
            "(137023, 5)\n"
          ],
          "name": "stdout"
        },
        {
          "output_type": "execute_result",
          "data": {
            "text/html": [
              "<div>\n",
              "<style scoped>\n",
              "    .dataframe tbody tr th:only-of-type {\n",
              "        vertical-align: middle;\n",
              "    }\n",
              "\n",
              "    .dataframe tbody tr th {\n",
              "        vertical-align: top;\n",
              "    }\n",
              "\n",
              "    .dataframe thead th {\n",
              "        text-align: right;\n",
              "    }\n",
              "</style>\n",
              "<table border=\"1\" class=\"dataframe\">\n",
              "  <thead>\n",
              "    <tr style=\"text-align: right;\">\n",
              "      <th></th>\n",
              "      <th>HSCode</th>\n",
              "      <th>Commodity</th>\n",
              "      <th>value</th>\n",
              "      <th>country</th>\n",
              "      <th>year</th>\n",
              "    </tr>\n",
              "  </thead>\n",
              "  <tbody>\n",
              "    <tr>\n",
              "      <th>0</th>\n",
              "      <td>2</td>\n",
              "      <td>MEAT AND EDIBLE MEAT OFFAL.</td>\n",
              "      <td>0.18</td>\n",
              "      <td>AFGHANISTAN TIS</td>\n",
              "      <td>2018</td>\n",
              "    </tr>\n",
              "    <tr>\n",
              "      <th>1</th>\n",
              "      <td>3</td>\n",
              "      <td>FISH AND CRUSTACEANS, MOLLUSCS AND OTHER AQUAT...</td>\n",
              "      <td>0.00</td>\n",
              "      <td>AFGHANISTAN TIS</td>\n",
              "      <td>2018</td>\n",
              "    </tr>\n",
              "    <tr>\n",
              "      <th>2</th>\n",
              "      <td>4</td>\n",
              "      <td>DAIRY PRODUCE; BIRDS' EGGS; NATURAL HONEY; EDI...</td>\n",
              "      <td>12.48</td>\n",
              "      <td>AFGHANISTAN TIS</td>\n",
              "      <td>2018</td>\n",
              "    </tr>\n",
              "    <tr>\n",
              "      <th>3</th>\n",
              "      <td>6</td>\n",
              "      <td>LIVE TREES AND OTHER PLANTS; BULBS; ROOTS AND ...</td>\n",
              "      <td>0.00</td>\n",
              "      <td>AFGHANISTAN TIS</td>\n",
              "      <td>2018</td>\n",
              "    </tr>\n",
              "    <tr>\n",
              "      <th>4</th>\n",
              "      <td>7</td>\n",
              "      <td>EDIBLE VEGETABLES AND CERTAIN ROOTS AND TUBERS.</td>\n",
              "      <td>1.89</td>\n",
              "      <td>AFGHANISTAN TIS</td>\n",
              "      <td>2018</td>\n",
              "    </tr>\n",
              "  </tbody>\n",
              "</table>\n",
              "</div>"
            ],
            "text/plain": [
              "   HSCode  ...  year\n",
              "0       2  ...  2018\n",
              "1       3  ...  2018\n",
              "2       4  ...  2018\n",
              "3       6  ...  2018\n",
              "4       7  ...  2018\n",
              "\n",
              "[5 rows x 5 columns]"
            ]
          },
          "metadata": {
            "tags": []
          },
          "execution_count": 16
        }
      ]
    },
    {
      "cell_type": "code",
      "metadata": {
        "id": "GwQ7dJFDrXG2",
        "colab_type": "code",
        "colab": {
          "base_uri": "https://localhost:8080/",
          "height": 297
        },
        "outputId": "77c9b010-1e05-454c-d9f6-5017f1cbd842"
      },
      "source": [
        "data_export.describe()"
      ],
      "execution_count": 17,
      "outputs": [
        {
          "output_type": "execute_result",
          "data": {
            "text/html": [
              "<div>\n",
              "<style scoped>\n",
              "    .dataframe tbody tr th:only-of-type {\n",
              "        vertical-align: middle;\n",
              "    }\n",
              "\n",
              "    .dataframe tbody tr th {\n",
              "        vertical-align: top;\n",
              "    }\n",
              "\n",
              "    .dataframe thead th {\n",
              "        text-align: right;\n",
              "    }\n",
              "</style>\n",
              "<table border=\"1\" class=\"dataframe\">\n",
              "  <thead>\n",
              "    <tr style=\"text-align: right;\">\n",
              "      <th></th>\n",
              "      <th>HSCode</th>\n",
              "      <th>value</th>\n",
              "      <th>year</th>\n",
              "    </tr>\n",
              "  </thead>\n",
              "  <tbody>\n",
              "    <tr>\n",
              "      <th>count</th>\n",
              "      <td>137023.000000</td>\n",
              "      <td>122985.000000</td>\n",
              "      <td>137023.000000</td>\n",
              "    </tr>\n",
              "    <tr>\n",
              "      <th>mean</th>\n",
              "      <td>51.330302</td>\n",
              "      <td>21.567829</td>\n",
              "      <td>2014.056304</td>\n",
              "    </tr>\n",
              "    <tr>\n",
              "      <th>std</th>\n",
              "      <td>28.018026</td>\n",
              "      <td>229.701279</td>\n",
              "      <td>2.580160</td>\n",
              "    </tr>\n",
              "    <tr>\n",
              "      <th>min</th>\n",
              "      <td>1.000000</td>\n",
              "      <td>0.000000</td>\n",
              "      <td>2010.000000</td>\n",
              "    </tr>\n",
              "    <tr>\n",
              "      <th>25%</th>\n",
              "      <td>28.000000</td>\n",
              "      <td>0.030000</td>\n",
              "      <td>2012.000000</td>\n",
              "    </tr>\n",
              "    <tr>\n",
              "      <th>50%</th>\n",
              "      <td>52.000000</td>\n",
              "      <td>0.360000</td>\n",
              "      <td>2014.000000</td>\n",
              "    </tr>\n",
              "    <tr>\n",
              "      <th>75%</th>\n",
              "      <td>74.000000</td>\n",
              "      <td>3.770000</td>\n",
              "      <td>2016.000000</td>\n",
              "    </tr>\n",
              "    <tr>\n",
              "      <th>max</th>\n",
              "      <td>99.000000</td>\n",
              "      <td>19805.170000</td>\n",
              "      <td>2018.000000</td>\n",
              "    </tr>\n",
              "  </tbody>\n",
              "</table>\n",
              "</div>"
            ],
            "text/plain": [
              "              HSCode          value           year\n",
              "count  137023.000000  122985.000000  137023.000000\n",
              "mean       51.330302      21.567829    2014.056304\n",
              "std        28.018026     229.701279       2.580160\n",
              "min         1.000000       0.000000    2010.000000\n",
              "25%        28.000000       0.030000    2012.000000\n",
              "50%        52.000000       0.360000    2014.000000\n",
              "75%        74.000000       3.770000    2016.000000\n",
              "max        99.000000   19805.170000    2018.000000"
            ]
          },
          "metadata": {
            "tags": []
          },
          "execution_count": 17
        }
      ]
    },
    {
      "cell_type": "markdown",
      "metadata": {
        "id": "eTsgb9KhuONI",
        "colab_type": "text"
      },
      "source": [
        "> HSCode shows data is under 1 to 99 which is correct as we discussed above.\n",
        "\n",
        "> Value is showing a huge outlier as 75 % data is below 3.7 and maximum is 19805 seems some items category are very expensive .we will research it on this in later.also min is zero as some export may be two small to roundoff in two decimal.\n",
        "\n",
        "> Year is under 2010 to 2018 Perfect."
      ]
    },
    {
      "cell_type": "code",
      "metadata": {
        "id": "imRsXbFUrXPJ",
        "colab_type": "code",
        "colab": {
          "base_uri": "https://localhost:8080/",
          "height": 297
        },
        "outputId": "7c86d3bb-a701-4aac-a9b2-6053f8b54088"
      },
      "source": [
        "data_import.describe()"
      ],
      "execution_count": 18,
      "outputs": [
        {
          "output_type": "execute_result",
          "data": {
            "text/html": [
              "<div>\n",
              "<style scoped>\n",
              "    .dataframe tbody tr th:only-of-type {\n",
              "        vertical-align: middle;\n",
              "    }\n",
              "\n",
              "    .dataframe tbody tr th {\n",
              "        vertical-align: top;\n",
              "    }\n",
              "\n",
              "    .dataframe thead th {\n",
              "        text-align: right;\n",
              "    }\n",
              "</style>\n",
              "<table border=\"1\" class=\"dataframe\">\n",
              "  <thead>\n",
              "    <tr style=\"text-align: right;\">\n",
              "      <th></th>\n",
              "      <th>HSCode</th>\n",
              "      <th>value</th>\n",
              "      <th>year</th>\n",
              "    </tr>\n",
              "  </thead>\n",
              "  <tbody>\n",
              "    <tr>\n",
              "      <th>count</th>\n",
              "      <td>93095.000000</td>\n",
              "      <td>79068.000000</td>\n",
              "      <td>93095.000000</td>\n",
              "    </tr>\n",
              "    <tr>\n",
              "      <th>mean</th>\n",
              "      <td>53.849573</td>\n",
              "      <td>63.289855</td>\n",
              "      <td>2014.654740</td>\n",
              "    </tr>\n",
              "    <tr>\n",
              "      <th>std</th>\n",
              "      <td>27.567486</td>\n",
              "      <td>666.652363</td>\n",
              "      <td>2.702373</td>\n",
              "    </tr>\n",
              "    <tr>\n",
              "      <th>min</th>\n",
              "      <td>1.000000</td>\n",
              "      <td>0.000000</td>\n",
              "      <td>2010.000000</td>\n",
              "    </tr>\n",
              "    <tr>\n",
              "      <th>25%</th>\n",
              "      <td>30.000000</td>\n",
              "      <td>0.030000</td>\n",
              "      <td>2012.000000</td>\n",
              "    </tr>\n",
              "    <tr>\n",
              "      <th>50%</th>\n",
              "      <td>54.000000</td>\n",
              "      <td>0.380000</td>\n",
              "      <td>2015.000000</td>\n",
              "    </tr>\n",
              "    <tr>\n",
              "      <th>75%</th>\n",
              "      <td>78.000000</td>\n",
              "      <td>4.910000</td>\n",
              "      <td>2017.000000</td>\n",
              "    </tr>\n",
              "    <tr>\n",
              "      <th>max</th>\n",
              "      <td>99.000000</td>\n",
              "      <td>32781.570000</td>\n",
              "      <td>2018.000000</td>\n",
              "    </tr>\n",
              "  </tbody>\n",
              "</table>\n",
              "</div>"
            ],
            "text/plain": [
              "             HSCode         value          year\n",
              "count  93095.000000  79068.000000  93095.000000\n",
              "mean      53.849573     63.289855   2014.654740\n",
              "std       27.567486    666.652363      2.702373\n",
              "min        1.000000      0.000000   2010.000000\n",
              "25%       30.000000      0.030000   2012.000000\n",
              "50%       54.000000      0.380000   2015.000000\n",
              "75%       78.000000      4.910000   2017.000000\n",
              "max       99.000000  32781.570000   2018.000000"
            ]
          },
          "metadata": {
            "tags": []
          },
          "execution_count": 18
        }
      ]
    },
    {
      "cell_type": "code",
      "metadata": {
        "id": "Lvysa0lhrXS8",
        "colab_type": "code",
        "colab": {
          "base_uri": "https://localhost:8080/",
          "height": 187
        },
        "outputId": "1885c5eb-10a6-407a-b964-89c20422f619"
      },
      "source": [
        "data_export.info()"
      ],
      "execution_count": 19,
      "outputs": [
        {
          "output_type": "stream",
          "text": [
            "<class 'pandas.core.frame.DataFrame'>\n",
            "RangeIndex: 137023 entries, 0 to 137022\n",
            "Data columns (total 5 columns):\n",
            "HSCode       137023 non-null int64\n",
            "Commodity    137023 non-null object\n",
            "value        122985 non-null float64\n",
            "country      137023 non-null object\n",
            "year         137023 non-null int64\n",
            "dtypes: float64(1), int64(2), object(2)\n",
            "memory usage: 5.2+ MB\n"
          ],
          "name": "stdout"
        }
      ]
    },
    {
      "cell_type": "code",
      "metadata": {
        "id": "BmOPJLE0u4xQ",
        "colab_type": "code",
        "colab": {
          "base_uri": "https://localhost:8080/",
          "height": 119
        },
        "outputId": "13574072-9378-4e6e-97a3-6c97fc7904ba"
      },
      "source": [
        "data_export.isnull().sum()"
      ],
      "execution_count": 22,
      "outputs": [
        {
          "output_type": "execute_result",
          "data": {
            "text/plain": [
              "HSCode           0\n",
              "Commodity        0\n",
              "value        14038\n",
              "country          0\n",
              "year             0\n",
              "dtype: int64"
            ]
          },
          "metadata": {
            "tags": []
          },
          "execution_count": 22
        }
      ]
    },
    {
      "cell_type": "code",
      "metadata": {
        "id": "xz6ozNdxrXVv",
        "colab_type": "code",
        "colab": {
          "base_uri": "https://localhost:8080/",
          "height": 187
        },
        "outputId": "ec6ab485-35ce-4189-ce0f-be1f69cde16f"
      },
      "source": [
        "data_import.info()"
      ],
      "execution_count": 20,
      "outputs": [
        {
          "output_type": "stream",
          "text": [
            "<class 'pandas.core.frame.DataFrame'>\n",
            "RangeIndex: 93095 entries, 0 to 93094\n",
            "Data columns (total 5 columns):\n",
            "HSCode       93095 non-null int64\n",
            "Commodity    93095 non-null object\n",
            "value        79068 non-null float64\n",
            "country      93095 non-null object\n",
            "year         93095 non-null int64\n",
            "dtypes: float64(1), int64(2), object(2)\n",
            "memory usage: 3.6+ MB\n"
          ],
          "name": "stdout"
        }
      ]
    },
    {
      "cell_type": "code",
      "metadata": {
        "id": "atrCQi-drXbV",
        "colab_type": "code",
        "colab": {
          "base_uri": "https://localhost:8080/",
          "height": 119
        },
        "outputId": "b974d71f-8ef7-4da5-9c50-7e6a0089ce78"
      },
      "source": [
        "data_import.isnull().sum()"
      ],
      "execution_count": 21,
      "outputs": [
        {
          "output_type": "execute_result",
          "data": {
            "text/plain": [
              "HSCode           0\n",
              "Commodity        0\n",
              "value        14027\n",
              "country          0\n",
              "year             0\n",
              "dtype: int64"
            ]
          },
          "metadata": {
            "tags": []
          },
          "execution_count": 21
        }
      ]
    },
    {
      "cell_type": "markdown",
      "metadata": {
        "id": "mZ9ySJLavBnc",
        "colab_type": "text"
      },
      "source": [
        "#### Purchase Value can't be Zero for any product"
      ]
    },
    {
      "cell_type": "code",
      "metadata": {
        "id": "04MmiWEyrXps",
        "colab_type": "code",
        "colab": {
          "base_uri": "https://localhost:8080/",
          "height": 204
        },
        "outputId": "b69be158-fe5a-4ae3-9d5b-558014e8d86e"
      },
      "source": [
        "data_import[data_import.value==0].head(5)"
      ],
      "execution_count": 23,
      "outputs": [
        {
          "output_type": "execute_result",
          "data": {
            "text/html": [
              "<div>\n",
              "<style scoped>\n",
              "    .dataframe tbody tr th:only-of-type {\n",
              "        vertical-align: middle;\n",
              "    }\n",
              "\n",
              "    .dataframe tbody tr th {\n",
              "        vertical-align: top;\n",
              "    }\n",
              "\n",
              "    .dataframe thead th {\n",
              "        text-align: right;\n",
              "    }\n",
              "</style>\n",
              "<table border=\"1\" class=\"dataframe\">\n",
              "  <thead>\n",
              "    <tr style=\"text-align: right;\">\n",
              "      <th></th>\n",
              "      <th>HSCode</th>\n",
              "      <th>Commodity</th>\n",
              "      <th>value</th>\n",
              "      <th>country</th>\n",
              "      <th>year</th>\n",
              "    </tr>\n",
              "  </thead>\n",
              "  <tbody>\n",
              "    <tr>\n",
              "      <th>0</th>\n",
              "      <td>5</td>\n",
              "      <td>PRODUCTS OF ANIMAL ORIGIN, NOT ELSEWHERE SPECI...</td>\n",
              "      <td>0.0</td>\n",
              "      <td>AFGHANISTAN TIS</td>\n",
              "      <td>2018</td>\n",
              "    </tr>\n",
              "    <tr>\n",
              "      <th>9</th>\n",
              "      <td>27</td>\n",
              "      <td>MINERAL FUELS, MINERAL OILS AND PRODUCTS OF TH...</td>\n",
              "      <td>0.0</td>\n",
              "      <td>AFGHANISTAN TIS</td>\n",
              "      <td>2018</td>\n",
              "    </tr>\n",
              "    <tr>\n",
              "      <th>11</th>\n",
              "      <td>41</td>\n",
              "      <td>RAW HIDES AND SKINS (OTHER THAN FURSKINS) AND ...</td>\n",
              "      <td>0.0</td>\n",
              "      <td>AFGHANISTAN TIS</td>\n",
              "      <td>2018</td>\n",
              "    </tr>\n",
              "    <tr>\n",
              "      <th>20</th>\n",
              "      <td>81</td>\n",
              "      <td>OTHER BASE METALS; CERMETS; ARTICLES THEREOF.</td>\n",
              "      <td>0.0</td>\n",
              "      <td>AFGHANISTAN TIS</td>\n",
              "      <td>2018</td>\n",
              "    </tr>\n",
              "    <tr>\n",
              "      <th>22</th>\n",
              "      <td>84</td>\n",
              "      <td>NUCLEAR REACTORS, BOILERS, MACHINERY AND MECHA...</td>\n",
              "      <td>0.0</td>\n",
              "      <td>AFGHANISTAN TIS</td>\n",
              "      <td>2018</td>\n",
              "    </tr>\n",
              "  </tbody>\n",
              "</table>\n",
              "</div>"
            ],
            "text/plain": [
              "    HSCode  ...  year\n",
              "0        5  ...  2018\n",
              "9       27  ...  2018\n",
              "11      41  ...  2018\n",
              "20      81  ...  2018\n",
              "22      84  ...  2018\n",
              "\n",
              "[5 rows x 5 columns]"
            ]
          },
          "metadata": {
            "tags": []
          },
          "execution_count": 23
        }
      ]
    },
    {
      "cell_type": "markdown",
      "metadata": {
        "id": "iKQp4hTNvSup",
        "colab_type": "text"
      },
      "source": [
        "#### Country Name can't be unknown for any transaction"
      ]
    },
    {
      "cell_type": "code",
      "metadata": {
        "id": "50E31l-XrXnX",
        "colab_type": "code",
        "colab": {
          "base_uri": "https://localhost:8080/",
          "height": 204
        },
        "outputId": "b512f4f9-a296-4135-9e67-7a85ae485c09"
      },
      "source": [
        "data_import[data_import.country == \"UNSPECIFIED\"].head(5)"
      ],
      "execution_count": 24,
      "outputs": [
        {
          "output_type": "execute_result",
          "data": {
            "text/html": [
              "<div>\n",
              "<style scoped>\n",
              "    .dataframe tbody tr th:only-of-type {\n",
              "        vertical-align: middle;\n",
              "    }\n",
              "\n",
              "    .dataframe tbody tr th {\n",
              "        vertical-align: top;\n",
              "    }\n",
              "\n",
              "    .dataframe thead th {\n",
              "        text-align: right;\n",
              "    }\n",
              "</style>\n",
              "<table border=\"1\" class=\"dataframe\">\n",
              "  <thead>\n",
              "    <tr style=\"text-align: right;\">\n",
              "      <th></th>\n",
              "      <th>HSCode</th>\n",
              "      <th>Commodity</th>\n",
              "      <th>value</th>\n",
              "      <th>country</th>\n",
              "      <th>year</th>\n",
              "    </tr>\n",
              "  </thead>\n",
              "  <tbody>\n",
              "    <tr>\n",
              "      <th>8263</th>\n",
              "      <td>1</td>\n",
              "      <td>LIVE ANIMALS.</td>\n",
              "      <td>NaN</td>\n",
              "      <td>UNSPECIFIED</td>\n",
              "      <td>2018</td>\n",
              "    </tr>\n",
              "    <tr>\n",
              "      <th>8264</th>\n",
              "      <td>2</td>\n",
              "      <td>MEAT AND EDIBLE MEAT OFFAL.</td>\n",
              "      <td>NaN</td>\n",
              "      <td>UNSPECIFIED</td>\n",
              "      <td>2018</td>\n",
              "    </tr>\n",
              "    <tr>\n",
              "      <th>8265</th>\n",
              "      <td>3</td>\n",
              "      <td>FISH AND CRUSTACEANS, MOLLUSCS AND OTHER AQUAT...</td>\n",
              "      <td>3.1</td>\n",
              "      <td>UNSPECIFIED</td>\n",
              "      <td>2018</td>\n",
              "    </tr>\n",
              "    <tr>\n",
              "      <th>8266</th>\n",
              "      <td>4</td>\n",
              "      <td>DAIRY PRODUCE; BIRDS' EGGS; NATURAL HONEY; EDI...</td>\n",
              "      <td>0.1</td>\n",
              "      <td>UNSPECIFIED</td>\n",
              "      <td>2018</td>\n",
              "    </tr>\n",
              "    <tr>\n",
              "      <th>8267</th>\n",
              "      <td>5</td>\n",
              "      <td>PRODUCTS OF ANIMAL ORIGIN, NOT ELSEWHERE SPECI...</td>\n",
              "      <td>NaN</td>\n",
              "      <td>UNSPECIFIED</td>\n",
              "      <td>2018</td>\n",
              "    </tr>\n",
              "  </tbody>\n",
              "</table>\n",
              "</div>"
            ],
            "text/plain": [
              "      HSCode  ...  year\n",
              "8263       1  ...  2018\n",
              "8264       2  ...  2018\n",
              "8265       3  ...  2018\n",
              "8266       4  ...  2018\n",
              "8267       5  ...  2018\n",
              "\n",
              "[5 rows x 5 columns]"
            ]
          },
          "metadata": {
            "tags": []
          },
          "execution_count": 24
        }
      ]
    },
    {
      "cell_type": "code",
      "metadata": {
        "id": "97BDyK3drXll",
        "colab_type": "code",
        "colab": {
          "base_uri": "https://localhost:8080/",
          "height": 51
        },
        "outputId": "5746b92f-06d1-4951-badc-ebf00536c039"
      },
      "source": [
        "print(\"Duplicate imports : \"+str(data_import.duplicated().sum()))\n",
        "print(\"Duplicate exports : \"+str(data_export.duplicated().sum()))"
      ],
      "execution_count": 25,
      "outputs": [
        {
          "output_type": "stream",
          "text": [
            "Duplicate imports : 18002\n",
            "Duplicate exports : 0\n"
          ],
          "name": "stdout"
        }
      ]
    },
    {
      "cell_type": "markdown",
      "metadata": {
        "id": "eQxW62kUvlor",
        "colab_type": "text"
      },
      "source": [
        "#### From the Above data check we find out columns to cleanup.\n",
        "\n",
        "> Value column has Null values.   \n",
        "> Value Column has zero value.     \n",
        "> Country column has unspecified value.     \n",
        "> Duplicate imports rows"
      ]
    },
    {
      "cell_type": "code",
      "metadata": {
        "id": "FoKi625ErXkA",
        "colab_type": "code",
        "colab": {}
      },
      "source": [
        "def cleanup(data_df):\n",
        "    #setting country UNSPECIFIED to nan\n",
        "    data_df['country']= data_df['country'].apply(lambda x : np.NaN if x == \"UNSPECIFIED\" else x)\n",
        "    \n",
        "    #ignoring where import value is 0 . \n",
        "    data_df = data_df[data_df.value!=0]\n",
        "    \n",
        "    data_df.dropna(inplace=True)\n",
        "    data_df.year = pd.Categorical(data_df.year)\n",
        "    data_df.drop_duplicates(keep=\"first\",inplace=True)\n",
        "    return data_df"
      ],
      "execution_count": 0,
      "outputs": []
    },
    {
      "cell_type": "code",
      "metadata": {
        "id": "gpYABRLmrXhr",
        "colab_type": "code",
        "colab": {}
      },
      "source": [
        "data_import = cleanup(data_import)\n",
        "data_export = cleanup(data_export)"
      ],
      "execution_count": 0,
      "outputs": []
    },
    {
      "cell_type": "code",
      "metadata": {
        "id": "iQ5tHgxorXfA",
        "colab_type": "code",
        "colab": {
          "base_uri": "https://localhost:8080/",
          "height": 187
        },
        "outputId": "06143bf3-29a9-4538-e3ba-1317259ad18a"
      },
      "source": [
        "data_import.info()"
      ],
      "execution_count": 28,
      "outputs": [
        {
          "output_type": "stream",
          "text": [
            "<class 'pandas.core.frame.DataFrame'>\n",
            "Int64Index: 54554 entries, 1 to 93090\n",
            "Data columns (total 5 columns):\n",
            "HSCode       54554 non-null int64\n",
            "Commodity    54554 non-null object\n",
            "value        54554 non-null float64\n",
            "country      54554 non-null object\n",
            "year         54554 non-null category\n",
            "dtypes: category(1), float64(1), int64(1), object(2)\n",
            "memory usage: 2.1+ MB\n"
          ],
          "name": "stdout"
        }
      ]
    },
    {
      "cell_type": "markdown",
      "metadata": {
        "id": "jI3MpUOoyNCw",
        "colab_type": "text"
      },
      "source": [
        "## Commodity Analysis\n",
        ">  Commodity Import Count"
      ]
    },
    {
      "cell_type": "code",
      "metadata": {
        "id": "3dBo4VYVrXZO",
        "colab_type": "code",
        "colab": {
          "base_uri": "https://localhost:8080/",
          "height": 51
        },
        "outputId": "a3e5ecba-aef8-481f-9321-9bd8d3e18a66"
      },
      "source": [
        "print(\"Import Commodity Count : \"+str(len(data_import['Commodity'].unique())))\n",
        "print(\"Export Commodity Count : \"+str(len(data_export['Commodity'].unique())))"
      ],
      "execution_count": 29,
      "outputs": [
        {
          "output_type": "stream",
          "text": [
            "Import Commodity Count : 98\n",
            "Export Commodity Count : 98\n"
          ],
          "name": "stdout"
        }
      ]
    },
    {
      "cell_type": "markdown",
      "metadata": {
        "id": "6D5DjF9R1aiN",
        "colab_type": "text"
      },
      "source": [
        "Here find out that HSCode77 is missing.\n",
        "\n",
        "HSCode 77 is actually reserved for Possible Future Use.\n",
        "\n",
        ">     ...........\n",
        ">     ...........\n",
        ">     ...........\n",
        ">     ...........\n",
        "\n",
        "Let's do something for 'Commodity'!\n",
        "\n",
        "Commodity count based on different import (country/year) Lets count the most popular import Commodity . popular just as no of transactions(country/year) are more for this category."
      ]
    },
    {
      "cell_type": "code",
      "metadata": {
        "id": "4-I6iklPrXNc",
        "colab_type": "code",
        "colab": {
          "base_uri": "https://localhost:8080/",
          "height": 686
        },
        "outputId": "0160f905-4824-4df4-f90c-a53a90080c86"
      },
      "source": [
        "df = pd.DataFrame(data_import['Commodity'].value_counts())\n",
        "df.head(20)    #Top 20 'commodity' items which are going to be impoort in the country"
      ],
      "execution_count": 30,
      "outputs": [
        {
          "output_type": "execute_result",
          "data": {
            "text/html": [
              "<div>\n",
              "<style scoped>\n",
              "    .dataframe tbody tr th:only-of-type {\n",
              "        vertical-align: middle;\n",
              "    }\n",
              "\n",
              "    .dataframe tbody tr th {\n",
              "        vertical-align: top;\n",
              "    }\n",
              "\n",
              "    .dataframe thead th {\n",
              "        text-align: right;\n",
              "    }\n",
              "</style>\n",
              "<table border=\"1\" class=\"dataframe\">\n",
              "  <thead>\n",
              "    <tr style=\"text-align: right;\">\n",
              "      <th></th>\n",
              "      <th>Commodity</th>\n",
              "    </tr>\n",
              "  </thead>\n",
              "  <tbody>\n",
              "    <tr>\n",
              "      <th>ELECTRICAL MACHINERY AND EQUIPMENT AND PARTS THEREOF; SOUND RECORDERS AND REPRODUCERS, TELEVISION IMAGE AND SOUND RECORDERS AND REPRODUCERS,AND PARTS.</th>\n",
              "      <td>1378</td>\n",
              "    </tr>\n",
              "    <tr>\n",
              "      <th>IRON AND STEEL</th>\n",
              "      <td>1333</td>\n",
              "    </tr>\n",
              "    <tr>\n",
              "      <th>NUCLEAR REACTORS, BOILERS, MACHINERY AND MECHANICAL APPLIANCES; PARTS THEREOF.</th>\n",
              "      <td>1314</td>\n",
              "    </tr>\n",
              "    <tr>\n",
              "      <th>ALUMINIUM AND ARTICLES THEREOF.</th>\n",
              "      <td>1217</td>\n",
              "    </tr>\n",
              "    <tr>\n",
              "      <th>PLASTIC AND ARTICLES THEREOF.</th>\n",
              "      <td>1112</td>\n",
              "    </tr>\n",
              "    <tr>\n",
              "      <th>COPPER AND ARTICLES THEREOF.</th>\n",
              "      <td>1058</td>\n",
              "    </tr>\n",
              "    <tr>\n",
              "      <th>OPTICAL, PHOTOGRAPHIC CINEMATOGRAPHIC MEASURING, CHECKING PRECISION, MEDICAL OR SURGICAL INST. AND APPARATUS PARTS AND ACCESSORIES THEREOF;</th>\n",
              "      <td>1009</td>\n",
              "    </tr>\n",
              "    <tr>\n",
              "      <th>WOOD AND ARTICLES OF WOOD; WOOD CHARCOAL.</th>\n",
              "      <td>983</td>\n",
              "    </tr>\n",
              "    <tr>\n",
              "      <th>RAW HIDES AND SKINS (OTHER THAN FURSKINS) AND LEATHER</th>\n",
              "      <td>983</td>\n",
              "    </tr>\n",
              "    <tr>\n",
              "      <th>MINERAL FUELS, MINERAL OILS AND PRODUCTS OF THEIR DISTILLATION; BITUMINOUS SUBSTANCES; MINERAL WAXES.</th>\n",
              "      <td>900</td>\n",
              "    </tr>\n",
              "    <tr>\n",
              "      <th>NATURAL OR CULTURED PEARLS,PRECIOUS OR SEMIPRECIOUS STONES,PRE.METALS,CLAD WITH PRE.METAL AND ARTCLS THEREOF;IMIT.JEWLRY;COIN.</th>\n",
              "      <td>897</td>\n",
              "    </tr>\n",
              "    <tr>\n",
              "      <th>ORGANIC CHEMICALS</th>\n",
              "      <td>877</td>\n",
              "    </tr>\n",
              "    <tr>\n",
              "      <th>ARTICLES OF IRON OR STEEL</th>\n",
              "      <td>872</td>\n",
              "    </tr>\n",
              "    <tr>\n",
              "      <th>PULP OF WOOD OR OF OTHER FIBROUS CELLULOSIC MATERIAL; WASTE AND SCRAP OF PAPER OR PAPERBOARD.</th>\n",
              "      <td>839</td>\n",
              "    </tr>\n",
              "    <tr>\n",
              "      <th>INORGANIC CHEMICALS; ORGANIC OR INORGANIC COMPOUNDS OF PRECIOUS METALS, OF RARE-EARTH METALS, OR RADI. ELEM. OR OF ISOTOPES.</th>\n",
              "      <td>836</td>\n",
              "    </tr>\n",
              "    <tr>\n",
              "      <th>SALT; SULPHUR; EARTHS AND STONE; PLASTERING MATERIALS, LIME AND CEMENT.</th>\n",
              "      <td>833</td>\n",
              "    </tr>\n",
              "    <tr>\n",
              "      <th>RUBBER AND ARTICLES THEREOF.</th>\n",
              "      <td>832</td>\n",
              "    </tr>\n",
              "    <tr>\n",
              "      <th>LEAD AND ARTICLES THEREOF.</th>\n",
              "      <td>829</td>\n",
              "    </tr>\n",
              "    <tr>\n",
              "      <th>ZINC AND ARTICLES THEREOF.</th>\n",
              "      <td>822</td>\n",
              "    </tr>\n",
              "    <tr>\n",
              "      <th>MISCELLANEOUS CHEMICAL PRODUCTS.</th>\n",
              "      <td>817</td>\n",
              "    </tr>\n",
              "  </tbody>\n",
              "</table>\n",
              "</div>"
            ],
            "text/plain": [
              "                                                    Commodity\n",
              "ELECTRICAL MACHINERY AND EQUIPMENT AND PARTS TH...       1378\n",
              "IRON AND STEEL                                           1333\n",
              "NUCLEAR REACTORS, BOILERS, MACHINERY AND MECHAN...       1314\n",
              "ALUMINIUM AND ARTICLES THEREOF.                          1217\n",
              "PLASTIC AND ARTICLES THEREOF.                            1112\n",
              "COPPER AND ARTICLES THEREOF.                             1058\n",
              "OPTICAL, PHOTOGRAPHIC CINEMATOGRAPHIC MEASURING...       1009\n",
              "WOOD AND ARTICLES OF WOOD; WOOD CHARCOAL.                 983\n",
              "RAW HIDES AND SKINS (OTHER THAN FURSKINS) AND L...        983\n",
              "MINERAL FUELS, MINERAL OILS AND PRODUCTS OF THE...        900\n",
              "NATURAL OR CULTURED PEARLS,PRECIOUS OR SEMIPREC...        897\n",
              "ORGANIC CHEMICALS                                         877\n",
              "ARTICLES OF IRON OR STEEL                                 872\n",
              "PULP OF WOOD OR OF OTHER FIBROUS CELLULOSIC MAT...        839\n",
              "INORGANIC CHEMICALS; ORGANIC OR INORGANIC COMPO...        836\n",
              "SALT; SULPHUR; EARTHS AND STONE; PLASTERING MAT...        833\n",
              "RUBBER AND ARTICLES THEREOF.                              832\n",
              "LEAD AND ARTICLES THEREOF.                                829\n",
              "ZINC AND ARTICLES THEREOF.                                822\n",
              "MISCELLANEOUS CHEMICAL PRODUCTS.                          817"
            ]
          },
          "metadata": {
            "tags": []
          },
          "execution_count": 30
        }
      ]
    },
    {
      "cell_type": "code",
      "metadata": {
        "id": "YM8mYW8frXL1",
        "colab_type": "code",
        "colab": {
          "base_uri": "https://localhost:8080/",
          "height": 51
        },
        "outputId": "a2830d7c-c465-46e7-d9e8-61069779e7e6"
      },
      "source": [
        "print(\"No of Country were we are importing Comodities are \"+str(len(data_import['country'].unique())))\n",
        "print(\"No of Country were we are Exporting Comodities are \"+str(len(data_export['country'].unique())))"
      ],
      "execution_count": 31,
      "outputs": [
        {
          "output_type": "stream",
          "text": [
            "No of Country were we are importing Comodities are 240\n",
            "No of Country were we are Exporting Comodities are 246\n"
          ],
          "name": "stdout"
        }
      ]
    },
    {
      "cell_type": "markdown",
      "metadata": {
        "id": "G1ioaJdv3BfS",
        "colab_type": "text"
      },
      "source": [
        "So India is doing Trade with around 246 Countries.\n",
        "\n",
        "According http://www.world-country.com/ there are 247 countries and territories . 192 are only recognised by United Nation.\n",
        "\n",
        "We cannot ignored the possibilty that data can be in short form or same country represented multiple time different way."
      ]
    },
    {
      "cell_type": "markdown",
      "metadata": {
        "id": "t-SmCjUX3Uco",
        "colab_type": "text"
      },
      "source": [
        "###Import And Export Year Wise"
      ]
    },
    {
      "cell_type": "code",
      "metadata": {
        "id": "7Rkr_uFt2r1n",
        "colab_type": "code",
        "colab": {
          "base_uri": "https://localhost:8080/",
          "height": 252
        },
        "outputId": "eafc78cc-3363-43e7-fad6-0e5596f21914"
      },
      "source": [
        "#Import values \n",
        "df3 = data_import.groupby('year').agg({'value':'sum'})   # Sum up all the values/ prices of same year\n",
        "print(df3.shape)\n",
        "df3.head()\n"
      ],
      "execution_count": 81,
      "outputs": [
        {
          "output_type": "stream",
          "text": [
            "(9, 1)\n"
          ],
          "name": "stdout"
        },
        {
          "output_type": "execute_result",
          "data": {
            "text/html": [
              "<div>\n",
              "<style scoped>\n",
              "    .dataframe tbody tr th:only-of-type {\n",
              "        vertical-align: middle;\n",
              "    }\n",
              "\n",
              "    .dataframe tbody tr th {\n",
              "        vertical-align: top;\n",
              "    }\n",
              "\n",
              "    .dataframe thead th {\n",
              "        text-align: right;\n",
              "    }\n",
              "</style>\n",
              "<table border=\"1\" class=\"dataframe\">\n",
              "  <thead>\n",
              "    <tr style=\"text-align: right;\">\n",
              "      <th></th>\n",
              "      <th>value</th>\n",
              "    </tr>\n",
              "    <tr>\n",
              "      <th>year</th>\n",
              "      <th></th>\n",
              "    </tr>\n",
              "  </thead>\n",
              "  <tbody>\n",
              "    <tr>\n",
              "      <th>2010</th>\n",
              "      <td>365444.94</td>\n",
              "    </tr>\n",
              "    <tr>\n",
              "      <th>2011</th>\n",
              "      <td>488272.63</td>\n",
              "    </tr>\n",
              "    <tr>\n",
              "      <th>2012</th>\n",
              "      <td>488805.22</td>\n",
              "    </tr>\n",
              "    <tr>\n",
              "      <th>2013</th>\n",
              "      <td>446095.99</td>\n",
              "    </tr>\n",
              "    <tr>\n",
              "      <th>2014</th>\n",
              "      <td>440463.87</td>\n",
              "    </tr>\n",
              "  </tbody>\n",
              "</table>\n",
              "</div>"
            ],
            "text/plain": [
              "          value\n",
              "year           \n",
              "2010  365444.94\n",
              "2011  488272.63\n",
              "2012  488805.22\n",
              "2013  446095.99\n",
              "2014  440463.87"
            ]
          },
          "metadata": {
            "tags": []
          },
          "execution_count": 81
        }
      ]
    },
    {
      "cell_type": "code",
      "metadata": {
        "id": "Awi1JCcL3c0n",
        "colab_type": "code",
        "colab": {}
      },
      "source": [
        "#Export values\n",
        "df4 = data_export.groupby('year').agg({'value':'sum'})"
      ],
      "execution_count": 0,
      "outputs": []
    },
    {
      "cell_type": "code",
      "metadata": {
        "id": "380y7w_W2rAy",
        "colab_type": "code",
        "colab": {
          "base_uri": "https://localhost:8080/",
          "height": 359
        },
        "outputId": "6db45c79-5596-49f6-e18b-5dabf1ff93f9"
      },
      "source": [
        "df3['deficit'] = df4.value - df3.value\n",
        "df3     #Export is less and import is high"
      ],
      "execution_count": 83,
      "outputs": [
        {
          "output_type": "execute_result",
          "data": {
            "text/html": [
              "<div>\n",
              "<style scoped>\n",
              "    .dataframe tbody tr th:only-of-type {\n",
              "        vertical-align: middle;\n",
              "    }\n",
              "\n",
              "    .dataframe tbody tr th {\n",
              "        vertical-align: top;\n",
              "    }\n",
              "\n",
              "    .dataframe thead th {\n",
              "        text-align: right;\n",
              "    }\n",
              "</style>\n",
              "<table border=\"1\" class=\"dataframe\">\n",
              "  <thead>\n",
              "    <tr style=\"text-align: right;\">\n",
              "      <th></th>\n",
              "      <th>value</th>\n",
              "      <th>deficit</th>\n",
              "    </tr>\n",
              "    <tr>\n",
              "      <th>year</th>\n",
              "      <th></th>\n",
              "      <th></th>\n",
              "    </tr>\n",
              "  </thead>\n",
              "  <tbody>\n",
              "    <tr>\n",
              "      <th>2010</th>\n",
              "      <td>365444.94</td>\n",
              "      <td>-130033.93</td>\n",
              "    </tr>\n",
              "    <tr>\n",
              "      <th>2011</th>\n",
              "      <td>488272.63</td>\n",
              "      <td>-198761.05</td>\n",
              "    </tr>\n",
              "    <tr>\n",
              "      <th>2012</th>\n",
              "      <td>488805.22</td>\n",
              "      <td>-193858.35</td>\n",
              "    </tr>\n",
              "    <tr>\n",
              "      <th>2013</th>\n",
              "      <td>446095.99</td>\n",
              "      <td>-143251.86</td>\n",
              "    </tr>\n",
              "    <tr>\n",
              "      <th>2014</th>\n",
              "      <td>440463.87</td>\n",
              "      <td>-134304.07</td>\n",
              "    </tr>\n",
              "    <tr>\n",
              "      <th>2015</th>\n",
              "      <td>372291.40</td>\n",
              "      <td>-112499.98</td>\n",
              "    </tr>\n",
              "    <tr>\n",
              "      <th>2016</th>\n",
              "      <td>377006.72</td>\n",
              "      <td>-103641.56</td>\n",
              "    </tr>\n",
              "    <tr>\n",
              "      <th>2017</th>\n",
              "      <td>456379.59</td>\n",
              "      <td>-155301.41</td>\n",
              "    </tr>\n",
              "    <tr>\n",
              "      <th>2018</th>\n",
              "      <td>513981.62</td>\n",
              "      <td>-186830.19</td>\n",
              "    </tr>\n",
              "  </tbody>\n",
              "</table>\n",
              "</div>"
            ],
            "text/plain": [
              "          value    deficit\n",
              "year                      \n",
              "2010  365444.94 -130033.93\n",
              "2011  488272.63 -198761.05\n",
              "2012  488805.22 -193858.35\n",
              "2013  446095.99 -143251.86\n",
              "2014  440463.87 -134304.07\n",
              "2015  372291.40 -112499.98\n",
              "2016  377006.72 -103641.56\n",
              "2017  456379.59 -155301.41\n",
              "2018  513981.62 -186830.19"
            ]
          },
          "metadata": {
            "tags": []
          },
          "execution_count": 83
        }
      ]
    },
    {
      "cell_type": "code",
      "metadata": {
        "id": "IQ0nf_Kp2umc",
        "colab_type": "code",
        "colab": {}
      },
      "source": [
        "# create trace1  for the total importing values per year\n",
        "trace1 = go.Bar(\n",
        "                x = df3.index,\n",
        "                y = df3.value,\n",
        "                name = \"Import\",\n",
        "                marker = dict(color = 'rgba(0,191,255, 1)',\n",
        "                             line=dict(color='rgb(0,0,0)',width=1.5)),\n",
        "                text = df3.value)\n",
        "\n",
        "\n",
        "\n",
        "# create trace2 for the total exporting valeues per year  \n",
        "trace2 = go.Bar(\n",
        "                x = df4.index,\n",
        "                y = df4.value,\n",
        "                name = \"Export\",\n",
        "                marker = dict(color = 'rgba(1, 255, 130, 1)',\n",
        "                              line=dict(color='rgb(0,0,0)',width=1.5)),\n",
        "                text = df4.value)\n",
        "\n",
        "\n",
        "\n",
        "# Deficit per year \n",
        "trace3 = go.Bar(\n",
        "                x = df3.index,\n",
        "                y = df3.deficit,\n",
        "                name = \"Trade Deficit\",\n",
        "                marker = dict(color = 'rgba(220, 20, 60, 1)',\n",
        "                              line=dict(color='rgb(0,0,0)',width=1.5)),\n",
        "                text = df3.deficit)\n",
        "\n",
        "\n",
        "data = [trace1, trace2, trace3]\n"
      ],
      "execution_count": 0,
      "outputs": []
    },
    {
      "cell_type": "code",
      "metadata": {
        "id": "X6bf-aVR4p8y",
        "colab_type": "code",
        "colab": {
          "base_uri": "https://localhost:8080/",
          "height": 510
        },
        "outputId": "a938ee20-e902-408e-f584-327257e6fa42"
      },
      "source": [
        "data"
      ],
      "execution_count": 36,
      "outputs": [
        {
          "output_type": "execute_result",
          "data": {
            "text/plain": [
              "[Bar({\n",
              "     'marker': {'color': 'rgba(0,191,255, 1)', 'line': {'color': 'rgb(0,0,0)', 'width': 1.5}},\n",
              "     'name': 'Import',\n",
              "     'text': array([365444.94      , 488272.63000001, 488805.22      , 446095.99      ,\n",
              "                    440463.87      , 372291.4       , 377006.72      , 456379.59000001,\n",
              "                    513981.62000001]),\n",
              "     'x': array([2010, 2011, 2012, 2013, 2014, 2015, 2016, 2017, 2018]),\n",
              "     'y': array([365444.94      , 488272.63000001, 488805.22      , 446095.99      ,\n",
              "                 440463.87      , 372291.4       , 377006.72      , 456379.59000001,\n",
              "                 513981.62000001])\n",
              " }), Bar({\n",
              "     'marker': {'color': 'rgba(1, 255, 130, 1)', 'line': {'color': 'rgb(0,0,0)', 'width': 1.5}},\n",
              "     'name': 'Export',\n",
              "     'text': array([235411.01, 289511.58, 294946.87, 302844.13, 306159.8 , 259791.42,\n",
              "                    273365.16, 301078.18, 327151.43]),\n",
              "     'x': array([2010, 2011, 2012, 2013, 2014, 2015, 2016, 2017, 2018]),\n",
              "     'y': array([235411.01, 289511.58, 294946.87, 302844.13, 306159.8 , 259791.42,\n",
              "                 273365.16, 301078.18, 327151.43])\n",
              " }), Bar({\n",
              "     'marker': {'color': 'rgba(220, 20, 60, 1)', 'line': {'color': 'rgb(0,0,0)', 'width': 1.5}},\n",
              "     'name': 'Trade Deficit',\n",
              "     'text': array([-130033.93      , -198761.05      , -193858.35      , -143251.86      ,\n",
              "                    -134304.07      , -112499.98      , -103641.56      , -155301.41000001,\n",
              "                    -186830.19000001]),\n",
              "     'x': array([2010, 2011, 2012, 2013, 2014, 2015, 2016, 2017, 2018]),\n",
              "     'y': array([-130033.93      , -198761.05      , -193858.35      , -143251.86      ,\n",
              "                 -134304.07      , -112499.98      , -103641.56      , -155301.41000001,\n",
              "                 -186830.19000001])\n",
              " })]"
            ]
          },
          "metadata": {
            "tags": []
          },
          "execution_count": 36
        }
      ]
    },
    {
      "cell_type": "code",
      "metadata": {
        "id": "cNt8OGOu2pwk",
        "colab_type": "code",
        "colab": {
          "base_uri": "https://localhost:8080/",
          "height": 542
        },
        "outputId": "8e8f85d0-7519-453a-f8b5-604c4d49a704"
      },
      "source": [
        "layout = go.Layout(barmode = \"group\")\n",
        "\n",
        "fig = go.Figure(data = data, layout = layout)\n",
        "\n",
        "fig.update_layout(\n",
        "    title=go.layout.Title(\n",
        "        text=\"Yearwise Import/Export/Trade deficit\",\n",
        "        xref=\"paper\",\n",
        "        x=0\n",
        "    ),\n",
        "    xaxis=go.layout.XAxis(\n",
        "        title=go.layout.xaxis.Title(\n",
        "            text=\"Year\",\n",
        "            font=dict(\n",
        "                family=\"Courier New, monospace\",\n",
        "                size=18,\n",
        "                color=\"#7f7f7f\"\n",
        "            )\n",
        "        )\n",
        "    ),\n",
        "    yaxis=go.layout.YAxis(\n",
        "        title=go.layout.yaxis.Title(\n",
        "            text=\"Value\",\n",
        "            font=dict(\n",
        "                family=\"Courier New, monospace\",\n",
        "                size=18,\n",
        "                color=\"#7f7f7f\"\n",
        "            )\n",
        "        )\n",
        "    )\n",
        ")\n",
        "\n",
        "\n",
        "\n",
        "\n",
        "fig.show()"
      ],
      "execution_count": 37,
      "outputs": [
        {
          "output_type": "display_data",
          "data": {
            "text/html": [
              "<html>\n",
              "<head><meta charset=\"utf-8\" /></head>\n",
              "<body>\n",
              "    <div>\n",
              "            <script src=\"https://cdnjs.cloudflare.com/ajax/libs/mathjax/2.7.5/MathJax.js?config=TeX-AMS-MML_SVG\"></script><script type=\"text/javascript\">if (window.MathJax) {MathJax.Hub.Config({SVG: {font: \"STIX-Web\"}});}</script>\n",
              "                <script type=\"text/javascript\">window.PlotlyConfig = {MathJaxConfig: 'local'};</script>\n",
              "        <script src=\"https://cdn.plot.ly/plotly-latest.min.js\"></script>    \n",
              "            <div id=\"95fbb4c8-6329-4e7c-aacb-16eb0dc2931e\" class=\"plotly-graph-div\" style=\"height:525px; width:100%;\"></div>\n",
              "            <script type=\"text/javascript\">\n",
              "                \n",
              "                    window.PLOTLYENV=window.PLOTLYENV || {};\n",
              "                    \n",
              "                if (document.getElementById(\"95fbb4c8-6329-4e7c-aacb-16eb0dc2931e\")) {\n",
              "                    Plotly.newPlot(\n",
              "                        '95fbb4c8-6329-4e7c-aacb-16eb0dc2931e',\n",
              "                        [{\"marker\": {\"color\": \"rgba(0,191,255, 1)\", \"line\": {\"color\": \"rgb(0,0,0)\", \"width\": 1.5}}, \"name\": \"Import\", \"text\": [365444.9400000018, 488272.6300000056, 488805.22000000486, 446095.9900000038, 440463.87000000424, 372291.4000000033, 377006.7200000014, 456379.5900000059, 513981.6200000071], \"type\": \"bar\", \"x\": [2010, 2011, 2012, 2013, 2014, 2015, 2016, 2017, 2018], \"y\": [365444.9400000018, 488272.6300000056, 488805.22000000486, 446095.9900000038, 440463.87000000424, 372291.4000000033, 377006.7200000014, 456379.5900000059, 513981.6200000071]}, {\"marker\": {\"color\": \"rgba(1, 255, 130, 1)\", \"line\": {\"color\": \"rgb(0,0,0)\", \"width\": 1.5}}, \"name\": \"Export\", \"text\": [235411.00999999937, 289511.58000000205, 294946.8700000004, 302844.1300000008, 306159.8000000016, 259791.4199999999, 273365.15999999986, 301078.17999999993, 327151.4300000001], \"type\": \"bar\", \"x\": [2010, 2011, 2012, 2013, 2014, 2015, 2016, 2017, 2018], \"y\": [235411.00999999937, 289511.58000000205, 294946.8700000004, 302844.1300000008, 306159.8000000016, 259791.4199999999, 273365.15999999986, 301078.17999999993, 327151.4300000001]}, {\"marker\": {\"color\": \"rgba(220, 20, 60, 1)\", \"line\": {\"color\": \"rgb(0,0,0)\", \"width\": 1.5}}, \"name\": \"Trade Deficit\", \"text\": [-130033.93000000244, -198761.05000000354, -193858.35000000446, -143251.86000000295, -134304.07000000263, -112499.98000000339, -103641.56000000157, -155301.41000000597, -186830.190000007], \"type\": \"bar\", \"x\": [2010, 2011, 2012, 2013, 2014, 2015, 2016, 2017, 2018], \"y\": [-130033.93000000244, -198761.05000000354, -193858.35000000446, -143251.86000000295, -134304.07000000263, -112499.98000000339, -103641.56000000157, -155301.41000000597, -186830.190000007]}],\n",
              "                        {\"barmode\": \"group\", \"template\": {\"data\": {\"bar\": [{\"error_x\": {\"color\": \"#2a3f5f\"}, \"error_y\": {\"color\": \"#2a3f5f\"}, \"marker\": {\"line\": {\"color\": \"#E5ECF6\", \"width\": 0.5}}, \"type\": \"bar\"}], \"barpolar\": [{\"marker\": {\"line\": {\"color\": \"#E5ECF6\", \"width\": 0.5}}, \"type\": \"barpolar\"}], \"carpet\": [{\"aaxis\": {\"endlinecolor\": \"#2a3f5f\", \"gridcolor\": \"white\", \"linecolor\": \"white\", \"minorgridcolor\": \"white\", \"startlinecolor\": \"#2a3f5f\"}, \"baxis\": {\"endlinecolor\": \"#2a3f5f\", \"gridcolor\": \"white\", \"linecolor\": \"white\", \"minorgridcolor\": \"white\", \"startlinecolor\": \"#2a3f5f\"}, \"type\": \"carpet\"}], \"choropleth\": [{\"colorbar\": {\"outlinewidth\": 0, \"ticks\": \"\"}, \"type\": \"choropleth\"}], \"contour\": [{\"colorbar\": {\"outlinewidth\": 0, \"ticks\": \"\"}, \"colorscale\": [[0.0, \"#0d0887\"], [0.1111111111111111, \"#46039f\"], [0.2222222222222222, \"#7201a8\"], [0.3333333333333333, \"#9c179e\"], [0.4444444444444444, \"#bd3786\"], [0.5555555555555556, \"#d8576b\"], [0.6666666666666666, \"#ed7953\"], [0.7777777777777778, \"#fb9f3a\"], [0.8888888888888888, \"#fdca26\"], [1.0, \"#f0f921\"]], \"type\": \"contour\"}], \"contourcarpet\": [{\"colorbar\": {\"outlinewidth\": 0, \"ticks\": \"\"}, \"type\": \"contourcarpet\"}], \"heatmap\": [{\"colorbar\": {\"outlinewidth\": 0, \"ticks\": \"\"}, \"colorscale\": [[0.0, \"#0d0887\"], [0.1111111111111111, \"#46039f\"], [0.2222222222222222, \"#7201a8\"], [0.3333333333333333, \"#9c179e\"], [0.4444444444444444, \"#bd3786\"], [0.5555555555555556, \"#d8576b\"], [0.6666666666666666, \"#ed7953\"], [0.7777777777777778, \"#fb9f3a\"], [0.8888888888888888, \"#fdca26\"], [1.0, \"#f0f921\"]], \"type\": \"heatmap\"}], \"heatmapgl\": [{\"colorbar\": {\"outlinewidth\": 0, \"ticks\": \"\"}, \"colorscale\": [[0.0, \"#0d0887\"], [0.1111111111111111, \"#46039f\"], [0.2222222222222222, \"#7201a8\"], [0.3333333333333333, \"#9c179e\"], [0.4444444444444444, \"#bd3786\"], [0.5555555555555556, \"#d8576b\"], [0.6666666666666666, \"#ed7953\"], [0.7777777777777778, \"#fb9f3a\"], [0.8888888888888888, \"#fdca26\"], [1.0, \"#f0f921\"]], \"type\": \"heatmapgl\"}], \"histogram\": [{\"marker\": {\"colorbar\": {\"outlinewidth\": 0, \"ticks\": \"\"}}, \"type\": \"histogram\"}], \"histogram2d\": [{\"colorbar\": {\"outlinewidth\": 0, \"ticks\": \"\"}, \"colorscale\": [[0.0, \"#0d0887\"], [0.1111111111111111, \"#46039f\"], [0.2222222222222222, \"#7201a8\"], [0.3333333333333333, \"#9c179e\"], [0.4444444444444444, \"#bd3786\"], [0.5555555555555556, \"#d8576b\"], [0.6666666666666666, \"#ed7953\"], [0.7777777777777778, \"#fb9f3a\"], [0.8888888888888888, \"#fdca26\"], [1.0, \"#f0f921\"]], \"type\": \"histogram2d\"}], \"histogram2dcontour\": [{\"colorbar\": {\"outlinewidth\": 0, \"ticks\": \"\"}, \"colorscale\": [[0.0, \"#0d0887\"], [0.1111111111111111, \"#46039f\"], [0.2222222222222222, \"#7201a8\"], [0.3333333333333333, \"#9c179e\"], [0.4444444444444444, \"#bd3786\"], [0.5555555555555556, \"#d8576b\"], [0.6666666666666666, \"#ed7953\"], [0.7777777777777778, \"#fb9f3a\"], [0.8888888888888888, \"#fdca26\"], [1.0, \"#f0f921\"]], \"type\": \"histogram2dcontour\"}], \"mesh3d\": [{\"colorbar\": {\"outlinewidth\": 0, \"ticks\": \"\"}, \"type\": \"mesh3d\"}], \"parcoords\": [{\"line\": {\"colorbar\": {\"outlinewidth\": 0, \"ticks\": \"\"}}, \"type\": \"parcoords\"}], \"scatter\": [{\"marker\": {\"colorbar\": {\"outlinewidth\": 0, \"ticks\": \"\"}}, \"type\": \"scatter\"}], \"scatter3d\": [{\"line\": {\"colorbar\": {\"outlinewidth\": 0, \"ticks\": \"\"}}, \"marker\": {\"colorbar\": {\"outlinewidth\": 0, \"ticks\": \"\"}}, \"type\": \"scatter3d\"}], \"scattercarpet\": [{\"marker\": {\"colorbar\": {\"outlinewidth\": 0, \"ticks\": \"\"}}, \"type\": \"scattercarpet\"}], \"scattergeo\": [{\"marker\": {\"colorbar\": {\"outlinewidth\": 0, \"ticks\": \"\"}}, \"type\": \"scattergeo\"}], \"scattergl\": [{\"marker\": {\"colorbar\": {\"outlinewidth\": 0, \"ticks\": \"\"}}, \"type\": \"scattergl\"}], \"scattermapbox\": [{\"marker\": {\"colorbar\": {\"outlinewidth\": 0, \"ticks\": \"\"}}, \"type\": \"scattermapbox\"}], \"scatterpolar\": [{\"marker\": {\"colorbar\": {\"outlinewidth\": 0, \"ticks\": \"\"}}, \"type\": \"scatterpolar\"}], \"scatterpolargl\": [{\"marker\": {\"colorbar\": {\"outlinewidth\": 0, \"ticks\": \"\"}}, \"type\": \"scatterpolargl\"}], \"scatterternary\": [{\"marker\": {\"colorbar\": {\"outlinewidth\": 0, \"ticks\": \"\"}}, \"type\": \"scatterternary\"}], \"surface\": [{\"colorbar\": {\"outlinewidth\": 0, \"ticks\": \"\"}, \"colorscale\": [[0.0, \"#0d0887\"], [0.1111111111111111, \"#46039f\"], [0.2222222222222222, \"#7201a8\"], [0.3333333333333333, \"#9c179e\"], [0.4444444444444444, \"#bd3786\"], [0.5555555555555556, \"#d8576b\"], [0.6666666666666666, \"#ed7953\"], [0.7777777777777778, \"#fb9f3a\"], [0.8888888888888888, \"#fdca26\"], [1.0, \"#f0f921\"]], \"type\": \"surface\"}], \"table\": [{\"cells\": {\"fill\": {\"color\": \"#EBF0F8\"}, \"line\": {\"color\": \"white\"}}, \"header\": {\"fill\": {\"color\": \"#C8D4E3\"}, \"line\": {\"color\": \"white\"}}, \"type\": \"table\"}]}, \"layout\": {\"annotationdefaults\": {\"arrowcolor\": \"#2a3f5f\", \"arrowhead\": 0, \"arrowwidth\": 1}, \"colorscale\": {\"diverging\": [[0, \"#8e0152\"], [0.1, \"#c51b7d\"], [0.2, \"#de77ae\"], [0.3, \"#f1b6da\"], [0.4, \"#fde0ef\"], [0.5, \"#f7f7f7\"], [0.6, \"#e6f5d0\"], [0.7, \"#b8e186\"], [0.8, \"#7fbc41\"], [0.9, \"#4d9221\"], [1, \"#276419\"]], \"sequential\": [[0.0, \"#0d0887\"], [0.1111111111111111, \"#46039f\"], [0.2222222222222222, \"#7201a8\"], [0.3333333333333333, \"#9c179e\"], [0.4444444444444444, \"#bd3786\"], [0.5555555555555556, \"#d8576b\"], [0.6666666666666666, \"#ed7953\"], [0.7777777777777778, \"#fb9f3a\"], [0.8888888888888888, \"#fdca26\"], [1.0, \"#f0f921\"]], \"sequentialminus\": [[0.0, \"#0d0887\"], [0.1111111111111111, \"#46039f\"], [0.2222222222222222, \"#7201a8\"], [0.3333333333333333, \"#9c179e\"], [0.4444444444444444, \"#bd3786\"], [0.5555555555555556, \"#d8576b\"], [0.6666666666666666, \"#ed7953\"], [0.7777777777777778, \"#fb9f3a\"], [0.8888888888888888, \"#fdca26\"], [1.0, \"#f0f921\"]]}, \"colorway\": [\"#636efa\", \"#EF553B\", \"#00cc96\", \"#ab63fa\", \"#FFA15A\", \"#19d3f3\", \"#FF6692\", \"#B6E880\", \"#FF97FF\", \"#FECB52\"], \"font\": {\"color\": \"#2a3f5f\"}, \"geo\": {\"bgcolor\": \"white\", \"lakecolor\": \"white\", \"landcolor\": \"#E5ECF6\", \"showlakes\": true, \"showland\": true, \"subunitcolor\": \"white\"}, \"hoverlabel\": {\"align\": \"left\"}, \"hovermode\": \"closest\", \"mapbox\": {\"style\": \"light\"}, \"paper_bgcolor\": \"white\", \"plot_bgcolor\": \"#E5ECF6\", \"polar\": {\"angularaxis\": {\"gridcolor\": \"white\", \"linecolor\": \"white\", \"ticks\": \"\"}, \"bgcolor\": \"#E5ECF6\", \"radialaxis\": {\"gridcolor\": \"white\", \"linecolor\": \"white\", \"ticks\": \"\"}}, \"scene\": {\"xaxis\": {\"backgroundcolor\": \"#E5ECF6\", \"gridcolor\": \"white\", \"gridwidth\": 2, \"linecolor\": \"white\", \"showbackground\": true, \"ticks\": \"\", \"zerolinecolor\": \"white\"}, \"yaxis\": {\"backgroundcolor\": \"#E5ECF6\", \"gridcolor\": \"white\", \"gridwidth\": 2, \"linecolor\": \"white\", \"showbackground\": true, \"ticks\": \"\", \"zerolinecolor\": \"white\"}, \"zaxis\": {\"backgroundcolor\": \"#E5ECF6\", \"gridcolor\": \"white\", \"gridwidth\": 2, \"linecolor\": \"white\", \"showbackground\": true, \"ticks\": \"\", \"zerolinecolor\": \"white\"}}, \"shapedefaults\": {\"line\": {\"color\": \"#2a3f5f\"}}, \"ternary\": {\"aaxis\": {\"gridcolor\": \"white\", \"linecolor\": \"white\", \"ticks\": \"\"}, \"baxis\": {\"gridcolor\": \"white\", \"linecolor\": \"white\", \"ticks\": \"\"}, \"bgcolor\": \"#E5ECF6\", \"caxis\": {\"gridcolor\": \"white\", \"linecolor\": \"white\", \"ticks\": \"\"}}, \"title\": {\"x\": 0.05}, \"xaxis\": {\"automargin\": true, \"gridcolor\": \"white\", \"linecolor\": \"white\", \"ticks\": \"\", \"zerolinecolor\": \"white\", \"zerolinewidth\": 2}, \"yaxis\": {\"automargin\": true, \"gridcolor\": \"white\", \"linecolor\": \"white\", \"ticks\": \"\", \"zerolinecolor\": \"white\", \"zerolinewidth\": 2}}}, \"title\": {\"text\": \"Yearwise Import/Export/Trade deficit\", \"x\": 0, \"xref\": \"paper\"}, \"xaxis\": {\"title\": {\"font\": {\"color\": \"#7f7f7f\", \"family\": \"Courier New, monospace\", \"size\": 18}, \"text\": \"Year\"}}, \"yaxis\": {\"title\": {\"font\": {\"color\": \"#7f7f7f\", \"family\": \"Courier New, monospace\", \"size\": 18}, \"text\": \"Value\"}}},\n",
              "                        {\"responsive\": true}\n",
              "                    ).then(function(){\n",
              "                            \n",
              "var gd = document.getElementById('95fbb4c8-6329-4e7c-aacb-16eb0dc2931e');\n",
              "var x = new MutationObserver(function (mutations, observer) {{\n",
              "        var display = window.getComputedStyle(gd).display;\n",
              "        if (!display || display === 'none') {{\n",
              "            console.log([gd, 'removed!']);\n",
              "            Plotly.purge(gd);\n",
              "            observer.disconnect();\n",
              "        }}\n",
              "}});\n",
              "\n",
              "// Listen for the removal of the full notebook cells\n",
              "var notebookContainer = gd.closest('#notebook-container');\n",
              "if (notebookContainer) {{\n",
              "    x.observe(notebookContainer, {childList: true});\n",
              "}}\n",
              "\n",
              "// Listen for the clearing of the current output cell\n",
              "var outputEl = gd.closest('.output');\n",
              "if (outputEl) {{\n",
              "    x.observe(outputEl, {childList: true});\n",
              "}}\n",
              "\n",
              "                        })\n",
              "                };\n",
              "                \n",
              "            </script>\n",
              "        </div>\n",
              "</body>\n",
              "</html>"
            ]
          },
          "metadata": {
            "tags": []
          }
        }
      ]
    },
    {
      "cell_type": "markdown",
      "metadata": {
        "id": "mi_UIp3g7k-6",
        "colab_type": "text"
      },
      "source": [
        "> Import is always more than the export creating a trade defecit which we can see in red bar graph.  \n",
        "\n",
        ">  2011 2012 showing a huge huge trade deficit and after which it gradually decreases till 2016 and then increased in 2017 and 2018.  \n",
        "\n",
        "\n",
        "\n",
        "\n",
        "## Import And Export Country Wise"
      ]
    },
    {
      "cell_type": "code",
      "metadata": {
        "id": "RtgXdtMx2owX",
        "colab_type": "code",
        "colab": {
          "base_uri": "https://localhost:8080/",
          "height": 235
        },
        "outputId": "9922e93c-6b93-43bc-c7b2-a5d1a70a81cd"
      },
      "source": [
        "df5 = data_import.groupby('country').agg({'value':'sum'})\n",
        "df5 = df5.sort_values(by='value', ascending = False)\n",
        "df5.head()"
      ],
      "execution_count": 46,
      "outputs": [
        {
          "output_type": "execute_result",
          "data": {
            "text/html": [
              "<div>\n",
              "<style scoped>\n",
              "    .dataframe tbody tr th:only-of-type {\n",
              "        vertical-align: middle;\n",
              "    }\n",
              "\n",
              "    .dataframe tbody tr th {\n",
              "        vertical-align: top;\n",
              "    }\n",
              "\n",
              "    .dataframe thead th {\n",
              "        text-align: right;\n",
              "    }\n",
              "</style>\n",
              "<table border=\"1\" class=\"dataframe\">\n",
              "  <thead>\n",
              "    <tr style=\"text-align: right;\">\n",
              "      <th></th>\n",
              "      <th>value</th>\n",
              "    </tr>\n",
              "    <tr>\n",
              "      <th>country</th>\n",
              "      <th></th>\n",
              "    </tr>\n",
              "  </thead>\n",
              "  <tbody>\n",
              "    <tr>\n",
              "      <th>CHINA P RP</th>\n",
              "      <td>532177.51</td>\n",
              "    </tr>\n",
              "    <tr>\n",
              "      <th>U ARAB EMTS</th>\n",
              "      <td>256286.08</td>\n",
              "    </tr>\n",
              "    <tr>\n",
              "      <th>SAUDI ARAB</th>\n",
              "      <td>241554.99</td>\n",
              "    </tr>\n",
              "    <tr>\n",
              "      <th>U S A</th>\n",
              "      <td>219276.66</td>\n",
              "    </tr>\n",
              "    <tr>\n",
              "      <th>SWITZERLAND</th>\n",
              "      <td>206729.03</td>\n",
              "    </tr>\n",
              "  </tbody>\n",
              "</table>\n",
              "</div>"
            ],
            "text/plain": [
              "                 value\n",
              "country               \n",
              "CHINA P RP   532177.51\n",
              "U ARAB EMTS  256286.08\n",
              "SAUDI ARAB   241554.99\n",
              "U S A        219276.66\n",
              "SWITZERLAND  206729.03"
            ]
          },
          "metadata": {
            "tags": []
          },
          "execution_count": 46
        }
      ]
    },
    {
      "cell_type": "code",
      "metadata": {
        "id": "mlfoMzj12nIK",
        "colab_type": "code",
        "colab": {
          "base_uri": "https://localhost:8080/",
          "height": 235
        },
        "outputId": "10c9a19e-9b43-4e83-f015-a352b7bd6e5b"
      },
      "source": [
        "df6 = data_export.groupby('country').agg({'value':'sum'})\n",
        "df6 = df6.sort_values(by='value', ascending = False)\n",
        "df6.head()"
      ],
      "execution_count": 47,
      "outputs": [
        {
          "output_type": "execute_result",
          "data": {
            "text/html": [
              "<div>\n",
              "<style scoped>\n",
              "    .dataframe tbody tr th:only-of-type {\n",
              "        vertical-align: middle;\n",
              "    }\n",
              "\n",
              "    .dataframe tbody tr th {\n",
              "        vertical-align: top;\n",
              "    }\n",
              "\n",
              "    .dataframe thead th {\n",
              "        text-align: right;\n",
              "    }\n",
              "</style>\n",
              "<table border=\"1\" class=\"dataframe\">\n",
              "  <thead>\n",
              "    <tr style=\"text-align: right;\">\n",
              "      <th></th>\n",
              "      <th>value</th>\n",
              "    </tr>\n",
              "    <tr>\n",
              "      <th>country</th>\n",
              "      <th></th>\n",
              "    </tr>\n",
              "  </thead>\n",
              "  <tbody>\n",
              "    <tr>\n",
              "      <th>U S A</th>\n",
              "      <td>360609.57</td>\n",
              "    </tr>\n",
              "    <tr>\n",
              "      <th>U ARAB EMTS</th>\n",
              "      <td>289374.88</td>\n",
              "    </tr>\n",
              "    <tr>\n",
              "      <th>CHINA P RP</th>\n",
              "      <td>121806.00</td>\n",
              "    </tr>\n",
              "    <tr>\n",
              "      <th>HONG KONG</th>\n",
              "      <td>115693.35</td>\n",
              "    </tr>\n",
              "    <tr>\n",
              "      <th>SINGAPORE</th>\n",
              "      <td>101679.70</td>\n",
              "    </tr>\n",
              "  </tbody>\n",
              "</table>\n",
              "</div>"
            ],
            "text/plain": [
              "                 value\n",
              "country               \n",
              "U S A        360609.57\n",
              "U ARAB EMTS  289374.88\n",
              "CHINA P RP   121806.00\n",
              "HONG KONG    115693.35\n",
              "SINGAPORE    101679.70"
            ]
          },
          "metadata": {
            "tags": []
          },
          "execution_count": 47
        }
      ]
    },
    {
      "cell_type": "code",
      "metadata": {
        "id": "H8CgX0ix2m2k",
        "colab_type": "code",
        "colab": {
          "base_uri": "https://localhost:8080/",
          "height": 437
        },
        "outputId": "ad4ef15a-534c-45bd-91d9-5978533aec8d"
      },
      "source": [
        "#For the top trading Countries\n",
        "df5 = df5[:10]\n",
        "df6 = df6[:10]\n",
        "\n",
        "sns.set(rc={'figure.figsize':(15,6)})\n",
        "ax1 = plt.subplot(121)\n",
        "\n",
        "sns.barplot(df5.value,df5.index).set_title('Country Wise Import')\n",
        "\n",
        "ax2 = plt.subplot(122)\n",
        "sns.barplot(df6.value,df6.index).set_title('Country Wise Export')\n",
        "plt.tight_layout()\n",
        "plt.show()"
      ],
      "execution_count": 59,
      "outputs": [
        {
          "output_type": "display_data",
          "data": {
            "image/png": "[encoded data removed]",
            "text/plain": [
              "<Figure size 1080x432 with 2 Axes>"
            ]
          },
          "metadata": {
            "tags": []
          }
        }
      ]
    },
    {
      "cell_type": "markdown",
      "metadata": {
        "id": "hzxayLEBAipR",
        "colab_type": "text"
      },
      "source": [
        "> China has biggest market in india followed by UAE,Saudi Arabia and USA.  \n",
        "\n",
        "> USA is our biggest importer followed by UAE and China Republic.\n",
        "\n",
        "\n",
        "\n",
        "### Trade Defecit/Surplus Top 5 country with respect to INDIA\n",
        "\n",
        "China - very Huge Trade Deficit for INDIA\n",
        "UAE - little Trade Surplus         \n",
        "Saudi Arabia- Huge Trade Deficit      \n",
        "USA - little Trade Surplus       \n",
        "Swizerland - not making even in the top export graph showing sign of Huge Trade Deficit.     "
      ]
    },
    {
      "cell_type": "code",
      "metadata": {
        "id": "ixBZGRd82mlM",
        "colab_type": "code",
        "colab": {}
      },
      "source": [
        "# print(data_import.country.shape)\n",
        "## print all the unique countries name \n",
        "# set(list(pd.DataFrame(data_import['country'].value_counts()).index))"
      ],
      "execution_count": 0,
      "outputs": []
    },
    {
      "cell_type": "markdown",
      "metadata": {
        "id": "xLo7zbFADTB3",
        "colab_type": "text"
      },
      "source": [
        "#Import And Export Year Wise Trend"
      ]
    },
    {
      "cell_type": "code",
      "metadata": {
        "id": "7mhIEvYC2mNR",
        "colab_type": "code",
        "colab": {
          "base_uri": "https://localhost:8080/",
          "height": 837
        },
        "outputId": "a9f01536-bd9e-43fd-edda-e8089c000ce3"
      },
      "source": [
        "#import plotly.graph_objs as go\n",
        "\n",
        "fig = go.Figure()\n",
        "# Create and style traces\n",
        "\n",
        "#Status about the importing the commodities\n",
        "fig.add_trace(go.Scatter(x=df3.index, y=df3.value, name='Import',mode='lines+markers',\n",
        "                         line=dict(color='green', width=4)))\n",
        "\n",
        "\n",
        "\n",
        "#Status about the Export the commodities\n",
        "fig.add_trace(go.Scatter(x=df4.index, y=df4.value, name = 'Export',mode='lines+markers',\n",
        "                         line=dict(color='royalblue', width=4)))\n",
        "\n",
        "\n",
        "\n",
        "#About Deficit\n",
        "fig.add_trace(go.Scatter(x=df3.index, y=df3.deficit, name = 'Deficit',mode='lines+markers',\n",
        "                         line=dict(color='firebrick', width=4)))\n",
        "\n",
        "\n",
        "\n",
        "fig.update_layout(\n",
        "    autosize = False,\n",
        "    width = 1230,\n",
        "    height  = 800, \n",
        "    #margin = dict (l =20,r=20 , t=20 ,b=20),\n",
        "    title=go.layout.Title(\n",
        "        text=\"Yearwise Import/Export\",\n",
        "        xref=\"paper\",\n",
        "        x=0\n",
        "    ),\n",
        "    xaxis=go.layout.XAxis(\n",
        "        title=go.layout.xaxis.Title(\n",
        "            text=\"Year\",\n",
        "            font=dict(\n",
        "                family=\"Courier New, monospace\",\n",
        "                size=18,\n",
        "                color=\"#7f7f7f\"\n",
        "            )\n",
        "        )\n",
        "    ),\n",
        "    yaxis=go.layout.YAxis(\n",
        "        title=go.layout.yaxis.Title(\n",
        "            text=\"Value\",\n",
        "            font=dict(\n",
        "                family=\"Courier New, monospace\",\n",
        "                size=18,\n",
        "                color=\"#7f7f7f\"\n",
        "            )\n",
        "        )\n",
        "    )\n",
        ")\n",
        "\n",
        "fig.show()"
      ],
      "execution_count": 95,
      "outputs": [
        {
          "output_type": "display_data",
          "data": {
            "text/html": [
              "<html>\n",
              "<head><meta charset=\"utf-8\" /></head>\n",
              "<body>\n",
              "    <div>\n",
              "            <script src=\"https://cdnjs.cloudflare.com/ajax/libs/mathjax/2.7.5/MathJax.js?config=TeX-AMS-MML_SVG\"></script><script type=\"text/javascript\">if (window.MathJax) {MathJax.Hub.Config({SVG: {font: \"STIX-Web\"}});}</script>\n",
              "                <script type=\"text/javascript\">window.PlotlyConfig = {MathJaxConfig: 'local'};</script>\n",
              "        <script src=\"https://cdn.plot.ly/plotly-latest.min.js\"></script>    \n",
              "            <div id=\"ad8bd8b0-f1c7-4c4b-81c9-303df04281d1\" class=\"plotly-graph-div\" style=\"height:800px; width:1230px;\"></div>\n",
              "            <script type=\"text/javascript\">\n",
              "                \n",
              "                    window.PLOTLYENV=window.PLOTLYENV || {};\n",
              "                    \n",
              "                if (document.getElementById(\"ad8bd8b0-f1c7-4c4b-81c9-303df04281d1\")) {\n",
              "                    Plotly.newPlot(\n",
              "                        'ad8bd8b0-f1c7-4c4b-81c9-303df04281d1',\n",
              "                        [{\"line\": {\"color\": \"green\", \"width\": 4}, \"mode\": \"lines+markers\", \"name\": \"Import\", \"type\": \"scatter\", \"x\": [2010, 2011, 2012, 2013, 2014, 2015, 2016, 2017, 2018], \"y\": [365444.9400000018, 488272.6300000056, 488805.22000000486, 446095.9900000038, 440463.87000000424, 372291.4000000033, 377006.7200000014, 456379.5900000059, 513981.6200000071]}, {\"line\": {\"color\": \"royalblue\", \"width\": 4}, \"mode\": \"lines+markers\", \"name\": \"Export\", \"type\": \"scatter\", \"x\": [2010, 2011, 2012, 2013, 2014, 2015, 2016, 2017, 2018], \"y\": [235411.00999999937, 289511.58000000205, 294946.8700000004, 302844.1300000008, 306159.8000000016, 259791.4199999999, 273365.15999999986, 301078.17999999993, 327151.4300000001]}, {\"line\": {\"color\": \"firebrick\", \"width\": 4}, \"mode\": \"lines+markers\", \"name\": \"Deficit\", \"type\": \"scatter\", \"x\": [2010, 2011, 2012, 2013, 2014, 2015, 2016, 2017, 2018], \"y\": [-130033.93000000244, -198761.05000000354, -193858.35000000446, -143251.86000000295, -134304.07000000263, -112499.98000000339, -103641.56000000157, -155301.41000000597, -186830.190000007]}],\n",
              "                        {\"autosize\": false, \"height\": 800, \"template\": {\"data\": {\"bar\": [{\"error_x\": {\"color\": \"#2a3f5f\"}, \"error_y\": {\"color\": \"#2a3f5f\"}, \"marker\": {\"line\": {\"color\": \"#E5ECF6\", \"width\": 0.5}}, \"type\": \"bar\"}], \"barpolar\": [{\"marker\": {\"line\": {\"color\": \"#E5ECF6\", \"width\": 0.5}}, \"type\": \"barpolar\"}], \"carpet\": [{\"aaxis\": {\"endlinecolor\": \"#2a3f5f\", \"gridcolor\": \"white\", \"linecolor\": \"white\", \"minorgridcolor\": \"white\", \"startlinecolor\": \"#2a3f5f\"}, \"baxis\": {\"endlinecolor\": \"#2a3f5f\", \"gridcolor\": \"white\", \"linecolor\": \"white\", \"minorgridcolor\": \"white\", \"startlinecolor\": \"#2a3f5f\"}, \"type\": \"carpet\"}], \"choropleth\": [{\"colorbar\": {\"outlinewidth\": 0, \"ticks\": \"\"}, \"type\": \"choropleth\"}], \"contour\": [{\"colorbar\": {\"outlinewidth\": 0, \"ticks\": \"\"}, \"colorscale\": [[0.0, \"#0d0887\"], [0.1111111111111111, \"#46039f\"], [0.2222222222222222, \"#7201a8\"], [0.3333333333333333, \"#9c179e\"], [0.4444444444444444, \"#bd3786\"], [0.5555555555555556, \"#d8576b\"], [0.6666666666666666, \"#ed7953\"], [0.7777777777777778, \"#fb9f3a\"], [0.8888888888888888, \"#fdca26\"], [1.0, \"#f0f921\"]], \"type\": \"contour\"}], \"contourcarpet\": [{\"colorbar\": {\"outlinewidth\": 0, \"ticks\": \"\"}, \"type\": \"contourcarpet\"}], \"heatmap\": [{\"colorbar\": {\"outlinewidth\": 0, \"ticks\": \"\"}, \"colorscale\": [[0.0, \"#0d0887\"], [0.1111111111111111, \"#46039f\"], [0.2222222222222222, \"#7201a8\"], [0.3333333333333333, \"#9c179e\"], [0.4444444444444444, \"#bd3786\"], [0.5555555555555556, \"#d8576b\"], [0.6666666666666666, \"#ed7953\"], [0.7777777777777778, \"#fb9f3a\"], [0.8888888888888888, \"#fdca26\"], [1.0, \"#f0f921\"]], \"type\": \"heatmap\"}], \"heatmapgl\": [{\"colorbar\": {\"outlinewidth\": 0, \"ticks\": \"\"}, \"colorscale\": [[0.0, \"#0d0887\"], [0.1111111111111111, \"#46039f\"], [0.2222222222222222, \"#7201a8\"], [0.3333333333333333, \"#9c179e\"], [0.4444444444444444, \"#bd3786\"], [0.5555555555555556, \"#d8576b\"], [0.6666666666666666, \"#ed7953\"], [0.7777777777777778, \"#fb9f3a\"], [0.8888888888888888, \"#fdca26\"], [1.0, \"#f0f921\"]], \"type\": \"heatmapgl\"}], \"histogram\": [{\"marker\": {\"colorbar\": {\"outlinewidth\": 0, \"ticks\": \"\"}}, \"type\": \"histogram\"}], \"histogram2d\": [{\"colorbar\": {\"outlinewidth\": 0, \"ticks\": \"\"}, \"colorscale\": [[0.0, \"#0d0887\"], [0.1111111111111111, \"#46039f\"], [0.2222222222222222, \"#7201a8\"], [0.3333333333333333, \"#9c179e\"], [0.4444444444444444, \"#bd3786\"], [0.5555555555555556, \"#d8576b\"], [0.6666666666666666, \"#ed7953\"], [0.7777777777777778, \"#fb9f3a\"], [0.8888888888888888, \"#fdca26\"], [1.0, \"#f0f921\"]], \"type\": \"histogram2d\"}], \"histogram2dcontour\": [{\"colorbar\": {\"outlinewidth\": 0, \"ticks\": \"\"}, \"colorscale\": [[0.0, \"#0d0887\"], [0.1111111111111111, \"#46039f\"], [0.2222222222222222, \"#7201a8\"], [0.3333333333333333, \"#9c179e\"], [0.4444444444444444, \"#bd3786\"], [0.5555555555555556, \"#d8576b\"], [0.6666666666666666, \"#ed7953\"], [0.7777777777777778, \"#fb9f3a\"], [0.8888888888888888, \"#fdca26\"], [1.0, \"#f0f921\"]], \"type\": \"histogram2dcontour\"}], \"mesh3d\": [{\"colorbar\": {\"outlinewidth\": 0, \"ticks\": \"\"}, \"type\": \"mesh3d\"}], \"parcoords\": [{\"line\": {\"colorbar\": {\"outlinewidth\": 0, \"ticks\": \"\"}}, \"type\": \"parcoords\"}], \"scatter\": [{\"marker\": {\"colorbar\": {\"outlinewidth\": 0, \"ticks\": \"\"}}, \"type\": \"scatter\"}], \"scatter3d\": [{\"line\": {\"colorbar\": {\"outlinewidth\": 0, \"ticks\": \"\"}}, \"marker\": {\"colorbar\": {\"outlinewidth\": 0, \"ticks\": \"\"}}, \"type\": \"scatter3d\"}], \"scattercarpet\": [{\"marker\": {\"colorbar\": {\"outlinewidth\": 0, \"ticks\": \"\"}}, \"type\": \"scattercarpet\"}], \"scattergeo\": [{\"marker\": {\"colorbar\": {\"outlinewidth\": 0, \"ticks\": \"\"}}, \"type\": \"scattergeo\"}], \"scattergl\": [{\"marker\": {\"colorbar\": {\"outlinewidth\": 0, \"ticks\": \"\"}}, \"type\": \"scattergl\"}], \"scattermapbox\": [{\"marker\": {\"colorbar\": {\"outlinewidth\": 0, \"ticks\": \"\"}}, \"type\": \"scattermapbox\"}], \"scatterpolar\": [{\"marker\": {\"colorbar\": {\"outlinewidth\": 0, \"ticks\": \"\"}}, \"type\": \"scatterpolar\"}], \"scatterpolargl\": [{\"marker\": {\"colorbar\": {\"outlinewidth\": 0, \"ticks\": \"\"}}, \"type\": \"scatterpolargl\"}], \"scatterternary\": [{\"marker\": {\"colorbar\": {\"outlinewidth\": 0, \"ticks\": \"\"}}, \"type\": \"scatterternary\"}], \"surface\": [{\"colorbar\": {\"outlinewidth\": 0, \"ticks\": \"\"}, \"colorscale\": [[0.0, \"#0d0887\"], [0.1111111111111111, \"#46039f\"], [0.2222222222222222, \"#7201a8\"], [0.3333333333333333, \"#9c179e\"], [0.4444444444444444, \"#bd3786\"], [0.5555555555555556, \"#d8576b\"], [0.6666666666666666, \"#ed7953\"], [0.7777777777777778, \"#fb9f3a\"], [0.8888888888888888, \"#fdca26\"], [1.0, \"#f0f921\"]], \"type\": \"surface\"}], \"table\": [{\"cells\": {\"fill\": {\"color\": \"#EBF0F8\"}, \"line\": {\"color\": \"white\"}}, \"header\": {\"fill\": {\"color\": \"#C8D4E3\"}, \"line\": {\"color\": \"white\"}}, \"type\": \"table\"}]}, \"layout\": {\"annotationdefaults\": {\"arrowcolor\": \"#2a3f5f\", \"arrowhead\": 0, \"arrowwidth\": 1}, \"colorscale\": {\"diverging\": [[0, \"#8e0152\"], [0.1, \"#c51b7d\"], [0.2, \"#de77ae\"], [0.3, \"#f1b6da\"], [0.4, \"#fde0ef\"], [0.5, \"#f7f7f7\"], [0.6, \"#e6f5d0\"], [0.7, \"#b8e186\"], [0.8, \"#7fbc41\"], [0.9, \"#4d9221\"], [1, \"#276419\"]], \"sequential\": [[0.0, \"#0d0887\"], [0.1111111111111111, \"#46039f\"], [0.2222222222222222, \"#7201a8\"], [0.3333333333333333, \"#9c179e\"], [0.4444444444444444, \"#bd3786\"], [0.5555555555555556, \"#d8576b\"], [0.6666666666666666, \"#ed7953\"], [0.7777777777777778, \"#fb9f3a\"], [0.8888888888888888, \"#fdca26\"], [1.0, \"#f0f921\"]], \"sequentialminus\": [[0.0, \"#0d0887\"], [0.1111111111111111, \"#46039f\"], [0.2222222222222222, \"#7201a8\"], [0.3333333333333333, \"#9c179e\"], [0.4444444444444444, \"#bd3786\"], [0.5555555555555556, \"#d8576b\"], [0.6666666666666666, \"#ed7953\"], [0.7777777777777778, \"#fb9f3a\"], [0.8888888888888888, \"#fdca26\"], [1.0, \"#f0f921\"]]}, \"colorway\": [\"#636efa\", \"#EF553B\", \"#00cc96\", \"#ab63fa\", \"#FFA15A\", \"#19d3f3\", \"#FF6692\", \"#B6E880\", \"#FF97FF\", \"#FECB52\"], \"font\": {\"color\": \"#2a3f5f\"}, \"geo\": {\"bgcolor\": \"white\", \"lakecolor\": \"white\", \"landcolor\": \"#E5ECF6\", \"showlakes\": true, \"showland\": true, \"subunitcolor\": \"white\"}, \"hoverlabel\": {\"align\": \"left\"}, \"hovermode\": \"closest\", \"mapbox\": {\"style\": \"light\"}, \"paper_bgcolor\": \"white\", \"plot_bgcolor\": \"#E5ECF6\", \"polar\": {\"angularaxis\": {\"gridcolor\": \"white\", \"linecolor\": \"white\", \"ticks\": \"\"}, \"bgcolor\": \"#E5ECF6\", \"radialaxis\": {\"gridcolor\": \"white\", \"linecolor\": \"white\", \"ticks\": \"\"}}, \"scene\": {\"xaxis\": {\"backgroundcolor\": \"#E5ECF6\", \"gridcolor\": \"white\", \"gridwidth\": 2, \"linecolor\": \"white\", \"showbackground\": true, \"ticks\": \"\", \"zerolinecolor\": \"white\"}, \"yaxis\": {\"backgroundcolor\": \"#E5ECF6\", \"gridcolor\": \"white\", \"gridwidth\": 2, \"linecolor\": \"white\", \"showbackground\": true, \"ticks\": \"\", \"zerolinecolor\": \"white\"}, \"zaxis\": {\"backgroundcolor\": \"#E5ECF6\", \"gridcolor\": \"white\", \"gridwidth\": 2, \"linecolor\": \"white\", \"showbackground\": true, \"ticks\": \"\", \"zerolinecolor\": \"white\"}}, \"shapedefaults\": {\"line\": {\"color\": \"#2a3f5f\"}}, \"ternary\": {\"aaxis\": {\"gridcolor\": \"white\", \"linecolor\": \"white\", \"ticks\": \"\"}, \"baxis\": {\"gridcolor\": \"white\", \"linecolor\": \"white\", \"ticks\": \"\"}, \"bgcolor\": \"#E5ECF6\", \"caxis\": {\"gridcolor\": \"white\", \"linecolor\": \"white\", \"ticks\": \"\"}}, \"title\": {\"x\": 0.05}, \"xaxis\": {\"automargin\": true, \"gridcolor\": \"white\", \"linecolor\": \"white\", \"ticks\": \"\", \"zerolinecolor\": \"white\", \"zerolinewidth\": 2}, \"yaxis\": {\"automargin\": true, \"gridcolor\": \"white\", \"linecolor\": \"white\", \"ticks\": \"\", \"zerolinecolor\": \"white\", \"zerolinewidth\": 2}}}, \"title\": {\"text\": \"Yearwise Import/Export\", \"x\": 0, \"xref\": \"paper\"}, \"width\": 1230, \"xaxis\": {\"title\": {\"font\": {\"color\": \"#7f7f7f\", \"family\": \"Courier New, monospace\", \"size\": 18}, \"text\": \"Year\"}}, \"yaxis\": {\"title\": {\"font\": {\"color\": \"#7f7f7f\", \"family\": \"Courier New, monospace\", \"size\": 18}, \"text\": \"Value\"}}},\n",
              "                        {\"responsive\": true}\n",
              "                    ).then(function(){\n",
              "                            \n",
              "var gd = document.getElementById('ad8bd8b0-f1c7-4c4b-81c9-303df04281d1');\n",
              "var x = new MutationObserver(function (mutations, observer) {{\n",
              "        var display = window.getComputedStyle(gd).display;\n",
              "        if (!display || display === 'none') {{\n",
              "            console.log([gd, 'removed!']);\n",
              "            Plotly.purge(gd);\n",
              "            observer.disconnect();\n",
              "        }}\n",
              "}});\n",
              "\n",
              "// Listen for the removal of the full notebook cells\n",
              "var notebookContainer = gd.closest('#notebook-container');\n",
              "if (notebookContainer) {{\n",
              "    x.observe(notebookContainer, {childList: true});\n",
              "}}\n",
              "\n",
              "// Listen for the clearing of the current output cell\n",
              "var outputEl = gd.closest('.output');\n",
              "if (outputEl) {{\n",
              "    x.observe(outputEl, {childList: true});\n",
              "}}\n",
              "\n",
              "                        })\n",
              "                };\n",
              "                \n",
              "            </script>\n",
              "        </div>\n",
              "</body>\n",
              "</html>"
            ]
          },
          "metadata": {
            "tags": []
          }
        }
      ]
    },
    {
      "cell_type": "code",
      "metadata": {
        "id": "fCzZkxEID9D2",
        "colab_type": "code",
        "colab": {
          "base_uri": "https://localhost:8080/",
          "height": 252
        },
        "outputId": "69e69b79-51b6-45cd-efa9-633b2b27a527"
      },
      "source": [
        "#Extract the details from the import data \n",
        "df3 = data_import.groupby('Commodity').agg({'value':'sum'})\n",
        "df3 = df3.sort_values(by='value', ascending = False)\n",
        "df3.head()\n"
      ],
      "execution_count": 96,
      "outputs": [
        {
          "output_type": "execute_result",
          "data": {
            "text/html": [
              "<div>\n",
              "<style scoped>\n",
              "    .dataframe tbody tr th:only-of-type {\n",
              "        vertical-align: middle;\n",
              "    }\n",
              "\n",
              "    .dataframe tbody tr th {\n",
              "        vertical-align: top;\n",
              "    }\n",
              "\n",
              "    .dataframe thead th {\n",
              "        text-align: right;\n",
              "    }\n",
              "</style>\n",
              "<table border=\"1\" class=\"dataframe\">\n",
              "  <thead>\n",
              "    <tr style=\"text-align: right;\">\n",
              "      <th></th>\n",
              "      <th>value</th>\n",
              "    </tr>\n",
              "    <tr>\n",
              "      <th>Commodity</th>\n",
              "      <th></th>\n",
              "    </tr>\n",
              "  </thead>\n",
              "  <tbody>\n",
              "    <tr>\n",
              "      <th>MINERAL FUELS, MINERAL OILS AND PRODUCTS OF THEIR DISTILLATION; BITUMINOUS SUBSTANCES; MINERAL WAXES.</th>\n",
              "      <td>1305259.28</td>\n",
              "    </tr>\n",
              "    <tr>\n",
              "      <th>NATURAL OR CULTURED PEARLS,PRECIOUS OR SEMIPRECIOUS STONES,PRE.METALS,CLAD WITH PRE.METAL AND ARTCLS THEREOF;IMIT.JEWLRY;COIN.</th>\n",
              "      <td>611404.45</td>\n",
              "    </tr>\n",
              "    <tr>\n",
              "      <th>ELECTRICAL MACHINERY AND EQUIPMENT AND PARTS THEREOF; SOUND RECORDERS AND REPRODUCERS, TELEVISION IMAGE AND SOUND RECORDERS AND REPRODUCERS,AND PARTS.</th>\n",
              "      <td>326602.08</td>\n",
              "    </tr>\n",
              "    <tr>\n",
              "      <th>NUCLEAR REACTORS, BOILERS, MACHINERY AND MECHANICAL APPLIANCES; PARTS THEREOF.</th>\n",
              "      <td>310410.14</td>\n",
              "    </tr>\n",
              "    <tr>\n",
              "      <th>ORGANIC CHEMICALS</th>\n",
              "      <td>150059.05</td>\n",
              "    </tr>\n",
              "  </tbody>\n",
              "</table>\n",
              "</div>"
            ],
            "text/plain": [
              "                                                         value\n",
              "Commodity                                                     \n",
              "MINERAL FUELS, MINERAL OILS AND PRODUCTS OF THE...  1305259.28\n",
              "NATURAL OR CULTURED PEARLS,PRECIOUS OR SEMIPREC...   611404.45\n",
              "ELECTRICAL MACHINERY AND EQUIPMENT AND PARTS TH...   326602.08\n",
              "NUCLEAR REACTORS, BOILERS, MACHINERY AND MECHAN...   310410.14\n",
              "ORGANIC CHEMICALS                                    150059.05"
            ]
          },
          "metadata": {
            "tags": []
          },
          "execution_count": 96
        }
      ]
    },
    {
      "cell_type": "code",
      "metadata": {
        "id": "bcuLxxr72mDA",
        "colab_type": "code",
        "colab": {
          "base_uri": "https://localhost:8080/",
          "height": 235
        },
        "outputId": "74b78631-3ed5-4a03-97ff-b9d2a7901b25"
      },
      "source": [
        "#Extract the details from the export data\n",
        "df4 = data_export.groupby('Commodity').agg({'value':'sum'})\n",
        "df4 = df4.sort_values(by='value', ascending = False)\n",
        "df4.head()"
      ],
      "execution_count": 97,
      "outputs": [
        {
          "output_type": "execute_result",
          "data": {
            "text/html": [
              "<div>\n",
              "<style scoped>\n",
              "    .dataframe tbody tr th:only-of-type {\n",
              "        vertical-align: middle;\n",
              "    }\n",
              "\n",
              "    .dataframe tbody tr th {\n",
              "        vertical-align: top;\n",
              "    }\n",
              "\n",
              "    .dataframe thead th {\n",
              "        text-align: right;\n",
              "    }\n",
              "</style>\n",
              "<table border=\"1\" class=\"dataframe\">\n",
              "  <thead>\n",
              "    <tr style=\"text-align: right;\">\n",
              "      <th></th>\n",
              "      <th>value</th>\n",
              "    </tr>\n",
              "    <tr>\n",
              "      <th>Commodity</th>\n",
              "      <th></th>\n",
              "    </tr>\n",
              "  </thead>\n",
              "  <tbody>\n",
              "    <tr>\n",
              "      <th>MINERAL FUELS, MINERAL OILS AND PRODUCTS OF THEIR DISTILLATION; BITUMINOUS SUBSTANCES; MINERAL WAXES.</th>\n",
              "      <td>412501.31</td>\n",
              "    </tr>\n",
              "    <tr>\n",
              "      <th>NATURAL OR CULTURED PEARLS,PRECIOUS OR SEMIPRECIOUS STONES,PRE.METALS,CLAD WITH PRE.METAL AND ARTCLS THEREOF;IMIT.JEWLRY;COIN.</th>\n",
              "      <td>375706.03</td>\n",
              "    </tr>\n",
              "    <tr>\n",
              "      <th>VEHICLES OTHER THAN RAILWAY OR TRAMWAY ROLLING STOCK, AND PARTS AND ACCESSORIES THEREOF.</th>\n",
              "      <td>124465.27</td>\n",
              "    </tr>\n",
              "    <tr>\n",
              "      <th>NUCLEAR REACTORS, BOILERS, MACHINERY AND MECHANICAL APPLIANCES; PARTS THEREOF.</th>\n",
              "      <td>123727.12</td>\n",
              "    </tr>\n",
              "    <tr>\n",
              "      <th>ORGANIC CHEMICALS</th>\n",
              "      <td>112712.70</td>\n",
              "    </tr>\n",
              "  </tbody>\n",
              "</table>\n",
              "</div>"
            ],
            "text/plain": [
              "                                                        value\n",
              "Commodity                                                    \n",
              "MINERAL FUELS, MINERAL OILS AND PRODUCTS OF THE...  412501.31\n",
              "NATURAL OR CULTURED PEARLS,PRECIOUS OR SEMIPREC...  375706.03\n",
              "VEHICLES OTHER THAN RAILWAY OR TRAMWAY ROLLING ...  124465.27\n",
              "NUCLEAR REACTORS, BOILERS, MACHINERY AND MECHAN...  123727.12\n",
              "ORGANIC CHEMICALS                                   112712.70"
            ]
          },
          "metadata": {
            "tags": []
          },
          "execution_count": 97
        }
      ]
    },
    {
      "cell_type": "code",
      "metadata": {
        "id": "TEzrg_xQ2lzN",
        "colab_type": "code",
        "colab": {}
      },
      "source": [
        "#Take the chunks of the import / export data \n",
        "df3 = df3[:10]\n",
        "df4 = df4[:10]\n"
      ],
      "execution_count": 0,
      "outputs": []
    },
    {
      "cell_type": "code",
      "metadata": {
        "id": "2SPV9g422lou",
        "colab_type": "code",
        "colab": {
          "base_uri": "https://localhost:8080/",
          "height": 1000
        },
        "outputId": "f06b397d-16bb-476b-9812-54888d06a57a"
      },
      "source": [
        "sns.set(rc={'figure.figsize':(15,10)})\n",
        "#ax1 = plt.subplot(121)\n",
        "sns.barplot(df3.value,df3.index).set_title('Commodity Wise Import')\n",
        "plt.show()\n",
        "#ax2 = plt.subplot(122)\n",
        "sns.barplot(df4.value,df4.index).set_title('Commodity Wise Import')\n",
        "plt.show()"
      ],
      "execution_count": 102,
      "outputs": [
        {
          "output_type": "display_data",
          "data": {
            "image/png": "[encoded data removed]",
            "text/plain": [
              "<Figure size 1080x720 with 1 Axes>"
            ]
          },
          "metadata": {
            "tags": []
          }
        },
        {
          "output_type": "display_data",
          "data": {
            "image/png": "[encoded data removed]",
            "text/plain": [
              "<Figure size 1080x720 with 1 Axes>"
            ]
          },
          "metadata": {
            "tags": []
          }
        }
      ]
    },
    {
      "cell_type": "markdown",
      "metadata": {
        "id": "tTYBgza2NF60",
        "colab_type": "text"
      },
      "source": [
        "> Top exported categories are also the top imoported categories but there is huge trade deficit category wise. aprrox for 6 category we can see more deficit.\n",
        "\n",
        "> Vehicle Other Than railway...and Pharmaceutical product HScode Chapters shows a trade surplus.\n",
        "\n",
        "\n",
        "\n",
        "#let's Analyse Expensive Import\n",
        "\n",
        "As we have seen there is huge difference in distribution we will analyse some of the expensive imports\n"
      ]
    },
    {
      "cell_type": "code",
      "metadata": {
        "id": "CSIDwe3n2lgy",
        "colab_type": "code",
        "colab": {
          "base_uri": "https://localhost:8080/",
          "height": 376
        },
        "outputId": "f1a9c29f-53d3-4149-80c7-98deb6528a9b"
      },
      "source": [
        "expensive_import = data_import[data_import.value>1000]\n",
        "print(expensive_import.shape)  \n",
        "expensive_import.head(10)"
      ],
      "execution_count": 104,
      "outputs": [
        {
          "output_type": "stream",
          "text": [
            "(623, 5)\n"
          ],
          "name": "stdout"
        },
        {
          "output_type": "execute_result",
          "data": {
            "text/html": [
              "<div>\n",
              "<style scoped>\n",
              "    .dataframe tbody tr th:only-of-type {\n",
              "        vertical-align: middle;\n",
              "    }\n",
              "\n",
              "    .dataframe tbody tr th {\n",
              "        vertical-align: top;\n",
              "    }\n",
              "\n",
              "    .dataframe thead th {\n",
              "        text-align: right;\n",
              "    }\n",
              "</style>\n",
              "<table border=\"1\" class=\"dataframe\">\n",
              "  <thead>\n",
              "    <tr style=\"text-align: right;\">\n",
              "      <th></th>\n",
              "      <th>HSCode</th>\n",
              "      <th>Commodity</th>\n",
              "      <th>value</th>\n",
              "      <th>country</th>\n",
              "      <th>year</th>\n",
              "    </tr>\n",
              "  </thead>\n",
              "  <tbody>\n",
              "    <tr>\n",
              "      <th>55</th>\n",
              "      <td>27</td>\n",
              "      <td>MINERAL FUELS, MINERAL OILS AND PRODUCTS OF TH...</td>\n",
              "      <td>1559.37</td>\n",
              "      <td>ALGERIA</td>\n",
              "      <td>2018</td>\n",
              "    </tr>\n",
              "    <tr>\n",
              "      <th>95</th>\n",
              "      <td>27</td>\n",
              "      <td>MINERAL FUELS, MINERAL OILS AND PRODUCTS OF TH...</td>\n",
              "      <td>4012.00</td>\n",
              "      <td>ANGOLA</td>\n",
              "      <td>2018</td>\n",
              "    </tr>\n",
              "    <tr>\n",
              "      <th>142</th>\n",
              "      <td>15</td>\n",
              "      <td>ANIMAL OR VEGETABLE FATS AND OILS AND THEIR CL...</td>\n",
              "      <td>1720.46</td>\n",
              "      <td>ARGENTINA</td>\n",
              "      <td>2018</td>\n",
              "    </tr>\n",
              "    <tr>\n",
              "      <th>236</th>\n",
              "      <td>27</td>\n",
              "      <td>MINERAL FUELS, MINERAL OILS AND PRODUCTS OF TH...</td>\n",
              "      <td>9664.58</td>\n",
              "      <td>AUSTRALIA</td>\n",
              "      <td>2018</td>\n",
              "    </tr>\n",
              "    <tr>\n",
              "      <th>701</th>\n",
              "      <td>71</td>\n",
              "      <td>NATURAL OR CULTURED PEARLS,PRECIOUS OR SEMIPRE...</td>\n",
              "      <td>6619.68</td>\n",
              "      <td>BELGIUM</td>\n",
              "      <td>2018</td>\n",
              "    </tr>\n",
              "    <tr>\n",
              "      <th>942</th>\n",
              "      <td>27</td>\n",
              "      <td>MINERAL FUELS, MINERAL OILS AND PRODUCTS OF TH...</td>\n",
              "      <td>1596.79</td>\n",
              "      <td>BRAZIL</td>\n",
              "      <td>2018</td>\n",
              "    </tr>\n",
              "    <tr>\n",
              "      <th>1215</th>\n",
              "      <td>27</td>\n",
              "      <td>MINERAL FUELS, MINERAL OILS AND PRODUCTS OF TH...</td>\n",
              "      <td>1165.81</td>\n",
              "      <td>CANADA</td>\n",
              "      <td>2018</td>\n",
              "    </tr>\n",
              "    <tr>\n",
              "      <th>1414</th>\n",
              "      <td>27</td>\n",
              "      <td>MINERAL FUELS, MINERAL OILS AND PRODUCTS OF TH...</td>\n",
              "      <td>1047.32</td>\n",
              "      <td>CHINA P RP</td>\n",
              "      <td>2018</td>\n",
              "    </tr>\n",
              "    <tr>\n",
              "      <th>1415</th>\n",
              "      <td>28</td>\n",
              "      <td>INORGANIC CHEMICALS; ORGANIC OR INORGANIC COMP...</td>\n",
              "      <td>1050.23</td>\n",
              "      <td>CHINA P RP</td>\n",
              "      <td>2018</td>\n",
              "    </tr>\n",
              "    <tr>\n",
              "      <th>1416</th>\n",
              "      <td>29</td>\n",
              "      <td>ORGANIC CHEMICALS</td>\n",
              "      <td>8596.25</td>\n",
              "      <td>CHINA P RP</td>\n",
              "      <td>2018</td>\n",
              "    </tr>\n",
              "  </tbody>\n",
              "</table>\n",
              "</div>"
            ],
            "text/plain": [
              "      HSCode  ...  year\n",
              "55        27  ...  2018\n",
              "95        27  ...  2018\n",
              "142       15  ...  2018\n",
              "236       27  ...  2018\n",
              "701       71  ...  2018\n",
              "942       27  ...  2018\n",
              "1215      27  ...  2018\n",
              "1414      27  ...  2018\n",
              "1415      28  ...  2018\n",
              "1416      29  ...  2018\n",
              "\n",
              "[10 rows x 5 columns]"
            ]
          },
          "metadata": {
            "tags": []
          },
          "execution_count": 104
        }
      ]
    },
    {
      "cell_type": "code",
      "metadata": {
        "id": "TmMQKJeL2lTr",
        "colab_type": "code",
        "colab": {
          "base_uri": "https://localhost:8080/",
          "height": 359
        },
        "outputId": "fc194a1c-b3d4-4b98-bdfe-7f7a216379bd"
      },
      "source": [
        "expensive_import.groupby('year').agg({'value':'sum'}).sort_values(by='value', ascending = False)"
      ],
      "execution_count": 106,
      "outputs": [
        {
          "output_type": "execute_result",
          "data": {
            "text/html": [
              "<div>\n",
              "<style scoped>\n",
              "    .dataframe tbody tr th:only-of-type {\n",
              "        vertical-align: middle;\n",
              "    }\n",
              "\n",
              "    .dataframe tbody tr th {\n",
              "        vertical-align: top;\n",
              "    }\n",
              "\n",
              "    .dataframe thead th {\n",
              "        text-align: right;\n",
              "    }\n",
              "</style>\n",
              "<table border=\"1\" class=\"dataframe\">\n",
              "  <thead>\n",
              "    <tr style=\"text-align: right;\">\n",
              "      <th></th>\n",
              "      <th>value</th>\n",
              "    </tr>\n",
              "    <tr>\n",
              "      <th>year</th>\n",
              "      <th></th>\n",
              "    </tr>\n",
              "  </thead>\n",
              "  <tbody>\n",
              "    <tr>\n",
              "      <th>2018</th>\n",
              "      <td>349468.21</td>\n",
              "    </tr>\n",
              "    <tr>\n",
              "      <th>2011</th>\n",
              "      <td>347445.31</td>\n",
              "    </tr>\n",
              "    <tr>\n",
              "      <th>2012</th>\n",
              "      <td>346631.78</td>\n",
              "    </tr>\n",
              "    <tr>\n",
              "      <th>2013</th>\n",
              "      <td>312222.31</td>\n",
              "    </tr>\n",
              "    <tr>\n",
              "      <th>2017</th>\n",
              "      <td>301529.38</td>\n",
              "    </tr>\n",
              "    <tr>\n",
              "      <th>2014</th>\n",
              "      <td>294951.86</td>\n",
              "    </tr>\n",
              "    <tr>\n",
              "      <th>2010</th>\n",
              "      <td>247690.87</td>\n",
              "    </tr>\n",
              "    <tr>\n",
              "      <th>2016</th>\n",
              "      <td>240366.15</td>\n",
              "    </tr>\n",
              "    <tr>\n",
              "      <th>2015</th>\n",
              "      <td>233677.78</td>\n",
              "    </tr>\n",
              "  </tbody>\n",
              "</table>\n",
              "</div>"
            ],
            "text/plain": [
              "          value\n",
              "year           \n",
              "2018  349468.21\n",
              "2011  347445.31\n",
              "2012  346631.78\n",
              "2013  312222.31\n",
              "2017  301529.38\n",
              "2014  294951.86\n",
              "2010  247690.87\n",
              "2016  240366.15\n",
              "2015  233677.78"
            ]
          },
          "metadata": {
            "tags": []
          },
          "execution_count": 106
        }
      ]
    },
    {
      "cell_type": "markdown",
      "metadata": {
        "id": "IcOOrTASPHJm",
        "colab_type": "text"
      },
      "source": [
        "# Import Value Vs HSCode(Commodity Code)"
      ]
    },
    {
      "cell_type": "code",
      "metadata": {
        "id": "GokA_czP2lDO",
        "colab_type": "code",
        "colab": {
          "base_uri": "https://localhost:8080/",
          "height": 593
        },
        "outputId": "d90d7bf3-5ceb-4af4-a287-84762e08cbe7"
      },
      "source": [
        "#fig, ax = plt.subplots(1,1,figsize=(18,6)) \n",
        "plt.figure(figsize=(20,9))\n",
        "#plt.rcParams['figure.figsize']=(23,10)\n",
        "# the size of A4 paper\n",
        "#fig.set_size_inches(11.7, 8.27)\n",
        "ax = sns.boxplot(x=\"HSCode\", y=\"value\", data=expensive_import).set_title('Expensive Imports HsCode distribution')\n",
        "plt.show()"
      ],
      "execution_count": 107,
      "outputs": [
        {
          "output_type": "display_data",
          "data": {
            "image/png": "[encoded data removed]",
            "text/plain": [
              "<Figure size 1440x648 with 1 Axes>"
            ]
          },
          "metadata": {
            "tags": []
          }
        }
      ]
    },
    {
      "cell_type": "markdown",
      "metadata": {
        "id": "Vkg_JrKmPtFw",
        "colab_type": "text"
      },
      "source": [
        "> HSCode Chapter 27, 71 tops the expensive import as already seen (Mineral Fuels and expensive jewellery).\n",
        "\n",
        "> HSCode Chapter 15,29, 84, 98 also has a expensive imports."
      ]
    },
    {
      "cell_type": "code",
      "metadata": {
        "id": "mCqWyCpL2k5h",
        "colab_type": "code",
        "colab": {
          "base_uri": "https://localhost:8080/",
          "height": 252
        },
        "outputId": "2dc89b02-8962-4ae4-ebc9-6771c867eef4"
      },
      "source": [
        "df =expensive_import.groupby(['HSCode']).agg({'value': 'sum'})\n",
        "df = df.sort_values(by='value')\n",
        "print(df.shape)\n",
        "df.head()"
      ],
      "execution_count": 108,
      "outputs": [
        {
          "output_type": "stream",
          "text": [
            "(23, 1)\n"
          ],
          "name": "stdout"
        },
        {
          "output_type": "execute_result",
          "data": {
            "text/html": [
              "<div>\n",
              "<style scoped>\n",
              "    .dataframe tbody tr th:only-of-type {\n",
              "        vertical-align: middle;\n",
              "    }\n",
              "\n",
              "    .dataframe tbody tr th {\n",
              "        vertical-align: top;\n",
              "    }\n",
              "\n",
              "    .dataframe thead th {\n",
              "        text-align: right;\n",
              "    }\n",
              "</style>\n",
              "<table border=\"1\" class=\"dataframe\">\n",
              "  <thead>\n",
              "    <tr style=\"text-align: right;\">\n",
              "      <th></th>\n",
              "      <th>value</th>\n",
              "    </tr>\n",
              "    <tr>\n",
              "      <th>HSCode</th>\n",
              "      <th></th>\n",
              "    </tr>\n",
              "  </thead>\n",
              "  <tbody>\n",
              "    <tr>\n",
              "      <th>17</th>\n",
              "      <td>1015.64</td>\n",
              "    </tr>\n",
              "    <tr>\n",
              "      <th>28</th>\n",
              "      <td>1050.23</td>\n",
              "    </tr>\n",
              "    <tr>\n",
              "      <th>76</th>\n",
              "      <td>1174.62</td>\n",
              "    </tr>\n",
              "    <tr>\n",
              "      <th>94</th>\n",
              "      <td>1200.90</td>\n",
              "    </tr>\n",
              "    <tr>\n",
              "      <th>38</th>\n",
              "      <td>2639.56</td>\n",
              "    </tr>\n",
              "  </tbody>\n",
              "</table>\n",
              "</div>"
            ],
            "text/plain": [
              "          value\n",
              "HSCode         \n",
              "17      1015.64\n",
              "28      1050.23\n",
              "76      1174.62\n",
              "94      1200.90\n",
              "38      2639.56"
            ]
          },
          "metadata": {
            "tags": []
          },
          "execution_count": 108
        }
      ]
    },
    {
      "cell_type": "code",
      "metadata": {
        "id": "e-X7lDqD2kxP",
        "colab_type": "code",
        "colab": {
          "base_uri": "https://localhost:8080/",
          "height": 448
        },
        "outputId": "e4c0776a-403c-43b2-bd3c-7480c83931b6"
      },
      "source": [
        " \n",
        "value=np.array(df)\n",
        "commodityCode=df.index\n",
        "plt.style.use('ggplot')\n",
        "plt.rcParams['figure.figsize'] = (17.0, 7.0)\n",
        "squarify.plot(sizes=value, label=commodityCode, alpha=.7 )\n",
        "plt.axis('off')\n",
        "plt.title(\"Expensive Imports HsCode Share\")\n",
        "plt.show()"
      ],
      "execution_count": 114,
      "outputs": [
        {
          "output_type": "display_data",
          "data": {
            "image/png": "[encoded data removed]",
            "text/plain": [
              "<Figure size 1224x504 with 1 Axes>"
            ]
          },
          "metadata": {
            "tags": []
          }
        }
      ]
    },
    {
      "cell_type": "markdown",
      "metadata": {
        "id": "CIGlVy-VRHcg",
        "colab_type": "text"
      },
      "source": [
        "#Country Analysis"
      ]
    },
    {
      "cell_type": "code",
      "metadata": {
        "id": "4uGSPQFQ2km7",
        "colab_type": "code",
        "colab": {
          "base_uri": "https://localhost:8080/",
          "height": 34
        },
        "outputId": "08167dc9-8403-4936-913e-cf491d6b7db8"
      },
      "source": [
        "len(expensive_import['country'].unique())"
      ],
      "execution_count": 115,
      "outputs": [
        {
          "output_type": "execute_result",
          "data": {
            "text/plain": [
              "49"
            ]
          },
          "metadata": {
            "tags": []
          },
          "execution_count": 115
        }
      ]
    },
    {
      "cell_type": "code",
      "metadata": {
        "id": "IQXw3k1D2kWe",
        "colab_type": "code",
        "colab": {
          "base_uri": "https://localhost:8080/",
          "height": 611
        },
        "outputId": "860c6f59-e44c-488f-e0b8-697cb696911f"
      },
      "source": [
        "\n",
        "df1 = expensive_import.groupby(['country']).agg({'value': 'sum'})\n",
        "df1 = df1.sort_values(by='value')\n",
        "value=np.array(df1)\n",
        "country=df1.index\n",
        "plt.style.use('ggplot')\n",
        "plt.rcParams['figure.figsize'] = (17.0, 10.0)\n",
        "squarify.plot(sizes=value, label=country, alpha=.7 )\n",
        "plt.title(\"Expensive Imports Countrywise Share\")\n",
        "plt.axis('off')\n",
        "plt.show()"
      ],
      "execution_count": 117,
      "outputs": [
        {
          "output_type": "display_data",
          "data": {
            "image/png": "[encoded data removed]",
            "text/plain": [
              "<Figure size 1224x720 with 1 Axes>"
            ]
          },
          "metadata": {
            "tags": []
          }
        }
      ]
    },
    {
      "cell_type": "markdown",
      "metadata": {
        "id": "VqNSQF0eWL3P",
        "colab_type": "text"
      },
      "source": [
        "We can clearly see here INDIA is importing most expensive stffs/ commodities from CHINA , U ARAB EMTS , SAUDI ARAB .."
      ]
    },
    {
      "cell_type": "markdown",
      "metadata": {
        "id": "27hyoLoSXKQv",
        "colab_type": "text"
      },
      "source": [
        "#Conclusive Comments\n",
        "\n",
        "> Need of the Hour is to reduce the trade deficit. New Initiative taken by Goverment as \"Skill India\" , \"Make In India\", \"Startup India\" can help to boost the Export if the work is implemented on ground reality.\n",
        "\n",
        "\n",
        "> Bilateral ties between countries helps to reduce export duty which help the local company compete in global market.\n",
        "\n",
        ">As India Primarily is a Agricultural Country training and Guiding and providing export quality crops/medicinal plant can help to boost agricultural expor"
      ]
    },
    {
      "cell_type": "code",
      "metadata": {
        "id": "lTA3eZso2kGm",
        "colab_type": "code",
        "colab": {}
      },
      "source": [
        ""
      ],
      "execution_count": 0,
      "outputs": []
    },
    {
      "cell_type": "code",
      "metadata": {
        "id": "0z5mWvjD2jsH",
        "colab_type": "code",
        "colab": {}
      },
      "source": [
        ""
      ],
      "execution_count": 0,
      "outputs": []
    },
    {
      "cell_type": "code",
      "metadata": {
        "id": "TRI9tlo-rXKD",
        "colab_type": "code",
        "colab": {}
      },
      "source": [
        ""
      ],
      "execution_count": 0,
      "outputs": []
    },
    {
      "cell_type": "code",
      "metadata": {
        "id": "vNB5Uo0trXFg",
        "colab_type": "code",
        "colab": {}
      },
      "source": [
        ""
      ],
      "execution_count": 0,
      "outputs": []
    },
    {
      "cell_type": "code",
      "metadata": {
        "id": "Ny69cQOOrXCr",
        "colab_type": "code",
        "colab": {}
      },
      "source": [
        ""
      ],
      "execution_count": 0,
      "outputs": []
    },
    {
      "cell_type": "code",
      "metadata": {
        "id": "Nc_t-xMPrXAy",
        "colab_type": "code",
        "colab": {}
      },
      "source": [
        ""
      ],
      "execution_count": 0,
      "outputs": []
    },
    {
      "cell_type": "code",
      "metadata": {
        "id": "tUhw6UvcrW-m",
        "colab_type": "code",
        "colab": {}
      },
      "source": [
        ""
      ],
      "execution_count": 0,
      "outputs": []
    },
    {
      "cell_type": "code",
      "metadata": {
        "id": "fYuA1G8MrW2B",
        "colab_type": "code",
        "colab": {}
      },
      "source": [
        ""
      ],
      "execution_count": 0,
      "outputs": []
    }
  ]
}