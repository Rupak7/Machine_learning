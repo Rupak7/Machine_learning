{
  "nbformat": 4,
  "nbformat_minor": 0,
  "metadata": {
    "colab": {
      "name": "TensorFlow with GPU",
      "provenance": [],
      "collapsed_sections": []
    },
    "kernelspec": {
      "name": "python3",
      "display_name": "Python 3"
    },
    "accelerator": "GPU"
  },
  "cells": [
    {
      "cell_type": "code",
      "metadata": {
        "id": "19i5fArgQ9Lf",
        "colab_type": "code",
        "colab": {}
      },
      "source": [
        "import pandas as pd\n",
        "import matplotlib.pyplot as plt\n",
        "import numpy as np"
      ],
      "execution_count": 0,
      "outputs": []
    },
    {
      "cell_type": "code",
      "metadata": {
        "id": "Vq1HWzvTMfQv",
        "colab_type": "code",
        "colab": {}
      },
      "source": [
        "dtrain = pd.read_csv('train.csv')\n",
        "dtest =  pd.read_csv('test.csv')"
      ],
      "execution_count": 0,
      "outputs": []
    },
    {
      "cell_type": "code",
      "metadata": {
        "id": "VPJxiP4ZMfSa",
        "colab_type": "code",
        "colab": {
          "base_uri": "https://localhost:8080/",
          "height": 221
        },
        "outputId": "19b5801b-2cd5-4d89-a67a-f82f806084a3"
      },
      "source": [
        "train= dtrain.copy()\n",
        "print(train.shape)\n",
        "train.head()"
      ],
      "execution_count": 14,
      "outputs": [
        {
          "output_type": "stream",
          "text": [
            "(330045, 7)\n"
          ],
          "name": "stdout"
        },
        {
          "output_type": "execute_result",
          "data": {
            "text/html": [
              "<div>\n",
              "<style scoped>\n",
              "    .dataframe tbody tr th:only-of-type {\n",
              "        vertical-align: middle;\n",
              "    }\n",
              "\n",
              "    .dataframe tbody tr th {\n",
              "        vertical-align: top;\n",
              "    }\n",
              "\n",
              "    .dataframe thead th {\n",
              "        text-align: right;\n",
              "    }\n",
              "</style>\n",
              "<table border=\"1\" class=\"dataframe\">\n",
              "  <thead>\n",
              "    <tr style=\"text-align: right;\">\n",
              "      <th></th>\n",
              "      <th>ID</th>\n",
              "      <th>Tag</th>\n",
              "      <th>Reputation</th>\n",
              "      <th>Answers</th>\n",
              "      <th>Username</th>\n",
              "      <th>Views</th>\n",
              "      <th>Upvotes</th>\n",
              "    </tr>\n",
              "  </thead>\n",
              "  <tbody>\n",
              "    <tr>\n",
              "      <th>0</th>\n",
              "      <td>52664</td>\n",
              "      <td>a</td>\n",
              "      <td>3942.0</td>\n",
              "      <td>2.0</td>\n",
              "      <td>155623</td>\n",
              "      <td>7855.0</td>\n",
              "      <td>42.0</td>\n",
              "    </tr>\n",
              "    <tr>\n",
              "      <th>1</th>\n",
              "      <td>327662</td>\n",
              "      <td>a</td>\n",
              "      <td>26046.0</td>\n",
              "      <td>12.0</td>\n",
              "      <td>21781</td>\n",
              "      <td>55801.0</td>\n",
              "      <td>1175.0</td>\n",
              "    </tr>\n",
              "    <tr>\n",
              "      <th>2</th>\n",
              "      <td>468453</td>\n",
              "      <td>c</td>\n",
              "      <td>1358.0</td>\n",
              "      <td>4.0</td>\n",
              "      <td>56177</td>\n",
              "      <td>8067.0</td>\n",
              "      <td>60.0</td>\n",
              "    </tr>\n",
              "    <tr>\n",
              "      <th>3</th>\n",
              "      <td>96996</td>\n",
              "      <td>a</td>\n",
              "      <td>264.0</td>\n",
              "      <td>3.0</td>\n",
              "      <td>168793</td>\n",
              "      <td>27064.0</td>\n",
              "      <td>9.0</td>\n",
              "    </tr>\n",
              "    <tr>\n",
              "      <th>4</th>\n",
              "      <td>131465</td>\n",
              "      <td>c</td>\n",
              "      <td>4271.0</td>\n",
              "      <td>4.0</td>\n",
              "      <td>112223</td>\n",
              "      <td>13986.0</td>\n",
              "      <td>83.0</td>\n",
              "    </tr>\n",
              "  </tbody>\n",
              "</table>\n",
              "</div>"
            ],
            "text/plain": [
              "       ID Tag  Reputation  Answers  Username    Views  Upvotes\n",
              "0   52664   a      3942.0      2.0    155623   7855.0     42.0\n",
              "1  327662   a     26046.0     12.0     21781  55801.0   1175.0\n",
              "2  468453   c      1358.0      4.0     56177   8067.0     60.0\n",
              "3   96996   a       264.0      3.0    168793  27064.0      9.0\n",
              "4  131465   c      4271.0      4.0    112223  13986.0     83.0"
            ]
          },
          "metadata": {
            "tags": []
          },
          "execution_count": 14
        }
      ]
    },
    {
      "cell_type": "code",
      "metadata": {
        "id": "IyGpCORoUKYY",
        "colab_type": "code",
        "colab": {
          "base_uri": "https://localhost:8080/",
          "height": 297
        },
        "outputId": "3b36d6fb-78f4-4d76-fdba-21f1604a0acb"
      },
      "source": [
        "train.describe()"
      ],
      "execution_count": 16,
      "outputs": [
        {
          "output_type": "execute_result",
          "data": {
            "text/html": [
              "<div>\n",
              "<style scoped>\n",
              "    .dataframe tbody tr th:only-of-type {\n",
              "        vertical-align: middle;\n",
              "    }\n",
              "\n",
              "    .dataframe tbody tr th {\n",
              "        vertical-align: top;\n",
              "    }\n",
              "\n",
              "    .dataframe thead th {\n",
              "        text-align: right;\n",
              "    }\n",
              "</style>\n",
              "<table border=\"1\" class=\"dataframe\">\n",
              "  <thead>\n",
              "    <tr style=\"text-align: right;\">\n",
              "      <th></th>\n",
              "      <th>ID</th>\n",
              "      <th>Reputation</th>\n",
              "      <th>Answers</th>\n",
              "      <th>Username</th>\n",
              "      <th>Views</th>\n",
              "      <th>Upvotes</th>\n",
              "    </tr>\n",
              "  </thead>\n",
              "  <tbody>\n",
              "    <tr>\n",
              "      <th>count</th>\n",
              "      <td>330045.000000</td>\n",
              "      <td>3.300450e+05</td>\n",
              "      <td>330045.000000</td>\n",
              "      <td>330045.000000</td>\n",
              "      <td>3.300450e+05</td>\n",
              "      <td>330045.000000</td>\n",
              "    </tr>\n",
              "    <tr>\n",
              "      <th>mean</th>\n",
              "      <td>235748.682789</td>\n",
              "      <td>7.773147e+03</td>\n",
              "      <td>3.917672</td>\n",
              "      <td>81442.888803</td>\n",
              "      <td>2.964507e+04</td>\n",
              "      <td>337.505358</td>\n",
              "    </tr>\n",
              "    <tr>\n",
              "      <th>std</th>\n",
              "      <td>136039.418471</td>\n",
              "      <td>2.706141e+04</td>\n",
              "      <td>3.579515</td>\n",
              "      <td>49215.100730</td>\n",
              "      <td>8.095646e+04</td>\n",
              "      <td>3592.441135</td>\n",
              "    </tr>\n",
              "    <tr>\n",
              "      <th>min</th>\n",
              "      <td>1.000000</td>\n",
              "      <td>0.000000e+00</td>\n",
              "      <td>0.000000</td>\n",
              "      <td>0.000000</td>\n",
              "      <td>9.000000e+00</td>\n",
              "      <td>0.000000</td>\n",
              "    </tr>\n",
              "    <tr>\n",
              "      <th>25%</th>\n",
              "      <td>117909.000000</td>\n",
              "      <td>2.820000e+02</td>\n",
              "      <td>2.000000</td>\n",
              "      <td>39808.000000</td>\n",
              "      <td>2.594000e+03</td>\n",
              "      <td>8.000000</td>\n",
              "    </tr>\n",
              "    <tr>\n",
              "      <th>50%</th>\n",
              "      <td>235699.000000</td>\n",
              "      <td>1.236000e+03</td>\n",
              "      <td>3.000000</td>\n",
              "      <td>79010.000000</td>\n",
              "      <td>8.954000e+03</td>\n",
              "      <td>28.000000</td>\n",
              "    </tr>\n",
              "    <tr>\n",
              "      <th>75%</th>\n",
              "      <td>353620.000000</td>\n",
              "      <td>5.118000e+03</td>\n",
              "      <td>5.000000</td>\n",
              "      <td>122559.000000</td>\n",
              "      <td>2.687000e+04</td>\n",
              "      <td>107.000000</td>\n",
              "    </tr>\n",
              "    <tr>\n",
              "      <th>max</th>\n",
              "      <td>471493.000000</td>\n",
              "      <td>1.042428e+06</td>\n",
              "      <td>76.000000</td>\n",
              "      <td>175738.000000</td>\n",
              "      <td>5.231058e+06</td>\n",
              "      <td>615278.000000</td>\n",
              "    </tr>\n",
              "  </tbody>\n",
              "</table>\n",
              "</div>"
            ],
            "text/plain": [
              "                  ID    Reputation  ...         Views        Upvotes\n",
              "count  330045.000000  3.300450e+05  ...  3.300450e+05  330045.000000\n",
              "mean   235748.682789  7.773147e+03  ...  2.964507e+04     337.505358\n",
              "std    136039.418471  2.706141e+04  ...  8.095646e+04    3592.441135\n",
              "min         1.000000  0.000000e+00  ...  9.000000e+00       0.000000\n",
              "25%    117909.000000  2.820000e+02  ...  2.594000e+03       8.000000\n",
              "50%    235699.000000  1.236000e+03  ...  8.954000e+03      28.000000\n",
              "75%    353620.000000  5.118000e+03  ...  2.687000e+04     107.000000\n",
              "max    471493.000000  1.042428e+06  ...  5.231058e+06  615278.000000\n",
              "\n",
              "[8 rows x 6 columns]"
            ]
          },
          "metadata": {
            "tags": []
          },
          "execution_count": 16
        }
      ]
    },
    {
      "cell_type": "code",
      "metadata": {
        "id": "B__La3c-UbK4",
        "colab_type": "code",
        "colab": {
          "base_uri": "https://localhost:8080/",
          "height": 221
        },
        "outputId": "6a6d6358-fd84-4e0e-91a4-5b9acdb672f5"
      },
      "source": [
        "train.info()"
      ],
      "execution_count": 17,
      "outputs": [
        {
          "output_type": "stream",
          "text": [
            "<class 'pandas.core.frame.DataFrame'>\n",
            "RangeIndex: 330045 entries, 0 to 330044\n",
            "Data columns (total 7 columns):\n",
            "ID            330045 non-null int64\n",
            "Tag           330045 non-null object\n",
            "Reputation    330045 non-null float64\n",
            "Answers       330045 non-null float64\n",
            "Username      330045 non-null int64\n",
            "Views         330045 non-null float64\n",
            "Upvotes       330045 non-null float64\n",
            "dtypes: float64(4), int64(2), object(1)\n",
            "memory usage: 17.6+ MB\n"
          ],
          "name": "stdout"
        }
      ]
    },
    {
      "cell_type": "code",
      "metadata": {
        "id": "mB15uSBrU4Lp",
        "colab_type": "code",
        "colab": {
          "base_uri": "https://localhost:8080/",
          "height": 51
        },
        "outputId": "2b08d106-497d-4c5d-fef2-539e5d2dd117"
      },
      "source": [
        "train.Tag.value_counts().unique()"
      ],
      "execution_count": 22,
      "outputs": [
        {
          "output_type": "execute_result",
          "data": {
            "text/plain": [
              "array([72458, 72232, 43407, 32400, 31695, 23323, 20564, 14546, 12442,\n",
              "        6978])"
            ]
          },
          "metadata": {
            "tags": []
          },
          "execution_count": 22
        }
      ]
    },
    {
      "cell_type": "code",
      "metadata": {
        "id": "KloDhx6WVBIo",
        "colab_type": "code",
        "colab": {
          "base_uri": "https://localhost:8080/",
          "height": 51
        },
        "outputId": "da0dd151-96fe-4858-f63e-cd1858b9518d"
      },
      "source": [
        "print(train.Tag.nunique())\n",
        "train.Tag.unique()"
      ],
      "execution_count": 29,
      "outputs": [
        {
          "output_type": "stream",
          "text": [
            "10\n"
          ],
          "name": "stdout"
        },
        {
          "output_type": "execute_result",
          "data": {
            "text/plain": [
              "array(['a', 'c', 'r', 'j', 'p', 's', 'h', 'o', 'i', 'x'], dtype=object)"
            ]
          },
          "metadata": {
            "tags": []
          },
          "execution_count": 29
        }
      ]
    },
    {
      "cell_type": "code",
      "metadata": {
        "id": "J8M7I65TUivO",
        "colab_type": "code",
        "colab": {
          "base_uri": "https://localhost:8080/",
          "height": 359
        },
        "outputId": "30ece84f-a21d-4f3c-ac0c-35000d9f3a07"
      },
      "source": [
        "pd.DataFrame(train.Tag.value_counts())"
      ],
      "execution_count": 28,
      "outputs": [
        {
          "output_type": "execute_result",
          "data": {
            "text/html": [
              "<div>\n",
              "<style scoped>\n",
              "    .dataframe tbody tr th:only-of-type {\n",
              "        vertical-align: middle;\n",
              "    }\n",
              "\n",
              "    .dataframe tbody tr th {\n",
              "        vertical-align: top;\n",
              "    }\n",
              "\n",
              "    .dataframe thead th {\n",
              "        text-align: right;\n",
              "    }\n",
              "</style>\n",
              "<table border=\"1\" class=\"dataframe\">\n",
              "  <thead>\n",
              "    <tr style=\"text-align: right;\">\n",
              "      <th></th>\n",
              "      <th>Tag</th>\n",
              "    </tr>\n",
              "  </thead>\n",
              "  <tbody>\n",
              "    <tr>\n",
              "      <th>c</th>\n",
              "      <td>72458</td>\n",
              "    </tr>\n",
              "    <tr>\n",
              "      <th>j</th>\n",
              "      <td>72232</td>\n",
              "    </tr>\n",
              "    <tr>\n",
              "      <th>p</th>\n",
              "      <td>43407</td>\n",
              "    </tr>\n",
              "    <tr>\n",
              "      <th>i</th>\n",
              "      <td>32400</td>\n",
              "    </tr>\n",
              "    <tr>\n",
              "      <th>a</th>\n",
              "      <td>31695</td>\n",
              "    </tr>\n",
              "    <tr>\n",
              "      <th>s</th>\n",
              "      <td>23323</td>\n",
              "    </tr>\n",
              "    <tr>\n",
              "      <th>h</th>\n",
              "      <td>20564</td>\n",
              "    </tr>\n",
              "    <tr>\n",
              "      <th>o</th>\n",
              "      <td>14546</td>\n",
              "    </tr>\n",
              "    <tr>\n",
              "      <th>r</th>\n",
              "      <td>12442</td>\n",
              "    </tr>\n",
              "    <tr>\n",
              "      <th>x</th>\n",
              "      <td>6978</td>\n",
              "    </tr>\n",
              "  </tbody>\n",
              "</table>\n",
              "</div>"
            ],
            "text/plain": [
              "     Tag\n",
              "c  72458\n",
              "j  72232\n",
              "p  43407\n",
              "i  32400\n",
              "a  31695\n",
              "s  23323\n",
              "h  20564\n",
              "o  14546\n",
              "r  12442\n",
              "x   6978"
            ]
          },
          "metadata": {
            "tags": []
          },
          "execution_count": 28
        }
      ]
    },
    {
      "cell_type": "code",
      "metadata": {
        "id": "IADGZaKCMfWz",
        "colab_type": "code",
        "colab": {}
      },
      "source": [
        "test = dtest.copy()\n",
        "print(test.shape)\n",
        "test.head(10)"
      ],
      "execution_count": 0,
      "outputs": []
    },
    {
      "cell_type": "code",
      "metadata": {
        "id": "jCwvDY9Jmnsr",
        "colab_type": "code",
        "colab": {
          "base_uri": "https://localhost:8080/",
          "height": 34
        },
        "outputId": "647b8655-801f-4952-9a8b-21f78dc63fe2"
      },
      "source": [
        "k = list(test['ID'])\n",
        "k.sort()\n",
        "k[:10]"
      ],
      "execution_count": 110,
      "outputs": [
        {
          "output_type": "execute_result",
          "data": {
            "text/plain": [
              "[7, 9, 12, 13, 16, 17, 22, 25, 26, 27]"
            ]
          },
          "metadata": {
            "tags": []
          },
          "execution_count": 110
        }
      ]
    },
    {
      "cell_type": "code",
      "metadata": {
        "id": "fa8_8NdnMfd8",
        "colab_type": "code",
        "colab": {
          "base_uri": "https://localhost:8080/",
          "height": 297
        },
        "outputId": "d9892dd6-8659-411d-a086-0997589de2d4"
      },
      "source": [
        "test.describe()"
      ],
      "execution_count": 30,
      "outputs": [
        {
          "output_type": "execute_result",
          "data": {
            "text/html": [
              "<div>\n",
              "<style scoped>\n",
              "    .dataframe tbody tr th:only-of-type {\n",
              "        vertical-align: middle;\n",
              "    }\n",
              "\n",
              "    .dataframe tbody tr th {\n",
              "        vertical-align: top;\n",
              "    }\n",
              "\n",
              "    .dataframe thead th {\n",
              "        text-align: right;\n",
              "    }\n",
              "</style>\n",
              "<table border=\"1\" class=\"dataframe\">\n",
              "  <thead>\n",
              "    <tr style=\"text-align: right;\">\n",
              "      <th></th>\n",
              "      <th>ID</th>\n",
              "      <th>Reputation</th>\n",
              "      <th>Answers</th>\n",
              "      <th>Username</th>\n",
              "      <th>Views</th>\n",
              "    </tr>\n",
              "  </thead>\n",
              "  <tbody>\n",
              "    <tr>\n",
              "      <th>count</th>\n",
              "      <td>141448.000000</td>\n",
              "      <td>1.414480e+05</td>\n",
              "      <td>141448.000000</td>\n",
              "      <td>141448.000000</td>\n",
              "      <td>1.414480e+05</td>\n",
              "    </tr>\n",
              "    <tr>\n",
              "      <th>mean</th>\n",
              "      <td>235743.073497</td>\n",
              "      <td>7.920927e+03</td>\n",
              "      <td>3.914873</td>\n",
              "      <td>81348.231117</td>\n",
              "      <td>2.984633e+04</td>\n",
              "    </tr>\n",
              "    <tr>\n",
              "      <th>std</th>\n",
              "      <td>136269.867118</td>\n",
              "      <td>2.791072e+04</td>\n",
              "      <td>3.577460</td>\n",
              "      <td>49046.098215</td>\n",
              "      <td>8.034374e+04</td>\n",
              "    </tr>\n",
              "    <tr>\n",
              "      <th>min</th>\n",
              "      <td>7.000000</td>\n",
              "      <td>0.000000e+00</td>\n",
              "      <td>0.000000</td>\n",
              "      <td>4.000000</td>\n",
              "      <td>9.000000e+00</td>\n",
              "    </tr>\n",
              "    <tr>\n",
              "      <th>25%</th>\n",
              "      <td>117797.000000</td>\n",
              "      <td>2.860000e+02</td>\n",
              "      <td>2.000000</td>\n",
              "      <td>40222.750000</td>\n",
              "      <td>2.608000e+03</td>\n",
              "    </tr>\n",
              "    <tr>\n",
              "      <th>50%</th>\n",
              "      <td>235830.000000</td>\n",
              "      <td>1.245000e+03</td>\n",
              "      <td>3.000000</td>\n",
              "      <td>78795.500000</td>\n",
              "      <td>8.977000e+03</td>\n",
              "    </tr>\n",
              "    <tr>\n",
              "      <th>75%</th>\n",
              "      <td>353616.000000</td>\n",
              "      <td>5.123000e+03</td>\n",
              "      <td>5.000000</td>\n",
              "      <td>122149.000000</td>\n",
              "      <td>2.698925e+04</td>\n",
              "    </tr>\n",
              "    <tr>\n",
              "      <th>max</th>\n",
              "      <td>471488.000000</td>\n",
              "      <td>1.042428e+06</td>\n",
              "      <td>73.000000</td>\n",
              "      <td>175737.000000</td>\n",
              "      <td>5.004669e+06</td>\n",
              "    </tr>\n",
              "  </tbody>\n",
              "</table>\n",
              "</div>"
            ],
            "text/plain": [
              "                  ID    Reputation        Answers       Username         Views\n",
              "count  141448.000000  1.414480e+05  141448.000000  141448.000000  1.414480e+05\n",
              "mean   235743.073497  7.920927e+03       3.914873   81348.231117  2.984633e+04\n",
              "std    136269.867118  2.791072e+04       3.577460   49046.098215  8.034374e+04\n",
              "min         7.000000  0.000000e+00       0.000000       4.000000  9.000000e+00\n",
              "25%    117797.000000  2.860000e+02       2.000000   40222.750000  2.608000e+03\n",
              "50%    235830.000000  1.245000e+03       3.000000   78795.500000  8.977000e+03\n",
              "75%    353616.000000  5.123000e+03       5.000000  122149.000000  2.698925e+04\n",
              "max    471488.000000  1.042428e+06      73.000000  175737.000000  5.004669e+06"
            ]
          },
          "metadata": {
            "tags": []
          },
          "execution_count": 30
        }
      ]
    },
    {
      "cell_type": "code",
      "metadata": {
        "id": "fOCLoGSFMfhz",
        "colab_type": "code",
        "colab": {
          "base_uri": "https://localhost:8080/",
          "height": 204
        },
        "outputId": "4a1cbaaf-ac05-4808-db65-d4cdd5a78785"
      },
      "source": [
        "test.info()"
      ],
      "execution_count": 31,
      "outputs": [
        {
          "output_type": "stream",
          "text": [
            "<class 'pandas.core.frame.DataFrame'>\n",
            "RangeIndex: 141448 entries, 0 to 141447\n",
            "Data columns (total 6 columns):\n",
            "ID            141448 non-null int64\n",
            "Tag           141448 non-null object\n",
            "Reputation    141448 non-null float64\n",
            "Answers       141448 non-null float64\n",
            "Username      141448 non-null int64\n",
            "Views         141448 non-null float64\n",
            "dtypes: float64(3), int64(2), object(1)\n",
            "memory usage: 6.5+ MB\n"
          ],
          "name": "stdout"
        }
      ]
    },
    {
      "cell_type": "code",
      "metadata": {
        "id": "vlmdBapqMfs5",
        "colab_type": "code",
        "colab": {
          "base_uri": "https://localhost:8080/",
          "height": 359
        },
        "outputId": "ef9b483f-12c5-4bd5-e2e8-029456c9dee5"
      },
      "source": [
        "pd.DataFrame(test.Tag.value_counts())"
      ],
      "execution_count": 32,
      "outputs": [
        {
          "output_type": "execute_result",
          "data": {
            "text/html": [
              "<div>\n",
              "<style scoped>\n",
              "    .dataframe tbody tr th:only-of-type {\n",
              "        vertical-align: middle;\n",
              "    }\n",
              "\n",
              "    .dataframe tbody tr th {\n",
              "        vertical-align: top;\n",
              "    }\n",
              "\n",
              "    .dataframe thead th {\n",
              "        text-align: right;\n",
              "    }\n",
              "</style>\n",
              "<table border=\"1\" class=\"dataframe\">\n",
              "  <thead>\n",
              "    <tr style=\"text-align: right;\">\n",
              "      <th></th>\n",
              "      <th>Tag</th>\n",
              "    </tr>\n",
              "  </thead>\n",
              "  <tbody>\n",
              "    <tr>\n",
              "      <th>j</th>\n",
              "      <td>30811</td>\n",
              "    </tr>\n",
              "    <tr>\n",
              "      <th>c</th>\n",
              "      <td>30793</td>\n",
              "    </tr>\n",
              "    <tr>\n",
              "      <th>p</th>\n",
              "      <td>18713</td>\n",
              "    </tr>\n",
              "    <tr>\n",
              "      <th>i</th>\n",
              "      <td>14100</td>\n",
              "    </tr>\n",
              "    <tr>\n",
              "      <th>a</th>\n",
              "      <td>13558</td>\n",
              "    </tr>\n",
              "    <tr>\n",
              "      <th>s</th>\n",
              "      <td>10088</td>\n",
              "    </tr>\n",
              "    <tr>\n",
              "      <th>h</th>\n",
              "      <td>8782</td>\n",
              "    </tr>\n",
              "    <tr>\n",
              "      <th>o</th>\n",
              "      <td>6296</td>\n",
              "    </tr>\n",
              "    <tr>\n",
              "      <th>r</th>\n",
              "      <td>5313</td>\n",
              "    </tr>\n",
              "    <tr>\n",
              "      <th>x</th>\n",
              "      <td>2994</td>\n",
              "    </tr>\n",
              "  </tbody>\n",
              "</table>\n",
              "</div>"
            ],
            "text/plain": [
              "     Tag\n",
              "j  30811\n",
              "c  30793\n",
              "p  18713\n",
              "i  14100\n",
              "a  13558\n",
              "s  10088\n",
              "h   8782\n",
              "o   6296\n",
              "r   5313\n",
              "x   2994"
            ]
          },
          "metadata": {
            "tags": []
          },
          "execution_count": 32
        }
      ]
    },
    {
      "cell_type": "code",
      "metadata": {
        "id": "udcFZd_qWpvG",
        "colab_type": "code",
        "colab": {
          "base_uri": "https://localhost:8080/",
          "height": 221
        },
        "outputId": "83419147-e3b5-47ea-fd2c-5b6e11cdd526"
      },
      "source": [
        "#test['Upvotes'] = [ i for i in range(len(test))]\n",
        "test['Upvotes'] = np.nan\n",
        "print(test.shape)\n",
        "test.head()"
      ],
      "execution_count": 49,
      "outputs": [
        {
          "output_type": "stream",
          "text": [
            "(141448, 7)\n"
          ],
          "name": "stdout"
        },
        {
          "output_type": "execute_result",
          "data": {
            "text/html": [
              "<div>\n",
              "<style scoped>\n",
              "    .dataframe tbody tr th:only-of-type {\n",
              "        vertical-align: middle;\n",
              "    }\n",
              "\n",
              "    .dataframe tbody tr th {\n",
              "        vertical-align: top;\n",
              "    }\n",
              "\n",
              "    .dataframe thead th {\n",
              "        text-align: right;\n",
              "    }\n",
              "</style>\n",
              "<table border=\"1\" class=\"dataframe\">\n",
              "  <thead>\n",
              "    <tr style=\"text-align: right;\">\n",
              "      <th></th>\n",
              "      <th>ID</th>\n",
              "      <th>Tag</th>\n",
              "      <th>Reputation</th>\n",
              "      <th>Answers</th>\n",
              "      <th>Username</th>\n",
              "      <th>Views</th>\n",
              "      <th>Upvotes</th>\n",
              "    </tr>\n",
              "  </thead>\n",
              "  <tbody>\n",
              "    <tr>\n",
              "      <th>0</th>\n",
              "      <td>366953</td>\n",
              "      <td>a</td>\n",
              "      <td>5645.0</td>\n",
              "      <td>3.0</td>\n",
              "      <td>50652</td>\n",
              "      <td>33200.0</td>\n",
              "      <td>NaN</td>\n",
              "    </tr>\n",
              "    <tr>\n",
              "      <th>1</th>\n",
              "      <td>71864</td>\n",
              "      <td>c</td>\n",
              "      <td>24511.0</td>\n",
              "      <td>6.0</td>\n",
              "      <td>37685</td>\n",
              "      <td>2730.0</td>\n",
              "      <td>NaN</td>\n",
              "    </tr>\n",
              "    <tr>\n",
              "      <th>2</th>\n",
              "      <td>141692</td>\n",
              "      <td>i</td>\n",
              "      <td>927.0</td>\n",
              "      <td>1.0</td>\n",
              "      <td>135293</td>\n",
              "      <td>21167.0</td>\n",
              "      <td>NaN</td>\n",
              "    </tr>\n",
              "    <tr>\n",
              "      <th>3</th>\n",
              "      <td>316833</td>\n",
              "      <td>i</td>\n",
              "      <td>21.0</td>\n",
              "      <td>6.0</td>\n",
              "      <td>166998</td>\n",
              "      <td>18528.0</td>\n",
              "      <td>NaN</td>\n",
              "    </tr>\n",
              "    <tr>\n",
              "      <th>4</th>\n",
              "      <td>440445</td>\n",
              "      <td>i</td>\n",
              "      <td>4475.0</td>\n",
              "      <td>10.0</td>\n",
              "      <td>53504</td>\n",
              "      <td>57240.0</td>\n",
              "      <td>NaN</td>\n",
              "    </tr>\n",
              "  </tbody>\n",
              "</table>\n",
              "</div>"
            ],
            "text/plain": [
              "       ID Tag  Reputation  Answers  Username    Views  Upvotes\n",
              "0  366953   a      5645.0      3.0     50652  33200.0      NaN\n",
              "1   71864   c     24511.0      6.0     37685   2730.0      NaN\n",
              "2  141692   i       927.0      1.0    135293  21167.0      NaN\n",
              "3  316833   i        21.0      6.0    166998  18528.0      NaN\n",
              "4  440445   i      4475.0     10.0     53504  57240.0      NaN"
            ]
          },
          "metadata": {
            "tags": []
          },
          "execution_count": 49
        }
      ]
    },
    {
      "cell_type": "markdown",
      "metadata": {
        "id": "adPRY0mrXMAE",
        "colab_type": "text"
      },
      "source": [
        "#Concatenate Both training and testing set"
      ]
    },
    {
      "cell_type": "code",
      "metadata": {
        "id": "39SXFtm9XLDe",
        "colab_type": "code",
        "colab": {}
      },
      "source": [
        "train['recognize'] = 1\n",
        "test['recognize'] = 0"
      ],
      "execution_count": 0,
      "outputs": []
    },
    {
      "cell_type": "code",
      "metadata": {
        "id": "6uhdw-ZaXZMQ",
        "colab_type": "code",
        "colab": {
          "base_uri": "https://localhost:8080/",
          "height": 204
        },
        "outputId": "0d3a3b68-eabc-47f8-efde-8a466ba7fb73"
      },
      "source": [
        "train.head()"
      ],
      "execution_count": 51,
      "outputs": [
        {
          "output_type": "execute_result",
          "data": {
            "text/html": [
              "<div>\n",
              "<style scoped>\n",
              "    .dataframe tbody tr th:only-of-type {\n",
              "        vertical-align: middle;\n",
              "    }\n",
              "\n",
              "    .dataframe tbody tr th {\n",
              "        vertical-align: top;\n",
              "    }\n",
              "\n",
              "    .dataframe thead th {\n",
              "        text-align: right;\n",
              "    }\n",
              "</style>\n",
              "<table border=\"1\" class=\"dataframe\">\n",
              "  <thead>\n",
              "    <tr style=\"text-align: right;\">\n",
              "      <th></th>\n",
              "      <th>ID</th>\n",
              "      <th>Tag</th>\n",
              "      <th>Reputation</th>\n",
              "      <th>Answers</th>\n",
              "      <th>Username</th>\n",
              "      <th>Views</th>\n",
              "      <th>Upvotes</th>\n",
              "      <th>recognize</th>\n",
              "    </tr>\n",
              "  </thead>\n",
              "  <tbody>\n",
              "    <tr>\n",
              "      <th>0</th>\n",
              "      <td>52664</td>\n",
              "      <td>a</td>\n",
              "      <td>3942.0</td>\n",
              "      <td>2.0</td>\n",
              "      <td>155623</td>\n",
              "      <td>7855.0</td>\n",
              "      <td>42.0</td>\n",
              "      <td>1</td>\n",
              "    </tr>\n",
              "    <tr>\n",
              "      <th>1</th>\n",
              "      <td>327662</td>\n",
              "      <td>a</td>\n",
              "      <td>26046.0</td>\n",
              "      <td>12.0</td>\n",
              "      <td>21781</td>\n",
              "      <td>55801.0</td>\n",
              "      <td>1175.0</td>\n",
              "      <td>1</td>\n",
              "    </tr>\n",
              "    <tr>\n",
              "      <th>2</th>\n",
              "      <td>468453</td>\n",
              "      <td>c</td>\n",
              "      <td>1358.0</td>\n",
              "      <td>4.0</td>\n",
              "      <td>56177</td>\n",
              "      <td>8067.0</td>\n",
              "      <td>60.0</td>\n",
              "      <td>1</td>\n",
              "    </tr>\n",
              "    <tr>\n",
              "      <th>3</th>\n",
              "      <td>96996</td>\n",
              "      <td>a</td>\n",
              "      <td>264.0</td>\n",
              "      <td>3.0</td>\n",
              "      <td>168793</td>\n",
              "      <td>27064.0</td>\n",
              "      <td>9.0</td>\n",
              "      <td>1</td>\n",
              "    </tr>\n",
              "    <tr>\n",
              "      <th>4</th>\n",
              "      <td>131465</td>\n",
              "      <td>c</td>\n",
              "      <td>4271.0</td>\n",
              "      <td>4.0</td>\n",
              "      <td>112223</td>\n",
              "      <td>13986.0</td>\n",
              "      <td>83.0</td>\n",
              "      <td>1</td>\n",
              "    </tr>\n",
              "  </tbody>\n",
              "</table>\n",
              "</div>"
            ],
            "text/plain": [
              "       ID Tag  Reputation  Answers  Username    Views  Upvotes  recognize\n",
              "0   52664   a      3942.0      2.0    155623   7855.0     42.0          1\n",
              "1  327662   a     26046.0     12.0     21781  55801.0   1175.0          1\n",
              "2  468453   c      1358.0      4.0     56177   8067.0     60.0          1\n",
              "3   96996   a       264.0      3.0    168793  27064.0      9.0          1\n",
              "4  131465   c      4271.0      4.0    112223  13986.0     83.0          1"
            ]
          },
          "metadata": {
            "tags": []
          },
          "execution_count": 51
        }
      ]
    },
    {
      "cell_type": "code",
      "metadata": {
        "id": "4FJRp7-nXnpq",
        "colab_type": "code",
        "colab": {
          "base_uri": "https://localhost:8080/",
          "height": 204
        },
        "outputId": "e04e2a11-e115-48c8-b7b8-1f26751dc126"
      },
      "source": [
        "test.head()"
      ],
      "execution_count": 52,
      "outputs": [
        {
          "output_type": "execute_result",
          "data": {
            "text/html": [
              "<div>\n",
              "<style scoped>\n",
              "    .dataframe tbody tr th:only-of-type {\n",
              "        vertical-align: middle;\n",
              "    }\n",
              "\n",
              "    .dataframe tbody tr th {\n",
              "        vertical-align: top;\n",
              "    }\n",
              "\n",
              "    .dataframe thead th {\n",
              "        text-align: right;\n",
              "    }\n",
              "</style>\n",
              "<table border=\"1\" class=\"dataframe\">\n",
              "  <thead>\n",
              "    <tr style=\"text-align: right;\">\n",
              "      <th></th>\n",
              "      <th>ID</th>\n",
              "      <th>Tag</th>\n",
              "      <th>Reputation</th>\n",
              "      <th>Answers</th>\n",
              "      <th>Username</th>\n",
              "      <th>Views</th>\n",
              "      <th>Upvotes</th>\n",
              "      <th>recognize</th>\n",
              "    </tr>\n",
              "  </thead>\n",
              "  <tbody>\n",
              "    <tr>\n",
              "      <th>0</th>\n",
              "      <td>366953</td>\n",
              "      <td>a</td>\n",
              "      <td>5645.0</td>\n",
              "      <td>3.0</td>\n",
              "      <td>50652</td>\n",
              "      <td>33200.0</td>\n",
              "      <td>NaN</td>\n",
              "      <td>0</td>\n",
              "    </tr>\n",
              "    <tr>\n",
              "      <th>1</th>\n",
              "      <td>71864</td>\n",
              "      <td>c</td>\n",
              "      <td>24511.0</td>\n",
              "      <td>6.0</td>\n",
              "      <td>37685</td>\n",
              "      <td>2730.0</td>\n",
              "      <td>NaN</td>\n",
              "      <td>0</td>\n",
              "    </tr>\n",
              "    <tr>\n",
              "      <th>2</th>\n",
              "      <td>141692</td>\n",
              "      <td>i</td>\n",
              "      <td>927.0</td>\n",
              "      <td>1.0</td>\n",
              "      <td>135293</td>\n",
              "      <td>21167.0</td>\n",
              "      <td>NaN</td>\n",
              "      <td>0</td>\n",
              "    </tr>\n",
              "    <tr>\n",
              "      <th>3</th>\n",
              "      <td>316833</td>\n",
              "      <td>i</td>\n",
              "      <td>21.0</td>\n",
              "      <td>6.0</td>\n",
              "      <td>166998</td>\n",
              "      <td>18528.0</td>\n",
              "      <td>NaN</td>\n",
              "      <td>0</td>\n",
              "    </tr>\n",
              "    <tr>\n",
              "      <th>4</th>\n",
              "      <td>440445</td>\n",
              "      <td>i</td>\n",
              "      <td>4475.0</td>\n",
              "      <td>10.0</td>\n",
              "      <td>53504</td>\n",
              "      <td>57240.0</td>\n",
              "      <td>NaN</td>\n",
              "      <td>0</td>\n",
              "    </tr>\n",
              "  </tbody>\n",
              "</table>\n",
              "</div>"
            ],
            "text/plain": [
              "       ID Tag  Reputation  Answers  Username    Views  Upvotes  recognize\n",
              "0  366953   a      5645.0      3.0     50652  33200.0      NaN          0\n",
              "1   71864   c     24511.0      6.0     37685   2730.0      NaN          0\n",
              "2  141692   i       927.0      1.0    135293  21167.0      NaN          0\n",
              "3  316833   i        21.0      6.0    166998  18528.0      NaN          0\n",
              "4  440445   i      4475.0     10.0     53504  57240.0      NaN          0"
            ]
          },
          "metadata": {
            "tags": []
          },
          "execution_count": 52
        }
      ]
    },
    {
      "cell_type": "code",
      "metadata": {
        "id": "rzrYyRrvMfyG",
        "colab_type": "code",
        "colab": {
          "base_uri": "https://localhost:8080/",
          "height": 221
        },
        "outputId": "007d9eea-d688-4480-8613-5be646b1430b"
      },
      "source": [
        "both = pd.concat([train , test] , ignore_index=True)\n",
        "print(both.shape)\n",
        "both.head()"
      ],
      "execution_count": 54,
      "outputs": [
        {
          "output_type": "stream",
          "text": [
            "(471493, 8)\n"
          ],
          "name": "stdout"
        },
        {
          "output_type": "execute_result",
          "data": {
            "text/html": [
              "<div>\n",
              "<style scoped>\n",
              "    .dataframe tbody tr th:only-of-type {\n",
              "        vertical-align: middle;\n",
              "    }\n",
              "\n",
              "    .dataframe tbody tr th {\n",
              "        vertical-align: top;\n",
              "    }\n",
              "\n",
              "    .dataframe thead th {\n",
              "        text-align: right;\n",
              "    }\n",
              "</style>\n",
              "<table border=\"1\" class=\"dataframe\">\n",
              "  <thead>\n",
              "    <tr style=\"text-align: right;\">\n",
              "      <th></th>\n",
              "      <th>ID</th>\n",
              "      <th>Tag</th>\n",
              "      <th>Reputation</th>\n",
              "      <th>Answers</th>\n",
              "      <th>Username</th>\n",
              "      <th>Views</th>\n",
              "      <th>Upvotes</th>\n",
              "      <th>recognize</th>\n",
              "    </tr>\n",
              "  </thead>\n",
              "  <tbody>\n",
              "    <tr>\n",
              "      <th>0</th>\n",
              "      <td>52664</td>\n",
              "      <td>a</td>\n",
              "      <td>3942.0</td>\n",
              "      <td>2.0</td>\n",
              "      <td>155623</td>\n",
              "      <td>7855.0</td>\n",
              "      <td>42.0</td>\n",
              "      <td>1</td>\n",
              "    </tr>\n",
              "    <tr>\n",
              "      <th>1</th>\n",
              "      <td>327662</td>\n",
              "      <td>a</td>\n",
              "      <td>26046.0</td>\n",
              "      <td>12.0</td>\n",
              "      <td>21781</td>\n",
              "      <td>55801.0</td>\n",
              "      <td>1175.0</td>\n",
              "      <td>1</td>\n",
              "    </tr>\n",
              "    <tr>\n",
              "      <th>2</th>\n",
              "      <td>468453</td>\n",
              "      <td>c</td>\n",
              "      <td>1358.0</td>\n",
              "      <td>4.0</td>\n",
              "      <td>56177</td>\n",
              "      <td>8067.0</td>\n",
              "      <td>60.0</td>\n",
              "      <td>1</td>\n",
              "    </tr>\n",
              "    <tr>\n",
              "      <th>3</th>\n",
              "      <td>96996</td>\n",
              "      <td>a</td>\n",
              "      <td>264.0</td>\n",
              "      <td>3.0</td>\n",
              "      <td>168793</td>\n",
              "      <td>27064.0</td>\n",
              "      <td>9.0</td>\n",
              "      <td>1</td>\n",
              "    </tr>\n",
              "    <tr>\n",
              "      <th>4</th>\n",
              "      <td>131465</td>\n",
              "      <td>c</td>\n",
              "      <td>4271.0</td>\n",
              "      <td>4.0</td>\n",
              "      <td>112223</td>\n",
              "      <td>13986.0</td>\n",
              "      <td>83.0</td>\n",
              "      <td>1</td>\n",
              "    </tr>\n",
              "  </tbody>\n",
              "</table>\n",
              "</div>"
            ],
            "text/plain": [
              "       ID Tag  Reputation  Answers  Username    Views  Upvotes  recognize\n",
              "0   52664   a      3942.0      2.0    155623   7855.0     42.0          1\n",
              "1  327662   a     26046.0     12.0     21781  55801.0   1175.0          1\n",
              "2  468453   c      1358.0      4.0     56177   8067.0     60.0          1\n",
              "3   96996   a       264.0      3.0    168793  27064.0      9.0          1\n",
              "4  131465   c      4271.0      4.0    112223  13986.0     83.0          1"
            ]
          },
          "metadata": {
            "tags": []
          },
          "execution_count": 54
        }
      ]
    },
    {
      "cell_type": "code",
      "metadata": {
        "id": "sWyvCzJ2MfrS",
        "colab_type": "code",
        "colab": {
          "base_uri": "https://localhost:8080/",
          "height": 221
        },
        "outputId": "644ab814-e550-4881-cb3a-10aee9a17758"
      },
      "source": [
        "# Create a set of dummy variables from the Tag variable\n",
        "df_tag= pd.get_dummies(both['Tag'])\n",
        "\n",
        "\n",
        "# Join the dummy variables to the main dataframe\n",
        "both = pd.concat([both, df_tag], axis=1)\n",
        "\n",
        "# Alterative for joining the new columns\n",
        "# both = both.join(df_tag)\n",
        "\n",
        "print(both.shape)\n",
        "both.head()"
      ],
      "execution_count": 55,
      "outputs": [
        {
          "output_type": "stream",
          "text": [
            "(471493, 18)\n"
          ],
          "name": "stdout"
        },
        {
          "output_type": "execute_result",
          "data": {
            "text/html": [
              "<div>\n",
              "<style scoped>\n",
              "    .dataframe tbody tr th:only-of-type {\n",
              "        vertical-align: middle;\n",
              "    }\n",
              "\n",
              "    .dataframe tbody tr th {\n",
              "        vertical-align: top;\n",
              "    }\n",
              "\n",
              "    .dataframe thead th {\n",
              "        text-align: right;\n",
              "    }\n",
              "</style>\n",
              "<table border=\"1\" class=\"dataframe\">\n",
              "  <thead>\n",
              "    <tr style=\"text-align: right;\">\n",
              "      <th></th>\n",
              "      <th>ID</th>\n",
              "      <th>Tag</th>\n",
              "      <th>Reputation</th>\n",
              "      <th>Answers</th>\n",
              "      <th>Username</th>\n",
              "      <th>Views</th>\n",
              "      <th>Upvotes</th>\n",
              "      <th>recognize</th>\n",
              "      <th>a</th>\n",
              "      <th>c</th>\n",
              "      <th>h</th>\n",
              "      <th>i</th>\n",
              "      <th>j</th>\n",
              "      <th>o</th>\n",
              "      <th>p</th>\n",
              "      <th>r</th>\n",
              "      <th>s</th>\n",
              "      <th>x</th>\n",
              "    </tr>\n",
              "  </thead>\n",
              "  <tbody>\n",
              "    <tr>\n",
              "      <th>0</th>\n",
              "      <td>52664</td>\n",
              "      <td>a</td>\n",
              "      <td>3942.0</td>\n",
              "      <td>2.0</td>\n",
              "      <td>155623</td>\n",
              "      <td>7855.0</td>\n",
              "      <td>42.0</td>\n",
              "      <td>1</td>\n",
              "      <td>1</td>\n",
              "      <td>0</td>\n",
              "      <td>0</td>\n",
              "      <td>0</td>\n",
              "      <td>0</td>\n",
              "      <td>0</td>\n",
              "      <td>0</td>\n",
              "      <td>0</td>\n",
              "      <td>0</td>\n",
              "      <td>0</td>\n",
              "    </tr>\n",
              "    <tr>\n",
              "      <th>1</th>\n",
              "      <td>327662</td>\n",
              "      <td>a</td>\n",
              "      <td>26046.0</td>\n",
              "      <td>12.0</td>\n",
              "      <td>21781</td>\n",
              "      <td>55801.0</td>\n",
              "      <td>1175.0</td>\n",
              "      <td>1</td>\n",
              "      <td>1</td>\n",
              "      <td>0</td>\n",
              "      <td>0</td>\n",
              "      <td>0</td>\n",
              "      <td>0</td>\n",
              "      <td>0</td>\n",
              "      <td>0</td>\n",
              "      <td>0</td>\n",
              "      <td>0</td>\n",
              "      <td>0</td>\n",
              "    </tr>\n",
              "    <tr>\n",
              "      <th>2</th>\n",
              "      <td>468453</td>\n",
              "      <td>c</td>\n",
              "      <td>1358.0</td>\n",
              "      <td>4.0</td>\n",
              "      <td>56177</td>\n",
              "      <td>8067.0</td>\n",
              "      <td>60.0</td>\n",
              "      <td>1</td>\n",
              "      <td>0</td>\n",
              "      <td>1</td>\n",
              "      <td>0</td>\n",
              "      <td>0</td>\n",
              "      <td>0</td>\n",
              "      <td>0</td>\n",
              "      <td>0</td>\n",
              "      <td>0</td>\n",
              "      <td>0</td>\n",
              "      <td>0</td>\n",
              "    </tr>\n",
              "    <tr>\n",
              "      <th>3</th>\n",
              "      <td>96996</td>\n",
              "      <td>a</td>\n",
              "      <td>264.0</td>\n",
              "      <td>3.0</td>\n",
              "      <td>168793</td>\n",
              "      <td>27064.0</td>\n",
              "      <td>9.0</td>\n",
              "      <td>1</td>\n",
              "      <td>1</td>\n",
              "      <td>0</td>\n",
              "      <td>0</td>\n",
              "      <td>0</td>\n",
              "      <td>0</td>\n",
              "      <td>0</td>\n",
              "      <td>0</td>\n",
              "      <td>0</td>\n",
              "      <td>0</td>\n",
              "      <td>0</td>\n",
              "    </tr>\n",
              "    <tr>\n",
              "      <th>4</th>\n",
              "      <td>131465</td>\n",
              "      <td>c</td>\n",
              "      <td>4271.0</td>\n",
              "      <td>4.0</td>\n",
              "      <td>112223</td>\n",
              "      <td>13986.0</td>\n",
              "      <td>83.0</td>\n",
              "      <td>1</td>\n",
              "      <td>0</td>\n",
              "      <td>1</td>\n",
              "      <td>0</td>\n",
              "      <td>0</td>\n",
              "      <td>0</td>\n",
              "      <td>0</td>\n",
              "      <td>0</td>\n",
              "      <td>0</td>\n",
              "      <td>0</td>\n",
              "      <td>0</td>\n",
              "    </tr>\n",
              "  </tbody>\n",
              "</table>\n",
              "</div>"
            ],
            "text/plain": [
              "       ID Tag  Reputation  Answers  Username    Views  ...  j  o  p  r  s  x\n",
              "0   52664   a      3942.0      2.0    155623   7855.0  ...  0  0  0  0  0  0\n",
              "1  327662   a     26046.0     12.0     21781  55801.0  ...  0  0  0  0  0  0\n",
              "2  468453   c      1358.0      4.0     56177   8067.0  ...  0  0  0  0  0  0\n",
              "3   96996   a       264.0      3.0    168793  27064.0  ...  0  0  0  0  0  0\n",
              "4  131465   c      4271.0      4.0    112223  13986.0  ...  0  0  0  0  0  0\n",
              "\n",
              "[5 rows x 18 columns]"
            ]
          },
          "metadata": {
            "tags": []
          },
          "execution_count": 55
        }
      ]
    },
    {
      "cell_type": "code",
      "metadata": {
        "id": "BVnmcho3Y0e8",
        "colab_type": "code",
        "colab": {}
      },
      "source": [
        "both = both.drop(['Tag'] ,axis = 1)"
      ],
      "execution_count": 0,
      "outputs": []
    },
    {
      "cell_type": "code",
      "metadata": {
        "id": "FoDnzE4PY1OI",
        "colab_type": "code",
        "colab": {}
      },
      "source": [
        "df_train= both[both['recognize'] ==1]\n",
        "df_test= both[both['recognize'] ==0]"
      ],
      "execution_count": 0,
      "outputs": []
    },
    {
      "cell_type": "code",
      "metadata": {
        "id": "gzuR7iYsY1L8",
        "colab_type": "code",
        "colab": {}
      },
      "source": [
        "df_test = df_test.drop(['Upvotes'] , axis = 1)"
      ],
      "execution_count": 0,
      "outputs": []
    },
    {
      "cell_type": "code",
      "metadata": {
        "id": "-1KJg1AwbCRq",
        "colab_type": "code",
        "colab": {}
      },
      "source": [
        "df_train = df_train.drop(['recognize'] , axis = 1)\n",
        "df_test = df_test.drop(['recognize'] , axis = 1)"
      ],
      "execution_count": 0,
      "outputs": []
    },
    {
      "cell_type": "code",
      "metadata": {
        "id": "1qdGIpKsbTv0",
        "colab_type": "code",
        "colab": {}
      },
      "source": [
        "df_train = df_train.drop(['ID' , 'Username'] , axis = 1)\n",
        "df_test = df_test.drop(['ID' , 'Username'] , axis = 1)"
      ],
      "execution_count": 0,
      "outputs": []
    },
    {
      "cell_type": "code",
      "metadata": {
        "id": "WZjF1W0dY1Jx",
        "colab_type": "code",
        "colab": {
          "base_uri": "https://localhost:8080/",
          "height": 221
        },
        "outputId": "16461566-a736-4f4a-e99c-bc444b937315"
      },
      "source": [
        "print(df_train.shape)\n",
        "df_train.head()"
      ],
      "execution_count": 69,
      "outputs": [
        {
          "output_type": "stream",
          "text": [
            "(330045, 14)\n"
          ],
          "name": "stdout"
        },
        {
          "output_type": "execute_result",
          "data": {
            "text/html": [
              "<div>\n",
              "<style scoped>\n",
              "    .dataframe tbody tr th:only-of-type {\n",
              "        vertical-align: middle;\n",
              "    }\n",
              "\n",
              "    .dataframe tbody tr th {\n",
              "        vertical-align: top;\n",
              "    }\n",
              "\n",
              "    .dataframe thead th {\n",
              "        text-align: right;\n",
              "    }\n",
              "</style>\n",
              "<table border=\"1\" class=\"dataframe\">\n",
              "  <thead>\n",
              "    <tr style=\"text-align: right;\">\n",
              "      <th></th>\n",
              "      <th>Reputation</th>\n",
              "      <th>Answers</th>\n",
              "      <th>Views</th>\n",
              "      <th>Upvotes</th>\n",
              "      <th>a</th>\n",
              "      <th>c</th>\n",
              "      <th>h</th>\n",
              "      <th>i</th>\n",
              "      <th>j</th>\n",
              "      <th>o</th>\n",
              "      <th>p</th>\n",
              "      <th>r</th>\n",
              "      <th>s</th>\n",
              "      <th>x</th>\n",
              "    </tr>\n",
              "  </thead>\n",
              "  <tbody>\n",
              "    <tr>\n",
              "      <th>0</th>\n",
              "      <td>3942.0</td>\n",
              "      <td>2.0</td>\n",
              "      <td>7855.0</td>\n",
              "      <td>42.0</td>\n",
              "      <td>1</td>\n",
              "      <td>0</td>\n",
              "      <td>0</td>\n",
              "      <td>0</td>\n",
              "      <td>0</td>\n",
              "      <td>0</td>\n",
              "      <td>0</td>\n",
              "      <td>0</td>\n",
              "      <td>0</td>\n",
              "      <td>0</td>\n",
              "    </tr>\n",
              "    <tr>\n",
              "      <th>1</th>\n",
              "      <td>26046.0</td>\n",
              "      <td>12.0</td>\n",
              "      <td>55801.0</td>\n",
              "      <td>1175.0</td>\n",
              "      <td>1</td>\n",
              "      <td>0</td>\n",
              "      <td>0</td>\n",
              "      <td>0</td>\n",
              "      <td>0</td>\n",
              "      <td>0</td>\n",
              "      <td>0</td>\n",
              "      <td>0</td>\n",
              "      <td>0</td>\n",
              "      <td>0</td>\n",
              "    </tr>\n",
              "    <tr>\n",
              "      <th>2</th>\n",
              "      <td>1358.0</td>\n",
              "      <td>4.0</td>\n",
              "      <td>8067.0</td>\n",
              "      <td>60.0</td>\n",
              "      <td>0</td>\n",
              "      <td>1</td>\n",
              "      <td>0</td>\n",
              "      <td>0</td>\n",
              "      <td>0</td>\n",
              "      <td>0</td>\n",
              "      <td>0</td>\n",
              "      <td>0</td>\n",
              "      <td>0</td>\n",
              "      <td>0</td>\n",
              "    </tr>\n",
              "    <tr>\n",
              "      <th>3</th>\n",
              "      <td>264.0</td>\n",
              "      <td>3.0</td>\n",
              "      <td>27064.0</td>\n",
              "      <td>9.0</td>\n",
              "      <td>1</td>\n",
              "      <td>0</td>\n",
              "      <td>0</td>\n",
              "      <td>0</td>\n",
              "      <td>0</td>\n",
              "      <td>0</td>\n",
              "      <td>0</td>\n",
              "      <td>0</td>\n",
              "      <td>0</td>\n",
              "      <td>0</td>\n",
              "    </tr>\n",
              "    <tr>\n",
              "      <th>4</th>\n",
              "      <td>4271.0</td>\n",
              "      <td>4.0</td>\n",
              "      <td>13986.0</td>\n",
              "      <td>83.0</td>\n",
              "      <td>0</td>\n",
              "      <td>1</td>\n",
              "      <td>0</td>\n",
              "      <td>0</td>\n",
              "      <td>0</td>\n",
              "      <td>0</td>\n",
              "      <td>0</td>\n",
              "      <td>0</td>\n",
              "      <td>0</td>\n",
              "      <td>0</td>\n",
              "    </tr>\n",
              "  </tbody>\n",
              "</table>\n",
              "</div>"
            ],
            "text/plain": [
              "   Reputation  Answers    Views  Upvotes  a  c  h  i  j  o  p  r  s  x\n",
              "0      3942.0      2.0   7855.0     42.0  1  0  0  0  0  0  0  0  0  0\n",
              "1     26046.0     12.0  55801.0   1175.0  1  0  0  0  0  0  0  0  0  0\n",
              "2      1358.0      4.0   8067.0     60.0  0  1  0  0  0  0  0  0  0  0\n",
              "3       264.0      3.0  27064.0      9.0  1  0  0  0  0  0  0  0  0  0\n",
              "4      4271.0      4.0  13986.0     83.0  0  1  0  0  0  0  0  0  0  0"
            ]
          },
          "metadata": {
            "tags": []
          },
          "execution_count": 69
        }
      ]
    },
    {
      "cell_type": "code",
      "metadata": {
        "id": "QAGXgP10e4XV",
        "colab_type": "code",
        "colab": {}
      },
      "source": [
        "# liss = [ list(df_train['Reputation']) , list(df_train['Answers']) , list(df_train['Views']) ,list(df_train['Upvotes'])]\n",
        "# plt.figure(figsize=(20,10))\n",
        "# plt.subplot(131)\n",
        "# plt.plot( df_train.index ,  df_train['Upvotes'] , color ='green')\n",
        "\n",
        "# plt.plot( df_train.index , df_train['Views'] , color ='red')\n",
        "# # plt.plot(df_train['Reputation'] ,color ='red')\n",
        "# plt.xlabel('Reputation')\n",
        "# plt.ylabel('Upvotes')\n",
        "\n",
        "# # plt.subplot(132)\n",
        "\n",
        "# # plt.xlabel('Reputation')\n",
        "# # plt.ylabel('Upvotes')\n",
        "\n",
        "\n",
        "# # plt.subplot(133)\n",
        "# # plt.plot(liss[0] , liss[3])\n",
        "# # plt.xlabel('Reputation')\n",
        "# # plt.ylabel('Upvotes')\n",
        "# plt.show()"
      ],
      "execution_count": 0,
      "outputs": []
    },
    {
      "cell_type": "code",
      "metadata": {
        "id": "IfVbACsAaz4X",
        "colab_type": "code",
        "colab": {}
      },
      "source": [
        "X = df_train.drop(['Upvotes'] , axis=1)\n",
        "y = df_train['Upvotes']"
      ],
      "execution_count": 0,
      "outputs": []
    },
    {
      "cell_type": "code",
      "metadata": {
        "id": "czANZpm7bpz0",
        "colab_type": "code",
        "colab": {}
      },
      "source": [
        "from sklearn.model_selection import train_test_split\n",
        "X_train ,  X_test , y_train  , y_test = train_test_split( X,y,test_size=0.2 ,random_state=27)"
      ],
      "execution_count": 0,
      "outputs": []
    },
    {
      "cell_type": "code",
      "metadata": {
        "id": "7qWzhUbMciPu",
        "colab_type": "code",
        "colab": {
          "base_uri": "https://localhost:8080/",
          "height": 85
        },
        "outputId": "40cf88bf-8a6e-4d12-bc46-b6711752a75c"
      },
      "source": [
        "print(X_train.shape)\n",
        "print(y_train.shape)\n",
        "print(X_test.shape)\n",
        "print(y_test.shape)"
      ],
      "execution_count": 113,
      "outputs": [
        {
          "output_type": "stream",
          "text": [
            "(264036, 13)\n",
            "(264036,)\n",
            "(66009, 13)\n",
            "(66009,)\n"
          ],
          "name": "stdout"
        }
      ]
    },
    {
      "cell_type": "code",
      "metadata": {
        "id": "2QJTCtMHcv40",
        "colab_type": "code",
        "colab": {
          "base_uri": "https://localhost:8080/",
          "height": 136
        },
        "outputId": "4ad066f3-138c-46d9-d88b-5a8b09dd38cd"
      },
      "source": [
        "from sklearn.ensemble import RandomForestRegressor\n",
        "regressor = RandomForestRegressor(n_estimators=150, min_samples_split=2)\n",
        "regressor.fit(X_train, y_train)"
      ],
      "execution_count": 114,
      "outputs": [
        {
          "output_type": "execute_result",
          "data": {
            "text/plain": [
              "RandomForestRegressor(bootstrap=True, criterion='mse', max_depth=None,\n",
              "                      max_features='auto', max_leaf_nodes=None,\n",
              "                      min_impurity_decrease=0.0, min_impurity_split=None,\n",
              "                      min_samples_leaf=1, min_samples_split=2,\n",
              "                      min_weight_fraction_leaf=0.0, n_estimators=150,\n",
              "                      n_jobs=None, oob_score=False, random_state=None,\n",
              "                      verbose=0, warm_start=False)"
            ]
          },
          "metadata": {
            "tags": []
          },
          "execution_count": 114
        }
      ]
    },
    {
      "cell_type": "code",
      "metadata": {
        "id": "g6VMg0YbcviA",
        "colab_type": "code",
        "colab": {}
      },
      "source": [
        "pred = regressor.predict(X_test)"
      ],
      "execution_count": 0,
      "outputs": []
    },
    {
      "cell_type": "code",
      "metadata": {
        "id": "r2fHOSp2qtgQ",
        "colab_type": "code",
        "colab": {
          "base_uri": "https://localhost:8080/",
          "height": 34
        },
        "outputId": "23502c89-f232-4b21-c63b-5d07bfa97305"
      },
      "source": [
        "from sklearn.metrics import mean_squared_error\n",
        "from math import sqrt\n",
        "\n",
        "rms = sqrt(mean_squared_error(y_test, pred))\n",
        "rms"
      ],
      "execution_count": 123,
      "outputs": [
        {
          "output_type": "execute_result",
          "data": {
            "text/plain": [
              "1263.844052732468"
            ]
          },
          "metadata": {
            "tags": []
          },
          "execution_count": 123
        }
      ]
    },
    {
      "cell_type": "code",
      "metadata": {
        "id": "7KYYLHEvcvZi",
        "colab_type": "code",
        "colab": {}
      },
      "source": [
        "# from sklearn.metrics import accuracy_score\n",
        "# print(accuracy_score(y_true, pred))"
      ],
      "execution_count": 0,
      "outputs": []
    },
    {
      "cell_type": "code",
      "metadata": {
        "id": "b0UwWHOzcu3l",
        "colab_type": "code",
        "colab": {}
      },
      "source": [
        ""
      ],
      "execution_count": 0,
      "outputs": []
    },
    {
      "cell_type": "code",
      "metadata": {
        "id": "1wArZUcLY1Ho",
        "colab_type": "code",
        "colab": {
          "base_uri": "https://localhost:8080/",
          "height": 221
        },
        "outputId": "e4f6f67e-157a-48bf-d685-652fd831a663"
      },
      "source": [
        "print(df_test.shape)\n",
        "df_test.head()"
      ],
      "execution_count": 70,
      "outputs": [
        {
          "output_type": "stream",
          "text": [
            "(141448, 13)\n"
          ],
          "name": "stdout"
        },
        {
          "output_type": "execute_result",
          "data": {
            "text/html": [
              "<div>\n",
              "<style scoped>\n",
              "    .dataframe tbody tr th:only-of-type {\n",
              "        vertical-align: middle;\n",
              "    }\n",
              "\n",
              "    .dataframe tbody tr th {\n",
              "        vertical-align: top;\n",
              "    }\n",
              "\n",
              "    .dataframe thead th {\n",
              "        text-align: right;\n",
              "    }\n",
              "</style>\n",
              "<table border=\"1\" class=\"dataframe\">\n",
              "  <thead>\n",
              "    <tr style=\"text-align: right;\">\n",
              "      <th></th>\n",
              "      <th>Reputation</th>\n",
              "      <th>Answers</th>\n",
              "      <th>Views</th>\n",
              "      <th>a</th>\n",
              "      <th>c</th>\n",
              "      <th>h</th>\n",
              "      <th>i</th>\n",
              "      <th>j</th>\n",
              "      <th>o</th>\n",
              "      <th>p</th>\n",
              "      <th>r</th>\n",
              "      <th>s</th>\n",
              "      <th>x</th>\n",
              "    </tr>\n",
              "  </thead>\n",
              "  <tbody>\n",
              "    <tr>\n",
              "      <th>330045</th>\n",
              "      <td>5645.0</td>\n",
              "      <td>3.0</td>\n",
              "      <td>33200.0</td>\n",
              "      <td>1</td>\n",
              "      <td>0</td>\n",
              "      <td>0</td>\n",
              "      <td>0</td>\n",
              "      <td>0</td>\n",
              "      <td>0</td>\n",
              "      <td>0</td>\n",
              "      <td>0</td>\n",
              "      <td>0</td>\n",
              "      <td>0</td>\n",
              "    </tr>\n",
              "    <tr>\n",
              "      <th>330046</th>\n",
              "      <td>24511.0</td>\n",
              "      <td>6.0</td>\n",
              "      <td>2730.0</td>\n",
              "      <td>0</td>\n",
              "      <td>1</td>\n",
              "      <td>0</td>\n",
              "      <td>0</td>\n",
              "      <td>0</td>\n",
              "      <td>0</td>\n",
              "      <td>0</td>\n",
              "      <td>0</td>\n",
              "      <td>0</td>\n",
              "      <td>0</td>\n",
              "    </tr>\n",
              "    <tr>\n",
              "      <th>330047</th>\n",
              "      <td>927.0</td>\n",
              "      <td>1.0</td>\n",
              "      <td>21167.0</td>\n",
              "      <td>0</td>\n",
              "      <td>0</td>\n",
              "      <td>0</td>\n",
              "      <td>1</td>\n",
              "      <td>0</td>\n",
              "      <td>0</td>\n",
              "      <td>0</td>\n",
              "      <td>0</td>\n",
              "      <td>0</td>\n",
              "      <td>0</td>\n",
              "    </tr>\n",
              "    <tr>\n",
              "      <th>330048</th>\n",
              "      <td>21.0</td>\n",
              "      <td>6.0</td>\n",
              "      <td>18528.0</td>\n",
              "      <td>0</td>\n",
              "      <td>0</td>\n",
              "      <td>0</td>\n",
              "      <td>1</td>\n",
              "      <td>0</td>\n",
              "      <td>0</td>\n",
              "      <td>0</td>\n",
              "      <td>0</td>\n",
              "      <td>0</td>\n",
              "      <td>0</td>\n",
              "    </tr>\n",
              "    <tr>\n",
              "      <th>330049</th>\n",
              "      <td>4475.0</td>\n",
              "      <td>10.0</td>\n",
              "      <td>57240.0</td>\n",
              "      <td>0</td>\n",
              "      <td>0</td>\n",
              "      <td>0</td>\n",
              "      <td>1</td>\n",
              "      <td>0</td>\n",
              "      <td>0</td>\n",
              "      <td>0</td>\n",
              "      <td>0</td>\n",
              "      <td>0</td>\n",
              "      <td>0</td>\n",
              "    </tr>\n",
              "  </tbody>\n",
              "</table>\n",
              "</div>"
            ],
            "text/plain": [
              "        Reputation  Answers    Views  a  c  h  i  j  o  p  r  s  x\n",
              "330045      5645.0      3.0  33200.0  1  0  0  0  0  0  0  0  0  0\n",
              "330046     24511.0      6.0   2730.0  0  1  0  0  0  0  0  0  0  0\n",
              "330047       927.0      1.0  21167.0  0  0  0  1  0  0  0  0  0  0\n",
              "330048        21.0      6.0  18528.0  0  0  0  1  0  0  0  0  0  0\n",
              "330049      4475.0     10.0  57240.0  0  0  0  1  0  0  0  0  0  0"
            ]
          },
          "metadata": {
            "tags": []
          },
          "execution_count": 70
        }
      ]
    },
    {
      "cell_type": "code",
      "metadata": {
        "id": "SQExKqxAY1FM",
        "colab_type": "code",
        "colab": {}
      },
      "source": [
        "y_pred = regressor.predict(df_test)"
      ],
      "execution_count": 0,
      "outputs": []
    },
    {
      "cell_type": "code",
      "metadata": {
        "id": "27mn2azKY1DN",
        "colab_type": "code",
        "colab": {
          "base_uri": "https://localhost:8080/",
          "height": 376
        },
        "outputId": "6880dad7-2eaf-4f38-97bb-175e290874ee"
      },
      "source": [
        "output = pd.DataFrame()\n",
        "output['ID'] = test['ID']\n",
        "output['Upvotes'] = y_pred\n",
        "print(output.shape)\n",
        "output.head(10)"
      ],
      "execution_count": 127,
      "outputs": [
        {
          "output_type": "stream",
          "text": [
            "(141448, 2)\n"
          ],
          "name": "stdout"
        },
        {
          "output_type": "execute_result",
          "data": {
            "text/html": [
              "<div>\n",
              "<style scoped>\n",
              "    .dataframe tbody tr th:only-of-type {\n",
              "        vertical-align: middle;\n",
              "    }\n",
              "\n",
              "    .dataframe tbody tr th {\n",
              "        vertical-align: top;\n",
              "    }\n",
              "\n",
              "    .dataframe thead th {\n",
              "        text-align: right;\n",
              "    }\n",
              "</style>\n",
              "<table border=\"1\" class=\"dataframe\">\n",
              "  <thead>\n",
              "    <tr style=\"text-align: right;\">\n",
              "      <th></th>\n",
              "      <th>ID</th>\n",
              "      <th>Upvotes</th>\n",
              "    </tr>\n",
              "  </thead>\n",
              "  <tbody>\n",
              "    <tr>\n",
              "      <th>0</th>\n",
              "      <td>366953</td>\n",
              "      <td>238.333333</td>\n",
              "    </tr>\n",
              "    <tr>\n",
              "      <th>1</th>\n",
              "      <td>71864</td>\n",
              "      <td>76.400000</td>\n",
              "    </tr>\n",
              "    <tr>\n",
              "      <th>2</th>\n",
              "      <td>141692</td>\n",
              "      <td>40.700000</td>\n",
              "    </tr>\n",
              "    <tr>\n",
              "      <th>3</th>\n",
              "      <td>316833</td>\n",
              "      <td>10.946667</td>\n",
              "    </tr>\n",
              "    <tr>\n",
              "      <th>4</th>\n",
              "      <td>440445</td>\n",
              "      <td>287.760000</td>\n",
              "    </tr>\n",
              "    <tr>\n",
              "      <th>5</th>\n",
              "      <td>3514</td>\n",
              "      <td>16.066667</td>\n",
              "    </tr>\n",
              "    <tr>\n",
              "      <th>6</th>\n",
              "      <td>331420</td>\n",
              "      <td>20.780000</td>\n",
              "    </tr>\n",
              "    <tr>\n",
              "      <th>7</th>\n",
              "      <td>406540</td>\n",
              "      <td>99.713333</td>\n",
              "    </tr>\n",
              "    <tr>\n",
              "      <th>8</th>\n",
              "      <td>227379</td>\n",
              "      <td>56.320000</td>\n",
              "    </tr>\n",
              "    <tr>\n",
              "      <th>9</th>\n",
              "      <td>331687</td>\n",
              "      <td>11.340000</td>\n",
              "    </tr>\n",
              "  </tbody>\n",
              "</table>\n",
              "</div>"
            ],
            "text/plain": [
              "       ID     Upvotes\n",
              "0  366953  238.333333\n",
              "1   71864   76.400000\n",
              "2  141692   40.700000\n",
              "3  316833   10.946667\n",
              "4  440445  287.760000\n",
              "5    3514   16.066667\n",
              "6  331420   20.780000\n",
              "7  406540   99.713333\n",
              "8  227379   56.320000\n",
              "9  331687   11.340000"
            ]
          },
          "metadata": {
            "tags": []
          },
          "execution_count": 127
        }
      ]
    },
    {
      "cell_type": "code",
      "metadata": {
        "id": "lmAnvvamY1BL",
        "colab_type": "code",
        "colab": {
          "base_uri": "https://localhost:8080/",
          "height": 221
        },
        "outputId": "d5fa02d4-a516-4101-9bb3-9be3d4452225"
      },
      "source": [
        "new = output.sort_values([\"ID\"], axis=0,ascending=True)\n",
        "new['Upvotes'] =round(new['Upvotes'])\n",
        "print(new.shape)\n",
        "new.head()"
      ],
      "execution_count": 175,
      "outputs": [
        {
          "output_type": "stream",
          "text": [
            "(141448, 2)\n"
          ],
          "name": "stdout"
        },
        {
          "output_type": "execute_result",
          "data": {
            "text/html": [
              "<div>\n",
              "<style scoped>\n",
              "    .dataframe tbody tr th:only-of-type {\n",
              "        vertical-align: middle;\n",
              "    }\n",
              "\n",
              "    .dataframe tbody tr th {\n",
              "        vertical-align: top;\n",
              "    }\n",
              "\n",
              "    .dataframe thead th {\n",
              "        text-align: right;\n",
              "    }\n",
              "</style>\n",
              "<table border=\"1\" class=\"dataframe\">\n",
              "  <thead>\n",
              "    <tr style=\"text-align: right;\">\n",
              "      <th></th>\n",
              "      <th>ID</th>\n",
              "      <th>Upvotes</th>\n",
              "    </tr>\n",
              "  </thead>\n",
              "  <tbody>\n",
              "    <tr>\n",
              "      <th>118045</th>\n",
              "      <td>7</td>\n",
              "      <td>820.0</td>\n",
              "    </tr>\n",
              "    <tr>\n",
              "      <th>74256</th>\n",
              "      <td>9</td>\n",
              "      <td>36.0</td>\n",
              "    </tr>\n",
              "    <tr>\n",
              "      <th>132030</th>\n",
              "      <td>12</td>\n",
              "      <td>75.0</td>\n",
              "    </tr>\n",
              "    <tr>\n",
              "      <th>47484</th>\n",
              "      <td>13</td>\n",
              "      <td>280.0</td>\n",
              "    </tr>\n",
              "    <tr>\n",
              "      <th>20847</th>\n",
              "      <td>16</td>\n",
              "      <td>30.0</td>\n",
              "    </tr>\n",
              "  </tbody>\n",
              "</table>\n",
              "</div>"
            ],
            "text/plain": [
              "        ID  Upvotes\n",
              "118045   7    820.0\n",
              "74256    9     36.0\n",
              "132030  12     75.0\n",
              "47484   13    280.0\n",
              "20847   16     30.0"
            ]
          },
          "metadata": {
            "tags": []
          },
          "execution_count": 175
        }
      ]
    },
    {
      "cell_type": "code",
      "metadata": {
        "id": "rJC9CZL3zFu6",
        "colab_type": "code",
        "colab": {}
      },
      "source": [
        ""
      ],
      "execution_count": 0,
      "outputs": []
    },
    {
      "cell_type": "code",
      "metadata": {
        "id": "EVa5r2bpvnPn",
        "colab_type": "code",
        "colab": {
          "base_uri": "https://localhost:8080/",
          "height": 297
        },
        "outputId": "cb793d25-f558-42fe-e1c8-c5c04b54d9e5"
      },
      "source": [
        "train.describe()"
      ],
      "execution_count": 176,
      "outputs": [
        {
          "output_type": "execute_result",
          "data": {
            "text/html": [
              "<div>\n",
              "<style scoped>\n",
              "    .dataframe tbody tr th:only-of-type {\n",
              "        vertical-align: middle;\n",
              "    }\n",
              "\n",
              "    .dataframe tbody tr th {\n",
              "        vertical-align: top;\n",
              "    }\n",
              "\n",
              "    .dataframe thead th {\n",
              "        text-align: right;\n",
              "    }\n",
              "</style>\n",
              "<table border=\"1\" class=\"dataframe\">\n",
              "  <thead>\n",
              "    <tr style=\"text-align: right;\">\n",
              "      <th></th>\n",
              "      <th>ID</th>\n",
              "      <th>Reputation</th>\n",
              "      <th>Answers</th>\n",
              "      <th>Username</th>\n",
              "      <th>Views</th>\n",
              "      <th>Upvotes</th>\n",
              "      <th>recognize</th>\n",
              "    </tr>\n",
              "  </thead>\n",
              "  <tbody>\n",
              "    <tr>\n",
              "      <th>count</th>\n",
              "      <td>330045.000000</td>\n",
              "      <td>3.300450e+05</td>\n",
              "      <td>330045.000000</td>\n",
              "      <td>330045.000000</td>\n",
              "      <td>3.300450e+05</td>\n",
              "      <td>330045.000000</td>\n",
              "      <td>330045.0</td>\n",
              "    </tr>\n",
              "    <tr>\n",
              "      <th>mean</th>\n",
              "      <td>235748.682789</td>\n",
              "      <td>7.773147e+03</td>\n",
              "      <td>3.917672</td>\n",
              "      <td>81442.888803</td>\n",
              "      <td>2.964507e+04</td>\n",
              "      <td>337.505358</td>\n",
              "      <td>1.0</td>\n",
              "    </tr>\n",
              "    <tr>\n",
              "      <th>std</th>\n",
              "      <td>136039.418471</td>\n",
              "      <td>2.706141e+04</td>\n",
              "      <td>3.579515</td>\n",
              "      <td>49215.100730</td>\n",
              "      <td>8.095646e+04</td>\n",
              "      <td>3592.441135</td>\n",
              "      <td>0.0</td>\n",
              "    </tr>\n",
              "    <tr>\n",
              "      <th>min</th>\n",
              "      <td>1.000000</td>\n",
              "      <td>0.000000e+00</td>\n",
              "      <td>0.000000</td>\n",
              "      <td>0.000000</td>\n",
              "      <td>9.000000e+00</td>\n",
              "      <td>0.000000</td>\n",
              "      <td>1.0</td>\n",
              "    </tr>\n",
              "    <tr>\n",
              "      <th>25%</th>\n",
              "      <td>117909.000000</td>\n",
              "      <td>2.820000e+02</td>\n",
              "      <td>2.000000</td>\n",
              "      <td>39808.000000</td>\n",
              "      <td>2.594000e+03</td>\n",
              "      <td>8.000000</td>\n",
              "      <td>1.0</td>\n",
              "    </tr>\n",
              "    <tr>\n",
              "      <th>50%</th>\n",
              "      <td>235699.000000</td>\n",
              "      <td>1.236000e+03</td>\n",
              "      <td>3.000000</td>\n",
              "      <td>79010.000000</td>\n",
              "      <td>8.954000e+03</td>\n",
              "      <td>28.000000</td>\n",
              "      <td>1.0</td>\n",
              "    </tr>\n",
              "    <tr>\n",
              "      <th>75%</th>\n",
              "      <td>353620.000000</td>\n",
              "      <td>5.118000e+03</td>\n",
              "      <td>5.000000</td>\n",
              "      <td>122559.000000</td>\n",
              "      <td>2.687000e+04</td>\n",
              "      <td>107.000000</td>\n",
              "      <td>1.0</td>\n",
              "    </tr>\n",
              "    <tr>\n",
              "      <th>max</th>\n",
              "      <td>471493.000000</td>\n",
              "      <td>1.042428e+06</td>\n",
              "      <td>76.000000</td>\n",
              "      <td>175738.000000</td>\n",
              "      <td>5.231058e+06</td>\n",
              "      <td>615278.000000</td>\n",
              "      <td>1.0</td>\n",
              "    </tr>\n",
              "  </tbody>\n",
              "</table>\n",
              "</div>"
            ],
            "text/plain": [
              "                  ID    Reputation  ...        Upvotes  recognize\n",
              "count  330045.000000  3.300450e+05  ...  330045.000000   330045.0\n",
              "mean   235748.682789  7.773147e+03  ...     337.505358        1.0\n",
              "std    136039.418471  2.706141e+04  ...    3592.441135        0.0\n",
              "min         1.000000  0.000000e+00  ...       0.000000        1.0\n",
              "25%    117909.000000  2.820000e+02  ...       8.000000        1.0\n",
              "50%    235699.000000  1.236000e+03  ...      28.000000        1.0\n",
              "75%    353620.000000  5.118000e+03  ...     107.000000        1.0\n",
              "max    471493.000000  1.042428e+06  ...  615278.000000        1.0\n",
              "\n",
              "[8 rows x 7 columns]"
            ]
          },
          "metadata": {
            "tags": []
          },
          "execution_count": 176
        }
      ]
    },
    {
      "cell_type": "code",
      "metadata": {
        "id": "TZbLdRGivyh2",
        "colab_type": "code",
        "colab": {
          "base_uri": "https://localhost:8080/",
          "height": 297
        },
        "outputId": "d95743a3-0f38-4356-f1f6-9eae3a4cae68"
      },
      "source": [
        "new.describe()"
      ],
      "execution_count": 177,
      "outputs": [
        {
          "output_type": "execute_result",
          "data": {
            "text/html": [
              "<div>\n",
              "<style scoped>\n",
              "    .dataframe tbody tr th:only-of-type {\n",
              "        vertical-align: middle;\n",
              "    }\n",
              "\n",
              "    .dataframe tbody tr th {\n",
              "        vertical-align: top;\n",
              "    }\n",
              "\n",
              "    .dataframe thead th {\n",
              "        text-align: right;\n",
              "    }\n",
              "</style>\n",
              "<table border=\"1\" class=\"dataframe\">\n",
              "  <thead>\n",
              "    <tr style=\"text-align: right;\">\n",
              "      <th></th>\n",
              "      <th>ID</th>\n",
              "      <th>Upvotes</th>\n",
              "    </tr>\n",
              "  </thead>\n",
              "  <tbody>\n",
              "    <tr>\n",
              "      <th>count</th>\n",
              "      <td>141448.000000</td>\n",
              "      <td>141448.000000</td>\n",
              "    </tr>\n",
              "    <tr>\n",
              "      <th>mean</th>\n",
              "      <td>235743.073497</td>\n",
              "      <td>348.721566</td>\n",
              "    </tr>\n",
              "    <tr>\n",
              "      <th>std</th>\n",
              "      <td>136269.867118</td>\n",
              "      <td>3495.208684</td>\n",
              "    </tr>\n",
              "    <tr>\n",
              "      <th>min</th>\n",
              "      <td>7.000000</td>\n",
              "      <td>0.000000</td>\n",
              "    </tr>\n",
              "    <tr>\n",
              "      <th>25%</th>\n",
              "      <td>117797.000000</td>\n",
              "      <td>14.000000</td>\n",
              "    </tr>\n",
              "    <tr>\n",
              "      <th>50%</th>\n",
              "      <td>235830.000000</td>\n",
              "      <td>34.000000</td>\n",
              "    </tr>\n",
              "    <tr>\n",
              "      <th>75%</th>\n",
              "      <td>353616.000000</td>\n",
              "      <td>111.000000</td>\n",
              "    </tr>\n",
              "    <tr>\n",
              "      <th>max</th>\n",
              "      <td>471488.000000</td>\n",
              "      <td>479525.000000</td>\n",
              "    </tr>\n",
              "  </tbody>\n",
              "</table>\n",
              "</div>"
            ],
            "text/plain": [
              "                  ID        Upvotes\n",
              "count  141448.000000  141448.000000\n",
              "mean   235743.073497     348.721566\n",
              "std    136269.867118    3495.208684\n",
              "min         7.000000       0.000000\n",
              "25%    117797.000000      14.000000\n",
              "50%    235830.000000      34.000000\n",
              "75%    353616.000000     111.000000\n",
              "max    471488.000000  479525.000000"
            ]
          },
          "metadata": {
            "tags": []
          },
          "execution_count": 177
        }
      ]
    },
    {
      "cell_type": "code",
      "metadata": {
        "id": "3nsrWwugy2uM",
        "colab_type": "code",
        "colab": {}
      },
      "source": [
        ""
      ],
      "execution_count": 0,
      "outputs": []
    },
    {
      "cell_type": "code",
      "metadata": {
        "id": "Ww8yZzowY0-W",
        "colab_type": "code",
        "colab": {}
      },
      "source": [
        "# new.set_index('ID' , inplace =True)\n",
        "# new.reset_index()"
      ],
      "execution_count": 0,
      "outputs": []
    },
    {
      "cell_type": "code",
      "metadata": {
        "id": "CwHAbyqTY06J",
        "colab_type": "code",
        "colab": {}
      },
      "source": [
        "new.to_csv('sample.csv' , index =False)"
      ],
      "execution_count": 0,
      "outputs": []
    },
    {
      "cell_type": "code",
      "metadata": {
        "id": "pm8GMltLY03o",
        "colab_type": "code",
        "colab": {}
      },
      "source": [
        ""
      ],
      "execution_count": 0,
      "outputs": []
    },
    {
      "cell_type": "code",
      "metadata": {
        "id": "fofq8MkuY01Z",
        "colab_type": "code",
        "colab": {}
      },
      "source": [
        ""
      ],
      "execution_count": 0,
      "outputs": []
    },
    {
      "cell_type": "code",
      "metadata": {
        "id": "zzU3-cJLY0zO",
        "colab_type": "code",
        "colab": {}
      },
      "source": [
        ""
      ],
      "execution_count": 0,
      "outputs": []
    },
    {
      "cell_type": "code",
      "metadata": {
        "id": "soXV3jUGY0w8",
        "colab_type": "code",
        "colab": {}
      },
      "source": [
        ""
      ],
      "execution_count": 0,
      "outputs": []
    },
    {
      "cell_type": "code",
      "metadata": {
        "id": "B8AAQrgnY0vE",
        "colab_type": "code",
        "colab": {}
      },
      "source": [
        ""
      ],
      "execution_count": 0,
      "outputs": []
    },
    {
      "cell_type": "code",
      "metadata": {
        "id": "k65rdDazY0tL",
        "colab_type": "code",
        "colab": {}
      },
      "source": [
        ""
      ],
      "execution_count": 0,
      "outputs": []
    },
    {
      "cell_type": "code",
      "metadata": {
        "id": "O1uVcI14Y0rA",
        "colab_type": "code",
        "colab": {}
      },
      "source": [
        ""
      ],
      "execution_count": 0,
      "outputs": []
    },
    {
      "cell_type": "code",
      "metadata": {
        "id": "h-m0RP_FY0o5",
        "colab_type": "code",
        "colab": {}
      },
      "source": [
        ""
      ],
      "execution_count": 0,
      "outputs": []
    },
    {
      "cell_type": "code",
      "metadata": {
        "id": "BwXzdebvY0my",
        "colab_type": "code",
        "colab": {}
      },
      "source": [
        ""
      ],
      "execution_count": 0,
      "outputs": []
    },
    {
      "cell_type": "code",
      "metadata": {
        "id": "KNdKF8tvY0jf",
        "colab_type": "code",
        "colab": {}
      },
      "source": [
        ""
      ],
      "execution_count": 0,
      "outputs": []
    },
    {
      "cell_type": "code",
      "metadata": {
        "id": "8eAPEsx0MfpG",
        "colab_type": "code",
        "colab": {}
      },
      "source": [
        ""
      ],
      "execution_count": 0,
      "outputs": []
    },
    {
      "cell_type": "code",
      "metadata": {
        "id": "w3Pvn3XhMfmB",
        "colab_type": "code",
        "colab": {}
      },
      "source": [
        ""
      ],
      "execution_count": 0,
      "outputs": []
    },
    {
      "cell_type": "code",
      "metadata": {
        "id": "hmTmt1K0MfbJ",
        "colab_type": "code",
        "colab": {}
      },
      "source": [
        ""
      ],
      "execution_count": 0,
      "outputs": []
    }
  ]
}