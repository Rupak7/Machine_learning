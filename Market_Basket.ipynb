{
  "nbformat": 4,
  "nbformat_minor": 0,
  "metadata": {
    "colab": {
      "name": "mall.ipynb",
      "version": "0.3.2",
      "provenance": [],
      "collapsed_sections": [],
      "include_colab_link": true
    },
    "kernelspec": {
      "name": "python3",
      "display_name": "Python 3"
    },
    "accelerator": "GPU"
  },
  "cells": [
    {
      "cell_type": "markdown",
      "metadata": {
        "id": "view-in-github",
        "colab_type": "text"
      },
      "source": [
        "<a href=\"https://colab.research.google.com/github/priyanshgupta1998/Machine_learning/blob/master/Market_Basket.ipynb\" target=\"_parent\"><img src=\"https://colab.research.google.com/assets/colab-badge.svg\" alt=\"Open In Colab\"/></a>"
      ]
    },
    {
      "cell_type": "code",
      "metadata": {
        "id": "XKaY-OpZBe8Z",
        "colab_type": "code",
        "colab": {}
      },
      "source": [
        ""
      ],
      "execution_count": 0,
      "outputs": []
    },
    {
      "cell_type": "markdown",
      "metadata": {
        "id": "ThQE4GCBSsqH",
        "colab_type": "text"
      },
      "source": [
        "#Market Basket\n",
        "###Transactions from a bakery\n",
        "\n",
        "`The dataset consists of 21293 observations from a bakery. The data file contains four variables, Date, Time, Transaction ID and Item. Transaction ID ranges from 1 through 9684. However, there are some skipped numbers in Transaction IDs. Also, there are duplicated entries, as shown in observation # 2 and #3. Besides, the Item contains \"Adjustment\", \"NONE\", and \"Afternoon with the baker\". While the entries of \"Adjustment\" and \"NONE\" are straight forward, \"Afternoon with the baker\" may be a real purchase.`\n",
        "\n",
        "###Primer on Apriori Algorithm & Association Rules\n",
        "`Apriori algorithms is a data mining algorithm used for mining frequent itemsets and relevant association rules. It is devised to operate on a database that contain transactions -like, items bought by a customer in a store.`\n",
        "\n",
        "`An itemset can be considered frequent if it meets a user-specified support threshold. For example, if the support threshold is set to 0.5(50%), a frequent itemset is a set of items that are bought/purchased together in atleast 50% of all transactions.`\n",
        "\n",
        "`Association rules are a set of rules derived from a database, that can help determining relationship among variables in a large transactional database.`\n",
        "\n",
        "For example, let I ={i(1),i(2)...,i(m)} be a set of m attributes called items, and T={t(1),t(2),...,t(n)} be the set of transactions. Every transaction t(i) in T has a unique transaction ID, and it contains a subset of itemsets in I.\n",
        "\n",
        "Association rules are usually written as i(j) -> i(k). This means that there is a strong relationship between the purchase of item i(j) and item i(k). Both these items were purchased together in the same transaction.\n",
        "\n",
        "In the above example, i(j) is the antecedent and i(k) is the consequent.\n",
        "\n",
        "Please note that both antecedents and consequents can have multiple items. For example, {Diaper,Gum} -> {Beer, Chips} is also valid.\n",
        "\n",
        "Since multiplie rules are possible even from a very small database, i-order to select the most relevant ones, we use constraints on various measures of interest. The most important measures are discussed below. They are:\n",
        "\n",
        "1. Support : The support of an itemset X, supp(X) is the proportion of transaction in the database in which the item X appears. It signifies the popularity of an itemset.\n",
        "\n",
        "supp(X) = (Number of transactions in which X appears)/(Total number of transactions)\n",
        "\n",
        "We can identify itemsets that have support values beyond this threshold as significant itemsets.\n",
        "\n",
        "2. Confidence : Confidence of a rule signifies the likelihood of item Y being purchased when item X is purchased.\n",
        "\n",
        "Thus, conf(X -> Y) = supp(X U Y) / supp( X )\n",
        "\n",
        "If conf (X -> Y) is 75%, it implies that, for 75% of transactions containing X & Y, this rule is correct. It is more like a conditional probability, P(Y|X), that the probability of finding itemset Y in transactions fiven that the transaction already contains itemset X.\n",
        "\n",
        "3. Lift : Lift explains the the likelihood of the itemset Y being purchased when itemset X is already purchased, while taking into account the popularity of Y.\n",
        "\n",
        "Thus, lift (X -> Y) = supp (X U Y)/( supp(X) supp (Y) )*\n",
        "\n",
        "If the value of lift is greater than 1, it means that the itemset Y is likely to be bought with itemset X, while a value less than 1 implies that the itemset Y is unlikely to be bought if the itemset X is bought.\n",
        "\n",
        "4. Conviction : The conviction of a rule can be defined as :\n",
        "\n",
        "conv (X->Y) = (1-supp(Y))/(1-conf(X-Y))\n",
        "\n",
        "If the conviction means 1.4, it means that the rule X -> Y would be incorrect 40% more often if the association between X & Y was an accidental chance.\n",
        "\n",
        "### Steps in Apriori Algorithm\n",
        "The steps in implementing Apriori Algorithm are:\n",
        "\n",
        "1. Create a frequency table of all items that occur in all transactions.\n",
        "\n",
        "2. Select only those (significant) items - for which the support is greater than threshold (50%)\n",
        "\n",
        "3. Create possible pairs of all items (remember AB is same as BA)\n",
        "\n",
        "4. Select itemsets that are only significant (support > threshold)\n",
        "\n",
        "5. Create tiplets using another rule, called self-join. It says, from the item pairs AB, AC, BC, BD, we look for pairs with identical first letter. So we from AB, AC we get ABC. From BC, BD we get BCD.\n",
        "\n",
        "6. Find frequency of the new triplet pairs, and select only those pairs where the support of the new itemset (ABC or BCD) is greater than the threshold.\n",
        "\n",
        "7. If we get 2 pairs of significant triplets, combine and form groups of 4, repeat the threshold process, and continue.\n",
        "\n",
        "8. Continue till the frequency after grouping is less than threshold support.\n",
        "\n",
        "Pros of Apriori algorithm:\n",
        "1. Easy to understand and implement\n",
        "2. Can be used on large itemsets\n",
        "Cons of Apriori algoritm\n",
        "1. Can get compuationally expensive if the candidate rules are large\n",
        "2. Calculating support is also expensive since it has to go through the whole database"
      ]
    },
    {
      "cell_type": "code",
      "metadata": {
        "id": "3ZvPBBLzcOCl",
        "colab_type": "code",
        "colab": {}
      },
      "source": [
        ""
      ],
      "execution_count": 0,
      "outputs": []
    },
    {
      "cell_type": "markdown",
      "metadata": {
        "id": "4atXtRHocOot",
        "colab_type": "text"
      },
      "source": [
        "#Load the datset  from the kaggle "
      ]
    },
    {
      "cell_type": "code",
      "metadata": {
        "id": "r2pigyTwjSbp",
        "colab_type": "code",
        "outputId": "f466e344-ec57-492a-a952-6ce1cb9b11a1",
        "colab": {
          "resources": {
            "http://localhost:8080/nbextensions/google.colab/files.js": {
              "data": "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",
              "ok": true,
              "headers": [
                [
                  "content-type",
                  "application/javascript"
                ]
              ],
              "status": 200,
              "status_text": ""
            }
          },
          "base_uri": "https://localhost:8080/",
          "height": 74
        }
      },
      "source": [
        "# Run this cell and select the kaggle.json file downloaded\n",
        "# from the Kaggle account settings page.\n",
        "from google.colab import files\n",
        "files.upload()\n",
        "# Next, install the Kaggle API client.\n",
        "!pip install -q kaggle\n",
        "# The Kaggle API client expects this file to be in ~/.kaggle,\n",
        "# so move it there.\n",
        "!mkdir -p ~/.kaggle\n",
        "!cp kaggle.json ~/.kaggle/\n",
        "\n",
        "# This permissions change avoids a warning on Kaggle tool startup.\n",
        "!chmod 600 ~/.kaggle/kaggle.json"
      ],
      "execution_count": 2,
      "outputs": [
        {
          "output_type": "display_data",
          "data": {
            "text/html": [
              "\n",
              "     <input type=\"file\" id=\"files-96125cda-4ee4-4dc6-977e-917cf5153035\" name=\"files[]\" multiple disabled />\n",
              "     <output id=\"result-96125cda-4ee4-4dc6-977e-917cf5153035\">\n",
              "      Upload widget is only available when the cell has been executed in the\n",
              "      current browser session. Please rerun this cell to enable.\n",
              "      </output>\n",
              "      <script src=\"/nbextensions/google.colab/files.js\"></script> "
            ],
            "text/plain": [
              "<IPython.core.display.HTML object>"
            ]
          },
          "metadata": {
            "tags": []
          }
        },
        {
          "output_type": "stream",
          "text": [
            "Saving kaggle.json to kaggle.json\n"
          ],
          "name": "stdout"
        }
      ]
    },
    {
      "cell_type": "code",
      "metadata": {
        "id": "RfESeyOAjSeM",
        "colab_type": "code",
        "outputId": "fc70eb59-69a9-4f1d-cef0-568bbb073e9c",
        "colab": {
          "base_uri": "https://localhost:8080/",
          "height": 407
        }
      },
      "source": [
        "#List available datasets.\n",
        "!kaggle datasets list -s business"
      ],
      "execution_count": 14,
      "outputs": [
        {
          "output_type": "stream",
          "text": [
            "ref                                                      title                                             size  lastUpdated          downloadCount  \n",
            "-------------------------------------------------------  -----------------------------------------------  -----  -------------------  -------------  \n",
            "census/business-and-industry-reports                     Business and Industry Reports                      7MB  2017-10-17 23:21:56           1355  \n",
            "gerosa/procon                                            Consumer Business Complaints in Brazil            87MB  2017-10-11 21:22:17            784  \n",
            "census/total-business-inventories-and-sales-data         Total Business Inventories and Sales Data         21KB  2019-04-08 09:03:26           2479  \n",
            "xvivancos/barcelona-data-sets                            Barcelona data sets                                1MB  2019-05-18 09:58:15           6051  \n",
            "theworldbank/doing-business                              Doing Business                                     2MB  2019-05-16 20:08:31             85  \n",
            "chicago/chicago-business-licenses-and-owners             Chicago Business Licenses and Owners             107MB  2019-05-29 16:14:17            272  \n",
            "jboysen/uk-psc                                           Who's the Boss? People with Significant Control  633MB  2017-08-23 16:00:19            600  \n",
            "mpasha96/yellow-pages-of-pakistan                        Yellow Pages of Pakistan                           3MB  2017-12-12 18:59:22            217  \n",
            "cityofLA/los-angeles-listing-of-businesses               Los Angeles Listing of Businesses                125MB  2019-05-09 05:31:41            206  \n",
            "city-of-seattle/seattle-business-districts               Seattle Business Districts                         7KB  2019-04-02 00:00:22             50  \n",
            "new-york-state/nys-empire-zones-business-annual-reports  NYS Empire Zones Business Annual Reports           2MB  2019-01-03 09:04:36             52  \n",
            "rahulbenal/business-case-study-shopping-centre           Business case study: Shopping centre               3MB  2018-01-30 21:47:25            108  \n",
            "darshank2019/business                                    yelp business csv                                 23MB  2019-04-27 05:49:38             52  \n",
            "new-york-state/nys-department-of-state-business-filings  NYS Department of State Business Filings         605KB  2019-05-02 14:32:59             41  \n",
            "pradeepp/economy-rankings                                Economy Rankings                                  15KB  2017-12-21 16:22:30            177  \n",
            "yoghurtpatil/process-data                                Process Data                                       3MB  2019-05-01 16:14:52             15  \n",
            "datafiniti/fast-food-restaurants                         Fast Food Restaurants Across America               4MB  2019-05-30 00:14:28           4499  \n",
            "datafiniti/hotel-reviews                                 Hotel Reviews                                      7MB  2018-11-16 18:35:42           5163  \n",
            "new-york-city/nyc-doing-business-search-people           NYC Doing Business Search - People                 1MB  2019-05-01 15:46:07             22  \n",
            "rajsharma5109/business-dataset                           Business Dataset                                  20MB  2019-02-08 07:27:25             14  \n"
          ],
          "name": "stdout"
        }
      ]
    },
    {
      "cell_type": "code",
      "metadata": {
        "id": "4Jze_6pWjSg8",
        "colab_type": "code",
        "outputId": "021da915-fb1a-46a4-fed4-0e37152bf462",
        "colab": {
          "base_uri": "https://localhost:8080/",
          "height": 70
        }
      },
      "source": [
        "!kaggle datasets download -d sulmansarwar/transactions-from-a-bakery"
      ],
      "execution_count": 11,
      "outputs": [
        {
          "output_type": "stream",
          "text": [
            "Downloading transactions-from-a-bakery.zip to /content\n",
            "\r  0% 0.00/113k [00:00<?, ?B/s]\n",
            "\r100% 113k/113k [00:00<00:00, 42.1MB/s]\n"
          ],
          "name": "stdout"
        }
      ]
    },
    {
      "cell_type": "code",
      "metadata": {
        "id": "f7C6H_FXmgsL",
        "colab_type": "code",
        "outputId": "34d22253-f829-46a2-8773-455d67127bf7",
        "colab": {
          "base_uri": "https://localhost:8080/",
          "height": 52
        }
      },
      "source": [
        "# with zipfile.ZipFile('customer-segmentation-tutorial-in-python.zip', 'r') as zipObj:\n",
        "#    # Extract all the contents of zip file in current directory\n",
        "#    zipObj.extractall()\n",
        "    \n",
        "!unzip transactions-from-a-bakery.zip"
      ],
      "execution_count": 12,
      "outputs": [
        {
          "output_type": "stream",
          "text": [
            "Archive:  transactions-from-a-bakery.zip\n",
            "  inflating: BreadBasket_DMS.csv     \n"
          ],
          "name": "stdout"
        }
      ]
    },
    {
      "cell_type": "markdown",
      "metadata": {
        "id": "cA8ws1H_cVxp",
        "colab_type": "text"
      },
      "source": [
        "#Import the libraries"
      ]
    },
    {
      "cell_type": "code",
      "metadata": {
        "id": "QFCbSrIaBWOX",
        "colab_type": "code",
        "colab": {
          "base_uri": "https://localhost:8080/",
          "height": 34
        },
        "outputId": "18c43f92-87f6-4c1d-e8be-c97de8437125"
      },
      "source": [
        "import pandas as pd\n",
        "import numpy as np\n",
        "import seaborn as sns\n",
        "import matplotlib.pyplot as plt\n",
        "%matplotlib inline\n",
        "\n",
        "# Warnings\n",
        "import warnings\n",
        "warnings.filterwarnings('ignore')\n",
        "\n",
        "# Style\n",
        "sns.set(style='darkgrid')\n",
        "plt.rcParams[\"patch.force_edgecolor\"] = True\n",
        "\n",
        "import os\n",
        "print(os.listdir())"
      ],
      "execution_count": 16,
      "outputs": [
        {
          "output_type": "stream",
          "text": [
            "['.config', 'kaggle.json', 'BreadBasket_DMS.csv', 'transactions-from-a-bakery.zip', 'sample_data']\n"
          ],
          "name": "stdout"
        }
      ]
    },
    {
      "cell_type": "code",
      "metadata": {
        "id": "Gqmv5Z-ucb3Q",
        "colab_type": "code",
        "colab": {}
      },
      "source": [
        ""
      ],
      "execution_count": 0,
      "outputs": []
    },
    {
      "cell_type": "markdown",
      "metadata": {
        "id": "fmBwdr2Lccj6",
        "colab_type": "text"
      },
      "source": [
        "#Exploring the Data"
      ]
    },
    {
      "cell_type": "code",
      "metadata": {
        "id": "Rq8RmpS5BWV4",
        "colab_type": "code",
        "colab": {
          "base_uri": "https://localhost:8080/",
          "height": 215
        },
        "outputId": "d49625f6-7f67-4478-9113-badc0d3456a7"
      },
      "source": [
        "df = pd.read_csv('BreadBasket_DMS.csv')\n",
        "print(df.shape)\n",
        "df.head()"
      ],
      "execution_count": 80,
      "outputs": [
        {
          "output_type": "stream",
          "text": [
            "(21293, 4)\n"
          ],
          "name": "stdout"
        },
        {
          "output_type": "execute_result",
          "data": {
            "text/html": [
              "<div>\n",
              "<style scoped>\n",
              "    .dataframe tbody tr th:only-of-type {\n",
              "        vertical-align: middle;\n",
              "    }\n",
              "\n",
              "    .dataframe tbody tr th {\n",
              "        vertical-align: top;\n",
              "    }\n",
              "\n",
              "    .dataframe thead th {\n",
              "        text-align: right;\n",
              "    }\n",
              "</style>\n",
              "<table border=\"1\" class=\"dataframe\">\n",
              "  <thead>\n",
              "    <tr style=\"text-align: right;\">\n",
              "      <th></th>\n",
              "      <th>Date</th>\n",
              "      <th>Time</th>\n",
              "      <th>Transaction</th>\n",
              "      <th>Item</th>\n",
              "    </tr>\n",
              "  </thead>\n",
              "  <tbody>\n",
              "    <tr>\n",
              "      <th>0</th>\n",
              "      <td>2016-10-30</td>\n",
              "      <td>09:58:11</td>\n",
              "      <td>1</td>\n",
              "      <td>Bread</td>\n",
              "    </tr>\n",
              "    <tr>\n",
              "      <th>1</th>\n",
              "      <td>2016-10-30</td>\n",
              "      <td>10:05:34</td>\n",
              "      <td>2</td>\n",
              "      <td>Scandinavian</td>\n",
              "    </tr>\n",
              "    <tr>\n",
              "      <th>2</th>\n",
              "      <td>2016-10-30</td>\n",
              "      <td>10:05:34</td>\n",
              "      <td>2</td>\n",
              "      <td>Scandinavian</td>\n",
              "    </tr>\n",
              "    <tr>\n",
              "      <th>3</th>\n",
              "      <td>2016-10-30</td>\n",
              "      <td>10:07:57</td>\n",
              "      <td>3</td>\n",
              "      <td>Hot chocolate</td>\n",
              "    </tr>\n",
              "    <tr>\n",
              "      <th>4</th>\n",
              "      <td>2016-10-30</td>\n",
              "      <td>10:07:57</td>\n",
              "      <td>3</td>\n",
              "      <td>Jam</td>\n",
              "    </tr>\n",
              "  </tbody>\n",
              "</table>\n",
              "</div>"
            ],
            "text/plain": [
              "         Date      Time  Transaction           Item\n",
              "0  2016-10-30  09:58:11            1          Bread\n",
              "1  2016-10-30  10:05:34            2   Scandinavian\n",
              "2  2016-10-30  10:05:34            2   Scandinavian\n",
              "3  2016-10-30  10:07:57            3  Hot chocolate\n",
              "4  2016-10-30  10:07:57            3            Jam"
            ]
          },
          "metadata": {
            "tags": []
          },
          "execution_count": 80
        }
      ]
    },
    {
      "cell_type": "code",
      "metadata": {
        "id": "be0_fCsrBWeT",
        "colab_type": "code",
        "colab": {
          "base_uri": "https://localhost:8080/",
          "height": 230
        },
        "outputId": "93fab64e-54f0-484d-8709-dac60ed17032"
      },
      "source": [
        "print('Dataset Information: \\n')\n",
        "print(df.info())"
      ],
      "execution_count": 18,
      "outputs": [
        {
          "output_type": "stream",
          "text": [
            "Dataset Information: \n",
            "\n",
            "<class 'pandas.core.frame.DataFrame'>\n",
            "RangeIndex: 21293 entries, 0 to 21292\n",
            "Data columns (total 4 columns):\n",
            "Date           21293 non-null object\n",
            "Time           21293 non-null object\n",
            "Transaction    21293 non-null int64\n",
            "Item           21293 non-null object\n",
            "dtypes: int64(1), object(3)\n",
            "memory usage: 665.5+ KB\n",
            "None\n"
          ],
          "name": "stdout"
        }
      ]
    },
    {
      "cell_type": "code",
      "metadata": {
        "id": "uATj9Wsyciig",
        "colab_type": "code",
        "colab": {
          "base_uri": "https://localhost:8080/",
          "height": 287
        },
        "outputId": "23cd91aa-7e62-4014-b86f-6049f57ae7d3"
      },
      "source": [
        "df.describe()"
      ],
      "execution_count": 79,
      "outputs": [
        {
          "output_type": "execute_result",
          "data": {
            "text/html": [
              "<div>\n",
              "<style scoped>\n",
              "    .dataframe tbody tr th:only-of-type {\n",
              "        vertical-align: middle;\n",
              "    }\n",
              "\n",
              "    .dataframe tbody tr th {\n",
              "        vertical-align: top;\n",
              "    }\n",
              "\n",
              "    .dataframe thead th {\n",
              "        text-align: right;\n",
              "    }\n",
              "</style>\n",
              "<table border=\"1\" class=\"dataframe\">\n",
              "  <thead>\n",
              "    <tr style=\"text-align: right;\">\n",
              "      <th></th>\n",
              "      <th>Transaction</th>\n",
              "    </tr>\n",
              "  </thead>\n",
              "  <tbody>\n",
              "    <tr>\n",
              "      <th>count</th>\n",
              "      <td>21293.000000</td>\n",
              "    </tr>\n",
              "    <tr>\n",
              "      <th>mean</th>\n",
              "      <td>4951.990889</td>\n",
              "    </tr>\n",
              "    <tr>\n",
              "      <th>std</th>\n",
              "      <td>2787.758400</td>\n",
              "    </tr>\n",
              "    <tr>\n",
              "      <th>min</th>\n",
              "      <td>1.000000</td>\n",
              "    </tr>\n",
              "    <tr>\n",
              "      <th>25%</th>\n",
              "      <td>2548.000000</td>\n",
              "    </tr>\n",
              "    <tr>\n",
              "      <th>50%</th>\n",
              "      <td>5067.000000</td>\n",
              "    </tr>\n",
              "    <tr>\n",
              "      <th>75%</th>\n",
              "      <td>7329.000000</td>\n",
              "    </tr>\n",
              "    <tr>\n",
              "      <th>max</th>\n",
              "      <td>9684.000000</td>\n",
              "    </tr>\n",
              "  </tbody>\n",
              "</table>\n",
              "</div>"
            ],
            "text/plain": [
              "        Transaction\n",
              "count  21293.000000\n",
              "mean    4951.990889\n",
              "std     2787.758400\n",
              "min        1.000000\n",
              "25%     2548.000000\n",
              "50%     5067.000000\n",
              "75%     7329.000000\n",
              "max     9684.000000"
            ]
          },
          "metadata": {
            "tags": []
          },
          "execution_count": 79
        }
      ]
    },
    {
      "cell_type": "code",
      "metadata": {
        "id": "oARit_xOBWsK",
        "colab_type": "code",
        "colab": {
          "base_uri": "https://localhost:8080/",
          "height": 461
        },
        "outputId": "ea14c45a-7466-41f1-aedd-0eb49d07d32c"
      },
      "source": [
        "print('Unique Items: ', df['Item'].nunique())\n",
        "df['Item'].unique()"
      ],
      "execution_count": 21,
      "outputs": [
        {
          "output_type": "stream",
          "text": [
            "Unique Items:  95\n"
          ],
          "name": "stdout"
        },
        {
          "output_type": "execute_result",
          "data": {
            "text/plain": [
              "array(['Bread', 'Scandinavian', 'Hot chocolate', 'Jam', 'Cookies',\n",
              "       'Muffin', 'Coffee', 'Pastry', 'Medialuna', 'Tea', 'NONE',\n",
              "       'Tartine', 'Basket', 'Mineral water', 'Farm House', 'Fudge',\n",
              "       'Juice', \"Ella's Kitchen Pouches\", 'Victorian Sponge', 'Frittata',\n",
              "       'Hearty & Seasonal', 'Soup', 'Pick and Mix Bowls', 'Smoothies',\n",
              "       'Cake', 'Mighty Protein', 'Chicken sand', 'Coke',\n",
              "       'My-5 Fruit Shoot', 'Focaccia', 'Sandwich', 'Alfajores', 'Eggs',\n",
              "       'Brownie', 'Dulce de Leche', 'Honey', 'The BART', 'Granola',\n",
              "       'Fairy Doors', 'Empanadas', 'Keeping It Local', 'Art Tray',\n",
              "       'Bowl Nic Pitt', 'Bread Pudding', 'Adjustment', 'Truffles',\n",
              "       'Chimichurri Oil', 'Bacon', 'Spread', 'Kids biscuit', 'Siblings',\n",
              "       'Caramel bites', 'Jammie Dodgers', 'Tiffin', 'Olum & polenta',\n",
              "       'Polenta', 'The Nomad', 'Hack the stack', 'Bakewell',\n",
              "       'Lemon and coconut', 'Toast', 'Scone', 'Crepes', 'Vegan mincepie',\n",
              "       'Bare Popcorn', 'Muesli', 'Crisps', 'Pintxos', 'Gingerbread syrup',\n",
              "       'Panatone', 'Brioche and salami', 'Afternoon with the baker',\n",
              "       'Salad', 'Chicken Stew', 'Spanish Brunch',\n",
              "       'Raspberry shortbread sandwich', 'Extra Salami or Feta',\n",
              "       'Duck egg', 'Baguette', \"Valentine's card\", 'Tshirt',\n",
              "       'Vegan Feast', 'Postcard', 'Nomad bag', 'Chocolates',\n",
              "       'Coffee granules ', 'Drinking chocolate spoons ',\n",
              "       'Christmas common', 'Argentina Night', 'Half slice Monster ',\n",
              "       'Gift voucher', 'Cherry me Dried fruit', 'Mortimer', 'Raw bars',\n",
              "       'Tacos/Fajita'], dtype=object)"
            ]
          },
          "metadata": {
            "tags": []
          },
          "execution_count": 21
        }
      ]
    },
    {
      "cell_type": "markdown",
      "metadata": {
        "id": "VHL5zvwUcwdx",
        "colab_type": "text"
      },
      "source": [
        "#Data Engineering"
      ]
    },
    {
      "cell_type": "code",
      "metadata": {
        "id": "oUx0PuvUBW4O",
        "colab_type": "code",
        "colab": {
          "base_uri": "https://localhost:8080/",
          "height": 105
        },
        "outputId": "8b66c30d-6b75-4876-e61b-e3eb8e42e076"
      },
      "source": [
        "# List how many null values for each feature:\n",
        "\n",
        "print(df.isnull().sum().sort_values(ascending=False))"
      ],
      "execution_count": 22,
      "outputs": [
        {
          "output_type": "stream",
          "text": [
            "Item           0\n",
            "Transaction    0\n",
            "Time           0\n",
            "Date           0\n",
            "dtype: int64\n"
          ],
          "name": "stdout"
        }
      ]
    },
    {
      "cell_type": "code",
      "metadata": {
        "id": "rJBVUNxZBW2Q",
        "colab_type": "code",
        "colab": {
          "base_uri": "https://localhost:8080/",
          "height": 197
        },
        "outputId": "bd6435e6-d82f-4948-eaec-34846707bd15"
      },
      "source": [
        "df[36:41]"
      ],
      "execution_count": 28,
      "outputs": [
        {
          "output_type": "execute_result",
          "data": {
            "text/html": [
              "<div>\n",
              "<style scoped>\n",
              "    .dataframe tbody tr th:only-of-type {\n",
              "        vertical-align: middle;\n",
              "    }\n",
              "\n",
              "    .dataframe tbody tr th {\n",
              "        vertical-align: top;\n",
              "    }\n",
              "\n",
              "    .dataframe thead th {\n",
              "        text-align: right;\n",
              "    }\n",
              "</style>\n",
              "<table border=\"1\" class=\"dataframe\">\n",
              "  <thead>\n",
              "    <tr style=\"text-align: right;\">\n",
              "      <th></th>\n",
              "      <th>Date</th>\n",
              "      <th>Time</th>\n",
              "      <th>Transaction</th>\n",
              "      <th>Item</th>\n",
              "    </tr>\n",
              "  </thead>\n",
              "  <tbody>\n",
              "    <tr>\n",
              "      <th>36</th>\n",
              "      <td>2016-10-30</td>\n",
              "      <td>10:32:46</td>\n",
              "      <td>14</td>\n",
              "      <td>Medialuna</td>\n",
              "    </tr>\n",
              "    <tr>\n",
              "      <th>37</th>\n",
              "      <td>2016-10-30</td>\n",
              "      <td>10:32:46</td>\n",
              "      <td>14</td>\n",
              "      <td>Pastry</td>\n",
              "    </tr>\n",
              "    <tr>\n",
              "      <th>38</th>\n",
              "      <td>2016-10-30</td>\n",
              "      <td>10:34:36</td>\n",
              "      <td>15</td>\n",
              "      <td>NONE</td>\n",
              "    </tr>\n",
              "    <tr>\n",
              "      <th>39</th>\n",
              "      <td>2016-10-30</td>\n",
              "      <td>10:34:36</td>\n",
              "      <td>15</td>\n",
              "      <td>NONE</td>\n",
              "    </tr>\n",
              "    <tr>\n",
              "      <th>40</th>\n",
              "      <td>2016-10-30</td>\n",
              "      <td>10:34:36</td>\n",
              "      <td>15</td>\n",
              "      <td>Mineral water</td>\n",
              "    </tr>\n",
              "  </tbody>\n",
              "</table>\n",
              "</div>"
            ],
            "text/plain": [
              "          Date      Time  Transaction           Item\n",
              "36  2016-10-30  10:32:46           14      Medialuna\n",
              "37  2016-10-30  10:32:46           14         Pastry\n",
              "38  2016-10-30  10:34:36           15           NONE\n",
              "39  2016-10-30  10:34:36           15           NONE\n",
              "40  2016-10-30  10:34:36           15  Mineral water"
            ]
          },
          "metadata": {
            "tags": []
          },
          "execution_count": 28
        }
      ]
    },
    {
      "cell_type": "code",
      "metadata": {
        "id": "11Jc4WQUBW0y",
        "colab_type": "code",
        "colab": {
          "base_uri": "https://localhost:8080/",
          "height": 357
        },
        "outputId": "a96a14db-98f1-407f-b41b-d289085471ba"
      },
      "source": [
        "print(len(df[df['Item']=='NONE']))\n",
        "print(df[df['Item'] == 'NONE'].count())\n",
        "df[df['Item']=='NONE'][:5]"
      ],
      "execution_count": 51,
      "outputs": [
        {
          "output_type": "stream",
          "text": [
            "786\n",
            "Date           786\n",
            "Time           786\n",
            "Transaction    786\n",
            "Item           786\n",
            "Year           786\n",
            "Month          786\n",
            "Day            786\n",
            "dtype: int64\n"
          ],
          "name": "stdout"
        },
        {
          "output_type": "execute_result",
          "data": {
            "text/html": [
              "<div>\n",
              "<style scoped>\n",
              "    .dataframe tbody tr th:only-of-type {\n",
              "        vertical-align: middle;\n",
              "    }\n",
              "\n",
              "    .dataframe tbody tr th {\n",
              "        vertical-align: top;\n",
              "    }\n",
              "\n",
              "    .dataframe thead th {\n",
              "        text-align: right;\n",
              "    }\n",
              "</style>\n",
              "<table border=\"1\" class=\"dataframe\">\n",
              "  <thead>\n",
              "    <tr style=\"text-align: right;\">\n",
              "      <th></th>\n",
              "      <th>Date</th>\n",
              "      <th>Time</th>\n",
              "      <th>Transaction</th>\n",
              "      <th>Item</th>\n",
              "      <th>Year</th>\n",
              "      <th>Month</th>\n",
              "      <th>Day</th>\n",
              "    </tr>\n",
              "  </thead>\n",
              "  <tbody>\n",
              "    <tr>\n",
              "      <th>26</th>\n",
              "      <td>2016-10-30</td>\n",
              "      <td>10:27:21</td>\n",
              "      <td>11</td>\n",
              "      <td>NONE</td>\n",
              "      <td>2016</td>\n",
              "      <td>10</td>\n",
              "      <td>30</td>\n",
              "    </tr>\n",
              "    <tr>\n",
              "      <th>38</th>\n",
              "      <td>2016-10-30</td>\n",
              "      <td>10:34:36</td>\n",
              "      <td>15</td>\n",
              "      <td>NONE</td>\n",
              "      <td>2016</td>\n",
              "      <td>10</td>\n",
              "      <td>30</td>\n",
              "    </tr>\n",
              "    <tr>\n",
              "      <th>39</th>\n",
              "      <td>2016-10-30</td>\n",
              "      <td>10:34:36</td>\n",
              "      <td>15</td>\n",
              "      <td>NONE</td>\n",
              "      <td>2016</td>\n",
              "      <td>10</td>\n",
              "      <td>30</td>\n",
              "    </tr>\n",
              "    <tr>\n",
              "      <th>66</th>\n",
              "      <td>2016-10-30</td>\n",
              "      <td>11:05:30</td>\n",
              "      <td>29</td>\n",
              "      <td>NONE</td>\n",
              "      <td>2016</td>\n",
              "      <td>10</td>\n",
              "      <td>30</td>\n",
              "    </tr>\n",
              "    <tr>\n",
              "      <th>80</th>\n",
              "      <td>2016-10-30</td>\n",
              "      <td>11:37:10</td>\n",
              "      <td>37</td>\n",
              "      <td>NONE</td>\n",
              "      <td>2016</td>\n",
              "      <td>10</td>\n",
              "      <td>30</td>\n",
              "    </tr>\n",
              "  </tbody>\n",
              "</table>\n",
              "</div>"
            ],
            "text/plain": [
              "          Date      Time  Transaction  Item  Year Month Day\n",
              "26  2016-10-30  10:27:21           11  NONE  2016    10  30\n",
              "38  2016-10-30  10:34:36           15  NONE  2016    10  30\n",
              "39  2016-10-30  10:34:36           15  NONE  2016    10  30\n",
              "66  2016-10-30  11:05:30           29  NONE  2016    10  30\n",
              "80  2016-10-30  11:37:10           37  NONE  2016    10  30"
            ]
          },
          "metadata": {
            "tags": []
          },
          "execution_count": 51
        }
      ]
    },
    {
      "cell_type": "code",
      "metadata": {
        "id": "VgwlRvvSBWqe",
        "colab_type": "code",
        "colab": {}
      },
      "source": [
        "# Year\n",
        "df['Year'] = df['Date'].apply(lambda x: x.split(\"-\")[0])\n",
        "\n",
        "# Month\n",
        "df['Month'] = df['Date'].apply(lambda x: x.split(\"-\")[1])\n",
        "\n",
        "# Day\n",
        "df['Day'] = df['Date'].apply(lambda x: x.split(\"-\")[2])\n",
        "\n",
        "#Hour\n",
        "df['Hour'] = df.Time.apply(lambda x: int(x.split(':')[0]))\n",
        "\n",
        "#Drop the time column\n",
        "df.drop(columns = 'Time', inplace = True)"
      ],
      "execution_count": 0,
      "outputs": []
    },
    {
      "cell_type": "code",
      "metadata": {
        "id": "Vg_tjBKABWpA",
        "colab_type": "code",
        "colab": {
          "base_uri": "https://localhost:8080/",
          "height": 197
        },
        "outputId": "97bf35a6-96a5-46ad-8c22-c57eed350f38"
      },
      "source": [
        "df.head()"
      ],
      "execution_count": 82,
      "outputs": [
        {
          "output_type": "execute_result",
          "data": {
            "text/html": [
              "<div>\n",
              "<style scoped>\n",
              "    .dataframe tbody tr th:only-of-type {\n",
              "        vertical-align: middle;\n",
              "    }\n",
              "\n",
              "    .dataframe tbody tr th {\n",
              "        vertical-align: top;\n",
              "    }\n",
              "\n",
              "    .dataframe thead th {\n",
              "        text-align: right;\n",
              "    }\n",
              "</style>\n",
              "<table border=\"1\" class=\"dataframe\">\n",
              "  <thead>\n",
              "    <tr style=\"text-align: right;\">\n",
              "      <th></th>\n",
              "      <th>Date</th>\n",
              "      <th>Transaction</th>\n",
              "      <th>Item</th>\n",
              "      <th>Year</th>\n",
              "      <th>Month</th>\n",
              "      <th>Day</th>\n",
              "      <th>Hour</th>\n",
              "    </tr>\n",
              "  </thead>\n",
              "  <tbody>\n",
              "    <tr>\n",
              "      <th>0</th>\n",
              "      <td>2016-10-30</td>\n",
              "      <td>1</td>\n",
              "      <td>Bread</td>\n",
              "      <td>2016</td>\n",
              "      <td>10</td>\n",
              "      <td>30</td>\n",
              "      <td>9</td>\n",
              "    </tr>\n",
              "    <tr>\n",
              "      <th>1</th>\n",
              "      <td>2016-10-30</td>\n",
              "      <td>2</td>\n",
              "      <td>Scandinavian</td>\n",
              "      <td>2016</td>\n",
              "      <td>10</td>\n",
              "      <td>30</td>\n",
              "      <td>10</td>\n",
              "    </tr>\n",
              "    <tr>\n",
              "      <th>2</th>\n",
              "      <td>2016-10-30</td>\n",
              "      <td>2</td>\n",
              "      <td>Scandinavian</td>\n",
              "      <td>2016</td>\n",
              "      <td>10</td>\n",
              "      <td>30</td>\n",
              "      <td>10</td>\n",
              "    </tr>\n",
              "    <tr>\n",
              "      <th>3</th>\n",
              "      <td>2016-10-30</td>\n",
              "      <td>3</td>\n",
              "      <td>Hot chocolate</td>\n",
              "      <td>2016</td>\n",
              "      <td>10</td>\n",
              "      <td>30</td>\n",
              "      <td>10</td>\n",
              "    </tr>\n",
              "    <tr>\n",
              "      <th>4</th>\n",
              "      <td>2016-10-30</td>\n",
              "      <td>3</td>\n",
              "      <td>Jam</td>\n",
              "      <td>2016</td>\n",
              "      <td>10</td>\n",
              "      <td>30</td>\n",
              "      <td>10</td>\n",
              "    </tr>\n",
              "  </tbody>\n",
              "</table>\n",
              "</div>"
            ],
            "text/plain": [
              "         Date  Transaction           Item  Year Month Day  Hour\n",
              "0  2016-10-30            1          Bread  2016    10  30     9\n",
              "1  2016-10-30            2   Scandinavian  2016    10  30    10\n",
              "2  2016-10-30            2   Scandinavian  2016    10  30    10\n",
              "3  2016-10-30            3  Hot chocolate  2016    10  30    10\n",
              "4  2016-10-30            3            Jam  2016    10  30    10"
            ]
          },
          "metadata": {
            "tags": []
          },
          "execution_count": 82
        }
      ]
    },
    {
      "cell_type": "markdown",
      "metadata": {
        "id": "R-qqpOh9XYvp",
        "colab_type": "text"
      },
      "source": [
        "#When we are having Item vlaue as NONE"
      ]
    },
    {
      "cell_type": "code",
      "metadata": {
        "id": "VHeqA4WjBWnZ",
        "colab_type": "code",
        "colab": {
          "base_uri": "https://localhost:8080/",
          "height": 336
        },
        "outputId": "b51cffaf-e991-4a18-9dee-288c1b521064"
      },
      "source": [
        "most_sold = df['Item'].value_counts().head(15)\n",
        "print('Most Sold Items: \\n')\n",
        "print(most_sold)"
      ],
      "execution_count": 55,
      "outputs": [
        {
          "output_type": "stream",
          "text": [
            "Most Sold Items: \n",
            "\n",
            "Coffee           5471\n",
            "Bread            3325\n",
            "Tea              1435\n",
            "Cake             1025\n",
            "Pastry            856\n",
            "NONE              786\n",
            "Sandwich          771\n",
            "Medialuna         616\n",
            "Hot chocolate     590\n",
            "Cookies           540\n",
            "Brownie           379\n",
            "Farm House        374\n",
            "Muffin            370\n",
            "Juice             369\n",
            "Alfajores         369\n",
            "Name: Item, dtype: int64\n"
          ],
          "name": "stdout"
        }
      ]
    },
    {
      "cell_type": "code",
      "metadata": {
        "id": "VfOai9s3BWlg",
        "colab_type": "code",
        "colab": {
          "base_uri": "https://localhost:8080/",
          "height": 458
        },
        "outputId": "6ae6289e-9cea-4e49-97e6-d28d09477716"
      },
      "source": [
        "#plt.plot(most_sold)\n",
        "plt.figure(figsize=(20,6))\n",
        "\n",
        "#Line chart\n",
        "plt.subplot(1,2,1)\n",
        "most_sold.plot(kind='line' , color = 'r')\n",
        "plt.title('Items Most Sold')\n",
        "plt.legend()\n",
        "\n",
        "#Bar chart\n",
        "plt.subplot(1,2,2)\n",
        "most_sold.plot(kind='bar', color = 'g')\n",
        "plt.title('Items Most Sold')\n",
        "plt.legend()\n",
        "plt.show()"
      ],
      "execution_count": 39,
      "outputs": [
        {
          "output_type": "display_data",
          "data": {
            "image/png": "[encoded data removed]",
            "text/plain": [
              "<Figure size 1440x432 with 2 Axes>"
            ]
          },
          "metadata": {
            "tags": []
          }
        }
      ]
    },
    {
      "cell_type": "code",
      "metadata": {
        "id": "QcKcex3VVf0d",
        "colab_type": "code",
        "colab": {
          "base_uri": "https://localhost:8080/",
          "height": 52
        },
        "outputId": "76889ee6-7067-4fa2-fa23-81f9319796b8"
      },
      "source": [
        "print('length =' , df['Transaction'].nunique())\n",
        "df['Transaction'].unique()"
      ],
      "execution_count": 42,
      "outputs": [
        {
          "output_type": "stream",
          "text": [
            "length = 9531\n"
          ],
          "name": "stdout"
        },
        {
          "output_type": "execute_result",
          "data": {
            "text/plain": [
              "array([   1,    2,    3, ..., 9682, 9683, 9684])"
            ]
          },
          "metadata": {
            "tags": []
          },
          "execution_count": 42
        }
      ]
    },
    {
      "cell_type": "code",
      "metadata": {
        "id": "FIA2CGEpV3nR",
        "colab_type": "code",
        "colab": {
          "base_uri": "https://localhost:8080/",
          "height": 176
        },
        "outputId": "e8c96f5a-77a8-4b49-f71d-046daa4dff1f"
      },
      "source": [
        "df.groupby('Month')['Transaction'].nunique()"
      ],
      "execution_count": 43,
      "outputs": [
        {
          "output_type": "execute_result",
          "data": {
            "text/plain": [
              "Month\n",
              "01    1598\n",
              "02    1630\n",
              "03    1768\n",
              "04     510\n",
              "10     175\n",
              "11    2154\n",
              "12    1696\n",
              "Name: Transaction, dtype: int64"
            ]
          },
          "metadata": {
            "tags": []
          },
          "execution_count": 43
        }
      ]
    },
    {
      "cell_type": "code",
      "metadata": {
        "id": "jP0iixMrBWc_",
        "colab_type": "code",
        "colab": {
          "base_uri": "https://localhost:8080/",
          "height": 304
        },
        "outputId": "5638fb69-d5d7-443b-fe08-c7428f8ec5d5"
      },
      "source": [
        "df.groupby('Month')['Transaction'].nunique().plot(kind='bar', title='Monthly Sales')\n",
        "plt.legend()\n",
        "plt.show()"
      ],
      "execution_count": 45,
      "outputs": [
        {
          "output_type": "display_data",
          "data": {
            "image/png": "[encoded data removed]",
            "text/plain": [
              "<Figure size 432x288 with 1 Axes>"
            ]
          },
          "metadata": {
            "tags": []
          }
        }
      ]
    },
    {
      "cell_type": "code",
      "metadata": {
        "id": "IsZhI1B2BWbp",
        "colab_type": "code",
        "colab": {
          "base_uri": "https://localhost:8080/",
          "height": 176
        },
        "outputId": "c23cfad4-4685-46aa-b094-134c5aaec53c"
      },
      "source": [
        "print(df.groupby('Month')['Day'].nunique())"
      ],
      "execution_count": 46,
      "outputs": [
        {
          "output_type": "stream",
          "text": [
            "Month\n",
            "01    30\n",
            "02    28\n",
            "03    31\n",
            "04     9\n",
            "10     2\n",
            "11    30\n",
            "12    29\n",
            "Name: Day, dtype: int64\n"
          ],
          "name": "stdout"
        }
      ]
    },
    {
      "cell_type": "markdown",
      "metadata": {
        "id": "2vQpaTcOa-_f",
        "colab_type": "text"
      },
      "source": [
        "#Now apply Market Basket Analysis algorithm\n",
        "`association_rules are most important in finding the best set of products . `        \n",
        ", `apriori algorithm is used for market baset analysis.`"
      ]
    },
    {
      "cell_type": "code",
      "metadata": {
        "id": "Ceo6SUU-BWaO",
        "colab_type": "code",
        "colab": {}
      },
      "source": [
        "from mlxtend.preprocessing import TransactionEncoder\n",
        "from mlxtend.frequent_patterns import association_rules, apriori"
      ],
      "execution_count": 0,
      "outputs": []
    },
    {
      "cell_type": "code",
      "metadata": {
        "id": "CCQerLTVWQBM",
        "colab_type": "code",
        "colab": {
          "base_uri": "https://localhost:8080/",
          "height": 34
        },
        "outputId": "5ea85509-35b8-4f52-e319-f464d4008782"
      },
      "source": [
        "transaction_list = []\n",
        "\n",
        "# For loop to create a list of the unique transactions throughout the dataset:\n",
        "for i in df['Transaction'].unique():\n",
        "    tlist = list(set(df[df['Transaction']==i]['Item']))\n",
        "    if len(tlist)>0:\n",
        "        transaction_list.append(tlist)\n",
        "        \n",
        "        \n",
        "print(len(transaction_list))"
      ],
      "execution_count": 48,
      "outputs": [
        {
          "output_type": "stream",
          "text": [
            "9531\n"
          ],
          "name": "stdout"
        }
      ]
    },
    {
      "cell_type": "code",
      "metadata": {
        "id": "uKlFpQ6Ta7wp",
        "colab_type": "code",
        "colab": {}
      },
      "source": [
        ""
      ],
      "execution_count": 0,
      "outputs": []
    },
    {
      "cell_type": "code",
      "metadata": {
        "id": "Ef-bli07WP85",
        "colab_type": "code",
        "colab": {}
      },
      "source": [
        "te = TransactionEncoder()\n",
        "te_ary = te.fit(transaction_list).transform(transaction_list)\n",
        "df2 = pd.DataFrame(te_ary, columns=te.columns_)"
      ],
      "execution_count": 0,
      "outputs": []
    },
    {
      "cell_type": "code",
      "metadata": {
        "id": "jyEZhfn8WP42",
        "colab_type": "code",
        "colab": {
          "base_uri": "https://localhost:8080/",
          "height": 1247
        },
        "outputId": "2630549c-227c-44d4-8fbd-15390a644417"
      },
      "source": [
        "frequent_itemsets = apriori(df2, min_support=0.01, use_colnames=True)\n",
        "rules = association_rules(frequent_itemsets, metric='lift', min_threshold=1.0)\n",
        "rules.sort_values('confidence', ascending=False)"
      ],
      "execution_count": 50,
      "outputs": [
        {
          "output_type": "execute_result",
          "data": {
            "text/html": [
              "<div>\n",
              "<style scoped>\n",
              "    .dataframe tbody tr th:only-of-type {\n",
              "        vertical-align: middle;\n",
              "    }\n",
              "\n",
              "    .dataframe tbody tr th {\n",
              "        vertical-align: top;\n",
              "    }\n",
              "\n",
              "    .dataframe thead th {\n",
              "        text-align: right;\n",
              "    }\n",
              "</style>\n",
              "<table border=\"1\" class=\"dataframe\">\n",
              "  <thead>\n",
              "    <tr style=\"text-align: right;\">\n",
              "      <th></th>\n",
              "      <th>antecedents</th>\n",
              "      <th>consequents</th>\n",
              "      <th>antecedent support</th>\n",
              "      <th>consequent support</th>\n",
              "      <th>support</th>\n",
              "      <th>confidence</th>\n",
              "      <th>lift</th>\n",
              "      <th>leverage</th>\n",
              "      <th>conviction</th>\n",
              "    </tr>\n",
              "  </thead>\n",
              "  <tbody>\n",
              "    <tr>\n",
              "      <th>33</th>\n",
              "      <td>(Toast)</td>\n",
              "      <td>(Coffee)</td>\n",
              "      <td>0.033365</td>\n",
              "      <td>0.475081</td>\n",
              "      <td>0.023502</td>\n",
              "      <td>0.704403</td>\n",
              "      <td>1.482699</td>\n",
              "      <td>0.007651</td>\n",
              "      <td>1.775789</td>\n",
              "    </tr>\n",
              "    <tr>\n",
              "      <th>30</th>\n",
              "      <td>(Spanish Brunch)</td>\n",
              "      <td>(Coffee)</td>\n",
              "      <td>0.018046</td>\n",
              "      <td>0.475081</td>\n",
              "      <td>0.010807</td>\n",
              "      <td>0.598837</td>\n",
              "      <td>1.260494</td>\n",
              "      <td>0.002233</td>\n",
              "      <td>1.308493</td>\n",
              "    </tr>\n",
              "    <tr>\n",
              "      <th>18</th>\n",
              "      <td>(Medialuna)</td>\n",
              "      <td>(Coffee)</td>\n",
              "      <td>0.061379</td>\n",
              "      <td>0.475081</td>\n",
              "      <td>0.034939</td>\n",
              "      <td>0.569231</td>\n",
              "      <td>1.198175</td>\n",
              "      <td>0.005779</td>\n",
              "      <td>1.218561</td>\n",
              "    </tr>\n",
              "    <tr>\n",
              "      <th>25</th>\n",
              "      <td>(Pastry)</td>\n",
              "      <td>(Coffee)</td>\n",
              "      <td>0.085510</td>\n",
              "      <td>0.475081</td>\n",
              "      <td>0.047214</td>\n",
              "      <td>0.552147</td>\n",
              "      <td>1.162216</td>\n",
              "      <td>0.006590</td>\n",
              "      <td>1.172079</td>\n",
              "    </tr>\n",
              "    <tr>\n",
              "      <th>0</th>\n",
              "      <td>(Alfajores)</td>\n",
              "      <td>(Coffee)</td>\n",
              "      <td>0.036093</td>\n",
              "      <td>0.475081</td>\n",
              "      <td>0.019515</td>\n",
              "      <td>0.540698</td>\n",
              "      <td>1.138116</td>\n",
              "      <td>0.002368</td>\n",
              "      <td>1.142861</td>\n",
              "    </tr>\n",
              "    <tr>\n",
              "      <th>17</th>\n",
              "      <td>(Juice)</td>\n",
              "      <td>(Coffee)</td>\n",
              "      <td>0.038296</td>\n",
              "      <td>0.475081</td>\n",
              "      <td>0.020460</td>\n",
              "      <td>0.534247</td>\n",
              "      <td>1.124537</td>\n",
              "      <td>0.002266</td>\n",
              "      <td>1.127031</td>\n",
              "    </tr>\n",
              "    <tr>\n",
              "      <th>23</th>\n",
              "      <td>(NONE)</td>\n",
              "      <td>(Coffee)</td>\n",
              "      <td>0.079005</td>\n",
              "      <td>0.475081</td>\n",
              "      <td>0.042073</td>\n",
              "      <td>0.532537</td>\n",
              "      <td>1.120938</td>\n",
              "      <td>0.004539</td>\n",
              "      <td>1.122908</td>\n",
              "    </tr>\n",
              "    <tr>\n",
              "      <th>27</th>\n",
              "      <td>(Sandwich)</td>\n",
              "      <td>(Coffee)</td>\n",
              "      <td>0.071346</td>\n",
              "      <td>0.475081</td>\n",
              "      <td>0.037981</td>\n",
              "      <td>0.532353</td>\n",
              "      <td>1.120551</td>\n",
              "      <td>0.004086</td>\n",
              "      <td>1.122468</td>\n",
              "    </tr>\n",
              "    <tr>\n",
              "      <th>7</th>\n",
              "      <td>(Cake)</td>\n",
              "      <td>(Coffee)</td>\n",
              "      <td>0.103137</td>\n",
              "      <td>0.475081</td>\n",
              "      <td>0.054349</td>\n",
              "      <td>0.526958</td>\n",
              "      <td>1.109196</td>\n",
              "      <td>0.005350</td>\n",
              "      <td>1.109667</td>\n",
              "    </tr>\n",
              "    <tr>\n",
              "      <th>29</th>\n",
              "      <td>(Scone)</td>\n",
              "      <td>(Coffee)</td>\n",
              "      <td>0.034309</td>\n",
              "      <td>0.475081</td>\n",
              "      <td>0.017941</td>\n",
              "      <td>0.522936</td>\n",
              "      <td>1.100729</td>\n",
              "      <td>0.001642</td>\n",
              "      <td>1.100310</td>\n",
              "    </tr>\n",
              "    <tr>\n",
              "      <th>13</th>\n",
              "      <td>(Cookies)</td>\n",
              "      <td>(Coffee)</td>\n",
              "      <td>0.054034</td>\n",
              "      <td>0.475081</td>\n",
              "      <td>0.028014</td>\n",
              "      <td>0.518447</td>\n",
              "      <td>1.091280</td>\n",
              "      <td>0.002343</td>\n",
              "      <td>1.090053</td>\n",
              "    </tr>\n",
              "    <tr>\n",
              "      <th>15</th>\n",
              "      <td>(Hot chocolate)</td>\n",
              "      <td>(Coffee)</td>\n",
              "      <td>0.057916</td>\n",
              "      <td>0.475081</td>\n",
              "      <td>0.029378</td>\n",
              "      <td>0.507246</td>\n",
              "      <td>1.067704</td>\n",
              "      <td>0.001863</td>\n",
              "      <td>1.065276</td>\n",
              "    </tr>\n",
              "    <tr>\n",
              "      <th>5</th>\n",
              "      <td>(Brownie)</td>\n",
              "      <td>(Coffee)</td>\n",
              "      <td>0.039765</td>\n",
              "      <td>0.475081</td>\n",
              "      <td>0.019515</td>\n",
              "      <td>0.490765</td>\n",
              "      <td>1.033013</td>\n",
              "      <td>0.000624</td>\n",
              "      <td>1.030799</td>\n",
              "    </tr>\n",
              "    <tr>\n",
              "      <th>21</th>\n",
              "      <td>(Muffin)</td>\n",
              "      <td>(Coffee)</td>\n",
              "      <td>0.038191</td>\n",
              "      <td>0.475081</td>\n",
              "      <td>0.018676</td>\n",
              "      <td>0.489011</td>\n",
              "      <td>1.029321</td>\n",
              "      <td>0.000532</td>\n",
              "      <td>1.027260</td>\n",
              "    </tr>\n",
              "    <tr>\n",
              "      <th>2</th>\n",
              "      <td>(Pastry)</td>\n",
              "      <td>(Bread)</td>\n",
              "      <td>0.085510</td>\n",
              "      <td>0.324940</td>\n",
              "      <td>0.028958</td>\n",
              "      <td>0.338650</td>\n",
              "      <td>1.042194</td>\n",
              "      <td>0.001172</td>\n",
              "      <td>1.020731</td>\n",
              "    </tr>\n",
              "    <tr>\n",
              "      <th>35</th>\n",
              "      <td>(NONE)</td>\n",
              "      <td>(Tea)</td>\n",
              "      <td>0.079005</td>\n",
              "      <td>0.141643</td>\n",
              "      <td>0.018256</td>\n",
              "      <td>0.231076</td>\n",
              "      <td>1.631394</td>\n",
              "      <td>0.007066</td>\n",
              "      <td>1.116309</td>\n",
              "    </tr>\n",
              "    <tr>\n",
              "      <th>11</th>\n",
              "      <td>(Cake)</td>\n",
              "      <td>(Tea)</td>\n",
              "      <td>0.103137</td>\n",
              "      <td>0.141643</td>\n",
              "      <td>0.023607</td>\n",
              "      <td>0.228891</td>\n",
              "      <td>1.615972</td>\n",
              "      <td>0.008999</td>\n",
              "      <td>1.113146</td>\n",
              "    </tr>\n",
              "    <tr>\n",
              "      <th>37</th>\n",
              "      <td>(Sandwich)</td>\n",
              "      <td>(Tea)</td>\n",
              "      <td>0.071346</td>\n",
              "      <td>0.141643</td>\n",
              "      <td>0.014269</td>\n",
              "      <td>0.200000</td>\n",
              "      <td>1.412000</td>\n",
              "      <td>0.004164</td>\n",
              "      <td>1.072946</td>\n",
              "    </tr>\n",
              "    <tr>\n",
              "      <th>9</th>\n",
              "      <td>(Hot chocolate)</td>\n",
              "      <td>(Cake)</td>\n",
              "      <td>0.057916</td>\n",
              "      <td>0.103137</td>\n",
              "      <td>0.011331</td>\n",
              "      <td>0.195652</td>\n",
              "      <td>1.897010</td>\n",
              "      <td>0.005358</td>\n",
              "      <td>1.115019</td>\n",
              "    </tr>\n",
              "    <tr>\n",
              "      <th>10</th>\n",
              "      <td>(Tea)</td>\n",
              "      <td>(Cake)</td>\n",
              "      <td>0.141643</td>\n",
              "      <td>0.103137</td>\n",
              "      <td>0.023607</td>\n",
              "      <td>0.166667</td>\n",
              "      <td>1.615972</td>\n",
              "      <td>0.008999</td>\n",
              "      <td>1.076235</td>\n",
              "    </tr>\n",
              "    <tr>\n",
              "      <th>39</th>\n",
              "      <td>(Pastry)</td>\n",
              "      <td>(Coffee, Bread)</td>\n",
              "      <td>0.085510</td>\n",
              "      <td>0.089393</td>\n",
              "      <td>0.011122</td>\n",
              "      <td>0.130061</td>\n",
              "      <td>1.454947</td>\n",
              "      <td>0.003478</td>\n",
              "      <td>1.046749</td>\n",
              "    </tr>\n",
              "    <tr>\n",
              "      <th>34</th>\n",
              "      <td>(Tea)</td>\n",
              "      <td>(NONE)</td>\n",
              "      <td>0.141643</td>\n",
              "      <td>0.079005</td>\n",
              "      <td>0.018256</td>\n",
              "      <td>0.128889</td>\n",
              "      <td>1.631394</td>\n",
              "      <td>0.007066</td>\n",
              "      <td>1.057264</td>\n",
              "    </tr>\n",
              "    <tr>\n",
              "      <th>38</th>\n",
              "      <td>(Coffee, Bread)</td>\n",
              "      <td>(Pastry)</td>\n",
              "      <td>0.089393</td>\n",
              "      <td>0.085510</td>\n",
              "      <td>0.011122</td>\n",
              "      <td>0.124413</td>\n",
              "      <td>1.454947</td>\n",
              "      <td>0.003478</td>\n",
              "      <td>1.044430</td>\n",
              "    </tr>\n",
              "    <tr>\n",
              "      <th>6</th>\n",
              "      <td>(Coffee)</td>\n",
              "      <td>(Cake)</td>\n",
              "      <td>0.475081</td>\n",
              "      <td>0.103137</td>\n",
              "      <td>0.054349</td>\n",
              "      <td>0.114399</td>\n",
              "      <td>1.109196</td>\n",
              "      <td>0.005350</td>\n",
              "      <td>1.012717</td>\n",
              "    </tr>\n",
              "    <tr>\n",
              "      <th>8</th>\n",
              "      <td>(Cake)</td>\n",
              "      <td>(Hot chocolate)</td>\n",
              "      <td>0.103137</td>\n",
              "      <td>0.057916</td>\n",
              "      <td>0.011331</td>\n",
              "      <td>0.109868</td>\n",
              "      <td>1.897010</td>\n",
              "      <td>0.005358</td>\n",
              "      <td>1.058364</td>\n",
              "    </tr>\n",
              "    <tr>\n",
              "      <th>36</th>\n",
              "      <td>(Tea)</td>\n",
              "      <td>(Sandwich)</td>\n",
              "      <td>0.141643</td>\n",
              "      <td>0.071346</td>\n",
              "      <td>0.014269</td>\n",
              "      <td>0.100741</td>\n",
              "      <td>1.412000</td>\n",
              "      <td>0.004164</td>\n",
              "      <td>1.032688</td>\n",
              "    </tr>\n",
              "    <tr>\n",
              "      <th>24</th>\n",
              "      <td>(Coffee)</td>\n",
              "      <td>(Pastry)</td>\n",
              "      <td>0.475081</td>\n",
              "      <td>0.085510</td>\n",
              "      <td>0.047214</td>\n",
              "      <td>0.099382</td>\n",
              "      <td>1.162216</td>\n",
              "      <td>0.006590</td>\n",
              "      <td>1.015402</td>\n",
              "    </tr>\n",
              "    <tr>\n",
              "      <th>3</th>\n",
              "      <td>(Bread)</td>\n",
              "      <td>(Pastry)</td>\n",
              "      <td>0.324940</td>\n",
              "      <td>0.085510</td>\n",
              "      <td>0.028958</td>\n",
              "      <td>0.089119</td>\n",
              "      <td>1.042194</td>\n",
              "      <td>0.001172</td>\n",
              "      <td>1.003961</td>\n",
              "    </tr>\n",
              "    <tr>\n",
              "      <th>22</th>\n",
              "      <td>(Coffee)</td>\n",
              "      <td>(NONE)</td>\n",
              "      <td>0.475081</td>\n",
              "      <td>0.079005</td>\n",
              "      <td>0.042073</td>\n",
              "      <td>0.088560</td>\n",
              "      <td>1.120938</td>\n",
              "      <td>0.004539</td>\n",
              "      <td>1.010483</td>\n",
              "    </tr>\n",
              "    <tr>\n",
              "      <th>26</th>\n",
              "      <td>(Coffee)</td>\n",
              "      <td>(Sandwich)</td>\n",
              "      <td>0.475081</td>\n",
              "      <td>0.071346</td>\n",
              "      <td>0.037981</td>\n",
              "      <td>0.079947</td>\n",
              "      <td>1.120551</td>\n",
              "      <td>0.004086</td>\n",
              "      <td>1.009348</td>\n",
              "    </tr>\n",
              "    <tr>\n",
              "      <th>19</th>\n",
              "      <td>(Coffee)</td>\n",
              "      <td>(Medialuna)</td>\n",
              "      <td>0.475081</td>\n",
              "      <td>0.061379</td>\n",
              "      <td>0.034939</td>\n",
              "      <td>0.073542</td>\n",
              "      <td>1.198175</td>\n",
              "      <td>0.005779</td>\n",
              "      <td>1.013129</td>\n",
              "    </tr>\n",
              "    <tr>\n",
              "      <th>14</th>\n",
              "      <td>(Coffee)</td>\n",
              "      <td>(Hot chocolate)</td>\n",
              "      <td>0.475081</td>\n",
              "      <td>0.057916</td>\n",
              "      <td>0.029378</td>\n",
              "      <td>0.061837</td>\n",
              "      <td>1.067704</td>\n",
              "      <td>0.001863</td>\n",
              "      <td>1.004180</td>\n",
              "    </tr>\n",
              "    <tr>\n",
              "      <th>12</th>\n",
              "      <td>(Coffee)</td>\n",
              "      <td>(Cookies)</td>\n",
              "      <td>0.475081</td>\n",
              "      <td>0.054034</td>\n",
              "      <td>0.028014</td>\n",
              "      <td>0.058966</td>\n",
              "      <td>1.091280</td>\n",
              "      <td>0.002343</td>\n",
              "      <td>1.005241</td>\n",
              "    </tr>\n",
              "    <tr>\n",
              "      <th>32</th>\n",
              "      <td>(Coffee)</td>\n",
              "      <td>(Toast)</td>\n",
              "      <td>0.475081</td>\n",
              "      <td>0.033365</td>\n",
              "      <td>0.023502</td>\n",
              "      <td>0.049470</td>\n",
              "      <td>1.482699</td>\n",
              "      <td>0.007651</td>\n",
              "      <td>1.016943</td>\n",
              "    </tr>\n",
              "    <tr>\n",
              "      <th>16</th>\n",
              "      <td>(Coffee)</td>\n",
              "      <td>(Juice)</td>\n",
              "      <td>0.475081</td>\n",
              "      <td>0.038296</td>\n",
              "      <td>0.020460</td>\n",
              "      <td>0.043065</td>\n",
              "      <td>1.124537</td>\n",
              "      <td>0.002266</td>\n",
              "      <td>1.004984</td>\n",
              "    </tr>\n",
              "    <tr>\n",
              "      <th>1</th>\n",
              "      <td>(Coffee)</td>\n",
              "      <td>(Alfajores)</td>\n",
              "      <td>0.475081</td>\n",
              "      <td>0.036093</td>\n",
              "      <td>0.019515</td>\n",
              "      <td>0.041078</td>\n",
              "      <td>1.138116</td>\n",
              "      <td>0.002368</td>\n",
              "      <td>1.005199</td>\n",
              "    </tr>\n",
              "    <tr>\n",
              "      <th>4</th>\n",
              "      <td>(Coffee)</td>\n",
              "      <td>(Brownie)</td>\n",
              "      <td>0.475081</td>\n",
              "      <td>0.039765</td>\n",
              "      <td>0.019515</td>\n",
              "      <td>0.041078</td>\n",
              "      <td>1.033013</td>\n",
              "      <td>0.000624</td>\n",
              "      <td>1.001369</td>\n",
              "    </tr>\n",
              "    <tr>\n",
              "      <th>20</th>\n",
              "      <td>(Coffee)</td>\n",
              "      <td>(Muffin)</td>\n",
              "      <td>0.475081</td>\n",
              "      <td>0.038191</td>\n",
              "      <td>0.018676</td>\n",
              "      <td>0.039311</td>\n",
              "      <td>1.029321</td>\n",
              "      <td>0.000532</td>\n",
              "      <td>1.001166</td>\n",
              "    </tr>\n",
              "    <tr>\n",
              "      <th>28</th>\n",
              "      <td>(Coffee)</td>\n",
              "      <td>(Scone)</td>\n",
              "      <td>0.475081</td>\n",
              "      <td>0.034309</td>\n",
              "      <td>0.017941</td>\n",
              "      <td>0.037765</td>\n",
              "      <td>1.100729</td>\n",
              "      <td>0.001642</td>\n",
              "      <td>1.003592</td>\n",
              "    </tr>\n",
              "    <tr>\n",
              "      <th>31</th>\n",
              "      <td>(Coffee)</td>\n",
              "      <td>(Spanish Brunch)</td>\n",
              "      <td>0.475081</td>\n",
              "      <td>0.018046</td>\n",
              "      <td>0.010807</td>\n",
              "      <td>0.022747</td>\n",
              "      <td>1.260494</td>\n",
              "      <td>0.002233</td>\n",
              "      <td>1.004810</td>\n",
              "    </tr>\n",
              "  </tbody>\n",
              "</table>\n",
              "</div>"
            ],
            "text/plain": [
              "         antecedents       consequents  ...  leverage  conviction\n",
              "33           (Toast)          (Coffee)  ...  0.007651    1.775789\n",
              "30  (Spanish Brunch)          (Coffee)  ...  0.002233    1.308493\n",
              "18       (Medialuna)          (Coffee)  ...  0.005779    1.218561\n",
              "25          (Pastry)          (Coffee)  ...  0.006590    1.172079\n",
              "0        (Alfajores)          (Coffee)  ...  0.002368    1.142861\n",
              "17           (Juice)          (Coffee)  ...  0.002266    1.127031\n",
              "23            (NONE)          (Coffee)  ...  0.004539    1.122908\n",
              "27        (Sandwich)          (Coffee)  ...  0.004086    1.122468\n",
              "7             (Cake)          (Coffee)  ...  0.005350    1.109667\n",
              "29           (Scone)          (Coffee)  ...  0.001642    1.100310\n",
              "13         (Cookies)          (Coffee)  ...  0.002343    1.090053\n",
              "15   (Hot chocolate)          (Coffee)  ...  0.001863    1.065276\n",
              "5          (Brownie)          (Coffee)  ...  0.000624    1.030799\n",
              "21          (Muffin)          (Coffee)  ...  0.000532    1.027260\n",
              "2           (Pastry)           (Bread)  ...  0.001172    1.020731\n",
              "35            (NONE)             (Tea)  ...  0.007066    1.116309\n",
              "11            (Cake)             (Tea)  ...  0.008999    1.113146\n",
              "37        (Sandwich)             (Tea)  ...  0.004164    1.072946\n",
              "9    (Hot chocolate)            (Cake)  ...  0.005358    1.115019\n",
              "10             (Tea)            (Cake)  ...  0.008999    1.076235\n",
              "39          (Pastry)   (Coffee, Bread)  ...  0.003478    1.046749\n",
              "34             (Tea)            (NONE)  ...  0.007066    1.057264\n",
              "38   (Coffee, Bread)          (Pastry)  ...  0.003478    1.044430\n",
              "6           (Coffee)            (Cake)  ...  0.005350    1.012717\n",
              "8             (Cake)   (Hot chocolate)  ...  0.005358    1.058364\n",
              "36             (Tea)        (Sandwich)  ...  0.004164    1.032688\n",
              "24          (Coffee)          (Pastry)  ...  0.006590    1.015402\n",
              "3            (Bread)          (Pastry)  ...  0.001172    1.003961\n",
              "22          (Coffee)            (NONE)  ...  0.004539    1.010483\n",
              "26          (Coffee)        (Sandwich)  ...  0.004086    1.009348\n",
              "19          (Coffee)       (Medialuna)  ...  0.005779    1.013129\n",
              "14          (Coffee)   (Hot chocolate)  ...  0.001863    1.004180\n",
              "12          (Coffee)         (Cookies)  ...  0.002343    1.005241\n",
              "32          (Coffee)           (Toast)  ...  0.007651    1.016943\n",
              "16          (Coffee)           (Juice)  ...  0.002266    1.004984\n",
              "1           (Coffee)       (Alfajores)  ...  0.002368    1.005199\n",
              "4           (Coffee)         (Brownie)  ...  0.000624    1.001369\n",
              "20          (Coffee)          (Muffin)  ...  0.000532    1.001166\n",
              "28          (Coffee)           (Scone)  ...  0.001642    1.003592\n",
              "31          (Coffee)  (Spanish Brunch)  ...  0.002233    1.004810\n",
              "\n",
              "[40 rows x 9 columns]"
            ]
          },
          "metadata": {
            "tags": []
          },
          "execution_count": 50
        }
      ]
    },
    {
      "cell_type": "markdown",
      "metadata": {
        "id": "ynjc1YP5bq-Z",
        "colab_type": "text"
      },
      "source": [
        "` We clearly see meaningful results here from our analysis shown above, where the higher the lift value, the stronger the correlation between the items.`\n",
        ">Toast ---> Coffee    \n",
        "Pastry -> Bread      \n",
        "Cake -> Tea                    \n",
        "(Coffee + Tea) -> Cake     \n",
        "Sandwhich -> Tea                \n",
        "Hot Chocolate -> Cake    "
      ]
    },
    {
      "cell_type": "markdown",
      "metadata": {
        "id": "2bOx5t75Xig8",
        "colab_type": "text"
      },
      "source": [
        "#when we don't have Item value as NONE"
      ]
    },
    {
      "cell_type": "code",
      "metadata": {
        "id": "hKsvDe2dWP2W",
        "colab_type": "code",
        "colab": {
          "base_uri": "https://localhost:8080/",
          "height": 34
        },
        "outputId": "dc9f1722-34d5-43df-8223-50df02a809b9"
      },
      "source": [
        "df = df[df['Item'] != 'NONE']\n",
        "unique_items = len(df['Item'].unique())\n",
        "print('Unique items sold: ' + str(unique_items))"
      ],
      "execution_count": 83,
      "outputs": [
        {
          "output_type": "stream",
          "text": [
            "Unique items sold: 94\n"
          ],
          "name": "stdout"
        }
      ]
    },
    {
      "cell_type": "code",
      "metadata": {
        "id": "l07Qoib_WPzp",
        "colab_type": "code",
        "colab": {
          "base_uri": "https://localhost:8080/",
          "height": 368
        },
        "outputId": "82d4f6aa-1c1d-4fc7-8e97-18b3d447ebf8"
      },
      "source": [
        "sns.set(style = 'whitegrid')\n",
        "sales = df['Item'].value_counts()\n",
        "f = sales[:10].plot.bar(title = 'Top 10 sales')\n",
        "f.legend(['Number of items sold'])"
      ],
      "execution_count": 84,
      "outputs": [
        {
          "output_type": "execute_result",
          "data": {
            "text/plain": [
              "<matplotlib.legend.Legend at 0x7f4b5fd90400>"
            ]
          },
          "metadata": {
            "tags": []
          },
          "execution_count": 84
        },
        {
          "output_type": "display_data",
          "data": {
            "image/png": "[encoded data removed]",
            "text/plain": [
              "<Figure size 432x288 with 1 Axes>"
            ]
          },
          "metadata": {
            "tags": []
          }
        }
      ]
    },
    {
      "cell_type": "code",
      "metadata": {
        "id": "F01Cauy4WPw4",
        "colab_type": "code",
        "colab": {
          "base_uri": "https://localhost:8080/",
          "height": 322
        },
        "outputId": "14348613-7a06-4e2b-8ea2-c8d2ce1af2d3"
      },
      "source": [
        "coffee_sales = df[df['Item'] == 'Coffee']\n",
        "coffee_times = coffee_sales['Hour'].value_counts().sort_index()\n",
        "f = coffee_times.plot.bar(title = 'Coffee sales by hour')\n",
        "f.set_xlabel('Time of day in hours')\n",
        "f.set_ylabel('No. of Items')\n",
        "f.legend()"
      ],
      "execution_count": 62,
      "outputs": [
        {
          "output_type": "execute_result",
          "data": {
            "text/plain": [
              "<matplotlib.legend.Legend at 0x7f4b628ca278>"
            ]
          },
          "metadata": {
            "tags": []
          },
          "execution_count": 62
        },
        {
          "output_type": "display_data",
          "data": {
            "image/png": "[encoded data removed]",
            "text/plain": [
              "<Figure size 432x288 with 1 Axes>"
            ]
          },
          "metadata": {
            "tags": []
          }
        }
      ]
    },
    {
      "cell_type": "code",
      "metadata": {
        "id": "ObzQGh-rgaSu",
        "colab_type": "code",
        "colab": {
          "base_uri": "https://localhost:8080/",
          "height": 34
        },
        "outputId": "7022b5c8-a465-4b97-fa3e-13897cc0e014"
      },
      "source": [
        "print(\"coffee sale :\" , sales[0])"
      ],
      "execution_count": 87,
      "outputs": [
        {
          "output_type": "stream",
          "text": [
            "coffee sale : 5471\n"
          ],
          "name": "stdout"
        }
      ]
    },
    {
      "cell_type": "code",
      "metadata": {
        "id": "JyE3Y0hVgUB9",
        "colab_type": "code",
        "colab": {
          "base_uri": "https://localhost:8080/",
          "height": 194
        },
        "outputId": "761aa589-42fa-45c8-bc55-7fe278c669df"
      },
      "source": [
        "frequent_items = sales[1:10] \n",
        "frequent_items"
      ],
      "execution_count": 85,
      "outputs": [
        {
          "output_type": "execute_result",
          "data": {
            "text/plain": [
              "Bread            3325\n",
              "Tea              1435\n",
              "Cake             1025\n",
              "Pastry            856\n",
              "Sandwich          771\n",
              "Medialuna         616\n",
              "Hot chocolate     590\n",
              "Cookies           540\n",
              "Brownie           379\n",
              "Name: Item, dtype: int64"
            ]
          },
          "metadata": {
            "tags": []
          },
          "execution_count": 85
        }
      ]
    },
    {
      "cell_type": "code",
      "metadata": {
        "id": "2_sRT2BQgpxs",
        "colab_type": "code",
        "colab": {
          "base_uri": "https://localhost:8080/",
          "height": 283
        },
        "outputId": "527c912f-2146-4ffd-ed15-76ea199403d5"
      },
      "source": [
        "curr_sales = df[df['Item'] == 'Bread']\n",
        "curr_sales['Hour'].value_counts().sort_index()"
      ],
      "execution_count": 90,
      "outputs": [
        {
          "output_type": "execute_result",
          "data": {
            "text/plain": [
              "1       1\n",
              "7       2\n",
              "8     171\n",
              "9     400\n",
              "10    508\n",
              "11    528\n",
              "12    474\n",
              "13    340\n",
              "14    341\n",
              "15    310\n",
              "16    196\n",
              "17     46\n",
              "18      6\n",
              "19      2\n",
              "Name: Hour, dtype: int64"
            ]
          },
          "metadata": {
            "tags": []
          },
          "execution_count": 90
        }
      ]
    },
    {
      "cell_type": "code",
      "metadata": {
        "id": "bJ_6zL-5WPuY",
        "colab_type": "code",
        "colab": {
          "base_uri": "https://localhost:8080/",
          "height": 4668
        },
        "outputId": "523ea416-f33b-4e95-84a7-e48c03736202"
      },
      "source": [
        "#skip coffee\n",
        "for item in frequent_items.index:\n",
        "    plt.figure()\n",
        "    curr_sales = df[df['Item'] == item]\n",
        "    curr_times = curr_sales['Hour'].value_counts().sort_index()\n",
        "    print(curr_sales['Hour'].value_counts())\n",
        "    f = curr_times.plot.bar(title = (item + ' sales by hour'))\n",
        "    f.set_xlabel('Time of day in hours')\n",
        "    f.set_ylabel('No. of Items')\n",
        "    f.legend()"
      ],
      "execution_count": 91,
      "outputs": [
        {
          "output_type": "stream",
          "text": [
            "11    528\n",
            "10    508\n",
            "12    474\n",
            "9     400\n",
            "14    341\n",
            "13    340\n",
            "15    310\n",
            "16    196\n",
            "8     171\n",
            "17     46\n",
            "18      6\n",
            "19      2\n",
            "7       2\n",
            "1       1\n",
            "Name: Hour, dtype: int64\n",
            "14    233\n",
            "15    207\n",
            "12    183\n",
            "13    181\n",
            "11    176\n",
            "10    156\n",
            "16    126\n",
            "9     103\n",
            "17     41\n",
            "8      21\n",
            "18      5\n",
            "19      3\n",
            "Name: Hour, dtype: int64\n",
            "14    182\n",
            "15    174\n",
            "11    133\n",
            "12    127\n",
            "16    124\n",
            "13    124\n",
            "10     83\n",
            "9      40\n",
            "17     30\n",
            "8       8\n",
            "Name: Hour, dtype: int64\n",
            "10    203\n",
            "9     191\n",
            "11    151\n",
            "12     97\n",
            "8      57\n",
            "14     49\n",
            "13     48\n",
            "15     32\n",
            "16     16\n",
            "17      8\n",
            "18      2\n",
            "7       2\n",
            "Name: Hour, dtype: int64\n",
            "13    234\n",
            "14    171\n",
            "12    162\n",
            "15     75\n",
            "11     53\n",
            "16     29\n",
            "10     20\n",
            "9      17\n",
            "8       5\n",
            "17      4\n",
            "18      1\n",
            "Name: Hour, dtype: int64\n",
            "10    125\n",
            "9     120\n",
            "11    108\n",
            "12     55\n",
            "14     48\n",
            "8      43\n",
            "13     36\n",
            "15     34\n",
            "16     25\n",
            "17     11\n",
            "7       6\n",
            "18      4\n",
            "19      1\n",
            "Name: Hour, dtype: int64\n",
            "11    91\n",
            "15    89\n",
            "10    76\n",
            "16    71\n",
            "14    68\n",
            "12    56\n",
            "9     56\n",
            "13    51\n",
            "17    14\n",
            "8      9\n",
            "18     4\n",
            "19     3\n",
            "21     2\n",
            "Name: Hour, dtype: int64\n",
            "11    78\n",
            "15    77\n",
            "10    77\n",
            "12    67\n",
            "13    61\n",
            "16    59\n",
            "14    49\n",
            "9     39\n",
            "17    20\n",
            "8     12\n",
            "18     1\n",
            "Name: Hour, dtype: int64\n",
            "11    62\n",
            "14    58\n",
            "13    55\n",
            "15    53\n",
            "12    44\n",
            "16    39\n",
            "10    34\n",
            "9     22\n",
            "17     6\n",
            "8      5\n",
            "19     1\n",
            "Name: Hour, dtype: int64\n"
          ],
          "name": "stdout"
        },
        {
          "output_type": "display_data",
          "data": {
            "image/png": "[encoded data removed]",
            "text/plain": [
              "<Figure size 432x288 with 1 Axes>"
            ]
          },
          "metadata": {
            "tags": []
          }
        },
        {
          "output_type": "display_data",
          "data": {
            "image/png": "[encoded data removed]",
            "text/plain": [
              "<Figure size 432x288 with 1 Axes>"
            ]
          },
          "metadata": {
            "tags": []
          }
        },
        {
          "output_type": "display_data",
          "data": {
            "image/png": "[encoded data removed]",
            "text/plain": [
              "<Figure size 432x288 with 1 Axes>"
            ]
          },
          "metadata": {
            "tags": []
          }
        },
        {
          "output_type": "display_data",
          "data": {
            "image/png": "[encoded data removed]",
            "text/plain": [
              "<Figure size 432x288 with 1 Axes>"
            ]
          },
          "metadata": {
            "tags": []
          }
        },
        {
          "output_type": "display_data",
          "data": {
            "image/png": "[encoded data removed]",
            "text/plain": [
              "<Figure size 432x288 with 1 Axes>"
            ]
          },
          "metadata": {
            "tags": []
          }
        },
        {
          "output_type": "display_data",
          "data": {
            "image/png": "[encoded data removed]",
            "text/plain": [
              "<Figure size 432x288 with 1 Axes>"
            ]
          },
          "metadata": {
            "tags": []
          }
        },
        {
          "output_type": "display_data",
          "data": {
            "image/png": "[encoded data removed]",
            "text/plain": [
              "<Figure size 432x288 with 1 Axes>"
            ]
          },
          "metadata": {
            "tags": []
          }
        },
        {
          "output_type": "display_data",
          "data": {
            "image/png": "[encoded data removed]",
            "text/plain": [
              "<Figure size 432x288 with 1 Axes>"
            ]
          },
          "metadata": {
            "tags": []
          }
        },
        {
          "output_type": "display_data",
          "data": {
            "image/png": "[encoded data removed]",
            "text/plain": [
              "<Figure size 432x288 with 1 Axes>"
            ]
          },
          "metadata": {
            "tags": []
          }
        }
      ]
    },
    {
      "cell_type": "code",
      "metadata": {
        "id": "IlZX9ZxjY8cq",
        "colab_type": "code",
        "colab": {
          "base_uri": "https://localhost:8080/",
          "height": 34
        },
        "outputId": "b47c87f2-a5f6-49fe-bfea-26069c4fd965"
      },
      "source": [
        "pd.to_datetime(df['Date']).dt"
      ],
      "execution_count": 65,
      "outputs": [
        {
          "output_type": "execute_result",
          "data": {
            "text/plain": [
              "<pandas.core.indexes.accessors.DatetimeProperties object at 0x7f4b62974550>"
            ]
          },
          "metadata": {
            "tags": []
          },
          "execution_count": 65
        }
      ]
    },
    {
      "cell_type": "code",
      "metadata": {
        "id": "2i8Uto2vY_Uq",
        "colab_type": "code",
        "colab": {
          "base_uri": "https://localhost:8080/",
          "height": 194
        },
        "outputId": "b4231e57-d9d5-431f-9210-d0695ebc049c"
      },
      "source": [
        "print(len(pd.to_datetime(df['Date']).dt.weekday_name))\n",
        "print(np.unique(pd.to_datetime(df['Date']).dt.weekday_name.values))\n",
        "pd.to_datetime(df['Date']).dt.weekday_name.value_counts()"
      ],
      "execution_count": 69,
      "outputs": [
        {
          "output_type": "stream",
          "text": [
            "20507\n",
            "['Friday' 'Monday' 'Saturday' 'Sunday' 'Thursday' 'Tuesday' 'Wednesday']\n"
          ],
          "name": "stdout"
        },
        {
          "output_type": "execute_result",
          "data": {
            "text/plain": [
              "Saturday     4605\n",
              "Friday       3124\n",
              "Sunday       3095\n",
              "Thursday     2646\n",
              "Tuesday      2392\n",
              "Monday       2324\n",
              "Wednesday    2321\n",
              "Name: Date, dtype: int64"
            ]
          },
          "metadata": {
            "tags": []
          },
          "execution_count": 69
        }
      ]
    },
    {
      "cell_type": "code",
      "metadata": {
        "id": "-wAagBxeWPr_",
        "colab_type": "code",
        "colab": {
          "base_uri": "https://localhost:8080/",
          "height": 355
        },
        "outputId": "767f650e-5e7b-4127-f3f1-700712cf16b4"
      },
      "source": [
        "df['Day_of_week'] = pd.to_datetime(df['Date']).dt.weekday_name\n",
        "sales_by_day = df['Day_of_week'].value_counts()\n",
        "\n",
        "sales_by_day.plot.bar(title = 'Sales by day of week')"
      ],
      "execution_count": 64,
      "outputs": [
        {
          "output_type": "execute_result",
          "data": {
            "text/plain": [
              "<matplotlib.axes._subplots.AxesSubplot at 0x7f4b629745f8>"
            ]
          },
          "metadata": {
            "tags": []
          },
          "execution_count": 64
        },
        {
          "output_type": "display_data",
          "data": {
            "image/png": "[encoded data removed]",
            "text/plain": [
              "<Figure size 432x288 with 1 Axes>"
            ]
          },
          "metadata": {
            "tags": []
          }
        }
      ]
    },
    {
      "cell_type": "code",
      "metadata": {
        "id": "VZHOcuY2WPpd",
        "colab_type": "code",
        "colab": {
          "base_uri": "https://localhost:8080/",
          "height": 1914
        },
        "outputId": "1c790e42-9013-423d-949e-1a18aceb6169"
      },
      "source": [
        "weekdays = ['Monday', 'Tuesday', 'Wednesday', 'Thursday', 'Friday', 'Saturday', 'Sunday']\n",
        "df_coffee = df[df['Item'] == 'Coffee']\n",
        "\n",
        "for day in weekdays:\n",
        "    plt.figure()\n",
        "    curr_sales = df_coffee[df_coffee['Day_of_week'] == day]\n",
        "    curr_times = curr_sales['Hour'].value_counts().sort_index()\n",
        "    curr_times.plot.bar(title = (day + ' coffee sales by hour'))"
      ],
      "execution_count": 71,
      "outputs": [
        {
          "output_type": "display_data",
          "data": {
            "image/png": "[encoded data removed]",
            "text/plain": [
              "<Figure size 432x288 with 1 Axes>"
            ]
          },
          "metadata": {
            "tags": []
          }
        },
        {
          "output_type": "display_data",
          "data": {
            "image/png": "[encoded data removed]",
            "text/plain": [
              "<Figure size 432x288 with 1 Axes>"
            ]
          },
          "metadata": {
            "tags": []
          }
        },
        {
          "output_type": "display_data",
          "data": {
            "image/png": "[encoded data removed]",
            "text/plain": [
              "<Figure size 432x288 with 1 Axes>"
            ]
          },
          "metadata": {
            "tags": []
          }
        },
        {
          "output_type": "display_data",
          "data": {
            "image/png": "[encoded data removed]",
            "text/plain": [
              "<Figure size 432x288 with 1 Axes>"
            ]
          },
          "metadata": {
            "tags": []
          }
        },
        {
          "output_type": "display_data",
          "data": {
            "image/png": "[encoded data removed]",
            "text/plain": [
              "<Figure size 432x288 with 1 Axes>"
            ]
          },
          "metadata": {
            "tags": []
          }
        },
        {
          "output_type": "display_data",
          "data": {
            "image/png": "[encoded data removed]",
            "text/plain": [
              "<Figure size 432x288 with 1 Axes>"
            ]
          },
          "metadata": {
            "tags": []
          }
        },
        {
          "output_type": "display_data",
          "data": {
            "image/png": "[encoded data removed]",
            "text/plain": [
              "<Figure size 432x288 with 1 Axes>"
            ]
          },
          "metadata": {
            "tags": []
          }
        }
      ]
    },
    {
      "cell_type": "code",
      "metadata": {
        "id": "q7_jee9shlFh",
        "colab_type": "code",
        "colab": {
          "base_uri": "https://localhost:8080/",
          "height": 257
        },
        "outputId": "e0071ceb-d546-426b-f852-2bbeddae480b"
      },
      "source": [
        "pd.DataFrame(df.groupby(by = ['Year', 'Month']))"
      ],
      "execution_count": 95,
      "outputs": [
        {
          "output_type": "execute_result",
          "data": {
            "text/html": [
              "<div>\n",
              "<style scoped>\n",
              "    .dataframe tbody tr th:only-of-type {\n",
              "        vertical-align: middle;\n",
              "    }\n",
              "\n",
              "    .dataframe tbody tr th {\n",
              "        vertical-align: top;\n",
              "    }\n",
              "\n",
              "    .dataframe thead th {\n",
              "        text-align: right;\n",
              "    }\n",
              "</style>\n",
              "<table border=\"1\" class=\"dataframe\">\n",
              "  <thead>\n",
              "    <tr style=\"text-align: right;\">\n",
              "      <th></th>\n",
              "      <th>0</th>\n",
              "      <th>1</th>\n",
              "    </tr>\n",
              "  </thead>\n",
              "  <tbody>\n",
              "    <tr>\n",
              "      <th>0</th>\n",
              "      <td>(2016, 10)</td>\n",
              "      <td>Date  Transaction               Ite...</td>\n",
              "    </tr>\n",
              "    <tr>\n",
              "      <th>1</th>\n",
              "      <td>(2016, 11)</td>\n",
              "      <td>Date  Transaction                 ...</td>\n",
              "    </tr>\n",
              "    <tr>\n",
              "      <th>2</th>\n",
              "      <td>(2016, 12)</td>\n",
              "      <td>Date  Transaction            Item ...</td>\n",
              "    </tr>\n",
              "    <tr>\n",
              "      <th>3</th>\n",
              "      <td>(2017, 01)</td>\n",
              "      <td>Date  Transaction            Item...</td>\n",
              "    </tr>\n",
              "    <tr>\n",
              "      <th>4</th>\n",
              "      <td>(2017, 02)</td>\n",
              "      <td>Date  Transaction            Item...</td>\n",
              "    </tr>\n",
              "    <tr>\n",
              "      <th>5</th>\n",
              "      <td>(2017, 03)</td>\n",
              "      <td>Date  Transaction            Item...</td>\n",
              "    </tr>\n",
              "    <tr>\n",
              "      <th>6</th>\n",
              "      <td>(2017, 04)</td>\n",
              "      <td>Date  Transaction                ...</td>\n",
              "    </tr>\n",
              "  </tbody>\n",
              "</table>\n",
              "</div>"
            ],
            "text/plain": [
              "            0                                                  1\n",
              "0  (2016, 10)             Date  Transaction               Ite...\n",
              "1  (2016, 11)              Date  Transaction                 ...\n",
              "2  (2016, 12)              Date  Transaction            Item ...\n",
              "3  (2017, 01)               Date  Transaction            Item...\n",
              "4  (2017, 02)               Date  Transaction            Item...\n",
              "5  (2017, 03)               Date  Transaction            Item...\n",
              "6  (2017, 04)               Date  Transaction                ..."
            ]
          },
          "metadata": {
            "tags": []
          },
          "execution_count": 95
        }
      ]
    },
    {
      "cell_type": "code",
      "metadata": {
        "id": "KLCTzf9Ph9Qg",
        "colab_type": "code",
        "colab": {
          "base_uri": "https://localhost:8080/",
          "height": 257
        },
        "outputId": "8931a085-7e7b-49c2-f3b8-1c272453d0e4"
      },
      "source": [
        "pd.DataFrame(df.groupby(by = ['Year', 'Month'])['Transaction'])"
      ],
      "execution_count": 96,
      "outputs": [
        {
          "output_type": "execute_result",
          "data": {
            "text/html": [
              "<div>\n",
              "<style scoped>\n",
              "    .dataframe tbody tr th:only-of-type {\n",
              "        vertical-align: middle;\n",
              "    }\n",
              "\n",
              "    .dataframe tbody tr th {\n",
              "        vertical-align: top;\n",
              "    }\n",
              "\n",
              "    .dataframe thead th {\n",
              "        text-align: right;\n",
              "    }\n",
              "</style>\n",
              "<table border=\"1\" class=\"dataframe\">\n",
              "  <thead>\n",
              "    <tr style=\"text-align: right;\">\n",
              "      <th></th>\n",
              "      <th>0</th>\n",
              "      <th>1</th>\n",
              "    </tr>\n",
              "  </thead>\n",
              "  <tbody>\n",
              "    <tr>\n",
              "      <th>0</th>\n",
              "      <td>(2016, 10)</td>\n",
              "      <td>0        1\n",
              "1        2\n",
              "2        2\n",
              "3        3\n",
              "4 ...</td>\n",
              "    </tr>\n",
              "    <tr>\n",
              "      <th>1</th>\n",
              "      <td>(2016, 11)</td>\n",
              "      <td>385      178\n",
              "386      178\n",
              "387      179\n",
              "388    ...</td>\n",
              "    </tr>\n",
              "    <tr>\n",
              "      <th>2</th>\n",
              "      <td>(2016, 12)</td>\n",
              "      <td>4992    2368\n",
              "4993    2369\n",
              "4994    2369\n",
              "4995   ...</td>\n",
              "    </tr>\n",
              "    <tr>\n",
              "      <th>3</th>\n",
              "      <td>(2017, 01)</td>\n",
              "      <td>8561     4090\n",
              "8562     4094\n",
              "8563     4095\n",
              "8564...</td>\n",
              "    </tr>\n",
              "    <tr>\n",
              "      <th>4</th>\n",
              "      <td>(2017, 02)</td>\n",
              "      <td>12070    5718\n",
              "12071    5718\n",
              "12072    5718\n",
              "1207...</td>\n",
              "    </tr>\n",
              "    <tr>\n",
              "      <th>5</th>\n",
              "      <td>(2017, 03)</td>\n",
              "      <td>16061    7368\n",
              "16062    7369\n",
              "16063    7370\n",
              "1606...</td>\n",
              "    </tr>\n",
              "    <tr>\n",
              "      <th>6</th>\n",
              "      <td>(2017, 04)</td>\n",
              "      <td>20102    9159\n",
              "20103    9160\n",
              "20105    9161\n",
              "2010...</td>\n",
              "    </tr>\n",
              "  </tbody>\n",
              "</table>\n",
              "</div>"
            ],
            "text/plain": [
              "            0                                                  1\n",
              "0  (2016, 10)  0        1\n",
              "1        2\n",
              "2        2\n",
              "3        3\n",
              "4 ...\n",
              "1  (2016, 11)  385      178\n",
              "386      178\n",
              "387      179\n",
              "388    ...\n",
              "2  (2016, 12)  4992    2368\n",
              "4993    2369\n",
              "4994    2369\n",
              "4995   ...\n",
              "3  (2017, 01)  8561     4090\n",
              "8562     4094\n",
              "8563     4095\n",
              "8564...\n",
              "4  (2017, 02)  12070    5718\n",
              "12071    5718\n",
              "12072    5718\n",
              "1207...\n",
              "5  (2017, 03)  16061    7368\n",
              "16062    7369\n",
              "16063    7370\n",
              "1606...\n",
              "6  (2017, 04)  20102    9159\n",
              "20103    9160\n",
              "20105    9161\n",
              "2010..."
            ]
          },
          "metadata": {
            "tags": []
          },
          "execution_count": 96
        }
      ]
    },
    {
      "cell_type": "code",
      "metadata": {
        "id": "a7gNZ-VEiJHI",
        "colab_type": "code",
        "colab": {
          "base_uri": "https://localhost:8080/",
          "height": 287
        },
        "outputId": "1bd533b8-308a-440f-e7dd-44ac497ce42c"
      },
      "source": [
        "pd.DataFrame(df.groupby(by = ['Year', 'Month'])['Transaction'].nunique())"
      ],
      "execution_count": 98,
      "outputs": [
        {
          "output_type": "execute_result",
          "data": {
            "text/html": [
              "<div>\n",
              "<style scoped>\n",
              "    .dataframe tbody tr th:only-of-type {\n",
              "        vertical-align: middle;\n",
              "    }\n",
              "\n",
              "    .dataframe tbody tr th {\n",
              "        vertical-align: top;\n",
              "    }\n",
              "\n",
              "    .dataframe thead th {\n",
              "        text-align: right;\n",
              "    }\n",
              "</style>\n",
              "<table border=\"1\" class=\"dataframe\">\n",
              "  <thead>\n",
              "    <tr style=\"text-align: right;\">\n",
              "      <th></th>\n",
              "      <th></th>\n",
              "      <th>Transaction</th>\n",
              "    </tr>\n",
              "    <tr>\n",
              "      <th>Year</th>\n",
              "      <th>Month</th>\n",
              "      <th></th>\n",
              "    </tr>\n",
              "  </thead>\n",
              "  <tbody>\n",
              "    <tr>\n",
              "      <th rowspan=\"3\" valign=\"top\">2016</th>\n",
              "      <th>10</th>\n",
              "      <td>175</td>\n",
              "    </tr>\n",
              "    <tr>\n",
              "      <th>11</th>\n",
              "      <td>2140</td>\n",
              "    </tr>\n",
              "    <tr>\n",
              "      <th>12</th>\n",
              "      <td>1672</td>\n",
              "    </tr>\n",
              "    <tr>\n",
              "      <th rowspan=\"4\" valign=\"top\">2017</th>\n",
              "      <th>01</th>\n",
              "      <td>1575</td>\n",
              "    </tr>\n",
              "    <tr>\n",
              "      <th>02</th>\n",
              "      <td>1630</td>\n",
              "    </tr>\n",
              "    <tr>\n",
              "      <th>03</th>\n",
              "      <td>1764</td>\n",
              "    </tr>\n",
              "    <tr>\n",
              "      <th>04</th>\n",
              "      <td>509</td>\n",
              "    </tr>\n",
              "  </tbody>\n",
              "</table>\n",
              "</div>"
            ],
            "text/plain": [
              "            Transaction\n",
              "Year Month             \n",
              "2016 10             175\n",
              "     11            2140\n",
              "     12            1672\n",
              "2017 01            1575\n",
              "     02            1630\n",
              "     03            1764\n",
              "     04             509"
            ]
          },
          "metadata": {
            "tags": []
          },
          "execution_count": 98
        }
      ]
    },
    {
      "cell_type": "code",
      "metadata": {
        "id": "xZ6BUn1niQi2",
        "colab_type": "code",
        "colab": {
          "base_uri": "https://localhost:8080/",
          "height": 287
        },
        "outputId": "a4da7191-a56b-4891-9b05-6d4507702492"
      },
      "source": [
        "pd.DataFrame(df.groupby(by = ['Year', 'Month'])['Transaction'].nunique().rename('N transactions'))"
      ],
      "execution_count": 101,
      "outputs": [
        {
          "output_type": "execute_result",
          "data": {
            "text/html": [
              "<div>\n",
              "<style scoped>\n",
              "    .dataframe tbody tr th:only-of-type {\n",
              "        vertical-align: middle;\n",
              "    }\n",
              "\n",
              "    .dataframe tbody tr th {\n",
              "        vertical-align: top;\n",
              "    }\n",
              "\n",
              "    .dataframe thead th {\n",
              "        text-align: right;\n",
              "    }\n",
              "</style>\n",
              "<table border=\"1\" class=\"dataframe\">\n",
              "  <thead>\n",
              "    <tr style=\"text-align: right;\">\n",
              "      <th></th>\n",
              "      <th></th>\n",
              "      <th>N transactions</th>\n",
              "    </tr>\n",
              "    <tr>\n",
              "      <th>Year</th>\n",
              "      <th>Month</th>\n",
              "      <th></th>\n",
              "    </tr>\n",
              "  </thead>\n",
              "  <tbody>\n",
              "    <tr>\n",
              "      <th rowspan=\"3\" valign=\"top\">2016</th>\n",
              "      <th>10</th>\n",
              "      <td>175</td>\n",
              "    </tr>\n",
              "    <tr>\n",
              "      <th>11</th>\n",
              "      <td>2140</td>\n",
              "    </tr>\n",
              "    <tr>\n",
              "      <th>12</th>\n",
              "      <td>1672</td>\n",
              "    </tr>\n",
              "    <tr>\n",
              "      <th rowspan=\"4\" valign=\"top\">2017</th>\n",
              "      <th>01</th>\n",
              "      <td>1575</td>\n",
              "    </tr>\n",
              "    <tr>\n",
              "      <th>02</th>\n",
              "      <td>1630</td>\n",
              "    </tr>\n",
              "    <tr>\n",
              "      <th>03</th>\n",
              "      <td>1764</td>\n",
              "    </tr>\n",
              "    <tr>\n",
              "      <th>04</th>\n",
              "      <td>509</td>\n",
              "    </tr>\n",
              "  </tbody>\n",
              "</table>\n",
              "</div>"
            ],
            "text/plain": [
              "            N transactions\n",
              "Year Month                \n",
              "2016 10                175\n",
              "     11               2140\n",
              "     12               1672\n",
              "2017 01               1575\n",
              "     02               1630\n",
              "     03               1764\n",
              "     04                509"
            ]
          },
          "metadata": {
            "tags": []
          },
          "execution_count": 101
        }
      ]
    },
    {
      "cell_type": "code",
      "metadata": {
        "id": "o8PFA7zlidj_",
        "colab_type": "code",
        "colab": {
          "base_uri": "https://localhost:8080/",
          "height": 257
        },
        "outputId": "49090112-d61e-48a5-fca0-d70fb214f312"
      },
      "source": [
        "transactions_by_month = pd.DataFrame(df.groupby(by = ['Year', 'Month'])['Transaction'].nunique().rename('N transactions')).reset_index()\n",
        "transactions_by_month"
      ],
      "execution_count": 102,
      "outputs": [
        {
          "output_type": "execute_result",
          "data": {
            "text/html": [
              "<div>\n",
              "<style scoped>\n",
              "    .dataframe tbody tr th:only-of-type {\n",
              "        vertical-align: middle;\n",
              "    }\n",
              "\n",
              "    .dataframe tbody tr th {\n",
              "        vertical-align: top;\n",
              "    }\n",
              "\n",
              "    .dataframe thead th {\n",
              "        text-align: right;\n",
              "    }\n",
              "</style>\n",
              "<table border=\"1\" class=\"dataframe\">\n",
              "  <thead>\n",
              "    <tr style=\"text-align: right;\">\n",
              "      <th></th>\n",
              "      <th>Year</th>\n",
              "      <th>Month</th>\n",
              "      <th>N transactions</th>\n",
              "    </tr>\n",
              "  </thead>\n",
              "  <tbody>\n",
              "    <tr>\n",
              "      <th>0</th>\n",
              "      <td>2016</td>\n",
              "      <td>10</td>\n",
              "      <td>175</td>\n",
              "    </tr>\n",
              "    <tr>\n",
              "      <th>1</th>\n",
              "      <td>2016</td>\n",
              "      <td>11</td>\n",
              "      <td>2140</td>\n",
              "    </tr>\n",
              "    <tr>\n",
              "      <th>2</th>\n",
              "      <td>2016</td>\n",
              "      <td>12</td>\n",
              "      <td>1672</td>\n",
              "    </tr>\n",
              "    <tr>\n",
              "      <th>3</th>\n",
              "      <td>2017</td>\n",
              "      <td>01</td>\n",
              "      <td>1575</td>\n",
              "    </tr>\n",
              "    <tr>\n",
              "      <th>4</th>\n",
              "      <td>2017</td>\n",
              "      <td>02</td>\n",
              "      <td>1630</td>\n",
              "    </tr>\n",
              "    <tr>\n",
              "      <th>5</th>\n",
              "      <td>2017</td>\n",
              "      <td>03</td>\n",
              "      <td>1764</td>\n",
              "    </tr>\n",
              "    <tr>\n",
              "      <th>6</th>\n",
              "      <td>2017</td>\n",
              "      <td>04</td>\n",
              "      <td>509</td>\n",
              "    </tr>\n",
              "  </tbody>\n",
              "</table>\n",
              "</div>"
            ],
            "text/plain": [
              "   Year Month  N transactions\n",
              "0  2016    10             175\n",
              "1  2016    11            2140\n",
              "2  2016    12            1672\n",
              "3  2017    01            1575\n",
              "4  2017    02            1630\n",
              "5  2017    03            1764\n",
              "6  2017    04             509"
            ]
          },
          "metadata": {
            "tags": []
          },
          "execution_count": 102
        }
      ]
    },
    {
      "cell_type": "code",
      "metadata": {
        "id": "FCH8nZK0ip0f",
        "colab_type": "code",
        "colab": {
          "base_uri": "https://localhost:8080/",
          "height": 257
        },
        "outputId": "c198d0dd-6b43-4923-a70a-2484338e083d"
      },
      "source": [
        "transactions_by_month['Date'] = transactions_by_month['Year'] + '-' + transactions_by_month['Month']\n",
        "transactions_by_month"
      ],
      "execution_count": 105,
      "outputs": [
        {
          "output_type": "execute_result",
          "data": {
            "text/html": [
              "<div>\n",
              "<style scoped>\n",
              "    .dataframe tbody tr th:only-of-type {\n",
              "        vertical-align: middle;\n",
              "    }\n",
              "\n",
              "    .dataframe tbody tr th {\n",
              "        vertical-align: top;\n",
              "    }\n",
              "\n",
              "    .dataframe thead th {\n",
              "        text-align: right;\n",
              "    }\n",
              "</style>\n",
              "<table border=\"1\" class=\"dataframe\">\n",
              "  <thead>\n",
              "    <tr style=\"text-align: right;\">\n",
              "      <th></th>\n",
              "      <th>Year</th>\n",
              "      <th>Month</th>\n",
              "      <th>N transactions</th>\n",
              "      <th>Date</th>\n",
              "    </tr>\n",
              "  </thead>\n",
              "  <tbody>\n",
              "    <tr>\n",
              "      <th>0</th>\n",
              "      <td>2016</td>\n",
              "      <td>10</td>\n",
              "      <td>175</td>\n",
              "      <td>2016-10</td>\n",
              "    </tr>\n",
              "    <tr>\n",
              "      <th>1</th>\n",
              "      <td>2016</td>\n",
              "      <td>11</td>\n",
              "      <td>2140</td>\n",
              "      <td>2016-11</td>\n",
              "    </tr>\n",
              "    <tr>\n",
              "      <th>2</th>\n",
              "      <td>2016</td>\n",
              "      <td>12</td>\n",
              "      <td>1672</td>\n",
              "      <td>2016-12</td>\n",
              "    </tr>\n",
              "    <tr>\n",
              "      <th>3</th>\n",
              "      <td>2017</td>\n",
              "      <td>01</td>\n",
              "      <td>1575</td>\n",
              "      <td>2017-01</td>\n",
              "    </tr>\n",
              "    <tr>\n",
              "      <th>4</th>\n",
              "      <td>2017</td>\n",
              "      <td>02</td>\n",
              "      <td>1630</td>\n",
              "      <td>2017-02</td>\n",
              "    </tr>\n",
              "    <tr>\n",
              "      <th>5</th>\n",
              "      <td>2017</td>\n",
              "      <td>03</td>\n",
              "      <td>1764</td>\n",
              "      <td>2017-03</td>\n",
              "    </tr>\n",
              "    <tr>\n",
              "      <th>6</th>\n",
              "      <td>2017</td>\n",
              "      <td>04</td>\n",
              "      <td>509</td>\n",
              "      <td>2017-04</td>\n",
              "    </tr>\n",
              "  </tbody>\n",
              "</table>\n",
              "</div>"
            ],
            "text/plain": [
              "   Year Month  N transactions     Date\n",
              "0  2016    10             175  2016-10\n",
              "1  2016    11            2140  2016-11\n",
              "2  2016    12            1672  2016-12\n",
              "3  2017    01            1575  2017-01\n",
              "4  2017    02            1630  2017-02\n",
              "5  2017    03            1764  2017-03\n",
              "6  2017    04             509  2017-04"
            ]
          },
          "metadata": {
            "tags": []
          },
          "execution_count": 105
        }
      ]
    },
    {
      "cell_type": "code",
      "metadata": {
        "id": "w4O0tkABZrhF",
        "colab_type": "code",
        "colab": {
          "base_uri": "https://localhost:8080/",
          "height": 436
        },
        "outputId": "e3b2b3cb-269f-4ac9-93e3-bce12f1913a1"
      },
      "source": [
        "g = sns.barplot('Date', 'N transactions', data = transactions_by_month)\n",
        "g.set_xticklabels(g.get_xticklabels(), rotation = 30)"
      ],
      "execution_count": 106,
      "outputs": [
        {
          "output_type": "execute_result",
          "data": {
            "text/plain": [
              "[Text(0, 0, '2016-10'),\n",
              " Text(0, 0, '2016-11'),\n",
              " Text(0, 0, '2016-12'),\n",
              " Text(0, 0, '2017-01'),\n",
              " Text(0, 0, '2017-02'),\n",
              " Text(0, 0, '2017-03'),\n",
              " Text(0, 0, '2017-04')]"
            ]
          },
          "metadata": {
            "tags": []
          },
          "execution_count": 106
        },
        {
          "output_type": "display_data",
          "data": {
            "image/png": "[encoded data removed]",
            "text/plain": [
              "<Figure size 432x288 with 1 Axes>"
            ]
          },
          "metadata": {
            "tags": []
          }
        }
      ]
    },
    {
      "cell_type": "code",
      "metadata": {
        "id": "tWK0u__FZvE_",
        "colab_type": "code",
        "colab": {
          "base_uri": "https://localhost:8080/",
          "height": 436
        },
        "outputId": "7bae06f6-7e0a-44d4-b645-e7bed6f63c1e"
      },
      "source": [
        "transactions_by_date = pd.DataFrame(df.groupby(by = ['Year', 'Month', 'Day'])['Transaction'].nunique().rename('Transactions by a day')).reset_index()\n",
        "transactions_by_date['Date'] = transactions_by_date['Year'] + '-' + transactions_by_date['Month']\n",
        "g = sns.barplot('Date', 'Transactions by a day', data = transactions_by_date)\n",
        "g.set_xticklabels(g.get_xticklabels(), rotation = 30)"
      ],
      "execution_count": 108,
      "outputs": [
        {
          "output_type": "execute_result",
          "data": {
            "text/plain": [
              "[Text(0, 0, '2016-10'),\n",
              " Text(0, 0, '2016-11'),\n",
              " Text(0, 0, '2016-12'),\n",
              " Text(0, 0, '2017-01'),\n",
              " Text(0, 0, '2017-02'),\n",
              " Text(0, 0, '2017-03'),\n",
              " Text(0, 0, '2017-04')]"
            ]
          },
          "metadata": {
            "tags": []
          },
          "execution_count": 108
        },
        {
          "output_type": "display_data",
          "data": {
            "image/png": "[encoded data removed]",
            "text/plain": [
              "<Figure size 432x288 with 1 Axes>"
            ]
          },
          "metadata": {
            "tags": []
          }
        }
      ]
    },
    {
      "cell_type": "code",
      "metadata": {
        "id": "zb0-sEq4Z0Ry",
        "colab_type": "code",
        "colab": {
          "base_uri": "https://localhost:8080/",
          "height": 428
        },
        "outputId": "b830da1b-c7c5-4919-a64d-8660ff0089ba"
      },
      "source": [
        "df_holidays = df[df['Month'] == '12']\n",
        "df_holidays = df_holidays[df_holidays['Day'].isin(map(str, range(24, 32)))]\n",
        "print(df_holidays.shape)\n",
        "holiday_by_date = pd.DataFrame(df_holidays.groupby(by = ['Month', 'Day'])['Transaction'].nunique().rename('Transactions a day')).reset_index()\n",
        "holiday_by_date['Date'] = holiday_by_date['Month'] + '-' + holiday_by_date['Day']\n",
        "g = sns.barplot('Date', 'Transactions a day', data = holiday_by_date)\n",
        "g.set_xticklabels(g.get_xticklabels(), rotation = 30)"
      ],
      "execution_count": 74,
      "outputs": [
        {
          "output_type": "stream",
          "text": [
            "(680, 8)\n"
          ],
          "name": "stdout"
        },
        {
          "output_type": "execute_result",
          "data": {
            "text/plain": [
              "[Text(0, 0, '12-24'),\n",
              " Text(0, 0, '12-27'),\n",
              " Text(0, 0, '12-28'),\n",
              " Text(0, 0, '12-29'),\n",
              " Text(0, 0, '12-30'),\n",
              " Text(0, 0, '12-31')]"
            ]
          },
          "metadata": {
            "tags": []
          },
          "execution_count": 74
        },
        {
          "output_type": "display_data",
          "data": {
            "image/png": "[encoded data removed]",
            "text/plain": [
              "<Figure size 432x288 with 1 Axes>"
            ]
          },
          "metadata": {
            "tags": []
          }
        }
      ]
    },
    {
      "cell_type": "code",
      "metadata": {
        "id": "M6kHWlIWaqmx",
        "colab_type": "code",
        "colab": {}
      },
      "source": [
        ""
      ],
      "execution_count": 0,
      "outputs": []
    },
    {
      "cell_type": "markdown",
      "metadata": {
        "id": "O8-cHhUTarWa",
        "colab_type": "text"
      },
      "source": [
        "#Now apply Market Basket Analysis algorithm"
      ]
    },
    {
      "cell_type": "code",
      "metadata": {
        "id": "iaOcfpKtZ2u5",
        "colab_type": "code",
        "colab": {
          "base_uri": "https://localhost:8080/",
          "height": 34
        },
        "outputId": "4f1bfbfa-3d58-488f-84fa-d16b8c8e0c56"
      },
      "source": [
        "transaction_list = []\n",
        "\n",
        "# For loop to create a list of the unique transactions throughout the dataset:\n",
        "for i in df['Transaction'].unique():\n",
        "    tlist = list(set(df[df['Transaction']==i]['Item']))\n",
        "    if len(tlist)>0:\n",
        "        transaction_list.append(tlist)\n",
        "        \n",
        "        \n",
        "print(len(transaction_list))"
      ],
      "execution_count": 75,
      "outputs": [
        {
          "output_type": "stream",
          "text": [
            "9465\n"
          ],
          "name": "stdout"
        }
      ]
    },
    {
      "cell_type": "code",
      "metadata": {
        "id": "7o6iQ-c1Z2rx",
        "colab_type": "code",
        "colab": {
          "base_uri": "https://localhost:8080/",
          "height": 647
        },
        "outputId": "29b24ef1-9872-432d-90cc-d87ecc746134"
      },
      "source": [
        "te = TransactionEncoder()\n",
        "te_ary = te.fit(transaction_list).transform(transaction_list)\n",
        "df2 = pd.DataFrame(te_ary, columns=te.columns_)\n",
        "frequent_itemsets = apriori(df2, min_support=0.01, use_colnames=True)\n",
        "\n",
        "rules = association_rules(frequent_itemsets,\n",
        "                          metric='lift',\n",
        "                          min_threshold=1.0)\n",
        "\n",
        "rules.sort_values('confidence', ascending=False)[:20]"
      ],
      "execution_count": 111,
      "outputs": [
        {
          "output_type": "execute_result",
          "data": {
            "text/html": [
              "<div>\n",
              "<style scoped>\n",
              "    .dataframe tbody tr th:only-of-type {\n",
              "        vertical-align: middle;\n",
              "    }\n",
              "\n",
              "    .dataframe tbody tr th {\n",
              "        vertical-align: top;\n",
              "    }\n",
              "\n",
              "    .dataframe thead th {\n",
              "        text-align: right;\n",
              "    }\n",
              "</style>\n",
              "<table border=\"1\" class=\"dataframe\">\n",
              "  <thead>\n",
              "    <tr style=\"text-align: right;\">\n",
              "      <th></th>\n",
              "      <th>antecedents</th>\n",
              "      <th>consequents</th>\n",
              "      <th>antecedent support</th>\n",
              "      <th>consequent support</th>\n",
              "      <th>support</th>\n",
              "      <th>confidence</th>\n",
              "      <th>lift</th>\n",
              "      <th>leverage</th>\n",
              "      <th>conviction</th>\n",
              "    </tr>\n",
              "  </thead>\n",
              "  <tbody>\n",
              "    <tr>\n",
              "      <th>31</th>\n",
              "      <td>(Toast)</td>\n",
              "      <td>(Coffee)</td>\n",
              "      <td>0.033597</td>\n",
              "      <td>0.478394</td>\n",
              "      <td>0.023666</td>\n",
              "      <td>0.704403</td>\n",
              "      <td>1.472431</td>\n",
              "      <td>0.007593</td>\n",
              "      <td>1.764582</td>\n",
              "    </tr>\n",
              "    <tr>\n",
              "      <th>28</th>\n",
              "      <td>(Spanish Brunch)</td>\n",
              "      <td>(Coffee)</td>\n",
              "      <td>0.018172</td>\n",
              "      <td>0.478394</td>\n",
              "      <td>0.010882</td>\n",
              "      <td>0.598837</td>\n",
              "      <td>1.251766</td>\n",
              "      <td>0.002189</td>\n",
              "      <td>1.300235</td>\n",
              "    </tr>\n",
              "    <tr>\n",
              "      <th>18</th>\n",
              "      <td>(Medialuna)</td>\n",
              "      <td>(Coffee)</td>\n",
              "      <td>0.061807</td>\n",
              "      <td>0.478394</td>\n",
              "      <td>0.035182</td>\n",
              "      <td>0.569231</td>\n",
              "      <td>1.189878</td>\n",
              "      <td>0.005614</td>\n",
              "      <td>1.210871</td>\n",
              "    </tr>\n",
              "    <tr>\n",
              "      <th>23</th>\n",
              "      <td>(Pastry)</td>\n",
              "      <td>(Coffee)</td>\n",
              "      <td>0.086107</td>\n",
              "      <td>0.478394</td>\n",
              "      <td>0.047544</td>\n",
              "      <td>0.552147</td>\n",
              "      <td>1.154168</td>\n",
              "      <td>0.006351</td>\n",
              "      <td>1.164682</td>\n",
              "    </tr>\n",
              "    <tr>\n",
              "      <th>0</th>\n",
              "      <td>(Alfajores)</td>\n",
              "      <td>(Coffee)</td>\n",
              "      <td>0.036344</td>\n",
              "      <td>0.478394</td>\n",
              "      <td>0.019651</td>\n",
              "      <td>0.540698</td>\n",
              "      <td>1.130235</td>\n",
              "      <td>0.002264</td>\n",
              "      <td>1.135648</td>\n",
              "    </tr>\n",
              "    <tr>\n",
              "      <th>17</th>\n",
              "      <td>(Juice)</td>\n",
              "      <td>(Coffee)</td>\n",
              "      <td>0.038563</td>\n",
              "      <td>0.478394</td>\n",
              "      <td>0.020602</td>\n",
              "      <td>0.534247</td>\n",
              "      <td>1.116750</td>\n",
              "      <td>0.002154</td>\n",
              "      <td>1.119919</td>\n",
              "    </tr>\n",
              "    <tr>\n",
              "      <th>25</th>\n",
              "      <td>(Sandwich)</td>\n",
              "      <td>(Coffee)</td>\n",
              "      <td>0.071844</td>\n",
              "      <td>0.478394</td>\n",
              "      <td>0.038246</td>\n",
              "      <td>0.532353</td>\n",
              "      <td>1.112792</td>\n",
              "      <td>0.003877</td>\n",
              "      <td>1.115384</td>\n",
              "    </tr>\n",
              "    <tr>\n",
              "      <th>7</th>\n",
              "      <td>(Cake)</td>\n",
              "      <td>(Coffee)</td>\n",
              "      <td>0.103856</td>\n",
              "      <td>0.478394</td>\n",
              "      <td>0.054728</td>\n",
              "      <td>0.526958</td>\n",
              "      <td>1.101515</td>\n",
              "      <td>0.005044</td>\n",
              "      <td>1.102664</td>\n",
              "    </tr>\n",
              "    <tr>\n",
              "      <th>27</th>\n",
              "      <td>(Scone)</td>\n",
              "      <td>(Coffee)</td>\n",
              "      <td>0.034548</td>\n",
              "      <td>0.478394</td>\n",
              "      <td>0.018067</td>\n",
              "      <td>0.522936</td>\n",
              "      <td>1.093107</td>\n",
              "      <td>0.001539</td>\n",
              "      <td>1.093366</td>\n",
              "    </tr>\n",
              "    <tr>\n",
              "      <th>13</th>\n",
              "      <td>(Cookies)</td>\n",
              "      <td>(Coffee)</td>\n",
              "      <td>0.054411</td>\n",
              "      <td>0.478394</td>\n",
              "      <td>0.028209</td>\n",
              "      <td>0.518447</td>\n",
              "      <td>1.083723</td>\n",
              "      <td>0.002179</td>\n",
              "      <td>1.083174</td>\n",
              "    </tr>\n",
              "    <tr>\n",
              "      <th>15</th>\n",
              "      <td>(Hot chocolate)</td>\n",
              "      <td>(Coffee)</td>\n",
              "      <td>0.058320</td>\n",
              "      <td>0.478394</td>\n",
              "      <td>0.029583</td>\n",
              "      <td>0.507246</td>\n",
              "      <td>1.060311</td>\n",
              "      <td>0.001683</td>\n",
              "      <td>1.058553</td>\n",
              "    </tr>\n",
              "    <tr>\n",
              "      <th>5</th>\n",
              "      <td>(Brownie)</td>\n",
              "      <td>(Coffee)</td>\n",
              "      <td>0.040042</td>\n",
              "      <td>0.478394</td>\n",
              "      <td>0.019651</td>\n",
              "      <td>0.490765</td>\n",
              "      <td>1.025860</td>\n",
              "      <td>0.000495</td>\n",
              "      <td>1.024293</td>\n",
              "    </tr>\n",
              "    <tr>\n",
              "      <th>21</th>\n",
              "      <td>(Muffin)</td>\n",
              "      <td>(Coffee)</td>\n",
              "      <td>0.038457</td>\n",
              "      <td>0.478394</td>\n",
              "      <td>0.018806</td>\n",
              "      <td>0.489011</td>\n",
              "      <td>1.022193</td>\n",
              "      <td>0.000408</td>\n",
              "      <td>1.020777</td>\n",
              "    </tr>\n",
              "    <tr>\n",
              "      <th>2</th>\n",
              "      <td>(Pastry)</td>\n",
              "      <td>(Bread)</td>\n",
              "      <td>0.086107</td>\n",
              "      <td>0.327205</td>\n",
              "      <td>0.029160</td>\n",
              "      <td>0.338650</td>\n",
              "      <td>1.034977</td>\n",
              "      <td>0.000985</td>\n",
              "      <td>1.017305</td>\n",
              "    </tr>\n",
              "    <tr>\n",
              "      <th>11</th>\n",
              "      <td>(Cake)</td>\n",
              "      <td>(Tea)</td>\n",
              "      <td>0.103856</td>\n",
              "      <td>0.142631</td>\n",
              "      <td>0.023772</td>\n",
              "      <td>0.228891</td>\n",
              "      <td>1.604781</td>\n",
              "      <td>0.008959</td>\n",
              "      <td>1.111865</td>\n",
              "    </tr>\n",
              "    <tr>\n",
              "      <th>38</th>\n",
              "      <td>(Tea, Coffee)</td>\n",
              "      <td>(Cake)</td>\n",
              "      <td>0.049868</td>\n",
              "      <td>0.103856</td>\n",
              "      <td>0.010037</td>\n",
              "      <td>0.201271</td>\n",
              "      <td>1.937977</td>\n",
              "      <td>0.004858</td>\n",
              "      <td>1.121962</td>\n",
              "    </tr>\n",
              "    <tr>\n",
              "      <th>33</th>\n",
              "      <td>(Sandwich)</td>\n",
              "      <td>(Tea)</td>\n",
              "      <td>0.071844</td>\n",
              "      <td>0.142631</td>\n",
              "      <td>0.014369</td>\n",
              "      <td>0.200000</td>\n",
              "      <td>1.402222</td>\n",
              "      <td>0.004122</td>\n",
              "      <td>1.071712</td>\n",
              "    </tr>\n",
              "    <tr>\n",
              "      <th>9</th>\n",
              "      <td>(Hot chocolate)</td>\n",
              "      <td>(Cake)</td>\n",
              "      <td>0.058320</td>\n",
              "      <td>0.103856</td>\n",
              "      <td>0.011410</td>\n",
              "      <td>0.195652</td>\n",
              "      <td>1.883874</td>\n",
              "      <td>0.005354</td>\n",
              "      <td>1.114125</td>\n",
              "    </tr>\n",
              "    <tr>\n",
              "      <th>39</th>\n",
              "      <td>(Coffee, Cake)</td>\n",
              "      <td>(Tea)</td>\n",
              "      <td>0.054728</td>\n",
              "      <td>0.142631</td>\n",
              "      <td>0.010037</td>\n",
              "      <td>0.183398</td>\n",
              "      <td>1.285822</td>\n",
              "      <td>0.002231</td>\n",
              "      <td>1.049923</td>\n",
              "    </tr>\n",
              "    <tr>\n",
              "      <th>10</th>\n",
              "      <td>(Tea)</td>\n",
              "      <td>(Cake)</td>\n",
              "      <td>0.142631</td>\n",
              "      <td>0.103856</td>\n",
              "      <td>0.023772</td>\n",
              "      <td>0.166667</td>\n",
              "      <td>1.604781</td>\n",
              "      <td>0.008959</td>\n",
              "      <td>1.075372</td>\n",
              "    </tr>\n",
              "  </tbody>\n",
              "</table>\n",
              "</div>"
            ],
            "text/plain": [
              "         antecedents consequents  ...  leverage  conviction\n",
              "31           (Toast)    (Coffee)  ...  0.007593    1.764582\n",
              "28  (Spanish Brunch)    (Coffee)  ...  0.002189    1.300235\n",
              "18       (Medialuna)    (Coffee)  ...  0.005614    1.210871\n",
              "23          (Pastry)    (Coffee)  ...  0.006351    1.164682\n",
              "0        (Alfajores)    (Coffee)  ...  0.002264    1.135648\n",
              "17           (Juice)    (Coffee)  ...  0.002154    1.119919\n",
              "25        (Sandwich)    (Coffee)  ...  0.003877    1.115384\n",
              "7             (Cake)    (Coffee)  ...  0.005044    1.102664\n",
              "27           (Scone)    (Coffee)  ...  0.001539    1.093366\n",
              "13         (Cookies)    (Coffee)  ...  0.002179    1.083174\n",
              "15   (Hot chocolate)    (Coffee)  ...  0.001683    1.058553\n",
              "5          (Brownie)    (Coffee)  ...  0.000495    1.024293\n",
              "21          (Muffin)    (Coffee)  ...  0.000408    1.020777\n",
              "2           (Pastry)     (Bread)  ...  0.000985    1.017305\n",
              "11            (Cake)       (Tea)  ...  0.008959    1.111865\n",
              "38     (Tea, Coffee)      (Cake)  ...  0.004858    1.121962\n",
              "33        (Sandwich)       (Tea)  ...  0.004122    1.071712\n",
              "9    (Hot chocolate)      (Cake)  ...  0.005354    1.114125\n",
              "39    (Coffee, Cake)       (Tea)  ...  0.002231    1.049923\n",
              "10             (Tea)      (Cake)  ...  0.008959    1.075372\n",
              "\n",
              "[20 rows x 9 columns]"
            ]
          },
          "metadata": {
            "tags": []
          },
          "execution_count": 111
        }
      ]
    },
    {
      "cell_type": "markdown",
      "metadata": {
        "id": "v-qvlTfekNEq",
        "colab_type": "text"
      },
      "source": [
        "#Lift is the key you should look up to"
      ]
    },
    {
      "cell_type": "code",
      "metadata": {
        "id": "HhXUEaDvjhws",
        "colab_type": "code",
        "colab": {
          "base_uri": "https://localhost:8080/",
          "height": 347
        },
        "outputId": "0bf86a35-61f6-48af-910c-1fe0cfd1d71f"
      },
      "source": [
        "rules.sort_values('lift', ascending=False)[:10]"
      ],
      "execution_count": 110,
      "outputs": [
        {
          "output_type": "execute_result",
          "data": {
            "text/html": [
              "<div>\n",
              "<style scoped>\n",
              "    .dataframe tbody tr th:only-of-type {\n",
              "        vertical-align: middle;\n",
              "    }\n",
              "\n",
              "    .dataframe tbody tr th {\n",
              "        vertical-align: top;\n",
              "    }\n",
              "\n",
              "    .dataframe thead th {\n",
              "        text-align: right;\n",
              "    }\n",
              "</style>\n",
              "<table border=\"1\" class=\"dataframe\">\n",
              "  <thead>\n",
              "    <tr style=\"text-align: right;\">\n",
              "      <th></th>\n",
              "      <th>antecedents</th>\n",
              "      <th>consequents</th>\n",
              "      <th>antecedent support</th>\n",
              "      <th>consequent support</th>\n",
              "      <th>support</th>\n",
              "      <th>confidence</th>\n",
              "      <th>lift</th>\n",
              "      <th>leverage</th>\n",
              "      <th>conviction</th>\n",
              "    </tr>\n",
              "  </thead>\n",
              "  <tbody>\n",
              "    <tr>\n",
              "      <th>41</th>\n",
              "      <td>(Cake)</td>\n",
              "      <td>(Tea, Coffee)</td>\n",
              "      <td>0.103856</td>\n",
              "      <td>0.049868</td>\n",
              "      <td>0.010037</td>\n",
              "      <td>0.096643</td>\n",
              "      <td>1.937977</td>\n",
              "      <td>0.004858</td>\n",
              "      <td>1.051779</td>\n",
              "    </tr>\n",
              "    <tr>\n",
              "      <th>38</th>\n",
              "      <td>(Tea, Coffee)</td>\n",
              "      <td>(Cake)</td>\n",
              "      <td>0.049868</td>\n",
              "      <td>0.103856</td>\n",
              "      <td>0.010037</td>\n",
              "      <td>0.201271</td>\n",
              "      <td>1.937977</td>\n",
              "      <td>0.004858</td>\n",
              "      <td>1.121962</td>\n",
              "    </tr>\n",
              "    <tr>\n",
              "      <th>9</th>\n",
              "      <td>(Hot chocolate)</td>\n",
              "      <td>(Cake)</td>\n",
              "      <td>0.058320</td>\n",
              "      <td>0.103856</td>\n",
              "      <td>0.011410</td>\n",
              "      <td>0.195652</td>\n",
              "      <td>1.883874</td>\n",
              "      <td>0.005354</td>\n",
              "      <td>1.114125</td>\n",
              "    </tr>\n",
              "    <tr>\n",
              "      <th>8</th>\n",
              "      <td>(Cake)</td>\n",
              "      <td>(Hot chocolate)</td>\n",
              "      <td>0.103856</td>\n",
              "      <td>0.058320</td>\n",
              "      <td>0.011410</td>\n",
              "      <td>0.109868</td>\n",
              "      <td>1.883874</td>\n",
              "      <td>0.005354</td>\n",
              "      <td>1.057910</td>\n",
              "    </tr>\n",
              "    <tr>\n",
              "      <th>10</th>\n",
              "      <td>(Tea)</td>\n",
              "      <td>(Cake)</td>\n",
              "      <td>0.142631</td>\n",
              "      <td>0.103856</td>\n",
              "      <td>0.023772</td>\n",
              "      <td>0.166667</td>\n",
              "      <td>1.604781</td>\n",
              "      <td>0.008959</td>\n",
              "      <td>1.075372</td>\n",
              "    </tr>\n",
              "    <tr>\n",
              "      <th>11</th>\n",
              "      <td>(Cake)</td>\n",
              "      <td>(Tea)</td>\n",
              "      <td>0.103856</td>\n",
              "      <td>0.142631</td>\n",
              "      <td>0.023772</td>\n",
              "      <td>0.228891</td>\n",
              "      <td>1.604781</td>\n",
              "      <td>0.008959</td>\n",
              "      <td>1.111865</td>\n",
              "    </tr>\n",
              "    <tr>\n",
              "      <th>31</th>\n",
              "      <td>(Toast)</td>\n",
              "      <td>(Coffee)</td>\n",
              "      <td>0.033597</td>\n",
              "      <td>0.478394</td>\n",
              "      <td>0.023666</td>\n",
              "      <td>0.704403</td>\n",
              "      <td>1.472431</td>\n",
              "      <td>0.007593</td>\n",
              "      <td>1.764582</td>\n",
              "    </tr>\n",
              "    <tr>\n",
              "      <th>30</th>\n",
              "      <td>(Coffee)</td>\n",
              "      <td>(Toast)</td>\n",
              "      <td>0.478394</td>\n",
              "      <td>0.033597</td>\n",
              "      <td>0.023666</td>\n",
              "      <td>0.049470</td>\n",
              "      <td>1.472431</td>\n",
              "      <td>0.007593</td>\n",
              "      <td>1.016699</td>\n",
              "    </tr>\n",
              "    <tr>\n",
              "      <th>37</th>\n",
              "      <td>(Pastry)</td>\n",
              "      <td>(Coffee, Bread)</td>\n",
              "      <td>0.086107</td>\n",
              "      <td>0.090016</td>\n",
              "      <td>0.011199</td>\n",
              "      <td>0.130061</td>\n",
              "      <td>1.444872</td>\n",
              "      <td>0.003448</td>\n",
              "      <td>1.046033</td>\n",
              "    </tr>\n",
              "    <tr>\n",
              "      <th>36</th>\n",
              "      <td>(Coffee, Bread)</td>\n",
              "      <td>(Pastry)</td>\n",
              "      <td>0.090016</td>\n",
              "      <td>0.086107</td>\n",
              "      <td>0.011199</td>\n",
              "      <td>0.124413</td>\n",
              "      <td>1.444872</td>\n",
              "      <td>0.003448</td>\n",
              "      <td>1.043749</td>\n",
              "    </tr>\n",
              "  </tbody>\n",
              "</table>\n",
              "</div>"
            ],
            "text/plain": [
              "        antecedents      consequents  ...  leverage  conviction\n",
              "41           (Cake)    (Tea, Coffee)  ...  0.004858    1.051779\n",
              "38    (Tea, Coffee)           (Cake)  ...  0.004858    1.121962\n",
              "9   (Hot chocolate)           (Cake)  ...  0.005354    1.114125\n",
              "8            (Cake)  (Hot chocolate)  ...  0.005354    1.057910\n",
              "10            (Tea)           (Cake)  ...  0.008959    1.075372\n",
              "11           (Cake)            (Tea)  ...  0.008959    1.111865\n",
              "31          (Toast)         (Coffee)  ...  0.007593    1.764582\n",
              "30         (Coffee)          (Toast)  ...  0.007593    1.016699\n",
              "37         (Pastry)  (Coffee, Bread)  ...  0.003448    1.046033\n",
              "36  (Coffee, Bread)         (Pastry)  ...  0.003448    1.043749\n",
              "\n",
              "[10 rows x 9 columns]"
            ]
          },
          "metadata": {
            "tags": []
          },
          "execution_count": 110
        }
      ]
    },
    {
      "cell_type": "markdown",
      "metadata": {
        "id": "NJtv99ncjTJX",
        "colab_type": "text"
      },
      "source": [
        ">Pastry -> Bread         \n",
        "Cake -> Tea                        \n",
        "(Coffee + Tea) -> Cake        \n",
        "Sandwhich -> Tea                 \n",
        "Hot Chocolate -> Cake          \n",
        "Toast ---> Coffee     "
      ]
    },
    {
      "cell_type": "code",
      "metadata": {
        "id": "-F97i-JmZ2pk",
        "colab_type": "code",
        "colab": {}
      },
      "source": [
        ""
      ],
      "execution_count": 0,
      "outputs": []
    },
    {
      "cell_type": "code",
      "metadata": {
        "id": "UkBe3es1jDKK",
        "colab_type": "code",
        "colab": {}
      },
      "source": [
        ""
      ],
      "execution_count": 0,
      "outputs": []
    },
    {
      "cell_type": "code",
      "metadata": {
        "id": "9M1tIlKcaaJK",
        "colab_type": "code",
        "colab": {}
      },
      "source": [
        ""
      ],
      "execution_count": 0,
      "outputs": []
    },
    {
      "cell_type": "code",
      "metadata": {
        "id": "CFryPS_daaGN",
        "colab_type": "code",
        "colab": {}
      },
      "source": [
        ""
      ],
      "execution_count": 0,
      "outputs": []
    },
    {
      "cell_type": "code",
      "metadata": {
        "id": "pwM3X-ORaaDm",
        "colab_type": "code",
        "colab": {}
      },
      "source": [
        ""
      ],
      "execution_count": 0,
      "outputs": []
    },
    {
      "cell_type": "code",
      "metadata": {
        "id": "E4G3KNLYaaBW",
        "colab_type": "code",
        "colab": {}
      },
      "source": [
        ""
      ],
      "execution_count": 0,
      "outputs": []
    },
    {
      "cell_type": "code",
      "metadata": {
        "id": "XSEBonlIaZ-a",
        "colab_type": "code",
        "colab": {}
      },
      "source": [
        ""
      ],
      "execution_count": 0,
      "outputs": []
    }
  ]
}