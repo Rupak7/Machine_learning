{
  "nbformat": 4,
  "nbformat_minor": 0,
  "metadata": {
    "colab": {
      "name": "TOPIC_MODELING.ipynb",
      "version": "0.3.2",
      "provenance": [],
      "include_colab_link": true
    },
    "language_info": {
      "codemirror_mode": {
        "name": "ipython",
        "version": 3
      },
      "file_extension": ".py",
      "mimetype": "text/x-python",
      "name": "python",
      "nbconvert_exporter": "python",
      "pygments_lexer": "ipython3",
      "version": "3.7.3"
    },
    "kernelspec": {
      "name": "python3",
      "display_name": "Python 3"
    },
    "accelerator": "GPU"
  },
  "cells": [
    {
      "cell_type": "markdown",
      "metadata": {
        "id": "view-in-github",
        "colab_type": "text"
      },
      "source": [
        "<a href=\"https://colab.research.google.com/github/priyanshgupta1998/Machine_learning/blob/master/TOPIC_MODELING.ipynb\" target=\"_parent\"><img src=\"https://colab.research.google.com/assets/colab-badge.svg\" alt=\"Open In Colab\"/></a>"
      ]
    },
    {
      "cell_type": "code",
      "metadata": {
        "id": "z_RAedrudEOQ",
        "colab_type": "code",
        "colab": {}
      },
      "source": [
        ""
      ],
      "execution_count": 0,
      "outputs": []
    },
    {
      "cell_type": "code",
      "metadata": {
        "id": "Up6Lr9bydEOU",
        "colab_type": "code",
        "colab": {}
      },
      "source": [
        "\n"
      ],
      "execution_count": 0,
      "outputs": []
    },
    {
      "cell_type": "markdown",
      "metadata": {
        "id": "C7v6DMx_dEOZ",
        "colab_type": "text"
      },
      "source": [
        "# TOP_MODELING\n",
        "\n",
        "# Latent Dirichlet Allocation (LDA):\n",
        "\n",
        "### find a text dataset, remove the label if it is labeled, and build a topic model!"
      ]
    },
    {
      "cell_type": "code",
      "metadata": {
        "id": "xPU9UINEdUqt",
        "colab_type": "code",
        "colab": {}
      },
      "source": [
        "import pandas as pd\n",
        "import numpy as np"
      ],
      "execution_count": 0,
      "outputs": []
    },
    {
      "cell_type": "code",
      "metadata": {
        "id": "GO43OLb_dEOa",
        "colab_type": "code",
        "colab": {
          "base_uri": "https://localhost:8080/",
          "height": 221
        },
        "outputId": "8a0e2ee0-520d-41ec-8ca6-9229db761ee3"
      },
      "source": [
        "\n",
        "data = pd.read_csv(\"/home/data.csv\")\n",
        "print(data.shape)\n",
        "data.head()"
      ],
      "execution_count": 4,
      "outputs": [
        {
          "output_type": "stream",
          "text": [
            "(2506, 1)\n"
          ],
          "name": "stdout"
        },
        {
          "output_type": "execute_result",
          "data": {
            "text/html": [
              "<div>\n",
              "<style scoped>\n",
              "    .dataframe tbody tr th:only-of-type {\n",
              "        vertical-align: middle;\n",
              "    }\n",
              "\n",
              "    .dataframe tbody tr th {\n",
              "        vertical-align: top;\n",
              "    }\n",
              "\n",
              "    .dataframe thead th {\n",
              "        text-align: right;\n",
              "    }\n",
              "</style>\n",
              "<table border=\"1\" class=\"dataframe\">\n",
              "  <thead>\n",
              "    <tr style=\"text-align: right;\">\n",
              "      <th></th>\n",
              "      <th>Innovation in Database Management: Computer Science vs. Engineering.</th>\n",
              "    </tr>\n",
              "  </thead>\n",
              "  <tbody>\n",
              "    <tr>\n",
              "      <th>0</th>\n",
              "      <td>High performance prime field multiplication fo...</td>\n",
              "    </tr>\n",
              "    <tr>\n",
              "      <th>1</th>\n",
              "      <td>enchanted scissors: a scissor interface for su...</td>\n",
              "    </tr>\n",
              "    <tr>\n",
              "      <th>2</th>\n",
              "      <td>Detection of channel degradation attack by Int...</td>\n",
              "    </tr>\n",
              "    <tr>\n",
              "      <th>3</th>\n",
              "      <td>Pinning a Complex Network through the Betweenn...</td>\n",
              "    </tr>\n",
              "    <tr>\n",
              "      <th>4</th>\n",
              "      <td>Analysis and Design of Memoryless Interconnect...</td>\n",
              "    </tr>\n",
              "  </tbody>\n",
              "</table>\n",
              "</div>"
            ],
            "text/plain": [
              "  Innovation in Database Management: Computer Science vs. Engineering.\n",
              "0  High performance prime field multiplication fo...                  \n",
              "1  enchanted scissors: a scissor interface for su...                  \n",
              "2  Detection of channel degradation attack by Int...                  \n",
              "3  Pinning a Complex Network through the Betweenn...                  \n",
              "4  Analysis and Design of Memoryless Interconnect...                  "
            ]
          },
          "metadata": {
            "tags": []
          },
          "execution_count": 4
        }
      ]
    },
    {
      "cell_type": "code",
      "metadata": {
        "id": "yDsD7fRXdEOf",
        "colab_type": "code",
        "colab": {
          "base_uri": "https://localhost:8080/",
          "height": 34
        },
        "outputId": "afcb37e0-f721-4195-9b3b-7e4facaa59a0"
      },
      "source": [
        "#spaCy comes with pre-trained statistical models and word vectors, and currently supports tokenization for 49+ languages.\n",
        "import spacy\n",
        "spacy.load('en')"
      ],
      "execution_count": 5,
      "outputs": [
        {
          "output_type": "execute_result",
          "data": {
            "text/plain": [
              "<spacy.lang.en.English at 0x7f9025ee7278>"
            ]
          },
          "metadata": {
            "tags": []
          },
          "execution_count": 5
        }
      ]
    },
    {
      "cell_type": "code",
      "metadata": {
        "id": "Pevt8lYydeQp",
        "colab_type": "code",
        "colab": {}
      },
      "source": [
        "from spacy.lang.en import English  # Frim 49+ languages we are choosing ENGLISH language , over here\n",
        "parser = English()"
      ],
      "execution_count": 0,
      "outputs": []
    },
    {
      "cell_type": "code",
      "metadata": {
        "id": "gRg2FmjqeWct",
        "colab_type": "code",
        "colab": {}
      },
      "source": [
        ""
      ],
      "execution_count": 0,
      "outputs": []
    },
    {
      "cell_type": "code",
      "metadata": {
        "id": "-cTk8DoYdgQC",
        "colab_type": "code",
        "colab": {
          "base_uri": "https://localhost:8080/",
          "height": 102
        },
        "outputId": "c10858fd-1574-4951-e877-94573ab688d4"
      },
      "source": [
        "liss = []\n",
        "with open('/home/data.csv') as f:\n",
        "    for line in f:\n",
        "        tokens = parser(line)\n",
        "        liss.append(tokens)\n",
        "liss[:5]       "
      ],
      "execution_count": 12,
      "outputs": [
        {
          "output_type": "execute_result",
          "data": {
            "text/plain": [
              "[Innovation in Database Management: Computer Science vs. Engineering.,\n",
              " High performance prime field multiplication for GPU.,\n",
              " enchanted scissors: a scissor interface for support in cutting and interactive fabrication.,\n",
              " Detection of channel degradation attack by Intermediary Node in Linear Networks.,\n",
              " Pinning a Complex Network through the Betweenness Centrality Strategy.]"
            ]
          },
          "metadata": {
            "tags": []
          },
          "execution_count": 12
        }
      ]
    },
    {
      "cell_type": "code",
      "metadata": {
        "id": "Alk8r8DLdEOk",
        "colab_type": "code",
        "colab": {}
      },
      "source": [
        "def tokenize(text):\n",
        "    lda_tokens = []\n",
        "    tokens = parser(text)\n",
        "    \n",
        "    for token in tokens:\n",
        "        if token.orth_.isspace():\n",
        "            continue\n",
        "            \n",
        "        elif token.like_url:\n",
        "            lda_tokens.append('URL')\n",
        "            \n",
        "        elif token.orth_.startswith('@'):\n",
        "            lda_tokens.append('SCREEN_NAME')\n",
        "            \n",
        "        else:\n",
        "            lda_tokens.append(token.lower_)\n",
        "            \n",
        "    return lda_tokens"
      ],
      "execution_count": 0,
      "outputs": []
    },
    {
      "cell_type": "markdown",
      "metadata": {
        "id": "4T4rEkrhdEOn",
        "colab_type": "text"
      },
      "source": [
        "# We use NLTK’s Wordnet to find the meanings of words, synonyms, antonyms, and more. \n",
        "###### In addition, we use WordNetLemmatizer to get the root word."
      ]
    },
    {
      "cell_type": "code",
      "metadata": {
        "id": "vkFjOme9dEOp",
        "colab_type": "code",
        "colab": {
          "base_uri": "https://localhost:8080/",
          "height": 68
        },
        "outputId": "d7cd6c18-265e-4276-8f2b-54cbca5083e3"
      },
      "source": [
        "import nltk\n",
        "nltk.download('wordnet')"
      ],
      "execution_count": 14,
      "outputs": [
        {
          "output_type": "stream",
          "text": [
            "[nltk_data] Downloading package wordnet to /root/nltk_data...\n",
            "[nltk_data]   Package wordnet is already up-to-date!\n"
          ],
          "name": "stdout"
        },
        {
          "output_type": "execute_result",
          "data": {
            "text/plain": [
              "True"
            ]
          },
          "metadata": {
            "tags": []
          },
          "execution_count": 14
        }
      ]
    },
    {
      "cell_type": "code",
      "metadata": {
        "id": "OkmxN2txdEOs",
        "colab_type": "code",
        "colab": {}
      },
      "source": [
        "from nltk.corpus import wordnet as wn\n",
        "def get_lemma(word):\n",
        "    lemma = wn.morphy(word)\n",
        "    if lemma is None:    # if there is no any root word of given word\n",
        "        return word\n",
        "    else:\n",
        "        return lemma"
      ],
      "execution_count": 0,
      "outputs": []
    },
    {
      "cell_type": "code",
      "metadata": {
        "id": "RvvCFHUsdEOw",
        "colab_type": "code",
        "colab": {}
      },
      "source": [
        "from nltk.stem.wordnet import WordNetLemmatizer\n",
        "\n",
        "def get_lemma2(word):\n",
        "    return WordNetLemmatizer().lemmatize(word)"
      ],
      "execution_count": 0,
      "outputs": []
    },
    {
      "cell_type": "markdown",
      "metadata": {
        "id": "tkTjONGDdEO0",
        "colab_type": "text"
      },
      "source": [
        "# Remove the stopwords  \n",
        "\n",
        "Stopwords are redundant words which don't have any meaning in sentences( simentic analysis)"
      ]
    },
    {
      "cell_type": "code",
      "metadata": {
        "id": "V3uk3JnGdEO0",
        "colab_type": "code",
        "colab": {
          "base_uri": "https://localhost:8080/",
          "height": 88
        },
        "outputId": "371dabc1-5247-44b3-dbe2-a8eb9c957b0c"
      },
      "source": [
        "nltk.download('stopwords')   \n",
        "en_stop = set(nltk.corpus.stopwords.words('english'))\n",
        "print(en_stop)"
      ],
      "execution_count": 17,
      "outputs": [
        {
          "output_type": "stream",
          "text": [
            "[nltk_data] Downloading package stopwords to /root/nltk_data...\n",
            "[nltk_data]   Unzipping corpora/stopwords.zip.\n",
            "{'before', 'y', 'they', 'he', 'being', \"haven't\", \"hasn't\", 'do', 'why', 'our', \"weren't\", 'wouldn', 't', 'couldn', 'their', 'those', 'of', 'now', 'very', 'while', 'too', 'hadn', 'didn', \"should've\", \"don't\", \"shouldn't\", \"mustn't\", 'having', \"you're\", 'your', 'on', 'down', \"she's\", 'after', 'themselves', 'other', 'the', 'there', 'yourself', 'am', 'herself', 'through', \"wouldn't\", 'these', 'don', 'is', 'wasn', \"that'll\", 'did', 'than', \"needn't\", 'where', 'me', 'aren', 'hasn', 'we', 'shouldn', 'o', 're', 'against', \"isn't\", \"mightn't\", 'just', 'but', 'own', 'out', 'then', 'into', 'needn', 'in', 'you', 'her', 'itself', 'not', 'a', 'that', 'm', \"couldn't\", 'how', \"you've\", 'each', 'most', 'once', 'which', 'for', 'up', 'were', 'under', 'both', 'ourselves', 'should', \"doesn't\", 'myself', 'my', \"hadn't\", 'can', 'will', 'nor', 'same', 'had', 'between', 'few', 'has', 'doing', 'd', \"aren't\", 'by', 'himself', \"won't\", 'was', 'from', 'only', 'ours', 'ma', 'what', \"you'll\", 'over', 'this', 'll', 'his', 'them', 'hers', 'below', 'again', \"shan't\", 'when', 'ain', 'theirs', 'to', \"you'd\", 'are', 'does', 'won', 'mightn', 'at', 'shan', 'all', 's', 'she', 'mustn', 'off', 'any', 'who', 'yours', 'yourselves', 'during', 'isn', 'i', 'weren', 'haven', 'as', \"didn't\", 'have', 've', 'until', 'him', 'and', 'about', 'its', \"it's\", 'it', 'more', 'further', 'no', 'doesn', 'some', 'so', 'if', \"wasn't\", 'with', 'whom', 'because', 'been', 'be', 'an', 'above', 'here', 'or', 'such'}\n"
          ],
          "name": "stdout"
        }
      ]
    },
    {
      "cell_type": "markdown",
      "metadata": {
        "id": "c5cj56m2dEO4",
        "colab_type": "text"
      },
      "source": [
        "# Topic modeling"
      ]
    },
    {
      "cell_type": "code",
      "metadata": {
        "id": "OA0vDZB1dEO5",
        "colab_type": "code",
        "colab": {}
      },
      "source": [
        "def prepare_text_for_lda(text):\n",
        "    tokens = tokenize(text)\n",
        "    \n",
        "    tokens = [token for token in tokens if len(token) > 4]         # the length of the individual token should be greater than 4.\n",
        "    tokens = [token for token in tokens if token not in en_stop]   # remove stopword \n",
        "    tokens = [get_lemma(token) for token in tokens]                 # find the root word\n",
        "    return tokens"
      ],
      "execution_count": 0,
      "outputs": []
    },
    {
      "cell_type": "markdown",
      "metadata": {
        "id": "j_9yhO9HdEO9",
        "colab_type": "text"
      },
      "source": [
        "### Open up our data, read line by line, for each line, prepare text for LDA, then add to a list."
      ]
    },
    {
      "cell_type": "code",
      "metadata": {
        "id": "MtUYzbWddEO-",
        "colab_type": "code",
        "colab": {
          "base_uri": "https://localhost:8080/",
          "height": 459
        },
        "outputId": "cb486d66-b284-4b51-fc76-6b0ef47e03f0"
      },
      "source": [
        "import random\n",
        "text_data = []\n",
        "all_tokens = []\n",
        "with open('/home/data.csv') as f:\n",
        "    for line in f:\n",
        "        tokens = prepare_text_for_lda(line)\n",
        "        all_tokens.append(tokens)\n",
        "        val = random.random()\n",
        "        if val > .99:\n",
        "            print(val , tokens)\n",
        "            text_data.append(tokens)\n",
        "            "
      ],
      "execution_count": 40,
      "outputs": [
        {
          "output_type": "stream",
          "text": [
            "0.9905800739196984 ['parametric', 'keyframe', 'interpolation', 'incorporate', 'kinetic', 'adjustment', 'phrasing', 'control']\n",
            "0.9966230792353066 ['design', '64-bit', 'energy', 'performance', 'adder', 'using', 'dynamic', 'feedthrough', 'logic']\n",
            "0.9961678051443218 ['speed', 'front', 'photodiode', 'base', 'fluorescence', 'lifetime', 'measurement', 'system']\n",
            "0.9911974310448745 ['smooth', 'distribute', 'multimedia', 'database', 'system']\n",
            "0.9984689370951286 ['multiuser', 'detection', 'base', 'grover', 'algorithm']\n",
            "0.9968423448568698 ['warmth', 'night']\n",
            "0.9985135525474417 ['optimize', 'energy', 'latency', 'trade', 'sensor', 'network', 'control', 'mobility']\n",
            "0.9964852715192138 ['articulate', 'deformation', 'range']\n",
            "0.9939022031588081 ['voltage', 'dtmos', 'mtcmos', 'circuit', 'technique', 'design', 'optimization', 'power', 'application']\n",
            "0.9907188596709444 ['restful', 'services', 'services', 'making', 'right', 'architectural', 'decision']\n",
            "0.9954505338623301 ['numerical', 'simulation', 'fluid', 'complex', 'geometry', 'using', 'lattice', 'boltzmann', 'method', 'enable']\n",
            "0.992186090716089 ['ultra', 'power', 'factor', 'correction', 'controller', 'sinusoidal', 'synthesis', 'optimize', 'control']\n",
            "0.9969643610905952 ['analog', 'implementation', 'base', 'adaptation', 'denoising']\n",
            "0.992858752042148 ['spherical', 'representation', 'polyhedron', 'route', 'balancing', 'wireless', 'sensor', 'network']\n",
            "0.997805918545648 ['multi', 'clock', 'pipeline', 'structure', '802.11', 'transceiver']\n",
            "0.9956771588342193 ['economic', 'effect', 'prefix', 'deaggregation']\n",
            "0.9947559506539069 ['hardware', 'efficient', 'filterbank', 'design', 'recursive', 'imdst', 'algorithm']\n",
            "0.997923254750811 ['structure', 'linear', 'phase', 'nyquist', 'filter', 'interpolators', 'decimators']\n",
            "0.9968576260581301 ['heavenly', 'appeal']\n",
            "0.9902270465186478 ['experimental', 'validation', 'novel', 'adaptive', 'controller', 'piecewise', 'affine', 'system']\n",
            "0.9901912507858819 ['multi', 'column', 'foreign', 'discovery']\n",
            "0.9914507242776878 ['business', 'process', 'cockpit']\n",
            "0.9971867381438125 ['scalable', 'robust', 'namespace', 'independent', 'virtual', 'route', 'future', 'network']\n",
            "0.9960158586934942 ['directional', 'orthogonal', 'graph']\n",
            "0.9911855128252511 ['static', 'force', 'measurement', 'piezoelectric', 'sensor']\n",
            "0.9967189954252992 ['pagerank', 'function', 'damp', 'factor']\n"
          ],
          "name": "stdout"
        }
      ]
    },
    {
      "cell_type": "code",
      "metadata": {
        "id": "kptY6AcllAtB",
        "colab_type": "code",
        "colab": {
          "base_uri": "https://localhost:8080/",
          "height": 425
        },
        "outputId": "ad3bd427-9558-4af3-9455-43cc214997f2"
      },
      "source": [
        "print( len(data)+1 , len(all_tokens))\n",
        "all_tokens[:5]"
      ],
      "execution_count": 42,
      "outputs": [
        {
          "output_type": "stream",
          "text": [
            "2507 2507\n"
          ],
          "name": "stdout"
        },
        {
          "output_type": "execute_result",
          "data": {
            "text/plain": [
              "[['innovation',\n",
              "  'database',\n",
              "  'management',\n",
              "  'computer',\n",
              "  'science',\n",
              "  'engineering'],\n",
              " ['performance', 'prime', 'field', 'multiplication'],\n",
              " ['enchant',\n",
              "  'scissors',\n",
              "  'scissor',\n",
              "  'interface',\n",
              "  'support',\n",
              "  'cutting',\n",
              "  'interactive',\n",
              "  'fabrication'],\n",
              " ['detection',\n",
              "  'channel',\n",
              "  'degradation',\n",
              "  'attack',\n",
              "  'intermediary',\n",
              "  'linear',\n",
              "  'network'],\n",
              " ['pinning', 'complex', 'network', 'betweenness', 'centrality', 'strategy']]"
            ]
          },
          "metadata": {
            "tags": []
          },
          "execution_count": 42
        }
      ]
    },
    {
      "cell_type": "code",
      "metadata": {
        "id": "4T0FuilWHBf2",
        "colab_type": "code",
        "colab": {
          "base_uri": "https://localhost:8080/",
          "height": 476
        },
        "outputId": "0e368192-1e9e-4bf4-e4dc-7980e338566d"
      },
      "source": [
        "text_data[:5]"
      ],
      "execution_count": 43,
      "outputs": [
        {
          "output_type": "execute_result",
          "data": {
            "text/plain": [
              "[['parametric',\n",
              "  'keyframe',\n",
              "  'interpolation',\n",
              "  'incorporate',\n",
              "  'kinetic',\n",
              "  'adjustment',\n",
              "  'phrasing',\n",
              "  'control'],\n",
              " ['design',\n",
              "  '64-bit',\n",
              "  'energy',\n",
              "  'performance',\n",
              "  'adder',\n",
              "  'using',\n",
              "  'dynamic',\n",
              "  'feedthrough',\n",
              "  'logic'],\n",
              " ['speed',\n",
              "  'front',\n",
              "  'photodiode',\n",
              "  'base',\n",
              "  'fluorescence',\n",
              "  'lifetime',\n",
              "  'measurement',\n",
              "  'system'],\n",
              " ['smooth', 'distribute', 'multimedia', 'database', 'system'],\n",
              " ['multiuser', 'detection', 'base', 'grover', 'algorithm']]"
            ]
          },
          "metadata": {
            "tags": []
          },
          "execution_count": 43
        }
      ]
    },
    {
      "cell_type": "markdown",
      "metadata": {
        "id": "2LQglb5AdEPD",
        "colab_type": "text"
      },
      "source": [
        "# LDA with Gensim\n",
        "\n",
        "### Gensim is a free Python library designed to \"automatically extract semantic topics from documents\" , as efficiently (computer-wise) and painlessly (human-wise) as possible.\n",
        "\n",
        "We are gonna use 'Bag of Words' word embedding technique to find the frequency of the word in the document.   \n",
        "After that we will make a dictionary named corpus."
      ]
    },
    {
      "cell_type": "code",
      "metadata": {
        "id": "Mtu8FtQAdEPD",
        "colab_type": "code",
        "colab": {
          "base_uri": "https://localhost:8080/",
          "height": 54
        },
        "outputId": "76d968bb-ab9b-4e19-9112-7e4e0920913c"
      },
      "source": [
        "from gensim import corpora\n",
        "\n",
        "dictionary = corpora.Dictionary(text_data)\n",
        "\n",
        "print(list(dictionary))    # Number of total words in the dictionary\n"
      ],
      "execution_count": 44,
      "outputs": [
        {
          "output_type": "stream",
          "text": [
            "[0, 1, 2, 3, 4, 5, 6, 7, 8, 9, 10, 11, 12, 13, 14, 15, 16, 17, 18, 19, 20, 21, 22, 23, 24, 25, 26, 27, 28, 29, 30, 31, 32, 33, 34, 35, 36, 37, 38, 39, 40, 41, 42, 43, 44, 45, 46, 47, 48, 49, 50, 51, 52, 53, 54, 55, 56, 57, 58, 59, 60, 61, 62, 63, 64, 65, 66, 67, 68, 69, 70, 71, 72, 73, 74, 75, 76, 77, 78, 79, 80, 81, 82, 83, 84, 85, 86, 87, 88, 89, 90, 91, 92, 93, 94, 95, 96, 97, 98, 99, 100, 101, 102, 103, 104, 105, 106, 107, 108, 109, 110, 111, 112, 113, 114, 115, 116, 117, 118, 119, 120, 121, 122, 123, 124, 125, 126, 127, 128, 129, 130, 131, 132]\n"
          ],
          "name": "stdout"
        }
      ]
    },
    {
      "cell_type": "markdown",
      "metadata": {
        "id": "Vjm8OWYVqMmH",
        "colab_type": "text"
      },
      "source": [
        "### The function doc2bow() simply counts the number of occurrences of each distinct word, converts the word to its integer word id"
      ]
    },
    {
      "cell_type": "code",
      "metadata": {
        "id": "YygStkE5nxOE",
        "colab_type": "code",
        "colab": {
          "base_uri": "https://localhost:8080/",
          "height": 697
        },
        "outputId": "f1e45962-280e-410f-a81b-94d246e00e91"
      },
      "source": [
        "corpus1 = [dictionary.doc2bow(text) for text in text_data[:5]]\n",
        "\n",
        "text_data[:5] , corpus1"
      ],
      "execution_count": 45,
      "outputs": [
        {
          "output_type": "execute_result",
          "data": {
            "text/plain": [
              "([['parametric',\n",
              "   'keyframe',\n",
              "   'interpolation',\n",
              "   'incorporate',\n",
              "   'kinetic',\n",
              "   'adjustment',\n",
              "   'phrasing',\n",
              "   'control'],\n",
              "  ['design',\n",
              "   '64-bit',\n",
              "   'energy',\n",
              "   'performance',\n",
              "   'adder',\n",
              "   'using',\n",
              "   'dynamic',\n",
              "   'feedthrough',\n",
              "   'logic'],\n",
              "  ['speed',\n",
              "   'front',\n",
              "   'photodiode',\n",
              "   'base',\n",
              "   'fluorescence',\n",
              "   'lifetime',\n",
              "   'measurement',\n",
              "   'system'],\n",
              "  ['smooth', 'distribute', 'multimedia', 'database', 'system'],\n",
              "  ['multiuser', 'detection', 'base', 'grover', 'algorithm']],\n",
              " [[(0, 1), (1, 1), (2, 1), (3, 1), (4, 1), (5, 1), (6, 1), (7, 1)],\n",
              "  [(8, 1),\n",
              "   (9, 1),\n",
              "   (10, 1),\n",
              "   (11, 1),\n",
              "   (12, 1),\n",
              "   (13, 1),\n",
              "   (14, 1),\n",
              "   (15, 1),\n",
              "   (16, 1)],\n",
              "  [(17, 1), (18, 1), (19, 1), (20, 1), (21, 1), (22, 1), (23, 1), (24, 1)],\n",
              "  [(24, 1), (25, 1), (26, 1), (27, 1), (28, 1)],\n",
              "  [(17, 1), (29, 1), (30, 1), (31, 1), (32, 1)]])"
            ]
          },
          "metadata": {
            "tags": []
          },
          "execution_count": 45
        }
      ]
    },
    {
      "cell_type": "code",
      "metadata": {
        "id": "B13vmHGFdEPO",
        "colab_type": "code",
        "colab": {}
      },
      "source": [
        "corpus = [dictionary.doc2bow(text) for text in text_data]"
      ],
      "execution_count": 0,
      "outputs": []
    },
    {
      "cell_type": "code",
      "metadata": {
        "id": "Y2EKijnSqYt3",
        "colab_type": "code",
        "colab": {
          "base_uri": "https://localhost:8080/",
          "height": 1258
        },
        "outputId": "01fd5338-5940-4194-cb6c-42976eea9c55"
      },
      "source": [
        "corpus"
      ],
      "execution_count": 47,
      "outputs": [
        {
          "output_type": "execute_result",
          "data": {
            "text/plain": [
              "[[(0, 1), (1, 1), (2, 1), (3, 1), (4, 1), (5, 1), (6, 1), (7, 1)],\n",
              " [(8, 1),\n",
              "  (9, 1),\n",
              "  (10, 1),\n",
              "  (11, 1),\n",
              "  (12, 1),\n",
              "  (13, 1),\n",
              "  (14, 1),\n",
              "  (15, 1),\n",
              "  (16, 1)],\n",
              " [(17, 1), (18, 1), (19, 1), (20, 1), (21, 1), (22, 1), (23, 1), (24, 1)],\n",
              " [(24, 1), (25, 1), (26, 1), (27, 1), (28, 1)],\n",
              " [(17, 1), (29, 1), (30, 1), (31, 1), (32, 1)],\n",
              " [(33, 1), (34, 1)],\n",
              " [(1, 1), (12, 1), (35, 1), (36, 1), (37, 1), (38, 1), (39, 1), (40, 1)],\n",
              " [(41, 1), (42, 1), (43, 1)],\n",
              " [(10, 1),\n",
              "  (44, 1),\n",
              "  (45, 1),\n",
              "  (46, 1),\n",
              "  (47, 1),\n",
              "  (48, 1),\n",
              "  (49, 1),\n",
              "  (50, 1),\n",
              "  (51, 1)],\n",
              " [(52, 1), (53, 1), (54, 1), (55, 1), (56, 1), (57, 2)],\n",
              " [(16, 1),\n",
              "  (58, 1),\n",
              "  (59, 1),\n",
              "  (60, 1),\n",
              "  (61, 1),\n",
              "  (62, 1),\n",
              "  (63, 1),\n",
              "  (64, 1),\n",
              "  (65, 1),\n",
              "  (66, 1)],\n",
              " [(1, 1),\n",
              "  (38, 1),\n",
              "  (49, 1),\n",
              "  (67, 1),\n",
              "  (68, 1),\n",
              "  (69, 1),\n",
              "  (70, 1),\n",
              "  (71, 1),\n",
              "  (72, 1)],\n",
              " [(17, 1), (73, 1), (74, 1), (75, 1), (76, 1)],\n",
              " [(37, 1), (39, 1), (77, 1), (78, 1), (79, 1), (80, 1), (81, 1), (82, 1)],\n",
              " [(83, 1), (84, 1), (85, 1), (86, 1), (87, 1), (88, 1)],\n",
              " [(89, 1), (90, 1), (91, 1), (92, 1)],\n",
              " [(10, 1), (29, 1), (93, 1), (94, 1), (95, 1), (96, 1), (97, 1)],\n",
              " [(87, 1), (98, 1), (99, 1), (100, 1), (101, 1), (102, 1), (103, 1)],\n",
              " [(104, 1), (105, 1)],\n",
              " [(24, 1),\n",
              "  (67, 1),\n",
              "  (106, 1),\n",
              "  (107, 1),\n",
              "  (108, 1),\n",
              "  (109, 1),\n",
              "  (110, 1),\n",
              "  (111, 1)],\n",
              " [(85, 1), (112, 1), (113, 1), (114, 1)],\n",
              " [(115, 1), (116, 1), (117, 1)],\n",
              " [(37, 1),\n",
              "  (80, 1),\n",
              "  (118, 1),\n",
              "  (119, 1),\n",
              "  (120, 1),\n",
              "  (121, 1),\n",
              "  (122, 1),\n",
              "  (123, 1)],\n",
              " [(124, 1), (125, 1), (126, 1)],\n",
              " [(21, 1), (39, 1), (127, 1), (128, 1), (129, 1)],\n",
              " [(69, 1), (130, 1), (131, 1), (132, 1)]]"
            ]
          },
          "metadata": {
            "tags": []
          },
          "execution_count": 47
        }
      ]
    },
    {
      "cell_type": "code",
      "metadata": {
        "id": "qMe82hqhdEPX",
        "colab_type": "code",
        "colab": {}
      },
      "source": [
        "import pickle\n",
        "\n",
        "pickle.dump(corpus, open('/home/corpus.pkl', 'wb'))   # save the object in the local storage\n",
        "\n",
        "dictionary.save('/home/dictionary.gensim')"
      ],
      "execution_count": 0,
      "outputs": []
    },
    {
      "cell_type": "markdown",
      "metadata": {
        "id": "hQE4wroNqpOy",
        "colab_type": "text"
      },
      "source": [
        "### We are asking LDA to find 5 topics in the data:"
      ]
    },
    {
      "cell_type": "code",
      "metadata": {
        "id": "-PKq37HFdEPd",
        "colab_type": "code",
        "colab": {}
      },
      "source": [
        "import gensim\n",
        "NUM_TOPICS = 5\n",
        "\n",
        "ldamodel = gensim.models.ldamodel.LdaModel(corpus, num_topics = NUM_TOPICS, id2word=dictionary, passes=15)\n",
        "ldamodel.save('/home/model5.gensim')"
      ],
      "execution_count": 0,
      "outputs": []
    },
    {
      "cell_type": "code",
      "metadata": {
        "id": "L0jCm09DdEPl",
        "colab_type": "code",
        "colab": {
          "base_uri": "https://localhost:8080/",
          "height": 102
        },
        "outputId": "53771925-69b8-4e13-8dfc-78f1c5297f2a"
      },
      "source": [
        "topics = ldamodel.print_topics(num_words=4)\n",
        "for topic in topics:\n",
        "    print(topic)"
      ],
      "execution_count": 50,
      "outputs": [
        {
          "output_type": "stream",
          "text": [
            "(0, '0.039*\"sensor\" + 0.039*\"measurement\" + 0.021*\"base\" + 0.021*\"photodiode\"')\n",
            "(1, '0.034*\"control\" + 0.034*\"factor\" + 0.018*\"multi\" + 0.018*\"synthesis\"')\n",
            "(2, '0.042*\"services\" + 0.023*\"structure\" + 0.023*\"base\" + 0.023*\"decision\"')\n",
            "(3, '0.039*\"system\" + 0.021*\"design\" + 0.021*\"controller\" + 0.021*\"energy\"')\n",
            "(4, '0.020*\"network\" + 0.020*\"algorithm\" + 0.020*\"using\" + 0.020*\"geometry\"')\n"
          ],
          "name": "stdout"
        }
      ]
    },
    {
      "cell_type": "markdown",
      "metadata": {
        "id": "UUo7-lXxHo8A",
        "colab_type": "text"
      },
      "source": [
        "As we can see here   topic '0' is related to Electronics.\n"
      ]
    },
    {
      "cell_type": "markdown",
      "metadata": {
        "id": "nF6XQhDPrsci",
        "colab_type": "text"
      },
      "source": [
        "## With LDA, we can see that different document with different topics,   \n",
        "\n",
        "# Let's try new document"
      ]
    },
    {
      "cell_type": "code",
      "metadata": {
        "id": "o40p9htddEPn",
        "colab_type": "code",
        "colab": {
          "base_uri": "https://localhost:8080/",
          "height": 51
        },
        "outputId": "d48e25df-5ea4-44cd-ec7d-d23f33ecb298"
      },
      "source": [
        "new_doc = 'Practical Bayesian Optimization of Machine Learning Algorithms'\n",
        "new_doc = prepare_text_for_lda(new_doc)     # get topics\n",
        "new_doc_bow = dictionary.doc2bow(new_doc)   # word occurence with integer id\n",
        "print(new_doc_bow)\n",
        "print(ldamodel.get_document_topics(new_doc_bow))"
      ],
      "execution_count": 52,
      "outputs": [
        {
          "output_type": "stream",
          "text": [
            "[(29, 1), (48, 1)]\n",
            "[(0, 0.3996502), (1, 0.06669175), (2, 0.3977759), (3, 0.06669592), (4, 0.06918624)]\n"
          ],
          "name": "stdout"
        }
      ]
    },
    {
      "cell_type": "markdown",
      "metadata": {
        "id": "Wn7yMD3jsT2N",
        "colab_type": "text"
      },
      "source": [
        "My new document is about machine learning algorithms, the LDA out put shows that topic 0 and 2 has the highest probability assigned, and topic 1 has the second highest probability assigned. We agreed!\n",
        "\n",
        "Remember that the above 5 probabilities add up to 1.\n",
        "\n",
        "Now we are asking LDA to find 3 topics in the data:"
      ]
    },
    {
      "cell_type": "code",
      "metadata": {
        "id": "VZ2mu3fYdEPs",
        "colab_type": "code",
        "colab": {
          "base_uri": "https://localhost:8080/",
          "height": 68
        },
        "outputId": "628804ff-db80-4b0a-dfd0-71be4d136460"
      },
      "source": [
        "ldamodel = gensim.models.ldamodel.LdaModel(corpus, num_topics = 3, id2word=dictionary, passes=15)\n",
        "ldamodel.save('/home/model3.gensim')\n",
        "\n",
        "topics = ldamodel.print_topics(num_words=4)\n",
        "for topic in topics:\n",
        "    print(topic)"
      ],
      "execution_count": 53,
      "outputs": [
        {
          "output_type": "stream",
          "text": [
            "(0, '0.033*\"services\" + 0.019*\"structure\" + 0.019*\"decision\" + 0.019*\"decimators\"')\n",
            "(1, '0.024*\"base\" + 0.024*\"measurement\" + 0.014*\"using\" + 0.014*\"route\"')\n",
            "(2, '0.019*\"sensor\" + 0.019*\"control\" + 0.019*\"network\" + 0.019*\"design\"')\n"
          ],
          "name": "stdout"
        }
      ]
    },
    {
      "cell_type": "markdown",
      "metadata": {
        "id": "1CqJ07eMs8We",
        "colab_type": "text"
      },
      "source": [
        "#Find the 10 topics"
      ]
    },
    {
      "cell_type": "code",
      "metadata": {
        "id": "Kq-M_QLtdEPv",
        "colab_type": "code",
        "colab": {
          "base_uri": "https://localhost:8080/",
          "height": 187
        },
        "outputId": "4df35cc8-917d-4d9d-f707-e216e7c7284b"
      },
      "source": [
        "ldamodel = gensim.models.ldamodel.LdaModel(corpus, num_topics = 10, id2word=dictionary, passes=15)\n",
        "ldamodel.save('model10.gensim')\n",
        "topics = ldamodel.print_topics(num_words=4)\n",
        "for topic in topics:\n",
        "    print(topic)"
      ],
      "execution_count": 54,
      "outputs": [
        {
          "output_type": "stream",
          "text": [
            "(0, '0.036*\"network\" + 0.036*\"scalable\" + 0.036*\"independent\" + 0.036*\"robust\"')\n",
            "(1, '0.045*\"multi\" + 0.045*\"structure\" + 0.045*\"distribute\" + 0.045*\"database\"')\n",
            "(2, '0.080*\"base\" + 0.042*\"system\" + 0.042*\"measurement\" + 0.042*\"speed\"')\n",
            "(3, '0.069*\"algorithm\" + 0.036*\"design\" + 0.036*\"imdst\" + 0.036*\"hardware\"')\n",
            "(4, '0.040*\"control\" + 0.040*\"prefix\" + 0.040*\"phrasing\" + 0.040*\"deaggregation\"')\n",
            "(5, '0.025*\"optimization\" + 0.025*\"circuit\" + 0.025*\"technique\" + 0.025*\"simulation\"')\n",
            "(6, '0.039*\"design\" + 0.039*\"energy\" + 0.039*\"using\" + 0.039*\"performance\"')\n",
            "(7, '0.008*\"appeal\" + 0.008*\"warmth\" + 0.008*\"heavenly\" + 0.008*\"algorithm\"')\n",
            "(8, '0.056*\"services\" + 0.056*\"controller\" + 0.029*\"factor\" + 0.029*\"optimize\"')\n",
            "(9, '0.039*\"sensor\" + 0.039*\"network\" + 0.039*\"route\" + 0.039*\"polyhedron\"')\n"
          ],
          "name": "stdout"
        }
      ]
    },
    {
      "cell_type": "markdown",
      "metadata": {
        "id": "FSaAmn55JMky",
        "colab_type": "text"
      },
      "source": [
        "# pyLDAvis  \n",
        "\n",
        "`pyLDAvis is designed to help users interpret the topics in a topic model that has been fit to a corpus of text data. The package extracts information from a fitted LDA topic model to inform an interactive web-based visualization.`\n",
        "\n",
        "`Visualizing 5 topics:`"
      ]
    },
    {
      "cell_type": "code",
      "metadata": {
        "id": "c-vJzKledEPy",
        "colab_type": "code",
        "colab": {}
      },
      "source": [
        "# Load all the object and models\n",
        "\n",
        "dictionary = gensim.corpora.Dictionary.load('/home/dictionary.gensim')\n",
        "\n",
        "corpus = pickle.load(open('/home/corpus.pkl', 'rb'))\n",
        "\n",
        "lda = gensim.models.ldamodel.LdaModel.load('/home/model5.gensim')\n"
      ],
      "execution_count": 0,
      "outputs": []
    },
    {
      "cell_type": "code",
      "metadata": {
        "id": "wCaVvj7_J0DU",
        "colab_type": "code",
        "colab": {
          "base_uri": "https://localhost:8080/",
          "height": 547
        },
        "outputId": "3a042b2d-4dfb-46cf-a2c3-58925c191936"
      },
      "source": [
        "!pip install pyLDAvis"
      ],
      "execution_count": 56,
      "outputs": [
        {
          "output_type": "stream",
          "text": [
            "Collecting pyLDAvis\n",
            "\u001b[?25l  Downloading https://files.pythonhosted.org/packages/a5/3a/af82e070a8a96e13217c8f362f9a73e82d61ac8fff3a2561946a97f96266/pyLDAvis-2.1.2.tar.gz (1.6MB)\n",
            "\u001b[K     |████████████████████████████████| 1.6MB 2.4MB/s \n",
            "\u001b[?25hRequirement already satisfied: wheel>=0.23.0 in /usr/local/lib/python3.6/dist-packages (from pyLDAvis) (0.33.1)\n",
            "Requirement already satisfied: numpy>=1.9.2 in /usr/local/lib/python3.6/dist-packages (from pyLDAvis) (1.16.3)\n",
            "Requirement already satisfied: scipy>=0.18.0 in /usr/local/lib/python3.6/dist-packages (from pyLDAvis) (1.2.1)\n",
            "Requirement already satisfied: pandas>=0.17.0 in /usr/local/lib/python3.6/dist-packages (from pyLDAvis) (0.24.2)\n",
            "Requirement already satisfied: joblib>=0.8.4 in /usr/local/lib/python3.6/dist-packages (from pyLDAvis) (0.12.5)\n",
            "Requirement already satisfied: jinja2>=2.7.2 in /usr/local/lib/python3.6/dist-packages (from pyLDAvis) (2.10.1)\n",
            "Requirement already satisfied: numexpr in /usr/local/lib/python3.6/dist-packages (from pyLDAvis) (2.6.9)\n",
            "Requirement already satisfied: pytest in /usr/local/lib/python3.6/dist-packages (from pyLDAvis) (3.6.4)\n",
            "Requirement already satisfied: future in /usr/local/lib/python3.6/dist-packages (from pyLDAvis) (0.16.0)\n",
            "Collecting funcy (from pyLDAvis)\n",
            "  Downloading https://files.pythonhosted.org/packages/b3/23/d1f90f4e2af5f9d4921ab3797e33cf0503e3f130dd390a812f3bf59ce9ea/funcy-1.12-py2.py3-none-any.whl\n",
            "Requirement already satisfied: pytz>=2011k in /usr/local/lib/python3.6/dist-packages (from pandas>=0.17.0->pyLDAvis) (2018.9)\n",
            "Requirement already satisfied: python-dateutil>=2.5.0 in /usr/local/lib/python3.6/dist-packages (from pandas>=0.17.0->pyLDAvis) (2.5.3)\n",
            "Requirement already satisfied: MarkupSafe>=0.23 in /usr/local/lib/python3.6/dist-packages (from jinja2>=2.7.2->pyLDAvis) (1.1.1)\n",
            "Requirement already satisfied: more-itertools>=4.0.0 in /usr/local/lib/python3.6/dist-packages (from pytest->pyLDAvis) (7.0.0)\n",
            "Requirement already satisfied: py>=1.5.0 in /usr/local/lib/python3.6/dist-packages (from pytest->pyLDAvis) (1.8.0)\n",
            "Requirement already satisfied: atomicwrites>=1.0 in /usr/local/lib/python3.6/dist-packages (from pytest->pyLDAvis) (1.3.0)\n",
            "Requirement already satisfied: pluggy<0.8,>=0.5 in /usr/local/lib/python3.6/dist-packages (from pytest->pyLDAvis) (0.7.1)\n",
            "Requirement already satisfied: six>=1.10.0 in /usr/local/lib/python3.6/dist-packages (from pytest->pyLDAvis) (1.12.0)\n",
            "Requirement already satisfied: setuptools in /usr/local/lib/python3.6/dist-packages (from pytest->pyLDAvis) (41.0.1)\n",
            "Requirement already satisfied: attrs>=17.4.0 in /usr/local/lib/python3.6/dist-packages (from pytest->pyLDAvis) (19.1.0)\n",
            "Building wheels for collected packages: pyLDAvis\n",
            "  Building wheel for pyLDAvis (setup.py) ... \u001b[?25l\u001b[?25hdone\n",
            "  Stored in directory: /root/.cache/pip/wheels/98/71/24/513a99e58bb6b8465bae4d2d5e9dba8f0bef8179e3051ac414\n",
            "Successfully built pyLDAvis\n",
            "Installing collected packages: funcy, pyLDAvis\n",
            "Successfully installed funcy-1.12 pyLDAvis-2.1.2\n"
          ],
          "name": "stdout"
        }
      ]
    },
    {
      "cell_type": "code",
      "metadata": {
        "id": "764HxgEIdEP1",
        "colab_type": "code",
        "colab": {
          "base_uri": "https://localhost:8080/",
          "height": 1017
        },
        "outputId": "c0a1cb06-7016-48ce-d410-dc4c8e61fdeb"
      },
      "source": [
        "import pyLDAvis.gensim\n",
        "lda_display = pyLDAvis.gensim.prepare(lda, corpus, dictionary, sort_topics=False)\n",
        "pyLDAvis.display(lda_display)"
      ],
      "execution_count": 59,
      "outputs": [
        {
          "output_type": "stream",
          "text": [
            "/usr/local/lib/python3.6/dist-packages/pyLDAvis/_prepare.py:257: FutureWarning: Sorting because non-concatenation axis is not aligned. A future version\n",
            "of pandas will change to not sort by default.\n",
            "\n",
            "To accept the future behavior, pass 'sort=False'.\n",
            "\n",
            "To retain the current behavior and silence the warning, pass 'sort=True'.\n",
            "\n",
            "  return pd.concat([default_term_info] + list(topic_dfs))\n"
          ],
          "name": "stderr"
        },
        {
          "output_type": "execute_result",
          "data": {
            "text/html": [
              "\n",
              "<link rel=\"stylesheet\" type=\"text/css\" href=\"https://cdn.rawgit.com/bmabey/pyLDAvis/files/ldavis.v1.0.0.css\">\n",
              "\n",
              "\n",
              "<div id=\"ldavis_el1241402570907664321422191003\"></div>\n",
              "<script type=\"text/javascript\">\n",
              "\n",
              "var ldavis_el1241402570907664321422191003_data = {\"mdsDat\": {\"x\": [0.008658179869147704, -0.12300690418647595, -0.03223200711219075, 0.07299034917797438, 0.0735903822515445], \"y\": [-0.06059034044118205, -0.04172659169335285, 0.1149340735354801, -0.041663259522371945, 0.029046118121426722], \"topics\": [1, 2, 3, 4, 5], \"cluster\": [1, 1, 1, 1, 1], \"Freq\": [19.64204978942871, 23.556657791137695, 16.697879791259766, 19.642366409301758, 20.46104621887207]}, \"tinfo\": {\"Category\": [\"Default\", \"Default\", \"Default\", \"Default\", \"Default\", \"Default\", \"Default\", \"Default\", \"Default\", \"Default\", \"Default\", \"Default\", \"Default\", \"Default\", \"Default\", \"Default\", \"Default\", \"Default\", \"Default\", \"Default\", \"Default\", \"Default\", \"Default\", \"Default\", \"Default\", \"Default\", \"Default\", \"Default\", \"Default\", \"Default\", \"Topic1\", \"Topic1\", \"Topic1\", \"Topic1\", \"Topic1\", \"Topic1\", \"Topic1\", \"Topic1\", \"Topic1\", \"Topic1\", \"Topic1\", \"Topic1\", \"Topic1\", \"Topic1\", \"Topic1\", \"Topic1\", \"Topic1\", \"Topic1\", \"Topic1\", \"Topic1\", \"Topic1\", \"Topic1\", \"Topic1\", \"Topic1\", \"Topic1\", \"Topic1\", \"Topic1\", \"Topic1\", \"Topic1\", \"Topic1\", \"Topic1\", \"Topic1\", \"Topic2\", \"Topic2\", \"Topic2\", \"Topic2\", \"Topic2\", \"Topic2\", \"Topic2\", \"Topic2\", \"Topic2\", \"Topic2\", \"Topic2\", \"Topic2\", \"Topic2\", \"Topic2\", \"Topic2\", \"Topic2\", \"Topic2\", \"Topic2\", \"Topic2\", \"Topic2\", \"Topic2\", \"Topic2\", \"Topic2\", \"Topic2\", \"Topic2\", \"Topic2\", \"Topic2\", \"Topic2\", \"Topic2\", \"Topic2\", \"Topic2\", \"Topic2\", \"Topic3\", \"Topic3\", \"Topic3\", \"Topic3\", \"Topic3\", \"Topic3\", \"Topic3\", \"Topic3\", \"Topic3\", \"Topic3\", \"Topic3\", \"Topic3\", \"Topic3\", \"Topic3\", \"Topic3\", \"Topic3\", \"Topic3\", \"Topic3\", \"Topic3\", \"Topic3\", \"Topic3\", \"Topic3\", \"Topic3\", \"Topic3\", \"Topic3\", \"Topic3\", \"Topic3\", \"Topic3\", \"Topic3\", \"Topic3\", \"Topic3\", \"Topic3\", \"Topic3\", \"Topic3\", \"Topic3\", \"Topic3\", \"Topic3\", \"Topic3\", \"Topic3\", \"Topic4\", \"Topic4\", \"Topic4\", \"Topic4\", \"Topic4\", \"Topic4\", \"Topic4\", \"Topic4\", \"Topic4\", \"Topic4\", \"Topic4\", \"Topic4\", \"Topic4\", \"Topic4\", \"Topic4\", \"Topic4\", \"Topic4\", \"Topic4\", \"Topic4\", \"Topic4\", \"Topic4\", \"Topic4\", \"Topic4\", \"Topic4\", \"Topic4\", \"Topic4\", \"Topic4\", \"Topic4\", \"Topic4\", \"Topic4\", \"Topic4\", \"Topic5\", \"Topic5\", \"Topic5\", \"Topic5\", \"Topic5\", \"Topic5\", \"Topic5\", \"Topic5\", \"Topic5\", \"Topic5\", \"Topic5\", \"Topic5\", \"Topic5\", \"Topic5\", \"Topic5\", \"Topic5\", \"Topic5\", \"Topic5\", \"Topic5\", \"Topic5\", \"Topic5\", \"Topic5\", \"Topic5\", \"Topic5\", \"Topic5\", \"Topic5\", \"Topic5\", \"Topic5\", \"Topic5\", \"Topic5\", \"Topic5\"], \"Freq\": [1.0, 1.0, 2.0, 2.0, 1.0, 2.0, 1.0, 1.0, 1.0, 1.0, 1.0, 1.0, 1.0, 1.0, 1.0, 1.0, 1.0, 1.0, 1.0, 1.0, 1.0, 1.0, 1.0, 1.0, 1.0, 1.0, 1.0, 1.0, 1.0, 1.0, 1.1988133192062378, 0.6538965702056885, 0.6538962721824646, 0.6538960933685303, 0.6538956761360168, 0.6538956165313721, 0.6538888216018677, 0.6538887023925781, 0.6538869738578796, 0.6537975072860718, 0.6537607312202454, 0.6537588834762573, 0.65374356508255, 0.653717041015625, 0.6537088751792908, 0.653678834438324, 0.6534332036972046, 0.6533756852149963, 0.653354287147522, 1.1988435983657837, 0.6533466577529907, 0.6538833379745483, 0.6534985303878784, 0.6544609665870667, 0.6534579396247864, 0.6538666486740112, 0.6534607410430908, 0.6529795527458191, 0.10899309068918228, 0.10899291932582855, 0.10900098085403442, 0.10900072753429413, 1.2403361797332764, 0.6765469908714294, 0.6765461564064026, 0.6765457987785339, 0.6765453815460205, 0.6765404343605042, 0.6765400767326355, 0.6765395998954773, 0.6765381693840027, 0.6765352487564087, 0.676535427570343, 0.6765351295471191, 0.6765347123146057, 0.6765338182449341, 0.6765333414077759, 0.6765311360359192, 0.6765310168266296, 0.6765301823616028, 0.6765303015708923, 0.676529586315155, 0.6765293478965759, 0.676527738571167, 0.6765275597572327, 0.6765187382698059, 0.676518440246582, 0.6765176653862, 0.6764956712722778, 0.6764944195747375, 0.6764937043190002, 0.6764919757843018, 1.240761399269104, 0.6766808032989502, 1.0964382886886597, 0.5980533361434937, 0.5980532169342041, 0.5980526804924011, 0.5980526208877563, 0.5980525016784668, 0.5980523824691772, 0.5980523228645325, 0.5980522632598877, 0.5980522036552429, 0.5980520844459534, 0.5980515480041504, 0.5980476140975952, 0.5980468392372131, 0.5980462431907654, 0.5980437397956848, 0.5980431437492371, 0.5980420708656311, 0.5980409979820251, 0.5980364084243774, 0.5980358123779297, 0.598035454750061, 0.5979880690574646, 0.5983179211616516, 0.59815514087677, 0.09968317300081253, 0.09968238323926926, 0.09968214482069016, 0.09968207031488419, 0.09968069195747375, 0.09968279302120209, 0.0996868759393692, 0.09968610107898712, 0.09968602657318115, 0.09969564527273178, 0.09969546645879745, 0.09969405084848404, 0.09969335049390793, 0.09969310462474823, 0.6537606716156006, 0.6537604928016663, 0.6537603139877319, 0.6537601947784424, 0.6537601947784424, 0.653759777545929, 0.6537595391273499, 0.6537591814994812, 0.6537590622901917, 0.6537589430809021, 0.6537589430809021, 0.6537587642669678, 0.6537587642669678, 0.6537587642669678, 0.6537587642669678, 0.653758704662323, 0.6537585854530334, 0.6537585258483887, 0.6537516117095947, 0.6537514925003052, 0.6537507772445679, 0.6537474989891052, 1.199008822441101, 0.6538132429122925, 0.6537888050079346, 0.6537462472915649, 0.6538221836090088, 0.6540470123291016, 0.6537985801696777, 0.10897017270326614, 0.10918261855840683, 0.6577533483505249, 0.6577533483505249, 0.6577531695365906, 0.657753050327301, 0.6577528119087219, 0.6577526330947876, 0.6577526330947876, 0.657752513885498, 0.6577524542808533, 0.65775066614151, 0.6577504873275757, 0.6577503681182861, 0.6577499508857727, 0.6577498912811279, 0.6577487587928772, 0.6577481627464294, 0.6577478051185608, 0.6577473878860474, 0.6577471494674683, 0.6577374935150146, 0.6577362418174744, 0.6577358245849609, 0.6577274799346924, 0.6577275395393372, 0.6577230095863342, 0.6578227281570435, 0.6577723622322083, 0.6577256917953491, 0.6576112508773804, 0.6581683158874512, 0.6577269434928894], \"Term\": [\"services\", \"measurement\", \"system\", \"sensor\", \"factor\", \"control\", \"algorithm\", \"energy\", \"structure\", \"decision\", \"phase\", \"interpolators\", \"decimators\", \"nyquist\", \"filter\", \"making\", \"right\", \"restful\", \"architectural\", \"linear\", \"detection\", \"grover\", \"multiuser\", \"effect\", \"economic\", \"deaggregation\", \"prefix\", \"deformation\", \"articulate\", \"range\", \"measurement\", \"photodiode\", \"lifetime\", \"speed\", \"front\", \"fluorescence\", \"force\", \"static\", \"piezoelectric\", \"technique\", \"dtmos\", \"mtcmos\", \"application\", \"optimization\", \"circuit\", \"voltage\", \"latency\", \"trade\", \"mobility\", \"sensor\", \"energy\", \"power\", \"optimize\", \"base\", \"system\", \"design\", \"network\", \"control\", \"range\", \"articulate\", \"warmth\", \"night\", \"factor\", \"synthesis\", \"correction\", \"sinusoidal\", \"ultra\", \"transceiver\", \"pipeline\", \"clock\", \"802.11\", \"keyframe\", \"denoising\", \"implementation\", \"adaptation\", \"incorporate\", \"analog\", \"adjustment\", \"phrasing\", \"kinetic\", \"damp\", \"function\", \"pagerank\", \"interpolation\", \"parametric\", \"business\", \"process\", \"cockpit\", \"appeal\", \"night\", \"heavenly\", \"warmth\", \"control\", \"multi\", \"services\", \"decision\", \"phase\", \"interpolators\", \"decimators\", \"nyquist\", \"filter\", \"right\", \"making\", \"restful\", \"architectural\", \"linear\", \"detection\", \"grover\", \"multiuser\", \"effect\", \"economic\", \"deaggregation\", \"prefix\", \"deformation\", \"articulate\", \"range\", \"algorithm\", \"structure\", \"base\", \"database\", \"multimedia\", \"distribute\", \"smooth\", \"virtual\", \"piezoelectric\", \"directional\", \"orthogonal\", \"graph\", \"parametric\", \"interpolation\", \"kinetic\", \"adjustment\", \"heavenly\", \"feedthrough\", \"logic\", \"adder\", \"64-bit\", \"performance\", \"experimental\", \"dynamic\", \"robust\", \"namespace\", \"independent\", \"adaptive\", \"validation\", \"piecewise\", \"affine\", \"scalable\", \"novel\", \"virtual\", \"future\", \"distribute\", \"smooth\", \"multimedia\", \"database\", \"system\", \"energy\", \"route\", \"using\", \"controller\", \"design\", \"network\", \"deformation\", \"voltage\", \"boltzmann\", \"geometry\", \"simulation\", \"fluid\", \"numerical\", \"complex\", \"enable\", \"lattice\", \"method\", \"wireless\", \"representation\", \"polyhedron\", \"balancing\", \"spherical\", \"filterbank\", \"recursive\", \"hardware\", \"efficient\", \"imdst\", \"discovery\", \"column\", \"foreign\", \"orthogonal\", \"graph\", \"directional\", \"algorithm\", \"using\", \"route\", \"multi\", \"network\", \"sensor\"], \"Total\": [1.0, 1.0, 2.0, 2.0, 1.0, 2.0, 1.0, 1.0, 1.0, 1.0, 1.0, 1.0, 1.0, 1.0, 1.0, 1.0, 1.0, 1.0, 1.0, 1.0, 1.0, 1.0, 1.0, 1.0, 1.0, 1.0, 1.0, 1.0, 1.0, 1.0, 1.6298578977584839, 1.0849345922470093, 1.0849345922470093, 1.0849345922470093, 1.0849344730377197, 1.0849344730377197, 1.0849344730377197, 1.0849343538284302, 1.0849344730377197, 1.0849344730377197, 1.0849344730377197, 1.0849345922470093, 1.0849344730377197, 1.0849344730377197, 1.0849344730377197, 1.0849344730377197, 1.084937334060669, 1.084937572479248, 1.0849376916885376, 2.1779935359954834, 1.629746675491333, 1.648729681968689, 1.6487340927124023, 2.1470892429351807, 2.1745526790618896, 2.177877902984619, 2.177881956100464, 2.2125492095947266, 1.0384013652801514, 1.0384012460708618, 1.1038072109222412, 1.1038073301315308, 1.6676090955734253, 1.1038100719451904, 1.1038100719451904, 1.1038099527359009, 1.1038099527359009, 1.1038097143173218, 1.1038097143173218, 1.1038097143173218, 1.1038095951080322, 1.103808879852295, 1.1038094758987427, 1.1038093566894531, 1.1038093566894531, 1.1038086414337158, 1.1038093566894531, 1.1038082838058472, 1.1038084030151367, 1.1038082838058472, 1.1038092374801636, 1.103809118270874, 1.1038092374801636, 1.1038079261779785, 1.103808045387268, 1.1038086414337158, 1.1038085222244263, 1.1038084030151367, 1.1038073301315308, 1.1038073301315308, 1.1038073301315308, 1.1038072109222412, 2.2125492095947266, 1.6519489288330078, 1.536786675453186, 1.0383994579315186, 1.0383994579315186, 1.0383994579315186, 1.0383994579315186, 1.038399577140808, 1.0383994579315186, 1.038399577140808, 1.038399577140808, 1.038399577140808, 1.038399577140808, 1.0383996963500977, 1.0384000539779663, 1.0384001731872559, 1.0384001731872559, 1.038400411605835, 1.038400411605835, 1.038400650024414, 1.0384008884429932, 1.0384012460708618, 1.0384012460708618, 1.0384013652801514, 1.586542010307312, 1.6021637916564941, 2.1470892429351807, 1.08482027053833, 1.0848203897476196, 1.08482027053833, 1.08482027053833, 1.0848203897476196, 1.0849344730377197, 1.0881462097167969, 1.0881462097167969, 1.0881463289260864, 1.103808045387268, 1.1038079261779785, 1.1038082838058472, 1.1038082838058472, 1.1038073301315308, 1.0848205089569092, 1.0848203897476196, 1.08482027053833, 1.0848205089569092, 1.0848205089569092, 1.0848203897476196, 1.0848203897476196, 1.0848203897476196, 1.08482027053833, 1.0848203897476196, 1.0848203897476196, 1.08482027053833, 1.0848203897476196, 1.0848203897476196, 1.0848203897476196, 1.0848203897476196, 1.0848203897476196, 1.0848203897476196, 1.08482027053833, 1.08482027053833, 1.0848203897476196, 1.08482027053833, 2.1745526790618896, 1.629746675491333, 1.63295578956604, 1.6329562664031982, 1.648617148399353, 2.177877902984619, 2.177881956100464, 1.0384012460708618, 1.0849344730377197, 1.0881469249725342, 1.0881469249725342, 1.0881469249725342, 1.0881469249725342, 1.0881468057632446, 1.0881468057632446, 1.0881469249725342, 1.0881468057632446, 1.0881469249725342, 1.0881468057632446, 1.0881468057632446, 1.0881468057632446, 1.0881468057632446, 1.0881468057632446, 1.0881469249725342, 1.0881469249725342, 1.0881468057632446, 1.0881468057632446, 1.088146686553955, 1.088146448135376, 1.088146448135376, 1.088146448135376, 1.0881462097167969, 1.0881463289260864, 1.0881462097167969, 1.586542010307312, 1.6329562664031982, 1.63295578956604, 1.6519489288330078, 2.177881956100464, 2.1779935359954834], \"loglift\": [30.0, 29.0, 28.0, 27.0, 26.0, 25.0, 24.0, 23.0, 22.0, 21.0, 20.0, 19.0, 18.0, 17.0, 16.0, 15.0, 14.0, 13.0, 12.0, 11.0, 10.0, 9.0, 8.0, 7.0, 6.0, 5.0, 4.0, 3.0, 2.0, 1.0, 1.3202999830245972, 1.1211999654769897, 1.1211999654769897, 1.1211999654769897, 1.1211999654769897, 1.1211999654769897, 1.1211999654769897, 1.1211999654769897, 1.1211999654769897, 1.121000051498413, 1.121000051498413, 1.121000051498413, 1.12090003490448, 1.12090003490448, 1.12090003490448, 1.1208000183105469, 1.1204999685287476, 1.1203999519348145, 1.120300054550171, 1.030500054359436, 0.7134000062942505, 0.7027000188827515, 0.7020999789237976, 0.43939998745918274, 0.4251999855041504, 0.4242999851703644, 0.4237000048160553, 0.40709999203681946, -0.6266999840736389, -0.6266999840736389, -0.6876999735832214, -0.6876999735832214, 1.1497999429702759, 0.9562000036239624, 0.9562000036239624, 0.9562000036239624, 0.9562000036239624, 0.9562000036239624, 0.9562000036239624, 0.9562000036239624, 0.9562000036239624, 0.9562000036239624, 0.9562000036239624, 0.9562000036239624, 0.9562000036239624, 0.9562000036239624, 0.9562000036239624, 0.9562000036239624, 0.9562000036239624, 0.9562000036239624, 0.9562000036239624, 0.9562000036239624, 0.9562000036239624, 0.9562000036239624, 0.9562000036239624, 0.9562000036239624, 0.9562000036239624, 0.9562000036239624, 0.9562000036239624, 0.9562000036239624, 0.9562000036239624, 0.9562000036239624, 0.8672999739646912, 0.5533000230789185, 1.452299952507019, 1.2381000518798828, 1.2381000518798828, 1.2381000518798828, 1.2381000518798828, 1.2381000518798828, 1.2381000518798828, 1.2381000518798828, 1.2381000518798828, 1.2381000518798828, 1.2381000518798828, 1.2381000518798828, 1.2381000518798828, 1.2381000518798828, 1.2381000518798828, 1.2381000518798828, 1.2381000518798828, 1.2381000518798828, 1.2381000518798828, 1.2381000518798828, 1.2381000518798828, 1.2381000518798828, 0.8141000270843506, 0.8048999905586243, 0.511900007724762, -0.5972999930381775, -0.5972999930381775, -0.5972999930381775, -0.5972999930381775, -0.5972999930381775, -0.5974000096321106, -0.6003000140190125, -0.6003000140190125, -0.6003000140190125, -0.6144999861717224, -0.6144999861717224, -0.6144999861717224, -0.6144999861717224, -0.6144999861717224, 1.1210999488830566, 1.1210999488830566, 1.1210999488830566, 1.1210999488830566, 1.1210999488830566, 1.1210999488830566, 1.1210999488830566, 1.1210999488830566, 1.1210999488830566, 1.1210999488830566, 1.1210999488830566, 1.1210999488830566, 1.1210999488830566, 1.1210999488830566, 1.1210999488830566, 1.121000051498413, 1.121000051498413, 1.121000051498413, 1.121000051498413, 1.121000051498413, 1.121000051498413, 1.121000051498413, 1.0321999788284302, 0.7141000032424927, 0.7121000289916992, 0.7121000289916992, 0.7026000022888184, 0.4246000051498413, 0.42419999837875366, -0.6269000172615051, -0.6687999963760376, 1.0831999778747559, 1.0831999778747559, 1.0831999778747559, 1.0831999778747559, 1.0831999778747559, 1.0831999778747559, 1.0831999778747559, 1.0831999778747559, 1.0831999778747559, 1.0831999778747559, 1.0831999778747559, 1.0831999778747559, 1.0831999778747559, 1.0831999778747559, 1.0831999778747559, 1.0831999778747559, 1.0831999778747559, 1.0831999778747559, 1.0831999778747559, 1.0831999778747559, 1.0831999778747559, 1.0831999778747559, 1.0831999778747559, 1.0831999778747559, 1.0831999778747559, 0.7063000202178955, 0.6773999929428101, 0.677299976348877, 0.6656000018119812, 0.38999998569488525, 0.38929998874664307], \"logprob\": [30.0, 29.0, 28.0, 27.0, 26.0, 25.0, 24.0, 23.0, 22.0, 21.0, 20.0, 19.0, 18.0, 17.0, 16.0, 15.0, 14.0, 13.0, 12.0, 11.0, 10.0, 9.0, 8.0, 7.0, 6.0, 5.0, 4.0, 3.0, 2.0, 1.0, -3.2474000453948975, -3.853600025177002, -3.853600025177002, -3.853600025177002, -3.853600025177002, -3.853600025177002, -3.853600025177002, -3.853600025177002, -3.853600025177002, -3.8536999225616455, -3.853800058364868, -3.853800058364868, -3.853800058364868, -3.853800058364868, -3.853800058364868, -3.8538999557495117, -3.854300022125244, -3.8543999195098877, -3.8543999195098877, -3.2474000453948975, -3.8543999195098877, -3.853600025177002, -3.8541998863220215, -3.8526999950408936, -3.8541998863220215, -3.853600025177002, -3.8541998863220215, -3.8550000190734863, -5.645199775695801, -5.645199775695801, -5.645100116729736, -5.645100116729736, -3.3951001167297363, -4.001200199127197, -4.001200199127197, -4.001200199127197, -4.001200199127197, -4.001200199127197, -4.001200199127197, -4.001200199127197, -4.001299858093262, -4.001299858093262, -4.001299858093262, -4.001299858093262, -4.001299858093262, -4.001299858093262, -4.001299858093262, -4.001299858093262, -4.001299858093262, -4.001299858093262, -4.001299858093262, -4.001299858093262, -4.001299858093262, -4.001299858093262, -4.001299858093262, -4.001299858093262, -4.001299858093262, -4.001299858093262, -4.001299858093262, -4.001299858093262, -4.001299858093262, -4.001299858093262, -3.3947999477386475, -4.000999927520752, -3.174299955368042, -3.780400037765503, -3.780400037765503, -3.780400037765503, -3.780400037765503, -3.780400037765503, -3.780400037765503, -3.780400037765503, -3.780400037765503, -3.780400037765503, -3.780400037765503, -3.780400037765503, -3.780400037765503, -3.780400037765503, -3.780400037765503, -3.780400037765503, -3.780400037765503, -3.7804999351501465, -3.7804999351501465, -3.7804999351501465, -3.7804999351501465, -3.7804999351501465, -3.7804999351501465, -3.7799999713897705, -3.7802999019622803, -5.5721001625061035, -5.5721001625061035, -5.5721001625061035, -5.5721001625061035, -5.5721001625061035, -5.5721001625061035, -5.5721001625061035, -5.5721001625061035, -5.5721001625061035, -5.572000026702881, -5.572000026702881, -5.572000026702881, -5.572000026702881, -5.572000026702881, -3.853800058364868, -3.853800058364868, -3.853800058364868, -3.853800058364868, -3.853800058364868, -3.853800058364868, -3.853800058364868, -3.853800058364868, -3.853800058364868, -3.853800058364868, -3.853800058364868, -3.853800058364868, -3.853800058364868, -3.853800058364868, -3.853800058364868, -3.853800058364868, -3.853800058364868, -3.853800058364868, -3.853800058364868, -3.853800058364868, -3.853800058364868, -3.853800058364868, -3.247299909591675, -3.8536999225616455, -3.8536999225616455, -3.853800058364868, -3.8536999225616455, -3.853300094604492, -3.8536999225616455, -5.645400047302246, -5.643499851226807, -3.8884999752044678, -3.8884999752044678, -3.8884999752044678, -3.8884999752044678, -3.8884999752044678, -3.8884999752044678, -3.8884999752044678, -3.8884999752044678, -3.8884999752044678, -3.8884999752044678, -3.8884999752044678, -3.8884999752044678, -3.8884999752044678, -3.8884999752044678, -3.8884999752044678, -3.8884999752044678, -3.8884999752044678, -3.8884999752044678, -3.8884999752044678, -3.8884999752044678, -3.8886001110076904, -3.8886001110076904, -3.8886001110076904, -3.8886001110076904, -3.8886001110076904, -3.888400077819824, -3.8884999752044678, -3.8886001110076904, -3.888700008392334, -3.8879001140594482, -3.8886001110076904]}, \"token.table\": {\"Topic\": [4, 2, 2, 4, 4, 2, 4, 3, 5, 2, 2, 1, 3, 3, 5, 1, 2, 3, 5, 2, 1, 2, 2, 5, 5, 1, 2, 2, 4, 2, 2, 4, 3, 3, 3, 3, 2, 1, 4, 5, 3, 5, 5, 4, 1, 4, 3, 3, 5, 5, 1, 4, 4, 2, 4, 3, 5, 5, 1, 1, 5, 1, 2, 4, 5, 5, 3, 5, 2, 5, 2, 2, 4, 2, 3, 2, 2, 1, 5, 1, 3, 4, 3, 1, 5, 1, 1, 2, 5, 4, 3, 4, 1, 4, 5, 2, 4, 5, 3, 1, 1, 2, 5, 2, 2, 4, 3, 1, 2, 4, 1, 2, 5, 1, 2, 3, 2, 3, 5, 5, 3, 3, 4, 4, 5, 4, 1, 5, 3, 5, 2, 4, 1, 5, 1, 2, 3, 2, 1, 4, 1, 1, 2, 2, 4, 5, 4, 4, 1, 2, 5], \"Freq\": [0.9218114614486694, 0.9059533476829529, 0.9059535264968872, 0.921811580657959, 0.9218116998672485, 0.9059544205665588, 0.921811580657959, 0.6303015947341919, 0.6303015947341919, 0.9059535264968872, 0.9059551954269409, 0.9217146635055542, 0.9630204439163208, 0.9630188941955566, 0.9189936518669128, 0.46574681997299194, 0.46574681997299194, 0.46574681997299194, 0.9189935326576233, 0.905954122543335, 0.9217146635055542, 0.9059532284736633, 0.9059543013572693, 0.9189939498901367, 0.9189936518669128, 0.45196735858917236, 0.45196735858917236, 0.6065689921379089, 0.6065689921379089, 0.9059529304504395, 0.9059536457061768, 0.9218116998672485, 0.9630194306373596, 0.9630205631256104, 0.9630205631256104, 0.9630188941955566, 0.9059534668922424, 0.45916256308555603, 0.45916256308555603, 0.45916256308555603, 0.9630199670791626, 0.918994128704071, 0.9189939498901367, 0.9218116998672485, 0.9217146635055542, 0.921811580657959, 0.9630196690559387, 0.9630196690559387, 0.9189936518669128, 0.9189935326576233, 0.613592267036438, 0.613592267036438, 0.921811580657959, 0.5996609330177307, 0.9218114614486694, 0.9630205631256104, 0.9189935326576233, 0.9189935326576233, 0.9217146635055542, 0.9217146635055542, 0.9189939498901367, 0.9217146635055542, 0.9059537649154663, 0.921811580657959, 0.9189935326576233, 0.9189940690994263, 0.963019847869873, 0.9189936518669128, 0.9059551954269409, 0.9189937710762024, 0.9059535264968872, 0.905954122543335, 0.921811580657959, 0.9059547185897827, 0.9630205631256104, 0.9059539437294006, 0.9059544205665588, 0.9217122197151184, 0.9189936518669128, 0.9217145442962646, 0.9630203247070312, 0.921811580657959, 0.9630204439163208, 0.6135504245758057, 0.9189935326576233, 0.9217119216918945, 0.9217145442962646, 0.605345606803894, 0.605345606803894, 0.921811580657959, 0.963019847869873, 0.9218116998672485, 0.4591616988182068, 0.4591616988182068, 0.4591616988182068, 0.9059551954269409, 0.921811580657959, 0.9189936518669128, 0.9630204439163208, 0.9217146635055542, 0.6065259575843811, 0.6065259575843811, 0.918994128704071, 0.9059536457061768, 0.9059545993804932, 0.9218114614486694, 0.9630205631256104, 0.9217145442962646, 0.9059543013572693, 0.921811580657959, 0.9217146635055542, 0.9059532284736633, 0.9189936518669128, 0.60652756690979, 0.60652756690979, 0.9630191922187805, 0.9059542417526245, 0.9630187749862671, 0.9189935326576233, 0.9189936518669128, 0.9630204439163208, 0.9630204439163208, 0.921811580657959, 0.6123864650726318, 0.6123864650726318, 0.921811580657959, 0.4591381847858429, 0.4591381847858429, 0.6507083773612976, 0.9189935326576233, 0.905953049659729, 0.9218116998672485, 0.9217145442962646, 0.9189936518669128, 0.9217147827148438, 0.6241559386253357, 0.6241559386253357, 0.9059529304504395, 0.45986470580101013, 0.45986470580101013, 0.9217146635055542, 0.9217120409011841, 0.9059532284736633, 0.905953049659729, 0.6123862862586975, 0.6123862862586975, 0.9218116998672485, 0.921811580657959, 0.9217146635055542, 0.9059553146362305, 0.9189936518669128], \"Term\": [\"64-bit\", \"802.11\", \"adaptation\", \"adaptive\", \"adder\", \"adjustment\", \"affine\", \"algorithm\", \"algorithm\", \"analog\", \"appeal\", \"application\", \"architectural\", \"articulate\", \"balancing\", \"base\", \"base\", \"base\", \"boltzmann\", \"business\", \"circuit\", \"clock\", \"cockpit\", \"column\", \"complex\", \"control\", \"control\", \"controller\", \"controller\", \"correction\", \"damp\", \"database\", \"deaggregation\", \"decimators\", \"decision\", \"deformation\", \"denoising\", \"design\", \"design\", \"design\", \"detection\", \"directional\", \"discovery\", \"distribute\", \"dtmos\", \"dynamic\", \"economic\", \"effect\", \"efficient\", \"enable\", \"energy\", \"energy\", \"experimental\", \"factor\", \"feedthrough\", \"filter\", \"filterbank\", \"fluid\", \"fluorescence\", \"force\", \"foreign\", \"front\", \"function\", \"future\", \"geometry\", \"graph\", \"grover\", \"hardware\", \"heavenly\", \"imdst\", \"implementation\", \"incorporate\", \"independent\", \"interpolation\", \"interpolators\", \"keyframe\", \"kinetic\", \"latency\", \"lattice\", \"lifetime\", \"linear\", \"logic\", \"making\", \"measurement\", \"method\", \"mobility\", \"mtcmos\", \"multi\", \"multi\", \"multimedia\", \"multiuser\", \"namespace\", \"network\", \"network\", \"network\", \"night\", \"novel\", \"numerical\", \"nyquist\", \"optimization\", \"optimize\", \"optimize\", \"orthogonal\", \"pagerank\", \"parametric\", \"performance\", \"phase\", \"photodiode\", \"phrasing\", \"piecewise\", \"piezoelectric\", \"pipeline\", \"polyhedron\", \"power\", \"power\", \"prefix\", \"process\", \"range\", \"recursive\", \"representation\", \"restful\", \"right\", \"robust\", \"route\", \"route\", \"scalable\", \"sensor\", \"sensor\", \"services\", \"simulation\", \"sinusoidal\", \"smooth\", \"speed\", \"spherical\", \"static\", \"structure\", \"structure\", \"synthesis\", \"system\", \"system\", \"technique\", \"trade\", \"transceiver\", \"ultra\", \"using\", \"using\", \"validation\", \"virtual\", \"voltage\", \"warmth\", \"wireless\"]}, \"R\": 30, \"lambda.step\": 0.01, \"plot.opts\": {\"xlab\": \"PC1\", \"ylab\": \"PC2\"}, \"topic.order\": [1, 2, 3, 4, 5]};\n",
              "\n",
              "function LDAvis_load_lib(url, callback){\n",
              "  var s = document.createElement('script');\n",
              "  s.src = url;\n",
              "  s.async = true;\n",
              "  s.onreadystatechange = s.onload = callback;\n",
              "  s.onerror = function(){console.warn(\"failed to load library \" + url);};\n",
              "  document.getElementsByTagName(\"head\")[0].appendChild(s);\n",
              "}\n",
              "\n",
              "if(typeof(LDAvis) !== \"undefined\"){\n",
              "   // already loaded: just create the visualization\n",
              "   !function(LDAvis){\n",
              "       new LDAvis(\"#\" + \"ldavis_el1241402570907664321422191003\", ldavis_el1241402570907664321422191003_data);\n",
              "   }(LDAvis);\n",
              "}else if(typeof define === \"function\" && define.amd){\n",
              "   // require.js is available: use it to load d3/LDAvis\n",
              "   require.config({paths: {d3: \"https://cdnjs.cloudflare.com/ajax/libs/d3/3.5.5/d3.min\"}});\n",
              "   require([\"d3\"], function(d3){\n",
              "      window.d3 = d3;\n",
              "      LDAvis_load_lib(\"https://cdn.rawgit.com/bmabey/pyLDAvis/files/ldavis.v1.0.0.js\", function(){\n",
              "        new LDAvis(\"#\" + \"ldavis_el1241402570907664321422191003\", ldavis_el1241402570907664321422191003_data);\n",
              "      });\n",
              "    });\n",
              "}else{\n",
              "    // require.js not available: dynamically load d3 & LDAvis\n",
              "    LDAvis_load_lib(\"https://cdnjs.cloudflare.com/ajax/libs/d3/3.5.5/d3.min.js\", function(){\n",
              "         LDAvis_load_lib(\"https://cdn.rawgit.com/bmabey/pyLDAvis/files/ldavis.v1.0.0.js\", function(){\n",
              "                 new LDAvis(\"#\" + \"ldavis_el1241402570907664321422191003\", ldavis_el1241402570907664321422191003_data);\n",
              "            })\n",
              "         });\n",
              "}\n",
              "</script>"
            ],
            "text/plain": [
              "<IPython.core.display.HTML object>"
            ]
          },
          "metadata": {
            "tags": []
          },
          "execution_count": 59
        }
      ]
    },
    {
      "cell_type": "markdown",
      "metadata": {
        "id": "UWz6wTpvLBBk",
        "colab_type": "text"
      },
      "source": [
        "Saliency: a measure of how much the term tells you about the topic.\n",
        "\n",
        "Relevance: a weighted average of the probability of the word given the topic and the word given the topic normalized by the probability of the topic.\n",
        "\n",
        "The size of the bubble measures the importance of the topics, relative to the data.\n",
        "\n",
        "First, we got the most salient terms, means terms mostly tell us about what’s going on relative to the topics. We can also look at individual topic.\n",
        "\n",
        "Visualizing 3 topics:"
      ]
    },
    {
      "cell_type": "code",
      "metadata": {
        "id": "lKOpbz43dEP5",
        "colab_type": "code",
        "colab": {
          "base_uri": "https://localhost:8080/",
          "height": 1017
        },
        "outputId": "24a9900c-b835-4e7f-9585-a24fb99dc7f3"
      },
      "source": [
        "lda3 = gensim.models.ldamodel.LdaModel.load('/home/model3.gensim')\n",
        "lda_display3 = pyLDAvis.gensim.prepare(lda3, corpus, dictionary, sort_topics=False)\n",
        "pyLDAvis.display(lda_display3)"
      ],
      "execution_count": 61,
      "outputs": [
        {
          "output_type": "stream",
          "text": [
            "/usr/local/lib/python3.6/dist-packages/pyLDAvis/_prepare.py:257: FutureWarning: Sorting because non-concatenation axis is not aligned. A future version\n",
            "of pandas will change to not sort by default.\n",
            "\n",
            "To accept the future behavior, pass 'sort=False'.\n",
            "\n",
            "To retain the current behavior and silence the warning, pass 'sort=True'.\n",
            "\n",
            "  return pd.concat([default_term_info] + list(topic_dfs))\n"
          ],
          "name": "stderr"
        },
        {
          "output_type": "execute_result",
          "data": {
            "text/html": [
              "\n",
              "<link rel=\"stylesheet\" type=\"text/css\" href=\"https://cdn.rawgit.com/bmabey/pyLDAvis/files/ldavis.v1.0.0.css\">\n",
              "\n",
              "\n",
              "<div id=\"ldavis_el1241402554540338646572037725\"></div>\n",
              "<script type=\"text/javascript\">\n",
              "\n",
              "var ldavis_el1241402554540338646572037725_data = {\"mdsDat\": {\"x\": [-0.025737065389954294, -0.06583653774087757, 0.09157360313083183], \"y\": [-0.07525919371393151, 0.056087277973482834, 0.019171915740448693], \"topics\": [1, 2, 3], \"cluster\": [1, 1, 1], \"Freq\": [18.235841751098633, 34.46327590942383, 47.300880432128906]}, \"tinfo\": {\"Category\": [\"Default\", \"Default\", \"Default\", \"Default\", \"Default\", \"Default\", \"Default\", \"Default\", \"Default\", \"Default\", \"Default\", \"Default\", \"Default\", \"Default\", \"Default\", \"Default\", \"Default\", \"Default\", \"Default\", \"Default\", \"Default\", \"Default\", \"Default\", \"Default\", \"Default\", \"Default\", \"Default\", \"Default\", \"Default\", \"Default\", \"Topic1\", \"Topic1\", \"Topic1\", \"Topic1\", \"Topic1\", \"Topic1\", \"Topic1\", \"Topic1\", \"Topic1\", \"Topic1\", \"Topic1\", \"Topic1\", \"Topic1\", \"Topic1\", \"Topic1\", \"Topic1\", \"Topic1\", \"Topic1\", \"Topic1\", \"Topic1\", \"Topic1\", \"Topic1\", \"Topic1\", \"Topic1\", \"Topic1\", \"Topic1\", \"Topic1\", \"Topic1\", \"Topic1\", \"Topic1\", \"Topic1\", \"Topic1\", \"Topic1\", \"Topic1\", \"Topic1\", \"Topic2\", \"Topic2\", \"Topic2\", \"Topic2\", \"Topic2\", \"Topic2\", \"Topic2\", \"Topic2\", \"Topic2\", \"Topic2\", \"Topic2\", \"Topic2\", \"Topic2\", \"Topic2\", \"Topic2\", \"Topic2\", \"Topic2\", \"Topic2\", \"Topic2\", \"Topic2\", \"Topic2\", \"Topic2\", \"Topic2\", \"Topic2\", \"Topic2\", \"Topic2\", \"Topic2\", \"Topic2\", \"Topic2\", \"Topic2\", \"Topic2\", \"Topic2\", \"Topic2\", \"Topic2\", \"Topic2\", \"Topic2\", \"Topic2\", \"Topic3\", \"Topic3\", \"Topic3\", \"Topic3\", \"Topic3\", \"Topic3\", \"Topic3\", \"Topic3\", \"Topic3\", \"Topic3\", \"Topic3\", \"Topic3\", \"Topic3\", \"Topic3\", \"Topic3\", \"Topic3\", \"Topic3\", \"Topic3\", \"Topic3\", \"Topic3\", \"Topic3\", \"Topic3\", \"Topic3\", \"Topic3\", \"Topic3\", \"Topic3\", \"Topic3\", \"Topic3\", \"Topic3\", \"Topic3\", \"Topic3\", \"Topic3\", \"Topic3\", \"Topic3\", \"Topic3\"], \"Freq\": [1.0, 2.0, 0.0, 0.0, 0.0, 0.0, 0.0, 0.0, 0.0, 0.0, 0.0, 0.0, 0.0, 0.0, 0.0, 0.0, 0.0, 0.0, 0.0, 0.0, 0.0, 0.0, 0.0, 0.0, 1.0, 1.0, 1.0, 1.0, 1.0, 1.0, 0.9488265514373779, 0.5421198010444641, 0.5421174764633179, 0.5421175956726074, 0.5421162843704224, 0.5421157479286194, 0.5421150326728821, 0.5421133041381836, 0.5421130657196045, 0.542111337184906, 0.5421104431152344, 0.5421040654182434, 0.54201740026474, 0.5420107245445251, 0.5420079231262207, 0.54200279712677, 0.5418557524681091, 0.5418499112129211, 0.5418316721916199, 0.5416151881217957, 0.5416112542152405, 0.5416115522384644, 0.5416086316108704, 0.547138512134552, 0.5397183299064636, 0.13587211072444916, 0.13587015867233276, 0.13586542010307312, 0.13585494458675385, 0.1358548104763031, 0.1361815631389618, 0.1361810863018036, 0.13617512583732605, 0.13617372512817383, 0.1361716240644455, 1.2964469194412231, 0.7408243417739868, 0.7408237457275391, 0.7408216595649719, 0.7408214211463928, 0.7408207654953003, 0.7408204674720764, 0.7408192753791809, 0.7408151626586914, 0.7408121824264526, 0.740777850151062, 0.7407777309417725, 0.7407768964767456, 0.7407774329185486, 0.740776538848877, 0.7407753467559814, 0.7407734990119934, 0.7407392859458923, 0.7407364845275879, 0.7407337427139282, 0.7407339215278625, 0.7407326698303223, 0.7407333850860596, 0.7407307624816895, 0.7407318353652954, 0.7407317757606506, 0.7407299280166626, 0.740728497505188, 0.7407261729240417, 0.7407246828079224, 0.7407273054122925, 1.300125002861023, 0.7407269477844238, 0.7427875399589539, 0.7426296472549438, 0.742283821105957, 0.7420123219490051, 1.4167277812957764, 1.416723370552063, 1.416701316833496, 1.4164140224456787, 1.4163062572479248, 0.8093549609184265, 0.8093544840812683, 0.8093535900115967, 0.8093516230583191, 0.8093500733375549, 0.8093461394309998, 0.809343695640564, 0.8093428015708923, 0.8093339204788208, 0.8093301653862, 0.8093118071556091, 0.8093077540397644, 0.8093059659004211, 0.8093055486679077, 0.8093026280403137, 0.80930095911026, 0.8092944622039795, 0.8092867732048035, 0.8092796802520752, 0.8092804551124573, 0.8092730045318604, 0.8092694282531738, 0.8092675805091858, 0.8092638254165649, 0.8090570569038391, 1.4235315322875977, 1.4190788269042969, 1.4190490245819092, 1.4176688194274902, 1.4175609350204468], \"Term\": [\"services\", \"base\", \"decision\", \"decimators\", \"restful\", \"filter\", \"interpolators\", \"right\", \"architectural\", \"making\", \"phase\", \"linear\", \"nyquist\", \"implementation\", \"denoising\", \"analog\", \"adaptation\", \"range\", \"deformation\", \"articulate\", \"appeal\", \"warmth\", \"heavenly\", \"night\", \"measurement\", \"structure\", \"lattice\", \"method\", \"numerical\", \"complex\", \"services\", \"decision\", \"restful\", \"decimators\", \"filter\", \"interpolators\", \"right\", \"architectural\", \"making\", \"phase\", \"linear\", \"nyquist\", \"implementation\", \"denoising\", \"analog\", \"adaptation\", \"range\", \"deformation\", \"articulate\", \"appeal\", \"heavenly\", \"warmth\", \"night\", \"structure\", \"base\", \"multiuser\", \"grover\", \"detection\", \"piezoelectric\", \"force\", \"orthogonal\", \"business\", \"cockpit\", \"process\", \"directional\", \"measurement\", \"lattice\", \"method\", \"numerical\", \"complex\", \"fluid\", \"geometry\", \"simulation\", \"enable\", \"boltzmann\", \"optimization\", \"mtcmos\", \"application\", \"circuit\", \"voltage\", \"dtmos\", \"technique\", \"adjustment\", \"parametric\", \"incorporate\", \"phrasing\", \"lifetime\", \"independent\", \"speed\", \"keyframe\", \"kinetic\", \"interpolation\", \"virtual\", \"front\", \"photodiode\", \"future\", \"base\", \"namespace\", \"using\", \"route\", \"power\", \"algorithm\", \"controller\", \"energy\", \"optimize\", \"factor\", \"multi\", \"performance\", \"feedthrough\", \"dynamic\", \"64-bit\", \"adder\", \"sinusoidal\", \"ultra\", \"logic\", \"correction\", \"synthesis\", \"validation\", \"novel\", \"affine\", \"experimental\", \"adaptive\", \"piecewise\", \"trade\", \"mobility\", \"latency\", \"polyhedron\", \"representation\", \"wireless\", \"balancing\", \"spherical\", \"pipeline\", \"sensor\", \"control\", \"network\", \"design\", \"system\"], \"Total\": [1.0, 2.0, 0.0, 0.0, 0.0, 0.0, 0.0, 0.0, 0.0, 0.0, 0.0, 0.0, 0.0, 0.0, 0.0, 0.0, 0.0, 0.0, 0.0, 0.0, 0.0, 0.0, 0.0, 0.0, 1.0, 1.0, 1.0, 1.0, 1.0, 1.0, 1.336858868598938, 0.9301234483718872, 0.9301244616508484, 0.9301247000694275, 0.9301254153251648, 0.9301254749298096, 0.9301254749298096, 0.9301260709762573, 0.9301263093948364, 0.9301272034645081, 0.9301278591156006, 0.9301303029060364, 0.9301655292510986, 0.9301681518554688, 0.9301697015762329, 0.930171549320221, 0.9302345514297485, 0.9302377700805664, 0.9302454590797424, 0.9303386211395264, 0.9303389191627502, 0.9303399920463562, 0.9303396940231323, 1.5350128412246704, 2.042701244354248, 1.07906973361969, 1.0790703296661377, 1.0790717601776123, 1.0790772438049316, 1.0790772438049316, 1.1303569078445435, 1.1303553581237793, 1.1303616762161255, 1.1303616762161255, 1.130361557006836, 1.6349300146102905, 1.0791171789169312, 1.0791170597076416, 1.0791164636611938, 1.079116702079773, 1.0791170597076416, 1.0791175365447998, 1.079116940498352, 1.0791164636611938, 1.0791161060333252, 1.0791137218475342, 1.0791137218475342, 1.0791133642196655, 1.079114317893982, 1.079113245010376, 1.0791128873825073, 1.0791137218475342, 1.0791083574295044, 1.0791078805923462, 1.0791071653366089, 1.0791077613830566, 1.0791059732437134, 1.0791082382202148, 1.079105019569397, 1.0791070461273193, 1.0791072845458984, 1.0791069269180298, 1.0791079998016357, 1.0791049003601074, 1.0791046619415283, 1.079108476638794, 2.042701244354248, 1.079108476638794, 1.6862339973449707, 1.6862213611602783, 1.6862678527832031, 1.6861958503723145, 1.737985610961914, 1.737987756729126, 1.737980604171753, 1.7379124164581299, 1.737885594367981, 1.1305994987487793, 1.1305997371673584, 1.1305994987487793, 1.130598545074463, 1.130599021911621, 1.13059663772583, 1.1305956840515137, 1.1305959224700928, 1.1305932998657227, 1.1305923461914062, 1.130588173866272, 1.1305878162384033, 1.130586862564087, 1.1305866241455078, 1.1305859088897705, 1.1305862665176392, 1.1305867433547974, 1.1305842399597168, 1.1305835247039795, 1.130584955215454, 1.1305835247039795, 1.1305830478668213, 1.1305830478668213, 1.1305820941925049, 1.130522608757019, 2.2942955493927, 2.2939577102661133, 2.293954610824585, 2.2938411235809326, 2.2938008308410645], \"loglift\": [30.0, 29.0, 28.0, 27.0, 26.0, 25.0, 24.0, 23.0, 22.0, 21.0, 20.0, 19.0, 18.0, 17.0, 16.0, 15.0, 14.0, 13.0, 12.0, 11.0, 10.0, 9.0, 8.0, 7.0, 6.0, 5.0, 4.0, 3.0, 2.0, 1.0, 1.3588999509811401, 1.1619999408721924, 1.1619000434875488, 1.1619000434875488, 1.1619000434875488, 1.1619000434875488, 1.1619000434875488, 1.1619000434875488, 1.1619000434875488, 1.1619000434875488, 1.1619000434875488, 1.1619000434875488, 1.1617000102996826, 1.1617000102996826, 1.1617000102996826, 1.1617000102996826, 1.1612999439239502, 1.1612999439239502, 1.1612999439239502, 1.1607999801635742, 1.1607999801635742, 1.1607999801635742, 1.1607999801635742, 0.670199990272522, 0.3707999885082245, -0.37040001153945923, -0.37040001153945923, -0.37040001153945923, -0.37049999833106995, -0.37049999833106995, -0.41449999809265137, -0.41449999809265137, -0.4146000146865845, -0.4146000146865845, -0.4146000146865845, 0.833299994468689, 0.6891000270843506, 0.6891000270843506, 0.6891000270843506, 0.6891000270843506, 0.6891000270843506, 0.6891000270843506, 0.6891000270843506, 0.6891000270843506, 0.6891000270843506, 0.6891000270843506, 0.6891000270843506, 0.6891000270843506, 0.6891000270843506, 0.6891000270843506, 0.6891000270843506, 0.6891000270843506, 0.6890000104904175, 0.6890000104904175, 0.6890000104904175, 0.6890000104904175, 0.6890000104904175, 0.6890000104904175, 0.6890000104904175, 0.6890000104904175, 0.6890000104904175, 0.6890000104904175, 0.6890000104904175, 0.6890000104904175, 0.6890000104904175, 0.6890000104904175, 0.6134999990463257, 0.6890000104904175, 0.24539999663829803, 0.2451999932527542, 0.24469999969005585, 0.2443999946117401, 0.5443000197410583, 0.5443000197410583, 0.5442000031471252, 0.5440999865531921, 0.5440000295639038, 0.41440001130104065, 0.41440001130104065, 0.41440001130104065, 0.41440001130104065, 0.41440001130104065, 0.41440001130104065, 0.41440001130104065, 0.41440001130104065, 0.41440001130104065, 0.41440001130104065, 0.41429999470710754, 0.41429999470710754, 0.41429999470710754, 0.41429999470710754, 0.41429999470710754, 0.41429999470710754, 0.41429999470710754, 0.41429999470710754, 0.41429999470710754, 0.41429999470710754, 0.41429999470710754, 0.41429999470710754, 0.41429999470710754, 0.41429999470710754, 0.4140999913215637, 0.27140000462532043, 0.26840001344680786, 0.26840001344680786, 0.26739999651908875, 0.26739999651908875], \"logprob\": [30.0, 29.0, 28.0, 27.0, 26.0, 25.0, 24.0, 23.0, 22.0, 21.0, 20.0, 19.0, 18.0, 17.0, 16.0, 15.0, 14.0, 13.0, 12.0, 11.0, 10.0, 9.0, 8.0, 7.0, 6.0, 5.0, 4.0, 3.0, 2.0, 1.0, -3.4070000648498535, -3.9667000770568848, -3.9667000770568848, -3.9667000770568848, -3.9667000770568848, -3.9667000770568848, -3.9667000770568848, -3.9667000770568848, -3.9667000770568848, -3.9667000770568848, -3.9667999744415283, -3.9667999744415283, -3.966900110244751, -3.966900110244751, -3.966900110244751, -3.966900110244751, -3.9672000408172607, -3.9672000408172607, -3.9672999382019043, -3.9677000045776367, -3.9677000045776367, -3.9677000045776367, -3.9677000045776367, -3.9574999809265137, -3.9711999893188477, -5.350500106811523, -5.350500106811523, -5.350599765777588, -5.350599765777588, -5.350599765777588, -5.348199844360352, -5.348199844360352, -5.348299980163574, -5.348299980163574, -5.348299980163574, -3.731300115585327, -4.290999889373779, -4.290999889373779, -4.290999889373779, -4.290999889373779, -4.290999889373779, -4.290999889373779, -4.290999889373779, -4.290999889373779, -4.290999889373779, -4.290999889373779, -4.290999889373779, -4.290999889373779, -4.290999889373779, -4.290999889373779, -4.290999889373779, -4.290999889373779, -4.291100025177002, -4.291100025177002, -4.291100025177002, -4.291100025177002, -4.291100025177002, -4.291100025177002, -4.291100025177002, -4.291100025177002, -4.291100025177002, -4.291100025177002, -4.291100025177002, -4.291100025177002, -4.291100025177002, -4.291100025177002, -3.7284998893737793, -4.291100025177002, -4.288300037384033, -4.28849983215332, -4.289000034332275, -4.289400100708008, -3.9593000411987305, -3.9593000411987305, -3.9593000411987305, -3.9595000743865967, -3.9595999717712402, -4.519100189208984, -4.519100189208984, -4.519100189208984, -4.519100189208984, -4.519100189208984, -4.519100189208984, -4.519100189208984, -4.519100189208984, -4.519100189208984, -4.519199848175049, -4.519199848175049, -4.519199848175049, -4.519199848175049, -4.519199848175049, -4.519199848175049, -4.519199848175049, -4.519199848175049, -4.519199848175049, -4.519199848175049, -4.519199848175049, -4.519199848175049, -4.519199848175049, -4.519199848175049, -4.519199848175049, -4.519499778747559, -3.9544999599456787, -3.9576001167297363, -3.9576001167297363, -3.9586000442504883, -3.958699941635132]}, \"token.table\": {\"Topic\": [3, 1, 3, 3, 2, 3, 2, 3, 1, 1, 2, 1, 1, 3, 1, 2, 2, 3, 2, 3, 2, 2, 3, 3, 3, 1, 1, 1, 1, 2, 3, 2, 3, 2, 3, 2, 3, 3, 3, 3, 1, 2, 2, 2, 2, 2, 2, 1, 1, 2, 2, 2, 1, 2, 2, 3, 2, 2, 1, 3, 1, 2, 2, 3, 2, 3, 2, 2, 2, 3, 1, 3, 2, 1, 2, 3, 3, 2, 3, 1, 2, 2, 3, 2, 3, 3, 2, 3, 3, 1, 3, 1, 1, 2, 3, 2, 3, 1, 2, 3, 2, 3, 1, 3, 3, 2, 3, 2, 3, 3, 2, 3, 3, 2, 2, 1, 3], \"Freq\": [0.8844872713088989, 1.0750705003738403, 0.8844971656799316, 0.8844868540763855, 0.9266909956932068, 0.8844963908195496, 0.5930508971214294, 0.5930508971214294, 1.0750726461410522, 1.0748775005340576, 0.926686704158783, 1.0751230716705322, 1.074985146522522, 0.8844993710517883, 0.48954784870147705, 0.48954784870147705, 0.9266843199729919, 0.884677529335022, 0.9266858696937561, 0.8846725821495056, 0.9266838431358337, 0.4359278380870819, 0.4359278380870819, 0.5753787755966187, 0.8844913840293884, 1.0751246213912964, 1.075126051902771, 1.0749939680099487, 1.0750744342803955, 0.43594998121261597, 0.43594998121261597, 0.9267224073410034, 0.8846727013587952, 0.9266871213912964, 0.8844864964485168, 0.9266840219497681, 0.5753780603408813, 0.8844965696334839, 0.5754029750823975, 0.8844863176345825, 1.0751237869262695, 0.9266835451126099, 0.9267176985740662, 0.9266939759254456, 0.9266908764839172, 0.9266831278800964, 0.9267236590385437, 1.074877142906189, 1.0750774145126343, 0.926692008972168, 0.9266911149024963, 0.9266922473907471, 1.0751237869262695, 0.9266921281814575, 0.9266918897628784, 0.8844990134239197, 0.9266834259033203, 0.9266930222511292, 1.0751210451126099, 0.8844892978668213, 1.0751228332519531, 0.6116469502449036, 0.9266835451126099, 0.8844984173774719, 0.9266864061355591, 0.575411856174469, 0.9267241954803467, 0.9266908764839172, 0.4359284043312073, 0.4359284043312073, 1.0748761892318726, 0.8844956159591675, 0.9266840219497681, 1.0751181840896606, 0.9266864061355591, 0.5753803849220276, 0.8846763372421265, 0.9266914129257202, 0.8844864964485168, 1.0751217603683472, 0.9266941547393799, 0.9266915321350098, 0.8844968676567078, 0.9267176985740662, 0.8845466375350952, 0.884497880935669, 0.5930256247520447, 0.5930256247520447, 0.8846725821495056, 1.0749976634979248, 0.8844990134239197, 1.075124979019165, 1.0751237869262695, 0.5930419564247131, 0.5930419564247131, 0.4358636438846588, 0.4358636438846588, 0.7480221390724182, 0.9266836047172546, 0.8844887614250183, 0.926693856716156, 0.8845001459121704, 0.6514603495597839, 0.6514603495597839, 0.8844920992851257, 0.4359576404094696, 0.4359576404094696, 0.9266864061355591, 0.8844965100288391, 0.8844894766807556, 0.593037486076355, 0.593037486076355, 0.8844953775405884, 0.9266912937164307, 0.9266868233680725, 1.074875831604004, 0.8844993710517883], \"Term\": [\"64-bit\", \"adaptation\", \"adaptive\", \"adder\", \"adjustment\", \"affine\", \"algorithm\", \"algorithm\", \"analog\", \"appeal\", \"application\", \"architectural\", \"articulate\", \"balancing\", \"base\", \"base\", \"boltzmann\", \"business\", \"circuit\", \"cockpit\", \"complex\", \"control\", \"control\", \"controller\", \"correction\", \"decimators\", \"decision\", \"deformation\", \"denoising\", \"design\", \"design\", \"detection\", \"directional\", \"dtmos\", \"dynamic\", \"enable\", \"energy\", \"experimental\", \"factor\", \"feedthrough\", \"filter\", \"fluid\", \"force\", \"front\", \"future\", \"geometry\", \"grover\", \"heavenly\", \"implementation\", \"incorporate\", \"independent\", \"interpolation\", \"interpolators\", \"keyframe\", \"kinetic\", \"latency\", \"lattice\", \"lifetime\", \"linear\", \"logic\", \"making\", \"measurement\", \"method\", \"mobility\", \"mtcmos\", \"multi\", \"multiuser\", \"namespace\", \"network\", \"network\", \"night\", \"novel\", \"numerical\", \"nyquist\", \"optimization\", \"optimize\", \"orthogonal\", \"parametric\", \"performance\", \"phase\", \"photodiode\", \"phrasing\", \"piecewise\", \"piezoelectric\", \"pipeline\", \"polyhedron\", \"power\", \"power\", \"process\", \"range\", \"representation\", \"restful\", \"right\", \"route\", \"route\", \"sensor\", \"sensor\", \"services\", \"simulation\", \"sinusoidal\", \"speed\", \"spherical\", \"structure\", \"structure\", \"synthesis\", \"system\", \"system\", \"technique\", \"trade\", \"ultra\", \"using\", \"using\", \"validation\", \"virtual\", \"voltage\", \"warmth\", \"wireless\"]}, \"R\": 30, \"lambda.step\": 0.01, \"plot.opts\": {\"xlab\": \"PC1\", \"ylab\": \"PC2\"}, \"topic.order\": [1, 2, 3]};\n",
              "\n",
              "function LDAvis_load_lib(url, callback){\n",
              "  var s = document.createElement('script');\n",
              "  s.src = url;\n",
              "  s.async = true;\n",
              "  s.onreadystatechange = s.onload = callback;\n",
              "  s.onerror = function(){console.warn(\"failed to load library \" + url);};\n",
              "  document.getElementsByTagName(\"head\")[0].appendChild(s);\n",
              "}\n",
              "\n",
              "if(typeof(LDAvis) !== \"undefined\"){\n",
              "   // already loaded: just create the visualization\n",
              "   !function(LDAvis){\n",
              "       new LDAvis(\"#\" + \"ldavis_el1241402554540338646572037725\", ldavis_el1241402554540338646572037725_data);\n",
              "   }(LDAvis);\n",
              "}else if(typeof define === \"function\" && define.amd){\n",
              "   // require.js is available: use it to load d3/LDAvis\n",
              "   require.config({paths: {d3: \"https://cdnjs.cloudflare.com/ajax/libs/d3/3.5.5/d3.min\"}});\n",
              "   require([\"d3\"], function(d3){\n",
              "      window.d3 = d3;\n",
              "      LDAvis_load_lib(\"https://cdn.rawgit.com/bmabey/pyLDAvis/files/ldavis.v1.0.0.js\", function(){\n",
              "        new LDAvis(\"#\" + \"ldavis_el1241402554540338646572037725\", ldavis_el1241402554540338646572037725_data);\n",
              "      });\n",
              "    });\n",
              "}else{\n",
              "    // require.js not available: dynamically load d3 & LDAvis\n",
              "    LDAvis_load_lib(\"https://cdnjs.cloudflare.com/ajax/libs/d3/3.5.5/d3.min.js\", function(){\n",
              "         LDAvis_load_lib(\"https://cdn.rawgit.com/bmabey/pyLDAvis/files/ldavis.v1.0.0.js\", function(){\n",
              "                 new LDAvis(\"#\" + \"ldavis_el1241402554540338646572037725\", ldavis_el1241402554540338646572037725_data);\n",
              "            })\n",
              "         });\n",
              "}\n",
              "</script>"
            ],
            "text/plain": [
              "<IPython.core.display.HTML object>"
            ]
          },
          "metadata": {
            "tags": []
          },
          "execution_count": 61
        }
      ]
    },
    {
      "cell_type": "markdown",
      "metadata": {
        "id": "ePpIJowzLc_J",
        "colab_type": "text"
      },
      "source": [
        "### Visualizing 10 topics:"
      ]
    },
    {
      "cell_type": "code",
      "metadata": {
        "id": "15JkAbxvLJ1S",
        "colab_type": "code",
        "colab": {
          "base_uri": "https://localhost:8080/",
          "height": 1017
        },
        "outputId": "37a7c5b7-8cae-4af2-8811-4f197cc34c4e"
      },
      "source": [
        "\n",
        "\n",
        "lda10 = gensim.models.ldamodel.LdaModel.load('model10.gensim')\n",
        "lda_display10 = pyLDAvis.gensim.prepare(lda10, corpus, dictionary, sort_topics=False)\n",
        "pyLDAvis.display(lda_display10)"
      ],
      "execution_count": 62,
      "outputs": [
        {
          "output_type": "stream",
          "text": [
            "/usr/local/lib/python3.6/dist-packages/pyLDAvis/_prepare.py:257: FutureWarning: Sorting because non-concatenation axis is not aligned. A future version\n",
            "of pandas will change to not sort by default.\n",
            "\n",
            "To accept the future behavior, pass 'sort=False'.\n",
            "\n",
            "To retain the current behavior and silence the warning, pass 'sort=True'.\n",
            "\n",
            "  return pd.concat([default_term_info] + list(topic_dfs))\n"
          ],
          "name": "stderr"
        },
        {
          "output_type": "execute_result",
          "data": {
            "text/html": [
              "\n",
              "<link rel=\"stylesheet\" type=\"text/css\" href=\"https://cdn.rawgit.com/bmabey/pyLDAvis/files/ldavis.v1.0.0.css\">\n",
              "\n",
              "\n",
              "<div id=\"ldavis_el1241402554169385689476798554\"></div>\n",
              "<script type=\"text/javascript\">\n",
              "\n",
              "var ldavis_el1241402554169385689476798554_data = {\"mdsDat\": {\"x\": [-0.08567987507345996, -0.02579663573290481, -0.036293356541085724, -0.0632717217520982, 0.014143698565376745, 0.09893453784398268, 0.0007340144154005703, 0.007066295601239759, 0.15447461430785636, -0.06431157163430712], \"y\": [-0.033736169013646684, -0.05401591114226167, -0.04840116232348047, 0.03967256428802171, -0.03093463172967613, 0.13786066406970066, 0.0851382303378959, 0.0014299262090864855, -0.1053255163969781, 0.008312005701338193], \"topics\": [1, 2, 3, 4, 5, 6, 7, 8, 9, 10], \"cluster\": [1, 1, 1, 1, 1, 1, 1, 1, 1, 1], \"Freq\": [10.234756469726562, 7.314430236816406, 8.56810188293457, 10.593911170959473, 8.80163860321045, 18.9019832611084, 9.410274505615234, 1.3847919702529907, 14.9746732711792, 9.815439224243164]}, \"tinfo\": {\"Category\": [\"Default\", \"Default\", \"Default\", \"Default\", \"Default\", \"Default\", \"Default\", \"Default\", \"Default\", \"Default\", \"Default\", \"Default\", \"Default\", \"Default\", \"Default\", \"Default\", \"Default\", \"Default\", \"Default\", \"Default\", \"Default\", \"Default\", \"Default\", \"Default\", \"Default\", \"Default\", \"Default\", \"Default\", \"Default\", \"Default\", \"Topic1\", \"Topic1\", \"Topic1\", \"Topic1\", \"Topic1\", \"Topic1\", \"Topic1\", \"Topic1\", \"Topic1\", \"Topic1\", \"Topic1\", \"Topic1\", \"Topic1\", \"Topic1\", \"Topic1\", \"Topic1\", \"Topic1\", \"Topic1\", \"Topic1\", \"Topic1\", \"Topic1\", \"Topic1\", \"Topic1\", \"Topic1\", \"Topic1\", \"Topic1\", \"Topic1\", \"Topic1\", \"Topic1\", \"Topic1\", \"Topic1\", \"Topic1\", \"Topic1\", \"Topic1\", \"Topic1\", \"Topic1\", \"Topic1\", \"Topic1\", \"Topic1\", \"Topic1\", \"Topic1\", \"Topic1\", \"Topic1\", \"Topic1\", \"Topic2\", \"Topic2\", \"Topic2\", \"Topic2\", \"Topic2\", \"Topic2\", \"Topic2\", \"Topic2\", \"Topic2\", \"Topic2\", \"Topic2\", \"Topic2\", \"Topic2\", \"Topic2\", \"Topic2\", \"Topic2\", \"Topic2\", \"Topic2\", \"Topic2\", \"Topic2\", \"Topic2\", \"Topic2\", \"Topic2\", \"Topic2\", \"Topic2\", \"Topic2\", \"Topic2\", \"Topic2\", \"Topic2\", \"Topic2\", \"Topic2\", \"Topic2\", \"Topic2\", \"Topic2\", \"Topic2\", \"Topic2\", \"Topic2\", \"Topic2\", \"Topic2\", \"Topic2\", \"Topic2\", \"Topic2\", \"Topic2\", \"Topic2\", \"Topic2\", \"Topic2\", \"Topic2\", \"Topic2\", \"Topic2\", \"Topic2\", \"Topic2\", \"Topic2\", \"Topic3\", \"Topic3\", \"Topic3\", \"Topic3\", \"Topic3\", \"Topic3\", \"Topic3\", \"Topic3\", \"Topic3\", \"Topic3\", \"Topic3\", \"Topic3\", \"Topic3\", \"Topic3\", \"Topic3\", \"Topic3\", \"Topic3\", \"Topic3\", \"Topic3\", \"Topic3\", \"Topic3\", \"Topic3\", \"Topic3\", \"Topic3\", \"Topic3\", \"Topic3\", \"Topic3\", \"Topic3\", \"Topic3\", \"Topic3\", \"Topic3\", \"Topic3\", \"Topic3\", \"Topic3\", \"Topic3\", \"Topic3\", \"Topic3\", \"Topic3\", \"Topic3\", \"Topic3\", \"Topic3\", \"Topic3\", \"Topic3\", \"Topic3\", \"Topic3\", \"Topic3\", \"Topic3\", \"Topic3\", \"Topic3\", \"Topic4\", \"Topic4\", \"Topic4\", \"Topic4\", \"Topic4\", \"Topic4\", \"Topic4\", \"Topic4\", \"Topic4\", \"Topic4\", \"Topic4\", \"Topic4\", \"Topic4\", \"Topic4\", \"Topic4\", \"Topic4\", \"Topic4\", \"Topic4\", \"Topic4\", \"Topic4\", \"Topic4\", \"Topic4\", \"Topic4\", \"Topic4\", \"Topic4\", \"Topic4\", \"Topic4\", \"Topic4\", \"Topic4\", \"Topic4\", \"Topic4\", \"Topic4\", \"Topic4\", \"Topic4\", \"Topic4\", \"Topic4\", \"Topic4\", \"Topic4\", \"Topic4\", \"Topic4\", \"Topic4\", \"Topic4\", \"Topic4\", \"Topic4\", \"Topic4\", \"Topic4\", \"Topic4\", \"Topic4\", \"Topic5\", \"Topic5\", \"Topic5\", \"Topic5\", \"Topic5\", \"Topic5\", \"Topic5\", \"Topic5\", \"Topic5\", \"Topic5\", \"Topic5\", \"Topic5\", \"Topic5\", \"Topic5\", \"Topic5\", \"Topic5\", \"Topic5\", \"Topic5\", \"Topic5\", \"Topic5\", \"Topic5\", \"Topic5\", \"Topic5\", \"Topic5\", \"Topic5\", \"Topic5\", \"Topic5\", \"Topic5\", \"Topic5\", \"Topic5\", \"Topic5\", \"Topic5\", \"Topic5\", \"Topic5\", \"Topic5\", \"Topic5\", \"Topic5\", \"Topic5\", \"Topic5\", \"Topic5\", \"Topic5\", \"Topic5\", \"Topic5\", \"Topic5\", \"Topic5\", \"Topic5\", \"Topic5\", \"Topic6\", \"Topic6\", \"Topic6\", \"Topic6\", \"Topic6\", \"Topic6\", \"Topic6\", \"Topic6\", \"Topic6\", \"Topic6\", \"Topic6\", \"Topic6\", \"Topic6\", \"Topic6\", \"Topic6\", \"Topic6\", \"Topic6\", \"Topic6\", \"Topic6\", \"Topic6\", \"Topic6\", \"Topic6\", \"Topic6\", \"Topic6\", \"Topic6\", \"Topic6\", \"Topic6\", \"Topic6\", \"Topic6\", \"Topic6\", \"Topic6\", \"Topic7\", \"Topic7\", \"Topic7\", \"Topic7\", \"Topic7\", \"Topic7\", \"Topic7\", \"Topic7\", \"Topic7\", \"Topic7\", \"Topic7\", \"Topic7\", \"Topic7\", \"Topic7\", \"Topic7\", \"Topic7\", \"Topic7\", \"Topic7\", \"Topic7\", \"Topic7\", \"Topic7\", \"Topic7\", \"Topic7\", \"Topic7\", \"Topic7\", \"Topic7\", \"Topic7\", \"Topic7\", \"Topic7\", \"Topic7\", \"Topic7\", \"Topic7\", \"Topic7\", \"Topic7\", \"Topic7\", \"Topic7\", \"Topic7\", \"Topic7\", \"Topic7\", \"Topic7\", \"Topic7\", \"Topic7\", \"Topic7\", \"Topic7\", \"Topic7\", \"Topic7\", \"Topic8\", \"Topic8\", \"Topic8\", \"Topic8\", \"Topic8\", \"Topic8\", \"Topic8\", \"Topic8\", \"Topic8\", \"Topic8\", \"Topic8\", \"Topic8\", \"Topic8\", \"Topic8\", \"Topic8\", \"Topic8\", \"Topic8\", \"Topic8\", \"Topic8\", \"Topic8\", \"Topic8\", \"Topic8\", \"Topic8\", \"Topic8\", \"Topic8\", \"Topic8\", \"Topic8\", \"Topic8\", \"Topic8\", \"Topic8\", \"Topic8\", \"Topic8\", \"Topic8\", \"Topic8\", \"Topic8\", \"Topic8\", \"Topic8\", \"Topic8\", \"Topic8\", \"Topic8\", \"Topic8\", \"Topic8\", \"Topic8\", \"Topic8\", \"Topic8\", \"Topic8\", \"Topic8\", \"Topic8\", \"Topic8\", \"Topic8\", \"Topic8\", \"Topic9\", \"Topic9\", \"Topic9\", \"Topic9\", \"Topic9\", \"Topic9\", \"Topic9\", \"Topic9\", \"Topic9\", \"Topic9\", \"Topic9\", \"Topic9\", \"Topic9\", \"Topic9\", \"Topic9\", \"Topic9\", \"Topic9\", \"Topic9\", \"Topic9\", \"Topic9\", \"Topic9\", \"Topic9\", \"Topic9\", \"Topic9\", \"Topic9\", \"Topic9\", \"Topic9\", \"Topic9\", \"Topic9\", \"Topic9\", \"Topic9\", \"Topic9\", \"Topic9\", \"Topic9\", \"Topic9\", \"Topic9\", \"Topic9\", \"Topic9\", \"Topic10\", \"Topic10\", \"Topic10\", \"Topic10\", \"Topic10\", \"Topic10\", \"Topic10\", \"Topic10\", \"Topic10\", \"Topic10\", \"Topic10\", \"Topic10\", \"Topic10\", \"Topic10\", \"Topic10\", \"Topic10\", \"Topic10\", \"Topic10\", \"Topic10\", \"Topic10\", \"Topic10\", \"Topic10\", \"Topic10\", \"Topic10\", \"Topic10\", \"Topic10\", \"Topic10\", \"Topic10\", \"Topic10\", \"Topic10\", \"Topic10\", \"Topic10\", \"Topic10\", \"Topic10\", \"Topic10\", \"Topic10\", \"Topic10\", \"Topic10\", \"Topic10\", \"Topic10\", \"Topic10\", \"Topic10\", \"Topic10\", \"Topic10\", \"Topic10\", \"Topic10\", \"Topic10\", \"Topic10\"], \"Freq\": [2.0, 1.0, 2.0, 1.0, 1.0, 1.0, 1.0, 1.0, 1.0, 2.0, 2.0, 2.0, 0.0, 0.0, 0.0, 0.0, 0.0, 0.0, 0.0, 0.0, 2.0, 1.0, 1.0, 1.0, 1.0, 1.0, 1.0, 1.0, 1.0, 1.0, 0.5833473801612854, 0.5833473205566406, 0.5833473205566406, 0.5833473205566406, 0.5833473205566406, 0.5833473205566406, 0.5833473205566406, 0.5833473205566406, 0.5833473205566406, 0.5833473801612854, 0.5833473205566406, 0.5833473801612854, 0.5833473205566406, 0.5833472013473511, 0.5833441019058228, 0.5833470225334167, 0.5833486914634705, 0.05303158611059189, 0.05303158611059189, 0.05303158983588219, 0.05303158611059189, 0.05303158983588219, 0.05303158611059189, 0.05303158611059189, 0.05303158983588219, 0.05303160101175308, 0.05303158611059189, 0.05303158611059189, 0.05303158611059189, 0.05303158983588219, 0.053031597286462784, 0.05303158611059189, 0.05303158611059189, 0.053031597286462784, 0.053031597286462784, 0.053031593561172485, 0.05303158611059189, 0.05303158611059189, 0.05303158983588219, 0.05303158611059189, 0.053031593561172485, 0.05303158611059189, 0.05303158983588219, 0.05303158611059189, 0.5198359489440918, 0.5198359489440918, 0.5198359489440918, 0.5198359489440918, 0.5198359489440918, 0.5198359489440918, 0.5198359489440918, 0.5198359489440918, 0.519838809967041, 0.5198362469673157, 0.5198359489440918, 0.04725784435868263, 0.04725783318281174, 0.047257836908102036, 0.04725782573223114, 0.04725782573223114, 0.04725782573223114, 0.04725782573223114, 0.04725782573223114, 0.04725782573223114, 0.04725783318281174, 0.04725782573223114, 0.04725782573223114, 0.04725782573223114, 0.04725783318281174, 0.04725783318281174, 0.04725783318281174, 0.04725782573223114, 0.04725782573223114, 0.04725782573223114, 0.04725782573223114, 0.04725782573223114, 0.04725782573223114, 0.04725783318281174, 0.04725783318281174, 0.04725783318281174, 0.04725782573223114, 0.047257836908102036, 0.04725783318281174, 0.04725783318281174, 0.04725782573223114, 0.04725782573223114, 0.04725782573223114, 0.04725782573223114, 0.04725782573223114, 0.04725782573223114, 0.04725783318281174, 0.04725782573223114, 0.04725782573223114, 0.04725782573223114, 0.04725782573223114, 0.04725782573223114, 0.5626272559165955, 0.5626272559165955, 0.5626272559165955, 0.5626272559165955, 0.5626272559165955, 0.5626272559165955, 0.5626272559165955, 0.5626272559165955, 0.5626272559165955, 1.0741140842437744, 0.5626294612884521, 0.5626295208930969, 0.0511479489505291, 0.0511479489505291, 0.0511479489505291, 0.0511479489505291, 0.0511479452252388, 0.0511479452252388, 0.0511479452252388, 0.0511479452252388, 0.051147956401109695, 0.0511479489505291, 0.0511479452252388, 0.0511479452252388, 0.0511479452252388, 0.0511479452252388, 0.0511479452252388, 0.0511479452252388, 0.0511479452252388, 0.0511479452252388, 0.0511479526758194, 0.0511479452252388, 0.0511479489505291, 0.0511479526758194, 0.0511479526758194, 0.0511479526758194, 0.051147956401109695, 0.051147956401109695, 0.0511479526758194, 0.0511479526758194, 0.0511479526758194, 0.0511479526758194, 0.0511479526758194, 0.0511479526758194, 0.0511479526758194, 0.0511479526758194, 0.0511479526758194, 0.0511479526758194, 0.0511479526758194, 1.1527440547943115, 0.6038182973861694, 0.6038182973861694, 0.6038182973861694, 0.6038182973861694, 0.6038182973861694, 0.6038182973861694, 0.6038182973861694, 0.6038182973861694, 0.6038182973861694, 0.6038182973861694, 0.6038182973861694, 0.6038160920143127, 0.60381019115448, 0.6038185358047485, 0.603817343711853, 0.05489259213209152, 0.054892588406801224, 0.054892588406801224, 0.054892588406801224, 0.054892588406801224, 0.054892588406801224, 0.054892588406801224, 0.054892588406801224, 0.05489260330796242, 0.05489259213209152, 0.05489259213209152, 0.05489260330796242, 0.05489259213209152, 0.054892588406801224, 0.054892588406801224, 0.054892588406801224, 0.054892588406801224, 0.05489259585738182, 0.054892588406801224, 0.054892588406801224, 0.054892588406801224, 0.05489259958267212, 0.05489259213209152, 0.054892588406801224, 0.054892588406801224, 0.054892588406801224, 0.05489259585738182, 0.05489259213209152, 0.054892588406801224, 0.054892588406801224, 0.05489259213209152, 0.05489259213209152, 0.5567920207977295, 0.5567920207977295, 0.5567920207977295, 0.5567920207977295, 0.5567920207977295, 0.5567920207977295, 0.5567920207977295, 0.5567920207977295, 0.5567920207977295, 0.5567920207977295, 0.5567920207977295, 0.5567919611930847, 0.5567919015884399, 0.5567950010299683, 0.05061747878789902, 0.05061747878789902, 0.05061747133731842, 0.05061747133731842, 0.05061747133731842, 0.05061747133731842, 0.05061747133731842, 0.05061747133731842, 0.05061747878789902, 0.05061747878789902, 0.05061747133731842, 0.05061747133731842, 0.05061747133731842, 0.05061747133731842, 0.05061747133731842, 0.05061747133731842, 0.05061747133731842, 0.05061747133731842, 0.05061747878789902, 0.05061747878789902, 0.050617486238479614, 0.05061747133731842, 0.05061747878789902, 0.05061747878789902, 0.05061747878789902, 0.05061747133731842, 0.05061747133731842, 0.05061747133731842, 0.05061747133731842, 0.05061747133731842, 0.05061747878789902, 0.05061747133731842, 0.05061747133731842, 0.7368792295455933, 0.7368792295455933, 0.7368792295455933, 0.7368792295455933, 0.7368792295455933, 0.736879289150238, 0.736879289150238, 0.736879289150238, 0.736879289150238, 0.7368792295455933, 0.736879289150238, 0.736879289150238, 0.7368792295455933, 0.736879289150238, 0.736879289150238, 0.736879289150238, 0.7368792295455933, 0.736879289150238, 0.7368792295455933, 0.736879289150238, 0.736879289150238, 0.7368792295455933, 0.7368773818016052, 0.7368766069412231, 0.7368783950805664, 0.7368780374526978, 0.7368745803833008, 0.7368758320808411, 0.7368748188018799, 0.7368759512901306, 0.7368753552436829, 0.5742591619491577, 0.5742591619491577, 0.5742591619491577, 0.5742591619491577, 0.5742592215538025, 0.5742591619491577, 0.5742591619491577, 0.5742591619491577, 0.5742591619491577, 0.5742591619491577, 0.5742591619491577, 0.5742591619491577, 0.5742612481117249, 0.5742606520652771, 0.5742618441581726, 0.0522053986787796, 0.0522053986787796, 0.052205394953489304, 0.052205394953489304, 0.052205394953489304, 0.052205394953489304, 0.052205394953489304, 0.052205394953489304, 0.0522054061293602, 0.0522053986787796, 0.052205394953489304, 0.052205394953489304, 0.052205394953489304, 0.052205394953489304, 0.052205394953489304, 0.0522054061293602, 0.0522053986787796, 0.052205394953489304, 0.0522054061293602, 0.0522054061293602, 0.0522054061293602, 0.0522054098546505, 0.052205394953489304, 0.052205394953489304, 0.052205394953489304, 0.052205394953489304, 0.0522053986787796, 0.052205394953489304, 0.0522053986787796, 0.052205394953489304, 0.052205394953489304, 0.016346793621778488, 0.016346793621778488, 0.016346793621778488, 0.01634679175913334, 0.01634679175913334, 0.01634679175913334, 0.01634679175913334, 0.01634679175913334, 0.016346799209713936, 0.016346797347068787, 0.016346793621778488, 0.016346793621778488, 0.016346793621778488, 0.01634679175913334, 0.01634679175913334, 0.01634679175913334, 0.01634679175913334, 0.01634679175913334, 0.016346793621778488, 0.01634679175913334, 0.01634679175913334, 0.016346795484423637, 0.016346793621778488, 0.016346793621778488, 0.01634679175913334, 0.01634679175913334, 0.01634679175913334, 0.01634679175913334, 0.01634679175913334, 0.01634679175913334, 0.016346793621778488, 0.016346795484423637, 0.016346795484423637, 0.016346795484423637, 0.016346795484423637, 0.016346795484423637, 0.016346793621778488, 0.016346793621778488, 0.016346793621778488, 0.016346793621778488, 0.016346795484423637, 0.016346799209713936, 0.016346793621778488, 0.016346793621778488, 0.016346795484423637, 0.016346795484423637, 0.016346795484423637, 0.016346793621778488, 0.016346793621778488, 0.016346793621778488, 0.016346795484423637, 1.3236323595046997, 1.3236323595046997, 0.6933311820030212, 0.6933313012123108, 0.6933313012123108, 0.6933313012123108, 0.6933311820030212, 0.6933311820030212, 0.6933311820030212, 0.6933311820030212, 0.6933311820030212, 0.6933311820030212, 0.6933311820030212, 0.6933313012123108, 0.6933313012123108, 0.6933311820030212, 0.6933311820030212, 0.6933355331420898, 0.6933323740959167, 0.6933320760726929, 0.6933282613754272, 0.6933311820030212, 0.06303013116121292, 0.06303013116121292, 0.06303013116121292, 0.06303012371063232, 0.06303012371063232, 0.06303012371063232, 0.06303012371063232, 0.06303012371063232, 0.06303014606237411, 0.06303014606237411, 0.06303014606237411, 0.06303012371063232, 0.06303012371063232, 0.06303013116121292, 0.06303013116121292, 0.06303012371063232, 0.5989843010902405, 0.5989843010902405, 0.5989843010902405, 0.5989843010902405, 0.5989842414855957, 0.5989842414855957, 0.5989842414855957, 0.5989842414855957, 0.5989842414855957, 0.5989842414855957, 0.5989842414855957, 0.598983883857727, 0.5989845991134644, 0.5989866256713867, 0.5989881753921509, 0.054453134536743164, 0.054453134536743164, 0.054453130811452866, 0.054453130811452866, 0.054453130811452866, 0.054453130811452866, 0.054453130811452866, 0.054453130811452866, 0.05445314571261406, 0.054453130811452866, 0.054453130811452866, 0.054453134536743164, 0.054453130811452866, 0.054453134536743164, 0.054453130811452866, 0.05445314198732376, 0.054453130811452866, 0.054453130811452866, 0.05445313826203346, 0.054453130811452866, 0.05445314571261406, 0.05445314198732376, 0.05445314198732376, 0.054453130811452866, 0.054453130811452866, 0.054453130811452866, 0.054453130811452866, 0.054453130811452866, 0.054453130811452866, 0.054453130811452866, 0.054453130811452866, 0.054453130811452866, 0.054453130811452866], \"Term\": [\"base\", \"algorithm\", \"system\", \"structure\", \"multi\", \"services\", \"controller\", \"measurement\", \"route\", \"design\", \"network\", \"sensor\", \"smooth\", \"distribute\", \"pipeline\", \"transceiver\", \"802.11\", \"clock\", \"database\", \"multimedia\", \"control\", \"energy\", \"using\", \"lifetime\", \"fluorescence\", \"analog\", \"implementation\", \"front\", \"speed\", \"photodiode\", \"robust\", \"namespace\", \"column\", \"virtual\", \"future\", \"cockpit\", \"night\", \"discovery\", \"foreign\", \"scalable\", \"business\", \"independent\", \"process\", \"warmth\", \"multi\", \"route\", \"network\", \"transceiver\", \"802.11\", \"database\", \"distribute\", \"multimedia\", \"smooth\", \"pipeline\", \"clock\", \"appeal\", \"adjustment\", \"kinetic\", \"incorporate\", \"deaggregation\", \"heavenly\", \"parametric\", \"economic\", \"sensor\", \"system\", \"deformation\", \"mobility\", \"latency\", \"optimize\", \"trade\", \"articulate\", \"multiuser\", \"pagerank\", \"mtcmos\", \"clock\", \"802.11\", \"smooth\", \"multimedia\", \"distribute\", \"database\", \"transceiver\", \"pipeline\", \"multi\", \"structure\", \"system\", \"appeal\", \"prefix\", \"heavenly\", \"keyframe\", \"kinetic\", \"parametric\", \"phrasing\", \"deaggregation\", \"economic\", \"effect\", \"interpolation\", \"adjustment\", \"incorporate\", \"adaptation\", \"denoising\", \"analog\", \"photodiode\", \"fluorescence\", \"front\", \"implementation\", \"lifetime\", \"speed\", \"range\", \"deformation\", \"articulate\", \"trade\", \"sensor\", \"optimize\", \"pagerank\", \"application\", \"mobility\", \"circuit\", \"enable\", \"complex\", \"boltzmann\", \"services\", \"right\", \"restful\", \"making\", \"decision\", \"architectural\", \"photodiode\", \"speed\", \"lifetime\", \"denoising\", \"analog\", \"adaptation\", \"fluorescence\", \"front\", \"implementation\", \"base\", \"measurement\", \"system\", \"database\", \"pipeline\", \"multimedia\", \"clock\", \"802.11\", \"transceiver\", \"distribute\", \"smooth\", \"appeal\", \"prefix\", \"kinetic\", \"keyframe\", \"parametric\", \"interpolation\", \"deaggregation\", \"economic\", \"phrasing\", \"adjustment\", \"heavenly\", \"incorporate\", \"effect\", \"algorithm\", \"deformation\", \"articulate\", \"night\", \"warmth\", \"sensor\", \"multi\", \"network\", \"directional\", \"business\", \"cockpit\", \"process\", \"design\", \"factor\", \"damp\", \"orthogonal\", \"algorithm\", \"imdst\", \"recursive\", \"efficient\", \"filterbank\", \"hardware\", \"force\", \"piezoelectric\", \"grover\", \"detection\", \"static\", \"multiuser\", \"measurement\", \"base\", \"design\", \"sensor\", \"multimedia\", \"clock\", \"transceiver\", \"pipeline\", \"802.11\", \"database\", \"distribute\", \"smooth\", \"appeal\", \"deaggregation\", \"economic\", \"heavenly\", \"prefix\", \"keyframe\", \"kinetic\", \"interpolation\", \"parametric\", \"effect\", \"trade\", \"complex\", \"boltzmann\", \"warmth\", \"services\", \"right\", \"latency\", \"mobility\", \"network\", \"optimize\", \"making\", \"decision\", \"deformation\", \"range\", \"adjustment\", \"prefix\", \"phrasing\", \"parametric\", \"kinetic\", \"keyframe\", \"incorporate\", \"deaggregation\", \"economic\", \"interpolation\", \"effect\", \"heavenly\", \"appeal\", \"control\", \"clock\", \"multimedia\", \"802.11\", \"pipeline\", \"transceiver\", \"smooth\", \"distribute\", \"database\", \"adaptation\", \"denoising\", \"photodiode\", \"fluorescence\", \"implementation\", \"lifetime\", \"analog\", \"front\", \"speed\", \"circuit\", \"network\", \"optimize\", \"sensor\", \"trade\", \"articulate\", \"deformation\", \"range\", \"application\", \"dtmos\", \"enable\", \"mtcmos\", \"optimization\", \"power\", \"mobility\", \"voltage\", \"pagerank\", \"function\", \"method\", \"lattice\", \"geometry\", \"fluid\", \"enable\", \"complex\", \"boltzmann\", \"voltage\", \"technique\", \"optimization\", \"mtcmos\", \"dtmos\", \"circuit\", \"application\", \"trade\", \"mobility\", \"latency\", \"numerical\", \"simulation\", \"damp\", \"using\", \"energy\", \"power\", \"optimize\", \"factor\", \"design\", \"network\", \"sensor\", \"control\", \"feedthrough\", \"64-bit\", \"adder\", \"dynamic\", \"performance\", \"logic\", \"articulate\", \"deformation\", \"range\", \"orthogonal\", \"graph\", \"directional\", \"energy\", \"using\", \"design\", \"clock\", \"multimedia\", \"database\", \"distribute\", \"smooth\", \"802.11\", \"pipeline\", \"transceiver\", \"appeal\", \"prefix\", \"phrasing\", \"parametric\", \"kinetic\", \"keyframe\", \"interpolation\", \"heavenly\", \"deaggregation\", \"economic\", \"system\", \"multi\", \"night\", \"warmth\", \"trade\", \"application\", \"circuit\", \"dtmos\", \"sensor\", \"mtcmos\", \"pagerank\", \"decision\", \"optimization\", \"database\", \"multimedia\", \"clock\", \"pipeline\", \"transceiver\", \"802.11\", \"distribute\", \"smooth\", \"appeal\", \"heavenly\", \"deaggregation\", \"economic\", \"prefix\", \"phrasing\", \"parametric\", \"kinetic\", \"keyframe\", \"interpolation\", \"effect\", \"adjustment\", \"incorporate\", \"adaptation\", \"denoising\", \"analog\", \"implementation\", \"speed\", \"photodiode\", \"lifetime\", \"front\", \"fluorescence\", \"pagerank\", \"base\", \"system\", \"structure\", \"multi\", \"algorithm\", \"detection\", \"route\", \"grover\", \"multiuser\", \"night\", \"warmth\", \"network\", \"factor\", \"sensor\", \"articulate\", \"deformation\", \"range\", \"services\", \"power\", \"measurement\", \"controller\", \"services\", \"validation\", \"correction\", \"sinusoidal\", \"synthesis\", \"ultra\", \"right\", \"restful\", \"decision\", \"architectural\", \"adaptive\", \"affine\", \"experimental\", \"novel\", \"piecewise\", \"making\", \"factor\", \"optimize\", \"power\", \"system\", \"control\", \"clock\", \"database\", \"multimedia\", \"distribute\", \"smooth\", \"802.11\", \"pipeline\", \"transceiver\", \"appeal\", \"heavenly\", \"sensor\", \"mobility\", \"trade\", \"network\", \"deformation\", \"latency\", \"decimators\", \"spherical\", \"representation\", \"polyhedron\", \"interpolators\", \"balancing\", \"linear\", \"nyquist\", \"phase\", \"wireless\", \"filter\", \"structure\", \"route\", \"network\", \"sensor\", \"database\", \"multimedia\", \"transceiver\", \"pipeline\", \"smooth\", \"distribute\", \"802.11\", \"clock\", \"appeal\", \"incorporate\", \"keyframe\", \"deaggregation\", \"economic\", \"prefix\", \"phrasing\", \"heavenly\", \"interpolation\", \"kinetic\", \"effect\", \"parametric\", \"warmth\", \"night\", \"deformation\", \"trade\", \"technique\", \"right\", \"latency\", \"restful\", \"mobility\", \"making\", \"decision\", \"architectural\", \"voltage\"], \"Total\": [2.0, 1.0, 2.0, 1.0, 1.0, 1.0, 1.0, 1.0, 1.0, 2.0, 2.0, 2.0, 0.0, 0.0, 0.0, 0.0, 0.0, 0.0, 0.0, 0.0, 2.0, 1.0, 1.0, 1.0, 1.0, 1.0, 1.0, 1.0, 1.0, 1.0, 1.0402876138687134, 1.0402876138687134, 1.0402876138687134, 1.0402876138687134, 1.0402876138687134, 1.040287733078003, 1.040287733078003, 1.040287733078003, 1.040287733078003, 1.040287733078003, 1.040287733078003, 1.040287733078003, 1.040287733078003, 1.0402876138687134, 1.512865424156189, 1.5848188400268555, 2.2547082901000977, 0.9825500249862671, 0.9825500249862671, 0.9825500249862671, 0.9825500249862671, 0.9825500249862671, 0.9825500249862671, 0.9825500249862671, 0.9825500249862671, 1.0161464214324951, 1.0161464214324951, 1.0161464214324951, 1.0161464214324951, 1.0161464214324951, 1.0161465406417847, 1.0161464214324951, 1.0161464214324951, 2.2733187675476074, 2.1243298053741455, 1.0320258140563965, 1.179862141609192, 1.179862141609192, 1.8101632595062256, 1.179862141609192, 1.0320258140563965, 1.0588977336883545, 1.179862141609192, 1.179862141609192, 0.9825500249862671, 0.9825500249862671, 0.9825500249862671, 0.9825500249862671, 0.9825500249862671, 0.9825500249862671, 0.9825500249862671, 0.9825500249862671, 1.512865424156189, 1.52708101272583, 2.1243298053741455, 1.0161464214324951, 1.0161464214324951, 1.0161465406417847, 1.0161464214324951, 1.0161464214324951, 1.0161464214324951, 1.0161464214324951, 1.0161464214324951, 1.0161464214324951, 1.0161465406417847, 1.0161464214324951, 1.0161464214324951, 1.0161464214324951, 1.0214512348175049, 1.0214512348175049, 1.0214512348175049, 1.0214512348175049, 1.0214512348175049, 1.0214512348175049, 1.0214512348175049, 1.0214512348175049, 1.0214512348175049, 1.0320258140563965, 1.0320258140563965, 1.0320258140563965, 1.179862141609192, 2.2733187675476074, 1.8101632595062256, 1.179862141609192, 1.179862141609192, 1.179862141609192, 1.179862141609192, 1.179862141609192, 1.179862141609192, 1.179862141609192, 1.7705742120742798, 1.1402729749679565, 1.140272855758667, 1.140272855758667, 1.140272855758667, 1.140272855758667, 1.0214512348175049, 1.0214512348175049, 1.0214512348175049, 1.0214512348175049, 1.0214512348175049, 1.0214512348175049, 1.0214512348175049, 1.0214512348175049, 1.0214512348175049, 2.0818557739257812, 1.570376992225647, 2.1243298053741455, 0.9825500249862671, 0.9825500249862671, 0.9825500249862671, 0.9825500249862671, 0.9825500249862671, 0.9825500249862671, 0.9825500249862671, 0.9825500249862671, 1.0161464214324951, 1.0161464214324951, 1.0161464214324951, 1.0161464214324951, 1.0161464214324951, 1.0161464214324951, 1.0161464214324951, 1.0161464214324951, 1.0161464214324951, 1.0161464214324951, 1.0161465406417847, 1.0161464214324951, 1.0161465406417847, 1.6078234910964966, 1.0320258140563965, 1.0320258140563965, 1.040287733078003, 1.0402876138687134, 2.2733187675476074, 1.512865424156189, 2.2547082901000977, 1.0320258140563965, 1.040287733078003, 1.040287733078003, 1.040287733078003, 2.2508411407470703, 1.810162901878357, 1.179862141609192, 1.0320258140563965, 1.6078234910964966, 1.058897614479065, 1.058897614479065, 1.058897614479065, 1.058897614479065, 1.058897614479065, 1.058897614479065, 1.058897614479065, 1.0588977336883545, 1.0588977336883545, 1.0588977336883545, 1.0588977336883545, 1.570376992225647, 2.0818557739257812, 2.2508411407470703, 2.2733187675476074, 0.9825500249862671, 0.9825500249862671, 0.9825500249862671, 0.9825500249862671, 0.9825500249862671, 0.9825500249862671, 0.9825500249862671, 0.9825500249862671, 1.0161464214324951, 1.0161464214324951, 1.0161464214324951, 1.0161465406417847, 1.0161464214324951, 1.0161464214324951, 1.0161464214324951, 1.0161464214324951, 1.0161464214324951, 1.0161465406417847, 1.179862141609192, 1.179862141609192, 1.179862141609192, 1.0402876138687134, 1.7705742120742798, 1.1402729749679565, 1.179862141609192, 1.179862141609192, 2.2547082901000977, 1.8101632595062256, 1.140272855758667, 1.140272855758667, 1.0320258140563965, 1.0320258140563965, 1.0161464214324951, 1.0161464214324951, 1.0161464214324951, 1.0161464214324951, 1.0161464214324951, 1.0161464214324951, 1.0161464214324951, 1.0161464214324951, 1.0161464214324951, 1.0161464214324951, 1.0161465406417847, 1.0161465406417847, 1.0161464214324951, 2.3163368701934814, 0.9825500249862671, 0.9825500249862671, 0.9825500249862671, 0.9825500249862671, 0.9825500249862671, 0.9825500249862671, 0.9825500249862671, 0.9825500249862671, 1.0214512348175049, 1.0214512348175049, 1.0214512348175049, 1.0214512348175049, 1.0214512348175049, 1.0214512348175049, 1.0214512348175049, 1.0214512348175049, 1.0214512348175049, 1.179862141609192, 2.2547082901000977, 1.8101632595062256, 2.2733187675476074, 1.179862141609192, 1.0320258140563965, 1.0320258140563965, 1.0320258140563965, 1.179862141609192, 1.179862141609192, 1.179862141609192, 1.179862141609192, 1.179862141609192, 1.8101632595062256, 1.179862141609192, 1.179862141609192, 1.179862141609192, 1.179862141609192, 1.179862141609192, 1.179862141609192, 1.179862141609192, 1.179862141609192, 1.179862141609192, 1.179862141609192, 1.179862141609192, 1.179862141609192, 1.179862141609192, 1.179862141609192, 1.179862141609192, 1.179862141609192, 1.179862141609192, 1.179862141609192, 1.179862141609192, 1.179862141609192, 1.179862141609192, 1.179862141609192, 1.179862141609192, 1.179862141609192, 1.7019155025482178, 1.7019153833389282, 1.8101632595062256, 1.8101632595062256, 1.810162901878357, 2.2508411407470703, 2.2547082901000977, 2.2733187675476074, 2.3163368701934814, 1.032025694847107, 1.032025694847107, 1.032025694847107, 1.032025694847107, 1.032025694847107, 1.032025694847107, 1.0320258140563965, 1.0320258140563965, 1.0320258140563965, 1.0320258140563965, 1.0320258140563965, 1.0320258140563965, 1.7019153833389282, 1.7019155025482178, 2.2508411407470703, 0.9825500249862671, 0.9825500249862671, 0.9825500249862671, 0.9825500249862671, 0.9825500249862671, 0.9825500249862671, 0.9825500249862671, 0.9825500249862671, 1.0161464214324951, 1.0161464214324951, 1.0161464214324951, 1.0161464214324951, 1.0161464214324951, 1.0161464214324951, 1.0161464214324951, 1.0161465406417847, 1.0161464214324951, 1.0161464214324951, 2.1243298053741455, 1.512865424156189, 1.040287733078003, 1.0402876138687134, 1.179862141609192, 1.179862141609192, 1.179862141609192, 1.179862141609192, 2.2733187675476074, 1.179862141609192, 1.179862141609192, 1.140272855758667, 1.179862141609192, 0.9825500249862671, 0.9825500249862671, 0.9825500249862671, 0.9825500249862671, 0.9825500249862671, 0.9825500249862671, 0.9825500249862671, 0.9825500249862671, 1.0161464214324951, 1.0161465406417847, 1.0161464214324951, 1.0161464214324951, 1.0161464214324951, 1.0161464214324951, 1.0161464214324951, 1.0161464214324951, 1.0161464214324951, 1.0161464214324951, 1.0161465406417847, 1.0161464214324951, 1.0161464214324951, 1.0214512348175049, 1.0214512348175049, 1.0214512348175049, 1.0214512348175049, 1.0214512348175049, 1.0214512348175049, 1.0214512348175049, 1.0214512348175049, 1.0214512348175049, 1.179862141609192, 2.0818557739257812, 2.1243298053741455, 1.52708101272583, 1.512865424156189, 1.6078234910964966, 1.0588977336883545, 1.5848188400268555, 1.0588977336883545, 1.0588977336883545, 1.040287733078003, 1.0402876138687134, 2.2547082901000977, 1.810162901878357, 2.2733187675476074, 1.0320258140563965, 1.0320258140563965, 1.0320258140563965, 1.7705742120742798, 1.8101632595062256, 1.570376992225647, 1.7705740928649902, 1.7705742120742798, 1.140272855758667, 1.140273094177246, 1.140273094177246, 1.140273094177246, 1.140272855758667, 1.1402729749679565, 1.140272855758667, 1.140272855758667, 1.140272855758667, 1.140272855758667, 1.140272855758667, 1.140273094177246, 1.140273094177246, 1.140272855758667, 1.140272855758667, 1.810162901878357, 1.8101632595062256, 1.8101632595062256, 2.1243298053741455, 2.3163368701934814, 0.9825500249862671, 0.9825500249862671, 0.9825500249862671, 0.9825500249862671, 0.9825500249862671, 0.9825500249862671, 0.9825500249862671, 0.9825500249862671, 1.0161464214324951, 1.0161465406417847, 2.2733187675476074, 1.179862141609192, 1.179862141609192, 2.2547082901000977, 1.0320258140563965, 1.179862141609192, 1.0545029640197754, 1.0545029640197754, 1.0545029640197754, 1.0545029640197754, 1.0545029640197754, 1.0545029640197754, 1.0545029640197754, 1.0545029640197754, 1.0545029640197754, 1.0545029640197754, 1.0545029640197754, 1.52708101272583, 1.5848188400268555, 2.2547082901000977, 2.2733187675476074, 0.9825500249862671, 0.9825500249862671, 0.9825500249862671, 0.9825500249862671, 0.9825500249862671, 0.9825500249862671, 0.9825500249862671, 0.9825500249862671, 1.0161464214324951, 1.0161464214324951, 1.0161464214324951, 1.0161464214324951, 1.0161464214324951, 1.0161464214324951, 1.0161464214324951, 1.0161465406417847, 1.0161464214324951, 1.0161464214324951, 1.0161465406417847, 1.0161464214324951, 1.0402876138687134, 1.040287733078003, 1.0320258140563965, 1.179862141609192, 1.179862141609192, 1.1402729749679565, 1.179862141609192, 1.140272855758667, 1.179862141609192, 1.140272855758667, 1.140272855758667, 1.140272855758667, 1.179862141609192], \"loglift\": [30.0, 29.0, 28.0, 27.0, 26.0, 25.0, 24.0, 23.0, 22.0, 21.0, 20.0, 19.0, 18.0, 17.0, 16.0, 15.0, 14.0, 13.0, 12.0, 11.0, 10.0, 9.0, 8.0, 7.0, 6.0, 5.0, 4.0, 3.0, 2.0, 1.0, 1.7008999586105347, 1.7008999586105347, 1.7008999586105347, 1.7008999586105347, 1.7008999586105347, 1.7008999586105347, 1.7008999586105347, 1.7008999586105347, 1.7008999586105347, 1.7008999586105347, 1.7008999586105347, 1.7008999586105347, 1.7008999586105347, 1.7008999586105347, 1.3264000415802002, 1.2798999547958374, 0.9273999929428101, -0.6399000287055969, -0.6399000287055969, -0.6399000287055969, -0.6399000287055969, -0.6399000287055969, -0.6399000287055969, -0.6399000287055969, -0.6399000287055969, -0.6735000014305115, -0.6735000014305115, -0.6735000014305115, -0.6735000014305115, -0.6735000014305115, -0.6735000014305115, -0.6735000014305115, -0.6735000014305115, -1.478700041770935, -1.4108999967575073, -0.6890000104904175, -0.8228999972343445, -0.8228999972343445, -1.2509000301361084, -0.8228999972343445, -0.6890000104904175, -0.7146999835968018, -0.8228999972343445, -0.8228999972343445, 1.978700041770935, 1.978700041770935, 1.978700041770935, 1.978700041770935, 1.978700041770935, 1.978700041770935, 1.978700041770935, 1.978700041770935, 1.5470999479293823, 1.5377000570297241, 1.2075999975204468, -0.4528000056743622, -0.4528000056743622, -0.4528000056743622, -0.4528000056743622, -0.4528000056743622, -0.4528000056743622, -0.4528000056743622, -0.4528000056743622, -0.4528000056743622, -0.4528000056743622, -0.4528000056743622, -0.4528000056743622, -0.4528000056743622, -0.4580000042915344, -0.4580000042915344, -0.4580000042915344, -0.4580000042915344, -0.4580000042915344, -0.4580000042915344, -0.4580000042915344, -0.4580000042915344, -0.4580000042915344, -0.4683000147342682, -0.4683000147342682, -0.4683000147342682, -0.6021999716758728, -1.2581000328063965, -1.0302000045776367, -0.6021999716758728, -0.6021999716758728, -0.6021999716758728, -0.6021999716758728, -0.6021999716758728, -0.6021999716758728, -0.6021999716758728, -1.0081000328063965, -0.5680999755859375, -0.5680999755859375, -0.5680999755859375, -0.5680999755859375, -0.5680999755859375, 1.86080002784729, 1.86080002784729, 1.86080002784729, 1.86080002784729, 1.86080002784729, 1.86080002784729, 1.86080002784729, 1.86080002784729, 1.86080002784729, 1.7954000234603882, 1.4306999444961548, 1.128499984741211, -0.4982999861240387, -0.4982999861240387, -0.4982999861240387, -0.4982999861240387, -0.4982999861240387, -0.4982999861240387, -0.4982999861240387, -0.4982999861240387, -0.5318999886512756, -0.5318999886512756, -0.5318999886512756, -0.5318999886512756, -0.5318999886512756, -0.5318999886512756, -0.5318999886512756, -0.5318999886512756, -0.5318999886512756, -0.5318999886512756, -0.5318999886512756, -0.5318999886512756, -0.5318999886512756, -0.9908000230789185, -0.5473999977111816, -0.5473999977111816, -0.555400013923645, -0.555400013923645, -1.3371000289916992, -0.9298999905586243, -1.3288999795913696, -0.5473999977111816, -0.555400013923645, -0.555400013923645, -0.555400013923645, -1.3272000551223755, -1.1093000173568726, -0.6812999844551086, -0.5473999977111816, 1.9121999740600586, 1.6832000017166138, 1.6832000017166138, 1.6832000017166138, 1.6832000017166138, 1.6832000017166138, 1.6832000017166138, 1.6832000017166138, 1.6832000017166138, 1.6832000017166138, 1.6832000017166138, 1.6832000017166138, 1.2891000509262085, 1.007099986076355, 0.929099977016449, 0.9192000031471252, -0.6399000287055969, -0.6399000287055969, -0.6399000287055969, -0.6399000287055969, -0.6399000287055969, -0.6399000287055969, -0.6399000287055969, -0.6399000287055969, -0.6735000014305115, -0.6735000014305115, -0.6735000014305115, -0.6735000014305115, -0.6735000014305115, -0.6735000014305115, -0.6735000014305115, -0.6735000014305115, -0.6735000014305115, -0.6735000014305115, -0.8228999972343445, -0.8228999972343445, -0.8228999972343445, -0.6970000267028809, -1.2288000583648682, -0.7888000011444092, -0.8228999972343445, -0.8228999972343445, -1.4704999923706055, -1.2509000301361084, -0.7888000011444092, -0.7888000011444092, -0.6890000104904175, -0.6890000104904175, 1.8286999464035034, 1.8286999464035034, 1.8286999464035034, 1.8286999464035034, 1.8286999464035034, 1.8286999464035034, 1.8286999464035034, 1.8286999464035034, 1.8286999464035034, 1.8286999464035034, 1.8286999464035034, 1.8286999464035034, 1.8286999464035034, 1.004699945449829, -0.5356000065803528, -0.5356000065803528, -0.5356000065803528, -0.5356000065803528, -0.5356000065803528, -0.5356000065803528, -0.5356000065803528, -0.5356000065803528, -0.5745000243186951, -0.5745000243186951, -0.5745000243186951, -0.5745000243186951, -0.5745000243186951, -0.5745000243186951, -0.5745000243186951, -0.5745000243186951, -0.5745000243186951, -0.7185999751091003, -1.3661999702453613, -1.1466000080108643, -1.374500036239624, -0.7185999751091003, -0.5846999883651733, -0.5846999883651733, -0.5846999883651733, -0.7185999751091003, -0.7185999751091003, -0.7185999751091003, -0.7185999751091003, -0.7185999751091003, -1.1466000080108643, -0.7185999751091003, -0.7185999751091003, 1.195199966430664, 1.195199966430664, 1.195199966430664, 1.195199966430664, 1.195199966430664, 1.195199966430664, 1.195199966430664, 1.195199966430664, 1.195199966430664, 1.195199966430664, 1.195199966430664, 1.195199966430664, 1.195199966430664, 1.195199966430664, 1.195199966430664, 1.195199966430664, 1.195199966430664, 1.195199966430664, 1.195199966430664, 1.195199966430664, 1.195199966430664, 1.195199966430664, 0.8288000226020813, 0.8288000226020813, 0.7671999931335449, 0.7671999931335449, 0.7670999765396118, 0.5493000149726868, 0.5475000143051147, 0.5393000245094299, 0.5206000208854675, 1.7771999835968018, 1.7771999835968018, 1.7771999835968018, 1.7771999835968018, 1.7771999835968018, 1.7771999835968018, 1.7771999835968018, 1.7771999835968018, 1.7771999835968018, 1.7771999835968018, 1.7771999835968018, 1.7771999835968018, 1.276900053024292, 1.276900053024292, 0.9973999857902527, -0.5716000199317932, -0.5716000199317932, -0.5716000199317932, -0.5716000199317932, -0.5716000199317932, -0.5716000199317932, -0.5716000199317932, -0.5716000199317932, -0.6051999926567078, -0.6051999926567078, -0.6051999926567078, -0.6051999926567078, -0.6051999926567078, -0.6051999926567078, -0.6051999926567078, -0.6051999926567078, -0.6051999926567078, -0.6051999926567078, -1.3427000045776367, -1.0032000541687012, -0.6287000179290771, -0.6287000179290771, -0.7545999884605408, -0.7545999884605408, -0.7545999884605408, -0.7545999884605408, -1.4104000329971313, -0.7545999884605408, -0.7545999884605408, -0.7204999923706055, -0.7545999884605408, 0.1835000067949295, 0.1835000067949295, 0.1835000067949295, 0.1835000067949295, 0.1835000067949295, 0.1835000067949295, 0.1835000067949295, 0.1835000067949295, 0.14990000426769257, 0.14990000426769257, 0.14990000426769257, 0.14990000426769257, 0.14990000426769257, 0.14990000426769257, 0.14990000426769257, 0.14990000426769257, 0.14990000426769257, 0.14990000426769257, 0.14990000426769257, 0.14990000426769257, 0.14990000426769257, 0.14470000565052032, 0.14470000565052032, 0.14470000565052032, 0.14470000565052032, 0.14470000565052032, 0.14470000565052032, 0.14470000565052032, 0.14470000565052032, 0.14470000565052032, 0.0005000000237487257, -0.5673999786376953, -0.5875999927520752, -0.2574999928474426, -0.24809999763965607, -0.3089999854564667, 0.10869999974966049, -0.2946000099182129, 0.10869999974966049, 0.10869999974966049, 0.12639999389648438, 0.12639999389648438, -0.6470999717712402, -0.42750000953674316, -0.6553000211715698, 0.13439999520778656, 0.13439999520778656, 0.13439999520778656, -0.40540000796318054, -0.42750000953674316, -0.28540000319480896, 1.6079000234603882, 1.6079000234603882, 1.4012999534606934, 1.4012999534606934, 1.4012999534606934, 1.4012999534606934, 1.4012999534606934, 1.4012999534606934, 1.4012999534606934, 1.4012999534606934, 1.4012999534606934, 1.4012999534606934, 1.4012999534606934, 1.4012999534606934, 1.4012999534606934, 1.4012999534606934, 1.4012999534606934, 0.9391999840736389, 0.9391000270843506, 0.9391000270843506, 0.7791000008583069, 0.6926000118255615, -0.8476999998092651, -0.8476999998092651, -0.8476999998092651, -0.8476999998092651, -0.8476999998092651, -0.8476999998092651, -0.8476999998092651, -0.8476999998092651, -0.8812999725341797, -0.8812999725341797, -1.6865999698638916, -1.0306999683380127, -1.0306999683380127, -1.6784000396728516, -0.8968999981880188, -1.0306999683380127, 1.7555999755859375, 1.7555999755859375, 1.7555999755859375, 1.7555999755859375, 1.7555999755859375, 1.7555999755859375, 1.7555999755859375, 1.7555999755859375, 1.7555999755859375, 1.7555999755859375, 1.7555999755859375, 1.3853000402450562, 1.3481999635696411, 0.9957000017166138, 0.987500011920929, -0.5716000199317932, -0.5716000199317932, -0.5716000199317932, -0.5716000199317932, -0.5716000199317932, -0.5716000199317932, -0.5716000199317932, -0.5716000199317932, -0.6051999926567078, -0.6051999926567078, -0.6051999926567078, -0.6051999926567078, -0.6051999926567078, -0.6051999926567078, -0.6051999926567078, -0.6051999926567078, -0.6051999926567078, -0.6051999926567078, -0.6051999926567078, -0.6051999926567078, -0.6287000179290771, -0.6287000179290771, -0.6207000017166138, -0.7545999884605408, -0.7545999884605408, -0.7204999923706055, -0.7545999884605408, -0.7204999923706055, -0.7545999884605408, -0.7204999923706055, -0.7204999923706055, -0.7204999923706055, -0.7545999884605408], \"logprob\": [30.0, 29.0, 28.0, 27.0, 26.0, 25.0, 24.0, 23.0, 22.0, 21.0, 20.0, 19.0, 18.0, 17.0, 16.0, 15.0, 14.0, 13.0, 12.0, 11.0, 10.0, 9.0, 8.0, 7.0, 6.0, 5.0, 4.0, 3.0, 2.0, 1.0, -3.3157999515533447, -3.3157999515533447, -3.3157999515533447, -3.3157999515533447, -3.3157999515533447, -3.3157999515533447, -3.3157999515533447, -3.3157999515533447, -3.3157999515533447, -3.3157999515533447, -3.3157999515533447, -3.3157999515533447, -3.3157999515533447, -3.3157999515533447, -3.3157999515533447, -3.3157999515533447, -3.3157999515533447, -5.713699817657471, -5.713699817657471, -5.713699817657471, -5.713699817657471, -5.713699817657471, -5.713699817657471, -5.713699817657471, -5.713699817657471, -5.713699817657471, -5.713699817657471, -5.713699817657471, -5.713699817657471, -5.713699817657471, -5.713699817657471, -5.713699817657471, -5.713699817657471, -5.713699817657471, -5.713699817657471, -5.713699817657471, -5.713699817657471, -5.713699817657471, -5.713699817657471, -5.713699817657471, -5.713699817657471, -5.713699817657471, -5.713699817657471, -5.713699817657471, -3.0952000617980957, -3.0952000617980957, -3.0952000617980957, -3.0952000617980957, -3.0952000617980957, -3.0952000617980957, -3.0952000617980957, -3.0952000617980957, -3.0952000617980957, -3.0952000617980957, -3.0952000617980957, -5.493100166320801, -5.493100166320801, -5.493100166320801, -5.493100166320801, -5.493100166320801, -5.493100166320801, -5.493100166320801, -5.493100166320801, -5.493100166320801, -5.493100166320801, -5.493100166320801, -5.493100166320801, -5.493100166320801, -5.493100166320801, -5.493100166320801, -5.493100166320801, -5.493100166320801, -5.493100166320801, -5.493100166320801, -5.493100166320801, -5.493100166320801, -5.493100166320801, -5.493100166320801, -5.493100166320801, -5.493100166320801, -5.493100166320801, -5.493100166320801, -5.493100166320801, -5.493100166320801, -5.493100166320801, -5.493100166320801, -5.493100166320801, -5.493100166320801, -5.493100166320801, -5.493100166320801, -5.493100166320801, -5.493100166320801, -5.493100166320801, -5.493100166320801, -5.493100166320801, -5.493100166320801, -3.174299955368042, -3.174299955368042, -3.174299955368042, -3.174299955368042, -3.174299955368042, -3.174299955368042, -3.174299955368042, -3.174299955368042, -3.174299955368042, -2.527600049972534, -3.174299955368042, -3.174299955368042, -5.572199821472168, -5.572199821472168, -5.572199821472168, -5.572199821472168, -5.572199821472168, -5.572199821472168, -5.572199821472168, -5.572199821472168, -5.572199821472168, -5.572199821472168, -5.572199821472168, -5.572199821472168, -5.572199821472168, -5.572199821472168, -5.572199821472168, -5.572199821472168, -5.572199821472168, -5.572199821472168, -5.572199821472168, -5.572199821472168, -5.572199821472168, -5.572199821472168, -5.572199821472168, -5.572199821472168, -5.572199821472168, -5.572199821472168, -5.572199821472168, -5.572199821472168, -5.572199821472168, -5.572199821472168, -5.572199821472168, -5.572199821472168, -5.572199821472168, -5.572199821472168, -5.572199821472168, -5.572199821472168, -5.572199821472168, -2.6691999435424805, -3.3157999515533447, -3.3157999515533447, -3.3157999515533447, -3.3157999515533447, -3.3157999515533447, -3.3157999515533447, -3.3157999515533447, -3.3157999515533447, -3.3157999515533447, -3.3157999515533447, -3.3157999515533447, -3.3157999515533447, -3.3159000873565674, -3.3157999515533447, -3.3157999515533447, -5.713699817657471, -5.713699817657471, -5.713699817657471, -5.713699817657471, -5.713699817657471, -5.713699817657471, -5.713699817657471, -5.713699817657471, -5.713699817657471, -5.713699817657471, -5.713699817657471, -5.713699817657471, -5.713699817657471, -5.713699817657471, -5.713699817657471, -5.713699817657471, -5.713699817657471, -5.713699817657471, -5.713699817657471, -5.713699817657471, -5.713699817657471, -5.713699817657471, -5.713699817657471, -5.713699817657471, -5.713699817657471, -5.713699817657471, -5.713699817657471, -5.713699817657471, -5.713699817657471, -5.713699817657471, -5.713699817657471, -5.713699817657471, -3.2116000652313232, -3.2116000652313232, -3.2116000652313232, -3.2116000652313232, -3.2116000652313232, -3.2116000652313232, -3.2116000652313232, -3.2116000652313232, -3.2116000652313232, -3.2116000652313232, -3.2116000652313232, -3.2116000652313232, -3.2116000652313232, -3.2116000652313232, -5.609499931335449, -5.609499931335449, -5.609499931335449, -5.609499931335449, -5.609499931335449, -5.609499931335449, -5.609499931335449, -5.609499931335449, -5.609499931335449, -5.609499931335449, -5.609499931335449, -5.609499931335449, -5.609499931335449, -5.609499931335449, -5.609499931335449, -5.609499931335449, -5.609499931335449, -5.609499931335449, -5.609499931335449, -5.609499931335449, -5.609499931335449, -5.609499931335449, -5.609499931335449, -5.609499931335449, -5.609499931335449, -5.609499931335449, -5.609499931335449, -5.609499931335449, -5.609499931335449, -5.609499931335449, -5.609499931335449, -5.609499931335449, -5.609499931335449, -3.69569993019104, -3.69569993019104, -3.69569993019104, -3.69569993019104, -3.69569993019104, -3.69569993019104, -3.69569993019104, -3.69569993019104, -3.69569993019104, -3.69569993019104, -3.69569993019104, -3.69569993019104, -3.69569993019104, -3.69569993019104, -3.69569993019104, -3.69569993019104, -3.69569993019104, -3.69569993019104, -3.69569993019104, -3.69569993019104, -3.69569993019104, -3.69569993019104, -3.69569993019104, -3.69569993019104, -3.69569993019104, -3.69569993019104, -3.69569993019104, -3.69569993019104, -3.69569993019104, -3.69569993019104, -3.69569993019104, -3.2476000785827637, -3.2476000785827637, -3.2476000785827637, -3.2476000785827637, -3.2476000785827637, -3.2476000785827637, -3.2476000785827637, -3.2476000785827637, -3.2476000785827637, -3.2476000785827637, -3.2476000785827637, -3.2476000785827637, -3.247499942779541, -3.247499942779541, -3.247499942779541, -5.645400047302246, -5.645400047302246, -5.645400047302246, -5.645400047302246, -5.645400047302246, -5.645400047302246, -5.645400047302246, -5.645400047302246, -5.645400047302246, -5.645400047302246, -5.645400047302246, -5.645400047302246, -5.645400047302246, -5.645400047302246, -5.645400047302246, -5.645400047302246, -5.645400047302246, -5.645400047302246, -5.645400047302246, -5.645400047302246, -5.645400047302246, -5.645400047302246, -5.645400047302246, -5.645400047302246, -5.645400047302246, -5.645400047302246, -5.645400047302246, -5.645400047302246, -5.645400047302246, -5.645400047302246, -5.645400047302246, -4.8902997970581055, -4.8902997970581055, -4.8902997970581055, -4.8902997970581055, -4.8902997970581055, -4.8902997970581055, -4.8902997970581055, -4.8902997970581055, -4.8902997970581055, -4.8902997970581055, -4.8902997970581055, -4.8902997970581055, -4.8902997970581055, -4.8902997970581055, -4.8902997970581055, -4.8902997970581055, -4.8902997970581055, -4.8902997970581055, -4.8902997970581055, -4.8902997970581055, -4.8902997970581055, -4.8902997970581055, -4.8902997970581055, -4.8902997970581055, -4.8902997970581055, -4.8902997970581055, -4.8902997970581055, -4.8902997970581055, -4.8902997970581055, -4.8902997970581055, -4.8902997970581055, -4.8902997970581055, -4.8902997970581055, -4.8902997970581055, -4.8902997970581055, -4.8902997970581055, -4.8902997970581055, -4.8902997970581055, -4.8902997970581055, -4.8902997970581055, -4.8902997970581055, -4.8902997970581055, -4.8902997970581055, -4.8902997970581055, -4.8902997970581055, -4.8902997970581055, -4.8902997970581055, -4.8902997970581055, -4.8902997970581055, -4.8902997970581055, -4.8902997970581055, -2.8770999908447266, -2.8770999908447266, -3.523699998855591, -3.523699998855591, -3.523699998855591, -3.523699998855591, -3.523699998855591, -3.523699998855591, -3.523699998855591, -3.523699998855591, -3.523699998855591, -3.523699998855591, -3.523699998855591, -3.523699998855591, -3.523699998855591, -3.523699998855591, -3.523699998855591, -3.523699998855591, -3.523699998855591, -3.523699998855591, -3.523699998855591, -3.523699998855591, -5.921599864959717, -5.921599864959717, -5.921599864959717, -5.921599864959717, -5.921599864959717, -5.921599864959717, -5.921599864959717, -5.921599864959717, -5.921599864959717, -5.921599864959717, -5.921599864959717, -5.921599864959717, -5.921599864959717, -5.921599864959717, -5.921599864959717, -5.921599864959717, -3.2476000785827637, -3.2476000785827637, -3.2476000785827637, -3.2476000785827637, -3.2476000785827637, -3.2476000785827637, -3.2476000785827637, -3.2476000785827637, -3.2476000785827637, -3.2476000785827637, -3.2476000785827637, -3.2476000785827637, -3.2476000785827637, -3.247499942779541, -3.247499942779541, -5.645400047302246, -5.645400047302246, -5.645400047302246, -5.645400047302246, -5.645400047302246, -5.645400047302246, -5.645400047302246, -5.645400047302246, -5.645400047302246, -5.645400047302246, -5.645400047302246, -5.645400047302246, -5.645400047302246, -5.645400047302246, -5.645400047302246, -5.645400047302246, -5.645400047302246, -5.645400047302246, -5.645400047302246, -5.645400047302246, -5.645400047302246, -5.645400047302246, -5.645400047302246, -5.645400047302246, -5.645400047302246, -5.645400047302246, -5.645400047302246, -5.645400047302246, -5.645400047302246, -5.645400047302246, -5.645400047302246, -5.645400047302246, -5.645400047302246]}, \"token.table\": {\"Topic\": [7, 2, 3, 9, 7, 5, 9, 4, 3, 5, 6, 9, 7, 10, 3, 4, 6, 1, 6, 2, 1, 1, 6, 5, 6, 9, 9, 9, 6, 2, 5, 10, 9, 7, 3, 4, 6, 7, 4, 7, 1, 2, 6, 7, 5, 5, 4, 6, 6, 7, 9, 6, 9, 7, 10, 4, 6, 3, 4, 1, 3, 6, 1, 6, 7, 4, 4, 5, 4, 3, 5, 1, 5, 10, 5, 5, 6, 6, 3, 10, 7, 9, 3, 4, 6, 6, 6, 1, 2, 2, 4, 1, 1, 6, 10, 1, 9, 6, 10, 6, 6, 9, 7, 6, 5, 7, 10, 3, 5, 9, 4, 2, 10, 6, 9, 5, 1, 7, 4, 10, 9, 9, 1, 1, 10, 1, 4, 6, 10, 9, 6, 9, 2, 3, 10, 4, 2, 10, 9, 2, 3, 9, 6, 6, 2, 9, 6, 7, 9, 1, 6, 1, 10], \"Freq\": [0.9689680933952332, 1.017759919166565, 0.9789992570877075, 0.876983106136322, 0.9689680933952332, 0.9841101169586182, 0.876983106136322, 0.6219587922096252, 0.9789992570877075, 0.9841101169586182, 0.8475566506385803, 0.876983106136322, 0.9689680337905884, 0.9483140707015991, 0.4803406596183777, 0.4803406596183777, 0.8475566506385803, 0.9612725377082825, 0.8475566506385803, 1.017759919166565, 0.9612725377082825, 0.9612725973129272, 0.8475566506385803, 0.4317161440849304, 0.4317161440849304, 0.4317161440849304, 0.5647885799407959, 0.8769828677177429, 0.8475566506385803, 1.017759919166565, 0.9841101169586182, 0.9483140707015991, 0.876983106136322, 0.9689680337905884, 0.9789992570877075, 0.444278359413147, 0.444278359413147, 0.444278359413147, 0.9443782567977905, 0.9689680337905884, 0.9612725377082825, 1.017759919166565, 0.8475566506385803, 0.9689680933952332, 0.9841101169586182, 0.9841099977493286, 0.9443783760070801, 0.8475566506385803, 0.5875732898712158, 0.5875732898712158, 0.8769828677177429, 0.5524364709854126, 0.5524364709854126, 0.9689680933952332, 0.9483140707015991, 0.9443783760070801, 0.8475566506385803, 0.9789992570877075, 0.9443783760070801, 0.9612725377082825, 0.9789992570877075, 0.8475566506385803, 0.9612725973129272, 0.8475566506385803, 0.9689680337905884, 0.9443782567977905, 0.9443783760070801, 0.9841099977493286, 0.9443783760070801, 0.9789992570877075, 0.9841101169586182, 0.9612725377082825, 0.9841101169586182, 0.9483140707015991, 0.9841101169586182, 0.9841101169586182, 0.8475566506385803, 0.8475566506385803, 0.9789992570877075, 0.9483140707015991, 0.9689680933952332, 0.876983106136322, 0.6367897391319275, 0.6367897391319275, 0.8475566506385803, 0.8475566506385803, 0.8475566506385803, 0.6609973311424255, 0.6609973311424255, 1.017759919166565, 0.9443782567977905, 0.9612725973129272, 0.443516343832016, 0.443516343832016, 0.443516343832016, 0.9612725377082825, 0.8769828677177429, 0.8475566506385803, 0.9483140707015991, 0.8475566506385803, 0.552436351776123, 0.552436351776123, 0.9689680337905884, 0.8475566506385803, 0.9841101169586182, 0.9689680933952332, 0.9483140707015991, 0.9789992570877075, 0.9841101169586182, 0.876983106136322, 0.9443783760070801, 1.017759919166565, 0.9483140707015991, 0.552436351776123, 0.552436351776123, 0.9841101169586182, 0.9612725377082825, 0.9689680337905884, 0.9443783760070801, 0.9483140707015991, 0.876983106136322, 0.8769829869270325, 0.9612725973129272, 0.6309869289398193, 0.6309869289398193, 0.9612725377082825, 0.43988552689552307, 0.43988552689552307, 0.43988552689552307, 0.5647885203361511, 0.8475566506385803, 0.8769828677177429, 1.017759919166565, 0.9789992570877075, 0.9483140707015991, 0.9443782567977905, 0.6548441052436829, 0.6548441052436829, 0.8769828677177429, 0.47073671221733093, 0.47073671221733093, 0.47073671221733093, 0.8475566506385803, 0.8475566506385803, 1.017759919166565, 0.876983106136322, 0.587573230266571, 0.587573230266571, 0.876983106136322, 0.9612725973129272, 0.8475566506385803, 0.9612725973129272, 0.9483140707015991], \"Term\": [\"64-bit\", \"802.11\", \"adaptation\", \"adaptive\", \"adder\", \"adjustment\", \"affine\", \"algorithm\", \"analog\", \"appeal\", \"application\", \"architectural\", \"articulate\", \"balancing\", \"base\", \"base\", \"boltzmann\", \"business\", \"circuit\", \"clock\", \"cockpit\", \"column\", \"complex\", \"control\", \"control\", \"control\", \"controller\", \"correction\", \"damp\", \"database\", \"deaggregation\", \"decimators\", \"decision\", \"deformation\", \"denoising\", \"design\", \"design\", \"design\", \"detection\", \"directional\", \"discovery\", \"distribute\", \"dtmos\", \"dynamic\", \"economic\", \"effect\", \"efficient\", \"enable\", \"energy\", \"energy\", \"experimental\", \"factor\", \"factor\", \"feedthrough\", \"filter\", \"filterbank\", \"fluid\", \"fluorescence\", \"force\", \"foreign\", \"front\", \"function\", \"future\", \"geometry\", \"graph\", \"grover\", \"hardware\", \"heavenly\", \"imdst\", \"implementation\", \"incorporate\", \"independent\", \"interpolation\", \"interpolators\", \"keyframe\", \"kinetic\", \"latency\", \"lattice\", \"lifetime\", \"linear\", \"logic\", \"making\", \"measurement\", \"measurement\", \"method\", \"mobility\", \"mtcmos\", \"multi\", \"multi\", \"multimedia\", \"multiuser\", \"namespace\", \"network\", \"network\", \"network\", \"night\", \"novel\", \"numerical\", \"nyquist\", \"optimization\", \"optimize\", \"optimize\", \"orthogonal\", \"pagerank\", \"parametric\", \"performance\", \"phase\", \"photodiode\", \"phrasing\", \"piecewise\", \"piezoelectric\", \"pipeline\", \"polyhedron\", \"power\", \"power\", \"prefix\", \"process\", \"range\", \"recursive\", \"representation\", \"restful\", \"right\", \"robust\", \"route\", \"route\", \"scalable\", \"sensor\", \"sensor\", \"sensor\", \"services\", \"simulation\", \"sinusoidal\", \"smooth\", \"speed\", \"spherical\", \"static\", \"structure\", \"structure\", \"synthesis\", \"system\", \"system\", \"system\", \"technique\", \"trade\", \"transceiver\", \"ultra\", \"using\", \"using\", \"validation\", \"virtual\", \"voltage\", \"warmth\", \"wireless\"]}, \"R\": 30, \"lambda.step\": 0.01, \"plot.opts\": {\"xlab\": \"PC1\", \"ylab\": \"PC2\"}, \"topic.order\": [1, 2, 3, 4, 5, 6, 7, 8, 9, 10]};\n",
              "\n",
              "function LDAvis_load_lib(url, callback){\n",
              "  var s = document.createElement('script');\n",
              "  s.src = url;\n",
              "  s.async = true;\n",
              "  s.onreadystatechange = s.onload = callback;\n",
              "  s.onerror = function(){console.warn(\"failed to load library \" + url);};\n",
              "  document.getElementsByTagName(\"head\")[0].appendChild(s);\n",
              "}\n",
              "\n",
              "if(typeof(LDAvis) !== \"undefined\"){\n",
              "   // already loaded: just create the visualization\n",
              "   !function(LDAvis){\n",
              "       new LDAvis(\"#\" + \"ldavis_el1241402554169385689476798554\", ldavis_el1241402554169385689476798554_data);\n",
              "   }(LDAvis);\n",
              "}else if(typeof define === \"function\" && define.amd){\n",
              "   // require.js is available: use it to load d3/LDAvis\n",
              "   require.config({paths: {d3: \"https://cdnjs.cloudflare.com/ajax/libs/d3/3.5.5/d3.min\"}});\n",
              "   require([\"d3\"], function(d3){\n",
              "      window.d3 = d3;\n",
              "      LDAvis_load_lib(\"https://cdn.rawgit.com/bmabey/pyLDAvis/files/ldavis.v1.0.0.js\", function(){\n",
              "        new LDAvis(\"#\" + \"ldavis_el1241402554169385689476798554\", ldavis_el1241402554169385689476798554_data);\n",
              "      });\n",
              "    });\n",
              "}else{\n",
              "    // require.js not available: dynamically load d3 & LDAvis\n",
              "    LDAvis_load_lib(\"https://cdnjs.cloudflare.com/ajax/libs/d3/3.5.5/d3.min.js\", function(){\n",
              "         LDAvis_load_lib(\"https://cdn.rawgit.com/bmabey/pyLDAvis/files/ldavis.v1.0.0.js\", function(){\n",
              "                 new LDAvis(\"#\" + \"ldavis_el1241402554169385689476798554\", ldavis_el1241402554169385689476798554_data);\n",
              "            })\n",
              "         });\n",
              "}\n",
              "</script>"
            ],
            "text/plain": [
              "<IPython.core.display.HTML object>"
            ]
          },
          "metadata": {
            "tags": []
          },
          "execution_count": 62
        }
      ]
    },
    {
      "cell_type": "markdown",
      "metadata": {
        "id": "nLLc4M-NLtw-",
        "colab_type": "text"
      },
      "source": [
        "We can see that more  than one node can have similarities between them ."
      ]
    },
    {
      "cell_type": "code",
      "metadata": {
        "id": "sRbMRGXnLJyp",
        "colab_type": "code",
        "colab": {}
      },
      "source": [
        ""
      ],
      "execution_count": 0,
      "outputs": []
    },
    {
      "cell_type": "code",
      "metadata": {
        "id": "HPW6l0iYLJdk",
        "colab_type": "code",
        "colab": {}
      },
      "source": [
        ""
      ],
      "execution_count": 0,
      "outputs": []
    }
  ]
}